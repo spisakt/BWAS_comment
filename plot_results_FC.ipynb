{
 "cells": [
  {
   "cell_type": "markdown",
   "metadata": {},
   "source": [
    "# Replicability of functional connectivity-based multivariate BWAS - figures\n",
    "\n",
    "Plots from this notebook are saved into the directory `fig`."
   ]
  },
  {
   "cell_type": "markdown",
   "metadata": {},
   "source": [
    "### Imports"
   ]
  },
  {
   "cell_type": "code",
   "execution_count": 10,
   "metadata": {},
   "outputs": [],
   "source": [
    "import math\n",
    "import numpy as np\n",
    "from scipy import stats\n",
    "import pandas as pd\n",
    "import seaborn as sns\n",
    "import matplotlib.pyplot as plt\n",
    "sns.set(rc={\"figure.figsize\":(3, 3)})\n",
    "sns.set_style(\"white\")"
   ]
  },
  {
   "cell_type": "markdown",
   "metadata": {},
   "source": [
    "# Define Plotting function\n",
    "This function takes a dataframe created in the notebook `multivariate_BWAS_replicability_analysis.ipynb`\n",
    "and recreates the \"Replication plots\" from the target paper (Fig.4) for a given target variable and feature set."
   ]
  },
  {
   "cell_type": "code",
   "execution_count": 11,
   "metadata": {},
   "outputs": [],
   "source": [
    "def plot(target, feature, df, alpha=0.05, cv_only=True, filetag=None, ylim=None, xlim=None):\n",
    "    sns.set(rc={\"figure.figsize\":(3, 3)})\n",
    "    sns.set_style(\"white\")\n",
    "    tmp = df.loc[(df.target==target) & (df.connectivity==feature)]\n",
    "    if not cv_only:\n",
    "        sns.scatterplot(x='r_replication', y='r_discovery_overfit', hue='n', data=tmp, palette='Greens_r', linewidth=0, hue_norm=(0,tmp.n.max()*1.5))\n",
    "        sns.scatterplot(x=[tmp.loc[tmp.n==200, 'r_replication'].mean()], y=[tmp.loc[tmp.n==200, 'r_discovery_overfit'].mean()], color='red')\n",
    "        sns.scatterplot(x=[tmp.loc[tmp.n==tmp.n.max(), 'r_replication'].mean()], y=[tmp.loc[tmp.n==tmp.n.max(), 'r_discovery_overfit'].mean()], color='purple').set(title='Discovery without CV (overfit)')\n",
    "        plt.axhline(0, color='gray')\n",
    "        plt.axvline(0, color='gray')\n",
    "        plt.axvline(0.088, linestyle='dotted')\n",
    "        plt.axhline(0.088, linestyle='dotted')\n",
    "        plt.axvline(0.088, linestyle='dotted')\n",
    "        plt.legend(bbox_to_anchor=(1.2, 1), loc=2, borderaxespad=0.)\n",
    "        if ylim:\n",
    "            plt.ylim(ylim)\n",
    "        if xlim:\n",
    "            plt.xlim(xlim)\n",
    "        sns.despine()\n",
    "        if filetag:\n",
    "            plt.savefig('fig/overfit_scatter_' + target + '_' + feature + '_' + filetag + '.pdf')\n",
    "        plt.show()\n",
    "\n",
    "        for n in tmp.n.unique():\n",
    "            tmp2 = tmp[tmp.n == n]\n",
    "\n",
    "            if (tmp2['p_discovery_overfit']<alpha).sum() == 0:\n",
    "                replication_prob = 'no discovery'\n",
    "            else:\n",
    "                 #      #(significant replications among significant discoveries)     / # significant discoveries\n",
    "                replication_prob = (tmp2.loc[tmp2['p_discovery_overfit']<alpha,'p_replication']<alpha).sum() / (tmp2['p_discovery_overfit']<alpha).sum() * 100\n",
    "                print(\"Replication probability at n =\", n, ':', replication_prob, '%')\n",
    "        \n",
    "    sns.scatterplot(x='r_replication', y='r_discovery_cv', hue='n', data=tmp, palette='Greens_r', linewidth=0, hue_norm=(0,tmp.n.max()*1.5))\n",
    "    sns.scatterplot(x=[tmp.loc[tmp.n==200, 'r_replication'].mean()], y=[tmp.loc[tmp.n==200, 'r_discovery_cv'].mean()], color='red')\n",
    "    sns.scatterplot(x=[tmp.loc[tmp.n==tmp.n.max(), 'r_replication'].mean()], y=[tmp.loc[tmp.n==tmp.n.max(), 'r_discovery_cv'].mean()], color='purple').set(title='Discovery with CV')\n",
    "    plt.axhline(0, color='gray')\n",
    "    plt.axvline(0, color='gray')\n",
    "    plt.axhline(0.088, linestyle='dotted')\n",
    "    plt.axvline(0.088, linestyle='dotted')\n",
    "    plt.legend(bbox_to_anchor=(1.2, 1), loc=2, borderaxespad=0.)\n",
    "    if ylim:\n",
    "        plt.ylim(ylim)\n",
    "    if xlim:\n",
    "        plt.xlim(xlim)\n",
    "    sns.despine()\n",
    "    if filetag:\n",
    "        plt.savefig('fig/scatter_' + target + '_' + feature + '_' + filetag + '.pdf')\n",
    "    plt.show()\n",
    "\n",
    "    for n in tmp.n.unique():\n",
    "        tmp2 = tmp[tmp.n == n]\n",
    "\n",
    "        if (tmp2['p_discovery_cv']<alpha).sum() == 0:\n",
    "            replication_prob = 'no discovery'\n",
    "        else:\n",
    "             #      #(significant replications among significant discoveries)     / # significant discoveries\n",
    "            replication_prob = (tmp2.loc[tmp2['p_discovery_cv']<alpha,'p_replication']<alpha).sum() / (tmp2['p_discovery_cv']<alpha).sum() * 100\n",
    "\n",
    "        print(\"Replication probability at n =\", n, ':', replication_prob, '%')\n",
    "\n",
    "    return {'r_rep_200': tmp.loc[tmp.n==200, 'r_replication'].mean(),\n",
    "            'r_rep_max': tmp.loc[tmp.n==tmp.n.max(), 'r_replication'].mean()}\n"
   ]
  },
  {
   "cell_type": "markdown",
   "metadata": {},
   "source": [
    "## Possible targets:\n",
    "'age', 'CogTotalComp_AgeAdj', 'PMAT24_A_CR', 'Flanker_AgeAdj', 'CardSort_AgeAdj', 'PicSeq_AgeAdj'\n",
    "## Possible features\n",
    "'netmats_parcor', 'netmats_pearson'"
   ]
  },
  {
   "cell_type": "markdown",
   "metadata": {},
   "source": [
    "# Cognitive ability, PCA+SVR, pearson correlation\n",
    "This basically reproduces Fig. 4 of the target paper with a highly similar methodology."
   ]
  },
  {
   "cell_type": "code",
   "execution_count": 14,
   "metadata": {},
   "outputs": [
    {
     "data": {
      "image/png": "[encoded data removed]",
      "text/plain": [
       "<Figure size 216x216 with 1 Axes>"
      ]
     },
     "metadata": {},
     "output_type": "display_data"
    },
    {
     "name": "stdout",
     "output_type": "stream",
     "text": [
      "Replication probability at n = 50 : 11.0 %\n",
      "Replication probability at n = 100 : 17.0 %\n",
      "Replication probability at n = 200 : 43.0 %\n",
      "Replication probability at n = 300 : 72.0 %\n",
      "Replication probability at n = 495 : 100.0 %\n"
     ]
    },
    {
     "data": {
      "image/png": "[encoded data removed]",
      "text/plain": [
       "<Figure size 216x216 with 1 Axes>"
      ]
     },
     "metadata": {},
     "output_type": "display_data"
    },
    {
     "name": "stdout",
     "output_type": "stream",
     "text": [
      "Replication probability at n = 50 : no discovery %\n",
      "Replication probability at n = 100 : 0.0 %\n",
      "Replication probability at n = 200 : 25.0 %\n",
      "Replication probability at n = 300 : 62.16216216216216 %\n",
      "Replication probability at n = 495 : 100.0 %\n"
     ]
    },
    {
     "data": {
      "text/plain": [
       "{'r_rep_200': 0.10612941902239685, 'r_rep_max': 0.17595802104381736}"
      ]
     },
     "execution_count": 14,
     "metadata": {},
     "output_type": "execute_result"
    }
   ],
   "source": [
    "df = pd.read_csv('res/results_PCA_SVR.csv')\n",
    "plot(target='CogTotalComp_AgeAdj', feature='netmats_pearson', df=df, cv_only=False, filetag='PCA-SVR_ylim', ylim=(-0.6,0.8))"
   ]
  },
  {
   "cell_type": "code",
   "execution_count": 15,
   "metadata": {},
   "outputs": [
    {
     "data": {
      "image/png": "[encoded data removed]",
      "text/plain": [
       "<Figure size 216x216 with 1 Axes>"
      ]
     },
     "metadata": {},
     "output_type": "display_data"
    },
    {
     "name": "stdout",
     "output_type": "stream",
     "text": [
      "Replication probability at n = 50 : no discovery %\n",
      "Replication probability at n = 100 : 0.0 %\n",
      "Replication probability at n = 200 : 25.0 %\n",
      "Replication probability at n = 300 : 62.16216216216216 %\n",
      "Replication probability at n = 495 : 100.0 %\n"
     ]
    },
    {
     "data": {
      "text/plain": [
       "{'r_rep_200': 0.10612941902239685, 'r_rep_max': 0.17595802104381736}"
      ]
     },
     "execution_count": 15,
     "metadata": {},
     "output_type": "execute_result"
    }
   ],
   "source": [
    "\n",
    "plot(target='CogTotalComp_AgeAdj', feature='netmats_pearson', df=df, cv_only=True, filetag='PCA-SVR', ylim=(-0.6,0.8), xlim=(-0.5, 0.6))"
   ]
  },
  {
   "cell_type": "markdown",
   "metadata": {},
   "source": [
    "# Cognitive ability, PCA+SVR, partial correlation"
   ]
  },
  {
   "cell_type": "code",
   "execution_count": 16,
   "metadata": {},
   "outputs": [
    {
     "data": {
      "image/png": "[encoded data removed]",
      "text/plain": [
       "<Figure size 216x216 with 1 Axes>"
      ]
     },
     "metadata": {},
     "output_type": "display_data"
    },
    {
     "name": "stdout",
     "output_type": "stream",
     "text": [
      "Replication probability at n = 50 : no discovery %\n",
      "Replication probability at n = 100 : 90.9090909090909 %\n",
      "Replication probability at n = 200 : 100.0 %\n",
      "Replication probability at n = 300 : 100.0 %\n",
      "Replication probability at n = 495 : 100.0 %\n"
     ]
    },
    {
     "data": {
      "text/plain": [
       "{'r_rep_200': 0.2713589974517626, 'r_rep_max': 0.34611199458096925}"
      ]
     },
     "execution_count": 16,
     "metadata": {},
     "output_type": "execute_result"
    }
   ],
   "source": [
    "df = pd.read_csv('res/results_PCA_SVR.csv')\n",
    "plot(target='CogTotalComp_AgeAdj', feature='netmats_parcor', df=df, filetag='PCA-SVR', ylim=(-0.6,0.8), xlim=(-0.5, 0.6))"
   ]
  },
  {
   "cell_type": "markdown",
   "metadata": {},
   "source": [
    "# Cognitive ability, Ridge, pearson correlation"
   ]
  },
  {
   "cell_type": "code",
   "execution_count": 19,
   "metadata": {},
   "outputs": [
    {
     "data": {
      "image/png": "[encoded data removed]",
      "text/plain": [
       "<Figure size 216x216 with 1 Axes>"
      ]
     },
     "metadata": {},
     "output_type": "display_data"
    },
    {
     "name": "stdout",
     "output_type": "stream",
     "text": [
      "Replication probability at n = 50 : 40.625 %\n",
      "Replication probability at n = 100 : 78.66666666666666 %\n",
      "Replication probability at n = 200 : 100.0 %\n",
      "Replication probability at n = 300 : 100.0 %\n",
      "Replication probability at n = 495 : 100.0 %\n"
     ]
    },
    {
     "data": {
      "text/plain": [
       "{'r_rep_200': 0.31597434384989187, 'r_rep_max': 0.38191979503949747}"
      ]
     },
     "execution_count": 19,
     "metadata": {},
     "output_type": "execute_result"
    }
   ],
   "source": [
    "df = pd.read_csv('res/results_Ridge.csv')\n",
    "plot(target='CogTotalComp_AgeAdj', feature='netmats_pearson', df=df, filetag='Ridge', ylim=(-0.6,0.8), xlim=(-0.5, 0.6))"
   ]
  },
  {
   "cell_type": "markdown",
   "metadata": {},
   "source": [
    "# Cognitive ability, Ridge, partial correlation"
   ]
  },
  {
   "cell_type": "code",
   "execution_count": 20,
   "metadata": {},
   "outputs": [
    {
     "data": {
      "image/png": "[encoded data removed]",
      "text/plain": [
       "<Figure size 216x216 with 1 Axes>"
      ]
     },
     "metadata": {},
     "output_type": "display_data"
    },
    {
     "name": "stdout",
     "output_type": "stream",
     "text": [
      "Replication probability at n = 50 : 64.86486486486487 %\n",
      "Replication probability at n = 100 : 97.5 %\n",
      "Replication probability at n = 200 : 100.0 %\n",
      "Replication probability at n = 300 : 100.0 %\n",
      "Replication probability at n = 495 : 100.0 %\n"
     ]
    },
    {
     "data": {
      "text/plain": [
       "{'r_rep_200': 0.4062055329971098, 'r_rep_max': 0.47903946590450225}"
      ]
     },
     "execution_count": 20,
     "metadata": {},
     "output_type": "execute_result"
    }
   ],
   "source": [
    "df = pd.read_csv('res/results_Ridge.csv')\n",
    "plot(target='CogTotalComp_AgeAdj', feature='netmats_parcor', df=df, filetag='Ridge', ylim=(-0.6,0.8), xlim=(-0.5, 0.6))"
   ]
  },
  {
   "cell_type": "code",
   "execution_count": 24,
   "metadata": {},
   "outputs": [
    {
     "data": {
      "image/png": "[encoded data removed]",
      "text/plain": [
       "<Figure size 216x216 with 1 Axes>"
      ]
     },
     "metadata": {},
     "output_type": "display_data"
    },
    {
     "name": "stdout",
     "output_type": "stream",
     "text": [
      "Replication probability at n = 50 : 64.0 %\n",
      "Replication probability at n = 100 : 97.0 %\n",
      "Replication probability at n = 200 : 100.0 %\n",
      "Replication probability at n = 300 : 100.0 %\n",
      "Replication probability at n = 495 : 100.0 %\n"
     ]
    },
    {
     "data": {
      "image/png": "[encoded data removed]",
      "text/plain": [
       "<Figure size 216x216 with 1 Axes>"
      ]
     },
     "metadata": {},
     "output_type": "display_data"
    },
    {
     "name": "stdout",
     "output_type": "stream",
     "text": [
      "Replication probability at n = 50 : 64.86486486486487 %\n",
      "Replication probability at n = 100 : 97.5 %\n",
      "Replication probability at n = 200 : 100.0 %\n",
      "Replication probability at n = 300 : 100.0 %\n",
      "Replication probability at n = 495 : 100.0 %\n"
     ]
    },
    {
     "data": {
      "text/plain": [
       "{'r_rep_200': 0.4062055329971098, 'r_rep_max': 0.47903946590450225}"
      ]
     },
     "execution_count": 24,
     "metadata": {},
     "output_type": "execute_result"
    }
   ],
   "source": [
    "df = pd.read_csv('res/results_Ridge.csv')\n",
    "plot(target='CogTotalComp_AgeAdj', feature='netmats_parcor', df=df, cv_only=False, filetag='Ridge', ylim=(0,1.1), xlim=(-0.3, 0.7))"
   ]
  },
  {
   "cell_type": "code",
   "execution_count": null,
   "outputs": [],
   "source": [
    "df = pd.read_csv('res/results_null_Ridge.csv')\n",
    "plot(target='CogTotalComp_AgeAdj', feature='netmats_parcor', df=df, cv_only=False, filetag='Ridge', ylim=(0,1.1), xlim=(-0.4, 0.4))"
   ],
   "metadata": {
    "collapsed": false
   }
  },
  {
   "cell_type": "code",
   "execution_count": null,
   "outputs": [],
   "source": [
    "df = pd.read_csv('res/results_null_Ridge.csv')\n",
    "plot(target='CogTotalComp_AgeAdj', feature='netmats_parcor', df=df, cv_only=True, filetag='Ridge_null', ylim=(-0.45,0.45), xlim=(-0.4, 0.4))"
   ],
   "metadata": {
    "collapsed": false
   }
  },
  {
   "cell_type": "markdown",
   "source": [
    "# Inflation histograms"
   ],
   "metadata": {
    "collapsed": false
   }
  },
  {
   "cell_type": "code",
   "execution_count": null,
   "outputs": [],
   "source": [
    "sns.set(rc={\"figure.figsize\":(3, 1.5)})\n",
    "sns.set_style(\"white\")\n",
    "df = pd.read_csv('res/results_PCA_SVR.csv')\n",
    "tmp = df.loc[(df.target=='CogTotalComp_AgeAdj') & (df.connectivity=='netmats_pearson')]\n",
    "sns.histplot(tmp.r_replication - tmp.r_discovery_overfit, color='orange', alpha=0.5)\n",
    "sns.histplot(tmp.r_replication - tmp.r_discovery_overfit, color='black',fill=False)\n",
    "\n",
    "\n",
    "df = pd.read_csv('res/results_Ridge.csv')\n",
    "tmp = df.loc[(df.target=='CogTotalComp_AgeAdj') & (df.connectivity=='netmats_pearson')]\n",
    "sns.histplot(tmp.r_replication - tmp.r_discovery_overfit, color='red', alpha=0.5)\n",
    "sns.histplot(tmp.r_replication - tmp.r_discovery_overfit, color='black',fill=False)\n",
    "sns.despine()\n",
    "\n",
    "plt.savefig('fig/hist_inflation_overfit.pdf')\n",
    "plt.show()"
   ],
   "metadata": {
    "collapsed": false
   }
  },
  {
   "cell_type": "code",
   "execution_count": null,
   "outputs": [],
   "source": [
    "sns.set(rc={\"figure.figsize\":(3, 1.5)})\n",
    "sns.set_style(\"white\")\n",
    "df = pd.read_csv('res/results_PCA_SVR.csv')\n",
    "tmp = df.loc[(df.target=='CogTotalComp_AgeAdj') & (df.connectivity=='netmats_pearson')]\n",
    "sns.histplot(tmp.r_replication - tmp.r_discovery_cv, color='orange', alpha=0.5)\n",
    "sns.histplot(tmp.r_replication - tmp.r_discovery_cv, color='black',fill=False)\n",
    "\n",
    "\n",
    "df = pd.read_csv('res/results_Ridge.csv')\n",
    "tmp = df.loc[(df.target=='CogTotalComp_AgeAdj') & (df.connectivity=='netmats_pearson')]\n",
    "sns.histplot(tmp.r_replication - tmp.r_discovery_cv, color='red', alpha=0.5)\n",
    "sns.histplot(tmp.r_replication - tmp.r_discovery_cv, color='black',fill=False)\n",
    "sns.despine()\n",
    "\n",
    "plt.savefig('fig/hist_inflation_cv.pdf')\n",
    "plt.show()"
   ],
   "metadata": {
    "collapsed": false
   }
  },
  {
   "cell_type": "code",
   "execution_count": null,
   "outputs": [],
   "source": [
    "sns.set(rc={\"figure.figsize\":(3, 1.5)})\n",
    "sns.set_style(\"white\")\n",
    "df = pd.read_csv('res/results_PCA_SVR.csv')\n",
    "tmp = df.loc[(df.target=='CogTotalComp_AgeAdj') & (df.connectivity=='netmats_pearson')]\n",
    "sns.histplot(tmp.r_discovery_cv - tmp.r_replication, color='blue', alpha=0.5)\n",
    "sns.histplot(tmp.r_discovery_cv - tmp.r_replication, color='black',fill=False)\n",
    "\n",
    "tmp = df.loc[(df.target=='CogTotalComp_AgeAdj') & (df.connectivity=='netmats_pearson')]\n",
    "sns.histplot(tmp.r_discovery_overfit - tmp.r_replication, color='red', alpha=0.5)\n",
    "sns.histplot(tmp.r_discovery_overfit - tmp.r_replication, color='black',fill=False)\n",
    "sns.despine()\n",
    "\n",
    "plt.axvline(0, color='gray')\n",
    "\n",
    "plt.savefig('fig/hist_inflation_cv_vs_overfit.pdf')\n",
    "plt.show()"
   ],
   "metadata": {
    "collapsed": false
   }
  },
  {
   "cell_type": "markdown",
   "source": [
    "# False positives with biased and unbiased estimates\n",
    " Evaluated via a null model"
   ],
   "metadata": {
    "collapsed": false
   }
  },
  {
   "cell_type": "code",
   "execution_count": null,
   "outputs": [],
   "source": [
    "sns.set(rc={\"figure.figsize\":(3, 1.5)})\n",
    "sns.set_style(\"white\")\n",
    "\n",
    "df = pd.read_csv('res/results_null_PCA_SVR.csv')\n",
    "\n",
    "def fpr(x, alpha=0.05):\n",
    "    return (x<alpha).sum()/len(x)\n",
    "\n",
    "df_fpr = df.groupby('n')['p_discovery_cv'].agg([fpr])\n",
    "sns.lineplot(x='n', y='fpr', data=df_fpr)\n",
    "df_fpr = df.groupby('n')['p_discovery_overfit'].agg([fpr])\n",
    "sns.lineplot(x='n', y='fpr', data=df_fpr)\n",
    "sns.despine()"
   ],
   "metadata": {
    "collapsed": false
   }
  },
  {
   "cell_type": "code",
   "execution_count": null,
   "outputs": [],
   "source": [
    "sns.set(rc={\"figure.figsize\":(2, 1)})\n",
    "sns.set_style(\"white\")\n",
    "\n",
    "df = pd.read_csv('res/results_PCA_SVR.csv')\n",
    "tmp = df[df.target == 'CogTotalComp_AgeAdj']\n",
    "\n",
    "num_perm = 1000\n",
    "\n",
    "\n",
    "# helper functions to compoute conf. intervals for correlation\n",
    "def r_to_z(r):\n",
    "    return math.log((1 + r) / (1 - r)) / 2.0\n",
    "\n",
    "def z_to_r(z):\n",
    "    e = math.exp(2 * z)\n",
    "    return (e - 1) / (e + 1)\n",
    "\n",
    "def r_confidence_interval(r, alpha, n):\n",
    "    z = r_to_z(r)\n",
    "    se = 1.0 / math.sqrt(n - 3)\n",
    "    z_crit = stats.norm.ppf((1 + alpha)/2)  # 2-tailed z critical value\n",
    "\n",
    "    lo = z - z_crit * se\n",
    "    hi = z + z_crit * se\n",
    "    # Return a sequence\n",
    "    return (z_to_r(lo), z_to_r(hi))\n",
    "\n",
    "r_ci_lo = [r_confidence_interval(0, 0.95, n=n)[0] for n in df.n.unique()]\n",
    "r_ci_hi = [r_confidence_interval(0, 0.95, n=n)[1] for n in df.n.unique()]\n",
    "\n",
    "tmp['inflation_cv'] = tmp.r_discovery_cv - tmp.r_replication\n",
    "tmp['inflation_overfit'] = tmp.r_discovery_overfit - tmp.r_replication\n",
    "\n",
    "sns.lineplot(x='n', y='inflation_cv', data=tmp, ci='sd', color=\"blue\")\n",
    "sns.lineplot(x='n', y='inflation_overfit', data=tmp, ci='sd', color=\"red\")\n",
    "sns.lineplot(x=df.n.unique(), y=r_ci_lo, linestyle='dotted', color='gray')\n",
    "sns.lineplot(x=df.n.unique(), y=r_ci_hi, linestyle='dotted', color='gray')\n",
    "sns.despine()\n",
    "plt.savefig('fig/curves_biased_vs_unbiased.pdf')"
   ],
   "metadata": {
    "collapsed": false
   }
  },
  {
   "cell_type": "code",
   "execution_count": null,
   "outputs": [],
   "source": [
    "sns.set(rc={\"figure.figsize\":(2, 1)})\n",
    "sns.set_style(\"white\")\n",
    "\n",
    "df = pd.read_csv('res/results_null_PCA_SVR.csv')\n",
    "tmp = df[df.target == 'CogTotalComp_AgeAdj']\n",
    "\n",
    "num_perm = 1000\n",
    "\n",
    "\n",
    "# helper functions to compoute conf. intervals for correlation\n",
    "def r_to_z(r):\n",
    "    return math.log((1 + r) / (1 - r)) / 2.0\n",
    "\n",
    "def z_to_r(z):\n",
    "    e = math.exp(2 * z)\n",
    "    return (e - 1) / (e + 1)\n",
    "\n",
    "def r_confidence_interval(r, alpha, n):\n",
    "    z = r_to_z(r)\n",
    "    se = 1.0 / math.sqrt(n - 3)\n",
    "    z_crit = stats.norm.ppf((1 + alpha)/2)  # 2-tailed z critical value\n",
    "\n",
    "    lo = z - z_crit * se\n",
    "    hi = z + z_crit * se\n",
    "    # Return a sequence\n",
    "    return (z_to_r(lo), z_to_r(hi))\n",
    "\n",
    "r_ci_lo = [r_confidence_interval(0, 0.95, n=n)[0] for n in df.n.unique()]\n",
    "r_ci_hi = [r_confidence_interval(0, 0.95, n=n)[1] for n in df.n.unique()]\n",
    "\n",
    "sns.lineplot(x='n', y='r_discovery_cv', data=tmp, ci='sd', color=\"blue\")\n",
    "sns.lineplot(x='n', y='r_discovery_overfit', data=tmp, ci='sd', color=\"red\")\n",
    "sns.lineplot(x=df.n.unique(), y=r_ci_lo, linestyle='dotted', color='gray')\n",
    "sns.lineplot(x=df.n.unique(), y=r_ci_hi, linestyle='dotted', color='gray')\n",
    "sns.despine()\n",
    "plt.savefig('fig/null_biased_vs_unbiased.pdf')"
   ],
   "metadata": {
    "collapsed": false
   }
  },
  {
   "cell_type": "code",
   "execution_count": null,
   "outputs": [],
   "source": [
    "df = pd.read_csv('res/results_null_PCA_SVR.csv')\n",
    "tmp = df[df.target == 'CogTotalComp_AgeAdj']\n",
    "\n",
    "binwidth = 0.05\n",
    "\n",
    "sns.histplot(tmp.r_discovery_cv, color='blue', alpha=0.5, binwidth=binwidth)\n",
    "sns.histplot(tmp.r_discovery_cv, color='black',fill=False, binwidth=binwidth)\n",
    "\n",
    "sns.histplot(tmp.r_discovery_overfit, color='red', alpha=0.5, binwidth=binwidth)\n",
    "sns.histplot(tmp.r_discovery_overfit, color='black',fill=False, binwidth=binwidth)\n",
    "\n",
    "plt.axvline(0, color='gray')"
   ],
   "metadata": {
    "collapsed": false
   }
  },
  {
   "cell_type": "markdown",
   "source": [
    "# Replication Probabilities"
   ],
   "metadata": {
    "collapsed": false
   }
  },
  {
   "cell_type": "markdown",
   "source": [
    "PCA-SVR, pearson"
   ],
   "metadata": {
    "collapsed": false
   }
  },
  {
   "cell_type": "code",
   "execution_count": null,
   "outputs": [],
   "source": [
    "import numpy as np\n",
    "sns.set(rc={\"figure.figsize\":(4, 4)})\n",
    "sns.set_style(\"white\")\n",
    "# Replicability of:\n",
    "feature = 'netmats_pearson'\n",
    "model = \"PCA_SVR\"\n",
    "df = pd.read_csv('res/results_' + model + '.csv')\n",
    "df_null = pd.read_csv('res/results_null_' + model + '.csv')\n",
    "\n",
    "fig, axes = plt.subplots(6, sharex=True, sharey=True)\n",
    "cols = ['tab:blue', 'tab:green', 'tab:orange', 'tab:purple', 'tab:red', 'tab:cyan']\n",
    "for i_target, target in enumerate(['age', 'CogTotalComp_AgeAdj', 'PMAT24_A_CR', 'Flanker_AgeAdj', 'CardSort_AgeAdj', 'PicSeq_AgeAdj']):\n",
    "    tmp = df.loc[(df.target==target) & (df.connectivity==feature)]\n",
    "    tmp_null = df_null.loc[(df_null.target==target) & (df_null.connectivity==feature)]\n",
    "\n",
    "    alpha=0.05\n",
    "    replication_prob = np.zeros(len(tmp.n.unique()))\n",
    "    for i, n in enumerate(tmp.n.unique()):\n",
    "            tmp2 = tmp[tmp.n == n]\n",
    "            tmp2_null = tmp_null[tmp_null.n == n]\n",
    "            r_discovery_threshold = np.quantile(tmp2_null.r_discovery_cv.dropna(), 1-alpha)\n",
    "\n",
    "            if (tmp2['r_discovery_cv']>=r_discovery_threshold).sum() == 0:\n",
    "                replication_prob[i] = np.nan\n",
    "            else:\n",
    "                 #      #(significant replications among significant discoveries)     / # significant replications\n",
    "                replication_prob[i] = (tmp2.loc[tmp2['r_discovery_cv']>=r_discovery_threshold,'p_replication']<alpha).sum() / (tmp2['r_discovery_cv']>=r_discovery_threshold).sum() * 100\n",
    "    sns.lineplot(x=tmp.n.unique(), y=replication_prob, color=cols[i_target], ax=axes[i_target]).set(title=target)\n",
    "    axes[i_target].fill_between(tmp.n.unique(), replication_prob, color=cols[i_target])\n",
    "    sns.despine()\n",
    "    fig.suptitle('PCA-SVR, pearson')\n",
    "    plt.savefig('fig/replication_' + feature + '_' + model + '.pdf')"
   ],
   "metadata": {
    "collapsed": false
   }
  },
  {
   "cell_type": "markdown",
   "source": [
    "Ridge, pearson"
   ],
   "metadata": {
    "collapsed": false
   }
  },
  {
   "cell_type": "code",
   "execution_count": null,
   "outputs": [],
   "source": [
    "import numpy as np\n",
    "sns.set(rc={\"figure.figsize\":(4, 4)})\n",
    "sns.set_style(\"white\")\n",
    "# Replicability of:\n",
    "feature = 'netmats_pearson'\n",
    "model = \"Ridge\"\n",
    "df = pd.read_csv('res/results_' + model + '.csv')\n",
    "df_null = pd.read_csv('res/results_null_' + model + '.csv')\n",
    "\n",
    "fig, axes = plt.subplots(6, sharex=True, sharey=True)\n",
    "cols = ['tab:blue', 'tab:green', 'tab:orange', 'tab:purple', 'tab:red', 'tab:cyan']\n",
    "for i_target, target in enumerate(['age', 'CogTotalComp_AgeAdj', 'PMAT24_A_CR', 'Flanker_AgeAdj', 'CardSort_AgeAdj', 'PicSeq_AgeAdj']):\n",
    "    tmp = df.loc[(df.target==target) & (df.connectivity==feature)]\n",
    "    tmp_null = df_null.loc[(df_null.target==target) & (df_null.connectivity==feature)]\n",
    "\n",
    "    alpha=0.05\n",
    "    replication_prob = np.zeros(len(tmp.n.unique()))\n",
    "    for i, n in enumerate(tmp.n.unique()):\n",
    "            tmp2 = tmp[tmp.n == n]\n",
    "            tmp2_null = tmp_null[tmp_null.n == n]\n",
    "            r_discovery_threshold = np.quantile(tmp2_null.r_discovery_cv.dropna(), 1-alpha)\n",
    "\n",
    "            if (tmp2['r_discovery_cv']>=r_discovery_threshold).sum() == 0:\n",
    "                replication_prob[i] = np.nan\n",
    "            else:\n",
    "                 #      #(significant replications among significant discoveries)     / # significant replications\n",
    "                replication_prob[i] = (tmp2.loc[tmp2['r_discovery_cv']>=r_discovery_threshold,'p_replication']<alpha).sum() / (tmp2['r_discovery_cv']>=r_discovery_threshold).sum() * 100\n",
    "    sns.lineplot(x=tmp.n.unique(), y=replication_prob, color=cols[i_target], ax=axes[i_target]).set(title=target)\n",
    "    #fig.xlim((50,500))\n",
    "    #fig.ylim((0,100))\n",
    "    axes[i_target].fill_between(tmp.n.unique(), replication_prob, color=cols[i_target])\n",
    "    sns.despine()\n",
    "    fig.suptitle('Ridge, pearson')\n",
    "    plt.savefig('fig/replication_' + feature + '_' + model + '.pdf')"
   ],
   "metadata": {
    "collapsed": false
   }
  },
  {
   "cell_type": "markdown",
   "source": [
    "PCA-SVR parcor"
   ],
   "metadata": {
    "collapsed": false
   }
  },
  {
   "cell_type": "code",
   "execution_count": null,
   "outputs": [],
   "source": [
    "import numpy as np\n",
    "sns.set(rc={\"figure.figsize\":(4, 4)})\n",
    "sns.set_style(\"white\")\n",
    "# Replicability of:\n",
    "feature = 'netmats_parcor'\n",
    "model = \"PCA_SVR\"\n",
    "df = pd.read_csv('res/results_' + model + '.csv')\n",
    "df_null = pd.read_csv('res/results_null_' + model + '.csv')\n",
    "\n",
    "fig, axes = plt.subplots(6, sharex=True, sharey=True)\n",
    "cols = ['tab:blue', 'tab:green', 'tab:orange', 'tab:purple', 'tab:red', 'tab:cyan']\n",
    "for i_target, target in enumerate(['age', 'CogTotalComp_AgeAdj', 'PMAT24_A_CR', 'Flanker_AgeAdj', 'CardSort_AgeAdj', 'PicSeq_AgeAdj']):\n",
    "    tmp = df.loc[(df.target==target) & (df.connectivity==feature)]\n",
    "    tmp_null = df_null.loc[(df_null.target==target) & (df_null.connectivity==feature)]\n",
    "\n",
    "    alpha=0.05\n",
    "    replication_prob = np.zeros(len(tmp.n.unique()))\n",
    "    for i, n in enumerate(tmp.n.unique()):\n",
    "            tmp2 = tmp[tmp.n == n]\n",
    "            tmp2_null = tmp_null[tmp_null.n == n]\n",
    "            r_discovery_threshold = np.quantile(tmp2_null.r_discovery_cv.dropna(), 1-alpha)\n",
    "\n",
    "            if (tmp2['r_discovery_cv']>=r_discovery_threshold).sum() == 0:\n",
    "                replication_prob[i] = np.nan\n",
    "            else:\n",
    "                 #      #(significant replications among significant discoveries)     / # significant replications\n",
    "                replication_prob[i] = (tmp2.loc[tmp2['r_discovery_cv']>=r_discovery_threshold,'p_replication']<alpha).sum() / (tmp2['r_discovery_cv']>=r_discovery_threshold).sum() * 100\n",
    "    sns.lineplot(x=tmp.n.unique(), y=replication_prob, color=cols[i_target], ax=axes[i_target]).set(title=target)\n",
    "    axes[i_target].fill_between(tmp.n.unique(), replication_prob, color=cols[i_target])\n",
    "    sns.despine()\n",
    "    fig.suptitle('PCA-SVR, parcor')\n",
    "    plt.savefig('fig/replication_' + feature + '_' + model + '.pdf')"
   ],
   "metadata": {
    "collapsed": false
   }
  },
  {
   "cell_type": "markdown",
   "source": [
    "Ridge, parcor"
   ],
   "metadata": {
    "collapsed": false
   }
  },
  {
   "cell_type": "code",
   "execution_count": null,
   "outputs": [],
   "source": [
    "import numpy as np\n",
    "sns.set(rc={\"figure.figsize\":(4, 4)})\n",
    "sns.set_style(\"white\")\n",
    "# Replicability of:\n",
    "feature = 'netmats_parcor'\n",
    "model = \"Ridge\"\n",
    "df = pd.read_csv('res/results_' + model + '.csv')\n",
    "df_null = pd.read_csv('res/results_null_' + model + '.csv')\n",
    "\n",
    "fig, axes = plt.subplots(6, sharex=True, sharey=True)\n",
    "cols = ['tab:blue', 'tab:green', 'tab:orange', 'tab:purple', 'tab:red', 'tab:cyan']\n",
    "for i_target, target in enumerate(['age', 'CogTotalComp_AgeAdj', 'PMAT24_A_CR', 'Flanker_AgeAdj', 'CardSort_AgeAdj', 'PicSeq_AgeAdj']):\n",
    "    tmp = df.loc[(df.target==target) & (df.connectivity==feature)]\n",
    "    tmp_null = df_null.loc[(df_null.target==target) & (df_null.connectivity==feature)]\n",
    "\n",
    "    alpha=0.05\n",
    "    replication_prob = np.zeros(len(tmp.n.unique()))\n",
    "    for i, n in enumerate(tmp.n.unique()):\n",
    "            tmp2 = tmp[tmp.n == n]\n",
    "            tmp2_null = tmp_null[tmp_null.n == n]\n",
    "            r_discovery_threshold = np.quantile(tmp2_null.r_discovery_cv.dropna(), 1-alpha)\n",
    "\n",
    "            if (tmp2['r_discovery_cv']>=r_discovery_threshold).sum() == 0:\n",
    "                replication_prob[i] = np.nan\n",
    "            else:\n",
    "                 #      #(significant replications among significant discoveries)     / # significant replications\n",
    "                replication_prob[i] = (tmp2.loc[tmp2['r_discovery_cv']>=r_discovery_threshold,'p_replication']<alpha).sum() / (tmp2['r_discovery_cv']>=r_discovery_threshold).sum() * 100\n",
    "    sns.lineplot(x=tmp.n.unique(), y=replication_prob, color=cols[i_target], ax=axes[i_target]).set(title=target)\n",
    "    axes[i_target].fill_between(tmp.n.unique(), replication_prob, color=cols[i_target])\n",
    "    sns.despine()\n",
    "    fig.suptitle('Ridge, parcor')\n",
    "    plt.savefig('fig/replication_' + feature + '_' + model + '.pdf')"
   ],
   "metadata": {
    "collapsed": false
   }
  },
  {
   "cell_type": "markdown",
   "source": [
    "# Multivariate Statistical Power"
   ],
   "metadata": {
    "collapsed": false
   }
  },
  {
   "cell_type": "code",
   "execution_count": null,
   "outputs": [],
   "source": [
    "import numpy as np\n",
    "sns.set(rc={\"figure.figsize\":(4, 4)})\n",
    "sns.set_style(\"whitegrid\")\n",
    "# Replicability of:\n",
    "feature = 'netmats_pearson'\n",
    "model = \"PCA_SVR\"\n",
    "df = pd.read_csv('res/results_' + model + '.csv')\n",
    "df_null = pd.read_csv('res/results_null_' + model + '.csv')\n",
    "\n",
    "fig, axes = plt.subplots(6, sharex=True, sharey=True)\n",
    "cols = ['tab:blue', 'tab:green', 'tab:orange', 'tab:purple', 'tab:red', 'tab:cyan']\n",
    "for i_target, target in enumerate(['age', 'CogTotalComp_AgeAdj', 'PMAT24_A_CR', 'Flanker_AgeAdj', 'CardSort_AgeAdj', 'PicSeq_AgeAdj']):\n",
    "    tmp = df.loc[(df.target==target) & (df.connectivity==feature)]\n",
    "    tmp_null = df_null.loc[(df_null.target==target) & (df_null.connectivity==feature)]\n",
    "\n",
    "    alpha=0.05\n",
    "    power = np.zeros(len(tmp.n.unique()))\n",
    "    for i, n in enumerate(tmp.n.unique()):\n",
    "            tmp2 = tmp[tmp.n == n]\n",
    "            tmp2_null = tmp_null[tmp_null.n == n]\n",
    "            r_discovery_threshold = np.quantile(tmp2_null.r_discovery_cv.dropna(), 1-alpha)\n",
    "\n",
    "            power[i] = (tmp2['r_discovery_cv']>=r_discovery_threshold).sum() / len(tmp2['r_discovery_cv']) * 100\n",
    "\n",
    "    sns.lineplot(x=tmp.n.unique(), y=power, color=cols[i_target], ax=axes[i_target]).set(title=target)\n",
    "    #fig.xlim((50,500))\n",
    "    #fig.ylim((0,100))\n",
    "    axes[i_target].fill_between(tmp.n.unique(), power, color=cols[i_target])\n",
    "    sns.despine()\n",
    "    fig.suptitle('PCA-SVR, pearson')\n",
    "    plt.savefig('fig/power_' + feature + '_' + model + '.pdf')"
   ],
   "metadata": {
    "collapsed": false
   }
  },
  {
   "cell_type": "code",
   "execution_count": null,
   "outputs": [],
   "source": [
    "import numpy as np\n",
    "sns.set(rc={\"figure.figsize\":(4, 4)})\n",
    "sns.set_style(\"whitegrid\")\n",
    "# Replicability of:\n",
    "feature = 'netmats_pearson'\n",
    "model = \"Ridge\"\n",
    "df = pd.read_csv('res/results_' + model + '.csv')\n",
    "df_null = pd.read_csv('res/results_null_' + model + '.csv')\n",
    "\n",
    "fig, axes = plt.subplots(6, sharex=True, sharey=True)\n",
    "cols = ['tab:blue', 'tab:green', 'tab:orange', 'tab:purple', 'tab:red', 'tab:cyan']\n",
    "for i_target, target in enumerate(['age', 'CogTotalComp_AgeAdj', 'PMAT24_A_CR', 'Flanker_AgeAdj', 'CardSort_AgeAdj', 'PicSeq_AgeAdj']):\n",
    "    tmp = df.loc[(df.target==target) & (df.connectivity==feature)]\n",
    "    tmp_null = df_null.loc[(df_null.target==target) & (df_null.connectivity==feature)]\n",
    "\n",
    "    alpha=0.05\n",
    "    power = np.zeros(len(tmp.n.unique()))\n",
    "    for i, n in enumerate(tmp.n.unique()):\n",
    "            tmp2 = tmp[tmp.n == n]\n",
    "            tmp2_null = tmp_null[tmp_null.n == n]\n",
    "            r_discovery_threshold = np.quantile(tmp2_null.r_discovery_cv.dropna(), 1-alpha)\n",
    "\n",
    "            power[i] = (tmp2['r_discovery_cv']>=r_discovery_threshold).sum() / len(tmp2['r_discovery_cv']) * 100\n",
    "\n",
    "    sns.lineplot(x=tmp.n.unique(), y=power, color=cols[i_target], ax=axes[i_target]).set(title=target)\n",
    "    #fig.xlim((50,500))\n",
    "    #fig.ylim((0,100))\n",
    "    axes[i_target].fill_between(tmp.n.unique(), power, color=cols[i_target])\n",
    "    sns.despine()\n",
    "    fig.suptitle('Ridge, pearson')\n",
    "    plt.savefig('fig/power_' + feature + '_' + model + '.pdf')"
   ],
   "metadata": {
    "collapsed": false
   }
  },
  {
   "cell_type": "code",
   "execution_count": null,
   "outputs": [],
   "source": [
    "import numpy as np\n",
    "sns.set(rc={\"figure.figsize\":(4, 4)})\n",
    "sns.set_style(\"whitegrid\")\n",
    "# Replicability of:\n",
    "feature = 'netmats_parcor'\n",
    "model = \"PCA_SVR\"\n",
    "df = pd.read_csv('res/results_' + model + '.csv')\n",
    "df_null = pd.read_csv('res/results_null_' + model + '.csv')\n",
    "\n",
    "fig, axes = plt.subplots(6, sharex=True, sharey=True)\n",
    "cols = ['tab:blue', 'tab:green', 'tab:orange', 'tab:purple', 'tab:red', 'tab:cyan']\n",
    "for i_target, target in enumerate(['age', 'CogTotalComp_AgeAdj', 'PMAT24_A_CR', 'Flanker_AgeAdj', 'CardSort_AgeAdj', 'PicSeq_AgeAdj']):\n",
    "    tmp = df.loc[(df.target==target) & (df.connectivity==feature)]\n",
    "    tmp_null = df_null.loc[(df_null.target==target) & (df_null.connectivity==feature)]\n",
    "\n",
    "    alpha=0.05\n",
    "    power = np.zeros(len(tmp.n.unique()))\n",
    "    for i, n in enumerate(tmp.n.unique()):\n",
    "            tmp2 = tmp[tmp.n == n]\n",
    "            tmp2_null = tmp_null[tmp_null.n == n]\n",
    "            r_discovery_threshold = np.quantile(tmp2_null.r_discovery_cv.dropna(), 1-alpha)\n",
    "\n",
    "            power[i] = (tmp2['r_discovery_cv']>=r_discovery_threshold).sum() / len(tmp2['r_discovery_cv']) * 100\n",
    "\n",
    "    sns.lineplot(x=tmp.n.unique(), y=power, color=cols[i_target], ax=axes[i_target]).set(title=target)\n",
    "    axes[i_target].fill_between(tmp.n.unique(), power, color=cols[i_target])\n",
    "    sns.despine()\n",
    "    fig.suptitle('PCA-SVR, parcor')\n",
    "    plt.savefig('fig/power_' + feature + '_' + model + '.pdf')"
   ],
   "metadata": {
    "collapsed": false
   }
  },
  {
   "cell_type": "code",
   "execution_count": null,
   "outputs": [],
   "source": [
    "import numpy as np\n",
    "sns.set(rc={\"figure.figsize\":(4, 4)})\n",
    "sns.set_style(\"whitegrid\")\n",
    "# Replicability of:\n",
    "feature = 'netmats_parcor'\n",
    "model = \"Ridge\"\n",
    "df = pd.read_csv('res/results_' + model + '.csv')\n",
    "df_null = pd.read_csv('res/results_null_' + model + '.csv')\n",
    "\n",
    "fig, axes = plt.subplots(6, sharex=True, sharey=True)\n",
    "cols = ['tab:blue', 'tab:green', 'tab:orange', 'tab:purple', 'tab:red', 'tab:cyan']\n",
    "for i_target, target in enumerate(['age', 'CogTotalComp_AgeAdj', 'PMAT24_A_CR', 'Flanker_AgeAdj', 'CardSort_AgeAdj', 'PicSeq_AgeAdj']):\n",
    "    tmp = df.loc[(df.target==target) & (df.connectivity==feature)]\n",
    "    tmp_null = df_null.loc[(df_null.target==target) & (df_null.connectivity==feature)]\n",
    "\n",
    "    alpha=0.05\n",
    "    power = np.zeros(len(tmp.n.unique()))\n",
    "    for i, n in enumerate(tmp.n.unique()):\n",
    "            tmp2 = tmp[tmp.n == n]\n",
    "            tmp2_null = tmp_null[tmp_null.n == n]\n",
    "            r_discovery_threshold = np.quantile(tmp2_null.r_discovery_cv.dropna(), 1-alpha)\n",
    "\n",
    "            power[i] = (tmp2['r_discovery_cv']>=r_discovery_threshold).sum() / len(tmp2['r_discovery_cv']) * 100\n",
    "\n",
    "    sns.lineplot(x=tmp.n.unique(), y=power, color=cols[i_target], ax=axes[i_target]).set(title=target)\n",
    "    #fig.xlim((50,500))\n",
    "    #fig.ylim((0,100))\n",
    "    axes[i_target].fill_between(tmp.n.unique(), power, color=cols[i_target])\n",
    "    sns.despine()\n",
    "    fig.suptitle('Ridge, parcor')\n",
    "    plt.savefig('fig/power_' + feature + '_' + model + '.pdf')"
   ],
   "metadata": {
    "collapsed": false
   }
  },
  {
   "cell_type": "markdown",
   "source": [
    "# Learning Curves"
   ],
   "metadata": {
    "collapsed": false
   }
  },
  {
   "cell_type": "code",
   "execution_count": null,
   "outputs": [],
   "source": [
    "def plot_learning_curve(target, feature, data, filetag=None):\n",
    "    sns.set(rc={\"figure.figsize\":(3, 2)})\n",
    "    sns.set_style(\"white\")\n",
    "    tmp = df.loc[(data.target==target) & (data.connectivity==feature)]\n",
    "\n",
    "    sns.lineplot(x='n', y='r_discovery_cv', data=tmp, ci=\"sd\")\n",
    "    sns.lineplot(x='n', y='r_discovery_overfit', data=tmp, ci=\"sd\")\n",
    "    sns.lineplot(x='n', y='r_replication', data=tmp, ci=\"sd\")\n",
    "    plt.ylim((-0.2, 1.01))\n",
    "    sns.despine()\n",
    "    if filetag:\n",
    "        plt.savefig('fig/learning_curve_' + target + '_' + feature + '_' + filetag + '.pdf')"
   ],
   "metadata": {
    "collapsed": false
   }
  },
  {
   "cell_type": "code",
   "execution_count": null,
   "outputs": [],
   "source": [
    "df = pd.read_csv('res/results_PCA_SVR.csv')\n",
    "plot_learning_curve(target='CogTotalComp_AgeAdj', feature='netmats_pearson', df=df, filetag='pca-svr')"
   ],
   "metadata": {
    "collapsed": false
   }
  },
  {
   "cell_type": "code",
   "execution_count": null,
   "outputs": [],
   "source": [
    "df = pd.read_csv('res/results_Ridge.csv')\n",
    "plot_learning_curve(target='CogTotalComp_AgeAdj', feature='netmats_pearson', df=df, filetag='ridge')"
   ],
   "metadata": {
    "collapsed": false
   }
  },
  {
   "cell_type": "code",
   "execution_count": null,
   "outputs": [],
   "source": [
    "df = pd.read_csv('res/results_PCA_SVR.csv')\n",
    "plot_learning_curve(target='CogTotalComp_AgeAdj', feature='netmats_parcor', df=df, filetag='pca-svr')"
   ],
   "metadata": {
    "collapsed": false
   }
  },
  {
   "cell_type": "code",
   "execution_count": null,
   "outputs": [],
   "source": [
    "df = pd.read_csv('res/results_Ridge.csv')\n",
    "plot_learning_curve(target='CogTotalComp_AgeAdj', feature='netmats_parcor', df=df, filetag='ridge')"
   ],
   "metadata": {
    "collapsed": false
   }
  },
  {
   "cell_type": "markdown",
   "source": [
    "# Composite figures to summarize improvement with Ridge and partial correlation"
   ],
   "metadata": {
    "collapsed": false
   }
  },
  {
   "cell_type": "markdown",
   "source": [
    "### Power: Pearson + PCA-SVR"
   ],
   "metadata": {
    "collapsed": false
   }
  },
  {
   "cell_type": "code",
   "execution_count": null,
   "outputs": [],
   "source": [
    "sample_size_needed = []\n",
    "variable = []\n",
    "method = []"
   ],
   "metadata": {
    "collapsed": false
   }
  },
  {
   "cell_type": "code",
   "execution_count": null,
   "outputs": [],
   "source": [
    "import numpy as np\n",
    "sns.set(rc={\"figure.figsize\":(1, 1)})\n",
    "sns.set_style(\"white\")\n",
    "# Replicability of:\n",
    "feature = 'netmats_pearson'\n",
    "model = \"PCA_SVR\"\n",
    "df = pd.read_csv('res/hires_results_' + model + '.csv')\n",
    "df_null = pd.read_csv('res/hires_results_null_' + model + '.csv')\n",
    "\n",
    "cols = ['tab:blue', 'tab:green', 'tab:orange', 'tab:purple', 'tab:red', 'tab:brown']\n",
    "for i_target, target in enumerate(['age', 'CogTotalComp_AgeAdj', 'PMAT24_A_CR', 'Flanker_AgeAdj', 'CardSort_AgeAdj', 'PicSeq_AgeAdj']):\n",
    "    tmp = df.loc[(df.target==target) & (df.connectivity==feature)]\n",
    "    tmp_null = df_null.loc[(df_null.target==target) & (df_null.connectivity==feature)]\n",
    "\n",
    "    alpha=0.05\n",
    "    power = np.zeros(len(tmp.n.unique()))\n",
    "    n_req = 600\n",
    "    for i, n in enumerate(tmp.n.unique()):\n",
    "            tmp2 = tmp[tmp.n == n]\n",
    "            tmp2_null = tmp_null[tmp_null.n == n]\n",
    "            r_discovery_threshold = np.quantile(tmp2_null.r_discovery_cv.dropna(), 1-alpha)\n",
    "\n",
    "            power[i] = (tmp2['r_discovery_cv']>=r_discovery_threshold).sum() / len(tmp2['r_discovery_cv']) * 100\n",
    "            if power[i] >= 80 and n_req == 600:\n",
    "                n_req = n\n",
    "\n",
    "    sample_size_needed.append(n_req)\n",
    "    variable.append(target)\n",
    "    method.append(feature + '_' + model)\n",
    "\n",
    "    sns.lineplot(x=tmp.n.unique(), y=power, color=cols[i_target]).set(title=target)\n",
    "sns.despine()\n",
    "plt.axhline(80, linestyle = 'dashed')\n",
    "plt.axhline(100)\n",
    "plt.xlim(0,500)\n",
    "plt.ylim(0,100)\n",
    "plt.savefig('fig/power_all_' + feature + '_' + model + '.pdf')\n",
    "\n"
   ],
   "metadata": {
    "collapsed": false
   }
  },
  {
   "cell_type": "markdown",
   "source": [
    "### Power: Partial corr + Ridge"
   ],
   "metadata": {
    "collapsed": false
   }
  },
  {
   "cell_type": "code",
   "execution_count": null,
   "outputs": [],
   "source": [
    "import numpy as np\n",
    "sns.set(rc={\"figure.figsize\":(1, 1)})\n",
    "sns.set_style(\"white\")\n",
    "# Replicability of:\n",
    "feature = 'netmats_parcor'\n",
    "model = \"Ridge\"\n",
    "df = pd.read_csv('res/hires_results_' + model + '.csv')\n",
    "df_null = pd.read_csv('res/hires_results_null_' + model + '.csv')\n",
    "\n",
    "cols = ['tab:blue', 'tab:green', 'tab:orange', 'tab:purple', 'tab:red', 'tab:brown']\n",
    "for i_target, target in enumerate(['age', 'CogTotalComp_AgeAdj', 'PMAT24_A_CR', 'Flanker_AgeAdj', 'CardSort_AgeAdj', 'PicSeq_AgeAdj']):\n",
    "    tmp = df.loc[(df.target==target) & (df.connectivity==feature)]\n",
    "    tmp_null = df_null.loc[(df_null.target==target) & (df_null.connectivity==feature)]\n",
    "\n",
    "    alpha=0.05\n",
    "    power = np.zeros(len(tmp.n.unique()))\n",
    "    n_req = 600\n",
    "    for i, n in enumerate(tmp.n.unique()):\n",
    "            tmp2 = tmp[tmp.n == n]\n",
    "            tmp2_null = tmp_null[tmp_null.n == n]\n",
    "            r_discovery_threshold = np.quantile(tmp2_null.r_discovery_cv.dropna(), 1-alpha)\n",
    "\n",
    "            power[i] = (tmp2['r_discovery_cv']>=r_discovery_threshold).sum() / len(tmp2['r_discovery_cv']) * 100\n",
    "            if power[i] >= 80 and n_req == 600:\n",
    "                n_req = n\n",
    "\n",
    "    sample_size_needed.append(n_req)\n",
    "    variable.append(target)\n",
    "    method.append(feature + '_' + model)\n",
    "\n",
    "    sns.lineplot(x=tmp.n.unique(), y=power, color=cols[i_target]).set(title=target)\n",
    "sns.despine()\n",
    "plt.axhline(80, linestyle = 'dashed')\n",
    "plt.axhline(100)\n",
    "plt.xlim(0,500)\n",
    "plt.ylim(0,100)\n",
    "plt.savefig('fig/power_all_' + feature + '_' + model + '.pdf')"
   ],
   "metadata": {
    "collapsed": false
   }
  },
  {
   "cell_type": "code",
   "execution_count": null,
   "outputs": [],
   "source": [
    "sns.set(rc={\"figure.figsize\":(1, 2.3)})\n",
    "sns.set_style(\"white\")\n",
    "\n",
    "bar_df = pd.DataFrame(\n",
    "    {\n",
    "        'sample size needed': sample_size_needed,\n",
    "        'target': variable,\n",
    "        'method' : method\n",
    "    }\n",
    ")\n",
    "\n",
    "palette = {\n",
    "    'age' : 'tab:blue',\n",
    "    'CogTotalComp_AgeAdj' : 'tab:green',\n",
    "    'PMAT24_A_CR' : 'tab:orange',\n",
    "    'Flanker_AgeAdj' : 'tab:purple',\n",
    "    'CardSort_AgeAdj' : 'tab:red',\n",
    "    'PicSeq_AgeAdj' : 'tab:brown'\n",
    "}\n",
    "\n",
    "sns.barplot(x='sample size needed', y='method', hue='target', data=bar_df, palette=palette, ci=None,\n",
    "            hue_order = ['age', 'CogTotalComp_AgeAdj', 'PMAT24_A_CR', 'PicSeq_AgeAdj', 'CardSort_AgeAdj', 'Flanker_AgeAdj'])\n",
    "plt.legend(bbox_to_anchor=(1.2, 1), loc=2, borderaxespad=0.)\n",
    "sns.despine()\n",
    "plt.savefig('fig/power_bar_all.pdf')\n",
    "bar_df"
   ],
   "metadata": {
    "collapsed": false
   }
  },
  {
   "cell_type": "markdown",
   "source": [
    "### Replication: Pearson + PCA-SVR"
   ],
   "metadata": {
    "collapsed": false
   }
  },
  {
   "cell_type": "code",
   "execution_count": 58,
   "outputs": [],
   "source": [
    "sample_size_needed = []\n",
    "variable = []\n",
    "method = []"
   ],
   "metadata": {
    "collapsed": false
   }
  },
  {
   "cell_type": "code",
   "execution_count": 59,
   "outputs": [
    {
     "data": {
      "text/plain": "<Figure size 72x72 with 1 Axes>",
      "image/png": "[encoded data removed]"
     },
     "metadata": {},
     "output_type": "display_data"
    }
   ],
   "source": [
    "import numpy as np\n",
    "sns.set(rc={\"figure.figsize\":(1, 1)})\n",
    "sns.set_style(\"white\")\n",
    "# Replicability of:\n",
    "feature = 'netmats_pearson'\n",
    "model = \"PCA_SVR\"\n",
    "df = pd.read_csv('res/hires_results_' + model + '.csv')\n",
    "df_null = pd.read_csv('res/hires_results_null_' + model + '.csv')\n",
    "\n",
    "cols = ['tab:blue', 'tab:green', 'tab:orange', 'tab:purple', 'tab:red', 'tab:brown']\n",
    "for i_target, target in enumerate(['age', 'CogTotalComp_AgeAdj', 'PMAT24_A_CR', 'Flanker_AgeAdj', 'CardSort_AgeAdj', 'PicSeq_AgeAdj']):\n",
    "    tmp = df.loc[(df.target==target) & (df.connectivity==feature)]\n",
    "    tmp_null = df_null.loc[(df_null.target==target) & (df_null.connectivity==feature)]\n",
    "\n",
    "    alpha=0.05\n",
    "    replication_prob = np.zeros(len(tmp.n.unique()))\n",
    "    n_req = 600\n",
    "    for i, n in enumerate(tmp.n.unique()):\n",
    "            tmp2 = tmp[tmp.n == n]\n",
    "            tmp2_null = tmp_null[tmp_null.n == n]\n",
    "            r_discovery_threshold = np.quantile(tmp2_null.r_discovery_cv.dropna(), 1-alpha)\n",
    "\n",
    "            if (tmp2['r_discovery_cv']>=r_discovery_threshold).sum() == 0:\n",
    "                replication_prob[i] = np.nan\n",
    "            else:\n",
    "                 #      #(significant replications among significant discoveries)     / # significant replications\n",
    "                replication_prob[i] = (tmp2.loc[tmp2['r_discovery_cv']>=r_discovery_threshold,'p_replication']<alpha).sum() / (tmp2['r_discovery_cv']>=r_discovery_threshold).sum() * 100\n",
    "\n",
    "            if replication_prob[i] >= 80 and n_req == 600:\n",
    "                n_req = n\n",
    "\n",
    "    sample_size_needed.append(n_req)\n",
    "    variable.append(target)\n",
    "    method.append(feature + '_' + model)\n",
    "\n",
    "    sample_size_needed.append(n_req)\n",
    "    variable.append(target)\n",
    "    method.append(feature + '_' + model)\n",
    "\n",
    "    sns.lineplot(x=tmp.n.unique(), y=replication_prob, color=cols[i_target]).set(title=target)\n",
    "sns.despine()\n",
    "plt.axhline(80, linestyle = 'dashed')\n",
    "plt.axhline(100)\n",
    "plt.xlim(0,500)\n",
    "plt.ylim(0,100)\n",
    "plt.savefig('fig/replication_all_' + feature + '_' + model + '.pdf')"
   ],
   "metadata": {
    "collapsed": false
   }
  },
  {
   "cell_type": "code",
   "execution_count": null,
   "outputs": [],
   "source": [
    "import numpy as np\n",
    "sns.set(rc={\"figure.figsize\":(1, 1)})\n",
    "sns.set_style(\"white\")\n",
    "# Replicability of:\n",
    "feature = 'netmats_parcor'\n",
    "model = \"Ridge\"\n",
    "df = pd.read_csv('res/hires_results_' + model + '.csv')\n",
    "df_null = pd.read_csv('res/hires_results_null_' + model + '.csv')\n",
    "\n",
    "cols = ['tab:blue', 'tab:green', 'tab:orange', 'tab:purple', 'tab:red', 'tab:brown']\n",
    "for i_target, target in enumerate(['age', 'CogTotalComp_AgeAdj', 'PMAT24_A_CR', 'Flanker_AgeAdj', 'CardSort_AgeAdj', 'PicSeq_AgeAdj']):\n",
    "    tmp = df.loc[(df.target==target) & (df.connectivity==feature)]\n",
    "    tmp_null = df_null.loc[(df_null.target==target) & (df_null.connectivity==feature)]\n",
    "\n",
    "    alpha=0.05\n",
    "    replication_prob = np.zeros(len(tmp.n.unique()))\n",
    "    n_req = 600\n",
    "    for i, n in enumerate(tmp.n.unique()):\n",
    "            tmp2 = tmp[tmp.n == n]\n",
    "            tmp2_null = tmp_null[tmp_null.n == n]\n",
    "            r_discovery_threshold = np.quantile(tmp2_null.r_discovery_cv.dropna(), 1-alpha)\n",
    "\n",
    "            if (tmp2['r_discovery_cv']>=r_discovery_threshold).sum() == 0:\n",
    "                replication_prob[i] = np.nan\n",
    "            else:\n",
    "                 #      #(significant replications among significant discoveries)     / # significant replications\n",
    "                replication_prob[i] = (tmp2.loc[tmp2['r_discovery_cv']>=r_discovery_threshold,'p_replication']<alpha).sum() / (tmp2['r_discovery_cv']>=r_discovery_threshold).sum() * 100\n",
    "\n",
    "            if replication_prob[i] >= 80 and n_req == 600:\n",
    "                n_req = n\n",
    "\n",
    "    sample_size_needed.append(n_req)\n",
    "    variable.append(target)\n",
    "    method.append(feature + '_' + model)\n",
    "\n",
    "    sns.lineplot(x=tmp.n.unique(), y=replication_prob, color=cols[i_target]).set(title=target)\n",
    "sns.despine()\n",
    "plt.axhline(80, linestyle = 'dashed')\n",
    "plt.axhline(100)\n",
    "plt.xlim(0,500)\n",
    "plt.ylim(0,100)\n",
    "plt.savefig('fig/replication_all_' + feature + '_' + model + '.pdf')"
   ],
   "metadata": {
    "collapsed": false
   }
  },
  {
   "cell_type": "code",
   "execution_count": null,
   "outputs": [],
   "source": [
    "sns.set(rc={\"figure.figsize\":(1, 2.3)})\n",
    "sns.set_style(\"white\")\n",
    "\n",
    "bar_df = pd.DataFrame(\n",
    "    {\n",
    "        'sample size needed': sample_size_needed,\n",
    "        'target': variable,\n",
    "        'method' : method\n",
    "    }\n",
    ")\n",
    "\n",
    "palette = {\n",
    "    'age' : 'tab:blue',\n",
    "    'CogTotalComp_AgeAdj' : 'tab:green',\n",
    "    'PMAT24_A_CR' : 'tab:orange',\n",
    "    'Flanker_AgeAdj' : 'tab:purple',\n",
    "    'CardSort_AgeAdj' : 'tab:red',\n",
    "    'PicSeq_AgeAdj' : 'tab:brown'\n",
    "}\n",
    "\n",
    "sns.barplot(x='sample size needed', y='method', hue='target', data=bar_df, palette=palette, ci=None,\n",
    "            hue_order = ['age', 'CogTotalComp_AgeAdj', 'PMAT24_A_CR', 'PicSeq_AgeAdj', 'CardSort_AgeAdj', 'Flanker_AgeAdj'])\n",
    "plt.legend(bbox_to_anchor=(1.2, 1), loc=2, borderaxespad=0.)\n",
    "sns.despine()\n",
    "plt.savefig('fig/replication_bar_all.pdf')\n",
    "bar_df"
   ],
   "metadata": {
    "collapsed": false
   }
  },
  {
   "cell_type": "markdown",
   "source": [
    "# True inflation"
   ],
   "metadata": {
    "collapsed": false
   }
  },
  {
   "cell_type": "code",
   "execution_count": null,
   "outputs": [],
   "source": [
    "sample_size_needed = []\n",
    "variable = []\n",
    "method = []"
   ],
   "metadata": {
    "collapsed": false
   }
  },
  {
   "cell_type": "code",
   "execution_count": null,
   "outputs": [],
   "source": [
    "import numpy as np\n",
    "sns.set(rc={\"figure.figsize\":(1, 1)})\n",
    "sns.set_style(\"white\")\n",
    "# Replicability of:\n",
    "feature = 'netmats_pearson'\n",
    "model = \"PCA_SVR\"\n",
    "df = pd.read_csv('res/hires_results_' + model + '.csv')\n",
    "df_null = pd.read_csv('res/hires_results_null_' + model + '.csv')\n",
    "\n",
    "r1 = []\n",
    "r2 = []\n",
    "targets = []\n",
    "ns = []\n",
    "\n",
    "cols = ['tab:blue', 'tab:green', 'tab:orange', 'tab:purple', 'tab:red', 'tab:brown']\n",
    "for i_target, target in enumerate(['age', 'CogTotalComp_AgeAdj', 'PMAT24_A_CR', 'Flanker_AgeAdj', 'CardSort_AgeAdj', 'PicSeq_AgeAdj']):\n",
    "    tmp = df.loc[(df.target==target) & (df.connectivity==feature)]\n",
    "    tmp_null = df_null.loc[(df_null.target==target) & (df_null.connectivity==feature)]\n",
    "\n",
    "    alpha=0.05\n",
    "    replication_prob = np.zeros(len(tmp.n.unique()))\n",
    "    n_req = 600\n",
    "    for i, n in enumerate(tmp.n.unique()):\n",
    "            tmp2 = tmp[tmp.n == n]\n",
    "            tmp2_null = tmp_null[tmp_null.n == n]\n",
    "            r_discovery_threshold = np.quantile(tmp2_null.r_discovery_cv.dropna(), 1-alpha)\n",
    "\n",
    "            num = (tmp2['r_discovery_cv']>=r_discovery_threshold).sum()\n",
    "            if num > 0:\n",
    "\n",
    "                _r1 = tmp2.loc[tmp2['r_discovery_cv']>=r_discovery_threshold, 'r_discovery_cv'].values.tolist()\n",
    "                _r2 = tmp2.loc[tmp2['r_discovery_cv']>=r_discovery_threshold, 'r_replication'].values.tolist()\n",
    "\n",
    "                r1 += _r1\n",
    "                r2 += _r2\n",
    "                ns += [n]*num\n",
    "                targets += [target]*num\n",
    "\n",
    "                # less than 10% inflation\n",
    "                print(target, n, np.mean(np.array(_r1)-np.array(_r2))/np.mean(_r2) )\n",
    "                if 0 < np.mean(np.array(_r1)-np.array(_r2))/np.mean(_r2) < 0.10 and n_req == 600:\n",
    "                    print('!')\n",
    "                    n_req = n\n",
    "\n",
    "    print('*', target, n_req)\n",
    "    sample_size_needed.append(n_req)\n",
    "    variable.append(target)\n",
    "    method.append(feature + '_' + model)\n",
    "\n",
    "inf_df = pd.DataFrame({\n",
    "    'r_discovery': r1,\n",
    "    'r_replication': r2,\n",
    "    'inflation' : np.array(r1)-np.array(r2),\n",
    "    'n': ns,\n",
    "    'target': targets\n",
    "})\n",
    "\n",
    "inf_df.groupby(['target', 'n'])\n",
    "\n",
    "sns.lineplot(x='n', y='inflation', data=inf_df, hue=\"target\", palette=palette, ci=None,\n",
    "             hue_order=['age', 'CogTotalComp_AgeAdj', 'PMAT24_A_CR', 'PicSeq_AgeAdj', 'CardSort_AgeAdj', 'Flanker_AgeAdj'])\n",
    "plt.xlim(0,500)\n",
    "plt.ylim(0,1)\n",
    "sns.despine()\n",
    "plt.legend(bbox_to_anchor=(1.2, 1), loc=2, borderaxespad=0.)\n",
    "plt.savefig('fig/inflation_' + feature + '_' + model + '.pdf')"
   ],
   "metadata": {
    "collapsed": false
   }
  },
  {
   "cell_type": "code",
   "execution_count": null,
   "outputs": [],
   "source": [
    "import numpy as np\n",
    "sns.set(rc={\"figure.figsize\":(1, 1)})\n",
    "sns.set_style(\"white\")\n",
    "# Replicability of:\n",
    "feature = 'netmats_parcor'\n",
    "model = \"Ridge\"\n",
    "df = pd.read_csv('res/hires_results_' + model + '.csv')\n",
    "df_null = pd.read_csv('res/hires_results_null_' + model + '.csv')\n",
    "\n",
    "r1 = []\n",
    "r2 = []\n",
    "targets = []\n",
    "ns = []\n",
    "\n",
    "cols = ['tab:blue', 'tab:green', 'tab:orange', 'tab:purple', 'tab:red', 'tab:brown']\n",
    "for i_target, target in enumerate(['age', 'CogTotalComp_AgeAdj', 'PMAT24_A_CR', 'Flanker_AgeAdj', 'CardSort_AgeAdj', 'PicSeq_AgeAdj']):\n",
    "    tmp = df.loc[(df.target==target) & (df.connectivity==feature)]\n",
    "    tmp_null = df_null.loc[(df_null.target==target) & (df_null.connectivity==feature)]\n",
    "\n",
    "    alpha=0.05\n",
    "    replication_prob = np.zeros(len(tmp.n.unique()))\n",
    "    n_req = 600\n",
    "    for i, n in enumerate(tmp.n.unique()):\n",
    "            tmp2 = tmp[tmp.n == n]\n",
    "            tmp2_null = tmp_null[tmp_null.n == n]\n",
    "            r_discovery_threshold = np.quantile(tmp2_null.r_discovery_cv.dropna(), 1-alpha)\n",
    "\n",
    "            num = (tmp2['r_discovery_cv']>=r_discovery_threshold).sum()\n",
    "            if num > 0:\n",
    "\n",
    "                _r1 = tmp2.loc[tmp2['r_discovery_cv']>=r_discovery_threshold, 'r_discovery_cv'].values.tolist()\n",
    "                _r2 = tmp2.loc[tmp2['r_discovery_cv']>=r_discovery_threshold, 'r_replication'].values.tolist()\n",
    "\n",
    "                r1 += _r1\n",
    "                r2 += _r2\n",
    "                ns += [n]*num\n",
    "                targets += [target]*num\n",
    "\n",
    "                # less than 10% inflation\n",
    "                print(target, n, np.mean(np.array(_r1)-np.array(_r2))/np.mean(_r2) )\n",
    "                if 0 < np.mean(np.array(_r1)-np.array(_r2))/np.mean(_r2) < 0.10 and n_req == 600:\n",
    "                    print('!')\n",
    "                    n_req = n\n",
    "\n",
    "    sample_size_needed.append(n_req)\n",
    "    variable.append(target)\n",
    "    method.append(feature + '_' + model)\n",
    "\n",
    "inf_df = pd.DataFrame({\n",
    "    'r_discovery': r1,\n",
    "    'r_replication': r2,\n",
    "    'inflation' : np.array(r1)-np.array(r2),\n",
    "    'n': ns,\n",
    "    'target': targets\n",
    "})\n",
    "\n",
    "sns.lineplot(x='n', y='inflation', data=inf_df, hue=\"target\", palette=palette, ci=None,\n",
    "             hue_order=['age', 'CogTotalComp_AgeAdj', 'PMAT24_A_CR', 'PicSeq_AgeAdj', 'CardSort_AgeAdj', 'Flanker_AgeAdj'])\n",
    "plt.legend(bbox_to_anchor=(1.2, 1), loc=2, borderaxespad=0.)\n",
    "plt.xlim(0,500)\n",
    "plt.ylim(0,1)\n",
    "sns.despine()\n",
    "plt.savefig('fig/inflation_' + feature + '_' + model + '.pdf')"
   ],
   "metadata": {
    "collapsed": false
   }
  },
  {
   "cell_type": "code",
   "execution_count": null,
   "outputs": [],
   "source": [
    "sns.set_style(\"white\")\n",
    "\n",
    "palette = {\n",
    "    'age' : 'tab:blue',\n",
    "    'CogTotalComp_AgeAdj' : 'tab:green',\n",
    "    'PMAT24_A_CR' : 'tab:orange',\n",
    "    'Flanker_AgeAdj' : 'tab:purple',\n",
    "    'CardSort_AgeAdj' : 'tab:red',\n",
    "    'PicSeq_AgeAdj' : 'tab:brown'\n",
    "}\n",
    "\n",
    "g = sns.FacetGrid(inf_df, col=\"target\", hue=\"target\", xlim=(0,500), ylim=(-0.2, 0.7), height=1.8, aspect=0.8, palette=palette,\n",
    "                  col_order=['age', 'CogTotalComp_AgeAdj', 'PMAT24_A_CR', 'PicSeq_AgeAdj', 'CardSort_AgeAdj', 'Flanker_AgeAdj'])\n",
    "g.map(sns.lineplot, 'n', 'inflation', ci='sd')\n",
    "g.refline(y=0)\n",
    "plt.savefig('fig/true_inflation_all_' + feature + '_' + model + '.pdf')"
   ],
   "metadata": {
    "collapsed": false
   }
  },
  {
   "cell_type": "code",
   "execution_count": null,
   "outputs": [],
   "source": [
    "sns.set(rc={\"figure.figsize\":(1, 2.3)})\n",
    "sns.set_style(\"white\")\n",
    "\n",
    "bar_df = pd.DataFrame(\n",
    "    {\n",
    "        'sample size needed': sample_size_needed,\n",
    "        'target': variable,\n",
    "        'method' : method\n",
    "    }\n",
    ")\n",
    "\n",
    "palette = {\n",
    "    'age' : 'tab:blue',\n",
    "    'CogTotalComp_AgeAdj' : 'tab:green',\n",
    "    'PMAT24_A_CR' : 'tab:orange',\n",
    "    'Flanker_AgeAdj' : 'tab:purple',\n",
    "    'CardSort_AgeAdj' : 'tab:red',\n",
    "    'PicSeq_AgeAdj' : 'tab:brown'\n",
    "}\n",
    "\n",
    "sns.barplot(x='sample size needed', y='method', hue='target', data=bar_df, palette=palette, ci=None,\n",
    "            hue_order = ['age', 'CogTotalComp_AgeAdj', 'PMAT24_A_CR', 'PicSeq_AgeAdj', 'CardSort_AgeAdj', 'Flanker_AgeAdj'])\n",
    "plt.legend(bbox_to_anchor=(1.2, 1), loc=2, borderaxespad=0.)\n",
    "sns.despine()\n",
    "plt.savefig('fig/inflation_bar_all.pdf')\n",
    "bar_df"
   ],
   "metadata": {
    "collapsed": false
   }
  },
  {
   "cell_type": "code",
   "execution_count": null,
   "outputs": [],
   "source": [
    "sample_size_needed = []\n",
    "variable = []\n",
    "method = []"
   ],
   "metadata": {
    "collapsed": false
   }
  },
  {
   "cell_type": "code",
   "execution_count": null,
   "outputs": [],
   "source": [
    "import numpy as np\n",
    "sns.set(rc={\"figure.figsize\":(1, 1)})\n",
    "sns.set_style(\"white\")\n",
    "# Replicability of:\n",
    "feature = 'netmats_parcor'\n",
    "model = \"Ridge\"\n",
    "df = pd.read_csv('res/hires_results_' + model + '.csv')\n",
    "df_null = pd.read_csv('res/hires_results_null_' + model + '.csv')\n",
    "\n",
    "cols = ['tab:blue', 'tab:green', 'tab:orange', 'tab:purple', 'tab:red', 'tab:brown']\n",
    "for i_target, target in enumerate(['age', 'CogTotalComp_AgeAdj', 'PMAT24_A_CR', 'Flanker_AgeAdj', 'CardSort_AgeAdj', 'PicSeq_AgeAdj']):\n",
    "    tmp = df.loc[(df.target==target) & (df.connectivity==feature)]\n",
    "    tmp_null = df_null.loc[(df_null.target==target) & (df_null.connectivity==feature)]\n",
    "\n",
    "    alpha=0.05\n",
    "    replication_prob = np.zeros(len(tmp.n.unique()))\n",
    "    n_req = 600\n",
    "    for i, n in enumerate(tmp.n.unique()):\n",
    "            tmp2 = tmp[tmp.n == n]\n",
    "            tmp2_null = tmp_null[tmp_null.n == n]\n",
    "            r_discovery_threshold = np.quantile(tmp2_null.r_discovery_cv.dropna(), 1-alpha)\n",
    "\n",
    "            if (tmp2['r_discovery_cv']>=r_discovery_threshold).sum() == 0:\n",
    "                replication_prob[i] = np.nan\n",
    "            else:\n",
    "                 #      #(significant replications among significant discoveries)     / # significant replications\n",
    "                replication_prob[i] = (tmp2.loc[tmp2['r_discovery_cv']>=r_discovery_threshold,'p_replication']<alpha).sum() / (tmp2['r_discovery_cv']>=r_discovery_threshold).sum() * 100\n",
    "\n",
    "            if replication_prob[i] >= 80 and n_req == 600:\n",
    "                n_req = n\n",
    "\n",
    "    sample_size_needed.append(n_req)\n",
    "    variable.append(target)\n",
    "    method.append(feature + '_' + model)\n",
    "\n",
    "    sns.lineplot(x=tmp.n.unique(), y=replication_prob, color=cols[i_target]).set(title=target)\n",
    "sns.despine()\n",
    "plt.axhline(80, linestyle = 'dashed')\n",
    "plt.axhline(100)\n",
    "plt.xlim(0,500)\n",
    "plt.ylim(0,100)\n",
    "plt.savefig('fig/replication_all_' + feature + '_' + model + '.pdf')"
   ],
   "metadata": {
    "collapsed": false
   }
  },
  {
   "cell_type": "code",
   "execution_count": null,
   "outputs": [],
   "source": [
    "sns.set(rc={\"figure.figsize\":(1, 2.3)})\n",
    "sns.set_style(\"white\")\n",
    "\n",
    "bar_df = pd.DataFrame(\n",
    "    {\n",
    "        'sample size needed': sample_size_needed,\n",
    "        'target': variable,\n",
    "        'method' : method\n",
    "    }\n",
    ")\n",
    "\n",
    "palette = {\n",
    "    'age' : 'tab:blue',\n",
    "    'CogTotalComp_AgeAdj' : 'tab:green',\n",
    "    'PMAT24_A_CR' : 'tab:orange',\n",
    "    'Flanker_AgeAdj' : 'tab:purple',\n",
    "    'CardSort_AgeAdj' : 'tab:red',\n",
    "    'PicSeq_AgeAdj' : 'tab:brown'\n",
    "}\n",
    "\n",
    "sns.barplot(x='sample size needed', y='method', hue='target', data=bar_df, palette=palette, ci=None,\n",
    "            hue_order = ['age', 'CogTotalComp_AgeAdj', 'PMAT24_A_CR', 'PicSeq_AgeAdj', 'CardSort_AgeAdj', 'Flanker_AgeAdj'])\n",
    "plt.legend(bbox_to_anchor=(1.2, 1), loc=2, borderaxespad=0.)\n",
    "sns.despine()\n",
    "plt.savefig('fig/replication_bar_all.pdf')\n",
    "bar_df"
   ],
   "metadata": {
    "collapsed": false
   }
  },
  {
   "cell_type": "code",
   "execution_count": null,
   "outputs": [],
   "source": [
    "sns.set(rc={\"figure.figsize\":(3, 2)})\n",
    "sns.set_style(\"white\")\n",
    "feature = 'netmats_parcor'\n",
    "model = \"Ridge\"\n",
    "df = pd.read_csv('res/hires_results_' + model + '.csv')\n",
    "df_null = pd.read_csv('res/hires_results_null_' + model + '.csv')\n",
    "sns.histplot(df_null.r_discovery_cv, bins=np.linspace(-0.5, 0.5, 20))\n",
    "plt.show()\n",
    "sns.histplot(df_null.r_discovery_overfit, bins=np.linspace(-0.6+1, 0.6+1, 20))"
   ],
   "metadata": {
    "collapsed": false
   }
  },
  {
   "cell_type": "code",
   "execution_count": null,
   "outputs": [],
   "source": [
    "df_null.r_discovery_overfit.describe()"
   ],
   "metadata": {
    "collapsed": false
   }
  },
  {
   "cell_type": "code",
   "execution_count": null,
   "outputs": [],
   "source": [
    "np.linspace(-1.0, 1.0, 11)"
   ],
   "metadata": {
    "collapsed": false
   }
  },
  {
   "cell_type": "code",
   "execution_count": null,
   "outputs": [],
   "source": [],
   "metadata": {
    "collapsed": false
   }
  },
  {
   "cell_type": "code",
   "execution_count": 405,
   "metadata": {},
   "outputs": [
    {
     "data": {
      "text/html": [
       "<div>\n",
       "<style scoped>\n",
       "    .dataframe tbody tr th:only-of-type {\n",
       "        vertical-align: middle;\n",
       "    }\n",
       "\n",
       "    .dataframe tbody tr th {\n",
       "        vertical-align: top;\n",
       "    }\n",
       "\n",
       "    .dataframe thead th {\n",
       "        text-align: right;\n",
       "    }\n",
       "</style>\n",
       "<table border=\"1\" class=\"dataframe\">\n",
       "  <thead>\n",
       "    <tr style=\"text-align: right;\">\n",
       "      <th></th>\n",
       "      <th>sample size needed</th>\n",
       "      <th>target</th>\n",
       "      <th>method</th>\n",
       "    </tr>\n",
       "  </thead>\n",
       "  <tbody>\n",
       "    <tr>\n",
       "      <th>0</th>\n",
       "      <td>375</td>\n",
       "      <td>age</td>\n",
       "      <td>netmats_pearson_PCA_SVR</td>\n",
       "    </tr>\n",
       "    <tr>\n",
       "      <th>1</th>\n",
       "      <td>400</td>\n",
       "      <td>CogTotalComp_AgeAdj</td>\n",
       "      <td>netmats_pearson_PCA_SVR</td>\n",
       "    </tr>\n",
       "    <tr>\n",
       "      <th>2</th>\n",
       "      <td>375</td>\n",
       "      <td>PMAT24_A_CR</td>\n",
       "      <td>netmats_pearson_PCA_SVR</td>\n",
       "    </tr>\n",
       "    <tr>\n",
       "      <th>3</th>\n",
       "      <td>600</td>\n",
       "      <td>Flanker_AgeAdj</td>\n",
       "      <td>netmats_pearson_PCA_SVR</td>\n",
       "    </tr>\n",
       "    <tr>\n",
       "      <th>4</th>\n",
       "      <td>600</td>\n",
       "      <td>CardSort_AgeAdj</td>\n",
       "      <td>netmats_pearson_PCA_SVR</td>\n",
       "    </tr>\n",
       "    <tr>\n",
       "      <th>5</th>\n",
       "      <td>600</td>\n",
       "      <td>PicSeq_AgeAdj</td>\n",
       "      <td>netmats_pearson_PCA_SVR</td>\n",
       "    </tr>\n",
       "    <tr>\n",
       "      <th>6</th>\n",
       "      <td>100</td>\n",
       "      <td>age</td>\n",
       "      <td>netmats_parcor_Ridge</td>\n",
       "    </tr>\n",
       "    <tr>\n",
       "      <th>7</th>\n",
       "      <td>75</td>\n",
       "      <td>CogTotalComp_AgeAdj</td>\n",
       "      <td>netmats_parcor_Ridge</td>\n",
       "    </tr>\n",
       "    <tr>\n",
       "      <th>8</th>\n",
       "      <td>150</td>\n",
       "      <td>PMAT24_A_CR</td>\n",
       "      <td>netmats_parcor_Ridge</td>\n",
       "    </tr>\n",
       "    <tr>\n",
       "      <th>9</th>\n",
       "      <td>600</td>\n",
       "      <td>Flanker_AgeAdj</td>\n",
       "      <td>netmats_parcor_Ridge</td>\n",
       "    </tr>\n",
       "    <tr>\n",
       "      <th>10</th>\n",
       "      <td>350</td>\n",
       "      <td>CardSort_AgeAdj</td>\n",
       "      <td>netmats_parcor_Ridge</td>\n",
       "    </tr>\n",
       "    <tr>\n",
       "      <th>11</th>\n",
       "      <td>475</td>\n",
       "      <td>PicSeq_AgeAdj</td>\n",
       "      <td>netmats_parcor_Ridge</td>\n",
       "    </tr>\n",
       "  </tbody>\n",
       "</table>\n",
       "</div>"
      ],
      "text/plain": [
       "    sample size needed               target                   method\n",
       "0                  375                  age  netmats_pearson_PCA_SVR\n",
       "1                  400  CogTotalComp_AgeAdj  netmats_pearson_PCA_SVR\n",
       "2                  375          PMAT24_A_CR  netmats_pearson_PCA_SVR\n",
       "3                  600       Flanker_AgeAdj  netmats_pearson_PCA_SVR\n",
       "4                  600      CardSort_AgeAdj  netmats_pearson_PCA_SVR\n",
       "5                  600        PicSeq_AgeAdj  netmats_pearson_PCA_SVR\n",
       "6                  100                  age     netmats_parcor_Ridge\n",
       "7                   75  CogTotalComp_AgeAdj     netmats_parcor_Ridge\n",
       "8                  150          PMAT24_A_CR     netmats_parcor_Ridge\n",
       "9                  600       Flanker_AgeAdj     netmats_parcor_Ridge\n",
       "10                 350      CardSort_AgeAdj     netmats_parcor_Ridge\n",
       "11                 475        PicSeq_AgeAdj     netmats_parcor_Ridge"
      ]
     },
     "execution_count": 405,
     "metadata": {},
     "output_type": "execute_result"
    },
    {
     "data": {
      "image/png": "[encoded data removed]",
      "text/plain": [
       "<Figure size 72x165.6 with 1 Axes>"
      ]
     },
     "metadata": {},
     "output_type": "display_data"
    }
   ],
   "source": [
    "sns.set(rc={\"figure.figsize\":(1, 2.3)})\n",
    "sns.set_style(\"white\")\n",
    "\n",
    "bar_df = pd.DataFrame(\n",
    "    {\n",
    "        'sample size needed': sample_size_needed,\n",
    "        'target': variable,\n",
    "        'method' : method\n",
    "    }\n",
    ")\n",
    "\n",
    "palette = {\n",
    "    'age' : 'tab:blue',\n",
    "    'CogTotalComp_AgeAdj' : 'tab:green',\n",
    "    'PMAT24_A_CR' : 'tab:orange',\n",
    "    'Flanker_AgeAdj' : 'tab:purple',\n",
    "    'CardSort_AgeAdj' : 'tab:red',\n",
    "    'PicSeq_AgeAdj' : 'tab:brown'\n",
    "}\n",
    "\n",
    "sns.barplot(x='sample size needed', y='method', hue='target', data=bar_df, palette=palette, ci=None,\n",
    "            hue_order = ['age', 'CogTotalComp_AgeAdj', 'PMAT24_A_CR', 'PicSeq_AgeAdj', 'CardSort_AgeAdj', 'Flanker_AgeAdj'])\n",
    "plt.legend(bbox_to_anchor=(1.2, 1), loc=2, borderaxespad=0.)\n",
    "sns.despine()\n",
    "plt.savefig('fig/inflation_bar_all.pdf')\n",
    "bar_df"
   ]
  },
  {
   "cell_type": "code",
   "execution_count": 29,
   "metadata": {},
   "outputs": [],
   "source": [
    "sample_size_needed = []\n",
    "variable = []\n",
    "method = []"
   ]
  },
  {
   "cell_type": "code",
   "execution_count": 30,
   "metadata": {},
   "outputs": [
    {
     "data": {
      "image/png": "[encoded data removed]",
      "text/plain": [
       "<Figure size 72x72 with 1 Axes>"
      ]
     },
     "metadata": {},
     "output_type": "display_data"
    }
   ],
   "source": [
    "import numpy as np\n",
    "sns.set(rc={\"figure.figsize\":(1, 1)})\n",
    "sns.set_style(\"white\")\n",
    "# Replicability of:\n",
    "feature = 'netmats_parcor'\n",
    "model = \"Ridge\"\n",
    "df = pd.read_csv('res/hires_results_' + model + '.csv')\n",
    "df_null = pd.read_csv('res/hires_results_null_' + model + '.csv')\n",
    "\n",
    "cols = ['tab:blue', 'tab:green', 'tab:orange', 'tab:purple', 'tab:red', 'tab:brown']\n",
    "for i_target, target in enumerate(['age', 'CogTotalComp_AgeAdj', 'PMAT24_A_CR', 'Flanker_AgeAdj', 'CardSort_AgeAdj', 'PicSeq_AgeAdj']):\n",
    "    tmp = df.loc[(df.target==target) & (df.connectivity==feature)]\n",
    "    tmp_null = df_null.loc[(df_null.target==target) & (df_null.connectivity==feature)]\n",
    "\n",
    "    alpha=0.05\n",
    "    replication_prob = np.zeros(len(tmp.n.unique()))\n",
    "    n_req = 600\n",
    "    for i, n in enumerate(tmp.n.unique()):\n",
    "            tmp2 = tmp[tmp.n == n]\n",
    "            tmp2_null = tmp_null[tmp_null.n == n]\n",
    "            r_discovery_threshold = np.quantile(tmp2_null.r_discovery_cv.dropna(), 1-alpha)\n",
    "\n",
    "            if (tmp2['r_discovery_cv']>=r_discovery_threshold).sum() == 0:\n",
    "                replication_prob[i] = np.nan\n",
    "            else:\n",
    "                 #      #(significant replications among significant discoveries)     / # significant replications\n",
    "                replication_prob[i] = (tmp2.loc[tmp2['r_discovery_cv']>=r_discovery_threshold,'p_replication']<alpha).sum() / (tmp2['r_discovery_cv']>=r_discovery_threshold).sum() * 100\n",
    "\n",
    "            if replication_prob[i] >= 80 and n_req == 600:\n",
    "                n_req = n\n",
    "\n",
    "    sample_size_needed.append(n_req)\n",
    "    variable.append(target)\n",
    "    method.append(feature + '_' + model)\n",
    "\n",
    "    sns.lineplot(x=tmp.n.unique(), y=replication_prob, color=cols[i_target]).set(title=target)\n",
    "sns.despine()\n",
    "plt.axhline(80, linestyle = 'dashed')\n",
    "plt.axhline(100)\n",
    "plt.xlim(0,500)\n",
    "plt.ylim(0,100)\n",
    "plt.savefig('fig/replication_all_' + feature + '_' + model + '.pdf')"
   ]
  },
  {
   "cell_type": "code",
   "execution_count": 31,
   "metadata": {},
   "outputs": [
    {
     "data": {
      "text/html": [
       "<div>\n",
       "<style scoped>\n",
       "    .dataframe tbody tr th:only-of-type {\n",
       "        vertical-align: middle;\n",
       "    }\n",
       "\n",
       "    .dataframe tbody tr th {\n",
       "        vertical-align: top;\n",
       "    }\n",
       "\n",
       "    .dataframe thead th {\n",
       "        text-align: right;\n",
       "    }\n",
       "</style>\n",
       "<table border=\"1\" class=\"dataframe\">\n",
       "  <thead>\n",
       "    <tr style=\"text-align: right;\">\n",
       "      <th></th>\n",
       "      <th>sample size needed</th>\n",
       "      <th>target</th>\n",
       "      <th>method</th>\n",
       "    </tr>\n",
       "  </thead>\n",
       "  <tbody>\n",
       "    <tr>\n",
       "      <th>0</th>\n",
       "      <td>75</td>\n",
       "      <td>age</td>\n",
       "      <td>netmats_parcor_Ridge</td>\n",
       "    </tr>\n",
       "    <tr>\n",
       "      <th>1</th>\n",
       "      <td>75</td>\n",
       "      <td>CogTotalComp_AgeAdj</td>\n",
       "      <td>netmats_parcor_Ridge</td>\n",
       "    </tr>\n",
       "    <tr>\n",
       "      <th>2</th>\n",
       "      <td>125</td>\n",
       "      <td>PMAT24_A_CR</td>\n",
       "      <td>netmats_parcor_Ridge</td>\n",
       "    </tr>\n",
       "    <tr>\n",
       "      <th>3</th>\n",
       "      <td>375</td>\n",
       "      <td>Flanker_AgeAdj</td>\n",
       "      <td>netmats_parcor_Ridge</td>\n",
       "    </tr>\n",
       "    <tr>\n",
       "      <th>4</th>\n",
       "      <td>275</td>\n",
       "      <td>CardSort_AgeAdj</td>\n",
       "      <td>netmats_parcor_Ridge</td>\n",
       "    </tr>\n",
       "    <tr>\n",
       "      <th>5</th>\n",
       "      <td>200</td>\n",
       "      <td>PicSeq_AgeAdj</td>\n",
       "      <td>netmats_parcor_Ridge</td>\n",
       "    </tr>\n",
       "  </tbody>\n",
       "</table>\n",
       "</div>"
      ],
      "text/plain": [
       "   sample size needed               target                method\n",
       "0                  75                  age  netmats_parcor_Ridge\n",
       "1                  75  CogTotalComp_AgeAdj  netmats_parcor_Ridge\n",
       "2                 125          PMAT24_A_CR  netmats_parcor_Ridge\n",
       "3                 375       Flanker_AgeAdj  netmats_parcor_Ridge\n",
       "4                 275      CardSort_AgeAdj  netmats_parcor_Ridge\n",
       "5                 200        PicSeq_AgeAdj  netmats_parcor_Ridge"
      ]
     },
     "execution_count": 31,
     "metadata": {},
     "output_type": "execute_result"
    },
    {
     "data": {
      "image/png": "[encoded data removed]",
      "text/plain": [
       "<Figure size 72x165.6 with 1 Axes>"
      ]
     },
     "metadata": {},
     "output_type": "display_data"
    }
   ],
   "source": [
    "sns.set(rc={\"figure.figsize\":(1, 2.3)})\n",
    "sns.set_style(\"white\")\n",
    "\n",
    "bar_df = pd.DataFrame(\n",
    "    {\n",
    "        'sample size needed': sample_size_needed,\n",
    "        'target': variable,\n",
    "        'method' : method\n",
    "    }\n",
    ")\n",
    "\n",
    "palette = {\n",
    "    'age' : 'tab:blue',\n",
    "    'CogTotalComp_AgeAdj' : 'tab:green',\n",
    "    'PMAT24_A_CR' : 'tab:orange',\n",
    "    'Flanker_AgeAdj' : 'tab:purple',\n",
    "    'CardSort_AgeAdj' : 'tab:red',\n",
    "    'PicSeq_AgeAdj' : 'tab:brown'\n",
    "}\n",
    "\n",
    "sns.barplot(x='sample size needed', y='method', hue='target', data=bar_df, palette=palette, ci=None,\n",
    "            hue_order = ['age', 'CogTotalComp_AgeAdj', 'PMAT24_A_CR', 'PicSeq_AgeAdj', 'CardSort_AgeAdj', 'Flanker_AgeAdj'])\n",
    "plt.legend(bbox_to_anchor=(1.2, 1), loc=2, borderaxespad=0.)\n",
    "sns.despine()\n",
    "plt.savefig('fig/replication_bar_all.pdf')\n",
    "bar_df"
   ]
  },
  {
   "cell_type": "code",
   "execution_count": 57,
   "metadata": {},
   "outputs": [
    {
     "data": {
      "image/png": "[encoded data removed]",
      "text/plain": [
       "<Figure size 216x144 with 1 Axes>"
      ]
     },
     "metadata": {},
     "output_type": "display_data"
    },
    {
     "data": {
      "text/plain": [
       "<AxesSubplot:xlabel='r_discovery_overfit', ylabel='Count'>"
      ]
     },
     "execution_count": 57,
     "metadata": {},
     "output_type": "execute_result"
    },
    {
     "data": {
      "image/png": "[encoded data removed]",
      "text/plain": [
       "<Figure size 216x144 with 1 Axes>"
      ]
     },
     "metadata": {},
     "output_type": "display_data"
    }
   ],
   "source": [
    "sns.set(rc={\"figure.figsize\":(3, 2)})\n",
    "sns.set_style(\"white\")\n",
    "feature = 'netmats_parcor'\n",
    "model = \"Ridge\"\n",
    "df = pd.read_csv('res/hires_results_' + model + '.csv')\n",
    "df_null = pd.read_csv('res/hires_results_null_' + model + '.csv')\n",
    "sns.histplot(df_null.r_discovery_cv, bins=np.linspace(-0.5, 0.5, 20))\n",
    "plt.show()\n",
    "sns.histplot(df_null.r_discovery_overfit, bins=np.linspace(-0.6+1, 0.6+1, 20))"
   ]
  },
  {
   "cell_type": "code",
   "execution_count": 46,
   "metadata": {},
   "outputs": [
    {
     "data": {
      "text/plain": [
       "count    1.200000e+04\n",
       "mean     1.000000e+00\n",
       "std      3.644590e-10\n",
       "min      1.000000e+00\n",
       "25%      1.000000e+00\n",
       "50%      1.000000e+00\n",
       "75%      1.000000e+00\n",
       "max      1.000000e+00\n",
       "Name: r_discovery_overfit, dtype: float64"
      ]
     },
     "execution_count": 46,
     "metadata": {},
     "output_type": "execute_result"
    }
   ],
   "source": [
    "df_null.r_discovery_overfit.describe()"
   ]
  },
  {
   "cell_type": "code",
   "execution_count": 51,
   "metadata": {},
   "outputs": [
    {
     "data": {
      "text/plain": [
       "array([-1. , -0.8, -0.6, -0.4, -0.2,  0. ,  0.2,  0.4,  0.6,  0.8,  1. ])"
      ]
     },
     "execution_count": 51,
     "metadata": {},
     "output_type": "execute_result"
    }
   ],
   "source": [
    "np.linspace(-1.0, 1.0, 11)"
   ]
  },
  {
   "cell_type": "code",
   "execution_count": 13,
   "metadata": {},
   "outputs": [],
   "source": [
    "\n"
   ]
  },
  {
   "cell_type": "code",
   "execution_count": 13,
   "outputs": [
    {
     "name": "stderr",
     "output_type": "stream",
     "text": [
      "Traceback (most recent call last):\n",
      "  File \"/home/tspisak/miniconda3/envs/rapids-0.18/lib/python3.7/site-packages/matplotlib/cbook/__init__.py\", line 196, in process\n",
      "    func(*args, **kwargs)\n",
      "  File \"/home/tspisak/miniconda3/envs/rapids-0.18/lib/python3.7/site-packages/matplotlib/animation.py\", line 1467, in _stop\n",
      "    self.event_source.remove_callback(self._loop_delay)\n",
      "AttributeError: 'NoneType' object has no attribute 'remove_callback'\n"
     ]
    },
    {
     "data": {
      "text/plain": "<IPython.core.display.Javascript object>",
      "application/javascript": "/* Put everything inside the global mpl namespace */\nwindow.mpl = {};\n\n\nmpl.get_websocket_type = function() {\n    if (typeof(WebSocket) !== 'undefined') {\n        return WebSocket;\n    } else if (typeof(MozWebSocket) !== 'undefined') {\n        return MozWebSocket;\n    } else {\n        alert('Your browser does not have WebSocket support. ' +\n              'Please try Chrome, Safari or Firefox ≥ 6. ' +\n              'Firefox 4 and 5 are also supported but you ' +\n              'have to enable WebSockets in about:config.');\n    };\n}\n\nmpl.figure = function(figure_id, websocket, ondownload, parent_element) {\n    this.id = figure_id;\n\n    this.ws = websocket;\n\n    this.supports_binary = (this.ws.binaryType != undefined);\n\n    if (!this.supports_binary) {\n        var warnings = document.getElementById(\"mpl-warnings\");\n        if (warnings) {\n            warnings.style.display = 'block';\n            warnings.textContent = (\n                \"This browser does not support binary websocket messages. \" +\n                    \"Performance may be slow.\");\n        }\n    }\n\n    this.imageObj = new Image();\n\n    this.context = undefined;\n    this.message = undefined;\n    this.canvas = undefined;\n    this.rubberband_canvas = undefined;\n    this.rubberband_context = undefined;\n    this.format_dropdown = undefined;\n\n    this.image_mode = 'full';\n\n    this.root = $('<div/>');\n    this._root_extra_style(this.root)\n    this.root.attr('style', 'display: inline-block');\n\n    $(parent_element).append(this.root);\n\n    this._init_header(this);\n    this._init_canvas(this);\n    this._init_toolbar(this);\n\n    var fig = this;\n\n    this.waiting = false;\n\n    this.ws.onopen =  function () {\n            fig.send_message(\"supports_binary\", {value: fig.supports_binary});\n            fig.send_message(\"send_image_mode\", {});\n            if (mpl.ratio != 1) {\n                fig.send_message(\"set_dpi_ratio\", {'dpi_ratio': mpl.ratio});\n            }\n            fig.send_message(\"refresh\", {});\n        }\n\n    this.imageObj.onload = function() {\n            if (fig.image_mode == 'full') {\n                // Full images could contain transparency (where diff images\n                // almost always do), so we need to clear the canvas so that\n                // there is no ghosting.\n                fig.context.clearRect(0, 0, fig.canvas.width, fig.canvas.height);\n            }\n            fig.context.drawImage(fig.imageObj, 0, 0);\n        };\n\n    this.imageObj.onunload = function() {\n        fig.ws.close();\n    }\n\n    this.ws.onmessage = this._make_on_message_function(this);\n\n    this.ondownload = ondownload;\n}\n\nmpl.figure.prototype._init_header = function() {\n    var titlebar = $(\n        '<div class=\"ui-dialog-titlebar ui-widget-header ui-corner-all ' +\n        'ui-helper-clearfix\"/>');\n    var titletext = $(\n        '<div class=\"ui-dialog-title\" style=\"width: 100%; ' +\n        'text-align: center; padding: 3px;\"/>');\n    titlebar.append(titletext)\n    this.root.append(titlebar);\n    this.header = titletext[0];\n}\n\n\n\nmpl.figure.prototype._canvas_extra_style = function(canvas_div) {\n\n}\n\n\nmpl.figure.prototype._root_extra_style = function(canvas_div) {\n\n}\n\nmpl.figure.prototype._init_canvas = function() {\n    var fig = this;\n\n    var canvas_div = $('<div/>');\n\n    canvas_div.attr('style', 'position: relative; clear: both; outline: 0');\n\n    function canvas_keyboard_event(event) {\n        return fig.key_event(event, event['data']);\n    }\n\n    canvas_div.keydown('key_press', canvas_keyboard_event);\n    canvas_div.keyup('key_release', canvas_keyboard_event);\n    this.canvas_div = canvas_div\n    this._canvas_extra_style(canvas_div)\n    this.root.append(canvas_div);\n\n    var canvas = $('<canvas/>');\n    canvas.addClass('mpl-canvas');\n    canvas.attr('style', \"left: 0; top: 0; z-index: 0; outline: 0\")\n\n    this.canvas = canvas[0];\n    this.context = canvas[0].getContext(\"2d\");\n\n    var backingStore = this.context.backingStorePixelRatio ||\n\tthis.context.webkitBackingStorePixelRatio ||\n\tthis.context.mozBackingStorePixelRatio ||\n\tthis.context.msBackingStorePixelRatio ||\n\tthis.context.oBackingStorePixelRatio ||\n\tthis.context.backingStorePixelRatio || 1;\n\n    mpl.ratio = (window.devicePixelRatio || 1) / backingStore;\n\n    var rubberband = $('<canvas/>');\n    rubberband.attr('style', \"position: absolute; left: 0; top: 0; z-index: 1;\")\n\n    var pass_mouse_events = true;\n\n    canvas_div.resizable({\n        start: function(event, ui) {\n            pass_mouse_events = false;\n        },\n        resize: function(event, ui) {\n            fig.request_resize(ui.size.width, ui.size.height);\n        },\n        stop: function(event, ui) {\n            pass_mouse_events = true;\n            fig.request_resize(ui.size.width, ui.size.height);\n        },\n    });\n\n    function mouse_event_fn(event) {\n        if (pass_mouse_events)\n            return fig.mouse_event(event, event['data']);\n    }\n\n    rubberband.mousedown('button_press', mouse_event_fn);\n    rubberband.mouseup('button_release', mouse_event_fn);\n    // Throttle sequential mouse events to 1 every 20ms.\n    rubberband.mousemove('motion_notify', mouse_event_fn);\n\n    rubberband.mouseenter('figure_enter', mouse_event_fn);\n    rubberband.mouseleave('figure_leave', mouse_event_fn);\n\n    canvas_div.on(\"wheel\", function (event) {\n        event = event.originalEvent;\n        event['data'] = 'scroll'\n        if (event.deltaY < 0) {\n            event.step = 1;\n        } else {\n            event.step = -1;\n        }\n        mouse_event_fn(event);\n    });\n\n    canvas_div.append(canvas);\n    canvas_div.append(rubberband);\n\n    this.rubberband = rubberband;\n    this.rubberband_canvas = rubberband[0];\n    this.rubberband_context = rubberband[0].getContext(\"2d\");\n    this.rubberband_context.strokeStyle = \"#000000\";\n\n    this._resize_canvas = function(width, height) {\n        // Keep the size of the canvas, canvas container, and rubber band\n        // canvas in synch.\n        canvas_div.css('width', width)\n        canvas_div.css('height', height)\n\n        canvas.attr('width', width * mpl.ratio);\n        canvas.attr('height', height * mpl.ratio);\n        canvas.attr('style', 'width: ' + width + 'px; height: ' + height + 'px;');\n\n        rubberband.attr('width', width);\n        rubberband.attr('height', height);\n    }\n\n    // Set the figure to an initial 600x600px, this will subsequently be updated\n    // upon first draw.\n    this._resize_canvas(600, 600);\n\n    // Disable right mouse context menu.\n    $(this.rubberband_canvas).bind(\"contextmenu\",function(e){\n        return false;\n    });\n\n    function set_focus () {\n        canvas.focus();\n        canvas_div.focus();\n    }\n\n    window.setTimeout(set_focus, 100);\n}\n\nmpl.figure.prototype._init_toolbar = function() {\n    var fig = this;\n\n    var nav_element = $('<div/>');\n    nav_element.attr('style', 'width: 100%');\n    this.root.append(nav_element);\n\n    // Define a callback function for later on.\n    function toolbar_event(event) {\n        return fig.toolbar_button_onclick(event['data']);\n    }\n    function toolbar_mouse_event(event) {\n        return fig.toolbar_button_onmouseover(event['data']);\n    }\n\n    for(var toolbar_ind in mpl.toolbar_items) {\n        var name = mpl.toolbar_items[toolbar_ind][0];\n        var tooltip = mpl.toolbar_items[toolbar_ind][1];\n        var image = mpl.toolbar_items[toolbar_ind][2];\n        var method_name = mpl.toolbar_items[toolbar_ind][3];\n\n        if (!name) {\n            // put a spacer in here.\n            continue;\n        }\n        var button = $('<button/>');\n        button.addClass('ui-button ui-widget ui-state-default ui-corner-all ' +\n                        'ui-button-icon-only');\n        button.attr('role', 'button');\n        button.attr('aria-disabled', 'false');\n        button.click(method_name, toolbar_event);\n        button.mouseover(tooltip, toolbar_mouse_event);\n\n        var icon_img = $('<span/>');\n        icon_img.addClass('ui-button-icon-primary ui-icon');\n        icon_img.addClass(image);\n        icon_img.addClass('ui-corner-all');\n\n        var tooltip_span = $('<span/>');\n        tooltip_span.addClass('ui-button-text');\n        tooltip_span.html(tooltip);\n\n        button.append(icon_img);\n        button.append(tooltip_span);\n\n        nav_element.append(button);\n    }\n\n    var fmt_picker_span = $('<span/>');\n\n    var fmt_picker = $('<select/>');\n    fmt_picker.addClass('mpl-toolbar-option ui-widget ui-widget-content');\n    fmt_picker_span.append(fmt_picker);\n    nav_element.append(fmt_picker_span);\n    this.format_dropdown = fmt_picker[0];\n\n    for (var ind in mpl.extensions) {\n        var fmt = mpl.extensions[ind];\n        var option = $(\n            '<option/>', {selected: fmt === mpl.default_extension}).html(fmt);\n        fmt_picker.append(option);\n    }\n\n    // Add hover states to the ui-buttons\n    $( \".ui-button\" ).hover(\n        function() { $(this).addClass(\"ui-state-hover\");},\n        function() { $(this).removeClass(\"ui-state-hover\");}\n    );\n\n    var status_bar = $('<span class=\"mpl-message\"/>');\n    nav_element.append(status_bar);\n    this.message = status_bar[0];\n}\n\nmpl.figure.prototype.request_resize = function(x_pixels, y_pixels) {\n    // Request matplotlib to resize the figure. Matplotlib will then trigger a resize in the client,\n    // which will in turn request a refresh of the image.\n    this.send_message('resize', {'width': x_pixels, 'height': y_pixels});\n}\n\nmpl.figure.prototype.send_message = function(type, properties) {\n    properties['type'] = type;\n    properties['figure_id'] = this.id;\n    this.ws.send(JSON.stringify(properties));\n}\n\nmpl.figure.prototype.send_draw_message = function() {\n    if (!this.waiting) {\n        this.waiting = true;\n        this.ws.send(JSON.stringify({type: \"draw\", figure_id: this.id}));\n    }\n}\n\n\nmpl.figure.prototype.handle_save = function(fig, msg) {\n    var format_dropdown = fig.format_dropdown;\n    var format = format_dropdown.options[format_dropdown.selectedIndex].value;\n    fig.ondownload(fig, format);\n}\n\n\nmpl.figure.prototype.handle_resize = function(fig, msg) {\n    var size = msg['size'];\n    if (size[0] != fig.canvas.width || size[1] != fig.canvas.height) {\n        fig._resize_canvas(size[0], size[1]);\n        fig.send_message(\"refresh\", {});\n    };\n}\n\nmpl.figure.prototype.handle_rubberband = function(fig, msg) {\n    var x0 = msg['x0'] / mpl.ratio;\n    var y0 = (fig.canvas.height - msg['y0']) / mpl.ratio;\n    var x1 = msg['x1'] / mpl.ratio;\n    var y1 = (fig.canvas.height - msg['y1']) / mpl.ratio;\n    x0 = Math.floor(x0) + 0.5;\n    y0 = Math.floor(y0) + 0.5;\n    x1 = Math.floor(x1) + 0.5;\n    y1 = Math.floor(y1) + 0.5;\n    var min_x = Math.min(x0, x1);\n    var min_y = Math.min(y0, y1);\n    var width = Math.abs(x1 - x0);\n    var height = Math.abs(y1 - y0);\n\n    fig.rubberband_context.clearRect(\n        0, 0, fig.canvas.width / mpl.ratio, fig.canvas.height / mpl.ratio);\n\n    fig.rubberband_context.strokeRect(min_x, min_y, width, height);\n}\n\nmpl.figure.prototype.handle_figure_label = function(fig, msg) {\n    // Updates the figure title.\n    fig.header.textContent = msg['label'];\n}\n\nmpl.figure.prototype.handle_cursor = function(fig, msg) {\n    var cursor = msg['cursor'];\n    switch(cursor)\n    {\n    case 0:\n        cursor = 'pointer';\n        break;\n    case 1:\n        cursor = 'default';\n        break;\n    case 2:\n        cursor = 'crosshair';\n        break;\n    case 3:\n        cursor = 'move';\n        break;\n    }\n    fig.rubberband_canvas.style.cursor = cursor;\n}\n\nmpl.figure.prototype.handle_message = function(fig, msg) {\n    fig.message.textContent = msg['message'];\n}\n\nmpl.figure.prototype.handle_draw = function(fig, msg) {\n    // Request the server to send over a new figure.\n    fig.send_draw_message();\n}\n\nmpl.figure.prototype.handle_image_mode = function(fig, msg) {\n    fig.image_mode = msg['mode'];\n}\n\nmpl.figure.prototype.updated_canvas_event = function() {\n    // Called whenever the canvas gets updated.\n    this.send_message(\"ack\", {});\n}\n\n// A function to construct a web socket function for onmessage handling.\n// Called in the figure constructor.\nmpl.figure.prototype._make_on_message_function = function(fig) {\n    return function socket_on_message(evt) {\n        if (evt.data instanceof Blob) {\n            /* FIXME: We get \"Resource interpreted as Image but\n             * transferred with MIME type text/plain:\" errors on\n             * Chrome.  But how to set the MIME type?  It doesn't seem\n             * to be part of the websocket stream */\n            evt.data.type = \"image/png\";\n\n            /* Free the memory for the previous frames */\n            if (fig.imageObj.src) {\n                (window.URL || window.webkitURL).revokeObjectURL(\n                    fig.imageObj.src);\n            }\n\n            fig.imageObj.src = (window.URL || window.webkitURL).createObjectURL(\n                evt.data);\n            fig.updated_canvas_event();\n            fig.waiting = false;\n            return;\n        }\n        else if (typeof evt.data === 'string' && evt.data.slice(0, 21) == \"data:image/png;base64\") {\n            fig.imageObj.src = evt.data;\n            fig.updated_canvas_event();\n            fig.waiting = false;\n            return;\n        }\n\n        var msg = JSON.parse(evt.data);\n        var msg_type = msg['type'];\n\n        // Call the  \"handle_{type}\" callback, which takes\n        // the figure and JSON message as its only arguments.\n        try {\n            var callback = fig[\"handle_\" + msg_type];\n        } catch (e) {\n            console.log(\"No handler for the '\" + msg_type + \"' message type: \", msg);\n            return;\n        }\n\n        if (callback) {\n            try {\n                // console.log(\"Handling '\" + msg_type + \"' message: \", msg);\n                callback(fig, msg);\n            } catch (e) {\n                console.log(\"Exception inside the 'handler_\" + msg_type + \"' callback:\", e, e.stack, msg);\n            }\n        }\n    };\n}\n\n// from http://stackoverflow.com/questions/1114465/getting-mouse-location-in-canvas\nmpl.findpos = function(e) {\n    //this section is from http://www.quirksmode.org/js/events_properties.html\n    var targ;\n    if (!e)\n        e = window.event;\n    if (e.target)\n        targ = e.target;\n    else if (e.srcElement)\n        targ = e.srcElement;\n    if (targ.nodeType == 3) // defeat Safari bug\n        targ = targ.parentNode;\n\n    // jQuery normalizes the pageX and pageY\n    // pageX,Y are the mouse positions relative to the document\n    // offset() returns the position of the element relative to the document\n    var x = e.pageX - $(targ).offset().left;\n    var y = e.pageY - $(targ).offset().top;\n\n    return {\"x\": x, \"y\": y};\n};\n\n/*\n * return a copy of an object with only non-object keys\n * we need this to avoid circular references\n * http://stackoverflow.com/a/24161582/3208463\n */\nfunction simpleKeys (original) {\n  return Object.keys(original).reduce(function (obj, key) {\n    if (typeof original[key] !== 'object')\n        obj[key] = original[key]\n    return obj;\n  }, {});\n}\n\nmpl.figure.prototype.mouse_event = function(event, name) {\n    var canvas_pos = mpl.findpos(event)\n\n    if (name === 'button_press')\n    {\n        this.canvas.focus();\n        this.canvas_div.focus();\n    }\n\n    var x = canvas_pos.x * mpl.ratio;\n    var y = canvas_pos.y * mpl.ratio;\n\n    this.send_message(name, {x: x, y: y, button: event.button,\n                             step: event.step,\n                             guiEvent: simpleKeys(event)});\n\n    /* This prevents the web browser from automatically changing to\n     * the text insertion cursor when the button is pressed.  We want\n     * to control all of the cursor setting manually through the\n     * 'cursor' event from matplotlib */\n    event.preventDefault();\n    return false;\n}\n\nmpl.figure.prototype._key_event_extra = function(event, name) {\n    // Handle any extra behaviour associated with a key event\n}\n\nmpl.figure.prototype.key_event = function(event, name) {\n\n    // Prevent repeat events\n    if (name == 'key_press')\n    {\n        if (event.which === this._key)\n            return;\n        else\n            this._key = event.which;\n    }\n    if (name == 'key_release')\n        this._key = null;\n\n    var value = '';\n    if (event.ctrlKey && event.which != 17)\n        value += \"ctrl+\";\n    if (event.altKey && event.which != 18)\n        value += \"alt+\";\n    if (event.shiftKey && event.which != 16)\n        value += \"shift+\";\n\n    value += 'k';\n    value += event.which.toString();\n\n    this._key_event_extra(event, name);\n\n    this.send_message(name, {key: value,\n                             guiEvent: simpleKeys(event)});\n    return false;\n}\n\nmpl.figure.prototype.toolbar_button_onclick = function(name) {\n    if (name == 'download') {\n        this.handle_save(this, null);\n    } else {\n        this.send_message(\"toolbar_button\", {name: name});\n    }\n};\n\nmpl.figure.prototype.toolbar_button_onmouseover = function(tooltip) {\n    this.message.textContent = tooltip;\n};\nmpl.toolbar_items = [[\"Home\", \"Reset original view\", \"fa fa-home icon-home\", \"home\"], [\"Back\", \"Back to previous view\", \"fa fa-arrow-left icon-arrow-left\", \"back\"], [\"Forward\", \"Forward to next view\", \"fa fa-arrow-right icon-arrow-right\", \"forward\"], [\"\", \"\", \"\", \"\"], [\"Pan\", \"Pan axes with left mouse, zoom with right\", \"fa fa-arrows icon-move\", \"pan\"], [\"Zoom\", \"Zoom to rectangle\", \"fa fa-square-o icon-check-empty\", \"zoom\"], [\"\", \"\", \"\", \"\"], [\"Download\", \"Download plot\", \"fa fa-floppy-o icon-save\", \"download\"]];\n\nmpl.extensions = [\"eps\", \"jpeg\", \"pdf\", \"png\", \"ps\", \"raw\", \"svg\", \"tif\"];\n\nmpl.default_extension = \"png\";var comm_websocket_adapter = function(comm) {\n    // Create a \"websocket\"-like object which calls the given IPython comm\n    // object with the appropriate methods. Currently this is a non binary\n    // socket, so there is still some room for performance tuning.\n    var ws = {};\n\n    ws.close = function() {\n        comm.close()\n    };\n    ws.send = function(m) {\n        //console.log('sending', m);\n        comm.send(m);\n    };\n    // Register the callback with on_msg.\n    comm.on_msg(function(msg) {\n        //console.log('receiving', msg['content']['data'], msg);\n        // Pass the mpl event to the overridden (by mpl) onmessage function.\n        ws.onmessage(msg['content']['data'])\n    });\n    return ws;\n}\n\nmpl.mpl_figure_comm = function(comm, msg) {\n    // This is the function which gets called when the mpl process\n    // starts-up an IPython Comm through the \"matplotlib\" channel.\n\n    var id = msg.content.data.id;\n    // Get hold of the div created by the display call when the Comm\n    // socket was opened in Python.\n    var element = $(\"#\" + id);\n    var ws_proxy = comm_websocket_adapter(comm)\n\n    function ondownload(figure, format) {\n        window.open(figure.imageObj.src);\n    }\n\n    var fig = new mpl.figure(id, ws_proxy,\n                           ondownload,\n                           element.get(0));\n\n    // Call onopen now - mpl needs it, as it is assuming we've passed it a real\n    // web socket which is closed, not our websocket->open comm proxy.\n    ws_proxy.onopen();\n\n    fig.parent_element = element.get(0);\n    fig.cell_info = mpl.find_output_cell(\"<div id='\" + id + \"'></div>\");\n    if (!fig.cell_info) {\n        console.error(\"Failed to find cell for figure\", id, fig);\n        return;\n    }\n\n    var output_index = fig.cell_info[2]\n    var cell = fig.cell_info[0];\n\n};\n\nmpl.figure.prototype.handle_close = function(fig, msg) {\n    var width = fig.canvas.width/mpl.ratio\n    fig.root.unbind('remove')\n\n    // Update the output cell to use the data from the current canvas.\n    fig.push_to_output();\n    var dataURL = fig.canvas.toDataURL();\n    // Re-enable the keyboard manager in IPython - without this line, in FF,\n    // the notebook keyboard shortcuts fail.\n    IPython.keyboard_manager.enable()\n    $(fig.parent_element).html('<img src=\"' + dataURL + '\" width=\"' + width + '\">');\n    fig.close_ws(fig, msg);\n}\n\nmpl.figure.prototype.close_ws = function(fig, msg){\n    fig.send_message('closing', msg);\n    // fig.ws.close()\n}\n\nmpl.figure.prototype.push_to_output = function(remove_interactive) {\n    // Turn the data on the canvas into data in the output cell.\n    var width = this.canvas.width/mpl.ratio\n    var dataURL = this.canvas.toDataURL();\n    this.cell_info[1]['text/html'] = '<img src=\"' + dataURL + '\" width=\"' + width + '\">';\n}\n\nmpl.figure.prototype.updated_canvas_event = function() {\n    // Tell IPython that the notebook contents must change.\n    IPython.notebook.set_dirty(true);\n    this.send_message(\"ack\", {});\n    var fig = this;\n    // Wait a second, then push the new image to the DOM so\n    // that it is saved nicely (might be nice to debounce this).\n    setTimeout(function () { fig.push_to_output() }, 1000);\n}\n\nmpl.figure.prototype._init_toolbar = function() {\n    var fig = this;\n\n    var nav_element = $('<div/>');\n    nav_element.attr('style', 'width: 100%');\n    this.root.append(nav_element);\n\n    // Define a callback function for later on.\n    function toolbar_event(event) {\n        return fig.toolbar_button_onclick(event['data']);\n    }\n    function toolbar_mouse_event(event) {\n        return fig.toolbar_button_onmouseover(event['data']);\n    }\n\n    for(var toolbar_ind in mpl.toolbar_items){\n        var name = mpl.toolbar_items[toolbar_ind][0];\n        var tooltip = mpl.toolbar_items[toolbar_ind][1];\n        var image = mpl.toolbar_items[toolbar_ind][2];\n        var method_name = mpl.toolbar_items[toolbar_ind][3];\n\n        if (!name) { continue; };\n\n        var button = $('<button class=\"btn btn-default\" href=\"#\" title=\"' + name + '\"><i class=\"fa ' + image + ' fa-lg\"></i></button>');\n        button.click(method_name, toolbar_event);\n        button.mouseover(tooltip, toolbar_mouse_event);\n        nav_element.append(button);\n    }\n\n    // Add the status bar.\n    var status_bar = $('<span class=\"mpl-message\" style=\"text-align:right; float: right;\"/>');\n    nav_element.append(status_bar);\n    this.message = status_bar[0];\n\n    // Add the close button to the window.\n    var buttongrp = $('<div class=\"btn-group inline pull-right\"></div>');\n    var button = $('<button class=\"btn btn-mini btn-primary\" href=\"#\" title=\"Stop Interaction\"><i class=\"fa fa-power-off icon-remove icon-large\"></i></button>');\n    button.click(function (evt) { fig.handle_close(fig, {}); } );\n    button.mouseover('Stop Interaction', toolbar_mouse_event);\n    buttongrp.append(button);\n    var titlebar = this.root.find($('.ui-dialog-titlebar'));\n    titlebar.prepend(buttongrp);\n}\n\nmpl.figure.prototype._root_extra_style = function(el){\n    var fig = this\n    el.on(\"remove\", function(){\n\tfig.close_ws(fig, {});\n    });\n}\n\nmpl.figure.prototype._canvas_extra_style = function(el){\n    // this is important to make the div 'focusable\n    el.attr('tabindex', 0)\n    // reach out to IPython and tell the keyboard manager to turn it's self\n    // off when our div gets focus\n\n    // location in version 3\n    if (IPython.notebook.keyboard_manager) {\n        IPython.notebook.keyboard_manager.register_events(el);\n    }\n    else {\n        // location in version 2\n        IPython.keyboard_manager.register_events(el);\n    }\n\n}\n\nmpl.figure.prototype._key_event_extra = function(event, name) {\n    var manager = IPython.notebook.keyboard_manager;\n    if (!manager)\n        manager = IPython.keyboard_manager;\n\n    // Check for shift+enter\n    if (event.shiftKey && event.which == 13) {\n        this.canvas_div.blur();\n        // select the cell after this one\n        var index = IPython.notebook.find_cell_index(this.cell_info[0]);\n        IPython.notebook.select(index + 1);\n    }\n}\n\nmpl.figure.prototype.handle_save = function(fig, msg) {\n    fig.ondownload(fig, null);\n}\n\n\nmpl.find_output_cell = function(html_output) {\n    // Return the cell and output element which can be found *uniquely* in the notebook.\n    // Note - this is a bit hacky, but it is done because the \"notebook_saving.Notebook\"\n    // IPython event is triggered only after the cells have been serialised, which for\n    // our purposes (turning an active figure into a static one), is too late.\n    var cells = IPython.notebook.get_cells();\n    var ncells = cells.length;\n    for (var i=0; i<ncells; i++) {\n        var cell = cells[i];\n        if (cell.cell_type === 'code'){\n            for (var j=0; j<cell.output_area.outputs.length; j++) {\n                var data = cell.output_area.outputs[j];\n                if (data.data) {\n                    // IPython >= 3 moved mimebundle to data attribute of output\n                    data = data.data;\n                }\n                if (data['text/html'] == html_output) {\n                    return [cell, data, j];\n                }\n            }\n        }\n    }\n}\n\n// Register the function which deals with the matplotlib target/channel.\n// The kernel may be null if the page has been refreshed.\nif (IPython.notebook.kernel != null) {\n    IPython.notebook.kernel.comm_manager.register_target('matplotlib', mpl.mpl_figure_comm);\n}\n"
     },
     "metadata": {},
     "output_type": "display_data"
    },
    {
     "data": {
      "text/plain": "<IPython.core.display.HTML object>",
      "text/html": "<div id='17ab6b3f-17f5-4393-ba61-c8ea56151728'></div>"
     },
     "metadata": {},
     "output_type": "display_data"
    }
   ],
   "source": [],
   "metadata": {
    "collapsed": false
   }
  },
  {
   "cell_type": "code",
   "execution_count": null,
   "outputs": [],
   "source": [],
   "metadata": {
    "collapsed": false
   }
  }
 ],
 "metadata": {
  "kernelspec": {
   "display_name": "Python 3 (ipykernel)",
   "language": "python",
   "name": "python3"
  },
  "language_info": {
   "codemirror_mode": {
    "name": "ipython",
    "version": 3
   },
   "file_extension": ".py",
   "mimetype": "text/x-python",
   "name": "python",
   "nbconvert_exporter": "python",
   "pygments_lexer": "ipython3",
   "version": "3.8.10"
  }
 },
 "nbformat": 4,
 "nbformat_minor": 1
}

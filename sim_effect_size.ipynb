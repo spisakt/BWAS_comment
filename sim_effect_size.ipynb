{
 "cells": [
  {
   "cell_type": "code",
   "execution_count": 3,
   "metadata": {
    "collapsed": true,
    "pycharm": {
     "name": "#%%\n"
    }
   },
   "outputs": [],
   "source": [
    "import numpy as np\n",
    "from scipy.stats import pearsonr\n",
    "import pandas as pd\n",
    "\n",
    "def simulate_sample(true_effect, n, seed=None):\n",
    "    rng = np.random.default_rng(seed=seed)\n",
    "    cov = np.array([[1, true_effect],\n",
    "                    [true_effect, 1]])\n",
    "    #discovery\n",
    "    y, yhat = zip(*rng.multivariate_normal(mean=[0,0], cov=cov, size=n))\n",
    "    stat1 = pearsonr(x=y, y=yhat)\n",
    "\n",
    "    # replication\n",
    "    y, yhat = zip(*rng.multivariate_normal(mean=[0,0], cov=cov, size=n))\n",
    "    stat2 = pearsonr(x=y, y=yhat)\n",
    "\n",
    "    return stat1[1]/2, stat2[1]/2   # one-sided"
   ]
  },
  {
   "cell_type": "code",
   "execution_count": 60,
   "metadata": {
    "pycharm": {
     "name": "#%%\n"
    }
   },
   "outputs": [
    {
     "name": "stdout",
     "output_type": "stream",
     "text": [
      "0.01\n",
      "0.016681005372000592\n",
      "0.027825594022071243\n",
      "0.046415888336127774\n",
      "0.0774263682681127\n",
      "0.1291549665014884\n",
      "0.21544346900318834\n",
      "0.3593813663804626\n",
      "0.5994842503189409\n",
      "1.0\n"
     ]
    },
    {
     "data": {
      "text/html": [
       "<div>\n",
       "<style scoped>\n",
       "    .dataframe tbody tr th:only-of-type {\n",
       "        vertical-align: middle;\n",
       "    }\n",
       "\n",
       "    .dataframe tbody tr th {\n",
       "        vertical-align: top;\n",
       "    }\n",
       "\n",
       "    .dataframe thead th {\n",
       "        text-align: right;\n",
       "    }\n",
       "</style>\n",
       "<table border=\"1\" class=\"dataframe\">\n",
       "  <thead>\n",
       "    <tr style=\"text-align: right;\">\n",
       "      <th></th>\n",
       "      <th>p_rep</th>\n",
       "      <th>n</th>\n",
       "      <th>true_r2</th>\n",
       "    </tr>\n",
       "  </thead>\n",
       "  <tbody>\n",
       "    <tr>\n",
       "      <th>0</th>\n",
       "      <td>0.957563</td>\n",
       "      <td>599.0</td>\n",
       "      <td>0.016681</td>\n",
       "    </tr>\n",
       "    <tr>\n",
       "      <th>1</th>\n",
       "      <td>0.933050</td>\n",
       "      <td>215.0</td>\n",
       "      <td>0.046416</td>\n",
       "    </tr>\n",
       "    <tr>\n",
       "      <th>2</th>\n",
       "      <td>0.819307</td>\n",
       "      <td>46.0</td>\n",
       "      <td>0.129155</td>\n",
       "    </tr>\n",
       "    <tr>\n",
       "      <th>3</th>\n",
       "      <td>0.847561</td>\n",
       "      <td>16.0</td>\n",
       "      <td>0.359381</td>\n",
       "    </tr>\n",
       "    <tr>\n",
       "      <th>4</th>\n",
       "      <td>1.000000</td>\n",
       "      <td>10.0</td>\n",
       "      <td>1.000000</td>\n",
       "    </tr>\n",
       "  </tbody>\n",
       "</table>\n",
       "</div>"
      ],
      "text/plain": [
       "      p_rep      n   true_r2\n",
       "0  0.957563  599.0  0.016681\n",
       "1  0.933050  215.0  0.046416\n",
       "2  0.819307   46.0  0.129155\n",
       "3  0.847561   16.0  0.359381\n",
       "4  1.000000   10.0  1.000000"
      ]
     },
     "execution_count": 60,
     "metadata": {},
     "output_type": "execute_result"
    }
   ],
   "source": [
    "alpha=0.05\n",
    "n_iter = 1000\n",
    "true_effects = np.logspace(-2,0,10)\n",
    "ns = np.logspace(1,3,10).astype(int)\n",
    "\n",
    "df = pd.DataFrame(columns=['p_rep', 'n', 'true_r2'])\n",
    "\n",
    "for true_r in true_effects:\n",
    "    print(true_r)\n",
    "    for n in ns:\n",
    "        p1s = np.zeros(n_iter)\n",
    "        p2s = np.zeros(n_iter)\n",
    "        for iter in range(n_iter):\n",
    "            p1, p2 = simulate_sample(true_r, n=n)\n",
    "            p1s[iter] = p1\n",
    "            p2s[iter] = p2\n",
    "        p_rep = np.sum(p2s[p1s<alpha]<alpha)/np.sum(p1s<alpha)\n",
    "        if p_rep>0.8:\n",
    "            df.loc[len(df.index)] = [p_rep, n, true_r*true_r]\n",
    "            break\n",
    "\n",
    "df"
   ]
  },
  {
   "cell_type": "code",
   "execution_count": 61,
   "metadata": {
    "pycharm": {
     "name": "#%%\n"
    }
   },
   "outputs": [
    {
     "data": {
      "text/plain": [
       "[<matplotlib.lines.Line2D at 0x7fad1914ea60>]"
      ]
     },
     "execution_count": 61,
     "metadata": {},
     "output_type": "execute_result"
    },
    {
     "data": {
      "image/png": "[encoded data removed]",
      "text/plain": [
       "<Figure size 432x288 with 1 Axes>"
      ]
     },
     "metadata": {},
     "output_type": "display_data"
    }
   ],
   "source": [
    "ax=sns.lineplot(data=df, x='n', y='true_r2')\n",
    "ax.loglog(True)"
   ]
  },
  {
   "cell_type": "code",
   "execution_count": 4,
   "metadata": {
    "pycharm": {
     "name": "#%%\n"
    }
   },
   "outputs": [
    {
     "data": {
      "text/plain": "(array([0.35030195]), array([0.74831034]))"
     },
     "execution_count": 4,
     "metadata": {},
     "output_type": "execute_result"
    }
   ],
   "source": [
    "from scipy.stats import norm\n",
    "r = 0.5\n",
    "n=100\n",
    "\n",
    "z = np.arctanh(r)\n",
    "norm.interval([0.95], loc=z, scale=1/np.sqrt(n-3))"
   ]
  },
  {
   "cell_type": "code",
   "execution_count": 5,
   "metadata": {
    "pycharm": {
     "name": "#%%\n"
    }
   },
   "outputs": [
    {
     "data": {
      "text/plain": "[84.92761044616469, 29.01223670641077, 782.6482175199623]"
     },
     "execution_count": 5,
     "metadata": {},
     "output_type": "execute_result"
    }
   ],
   "source": [
    "import statsmodels.stats.power as smp\n",
    "transf = lambda r, n: np.arctanh(r)+r/(2.*(n-1))\n",
    "[smp.NormalIndPower().solve_power(np.arctanh(r), alpha=0.05, ratio=0,\n",
    "            power= 0.8, alternative='two-sided') + 3 for r in [0.3, 0.5, 0.1]]"
   ]
  },
  {
   "cell_type": "code",
   "execution_count": 27,
   "metadata": {
    "pycharm": {
     "name": "#%%\n"
    }
   },
   "outputs": [
    {
     "data": {
      "text/plain": "[10152.001766984604,\n 7236.050547314269,\n 5157.250542505102,\n 3675.2607405548974,\n 2618.7405019017388,\n 1865.5399624034374,\n 1328.5776423103227,\n 945.7724955166505,\n 672.8663939867668,\n 478.30720568404064,\n 339.60087555224635,\n 240.71074773510136,\n 170.20343692606727,\n 119.92685648625017,\n 84.06749879095432,\n 58.477803809399134,\n 40.19542075785188,\n 27.097329627814133,\n 17.64315068994928,\n 10.64366898990942]"
     },
     "execution_count": 27,
     "metadata": {},
     "output_type": "execute_result"
    }
   ],
   "source": [
    "import statsmodels.stats.power as smp\n",
    "\n",
    "true_effects = np.logspace(np.log(0.23),0,20, endpoint=False)\n",
    "\n",
    "n_rep = [smp.NormalIndPower().solve_power(np.arctanh(r), alpha=0.05*0.05*2, ratio=0,\n",
    "            power= 0.8, alternative='larger') + 3 for r in true_effects]\n",
    "n_rep"
   ]
  },
  {
   "cell_type": "code",
   "execution_count": 34,
   "outputs": [
    {
     "data": {
      "text/plain": "<Figure size 432x144 with 1 Axes>",
      "image/png": "[encoded data removed]"
     },
     "metadata": {},
     "output_type": "display_data"
    }
   ],
   "source": [
    "import seaborn as sns\n",
    "import matplotlib.pyplot as plt\n",
    "sns.set(rc={\"figure.figsize\":(6, 2)})\n",
    "sns.set_style(\"whitegrid\")\n",
    "ax = sns.lineplot(x=n_rep, y=np.square(true_effects))\n",
    "ax.loglog(True)\n",
    "ax.axhline(0.05, color='red', linestyle=':', alpha=0.5)\n",
    "ax.axhline(0.01, color='red', linestyle='--')\n",
    "ax.set_xticks([10, 30, 100,300,1000,3000])\n",
    "ax.set_xticklabels([10, 30, 100,300,1000,3000])\n",
    "ax.set_yticks([0.001, 0.01, 0.05, 0.1, 0.5])\n",
    "ax.set_yticklabels([0.1, 1, 5,10,50])\n",
    "ax.scatter(x=[75, 75, 125, 200, 275, 375], y=[0.26, 0.25, 0.081, 0.058, 0.028, 0.021])\n",
    "ax.scatter(x=[250, 350, 325, 700, 700, 700], y=[0.042, 0.039, 0.044, 0.021, 0.022, 0.015])\n",
    "sns.despine()\n",
    "plt.savefig('fig/analitical_solution.pdf')"
   ],
   "metadata": {
    "collapsed": false,
    "pycharm": {
     "name": "#%%\n"
    }
   }
  },
  {
   "cell_type": "code",
   "execution_count": 16,
   "outputs": [
    {
     "data": {
      "text/plain": "0.0025000000000000005"
     },
     "execution_count": 16,
     "metadata": {},
     "output_type": "execute_result"
    }
   ],
   "source": [
    "from scipy.stats import binom\n",
    "binom.pmf(2, n=2,p=0.05)"
   ],
   "metadata": {
    "collapsed": false,
    "pycharm": {
     "name": "#%%\n"
    }
   }
  },
  {
   "cell_type": "code",
   "execution_count": null,
   "outputs": [],
   "source": [
    "0.05*0.05"
   ],
   "metadata": {
    "collapsed": false,
    "pycharm": {
     "name": "#%%\n"
    }
   }
  },
  {
   "cell_type": "code",
   "execution_count": null,
   "outputs": [],
   "source": [
    "np.log(0.1)"
   ],
   "metadata": {
    "collapsed": false,
    "pycharm": {
     "name": "#%%\n"
    }
   }
  },
  {
   "cell_type": "code",
   "execution_count": null,
   "outputs": [],
   "source": [
    "true_effects**2"
   ],
   "metadata": {
    "collapsed": false,
    "pycharm": {
     "name": "#%%\n"
    }
   }
  },
  {
   "cell_type": "code",
   "execution_count": 92,
   "metadata": {
    "pycharm": {
     "name": "#%%\n"
    }
   },
   "outputs": [
    {
     "data": {
      "text/plain": [
       "-2.3025850929940455"
      ]
     },
     "execution_count": 92,
     "metadata": {},
     "output_type": "execute_result"
    }
   ],
   "source": [
    "np.log(0.1)"
   ]
  },
  {
   "cell_type": "code",
   "execution_count": 95,
   "metadata": {
    "pycharm": {
     "name": "#%%\n"
    }
   },
   "outputs": [
    {
     "data": {
      "text/plain": [
       "array([0.01      , 0.01584893, 0.02511886, 0.03981072, 0.06309573,\n",
       "       0.1       , 0.15848932, 0.25118864, 0.39810717, 0.63095734])"
      ]
     },
     "execution_count": 95,
     "metadata": {},
     "output_type": "execute_result"
    }
   ],
   "source": [
    "true_effects**2"
   ]
  },
  {
   "cell_type": "code",
   "execution_count": null,
   "metadata": {
    "pycharm": {
     "name": "#%%\n"
    }
   },
   "outputs": [],
   "source": []
  }
 ],
 "metadata": {
  "kernelspec": {
   "display_name": "Python 3 (ipykernel)",
   "language": "python",
   "name": "python3"
  },
  "language_info": {
   "codemirror_mode": {
    "name": "ipython",
    "version": 3
   },
   "file_extension": ".py",
   "mimetype": "text/x-python",
   "name": "python",
   "nbconvert_exporter": "python",
   "pygments_lexer": "ipython3",
   "version": "3.8.10"
  }
 },
 "nbformat": 4,
 "nbformat_minor": 1
}
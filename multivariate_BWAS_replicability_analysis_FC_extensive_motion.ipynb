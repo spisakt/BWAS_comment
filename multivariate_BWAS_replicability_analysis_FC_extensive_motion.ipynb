{
 "cells": [
  {
   "cell_type": "markdown",
   "metadata": {},
   "source": [
    "# Analyzing replicability of functional connectivity-based multivariate BWAS on the Human Connectome Project dataset\n",
    "\n",
    "Comprehensive analysis with 52 HCP phenotypes\n",
    "\n",
    "## Imports"
   ]
  },
  {
   "cell_type": "code",
   "execution_count": 1,
   "metadata": {
    "ExecuteTime": {
     "end_time": "2021-08-03T20:04:15.431840Z",
     "start_time": "2021-08-03T20:04:14.753565Z"
    }
   },
   "outputs": [],
   "source": [
    "import numpy as np\n",
    "import pandas as pd\n",
    "import seaborn as sns\n",
    "import matplotlib.pyplot as plt\n",
    "from sklearn.linear_model import Ridge\n",
    "from sklearn.svm import SVR\n",
    "from sklearn.model_selection import KFold, train_test_split\n",
    "from sklearn.pipeline import Pipeline\n",
    "from sklearn.decomposition import PCA\n",
    "from joblib import Parallel, delayed\n",
    "from mlxtend.evaluate import permutation_test\n",
    "from statsmodels.formula.api import ols as ols_f\n",
    "from mlconfound.stats import partial_confound_test\n",
    "sns.set(rc={\"figure.figsize\":(4, 2)})\n",
    "sns.set_style(\"whitegrid\")"
   ]
  },
  {
   "cell_type": "markdown",
   "metadata": {},
   "source": [
    "## Load HCP data\n",
    "\n",
    "We load functional network matrices (netmats) from the HCP1200-release, as published on connectomeDB: https://db.humanconnectome.org/\n",
    "Due to licensing issues, data is not supplied with the repository, but can be downloaded from the ConnectomeDB or via `get_data.ipynb` (requires credentials).\n",
    "See [readme.md](readme.md) for more details."
   ]
  },
  {
   "cell_type": "code",
   "execution_count": 2,
   "outputs": [
    {
     "data": {
      "text/plain": "array([[<AxesSubplot: title={'center': 'motion'}>]], dtype=object)"
     },
     "execution_count": 2,
     "metadata": {},
     "output_type": "execute_result"
    },
    {
     "data": {
      "text/plain": "<Figure size 400x200 with 1 Axes>",
      "image/png": "[encoded data removed]"
     },
     "metadata": {},
     "output_type": "display_data"
    }
   ],
   "source": [
    "motion = pd.read_csv('hcp_data/motion.csv', index_col=0).set_index('ID', drop=True, inplace=False)\n",
    "motion.hist()"
   ],
   "metadata": {
    "collapsed": false
   }
  },
  {
   "cell_type": "code",
   "execution_count": 3,
   "outputs": [
    {
     "data": {
      "text/plain": "          T1_Count     T2_Count  3T_RS-fMRI_Count  3T_RS-fMRI_PctCompl  \\\ncount  1094.000000  1094.000000       1094.000000          1094.000000   \nmean      1.603291     1.520110          3.861974            95.959049   \nstd       0.489438     0.499824          0.513459            14.799877   \nmin       1.000000     1.000000          1.000000             0.000000   \n25%       1.000000     1.000000          4.000000           100.000000   \n50%       2.000000     2.000000          4.000000           100.000000   \n75%       2.000000     2.000000          4.000000           100.000000   \nmax       2.000000     2.000000          4.000000           100.000000   \n\n       3T_tMRI_PctCompl  fMRI_WM_PctCompl  fMRI_Gamb_PctCompl  \\\ncount       1094.000000       1094.000000         1094.000000   \nmean          96.945978         98.537477           98.685923   \nstd           11.835880         12.010211           11.262753   \nmin            0.000000          0.000000            0.000000   \n25%          100.000000        100.000000          100.000000   \n50%          100.000000        100.000000          100.000000   \n75%          100.000000        100.000000          100.000000   \nmax          100.000000        100.000000          100.000000   \n\n       fMRI_Mot_PctCompl  fMRI_Lang_PctCompl  fMRI_Soc_PctCompl  ...  \\\ncount        1094.000000         1094.000000        1094.000000  ...   \nmean           98.533638           95.662431          95.676417  ...   \nstd            12.010414           20.291338          20.293050  ...   \nmin             0.000000            0.000000           0.000000  ...   \n25%           100.000000          100.000000         100.000000  ...   \n50%           100.000000          100.000000         100.000000  ...   \n75%           100.000000          100.000000         100.000000  ...   \nmax           100.000000          100.000000         100.000000  ...   \n\n       Odor_AgeAdj  PainIntens_RawScore  PainInterf_Tscore  Taste_Unadj  \\\ncount  1092.000000          1089.000000        1093.000000  1088.000000   \nmean     97.942894             1.410468          45.704117    95.119991   \nstd      11.115135             1.734575           7.581136    14.358339   \nmin      59.860000             0.000000          38.600000    56.350000   \n25%      87.110000             0.000000          38.600000    84.070000   \n50%      98.040000             1.000000          45.900000    95.850000   \n75%     110.450000             2.000000          52.200000   104.660000   \nmax     111.410000            10.000000          75.300000   134.650000   \n\n       Taste_AgeAdj  Mars_Log_Score    Mars_Errs   Mars_Final       motion  \\\ncount   1088.000000     1087.000000  1084.000000  1084.000000  1094.000000   \nmean      93.948309        1.846578     0.582103     1.823349     0.088170   \nstd       14.614322        0.568080     0.983564     0.569718     0.033718   \nmin       59.500000        1.560000     0.000000     1.080000     0.039544   \n25%       83.220000        1.800000     0.000000     1.760000     0.064558   \n50%       94.990000        1.800000     0.000000     1.800000     0.079880   \n75%      102.920000        1.880000     1.000000     1.840000     0.101661   \nmax      131.380000       15.000000    17.000000    15.000000     0.302853   \n\n               age  \ncount  1094.000000  \nmean     28.871572  \nstd       3.583816  \nmin      23.500000  \n25%      28.000000  \n50%      28.000000  \n75%      33.000000  \nmax      36.000000  \n\n[8 rows x 457 columns]",
      "text/html": "<div>\n<style scoped>\n    .dataframe tbody tr th:only-of-type {\n        vertical-align: middle;\n    }\n\n    .dataframe tbody tr th {\n        vertical-align: top;\n    }\n\n    .dataframe thead th {\n        text-align: right;\n    }\n</style>\n<table border=\"1\" class=\"dataframe\">\n  <thead>\n    <tr style=\"text-align: right;\">\n      <th></th>\n      <th>T1_Count</th>\n      <th>T2_Count</th>\n      <th>3T_RS-fMRI_Count</th>\n      <th>3T_RS-fMRI_PctCompl</th>\n      <th>3T_tMRI_PctCompl</th>\n      <th>fMRI_WM_PctCompl</th>\n      <th>fMRI_Gamb_PctCompl</th>\n      <th>fMRI_Mot_PctCompl</th>\n      <th>fMRI_Lang_PctCompl</th>\n      <th>fMRI_Soc_PctCompl</th>\n      <th>...</th>\n      <th>Odor_AgeAdj</th>\n      <th>PainIntens_RawScore</th>\n      <th>PainInterf_Tscore</th>\n      <th>Taste_Unadj</th>\n      <th>Taste_AgeAdj</th>\n      <th>Mars_Log_Score</th>\n      <th>Mars_Errs</th>\n      <th>Mars_Final</th>\n      <th>motion</th>\n      <th>age</th>\n    </tr>\n  </thead>\n  <tbody>\n    <tr>\n      <th>count</th>\n      <td>1094.000000</td>\n      <td>1094.000000</td>\n      <td>1094.000000</td>\n      <td>1094.000000</td>\n      <td>1094.000000</td>\n      <td>1094.000000</td>\n      <td>1094.000000</td>\n      <td>1094.000000</td>\n      <td>1094.000000</td>\n      <td>1094.000000</td>\n      <td>...</td>\n      <td>1092.000000</td>\n      <td>1089.000000</td>\n      <td>1093.000000</td>\n      <td>1088.000000</td>\n      <td>1088.000000</td>\n      <td>1087.000000</td>\n      <td>1084.000000</td>\n      <td>1084.000000</td>\n      <td>1094.000000</td>\n      <td>1094.000000</td>\n    </tr>\n    <tr>\n      <th>mean</th>\n      <td>1.603291</td>\n      <td>1.520110</td>\n      <td>3.861974</td>\n      <td>95.959049</td>\n      <td>96.945978</td>\n      <td>98.537477</td>\n      <td>98.685923</td>\n      <td>98.533638</td>\n      <td>95.662431</td>\n      <td>95.676417</td>\n      <td>...</td>\n      <td>97.942894</td>\n      <td>1.410468</td>\n      <td>45.704117</td>\n      <td>95.119991</td>\n      <td>93.948309</td>\n      <td>1.846578</td>\n      <td>0.582103</td>\n      <td>1.823349</td>\n      <td>0.088170</td>\n      <td>28.871572</td>\n    </tr>\n    <tr>\n      <th>std</th>\n      <td>0.489438</td>\n      <td>0.499824</td>\n      <td>0.513459</td>\n      <td>14.799877</td>\n      <td>11.835880</td>\n      <td>12.010211</td>\n      <td>11.262753</td>\n      <td>12.010414</td>\n      <td>20.291338</td>\n      <td>20.293050</td>\n      <td>...</td>\n      <td>11.115135</td>\n      <td>1.734575</td>\n      <td>7.581136</td>\n      <td>14.358339</td>\n      <td>14.614322</td>\n      <td>0.568080</td>\n      <td>0.983564</td>\n      <td>0.569718</td>\n      <td>0.033718</td>\n      <td>3.583816</td>\n    </tr>\n    <tr>\n      <th>min</th>\n      <td>1.000000</td>\n      <td>1.000000</td>\n      <td>1.000000</td>\n      <td>0.000000</td>\n      <td>0.000000</td>\n      <td>0.000000</td>\n      <td>0.000000</td>\n      <td>0.000000</td>\n      <td>0.000000</td>\n      <td>0.000000</td>\n      <td>...</td>\n      <td>59.860000</td>\n      <td>0.000000</td>\n      <td>38.600000</td>\n      <td>56.350000</td>\n      <td>59.500000</td>\n      <td>1.560000</td>\n      <td>0.000000</td>\n      <td>1.080000</td>\n      <td>0.039544</td>\n      <td>23.500000</td>\n    </tr>\n    <tr>\n      <th>25%</th>\n      <td>1.000000</td>\n      <td>1.000000</td>\n      <td>4.000000</td>\n      <td>100.000000</td>\n      <td>100.000000</td>\n      <td>100.000000</td>\n      <td>100.000000</td>\n      <td>100.000000</td>\n      <td>100.000000</td>\n      <td>100.000000</td>\n      <td>...</td>\n      <td>87.110000</td>\n      <td>0.000000</td>\n      <td>38.600000</td>\n      <td>84.070000</td>\n      <td>83.220000</td>\n      <td>1.800000</td>\n      <td>0.000000</td>\n      <td>1.760000</td>\n      <td>0.064558</td>\n      <td>28.000000</td>\n    </tr>\n    <tr>\n      <th>50%</th>\n      <td>2.000000</td>\n      <td>2.000000</td>\n      <td>4.000000</td>\n      <td>100.000000</td>\n      <td>100.000000</td>\n      <td>100.000000</td>\n      <td>100.000000</td>\n      <td>100.000000</td>\n      <td>100.000000</td>\n      <td>100.000000</td>\n      <td>...</td>\n      <td>98.040000</td>\n      <td>1.000000</td>\n      <td>45.900000</td>\n      <td>95.850000</td>\n      <td>94.990000</td>\n      <td>1.800000</td>\n      <td>0.000000</td>\n      <td>1.800000</td>\n      <td>0.079880</td>\n      <td>28.000000</td>\n    </tr>\n    <tr>\n      <th>75%</th>\n      <td>2.000000</td>\n      <td>2.000000</td>\n      <td>4.000000</td>\n      <td>100.000000</td>\n      <td>100.000000</td>\n      <td>100.000000</td>\n      <td>100.000000</td>\n      <td>100.000000</td>\n      <td>100.000000</td>\n      <td>100.000000</td>\n      <td>...</td>\n      <td>110.450000</td>\n      <td>2.000000</td>\n      <td>52.200000</td>\n      <td>104.660000</td>\n      <td>102.920000</td>\n      <td>1.880000</td>\n      <td>1.000000</td>\n      <td>1.840000</td>\n      <td>0.101661</td>\n      <td>33.000000</td>\n    </tr>\n    <tr>\n      <th>max</th>\n      <td>2.000000</td>\n      <td>2.000000</td>\n      <td>4.000000</td>\n      <td>100.000000</td>\n      <td>100.000000</td>\n      <td>100.000000</td>\n      <td>100.000000</td>\n      <td>100.000000</td>\n      <td>100.000000</td>\n      <td>100.000000</td>\n      <td>...</td>\n      <td>111.410000</td>\n      <td>10.000000</td>\n      <td>75.300000</td>\n      <td>134.650000</td>\n      <td>131.380000</td>\n      <td>15.000000</td>\n      <td>17.000000</td>\n      <td>15.000000</td>\n      <td>0.302853</td>\n      <td>36.000000</td>\n    </tr>\n  </tbody>\n</table>\n<p>8 rows × 457 columns</p>\n</div>"
     },
     "execution_count": 3,
     "metadata": {},
     "output_type": "execute_result"
    }
   ],
   "source": [
    "# HCP data can be obtained from the connectomeDB\n",
    "# data is not part of this repository\n",
    "subjectIDs = pd.read_csv('hcp_data/subjectIDs.txt', header=None)\n",
    "\n",
    "netmats_pearson = pd.read_csv('hcp_data/netmats1_correlationZ.txt',\n",
    "                             sep=' ',\n",
    "                             header=None)\n",
    "netmats_pearson['ID'] = subjectIDs[0]\n",
    "netmats_pearson.set_index('ID', drop=True, inplace=True)\n",
    "\n",
    "\n",
    "netmats_parcor = pd.read_csv('hcp_data/netmats2_partial-correlation.txt',\n",
    "                             sep=' ',\n",
    "                             header=None)\n",
    "netmats_parcor['ID'] = subjectIDs[0]\n",
    "netmats_parcor.set_index('ID', drop=True, inplace=True)\n",
    "\n",
    "behavior = pd.read_csv('hcp_data/hcp1200_behavioral_data.csv')\n",
    "behavior = behavior.set_index('Subject', drop=True)\n",
    "\n",
    "# add motion\n",
    "behavior = behavior.merge(motion, left_index=True, right_index=True)\n",
    "\n",
    "# convert age to numeric\n",
    "age = []\n",
    "for s in behavior['Age']:\n",
    "    if s == '36+':\n",
    "        age.append(36)\n",
    "    else:\n",
    "        split = s.split(sep='-')\n",
    "        age.append(np.mean((float(split[0]), float(split[1]))))\n",
    "\n",
    "behavior['age'] = age\n",
    "behavior.describe()"
   ],
   "metadata": {
    "collapsed": false
   }
  },
  {
   "cell_type": "markdown",
   "metadata": {},
   "source": [
    "# Helper function to prepare target variable\n"
   ]
  },
  {
   "cell_type": "code",
   "execution_count": 4,
   "metadata": {},
   "outputs": [],
   "source": [
    "def create_data(target='CogTotalComp_AgeAdj', feature_data=netmats_parcor):\n",
    "    # it's a good practice to use pandas for merging, messing up subject order can be painful\n",
    "    features = feature_data.columns\n",
    "    df = behavior\n",
    "    df = df.merge(feature_data, left_index=True, right_index=True, how='left')\n",
    "\n",
    "    df = df.dropna(subset = [target] + features.values.tolist())\n",
    "    y = df[target].values\n",
    "    X = df[features].values\n",
    "    return X, y, df.motion.values"
   ]
  },
  {
   "cell_type": "markdown",
   "metadata": {},
   "source": [
    "# Helper function implementing a single bootstrap iteration\n",
    "\n",
    "We define a workhorse function which:\n",
    "- randomly samples the discovery and the replication datasets,\n",
    "- creates cross-validated estimates of predictive performance within the discovery sample\n",
    "- finalizes the model by fitting it to the whole discovery sample (overfits the discovery but not the replication sample)\n",
    "- use it to predict the replication sample"
   ]
  },
  {
   "cell_type": "code",
   "execution_count": 5,
   "metadata": {},
   "outputs": [],
   "source": [
    "def corr(X, Y):\n",
    "    # just a small wrapper function (pandas correlation is silent in \"unlucky\" bootstraps with constant values)\n",
    "    return pd.Series(X).corr( pd.Series(Y))\n",
    "\n",
    "def bootstrap_workhorse(X, y, fd, sample_size, model, random_state, shuffle_y=False):\n",
    "\n",
    "    #create discovery and replication samples by random sampling from the whole dataset (without replacement)\n",
    "\n",
    "    # if shuffle_y is true, a null model is created bz permuting y\n",
    "    if shuffle_y:\n",
    "        rng = np.random.default_rng(random_state)\n",
    "        y = rng.permutation(y)\n",
    "\n",
    "    # sample the discovery and replication sets *without replacement* (with replacement introduces spurious dependencies)\n",
    "    std = 0\n",
    "    rs = random_state\n",
    "    while std == 0 or np.isnan(std):\n",
    "        X_discovery, X_replication, y_discovery, y_replication, fd_discovery, fd_replication = train_test_split(X, y, fd, train_size=sample_size, test_size=sample_size, shuffle=True, random_state=rs)\n",
    "        std = np.std(y_discovery) * np.std(y_replication)\n",
    "        rs = rs + 1\n",
    "\n",
    "    # standard 10-fold cross-validation\n",
    "    cv = KFold(10)\n",
    "\n",
    "    # below we obtain cross-validated predictions in the discovery sample\n",
    "    predicted_discovery_cv = np.zeros_like(y_discovery)  # here we collect the predictions for each fold\n",
    "    cor_per_fold = np.zeros(cv.n_splits)  # here we collect the predictive performance in each fold\n",
    "    i = 0  # just a counter\n",
    "    for train, test in cv.split(X=X_discovery, y=y_discovery):  # loop to leave one fold out\n",
    "\n",
    "        # regress out fd from the target and predict fd-orthogonal target in the test phase\n",
    "        tmp = pd.DataFrame({\n",
    "                'y': y_discovery,\n",
    "                'fd': fd_discovery\n",
    "            })\n",
    "        OLS_model = ols_f(\"y ~ fd\", tmp.iloc[train]).fit()\n",
    "        y_discovery[train] = OLS_model.resid\n",
    "        y_discovery[test] = y_discovery[test] - OLS_model.predict(tmp.iloc[test])\n",
    "\n",
    "        model.fit(X=X_discovery[train], y=y_discovery[train]) # fit model to the training set\n",
    "        predicted_discovery_cv[test] = model.predict(X=X_discovery[test]) # use fitted model to predict teh test set\n",
    "        cor_per_fold[i] = corr(y_discovery[test], predicted_discovery_cv[test]) # calculate performance on tne test set\n",
    "        i += 1\n",
    "    # calculate mean test performance across all folds\n",
    "    r_disc_cv = np.mean(cor_per_fold)\n",
    "    # 'finalize' model by training it on the full discovery sample (without cross-validation)\n",
    "    final_model = model.fit(X=X_discovery, y=y_discovery)\n",
    "    # obtain predictions with the final model on the discovery sample, note that this model actually overfits this sample.\n",
    "    # we do this only to demonstrate biased estimates\n",
    "    predicted_discovery_overfit = final_model.predict(X=X_discovery)\n",
    "    # here we obtain the biased effect size (r) estimates for demonstrational purposes\n",
    "    r_disc_overfit = corr(predicted_discovery_overfit, y_discovery)\n",
    "\n",
    "    # We use the final model to predict the replication sample\n",
    "    # This is correct (no overfitting here), the final model did not see this data during training\n",
    "    predicted_replication = final_model.predict(X=X_replication)\n",
    "    # we obtain the out-of-sample prediction performance estimates\n",
    "    tmp = pd.DataFrame({\n",
    "                'y': y_replication,\n",
    "                'fd': fd_replication\n",
    "            })\n",
    "    OLS_model = ols_f(\"y ~ fd\", tmp).fit()\n",
    "    y_replication_orig = y_replication\n",
    "    y_replication = OLS_model.resid\n",
    "    r_rep = corr(predicted_replication, y_replication)\n",
    "\n",
    "    # below we calculate permutation-based p-values for all three effect size estimates (in-sample unbiased, in-sample biased, out-of-sample)\n",
    "    # (one sided tests, testing for positive correlation)\n",
    "    p_disc_cv = permutation_test(predicted_discovery_cv, y_discovery, method='approximate', num_rounds=1000, func=lambda x, y: corr(x, y),seed=random_state)\n",
    "    p_disc_overfit = permutation_test(predicted_discovery_overfit, y_discovery, method='approximate', num_rounds=1000, func=lambda x, y: corr(x, y),seed=random_state)\n",
    "    p_rep = permutation_test(predicted_replication, y_replication, method='approximate', num_rounds=1000, func=lambda x, y: corr(x, y),seed=random_state)\n",
    "\n",
    "    # here we calculate motion bias p-value in the replication sample\n",
    "    p_bias = partial_confound_test(y=y_replication_orig, yhat=predicted_replication, c=fd_replication, random_state=random_state, progress=False).p\n",
    "\n",
    "    return r_disc_cv, r_disc_overfit, r_rep, p_disc_cv, p_disc_overfit, p_rep, p_bias"
   ]
  },
  {
   "cell_type": "markdown",
   "metadata": {},
   "source": [
    "All set, now we start the analysis."
   ]
  },
  {
   "cell_type": "markdown",
   "metadata": {},
   "source": [
    "# Replicability with sample sizes n=50, 100, 200, 300 and max\n",
    "Here we train a few different models on 100 bootstrap samples.\n",
    "\n",
    "We aggregate the results of our workhorse function in `n_bootstrap`=100 bootstrap cases (run in parallel).\n",
    "\n",
    "The whole process is repeated for all sample sizes, fetaure_sets and target variables.\n",
    "\n",
    "## Here we test all 33 variables, proposed by Marek et al. in their response."
   ]
  },
  {
   "cell_type": "code",
   "execution_count": 6,
   "metadata": {},
   "outputs": [],
   "source": [
    "targets = [\n",
    "#demographics\n",
    "    'age',\n",
    "# cognition\n",
    "    'MMSE_Score',\n",
    "    'PSQI_Score',\n",
    "    'PicSeq_AgeAdj',\n",
    "    'CardSort_AgeAdj',\n",
    "    'Flanker_AgeAdj',\n",
    "    'PMAT24_A_CR',\n",
    "    'CogFluidComp_AgeAdj',\n",
    "    'CogCrystalComp_AgeAdj',\n",
    "    'CogEarlyComp_AgeAdj',\n",
    "    'CogTotalComp_AgeAdj',\n",
    "    'ReadEng_AgeAdj',\n",
    "    'PicVocab_AgeAdj',\n",
    "    'ProcSpeed_AgeAdj',\n",
    "    'DDisc_AUC_200',\n",
    "    'VSPLOT_TC',\n",
    "    'SCPT_SEN',\n",
    "    'SCPT_SPEC',\n",
    "# memory\n",
    "    'IWRD_TOT',\n",
    "    'ListSort_AgeAdj',\n",
    "# emotion\n",
    "    'ER40ANG',\n",
    "    'ER40FEAR',\n",
    "    'ER40HAP',\n",
    "    'ER40NOE',\n",
    "    'ER40SAD',\n",
    "    'AngAffect_Unadj',\n",
    "    'AngHostil_Unadj',\n",
    "    'AngAggr_Unadj',\n",
    "    'FearAffect_Unadj',\n",
    "    'FearSomat_Unadj',\n",
    "    'FearSomat_Unadj',\n",
    "    'Sadness_Unadj',\n",
    "    'LifeSatisf_Unadj',\n",
    "    'MeanPurp_Unadj',\n",
    "    'PosAffect_Unadj',\n",
    "    'Friendship_Unadj',\n",
    "    'Loneliness_Unadj',\n",
    "    'PercHostil_Unadj',\n",
    "    'PercReject_Unadj',\n",
    "    'EmotSupp_Unadj',\n",
    "    'InstruSupp_Unadj',\n",
    "    'PercStress_Unadj',\n",
    "    'SelfEff_Unadj',\n",
    "    'Dexterity_AgeAdj',\n",
    " # personality\n",
    "    'NEOFAC_A',\n",
    "    'NEOFAC_O',\n",
    "    'NEOFAC_C',\n",
    "    'NEOFAC_N',\n",
    "    'NEOFAC_E',\n",
    "# sensory\n",
    "    'Noise_Comp',\n",
    "    'Odor_AgeAdj',\n",
    "    'PainInterf_Tscore',\n",
    "    'Taste_AgeAdj',\n",
    "    'Mars_Final'\n",
    "]"
   ]
  },
  {
   "cell_type": "markdown",
   "metadata": {},
   "source": [
    "# Now we fit a simple Ridge regression\n",
    "(no feature selection, no hyperparameter optimization)"
   ]
  },
  {
   "cell_type": "code",
   "execution_count": 7,
   "metadata": {},
   "outputs": [
    {
     "name": "stderr",
     "output_type": "stream",
     "text": [
      "/home/tspisak/src/BWAS_comment/venv/lib/python3.10/site-packages/numpy/lib/function_base.py:2853: RuntimeWarning: invalid value encountered in divide\n",
      "  c /= stddev[:, None]\n",
      "/home/tspisak/src/BWAS_comment/venv/lib/python3.10/site-packages/numpy/lib/function_base.py:2854: RuntimeWarning: invalid value encountered in divide\n",
      "  c /= stddev[None, :]\n",
      "/home/tspisak/src/BWAS_comment/venv/lib/python3.10/site-packages/numpy/lib/function_base.py:2853: RuntimeWarning: invalid value encountered in divide\n",
      "  c /= stddev[:, None]\n",
      "/home/tspisak/src/BWAS_comment/venv/lib/python3.10/site-packages/numpy/lib/function_base.py:2854: RuntimeWarning: invalid value encountered in divide\n",
      "  c /= stddev[None, :]\n",
      "/home/tspisak/src/BWAS_comment/venv/lib/python3.10/site-packages/numpy/lib/function_base.py:2853: RuntimeWarning: invalid value encountered in divide\n",
      "  c /= stddev[:, None]\n",
      "/home/tspisak/src/BWAS_comment/venv/lib/python3.10/site-packages/numpy/lib/function_base.py:2854: RuntimeWarning: invalid value encountered in divide\n",
      "  c /= stddev[None, :]\n",
      "/home/tspisak/src/BWAS_comment/venv/lib/python3.10/site-packages/numpy/lib/function_base.py:2853: RuntimeWarning: invalid value encountered in divide\n",
      "  c /= stddev[:, None]\n",
      "/home/tspisak/src/BWAS_comment/venv/lib/python3.10/site-packages/numpy/lib/function_base.py:2854: RuntimeWarning: invalid value encountered in divide\n",
      "  c /= stddev[None, :]\n",
      "/home/tspisak/src/BWAS_comment/venv/lib/python3.10/site-packages/numpy/lib/function_base.py:2853: RuntimeWarning: invalid value encountered in divide\n",
      "  c /= stddev[:, None]\n",
      "/home/tspisak/src/BWAS_comment/venv/lib/python3.10/site-packages/numpy/lib/function_base.py:2853: RuntimeWarning: invalid value encountered in divide\n",
      "  c /= stddev[:, None]\n",
      "/home/tspisak/src/BWAS_comment/venv/lib/python3.10/site-packages/numpy/lib/function_base.py:2854: RuntimeWarning: invalid value encountered in divide\n",
      "  c /= stddev[None, :]\n",
      "/home/tspisak/src/BWAS_comment/venv/lib/python3.10/site-packages/numpy/lib/function_base.py:2854: RuntimeWarning: invalid value encountered in divide\n",
      "  c /= stddev[None, :]\n",
      "/home/tspisak/src/BWAS_comment/venv/lib/python3.10/site-packages/numpy/lib/function_base.py:2853: RuntimeWarning: invalid value encountered in divide\n",
      "  c /= stddev[:, None]\n",
      "/home/tspisak/src/BWAS_comment/venv/lib/python3.10/site-packages/numpy/lib/function_base.py:2854: RuntimeWarning: invalid value encountered in divide\n",
      "  c /= stddev[None, :]\n",
      "/home/tspisak/src/BWAS_comment/venv/lib/python3.10/site-packages/numpy/lib/function_base.py:2853: RuntimeWarning: invalid value encountered in divide\n",
      "  c /= stddev[:, None]\n",
      "/home/tspisak/src/BWAS_comment/venv/lib/python3.10/site-packages/numpy/lib/function_base.py:2854: RuntimeWarning: invalid value encountered in divide\n",
      "  c /= stddev[None, :]\n",
      "/home/tspisak/src/BWAS_comment/venv/lib/python3.10/site-packages/numpy/lib/function_base.py:2853: RuntimeWarning: invalid value encountered in divide\n",
      "  c /= stddev[:, None]\n",
      "/home/tspisak/src/BWAS_comment/venv/lib/python3.10/site-packages/numpy/lib/function_base.py:2854: RuntimeWarning: invalid value encountered in divide\n",
      "  c /= stddev[None, :]\n",
      "/home/tspisak/src/BWAS_comment/venv/lib/python3.10/site-packages/numpy/lib/function_base.py:2853: RuntimeWarning: invalid value encountered in divide\n",
      "  c /= stddev[:, None]\n",
      "/home/tspisak/src/BWAS_comment/venv/lib/python3.10/site-packages/numpy/lib/function_base.py:2854: RuntimeWarning: invalid value encountered in divide\n",
      "  c /= stddev[None, :]\n",
      "/home/tspisak/src/BWAS_comment/venv/lib/python3.10/site-packages/numpy/lib/function_base.py:2853: RuntimeWarning: invalid value encountered in divide\n",
      "  c /= stddev[:, None]\n",
      "/home/tspisak/src/BWAS_comment/venv/lib/python3.10/site-packages/numpy/lib/function_base.py:2854: RuntimeWarning: invalid value encountered in divide\n",
      "  c /= stddev[None, :]\n",
      "/home/tspisak/src/BWAS_comment/venv/lib/python3.10/site-packages/numpy/lib/function_base.py:2853: RuntimeWarning: invalid value encountered in divide\n",
      "  c /= stddev[:, None]\n",
      "/home/tspisak/src/BWAS_comment/venv/lib/python3.10/site-packages/numpy/lib/function_base.py:2854: RuntimeWarning: invalid value encountered in divide\n",
      "  c /= stddev[None, :]\n",
      "/home/tspisak/src/BWAS_comment/venv/lib/python3.10/site-packages/numpy/lib/function_base.py:2853: RuntimeWarning: invalid value encountered in divide\n",
      "  c /= stddev[:, None]\n",
      "/home/tspisak/src/BWAS_comment/venv/lib/python3.10/site-packages/numpy/lib/function_base.py:2854: RuntimeWarning: invalid value encountered in divide\n",
      "  c /= stddev[None, :]\n",
      "/home/tspisak/src/BWAS_comment/venv/lib/python3.10/site-packages/numpy/lib/function_base.py:2853: RuntimeWarning: invalid value encountered in divide\n",
      "  c /= stddev[:, None]\n",
      "/home/tspisak/src/BWAS_comment/venv/lib/python3.10/site-packages/numpy/lib/function_base.py:2854: RuntimeWarning: invalid value encountered in divide\n",
      "  c /= stddev[None, :]\n",
      "/home/tspisak/src/BWAS_comment/venv/lib/python3.10/site-packages/numpy/lib/function_base.py:2853: RuntimeWarning: invalid value encountered in divide\n",
      "  c /= stddev[:, None]\n",
      "/home/tspisak/src/BWAS_comment/venv/lib/python3.10/site-packages/numpy/lib/function_base.py:2853: RuntimeWarning: invalid value encountered in divide\n",
      "  c /= stddev[:, None]\n",
      "/home/tspisak/src/BWAS_comment/venv/lib/python3.10/site-packages/numpy/lib/function_base.py:2854: RuntimeWarning: invalid value encountered in divide\n",
      "  c /= stddev[None, :]\n",
      "/home/tspisak/src/BWAS_comment/venv/lib/python3.10/site-packages/numpy/lib/function_base.py:2854: RuntimeWarning: invalid value encountered in divide\n",
      "  c /= stddev[None, :]\n"
     ]
    }
   ],
   "source": [
    "%%capture\n",
    "%%time\n",
    "random_state = 42\n",
    "n_bootstrap = 100\n",
    "\n",
    "features = {\n",
    "    'netmats_parcor': netmats_parcor#,\n",
    "    #'netmats_pearson': netmats_pearson\n",
    "}\n",
    "\n",
    "models = {\n",
    "    'ridge': Ridge()\n",
    "}\n",
    "\n",
    "# We aggregate all results here:\n",
    "df = pd.DataFrame(columns=['connectivity','model','target','n','r_discovery_cv','r_discovery_overfit','r_replication','p_discovery_cv','p_discovery_overfit','p_replication', 'p_bias'])\n",
    "\n",
    "for feature_set in features:\n",
    "    for model in models:\n",
    "        for target_var in targets:\n",
    "            for sample_size in ['max']:\n",
    "\n",
    "                print('*****************************************************************')\n",
    "                print(feature_set, model, target_var, sample_size)\n",
    "\n",
    "                X, y, fd = create_data(target=target_var, feature_data=features[feature_set])\n",
    "\n",
    "                if sample_size=='max':\n",
    "                    sample_size = int(len(y)/2)\n",
    "\n",
    "                # create random seeds for each bootstrap iteration for reproducibility\n",
    "                rng = np.random.default_rng(random_state)\n",
    "                random_sates = rng.integers(np.iinfo(np.int32).max, size=n_bootstrap)\n",
    "\n",
    "                # run bootstrap iterations in parallel\n",
    "                r_discovery_cv, r_discovery_overfit, r_replication, p_discovery_cv, p_discovery_overfit, p_replication, p_bias = zip(\n",
    "                    *Parallel(n_jobs=1)(\n",
    "                    delayed(bootstrap_workhorse)(X.copy(), y.copy(), fd.copy(), sample_size, models[model], seed) for seed in random_sates))\n",
    "\n",
    "                tmp_data_frame = pd.DataFrame({\n",
    "                    'connectivity' : feature_set,\n",
    "                    'model' : model,\n",
    "                    'target' : target_var,\n",
    "                    'n' : sample_size,\n",
    "                    'r_discovery_cv': r_discovery_cv,\n",
    "                    'r_discovery_overfit': r_discovery_overfit,\n",
    "                    'r_replication': r_replication,\n",
    "                    'p_discovery_cv': p_discovery_cv,\n",
    "                    'p_discovery_overfit': p_discovery_overfit,\n",
    "                    'p_replication': p_replication,\n",
    "                    'p_bias': p_bias\n",
    "                })\n",
    "                #sns.scatterplot(x='r_replication', y='r_discovery_cv', data=tmp_data_frame)\n",
    "                #plt.ylabel('in-sample (r)')\n",
    "                #plt.xlabel('out-of-sample (r_pred)')\n",
    "                #plt.show()\n",
    "                print('r discovery (with cv) :', tmp_data_frame.r_discovery_cv.mean(), 'r replication:', tmp_data_frame.r_replication.mean())\n",
    "\n",
    "                for alpha in [0.05]:\n",
    "                    print('Replicability at alpha =', alpha, ':',\n",
    "                          (tmp_data_frame.loc[tmp_data_frame['p_discovery_cv']<alpha,'p_replication']<alpha).sum() / (tmp_data_frame['p_discovery_cv']<0.05).sum() * 100, '%')\n",
    "                print(\"Motion bias:\", tmp_data_frame.p_bias.mean(), tmp_data_frame.p_bias.std())\n",
    "\n",
    "                df = pd.concat((df, tmp_data_frame))\n",
    "                df.reset_index(drop=True, inplace=True)\n",
    "                df.to_csv('res/revised_results_Ridge_fd.csv')\n",
    "\n",
    "df\n"
   ]
  },
  {
   "cell_type": "code",
   "execution_count": 98,
   "metadata": {},
   "outputs": [
    {
     "data": {
      "text/plain": "                                                r_discovery_cv  r_replication  \\\nconnectivity   model target                n                                    \nnetmats_parcor ridge AngAffect_Unadj       500        0.083911       0.097523   \n                     AngAggr_Unadj         500        0.174860       0.178205   \n                     AngHostil_Unadj       500        0.065354       0.066244   \n                     CardSort_AgeAdj       499        0.168875       0.174110   \n                     CogCrystalComp_AgeAdj 498        0.478393       0.488006   \n                     CogEarlyComp_AgeAdj   496        0.318284       0.314487   \n                     CogFluidComp_AgeAdj   495        0.286584       0.281001   \n                     CogTotalComp_AgeAdj   494        0.440612       0.444544   \n                     DDisc_AUC_200         499        0.181074       0.178266   \n                     Dexterity_AgeAdj      500        0.148792       0.150019   \n                     ER40ANG               499        0.065080       0.072857   \n                     ER40FEAR              499        0.036240       0.029427   \n                     ER40HAP               499       -0.040475      -0.040974   \n                     ER40NOE               499        0.046832       0.054712   \n                     ER40SAD               499        0.028999       0.033857   \n                     EmotSupp_Unadj        500        0.124379       0.113373   \n                     FearAffect_Unadj      500        0.142047       0.153561   \n                     FearSomat_Unadj       500        0.053006       0.042376   \n                     Flanker_AgeAdj        500        0.124328       0.133105   \n                     Friendship_Unadj      500        0.088484       0.083519   \n                     IWRD_TOT              499        0.062716       0.056784   \n                     InstruSupp_Unadj      500        0.036281       0.032797   \n                     LifeSatisf_Unadj      500        0.183808       0.184778   \n                     ListSort_AgeAdj       500        0.261719       0.276666   \n                     Loneliness_Unadj      500        0.098174       0.100536   \n                     MMSE_Score            500             NaN            NaN   \n                     Mars_Final            498        0.061327       0.026108   \n                     MeanPurp_Unadj        500        0.092541       0.095710   \n                     NEOFAC_A              499        0.170426       0.180072   \n                     NEOFAC_C              499        0.183556       0.195523   \n                     NEOFAC_E              499        0.157592       0.169936   \n                     NEOFAC_N              499        0.067182       0.079192   \n                     NEOFAC_O              499        0.252453       0.265905   \n                     Noise_Comp            497        0.134067       0.123952   \n                     Odor_AgeAdj           499        0.022999       0.024210   \n                     PMAT24_A_CR           498        0.273698       0.270505   \n                     PSQI_Score            500             NaN       0.080488   \n                     PainInterf_Tscore     500        0.021068       0.028892   \n                     PercHostil_Unadj      500        0.045781       0.036761   \n                     PercReject_Unadj      500        0.037067       0.037709   \n                     PercStress_Unadj      500        0.089891       0.097533   \n                     PicSeq_AgeAdj         500        0.166367       0.167290   \n                     PicVocab_AgeAdj       500        0.449331       0.446806   \n                     PosAffect_Unadj       500        0.084311       0.095997   \n                     ProcSpeed_AgeAdj      500        0.111175       0.120839   \n                     ReadEng_AgeAdj        500        0.421093       0.430223   \n                     SCPT_SEN              499        0.002666       0.002837   \n                     SCPT_SPEC             499        0.135545       0.141939   \n                     Sadness_Unadj         500        0.121922       0.128428   \n                     SelfEff_Unadj         500        0.107843       0.099681   \n                     Taste_AgeAdj          498        0.081493       0.073910   \n                     VSPLOT_TC             499        0.304904       0.307482   \n                     age                   500        0.468826       0.479300   \n\n                                                 p_bias  \nconnectivity   model target                n             \nnetmats_parcor ridge AngAffect_Unadj       500  0.48600  \n                     AngAggr_Unadj         500  0.19396  \n                     AngHostil_Unadj       500  0.40929  \n                     CardSort_AgeAdj       499  0.51301  \n                     CogCrystalComp_AgeAdj 498  0.61958  \n                     CogEarlyComp_AgeAdj   496  0.40190  \n                     CogFluidComp_AgeAdj   495  0.47973  \n                     CogTotalComp_AgeAdj   494  0.58473  \n                     DDisc_AUC_200         499  0.23137  \n                     Dexterity_AgeAdj      500  0.39907  \n                     ER40ANG               499  0.39046  \n                     ER40FEAR              499  0.34259  \n                     ER40HAP               499  0.43610  \n                     ER40NOE               499  0.41809  \n                     ER40SAD               499  0.45220  \n                     EmotSupp_Unadj        500  0.22181  \n                     FearAffect_Unadj      500  0.42446  \n                     FearSomat_Unadj       500  0.44691  \n                     Flanker_AgeAdj        500  0.36686  \n                     Friendship_Unadj      500  0.34509  \n                     IWRD_TOT              499  0.33328  \n                     InstruSupp_Unadj      500  0.35826  \n                     LifeSatisf_Unadj      500  0.27947  \n                     ListSort_AgeAdj       500  0.48862  \n                     Loneliness_Unadj      500  0.42129  \n                     MMSE_Score            500  0.00000  \n                     Mars_Final            498  0.44606  \n                     MeanPurp_Unadj        500  0.39125  \n                     NEOFAC_A              499  0.28425  \n                     NEOFAC_C              499  0.43345  \n                     NEOFAC_E              499  0.40248  \n                     NEOFAC_N              499  0.50425  \n                     NEOFAC_O              499  0.28290  \n                     Noise_Comp            497  0.34268  \n                     Odor_AgeAdj           499  0.42186  \n                     PMAT24_A_CR           498  0.45357  \n                     PSQI_Score            500  0.46591  \n                     PainInterf_Tscore     500  0.40455  \n                     PercHostil_Unadj      500  0.39934  \n                     PercReject_Unadj      500  0.46279  \n                     PercStress_Unadj      500  0.42411  \n                     PicSeq_AgeAdj         500  0.26611  \n                     PicVocab_AgeAdj       500  0.46671  \n                     PosAffect_Unadj       500  0.35642  \n                     ProcSpeed_AgeAdj      500  0.44762  \n                     ReadEng_AgeAdj        500  0.56276  \n                     SCPT_SEN              499  0.36600  \n                     SCPT_SPEC             499  0.35593  \n                     Sadness_Unadj         500  0.40169  \n                     SelfEff_Unadj         500  0.41418  \n                     Taste_AgeAdj          498  0.43259  \n                     VSPLOT_TC             499  0.40537  \n                     age                   500  0.44262  ",
      "text/html": "<div>\n<style scoped>\n    .dataframe tbody tr th:only-of-type {\n        vertical-align: middle;\n    }\n\n    .dataframe tbody tr th {\n        vertical-align: top;\n    }\n\n    .dataframe thead th {\n        text-align: right;\n    }\n</style>\n<table border=\"1\" class=\"dataframe\">\n  <thead>\n    <tr style=\"text-align: right;\">\n      <th></th>\n      <th></th>\n      <th></th>\n      <th></th>\n      <th>r_discovery_cv</th>\n      <th>r_replication</th>\n      <th>p_bias</th>\n    </tr>\n    <tr>\n      <th>connectivity</th>\n      <th>model</th>\n      <th>target</th>\n      <th>n</th>\n      <th></th>\n      <th></th>\n      <th></th>\n    </tr>\n  </thead>\n  <tbody>\n    <tr>\n      <th rowspan=\"53\" valign=\"top\">netmats_parcor</th>\n      <th rowspan=\"53\" valign=\"top\">ridge</th>\n      <th>AngAffect_Unadj</th>\n      <th>500</th>\n      <td>0.083911</td>\n      <td>0.097523</td>\n      <td>0.48600</td>\n    </tr>\n    <tr>\n      <th>AngAggr_Unadj</th>\n      <th>500</th>\n      <td>0.174860</td>\n      <td>0.178205</td>\n      <td>0.19396</td>\n    </tr>\n    <tr>\n      <th>AngHostil_Unadj</th>\n      <th>500</th>\n      <td>0.065354</td>\n      <td>0.066244</td>\n      <td>0.40929</td>\n    </tr>\n    <tr>\n      <th>CardSort_AgeAdj</th>\n      <th>499</th>\n      <td>0.168875</td>\n      <td>0.174110</td>\n      <td>0.51301</td>\n    </tr>\n    <tr>\n      <th>CogCrystalComp_AgeAdj</th>\n      <th>498</th>\n      <td>0.478393</td>\n      <td>0.488006</td>\n      <td>0.61958</td>\n    </tr>\n    <tr>\n      <th>CogEarlyComp_AgeAdj</th>\n      <th>496</th>\n      <td>0.318284</td>\n      <td>0.314487</td>\n      <td>0.40190</td>\n    </tr>\n    <tr>\n      <th>CogFluidComp_AgeAdj</th>\n      <th>495</th>\n      <td>0.286584</td>\n      <td>0.281001</td>\n      <td>0.47973</td>\n    </tr>\n    <tr>\n      <th>CogTotalComp_AgeAdj</th>\n      <th>494</th>\n      <td>0.440612</td>\n      <td>0.444544</td>\n      <td>0.58473</td>\n    </tr>\n    <tr>\n      <th>DDisc_AUC_200</th>\n      <th>499</th>\n      <td>0.181074</td>\n      <td>0.178266</td>\n      <td>0.23137</td>\n    </tr>\n    <tr>\n      <th>Dexterity_AgeAdj</th>\n      <th>500</th>\n      <td>0.148792</td>\n      <td>0.150019</td>\n      <td>0.39907</td>\n    </tr>\n    <tr>\n      <th>ER40ANG</th>\n      <th>499</th>\n      <td>0.065080</td>\n      <td>0.072857</td>\n      <td>0.39046</td>\n    </tr>\n    <tr>\n      <th>ER40FEAR</th>\n      <th>499</th>\n      <td>0.036240</td>\n      <td>0.029427</td>\n      <td>0.34259</td>\n    </tr>\n    <tr>\n      <th>ER40HAP</th>\n      <th>499</th>\n      <td>-0.040475</td>\n      <td>-0.040974</td>\n      <td>0.43610</td>\n    </tr>\n    <tr>\n      <th>ER40NOE</th>\n      <th>499</th>\n      <td>0.046832</td>\n      <td>0.054712</td>\n      <td>0.41809</td>\n    </tr>\n    <tr>\n      <th>ER40SAD</th>\n      <th>499</th>\n      <td>0.028999</td>\n      <td>0.033857</td>\n      <td>0.45220</td>\n    </tr>\n    <tr>\n      <th>EmotSupp_Unadj</th>\n      <th>500</th>\n      <td>0.124379</td>\n      <td>0.113373</td>\n      <td>0.22181</td>\n    </tr>\n    <tr>\n      <th>FearAffect_Unadj</th>\n      <th>500</th>\n      <td>0.142047</td>\n      <td>0.153561</td>\n      <td>0.42446</td>\n    </tr>\n    <tr>\n      <th>FearSomat_Unadj</th>\n      <th>500</th>\n      <td>0.053006</td>\n      <td>0.042376</td>\n      <td>0.44691</td>\n    </tr>\n    <tr>\n      <th>Flanker_AgeAdj</th>\n      <th>500</th>\n      <td>0.124328</td>\n      <td>0.133105</td>\n      <td>0.36686</td>\n    </tr>\n    <tr>\n      <th>Friendship_Unadj</th>\n      <th>500</th>\n      <td>0.088484</td>\n      <td>0.083519</td>\n      <td>0.34509</td>\n    </tr>\n    <tr>\n      <th>IWRD_TOT</th>\n      <th>499</th>\n      <td>0.062716</td>\n      <td>0.056784</td>\n      <td>0.33328</td>\n    </tr>\n    <tr>\n      <th>InstruSupp_Unadj</th>\n      <th>500</th>\n      <td>0.036281</td>\n      <td>0.032797</td>\n      <td>0.35826</td>\n    </tr>\n    <tr>\n      <th>LifeSatisf_Unadj</th>\n      <th>500</th>\n      <td>0.183808</td>\n      <td>0.184778</td>\n      <td>0.27947</td>\n    </tr>\n    <tr>\n      <th>ListSort_AgeAdj</th>\n      <th>500</th>\n      <td>0.261719</td>\n      <td>0.276666</td>\n      <td>0.48862</td>\n    </tr>\n    <tr>\n      <th>Loneliness_Unadj</th>\n      <th>500</th>\n      <td>0.098174</td>\n      <td>0.100536</td>\n      <td>0.42129</td>\n    </tr>\n    <tr>\n      <th>MMSE_Score</th>\n      <th>500</th>\n      <td>NaN</td>\n      <td>NaN</td>\n      <td>0.00000</td>\n    </tr>\n    <tr>\n      <th>Mars_Final</th>\n      <th>498</th>\n      <td>0.061327</td>\n      <td>0.026108</td>\n      <td>0.44606</td>\n    </tr>\n    <tr>\n      <th>MeanPurp_Unadj</th>\n      <th>500</th>\n      <td>0.092541</td>\n      <td>0.095710</td>\n      <td>0.39125</td>\n    </tr>\n    <tr>\n      <th>NEOFAC_A</th>\n      <th>499</th>\n      <td>0.170426</td>\n      <td>0.180072</td>\n      <td>0.28425</td>\n    </tr>\n    <tr>\n      <th>NEOFAC_C</th>\n      <th>499</th>\n      <td>0.183556</td>\n      <td>0.195523</td>\n      <td>0.43345</td>\n    </tr>\n    <tr>\n      <th>NEOFAC_E</th>\n      <th>499</th>\n      <td>0.157592</td>\n      <td>0.169936</td>\n      <td>0.40248</td>\n    </tr>\n    <tr>\n      <th>NEOFAC_N</th>\n      <th>499</th>\n      <td>0.067182</td>\n      <td>0.079192</td>\n      <td>0.50425</td>\n    </tr>\n    <tr>\n      <th>NEOFAC_O</th>\n      <th>499</th>\n      <td>0.252453</td>\n      <td>0.265905</td>\n      <td>0.28290</td>\n    </tr>\n    <tr>\n      <th>Noise_Comp</th>\n      <th>497</th>\n      <td>0.134067</td>\n      <td>0.123952</td>\n      <td>0.34268</td>\n    </tr>\n    <tr>\n      <th>Odor_AgeAdj</th>\n      <th>499</th>\n      <td>0.022999</td>\n      <td>0.024210</td>\n      <td>0.42186</td>\n    </tr>\n    <tr>\n      <th>PMAT24_A_CR</th>\n      <th>498</th>\n      <td>0.273698</td>\n      <td>0.270505</td>\n      <td>0.45357</td>\n    </tr>\n    <tr>\n      <th>PSQI_Score</th>\n      <th>500</th>\n      <td>NaN</td>\n      <td>0.080488</td>\n      <td>0.46591</td>\n    </tr>\n    <tr>\n      <th>PainInterf_Tscore</th>\n      <th>500</th>\n      <td>0.021068</td>\n      <td>0.028892</td>\n      <td>0.40455</td>\n    </tr>\n    <tr>\n      <th>PercHostil_Unadj</th>\n      <th>500</th>\n      <td>0.045781</td>\n      <td>0.036761</td>\n      <td>0.39934</td>\n    </tr>\n    <tr>\n      <th>PercReject_Unadj</th>\n      <th>500</th>\n      <td>0.037067</td>\n      <td>0.037709</td>\n      <td>0.46279</td>\n    </tr>\n    <tr>\n      <th>PercStress_Unadj</th>\n      <th>500</th>\n      <td>0.089891</td>\n      <td>0.097533</td>\n      <td>0.42411</td>\n    </tr>\n    <tr>\n      <th>PicSeq_AgeAdj</th>\n      <th>500</th>\n      <td>0.166367</td>\n      <td>0.167290</td>\n      <td>0.26611</td>\n    </tr>\n    <tr>\n      <th>PicVocab_AgeAdj</th>\n      <th>500</th>\n      <td>0.449331</td>\n      <td>0.446806</td>\n      <td>0.46671</td>\n    </tr>\n    <tr>\n      <th>PosAffect_Unadj</th>\n      <th>500</th>\n      <td>0.084311</td>\n      <td>0.095997</td>\n      <td>0.35642</td>\n    </tr>\n    <tr>\n      <th>ProcSpeed_AgeAdj</th>\n      <th>500</th>\n      <td>0.111175</td>\n      <td>0.120839</td>\n      <td>0.44762</td>\n    </tr>\n    <tr>\n      <th>ReadEng_AgeAdj</th>\n      <th>500</th>\n      <td>0.421093</td>\n      <td>0.430223</td>\n      <td>0.56276</td>\n    </tr>\n    <tr>\n      <th>SCPT_SEN</th>\n      <th>499</th>\n      <td>0.002666</td>\n      <td>0.002837</td>\n      <td>0.36600</td>\n    </tr>\n    <tr>\n      <th>SCPT_SPEC</th>\n      <th>499</th>\n      <td>0.135545</td>\n      <td>0.141939</td>\n      <td>0.35593</td>\n    </tr>\n    <tr>\n      <th>Sadness_Unadj</th>\n      <th>500</th>\n      <td>0.121922</td>\n      <td>0.128428</td>\n      <td>0.40169</td>\n    </tr>\n    <tr>\n      <th>SelfEff_Unadj</th>\n      <th>500</th>\n      <td>0.107843</td>\n      <td>0.099681</td>\n      <td>0.41418</td>\n    </tr>\n    <tr>\n      <th>Taste_AgeAdj</th>\n      <th>498</th>\n      <td>0.081493</td>\n      <td>0.073910</td>\n      <td>0.43259</td>\n    </tr>\n    <tr>\n      <th>VSPLOT_TC</th>\n      <th>499</th>\n      <td>0.304904</td>\n      <td>0.307482</td>\n      <td>0.40537</td>\n    </tr>\n    <tr>\n      <th>age</th>\n      <th>500</th>\n      <td>0.468826</td>\n      <td>0.479300</td>\n      <td>0.44262</td>\n    </tr>\n  </tbody>\n</table>\n</div>"
     },
     "execution_count": 98,
     "metadata": {},
     "output_type": "execute_result"
    }
   ],
   "source": [
    "df.groupby(['connectivity', 'model', 'target', 'n']).mean()[['r_discovery_cv', 'r_replication', 'p_bias']]"
   ]
  },
  {
   "cell_type": "code",
   "execution_count": 99,
   "metadata": {},
   "outputs": [
    {
     "name": "stderr",
     "output_type": "stream",
     "text": [
      "/tmp/ipykernel_219850/3689450029.py:12: FutureWarning:\n",
      "\n",
      "The default value of numeric_only in DataFrameGroupBy.mean is deprecated. In a future version, numeric_only will default to False. Either specify numeric_only or select only columns which should be valid for the function.\n",
      "\n",
      "/tmp/ipykernel_219850/3689450029.py:13: FutureWarning:\n",
      "\n",
      "The default value of numeric_only in DataFrameGroupBy.mean is deprecated. In a future version, numeric_only will default to False. Either specify numeric_only or select only columns which should be valid for the function.\n",
      "\n"
     ]
    },
    {
     "data": {
      "text/plain": "<Figure size 1400x200 with 1 Axes>",
      "image/png": "[encoded data removed]"
     },
     "metadata": {},
     "output_type": "display_data"
    }
   ],
   "source": [
    "\n",
    "sns.set(rc={\"figure.figsize\":(14, 2)})\n",
    "sns.set_style(\"white\")\n",
    "\n",
    "phenotypes = pd.read_csv('hcp_data/phenotypes-of-interest.csv').iloc[:, 1:]\n",
    "phenotypes = phenotypes.drop([2,3]) # Age duplicates\n",
    "\n",
    "def prep(x, alpha=0.05):\n",
    "    return (x.loc[x['p_discovery_cv']<alpha,'p_replication']<alpha).sum() / (x['p_discovery_cv']<0.05).sum() * 100\n",
    "\n",
    "df_plot = pd.DataFrame(df[df.connectivity=='netmats_parcor'].groupby('target').apply(prep))\n",
    "\n",
    "df_plot['r_discovery'] = df[df.connectivity=='netmats_parcor'].groupby('target').mean()['r_discovery_cv']\n",
    "df_plot['p_bias'] = df[df.connectivity=='netmats_parcor'].groupby('target').mean()['p_bias']\n",
    "df_plot = df_plot[df_plot.index!='age']\n",
    "df_plot = df_plot[df_plot.index!='MMSE_Score'] # nan because of not enough levels for bootstrapping\n",
    "df_plot = df_plot[df_plot.index!='PSQI_Score'] # nan because of not enough levels for bootstrapping\n",
    "                       \n",
    "df_plot['category'] = ''\n",
    "df_plot['phenotype'] = df_plot.index\n",
    "\n",
    "for i in df_plot.index:\n",
    "    df_plot.loc[i, 'category'] = phenotypes.loc[phenotypes.columnHeader==i, 'category'].values[0]\n",
    "\n",
    "                       \n",
    "df_plot = df_plot.sort_values(by='r_discovery', ascending=False)                      \n",
    "                       \n",
    "pal = \"muted\"\n",
    "my_colormap = [\n",
    "              sns.color_palette(pal)[4],\n",
    "              sns.color_palette(pal)[0], # cognition\n",
    "              sns.color_palette(pal)[3], # emotion\n",
    "              sns.color_palette(pal)[2], # dexterity\n",
    "              sns.color_palette(pal)[1], # big5\n",
    "              sns.color_palette(pal)[5], # sensory\n",
    "              sns.color_palette(pal)[6], # ?\n",
    "              sns.color_palette(pal)[3]]\n",
    "colors = []\n",
    "for code in pd.Categorical(df_plot.category).codes:\n",
    "    colors.append(my_colormap[code])\n",
    "\n",
    "ax=sns.barplot(data=df_plot, x='phenotype', y=0, palette=colors)\n",
    "plt.xticks(rotation=90)\n",
    "ax.axhline(80, color='black', linestyle=':')\n",
    "plt.savefig('fig/replicability_all_phenotypes_fd.pdf')"
   ]
  },
  {
   "cell_type": "code",
   "execution_count": 100,
   "metadata": {},
   "outputs": [
    {
     "data": {
      "text/plain": "<Figure size 1400x200 with 1 Axes>",
      "image/png": "[encoded data removed]"
     },
     "metadata": {},
     "output_type": "display_data"
    }
   ],
   "source": [
    "ax=sns.barplot(data=df_plot, x='phenotype', y='r_discovery', palette=colors)\n",
    "plt.xticks(rotation=90)\n",
    "ax.axhline(0.074, color='black', linestyle=':') # parametric one-sided significance threshold\n",
    "ax.axhline(0, color='black')\n",
    "plt.savefig('fig/r_discovery_all_phenotypes_fd.pdf')"
   ]
  },
  {
   "cell_type": "code",
   "execution_count": 101,
   "outputs": [
    {
     "data": {
      "text/plain": "                                0  r_discovery   p_bias     category  \\\ntarget                                                                 \nCogCrystalComp_AgeAdj  100.000000     0.478393  0.61958    Cognition   \nPicVocab_AgeAdj        100.000000     0.449331  0.46671    Cognition   \nCogTotalComp_AgeAdj    100.000000     0.440612  0.58473    Cognition   \nReadEng_AgeAdj         100.000000     0.421093  0.56276    Cognition   \nCogEarlyComp_AgeAdj    100.000000     0.318284  0.40190    Cognition   \nVSPLOT_TC              100.000000     0.304904  0.40537    Cognition   \nCogFluidComp_AgeAdj    100.000000     0.286584  0.47973    Cognition   \nPMAT24_A_CR            100.000000     0.273698  0.45357    Cognition   \nListSort_AgeAdj        100.000000     0.261719  0.48862    Cognition   \nNEOFAC_O               100.000000     0.252453  0.28290  Personality   \nLifeSatisf_Unadj       100.000000     0.183808  0.27947      Emotion   \nNEOFAC_C               100.000000     0.183556  0.43345  Personality   \nDDisc_AUC_200          100.000000     0.181074  0.23137    Cognition   \nAngAggr_Unadj          100.000000     0.174860  0.19396      Emotion   \nNEOFAC_A               100.000000     0.170426  0.28425  Personality   \nCardSort_AgeAdj        100.000000     0.168875  0.51301    Cognition   \nPicSeq_AgeAdj          100.000000     0.166367  0.26611    Cognition   \nNEOFAC_E               100.000000     0.157592  0.40248  Personality   \nDexterity_AgeAdj       100.000000     0.148792  0.39907        Motor   \nFearAffect_Unadj       100.000000     0.142047  0.42446      Emotion   \nSCPT_SPEC               97.727273     0.135545  0.35593    Cognition   \nNoise_Comp              94.382022     0.134067  0.34268      Sensory   \nEmotSupp_Unadj          85.185185     0.124379  0.22181      Emotion   \nFlanker_AgeAdj          95.238095     0.124328  0.36686    Cognition   \nSadness_Unadj           96.341463     0.121922  0.40169      Emotion   \nProcSpeed_AgeAdj        90.277778     0.111175  0.44762    Cognition   \nSelfEff_Unadj           73.239437     0.107843  0.41418      Emotion   \nLoneliness_Unadj        75.384615     0.098174  0.42129      Emotion   \nMeanPurp_Unadj          63.768116     0.092541  0.39125      Emotion   \nPercStress_Unadj        59.701493     0.089891  0.42411      Emotion   \nFriendship_Unadj        46.666667     0.088484  0.34509      Emotion   \nPosAffect_Unadj         60.714286     0.084311  0.35642      Emotion   \nAngAffect_Unadj         64.516129     0.083911  0.48600      Emotion   \nTaste_AgeAdj            23.636364     0.081493  0.43259      Sensory   \nNEOFAC_N                40.909091     0.067182  0.50425  Personality   \nAngHostil_Unadj         20.454545     0.065354  0.40929      Emotion   \nER40ANG                 34.090909     0.065080  0.39046      Emotion   \nIWRD_TOT                17.073171     0.062716  0.33328    Cognition   \nMars_Final              16.000000     0.061327  0.44606      Sensory   \nFearSomat_Unadj          5.263158     0.053006  0.44691      Emotion   \nER40NOE                 12.903226     0.046832  0.41809      Emotion   \nPercHostil_Unadj         9.677419     0.045781  0.39934      Emotion   \nPercReject_Unadj         7.407407     0.037067  0.46279      Emotion   \nInstruSupp_Unadj         0.000000     0.036281  0.35826      Emotion   \nER40FEAR                 0.000000     0.036240  0.34259      Emotion   \nER40SAD                  0.000000     0.028999  0.45220      Emotion   \nOdor_AgeAdj              9.090909     0.022999  0.42186      Sensory   \nPainInterf_Tscore        0.000000     0.021068  0.40455      Sensory   \nSCPT_SEN                 0.000000     0.002666  0.36600    Cognition   \nER40HAP                  0.000000    -0.040475  0.43610      Emotion   \n\n                                   phenotype  \\\ntarget                                         \nCogCrystalComp_AgeAdj  CogCrystalComp_AgeAdj   \nPicVocab_AgeAdj              PicVocab_AgeAdj   \nCogTotalComp_AgeAdj      CogTotalComp_AgeAdj   \nReadEng_AgeAdj                ReadEng_AgeAdj   \nCogEarlyComp_AgeAdj      CogEarlyComp_AgeAdj   \nVSPLOT_TC                          VSPLOT_TC   \nCogFluidComp_AgeAdj      CogFluidComp_AgeAdj   \nPMAT24_A_CR                      PMAT24_A_CR   \nListSort_AgeAdj              ListSort_AgeAdj   \nNEOFAC_O                            NEOFAC_O   \nLifeSatisf_Unadj            LifeSatisf_Unadj   \nNEOFAC_C                            NEOFAC_C   \nDDisc_AUC_200                  DDisc_AUC_200   \nAngAggr_Unadj                  AngAggr_Unadj   \nNEOFAC_A                            NEOFAC_A   \nCardSort_AgeAdj              CardSort_AgeAdj   \nPicSeq_AgeAdj                  PicSeq_AgeAdj   \nNEOFAC_E                            NEOFAC_E   \nDexterity_AgeAdj            Dexterity_AgeAdj   \nFearAffect_Unadj            FearAffect_Unadj   \nSCPT_SPEC                          SCPT_SPEC   \nNoise_Comp                        Noise_Comp   \nEmotSupp_Unadj                EmotSupp_Unadj   \nFlanker_AgeAdj                Flanker_AgeAdj   \nSadness_Unadj                  Sadness_Unadj   \nProcSpeed_AgeAdj            ProcSpeed_AgeAdj   \nSelfEff_Unadj                  SelfEff_Unadj   \nLoneliness_Unadj            Loneliness_Unadj   \nMeanPurp_Unadj                MeanPurp_Unadj   \nPercStress_Unadj            PercStress_Unadj   \nFriendship_Unadj            Friendship_Unadj   \nPosAffect_Unadj              PosAffect_Unadj   \nAngAffect_Unadj              AngAffect_Unadj   \nTaste_AgeAdj                    Taste_AgeAdj   \nNEOFAC_N                            NEOFAC_N   \nAngHostil_Unadj              AngHostil_Unadj   \nER40ANG                              ER40ANG   \nIWRD_TOT                            IWRD_TOT   \nMars_Final                        Mars_Final   \nFearSomat_Unadj              FearSomat_Unadj   \nER40NOE                              ER40NOE   \nPercHostil_Unadj            PercHostil_Unadj   \nPercReject_Unadj            PercReject_Unadj   \nInstruSupp_Unadj            InstruSupp_Unadj   \nER40FEAR                            ER40FEAR   \nER40SAD                              ER40SAD   \nOdor_AgeAdj                      Odor_AgeAdj   \nPainInterf_Tscore          PainInterf_Tscore   \nSCPT_SEN                            SCPT_SEN   \nER40HAP                              ER40HAP   \n\n                                                          phenotype_long  \ntarget                                                                    \nCogCrystalComp_AgeAdj  NIH Toolbox Cognition Crystallized Composite: ...  \nPicVocab_AgeAdj        NIH Toolbox Picture Vocabulary Test: Age-Adjus...  \nCogTotalComp_AgeAdj    NIH Toolbox Cognition Total Composite Score: A...  \nReadEng_AgeAdj         NIH Toolbox Oral Reading Recognition Test: Age...  \nCogEarlyComp_AgeAdj    NIH Toolbox Cognition Early Childhood Composit...  \nVSPLOT_TC              Variable Short Penn Line Orientation: Total Nu...  \nCogFluidComp_AgeAdj    NIH Toolbox Cognition Fluid Composite: Age Adj...  \nPMAT24_A_CR            Penn Progressive Matrices: Number of Correct R...  \nListSort_AgeAdj        NIH Toolbox List Sorting Working Memory Test: ...  \nNEOFAC_O                       NEO-FFI Openness to Experience (NEOFAC_O)  \nLifeSatisf_Unadj       NIH Toolbox General Life Satisfaction Survey: ...  \nNEOFAC_C                            NEO-FFI Conscientiousness (NEOFAC_C)  \nDDisc_AUC_200          Delay Discounting: Area Under the Curve for Di...  \nAngAggr_Unadj          NIH Toolbox Anger-Physical Aggression Survey: ...  \nNEOFAC_A                                NEO-FFI Agreeableness (NEOFAC_A)  \nCardSort_AgeAdj        NIH Toolbox Dimensional Change Card Sort Test:...  \nPicSeq_AgeAdj          NIH Toolbox Picture Sequence Memory Test: Age-...  \nNEOFAC_E                                 NEO-FFI Extraversion (NEOFAC_E)  \nDexterity_AgeAdj       NIH Toolbox 9-hole Pegboard Dexterity Test : A...  \nFearAffect_Unadj       NIH Toolbox Fear-Affect Survey: Unadjusted Sca...  \nSCPT_SPEC              Short Penn Continuous Performance Test: Specif...  \nNoise_Comp             NIH Toolbox Words-In-Noise Age 6+: Computed Score  \nEmotSupp_Unadj         NIH Toolbox Emotional Support Survey: Unadjust...  \nFlanker_AgeAdj         NIH Toolbox Flanker Inhibitory Control and Att...  \nSadness_Unadj          NIH Toolbox Sadness Survey: Unadjusted Scale S...  \nProcSpeed_AgeAdj       NIH Toolbox Pattern Comparison Processing Spee...  \nSelfEff_Unadj          NIH Toolbox Self-Efficacy Survey: Unadjusted S...  \nLoneliness_Unadj       NIH Toolbox Loneliness Survey: Unadjusted Scal...  \nMeanPurp_Unadj         NIH Toolbox Meaning and Purpose Survey: Unadju...  \nPercStress_Unadj       NIH Toolbox Perceived Stress Survey: Unadjuste...  \nFriendship_Unadj       NIH Toolbox Friendship Survey: Unadjusted Scal...  \nPosAffect_Unadj        NIH Toolbox Positive Affect Survey: Unadjusted...  \nAngAffect_Unadj        NIH Toolbox Anger-Affect Survey: Unadjusted Sc...  \nTaste_AgeAdj           NIH Toolbox Regional Taste Intensity Age 12+ A...  \nNEOFAC_N                                  NEO-FFI Neuroticism (NEOFAC_N)  \nAngHostil_Unadj        NIH Toolbox Anger-Hostility Survey: Unadjusted...  \nER40ANG                Penn Emotion Recognition Test: Number of Corre...  \nIWRD_TOT               Penn Word Memory Test: Total Number of Correct...  \nMars_Final                         Mars Final Contrast Sensitivity Score  \nFearSomat_Unadj        NIH Toolbox Fear-Somatic Arousal Survey: Unadj...  \nER40NOE                Penn Emotion Recognition Test: Number of Corre...  \nPercHostil_Unadj       NIH Toolbox Perceived Hostility Survey: Unadju...  \nPercReject_Unadj       NIH Toolbox Perceived Rejection Survey: Unadju...  \nInstruSupp_Unadj       NIH Toolbox Instrumental Support Survey: Unadj...  \nER40FEAR               Penn Emotion Recognition Test: Number of Corre...  \nER40SAD                Penn Emotion Recognition Test: Number of Corre...  \nOdor_AgeAdj            NIH Toolbox Odor Identification Age 3+ Age-Adj...  \nPainInterf_Tscore      NIH Toolbox Pain Interference Survey Age 18+: ...  \nSCPT_SEN               Short Penn Continuous Performance Test: Sensit...  \nER40HAP                Penn Emotion Recognition Test: Number of Corre...  ",
      "text/html": "<div>\n<style scoped>\n    .dataframe tbody tr th:only-of-type {\n        vertical-align: middle;\n    }\n\n    .dataframe tbody tr th {\n        vertical-align: top;\n    }\n\n    .dataframe thead th {\n        text-align: right;\n    }\n</style>\n<table border=\"1\" class=\"dataframe\">\n  <thead>\n    <tr style=\"text-align: right;\">\n      <th></th>\n      <th>0</th>\n      <th>r_discovery</th>\n      <th>p_bias</th>\n      <th>category</th>\n      <th>phenotype</th>\n      <th>phenotype_long</th>\n    </tr>\n    <tr>\n      <th>target</th>\n      <th></th>\n      <th></th>\n      <th></th>\n      <th></th>\n      <th></th>\n      <th></th>\n    </tr>\n  </thead>\n  <tbody>\n    <tr>\n      <th>CogCrystalComp_AgeAdj</th>\n      <td>100.000000</td>\n      <td>0.478393</td>\n      <td>0.61958</td>\n      <td>Cognition</td>\n      <td>CogCrystalComp_AgeAdj</td>\n      <td>NIH Toolbox Cognition Crystallized Composite: ...</td>\n    </tr>\n    <tr>\n      <th>PicVocab_AgeAdj</th>\n      <td>100.000000</td>\n      <td>0.449331</td>\n      <td>0.46671</td>\n      <td>Cognition</td>\n      <td>PicVocab_AgeAdj</td>\n      <td>NIH Toolbox Picture Vocabulary Test: Age-Adjus...</td>\n    </tr>\n    <tr>\n      <th>CogTotalComp_AgeAdj</th>\n      <td>100.000000</td>\n      <td>0.440612</td>\n      <td>0.58473</td>\n      <td>Cognition</td>\n      <td>CogTotalComp_AgeAdj</td>\n      <td>NIH Toolbox Cognition Total Composite Score: A...</td>\n    </tr>\n    <tr>\n      <th>ReadEng_AgeAdj</th>\n      <td>100.000000</td>\n      <td>0.421093</td>\n      <td>0.56276</td>\n      <td>Cognition</td>\n      <td>ReadEng_AgeAdj</td>\n      <td>NIH Toolbox Oral Reading Recognition Test: Age...</td>\n    </tr>\n    <tr>\n      <th>CogEarlyComp_AgeAdj</th>\n      <td>100.000000</td>\n      <td>0.318284</td>\n      <td>0.40190</td>\n      <td>Cognition</td>\n      <td>CogEarlyComp_AgeAdj</td>\n      <td>NIH Toolbox Cognition Early Childhood Composit...</td>\n    </tr>\n    <tr>\n      <th>VSPLOT_TC</th>\n      <td>100.000000</td>\n      <td>0.304904</td>\n      <td>0.40537</td>\n      <td>Cognition</td>\n      <td>VSPLOT_TC</td>\n      <td>Variable Short Penn Line Orientation: Total Nu...</td>\n    </tr>\n    <tr>\n      <th>CogFluidComp_AgeAdj</th>\n      <td>100.000000</td>\n      <td>0.286584</td>\n      <td>0.47973</td>\n      <td>Cognition</td>\n      <td>CogFluidComp_AgeAdj</td>\n      <td>NIH Toolbox Cognition Fluid Composite: Age Adj...</td>\n    </tr>\n    <tr>\n      <th>PMAT24_A_CR</th>\n      <td>100.000000</td>\n      <td>0.273698</td>\n      <td>0.45357</td>\n      <td>Cognition</td>\n      <td>PMAT24_A_CR</td>\n      <td>Penn Progressive Matrices: Number of Correct R...</td>\n    </tr>\n    <tr>\n      <th>ListSort_AgeAdj</th>\n      <td>100.000000</td>\n      <td>0.261719</td>\n      <td>0.48862</td>\n      <td>Cognition</td>\n      <td>ListSort_AgeAdj</td>\n      <td>NIH Toolbox List Sorting Working Memory Test: ...</td>\n    </tr>\n    <tr>\n      <th>NEOFAC_O</th>\n      <td>100.000000</td>\n      <td>0.252453</td>\n      <td>0.28290</td>\n      <td>Personality</td>\n      <td>NEOFAC_O</td>\n      <td>NEO-FFI Openness to Experience (NEOFAC_O)</td>\n    </tr>\n    <tr>\n      <th>LifeSatisf_Unadj</th>\n      <td>100.000000</td>\n      <td>0.183808</td>\n      <td>0.27947</td>\n      <td>Emotion</td>\n      <td>LifeSatisf_Unadj</td>\n      <td>NIH Toolbox General Life Satisfaction Survey: ...</td>\n    </tr>\n    <tr>\n      <th>NEOFAC_C</th>\n      <td>100.000000</td>\n      <td>0.183556</td>\n      <td>0.43345</td>\n      <td>Personality</td>\n      <td>NEOFAC_C</td>\n      <td>NEO-FFI Conscientiousness (NEOFAC_C)</td>\n    </tr>\n    <tr>\n      <th>DDisc_AUC_200</th>\n      <td>100.000000</td>\n      <td>0.181074</td>\n      <td>0.23137</td>\n      <td>Cognition</td>\n      <td>DDisc_AUC_200</td>\n      <td>Delay Discounting: Area Under the Curve for Di...</td>\n    </tr>\n    <tr>\n      <th>AngAggr_Unadj</th>\n      <td>100.000000</td>\n      <td>0.174860</td>\n      <td>0.19396</td>\n      <td>Emotion</td>\n      <td>AngAggr_Unadj</td>\n      <td>NIH Toolbox Anger-Physical Aggression Survey: ...</td>\n    </tr>\n    <tr>\n      <th>NEOFAC_A</th>\n      <td>100.000000</td>\n      <td>0.170426</td>\n      <td>0.28425</td>\n      <td>Personality</td>\n      <td>NEOFAC_A</td>\n      <td>NEO-FFI Agreeableness (NEOFAC_A)</td>\n    </tr>\n    <tr>\n      <th>CardSort_AgeAdj</th>\n      <td>100.000000</td>\n      <td>0.168875</td>\n      <td>0.51301</td>\n      <td>Cognition</td>\n      <td>CardSort_AgeAdj</td>\n      <td>NIH Toolbox Dimensional Change Card Sort Test:...</td>\n    </tr>\n    <tr>\n      <th>PicSeq_AgeAdj</th>\n      <td>100.000000</td>\n      <td>0.166367</td>\n      <td>0.26611</td>\n      <td>Cognition</td>\n      <td>PicSeq_AgeAdj</td>\n      <td>NIH Toolbox Picture Sequence Memory Test: Age-...</td>\n    </tr>\n    <tr>\n      <th>NEOFAC_E</th>\n      <td>100.000000</td>\n      <td>0.157592</td>\n      <td>0.40248</td>\n      <td>Personality</td>\n      <td>NEOFAC_E</td>\n      <td>NEO-FFI Extraversion (NEOFAC_E)</td>\n    </tr>\n    <tr>\n      <th>Dexterity_AgeAdj</th>\n      <td>100.000000</td>\n      <td>0.148792</td>\n      <td>0.39907</td>\n      <td>Motor</td>\n      <td>Dexterity_AgeAdj</td>\n      <td>NIH Toolbox 9-hole Pegboard Dexterity Test : A...</td>\n    </tr>\n    <tr>\n      <th>FearAffect_Unadj</th>\n      <td>100.000000</td>\n      <td>0.142047</td>\n      <td>0.42446</td>\n      <td>Emotion</td>\n      <td>FearAffect_Unadj</td>\n      <td>NIH Toolbox Fear-Affect Survey: Unadjusted Sca...</td>\n    </tr>\n    <tr>\n      <th>SCPT_SPEC</th>\n      <td>97.727273</td>\n      <td>0.135545</td>\n      <td>0.35593</td>\n      <td>Cognition</td>\n      <td>SCPT_SPEC</td>\n      <td>Short Penn Continuous Performance Test: Specif...</td>\n    </tr>\n    <tr>\n      <th>Noise_Comp</th>\n      <td>94.382022</td>\n      <td>0.134067</td>\n      <td>0.34268</td>\n      <td>Sensory</td>\n      <td>Noise_Comp</td>\n      <td>NIH Toolbox Words-In-Noise Age 6+: Computed Score</td>\n    </tr>\n    <tr>\n      <th>EmotSupp_Unadj</th>\n      <td>85.185185</td>\n      <td>0.124379</td>\n      <td>0.22181</td>\n      <td>Emotion</td>\n      <td>EmotSupp_Unadj</td>\n      <td>NIH Toolbox Emotional Support Survey: Unadjust...</td>\n    </tr>\n    <tr>\n      <th>Flanker_AgeAdj</th>\n      <td>95.238095</td>\n      <td>0.124328</td>\n      <td>0.36686</td>\n      <td>Cognition</td>\n      <td>Flanker_AgeAdj</td>\n      <td>NIH Toolbox Flanker Inhibitory Control and Att...</td>\n    </tr>\n    <tr>\n      <th>Sadness_Unadj</th>\n      <td>96.341463</td>\n      <td>0.121922</td>\n      <td>0.40169</td>\n      <td>Emotion</td>\n      <td>Sadness_Unadj</td>\n      <td>NIH Toolbox Sadness Survey: Unadjusted Scale S...</td>\n    </tr>\n    <tr>\n      <th>ProcSpeed_AgeAdj</th>\n      <td>90.277778</td>\n      <td>0.111175</td>\n      <td>0.44762</td>\n      <td>Cognition</td>\n      <td>ProcSpeed_AgeAdj</td>\n      <td>NIH Toolbox Pattern Comparison Processing Spee...</td>\n    </tr>\n    <tr>\n      <th>SelfEff_Unadj</th>\n      <td>73.239437</td>\n      <td>0.107843</td>\n      <td>0.41418</td>\n      <td>Emotion</td>\n      <td>SelfEff_Unadj</td>\n      <td>NIH Toolbox Self-Efficacy Survey: Unadjusted S...</td>\n    </tr>\n    <tr>\n      <th>Loneliness_Unadj</th>\n      <td>75.384615</td>\n      <td>0.098174</td>\n      <td>0.42129</td>\n      <td>Emotion</td>\n      <td>Loneliness_Unadj</td>\n      <td>NIH Toolbox Loneliness Survey: Unadjusted Scal...</td>\n    </tr>\n    <tr>\n      <th>MeanPurp_Unadj</th>\n      <td>63.768116</td>\n      <td>0.092541</td>\n      <td>0.39125</td>\n      <td>Emotion</td>\n      <td>MeanPurp_Unadj</td>\n      <td>NIH Toolbox Meaning and Purpose Survey: Unadju...</td>\n    </tr>\n    <tr>\n      <th>PercStress_Unadj</th>\n      <td>59.701493</td>\n      <td>0.089891</td>\n      <td>0.42411</td>\n      <td>Emotion</td>\n      <td>PercStress_Unadj</td>\n      <td>NIH Toolbox Perceived Stress Survey: Unadjuste...</td>\n    </tr>\n    <tr>\n      <th>Friendship_Unadj</th>\n      <td>46.666667</td>\n      <td>0.088484</td>\n      <td>0.34509</td>\n      <td>Emotion</td>\n      <td>Friendship_Unadj</td>\n      <td>NIH Toolbox Friendship Survey: Unadjusted Scal...</td>\n    </tr>\n    <tr>\n      <th>PosAffect_Unadj</th>\n      <td>60.714286</td>\n      <td>0.084311</td>\n      <td>0.35642</td>\n      <td>Emotion</td>\n      <td>PosAffect_Unadj</td>\n      <td>NIH Toolbox Positive Affect Survey: Unadjusted...</td>\n    </tr>\n    <tr>\n      <th>AngAffect_Unadj</th>\n      <td>64.516129</td>\n      <td>0.083911</td>\n      <td>0.48600</td>\n      <td>Emotion</td>\n      <td>AngAffect_Unadj</td>\n      <td>NIH Toolbox Anger-Affect Survey: Unadjusted Sc...</td>\n    </tr>\n    <tr>\n      <th>Taste_AgeAdj</th>\n      <td>23.636364</td>\n      <td>0.081493</td>\n      <td>0.43259</td>\n      <td>Sensory</td>\n      <td>Taste_AgeAdj</td>\n      <td>NIH Toolbox Regional Taste Intensity Age 12+ A...</td>\n    </tr>\n    <tr>\n      <th>NEOFAC_N</th>\n      <td>40.909091</td>\n      <td>0.067182</td>\n      <td>0.50425</td>\n      <td>Personality</td>\n      <td>NEOFAC_N</td>\n      <td>NEO-FFI Neuroticism (NEOFAC_N)</td>\n    </tr>\n    <tr>\n      <th>AngHostil_Unadj</th>\n      <td>20.454545</td>\n      <td>0.065354</td>\n      <td>0.40929</td>\n      <td>Emotion</td>\n      <td>AngHostil_Unadj</td>\n      <td>NIH Toolbox Anger-Hostility Survey: Unadjusted...</td>\n    </tr>\n    <tr>\n      <th>ER40ANG</th>\n      <td>34.090909</td>\n      <td>0.065080</td>\n      <td>0.39046</td>\n      <td>Emotion</td>\n      <td>ER40ANG</td>\n      <td>Penn Emotion Recognition Test: Number of Corre...</td>\n    </tr>\n    <tr>\n      <th>IWRD_TOT</th>\n      <td>17.073171</td>\n      <td>0.062716</td>\n      <td>0.33328</td>\n      <td>Cognition</td>\n      <td>IWRD_TOT</td>\n      <td>Penn Word Memory Test: Total Number of Correct...</td>\n    </tr>\n    <tr>\n      <th>Mars_Final</th>\n      <td>16.000000</td>\n      <td>0.061327</td>\n      <td>0.44606</td>\n      <td>Sensory</td>\n      <td>Mars_Final</td>\n      <td>Mars Final Contrast Sensitivity Score</td>\n    </tr>\n    <tr>\n      <th>FearSomat_Unadj</th>\n      <td>5.263158</td>\n      <td>0.053006</td>\n      <td>0.44691</td>\n      <td>Emotion</td>\n      <td>FearSomat_Unadj</td>\n      <td>NIH Toolbox Fear-Somatic Arousal Survey: Unadj...</td>\n    </tr>\n    <tr>\n      <th>ER40NOE</th>\n      <td>12.903226</td>\n      <td>0.046832</td>\n      <td>0.41809</td>\n      <td>Emotion</td>\n      <td>ER40NOE</td>\n      <td>Penn Emotion Recognition Test: Number of Corre...</td>\n    </tr>\n    <tr>\n      <th>PercHostil_Unadj</th>\n      <td>9.677419</td>\n      <td>0.045781</td>\n      <td>0.39934</td>\n      <td>Emotion</td>\n      <td>PercHostil_Unadj</td>\n      <td>NIH Toolbox Perceived Hostility Survey: Unadju...</td>\n    </tr>\n    <tr>\n      <th>PercReject_Unadj</th>\n      <td>7.407407</td>\n      <td>0.037067</td>\n      <td>0.46279</td>\n      <td>Emotion</td>\n      <td>PercReject_Unadj</td>\n      <td>NIH Toolbox Perceived Rejection Survey: Unadju...</td>\n    </tr>\n    <tr>\n      <th>InstruSupp_Unadj</th>\n      <td>0.000000</td>\n      <td>0.036281</td>\n      <td>0.35826</td>\n      <td>Emotion</td>\n      <td>InstruSupp_Unadj</td>\n      <td>NIH Toolbox Instrumental Support Survey: Unadj...</td>\n    </tr>\n    <tr>\n      <th>ER40FEAR</th>\n      <td>0.000000</td>\n      <td>0.036240</td>\n      <td>0.34259</td>\n      <td>Emotion</td>\n      <td>ER40FEAR</td>\n      <td>Penn Emotion Recognition Test: Number of Corre...</td>\n    </tr>\n    <tr>\n      <th>ER40SAD</th>\n      <td>0.000000</td>\n      <td>0.028999</td>\n      <td>0.45220</td>\n      <td>Emotion</td>\n      <td>ER40SAD</td>\n      <td>Penn Emotion Recognition Test: Number of Corre...</td>\n    </tr>\n    <tr>\n      <th>Odor_AgeAdj</th>\n      <td>9.090909</td>\n      <td>0.022999</td>\n      <td>0.42186</td>\n      <td>Sensory</td>\n      <td>Odor_AgeAdj</td>\n      <td>NIH Toolbox Odor Identification Age 3+ Age-Adj...</td>\n    </tr>\n    <tr>\n      <th>PainInterf_Tscore</th>\n      <td>0.000000</td>\n      <td>0.021068</td>\n      <td>0.40455</td>\n      <td>Sensory</td>\n      <td>PainInterf_Tscore</td>\n      <td>NIH Toolbox Pain Interference Survey Age 18+: ...</td>\n    </tr>\n    <tr>\n      <th>SCPT_SEN</th>\n      <td>0.000000</td>\n      <td>0.002666</td>\n      <td>0.36600</td>\n      <td>Cognition</td>\n      <td>SCPT_SEN</td>\n      <td>Short Penn Continuous Performance Test: Sensit...</td>\n    </tr>\n    <tr>\n      <th>ER40HAP</th>\n      <td>0.000000</td>\n      <td>-0.040475</td>\n      <td>0.43610</td>\n      <td>Emotion</td>\n      <td>ER40HAP</td>\n      <td>Penn Emotion Recognition Test: Number of Corre...</td>\n    </tr>\n  </tbody>\n</table>\n</div>"
     },
     "execution_count": 101,
     "metadata": {},
     "output_type": "execute_result"
    }
   ],
   "source": [
    "for i in df_plot.index:\n",
    "    df_plot.loc[i, 'phenotype_long'] = phenotypes.loc[phenotypes.columnHeader==i, 'fullDisplayName'].values[0]\n",
    "df_plot"
   ],
   "metadata": {
    "collapsed": false
   }
  },
  {
   "cell_type": "code",
   "execution_count": 102,
   "outputs": [
    {
     "data": {
      "text/plain": "                                0  r_discovery   p_bias     category  \\\ntarget                                                                 \nCogCrystalComp_AgeAdj  100.000000     0.478393  0.61958    Cognition   \nPicVocab_AgeAdj        100.000000     0.449331  0.46671    Cognition   \nCogTotalComp_AgeAdj    100.000000     0.440612  0.58473    Cognition   \nReadEng_AgeAdj         100.000000     0.421093  0.56276    Cognition   \nCogEarlyComp_AgeAdj    100.000000     0.318284  0.40190    Cognition   \nVSPLOT_TC              100.000000     0.304904  0.40537    Cognition   \nCogFluidComp_AgeAdj    100.000000     0.286584  0.47973    Cognition   \nPMAT24_A_CR            100.000000     0.273698  0.45357    Cognition   \nListSort_AgeAdj        100.000000     0.261719  0.48862    Cognition   \nNEOFAC_O               100.000000     0.252453  0.28290  Personality   \nLifeSatisf_Unadj       100.000000     0.183808  0.27947      Emotion   \nNEOFAC_C               100.000000     0.183556  0.43345  Personality   \nDDisc_AUC_200          100.000000     0.181074  0.23137    Cognition   \nAngAggr_Unadj          100.000000     0.174860  0.19396      Emotion   \nNEOFAC_A               100.000000     0.170426  0.28425  Personality   \nCardSort_AgeAdj        100.000000     0.168875  0.51301    Cognition   \nPicSeq_AgeAdj          100.000000     0.166367  0.26611    Cognition   \nNEOFAC_E               100.000000     0.157592  0.40248  Personality   \nDexterity_AgeAdj       100.000000     0.148792  0.39907        Motor   \nFearAffect_Unadj       100.000000     0.142047  0.42446      Emotion   \nSCPT_SPEC               97.727273     0.135545  0.35593    Cognition   \nNoise_Comp              94.382022     0.134067  0.34268      Sensory   \nEmotSupp_Unadj          85.185185     0.124379  0.22181      Emotion   \nFlanker_AgeAdj          95.238095     0.124328  0.36686    Cognition   \nSadness_Unadj           96.341463     0.121922  0.40169      Emotion   \nProcSpeed_AgeAdj        90.277778     0.111175  0.44762    Cognition   \nSelfEff_Unadj           73.239437     0.107843  0.41418      Emotion   \nLoneliness_Unadj        75.384615     0.098174  0.42129      Emotion   \nMeanPurp_Unadj          63.768116     0.092541  0.39125      Emotion   \nPercStress_Unadj        59.701493     0.089891  0.42411      Emotion   \nFriendship_Unadj        46.666667     0.088484  0.34509      Emotion   \nPosAffect_Unadj         60.714286     0.084311  0.35642      Emotion   \nAngAffect_Unadj         64.516129     0.083911  0.48600      Emotion   \nTaste_AgeAdj            23.636364     0.081493  0.43259      Sensory   \nNEOFAC_N                40.909091     0.067182  0.50425  Personality   \nAngHostil_Unadj         20.454545     0.065354  0.40929      Emotion   \nER40ANG                 34.090909     0.065080  0.39046      Emotion   \nIWRD_TOT                17.073171     0.062716  0.33328    Cognition   \nMars_Final              16.000000     0.061327  0.44606      Sensory   \nFearSomat_Unadj          5.263158     0.053006  0.44691      Emotion   \nER40NOE                 12.903226     0.046832  0.41809      Emotion   \nPercHostil_Unadj         9.677419     0.045781  0.39934      Emotion   \nPercReject_Unadj         7.407407     0.037067  0.46279      Emotion   \nInstruSupp_Unadj         0.000000     0.036281  0.35826      Emotion   \nER40FEAR                 0.000000     0.036240  0.34259      Emotion   \nER40SAD                  0.000000     0.028999  0.45220      Emotion   \nOdor_AgeAdj              9.090909     0.022999  0.42186      Sensory   \nPainInterf_Tscore        0.000000     0.021068  0.40455      Sensory   \nSCPT_SEN                 0.000000     0.002666  0.36600    Cognition   \nER40HAP                  0.000000    -0.040475  0.43610      Emotion   \n\n                                   phenotype  \\\ntarget                                         \nCogCrystalComp_AgeAdj  CogCrystalComp_AgeAdj   \nPicVocab_AgeAdj              PicVocab_AgeAdj   \nCogTotalComp_AgeAdj      CogTotalComp_AgeAdj   \nReadEng_AgeAdj                ReadEng_AgeAdj   \nCogEarlyComp_AgeAdj      CogEarlyComp_AgeAdj   \nVSPLOT_TC                          VSPLOT_TC   \nCogFluidComp_AgeAdj      CogFluidComp_AgeAdj   \nPMAT24_A_CR                      PMAT24_A_CR   \nListSort_AgeAdj              ListSort_AgeAdj   \nNEOFAC_O                            NEOFAC_O   \nLifeSatisf_Unadj            LifeSatisf_Unadj   \nNEOFAC_C                            NEOFAC_C   \nDDisc_AUC_200                  DDisc_AUC_200   \nAngAggr_Unadj                  AngAggr_Unadj   \nNEOFAC_A                            NEOFAC_A   \nCardSort_AgeAdj              CardSort_AgeAdj   \nPicSeq_AgeAdj                  PicSeq_AgeAdj   \nNEOFAC_E                            NEOFAC_E   \nDexterity_AgeAdj            Dexterity_AgeAdj   \nFearAffect_Unadj            FearAffect_Unadj   \nSCPT_SPEC                          SCPT_SPEC   \nNoise_Comp                        Noise_Comp   \nEmotSupp_Unadj                EmotSupp_Unadj   \nFlanker_AgeAdj                Flanker_AgeAdj   \nSadness_Unadj                  Sadness_Unadj   \nProcSpeed_AgeAdj            ProcSpeed_AgeAdj   \nSelfEff_Unadj                  SelfEff_Unadj   \nLoneliness_Unadj            Loneliness_Unadj   \nMeanPurp_Unadj                MeanPurp_Unadj   \nPercStress_Unadj            PercStress_Unadj   \nFriendship_Unadj            Friendship_Unadj   \nPosAffect_Unadj              PosAffect_Unadj   \nAngAffect_Unadj              AngAffect_Unadj   \nTaste_AgeAdj                    Taste_AgeAdj   \nNEOFAC_N                            NEOFAC_N   \nAngHostil_Unadj              AngHostil_Unadj   \nER40ANG                              ER40ANG   \nIWRD_TOT                            IWRD_TOT   \nMars_Final                        Mars_Final   \nFearSomat_Unadj              FearSomat_Unadj   \nER40NOE                              ER40NOE   \nPercHostil_Unadj            PercHostil_Unadj   \nPercReject_Unadj            PercReject_Unadj   \nInstruSupp_Unadj            InstruSupp_Unadj   \nER40FEAR                            ER40FEAR   \nER40SAD                              ER40SAD   \nOdor_AgeAdj                      Odor_AgeAdj   \nPainInterf_Tscore          PainInterf_Tscore   \nSCPT_SEN                            SCPT_SEN   \nER40HAP                              ER40HAP   \n\n                                                          phenotype_long  \ntarget                                                                    \nCogCrystalComp_AgeAdj  NIH Toolbox Cognition Crystallized Composite: ...  \nPicVocab_AgeAdj        NIH Toolbox Picture Vocabulary Test: Age-Adjus...  \nCogTotalComp_AgeAdj    NIH Toolbox Cognition Total Composite Score: A...  \nReadEng_AgeAdj         NIH Toolbox Oral Reading Recognition Test: Age...  \nCogEarlyComp_AgeAdj    NIH Toolbox Cognition Early Childhood Composit...  \nVSPLOT_TC              Variable Short Penn Line Orientation: Total Nu...  \nCogFluidComp_AgeAdj    NIH Toolbox Cognition Fluid Composite: Age Adj...  \nPMAT24_A_CR            Penn Progressive Matrices: Number of Correct R...  \nListSort_AgeAdj        NIH Toolbox List Sorting Working Memory Test: ...  \nNEOFAC_O                       NEO-FFI Openness to Experience (NEOFAC_O)  \nLifeSatisf_Unadj       NIH Toolbox General Life Satisfaction Survey: ...  \nNEOFAC_C                            NEO-FFI Conscientiousness (NEOFAC_C)  \nDDisc_AUC_200          Delay Discounting: Area Under the Curve for Di...  \nAngAggr_Unadj          NIH Toolbox Anger-Physical Aggression Survey: ...  \nNEOFAC_A                                NEO-FFI Agreeableness (NEOFAC_A)  \nCardSort_AgeAdj        NIH Toolbox Dimensional Change Card Sort Test:...  \nPicSeq_AgeAdj          NIH Toolbox Picture Sequence Memory Test: Age-...  \nNEOFAC_E                                 NEO-FFI Extraversion (NEOFAC_E)  \nDexterity_AgeAdj       NIH Toolbox 9-hole Pegboard Dexterity Test : A...  \nFearAffect_Unadj       NIH Toolbox Fear-Affect Survey: Unadjusted Sca...  \nSCPT_SPEC              Short Penn Continuous Performance Test: Specif...  \nNoise_Comp             NIH Toolbox Words-In-Noise Age 6+: Computed Score  \nEmotSupp_Unadj         NIH Toolbox Emotional Support Survey: Unadjust...  \nFlanker_AgeAdj         NIH Toolbox Flanker Inhibitory Control and Att...  \nSadness_Unadj          NIH Toolbox Sadness Survey: Unadjusted Scale S...  \nProcSpeed_AgeAdj       NIH Toolbox Pattern Comparison Processing Spee...  \nSelfEff_Unadj          NIH Toolbox Self-Efficacy Survey: Unadjusted S...  \nLoneliness_Unadj       NIH Toolbox Loneliness Survey: Unadjusted Scal...  \nMeanPurp_Unadj         NIH Toolbox Meaning and Purpose Survey: Unadju...  \nPercStress_Unadj       NIH Toolbox Perceived Stress Survey: Unadjuste...  \nFriendship_Unadj       NIH Toolbox Friendship Survey: Unadjusted Scal...  \nPosAffect_Unadj        NIH Toolbox Positive Affect Survey: Unadjusted...  \nAngAffect_Unadj        NIH Toolbox Anger-Affect Survey: Unadjusted Sc...  \nTaste_AgeAdj           NIH Toolbox Regional Taste Intensity Age 12+ A...  \nNEOFAC_N                                  NEO-FFI Neuroticism (NEOFAC_N)  \nAngHostil_Unadj        NIH Toolbox Anger-Hostility Survey: Unadjusted...  \nER40ANG                Penn Emotion Recognition Test: Number of Corre...  \nIWRD_TOT               Penn Word Memory Test: Total Number of Correct...  \nMars_Final                         Mars Final Contrast Sensitivity Score  \nFearSomat_Unadj        NIH Toolbox Fear-Somatic Arousal Survey: Unadj...  \nER40NOE                Penn Emotion Recognition Test: Number of Corre...  \nPercHostil_Unadj       NIH Toolbox Perceived Hostility Survey: Unadju...  \nPercReject_Unadj       NIH Toolbox Perceived Rejection Survey: Unadju...  \nInstruSupp_Unadj       NIH Toolbox Instrumental Support Survey: Unadj...  \nER40FEAR               Penn Emotion Recognition Test: Number of Corre...  \nER40SAD                Penn Emotion Recognition Test: Number of Corre...  \nOdor_AgeAdj            NIH Toolbox Odor Identification Age 3+ Age-Adj...  \nPainInterf_Tscore      NIH Toolbox Pain Interference Survey Age 18+: ...  \nSCPT_SEN               Short Penn Continuous Performance Test: Sensit...  \nER40HAP                Penn Emotion Recognition Test: Number of Corre...  ",
      "text/html": "<div>\n<style scoped>\n    .dataframe tbody tr th:only-of-type {\n        vertical-align: middle;\n    }\n\n    .dataframe tbody tr th {\n        vertical-align: top;\n    }\n\n    .dataframe thead th {\n        text-align: right;\n    }\n</style>\n<table border=\"1\" class=\"dataframe\">\n  <thead>\n    <tr style=\"text-align: right;\">\n      <th></th>\n      <th>0</th>\n      <th>r_discovery</th>\n      <th>p_bias</th>\n      <th>category</th>\n      <th>phenotype</th>\n      <th>phenotype_long</th>\n    </tr>\n    <tr>\n      <th>target</th>\n      <th></th>\n      <th></th>\n      <th></th>\n      <th></th>\n      <th></th>\n      <th></th>\n    </tr>\n  </thead>\n  <tbody>\n    <tr>\n      <th>CogCrystalComp_AgeAdj</th>\n      <td>100.000000</td>\n      <td>0.478393</td>\n      <td>0.61958</td>\n      <td>Cognition</td>\n      <td>CogCrystalComp_AgeAdj</td>\n      <td>NIH Toolbox Cognition Crystallized Composite: ...</td>\n    </tr>\n    <tr>\n      <th>PicVocab_AgeAdj</th>\n      <td>100.000000</td>\n      <td>0.449331</td>\n      <td>0.46671</td>\n      <td>Cognition</td>\n      <td>PicVocab_AgeAdj</td>\n      <td>NIH Toolbox Picture Vocabulary Test: Age-Adjus...</td>\n    </tr>\n    <tr>\n      <th>CogTotalComp_AgeAdj</th>\n      <td>100.000000</td>\n      <td>0.440612</td>\n      <td>0.58473</td>\n      <td>Cognition</td>\n      <td>CogTotalComp_AgeAdj</td>\n      <td>NIH Toolbox Cognition Total Composite Score: A...</td>\n    </tr>\n    <tr>\n      <th>ReadEng_AgeAdj</th>\n      <td>100.000000</td>\n      <td>0.421093</td>\n      <td>0.56276</td>\n      <td>Cognition</td>\n      <td>ReadEng_AgeAdj</td>\n      <td>NIH Toolbox Oral Reading Recognition Test: Age...</td>\n    </tr>\n    <tr>\n      <th>CogEarlyComp_AgeAdj</th>\n      <td>100.000000</td>\n      <td>0.318284</td>\n      <td>0.40190</td>\n      <td>Cognition</td>\n      <td>CogEarlyComp_AgeAdj</td>\n      <td>NIH Toolbox Cognition Early Childhood Composit...</td>\n    </tr>\n    <tr>\n      <th>VSPLOT_TC</th>\n      <td>100.000000</td>\n      <td>0.304904</td>\n      <td>0.40537</td>\n      <td>Cognition</td>\n      <td>VSPLOT_TC</td>\n      <td>Variable Short Penn Line Orientation: Total Nu...</td>\n    </tr>\n    <tr>\n      <th>CogFluidComp_AgeAdj</th>\n      <td>100.000000</td>\n      <td>0.286584</td>\n      <td>0.47973</td>\n      <td>Cognition</td>\n      <td>CogFluidComp_AgeAdj</td>\n      <td>NIH Toolbox Cognition Fluid Composite: Age Adj...</td>\n    </tr>\n    <tr>\n      <th>PMAT24_A_CR</th>\n      <td>100.000000</td>\n      <td>0.273698</td>\n      <td>0.45357</td>\n      <td>Cognition</td>\n      <td>PMAT24_A_CR</td>\n      <td>Penn Progressive Matrices: Number of Correct R...</td>\n    </tr>\n    <tr>\n      <th>ListSort_AgeAdj</th>\n      <td>100.000000</td>\n      <td>0.261719</td>\n      <td>0.48862</td>\n      <td>Cognition</td>\n      <td>ListSort_AgeAdj</td>\n      <td>NIH Toolbox List Sorting Working Memory Test: ...</td>\n    </tr>\n    <tr>\n      <th>NEOFAC_O</th>\n      <td>100.000000</td>\n      <td>0.252453</td>\n      <td>0.28290</td>\n      <td>Personality</td>\n      <td>NEOFAC_O</td>\n      <td>NEO-FFI Openness to Experience (NEOFAC_O)</td>\n    </tr>\n    <tr>\n      <th>LifeSatisf_Unadj</th>\n      <td>100.000000</td>\n      <td>0.183808</td>\n      <td>0.27947</td>\n      <td>Emotion</td>\n      <td>LifeSatisf_Unadj</td>\n      <td>NIH Toolbox General Life Satisfaction Survey: ...</td>\n    </tr>\n    <tr>\n      <th>NEOFAC_C</th>\n      <td>100.000000</td>\n      <td>0.183556</td>\n      <td>0.43345</td>\n      <td>Personality</td>\n      <td>NEOFAC_C</td>\n      <td>NEO-FFI Conscientiousness (NEOFAC_C)</td>\n    </tr>\n    <tr>\n      <th>DDisc_AUC_200</th>\n      <td>100.000000</td>\n      <td>0.181074</td>\n      <td>0.23137</td>\n      <td>Cognition</td>\n      <td>DDisc_AUC_200</td>\n      <td>Delay Discounting: Area Under the Curve for Di...</td>\n    </tr>\n    <tr>\n      <th>AngAggr_Unadj</th>\n      <td>100.000000</td>\n      <td>0.174860</td>\n      <td>0.19396</td>\n      <td>Emotion</td>\n      <td>AngAggr_Unadj</td>\n      <td>NIH Toolbox Anger-Physical Aggression Survey: ...</td>\n    </tr>\n    <tr>\n      <th>NEOFAC_A</th>\n      <td>100.000000</td>\n      <td>0.170426</td>\n      <td>0.28425</td>\n      <td>Personality</td>\n      <td>NEOFAC_A</td>\n      <td>NEO-FFI Agreeableness (NEOFAC_A)</td>\n    </tr>\n    <tr>\n      <th>CardSort_AgeAdj</th>\n      <td>100.000000</td>\n      <td>0.168875</td>\n      <td>0.51301</td>\n      <td>Cognition</td>\n      <td>CardSort_AgeAdj</td>\n      <td>NIH Toolbox Dimensional Change Card Sort Test:...</td>\n    </tr>\n    <tr>\n      <th>PicSeq_AgeAdj</th>\n      <td>100.000000</td>\n      <td>0.166367</td>\n      <td>0.26611</td>\n      <td>Cognition</td>\n      <td>PicSeq_AgeAdj</td>\n      <td>NIH Toolbox Picture Sequence Memory Test: Age-...</td>\n    </tr>\n    <tr>\n      <th>NEOFAC_E</th>\n      <td>100.000000</td>\n      <td>0.157592</td>\n      <td>0.40248</td>\n      <td>Personality</td>\n      <td>NEOFAC_E</td>\n      <td>NEO-FFI Extraversion (NEOFAC_E)</td>\n    </tr>\n    <tr>\n      <th>Dexterity_AgeAdj</th>\n      <td>100.000000</td>\n      <td>0.148792</td>\n      <td>0.39907</td>\n      <td>Motor</td>\n      <td>Dexterity_AgeAdj</td>\n      <td>NIH Toolbox 9-hole Pegboard Dexterity Test : A...</td>\n    </tr>\n    <tr>\n      <th>FearAffect_Unadj</th>\n      <td>100.000000</td>\n      <td>0.142047</td>\n      <td>0.42446</td>\n      <td>Emotion</td>\n      <td>FearAffect_Unadj</td>\n      <td>NIH Toolbox Fear-Affect Survey: Unadjusted Sca...</td>\n    </tr>\n    <tr>\n      <th>SCPT_SPEC</th>\n      <td>97.727273</td>\n      <td>0.135545</td>\n      <td>0.35593</td>\n      <td>Cognition</td>\n      <td>SCPT_SPEC</td>\n      <td>Short Penn Continuous Performance Test: Specif...</td>\n    </tr>\n    <tr>\n      <th>Noise_Comp</th>\n      <td>94.382022</td>\n      <td>0.134067</td>\n      <td>0.34268</td>\n      <td>Sensory</td>\n      <td>Noise_Comp</td>\n      <td>NIH Toolbox Words-In-Noise Age 6+: Computed Score</td>\n    </tr>\n    <tr>\n      <th>EmotSupp_Unadj</th>\n      <td>85.185185</td>\n      <td>0.124379</td>\n      <td>0.22181</td>\n      <td>Emotion</td>\n      <td>EmotSupp_Unadj</td>\n      <td>NIH Toolbox Emotional Support Survey: Unadjust...</td>\n    </tr>\n    <tr>\n      <th>Flanker_AgeAdj</th>\n      <td>95.238095</td>\n      <td>0.124328</td>\n      <td>0.36686</td>\n      <td>Cognition</td>\n      <td>Flanker_AgeAdj</td>\n      <td>NIH Toolbox Flanker Inhibitory Control and Att...</td>\n    </tr>\n    <tr>\n      <th>Sadness_Unadj</th>\n      <td>96.341463</td>\n      <td>0.121922</td>\n      <td>0.40169</td>\n      <td>Emotion</td>\n      <td>Sadness_Unadj</td>\n      <td>NIH Toolbox Sadness Survey: Unadjusted Scale S...</td>\n    </tr>\n    <tr>\n      <th>ProcSpeed_AgeAdj</th>\n      <td>90.277778</td>\n      <td>0.111175</td>\n      <td>0.44762</td>\n      <td>Cognition</td>\n      <td>ProcSpeed_AgeAdj</td>\n      <td>NIH Toolbox Pattern Comparison Processing Spee...</td>\n    </tr>\n    <tr>\n      <th>SelfEff_Unadj</th>\n      <td>73.239437</td>\n      <td>0.107843</td>\n      <td>0.41418</td>\n      <td>Emotion</td>\n      <td>SelfEff_Unadj</td>\n      <td>NIH Toolbox Self-Efficacy Survey: Unadjusted S...</td>\n    </tr>\n    <tr>\n      <th>Loneliness_Unadj</th>\n      <td>75.384615</td>\n      <td>0.098174</td>\n      <td>0.42129</td>\n      <td>Emotion</td>\n      <td>Loneliness_Unadj</td>\n      <td>NIH Toolbox Loneliness Survey: Unadjusted Scal...</td>\n    </tr>\n    <tr>\n      <th>MeanPurp_Unadj</th>\n      <td>63.768116</td>\n      <td>0.092541</td>\n      <td>0.39125</td>\n      <td>Emotion</td>\n      <td>MeanPurp_Unadj</td>\n      <td>NIH Toolbox Meaning and Purpose Survey: Unadju...</td>\n    </tr>\n    <tr>\n      <th>PercStress_Unadj</th>\n      <td>59.701493</td>\n      <td>0.089891</td>\n      <td>0.42411</td>\n      <td>Emotion</td>\n      <td>PercStress_Unadj</td>\n      <td>NIH Toolbox Perceived Stress Survey: Unadjuste...</td>\n    </tr>\n    <tr>\n      <th>Friendship_Unadj</th>\n      <td>46.666667</td>\n      <td>0.088484</td>\n      <td>0.34509</td>\n      <td>Emotion</td>\n      <td>Friendship_Unadj</td>\n      <td>NIH Toolbox Friendship Survey: Unadjusted Scal...</td>\n    </tr>\n    <tr>\n      <th>PosAffect_Unadj</th>\n      <td>60.714286</td>\n      <td>0.084311</td>\n      <td>0.35642</td>\n      <td>Emotion</td>\n      <td>PosAffect_Unadj</td>\n      <td>NIH Toolbox Positive Affect Survey: Unadjusted...</td>\n    </tr>\n    <tr>\n      <th>AngAffect_Unadj</th>\n      <td>64.516129</td>\n      <td>0.083911</td>\n      <td>0.48600</td>\n      <td>Emotion</td>\n      <td>AngAffect_Unadj</td>\n      <td>NIH Toolbox Anger-Affect Survey: Unadjusted Sc...</td>\n    </tr>\n    <tr>\n      <th>Taste_AgeAdj</th>\n      <td>23.636364</td>\n      <td>0.081493</td>\n      <td>0.43259</td>\n      <td>Sensory</td>\n      <td>Taste_AgeAdj</td>\n      <td>NIH Toolbox Regional Taste Intensity Age 12+ A...</td>\n    </tr>\n    <tr>\n      <th>NEOFAC_N</th>\n      <td>40.909091</td>\n      <td>0.067182</td>\n      <td>0.50425</td>\n      <td>Personality</td>\n      <td>NEOFAC_N</td>\n      <td>NEO-FFI Neuroticism (NEOFAC_N)</td>\n    </tr>\n    <tr>\n      <th>AngHostil_Unadj</th>\n      <td>20.454545</td>\n      <td>0.065354</td>\n      <td>0.40929</td>\n      <td>Emotion</td>\n      <td>AngHostil_Unadj</td>\n      <td>NIH Toolbox Anger-Hostility Survey: Unadjusted...</td>\n    </tr>\n    <tr>\n      <th>ER40ANG</th>\n      <td>34.090909</td>\n      <td>0.065080</td>\n      <td>0.39046</td>\n      <td>Emotion</td>\n      <td>ER40ANG</td>\n      <td>Penn Emotion Recognition Test: Number of Corre...</td>\n    </tr>\n    <tr>\n      <th>IWRD_TOT</th>\n      <td>17.073171</td>\n      <td>0.062716</td>\n      <td>0.33328</td>\n      <td>Cognition</td>\n      <td>IWRD_TOT</td>\n      <td>Penn Word Memory Test: Total Number of Correct...</td>\n    </tr>\n    <tr>\n      <th>Mars_Final</th>\n      <td>16.000000</td>\n      <td>0.061327</td>\n      <td>0.44606</td>\n      <td>Sensory</td>\n      <td>Mars_Final</td>\n      <td>Mars Final Contrast Sensitivity Score</td>\n    </tr>\n    <tr>\n      <th>FearSomat_Unadj</th>\n      <td>5.263158</td>\n      <td>0.053006</td>\n      <td>0.44691</td>\n      <td>Emotion</td>\n      <td>FearSomat_Unadj</td>\n      <td>NIH Toolbox Fear-Somatic Arousal Survey: Unadj...</td>\n    </tr>\n    <tr>\n      <th>ER40NOE</th>\n      <td>12.903226</td>\n      <td>0.046832</td>\n      <td>0.41809</td>\n      <td>Emotion</td>\n      <td>ER40NOE</td>\n      <td>Penn Emotion Recognition Test: Number of Corre...</td>\n    </tr>\n    <tr>\n      <th>PercHostil_Unadj</th>\n      <td>9.677419</td>\n      <td>0.045781</td>\n      <td>0.39934</td>\n      <td>Emotion</td>\n      <td>PercHostil_Unadj</td>\n      <td>NIH Toolbox Perceived Hostility Survey: Unadju...</td>\n    </tr>\n    <tr>\n      <th>PercReject_Unadj</th>\n      <td>7.407407</td>\n      <td>0.037067</td>\n      <td>0.46279</td>\n      <td>Emotion</td>\n      <td>PercReject_Unadj</td>\n      <td>NIH Toolbox Perceived Rejection Survey: Unadju...</td>\n    </tr>\n    <tr>\n      <th>InstruSupp_Unadj</th>\n      <td>0.000000</td>\n      <td>0.036281</td>\n      <td>0.35826</td>\n      <td>Emotion</td>\n      <td>InstruSupp_Unadj</td>\n      <td>NIH Toolbox Instrumental Support Survey: Unadj...</td>\n    </tr>\n    <tr>\n      <th>ER40FEAR</th>\n      <td>0.000000</td>\n      <td>0.036240</td>\n      <td>0.34259</td>\n      <td>Emotion</td>\n      <td>ER40FEAR</td>\n      <td>Penn Emotion Recognition Test: Number of Corre...</td>\n    </tr>\n    <tr>\n      <th>ER40SAD</th>\n      <td>0.000000</td>\n      <td>0.028999</td>\n      <td>0.45220</td>\n      <td>Emotion</td>\n      <td>ER40SAD</td>\n      <td>Penn Emotion Recognition Test: Number of Corre...</td>\n    </tr>\n    <tr>\n      <th>Odor_AgeAdj</th>\n      <td>9.090909</td>\n      <td>0.022999</td>\n      <td>0.42186</td>\n      <td>Sensory</td>\n      <td>Odor_AgeAdj</td>\n      <td>NIH Toolbox Odor Identification Age 3+ Age-Adj...</td>\n    </tr>\n    <tr>\n      <th>PainInterf_Tscore</th>\n      <td>0.000000</td>\n      <td>0.021068</td>\n      <td>0.40455</td>\n      <td>Sensory</td>\n      <td>PainInterf_Tscore</td>\n      <td>NIH Toolbox Pain Interference Survey Age 18+: ...</td>\n    </tr>\n    <tr>\n      <th>SCPT_SEN</th>\n      <td>0.000000</td>\n      <td>0.002666</td>\n      <td>0.36600</td>\n      <td>Cognition</td>\n      <td>SCPT_SEN</td>\n      <td>Short Penn Continuous Performance Test: Sensit...</td>\n    </tr>\n    <tr>\n      <th>ER40HAP</th>\n      <td>0.000000</td>\n      <td>-0.040475</td>\n      <td>0.43610</td>\n      <td>Emotion</td>\n      <td>ER40HAP</td>\n      <td>Penn Emotion Recognition Test: Number of Corre...</td>\n    </tr>\n  </tbody>\n</table>\n</div>"
     },
     "execution_count": 102,
     "metadata": {},
     "output_type": "execute_result"
    }
   ],
   "source": [
    "\n",
    "df_plot"
   ],
   "metadata": {
    "collapsed": false
   }
  },
  {
   "cell_type": "code",
   "execution_count": 107,
   "outputs": [],
   "source": [
    "df_plot.loc[:, 'phenotype'] = ['CogCrystal', 'PicVocab', 'CogTotal',\n",
    " 'ReadEng', 'CogEarly', 'Visuospat', 'CogFluid',\n",
    " 'FluidIQ', 'ListSort', 'DelayDisc', 'CardSort',\n",
    " 'PicSeqMem', 'ContPerfSpec', 'Flanker', 'ProcSpeed',\n",
    " 'WordMem', 'ContPerfSen', 'Open', 'Conscient', 'Agreeable', 'Extrovert',\n",
    " 'Neurotic', 'Dexterity', 'NoiseComp',\n",
    " 'Taste', 'ContrastSens', 'Odor', 'PainInterf',\n",
    " 'LifeSatisf', 'AngerAggr', 'FearAffect', 'EmotSupp',\n",
    " 'Sadness', 'SelfEff', 'Loneliness', 'MeaningPurp',\n",
    " 'PercStress', 'Friendship', 'PosAffect', 'AngerAffect',\n",
    " 'AngerHost', 'AngerRec', 'FearSomat', 'NeutralRec',\n",
    " 'PercHost', 'PercReject', 'InstruSupp', 'FearRec',\n",
    " 'SadRec', 'HappyRec']"
   ],
   "metadata": {
    "collapsed": false
   }
  },
  {
   "cell_type": "code",
   "execution_count": 108,
   "outputs": [
    {
     "data": {
      "application/vnd.plotly.v1+json": {
       "data": [
        {
         "alignmentgroup": "True",
         "customdata": [
          [
           "Cognition",
           "NIH Toolbox Cognition Crystallized Composite: Age Adjusted Scale Score",
           0.47839262344554506,
           0.61958
          ],
          [
           "Cognition",
           "NIH Toolbox Picture Vocabulary Test: Age-Adjusted Scale Score",
           0.4493312166455696,
           0.46671
          ],
          [
           "Cognition",
           "NIH Toolbox Cognition Total Composite Score: Age Adjusted Scale Score",
           0.4406120525346939,
           0.58473
          ],
          [
           "Cognition",
           "NIH Toolbox Oral Reading Recognition Test: Age-Adjusted Scale Score",
           0.42109345635098444,
           0.56276
          ],
          [
           "Cognition",
           "NIH Toolbox Cognition Early Childhood Composite: Age Adjusted Scale Score",
           0.3182836660667367,
           0.4019
          ],
          [
           "Cognition",
           "Variable Short Penn Line Orientation: Total Number Correct (VSPLOT_TC)",
           0.30490360382613413,
           0.40537
          ],
          [
           "Cognition",
           "NIH Toolbox Cognition Fluid Composite: Age Adjusted Scale Score",
           0.2865841373447795,
           0.47973
          ],
          [
           "Cognition",
           "Penn Progressive Matrices: Number of Correct Responses (PMAT24_A_CR)",
           0.2736981578712082,
           0.45357
          ],
          [
           "Cognition",
           "NIH Toolbox List Sorting Working Memory Test: Age-Adjusted Scale Score",
           0.26171850889102616,
           0.48862
          ],
          [
           "Cognition",
           "Delay Discounting: Area Under the Curve for Discounting of $200 (DDisc_AUC_200)",
           0.18107385660399955,
           0.23137
          ],
          [
           "Cognition",
           "NIH Toolbox Dimensional Change Card Sort Test: Age-Adjusted Scale Score",
           0.16887465523854794,
           0.51301
          ],
          [
           "Cognition",
           "NIH Toolbox Picture Sequence Memory Test: Age-Adjusted Scale Score",
           0.16636690367599585,
           0.26611
          ],
          [
           "Cognition",
           "Short Penn Continuous Performance Test: Specificity = SCPT_TN/(SCPT_TN + SCPT_FP) (SCPT_SPEC)",
           0.13554498118088334,
           0.35593
          ],
          [
           "Cognition",
           "NIH Toolbox Flanker Inhibitory Control and Attention Test: Age-Adjusted Scale Score",
           0.12432824308114813,
           0.36686
          ],
          [
           "Cognition",
           "NIH Toolbox Pattern Comparison Processing Speed Test: Age-Adjusted Scale Score",
           0.11117481505091503,
           0.44762
          ],
          [
           "Cognition",
           "Penn Word Memory Test: Total Number of Correct Responses (IWRD_TOT)",
           0.06271571287907216,
           0.33328
          ],
          [
           "Cognition",
           "Short Penn Continuous Performance Test: Sensitivity = SCPT_TP/(SCPT_TP + SCPT_FN) (SCPT_SEN)",
           0.002665936653368112,
           0.366
          ]
         ],
         "hovertemplate": "category=%{customdata[0]}<br>phenotype=%{x}<br>$P_{rep}$=%{y}<br>phenotype_long=%{customdata[1]}<br>r_discovery=%{customdata[2]}<br>p_bias=%{customdata[3]}<extra></extra>",
         "legendgroup": "Cognition",
         "marker": {
          "color": "#636efa",
          "pattern": {
           "shape": ""
          }
         },
         "name": "Cognition",
         "offsetgroup": "Cognition",
         "orientation": "v",
         "showlegend": true,
         "textposition": "outside",
         "texttemplate": "%{y:.2s}",
         "x": [
          "CogCrystal",
          "PicVocab",
          "CogTotal",
          "ReadEng",
          "CogEarly",
          "Visuospat",
          "CogFluid",
          "FluidIQ",
          "ListSort",
          "DelayDisc",
          "CardSort",
          "PicSeqMem",
          "ContPerfSpec",
          "Flanker",
          "ProcSpeed",
          "WordMem",
          "ContPerfSen"
         ],
         "xaxis": "x",
         "y": [
          100.0,
          100.0,
          100.0,
          100.0,
          100.0,
          100.0,
          100.0,
          100.0,
          100.0,
          100.0,
          100.0,
          100.0,
          97.72727272727273,
          95.23809523809523,
          90.27777777777779,
          17.073170731707318,
          0.0
         ],
         "yaxis": "y",
         "type": "bar",
         "textfont": {
          "size": 12
         },
         "cliponaxis": false,
         "textangle": 0
        },
        {
         "alignmentgroup": "True",
         "customdata": [
          [
           "Personality",
           "NEO-FFI Openness to Experience (NEOFAC_O)",
           0.25245333747166326,
           0.2829
          ],
          [
           "Personality",
           "NEO-FFI Conscientiousness (NEOFAC_C)",
           0.18355635448080637,
           0.43345
          ],
          [
           "Personality",
           "NEO-FFI Agreeableness (NEOFAC_A)",
           0.1704262769323697,
           0.28425
          ],
          [
           "Personality",
           "NEO-FFI Extraversion (NEOFAC_E)",
           0.15759235531652468,
           0.40247999999999995
          ],
          [
           "Personality",
           "NEO-FFI Neuroticism (NEOFAC_N)",
           0.0671822163469227,
           0.5042500000000001
          ]
         ],
         "hovertemplate": "category=%{customdata[0]}<br>phenotype=%{x}<br>$P_{rep}$=%{y}<br>phenotype_long=%{customdata[1]}<br>r_discovery=%{customdata[2]}<br>p_bias=%{customdata[3]}<extra></extra>",
         "legendgroup": "Personality",
         "marker": {
          "color": "#EF553B",
          "pattern": {
           "shape": ""
          }
         },
         "name": "Personality",
         "offsetgroup": "Personality",
         "orientation": "v",
         "showlegend": true,
         "textposition": "outside",
         "texttemplate": "%{y:.2s}",
         "x": [
          "Open",
          "Conscient",
          "Agreeable",
          "Extrovert",
          "Neurotic"
         ],
         "xaxis": "x",
         "y": [
          100.0,
          100.0,
          100.0,
          100.0,
          40.909090909090914
         ],
         "yaxis": "y",
         "type": "bar",
         "textfont": {
          "size": 12
         },
         "cliponaxis": false,
         "textangle": 0
        },
        {
         "alignmentgroup": "True",
         "customdata": [
          [
           "Motor",
           "NIH Toolbox 9-hole Pegboard Dexterity Test : Age-Adjusted Scale Score",
           0.14879169449693974,
           0.39907000000000004
          ]
         ],
         "hovertemplate": "category=%{customdata[0]}<br>phenotype=%{x}<br>$P_{rep}$=%{y}<br>phenotype_long=%{customdata[1]}<br>r_discovery=%{customdata[2]}<br>p_bias=%{customdata[3]}<extra></extra>",
         "legendgroup": "Motor",
         "marker": {
          "color": "#00cc96",
          "pattern": {
           "shape": ""
          }
         },
         "name": "Motor",
         "offsetgroup": "Motor",
         "orientation": "v",
         "showlegend": true,
         "textposition": "outside",
         "texttemplate": "%{y:.2s}",
         "x": [
          "Dexterity"
         ],
         "xaxis": "x",
         "y": [
          100.0
         ],
         "yaxis": "y",
         "type": "bar",
         "textfont": {
          "size": 12
         },
         "cliponaxis": false,
         "textangle": 0
        },
        {
         "alignmentgroup": "True",
         "customdata": [
          [
           "Sensory",
           "NIH Toolbox Words-In-Noise Age 6+: Computed Score",
           0.13406733367884469,
           0.34268
          ],
          [
           "Sensory",
           "NIH Toolbox Regional Taste Intensity Age 12+ Age-Adjusted Scale Score",
           0.08149281597139897,
           0.43259000000000003
          ],
          [
           "Sensory",
           "Mars Final Contrast Sensitivity Score",
           0.06132666867300055,
           0.44606
          ],
          [
           "Sensory",
           "NIH Toolbox Odor Identification Age 3+ Age-Adjusted Scale Score",
           0.02299931247774586,
           0.42186
          ],
          [
           "Sensory",
           "NIH Toolbox Pain Interference Survey Age 18+: T-score",
           0.021067838904761712,
           0.40454999999999997
          ]
         ],
         "hovertemplate": "category=%{customdata[0]}<br>phenotype=%{x}<br>$P_{rep}$=%{y}<br>phenotype_long=%{customdata[1]}<br>r_discovery=%{customdata[2]}<br>p_bias=%{customdata[3]}<extra></extra>",
         "legendgroup": "Sensory",
         "marker": {
          "color": "#ab63fa",
          "pattern": {
           "shape": ""
          }
         },
         "name": "Sensory",
         "offsetgroup": "Sensory",
         "orientation": "v",
         "showlegend": true,
         "textposition": "outside",
         "texttemplate": "%{y:.2s}",
         "x": [
          "NoiseComp",
          "Taste",
          "ContrastSens",
          "Odor",
          "PainInterf"
         ],
         "xaxis": "x",
         "y": [
          94.3820224719101,
          23.636363636363637,
          16.0,
          9.090909090909092,
          0.0
         ],
         "yaxis": "y",
         "type": "bar",
         "textfont": {
          "size": 12
         },
         "cliponaxis": false,
         "textangle": 0
        },
        {
         "alignmentgroup": "True",
         "customdata": [
          [
           "Emotion",
           "NIH Toolbox General Life Satisfaction Survey: Unadjusted Scale Score",
           0.1838083218213043,
           0.27947
          ],
          [
           "Emotion",
           "NIH Toolbox Anger-Physical Aggression Survey: Unadjusted Scale Score",
           0.17485993741796133,
           0.19396000000000002
          ],
          [
           "Emotion",
           "NIH Toolbox Fear-Affect Survey: Unadjusted Scale Score",
           0.14204748778803078,
           0.42446
          ],
          [
           "Emotion",
           "NIH Toolbox Emotional Support Survey: Unadjusted Scale Score",
           0.12437946976635667,
           0.22181
          ],
          [
           "Emotion",
           "NIH Toolbox Sadness Survey: Unadjusted Scale Score",
           0.12192241867376265,
           0.40169
          ],
          [
           "Emotion",
           "NIH Toolbox Self-Efficacy Survey: Unadjusted Scale Score",
           0.10784332980592687,
           0.41418
          ],
          [
           "Emotion",
           "NIH Toolbox Loneliness Survey: Unadjusted Scale Score",
           0.09817361612912683,
           0.42129
          ],
          [
           "Emotion",
           "NIH Toolbox Meaning and Purpose Survey: Unadjusted Scale Score",
           0.09254147027850096,
           0.39125
          ],
          [
           "Emotion",
           "NIH Toolbox Perceived Stress Survey: Unadjusted Scale Score",
           0.08989125648651601,
           0.42411
          ],
          [
           "Emotion",
           "NIH Toolbox Friendship Survey: Unadjusted Scale Score",
           0.08848366457008697,
           0.34509
          ],
          [
           "Emotion",
           "NIH Toolbox Positive Affect Survey: Unadjusted Scale Score",
           0.08431069119449104,
           0.35642
          ],
          [
           "Emotion",
           "NIH Toolbox Anger-Affect Survey: Unadjusted Scale Score",
           0.08391055133744187,
           0.486
          ],
          [
           "Emotion",
           "NIH Toolbox Anger-Hostility Survey: Unadjusted Scale Score",
           0.06535446446071695,
           0.40929000000000004
          ],
          [
           "Emotion",
           "Penn Emotion Recognition Test: Number of Correct Anger Identifications (ER40ANG)",
           0.06508042473623116,
           0.39046
          ],
          [
           "Emotion",
           "NIH Toolbox Fear-Somatic Arousal Survey: Unadjusted Scale Score",
           0.05300609662924426,
           0.44691000000000003
          ],
          [
           "Emotion",
           "Penn Emotion Recognition Test: Number of Correct Neutral Identifications (ER40NOE)",
           0.04683169028471435,
           0.41808999999999996
          ],
          [
           "Emotion",
           "NIH Toolbox Perceived Hostility Survey: Unadjusted Scale Score",
           0.045781390722943224,
           0.39934
          ],
          [
           "Emotion",
           "NIH Toolbox Perceived Rejection Survey: Unadjusted Scale Score",
           0.03706695522852704,
           0.46279
          ],
          [
           "Emotion",
           "NIH Toolbox Instrumental Support Survey: Unadjusted Scale Score",
           0.03628087892739431,
           0.35826
          ],
          [
           "Emotion",
           "Penn Emotion Recognition Test: Number of Correct Fear Identifications (ER40FEAR)",
           0.03623989774645267,
           0.34259
          ],
          [
           "Emotion",
           "Penn Emotion Recognition Test: Number of Correct Sad Identifications (ER40SAD)",
           0.0289990457064759,
           0.4522
          ],
          [
           "Emotion",
           "Penn Emotion Recognition Test: Number of Correct Happy Identifications (ER40HAP)",
           -0.0404748771304616,
           0.4361
          ]
         ],
         "hovertemplate": "category=%{customdata[0]}<br>phenotype=%{x}<br>$P_{rep}$=%{y}<br>phenotype_long=%{customdata[1]}<br>r_discovery=%{customdata[2]}<br>p_bias=%{customdata[3]}<extra></extra>",
         "legendgroup": "Emotion",
         "marker": {
          "color": "#FFA15A",
          "pattern": {
           "shape": ""
          }
         },
         "name": "Emotion",
         "offsetgroup": "Emotion",
         "orientation": "v",
         "showlegend": true,
         "textposition": "outside",
         "texttemplate": "%{y:.2s}",
         "x": [
          "LifeSatisf",
          "AngerAggr",
          "FearAffect",
          "EmotSupp",
          "Sadness",
          "SelfEff",
          "Loneliness",
          "MeaningPurp",
          "PercStress",
          "Friendship",
          "PosAffect",
          "AngerAffect",
          "AngerHost",
          "AngerRec",
          "FearSomat",
          "NeutralRec",
          "PercHost",
          "PercReject",
          "InstruSupp",
          "FearRec",
          "SadRec",
          "HappyRec"
         ],
         "xaxis": "x",
         "y": [
          100.0,
          100.0,
          100.0,
          85.18518518518519,
          96.34146341463415,
          73.23943661971832,
          75.38461538461539,
          63.76811594202898,
          59.70149253731343,
          46.666666666666664,
          60.71428571428571,
          64.51612903225806,
          20.454545454545457,
          34.090909090909086,
          5.263157894736842,
          12.903225806451612,
          9.67741935483871,
          7.4074074074074066,
          0.0,
          0.0,
          0.0,
          0.0
         ],
         "yaxis": "y",
         "type": "bar",
         "textfont": {
          "size": 12
         },
         "cliponaxis": false,
         "textangle": 0
        }
       ],
       "layout": {
        "template": {
         "data": {
          "histogram2dcontour": [
           {
            "type": "histogram2dcontour",
            "colorbar": {
             "outlinewidth": 0,
             "ticks": ""
            },
            "colorscale": [
             [
              0.0,
              "#0d0887"
             ],
             [
              0.1111111111111111,
              "#46039f"
             ],
             [
              0.2222222222222222,
              "#7201a8"
             ],
             [
              0.3333333333333333,
              "#9c179e"
             ],
             [
              0.4444444444444444,
              "#bd3786"
             ],
             [
              0.5555555555555556,
              "#d8576b"
             ],
             [
              0.6666666666666666,
              "#ed7953"
             ],
             [
              0.7777777777777778,
              "#fb9f3a"
             ],
             [
              0.8888888888888888,
              "#fdca26"
             ],
             [
              1.0,
              "#f0f921"
             ]
            ]
           }
          ],
          "choropleth": [
           {
            "type": "choropleth",
            "colorbar": {
             "outlinewidth": 0,
             "ticks": ""
            }
           }
          ],
          "histogram2d": [
           {
            "type": "histogram2d",
            "colorbar": {
             "outlinewidth": 0,
             "ticks": ""
            },
            "colorscale": [
             [
              0.0,
              "#0d0887"
             ],
             [
              0.1111111111111111,
              "#46039f"
             ],
             [
              0.2222222222222222,
              "#7201a8"
             ],
             [
              0.3333333333333333,
              "#9c179e"
             ],
             [
              0.4444444444444444,
              "#bd3786"
             ],
             [
              0.5555555555555556,
              "#d8576b"
             ],
             [
              0.6666666666666666,
              "#ed7953"
             ],
             [
              0.7777777777777778,
              "#fb9f3a"
             ],
             [
              0.8888888888888888,
              "#fdca26"
             ],
             [
              1.0,
              "#f0f921"
             ]
            ]
           }
          ],
          "heatmap": [
           {
            "type": "heatmap",
            "colorbar": {
             "outlinewidth": 0,
             "ticks": ""
            },
            "colorscale": [
             [
              0.0,
              "#0d0887"
             ],
             [
              0.1111111111111111,
              "#46039f"
             ],
             [
              0.2222222222222222,
              "#7201a8"
             ],
             [
              0.3333333333333333,
              "#9c179e"
             ],
             [
              0.4444444444444444,
              "#bd3786"
             ],
             [
              0.5555555555555556,
              "#d8576b"
             ],
             [
              0.6666666666666666,
              "#ed7953"
             ],
             [
              0.7777777777777778,
              "#fb9f3a"
             ],
             [
              0.8888888888888888,
              "#fdca26"
             ],
             [
              1.0,
              "#f0f921"
             ]
            ]
           }
          ],
          "heatmapgl": [
           {
            "type": "heatmapgl",
            "colorbar": {
             "outlinewidth": 0,
             "ticks": ""
            },
            "colorscale": [
             [
              0.0,
              "#0d0887"
             ],
             [
              0.1111111111111111,
              "#46039f"
             ],
             [
              0.2222222222222222,
              "#7201a8"
             ],
             [
              0.3333333333333333,
              "#9c179e"
             ],
             [
              0.4444444444444444,
              "#bd3786"
             ],
             [
              0.5555555555555556,
              "#d8576b"
             ],
             [
              0.6666666666666666,
              "#ed7953"
             ],
             [
              0.7777777777777778,
              "#fb9f3a"
             ],
             [
              0.8888888888888888,
              "#fdca26"
             ],
             [
              1.0,
              "#f0f921"
             ]
            ]
           }
          ],
          "contourcarpet": [
           {
            "type": "contourcarpet",
            "colorbar": {
             "outlinewidth": 0,
             "ticks": ""
            }
           }
          ],
          "contour": [
           {
            "type": "contour",
            "colorbar": {
             "outlinewidth": 0,
             "ticks": ""
            },
            "colorscale": [
             [
              0.0,
              "#0d0887"
             ],
             [
              0.1111111111111111,
              "#46039f"
             ],
             [
              0.2222222222222222,
              "#7201a8"
             ],
             [
              0.3333333333333333,
              "#9c179e"
             ],
             [
              0.4444444444444444,
              "#bd3786"
             ],
             [
              0.5555555555555556,
              "#d8576b"
             ],
             [
              0.6666666666666666,
              "#ed7953"
             ],
             [
              0.7777777777777778,
              "#fb9f3a"
             ],
             [
              0.8888888888888888,
              "#fdca26"
             ],
             [
              1.0,
              "#f0f921"
             ]
            ]
           }
          ],
          "surface": [
           {
            "type": "surface",
            "colorbar": {
             "outlinewidth": 0,
             "ticks": ""
            },
            "colorscale": [
             [
              0.0,
              "#0d0887"
             ],
             [
              0.1111111111111111,
              "#46039f"
             ],
             [
              0.2222222222222222,
              "#7201a8"
             ],
             [
              0.3333333333333333,
              "#9c179e"
             ],
             [
              0.4444444444444444,
              "#bd3786"
             ],
             [
              0.5555555555555556,
              "#d8576b"
             ],
             [
              0.6666666666666666,
              "#ed7953"
             ],
             [
              0.7777777777777778,
              "#fb9f3a"
             ],
             [
              0.8888888888888888,
              "#fdca26"
             ],
             [
              1.0,
              "#f0f921"
             ]
            ]
           }
          ],
          "mesh3d": [
           {
            "type": "mesh3d",
            "colorbar": {
             "outlinewidth": 0,
             "ticks": ""
            }
           }
          ],
          "scatter": [
           {
            "marker": {
             "line": {
              "color": "#283442"
             }
            },
            "type": "scatter"
           }
          ],
          "parcoords": [
           {
            "type": "parcoords",
            "line": {
             "colorbar": {
              "outlinewidth": 0,
              "ticks": ""
             }
            }
           }
          ],
          "scatterpolargl": [
           {
            "type": "scatterpolargl",
            "marker": {
             "colorbar": {
              "outlinewidth": 0,
              "ticks": ""
             }
            }
           }
          ],
          "bar": [
           {
            "error_x": {
             "color": "#f2f5fa"
            },
            "error_y": {
             "color": "#f2f5fa"
            },
            "marker": {
             "line": {
              "color": "rgb(17,17,17)",
              "width": 0.5
             },
             "pattern": {
              "fillmode": "overlay",
              "size": 10,
              "solidity": 0.2
             }
            },
            "type": "bar"
           }
          ],
          "scattergeo": [
           {
            "type": "scattergeo",
            "marker": {
             "colorbar": {
              "outlinewidth": 0,
              "ticks": ""
             }
            }
           }
          ],
          "scatterpolar": [
           {
            "type": "scatterpolar",
            "marker": {
             "colorbar": {
              "outlinewidth": 0,
              "ticks": ""
             }
            }
           }
          ],
          "histogram": [
           {
            "marker": {
             "pattern": {
              "fillmode": "overlay",
              "size": 10,
              "solidity": 0.2
             }
            },
            "type": "histogram"
           }
          ],
          "scattergl": [
           {
            "marker": {
             "line": {
              "color": "#283442"
             }
            },
            "type": "scattergl"
           }
          ],
          "scatter3d": [
           {
            "type": "scatter3d",
            "line": {
             "colorbar": {
              "outlinewidth": 0,
              "ticks": ""
             }
            },
            "marker": {
             "colorbar": {
              "outlinewidth": 0,
              "ticks": ""
             }
            }
           }
          ],
          "scattermapbox": [
           {
            "type": "scattermapbox",
            "marker": {
             "colorbar": {
              "outlinewidth": 0,
              "ticks": ""
             }
            }
           }
          ],
          "scatterternary": [
           {
            "type": "scatterternary",
            "marker": {
             "colorbar": {
              "outlinewidth": 0,
              "ticks": ""
             }
            }
           }
          ],
          "scattercarpet": [
           {
            "type": "scattercarpet",
            "marker": {
             "colorbar": {
              "outlinewidth": 0,
              "ticks": ""
             }
            }
           }
          ],
          "carpet": [
           {
            "aaxis": {
             "endlinecolor": "#A2B1C6",
             "gridcolor": "#506784",
             "linecolor": "#506784",
             "minorgridcolor": "#506784",
             "startlinecolor": "#A2B1C6"
            },
            "baxis": {
             "endlinecolor": "#A2B1C6",
             "gridcolor": "#506784",
             "linecolor": "#506784",
             "minorgridcolor": "#506784",
             "startlinecolor": "#A2B1C6"
            },
            "type": "carpet"
           }
          ],
          "table": [
           {
            "cells": {
             "fill": {
              "color": "#506784"
             },
             "line": {
              "color": "rgb(17,17,17)"
             }
            },
            "header": {
             "fill": {
              "color": "#2a3f5f"
             },
             "line": {
              "color": "rgb(17,17,17)"
             }
            },
            "type": "table"
           }
          ],
          "barpolar": [
           {
            "marker": {
             "line": {
              "color": "rgb(17,17,17)",
              "width": 0.5
             },
             "pattern": {
              "fillmode": "overlay",
              "size": 10,
              "solidity": 0.2
             }
            },
            "type": "barpolar"
           }
          ],
          "pie": [
           {
            "automargin": true,
            "type": "pie"
           }
          ]
         },
         "layout": {
          "autotypenumbers": "strict",
          "colorway": [
           "#636efa",
           "#EF553B",
           "#00cc96",
           "#ab63fa",
           "#FFA15A",
           "#19d3f3",
           "#FF6692",
           "#B6E880",
           "#FF97FF",
           "#FECB52"
          ],
          "font": {
           "color": "#f2f5fa"
          },
          "hovermode": "closest",
          "hoverlabel": {
           "align": "left"
          },
          "paper_bgcolor": "rgb(17,17,17)",
          "plot_bgcolor": "rgb(17,17,17)",
          "polar": {
           "bgcolor": "rgb(17,17,17)",
           "angularaxis": {
            "gridcolor": "#506784",
            "linecolor": "#506784",
            "ticks": ""
           },
           "radialaxis": {
            "gridcolor": "#506784",
            "linecolor": "#506784",
            "ticks": ""
           }
          },
          "ternary": {
           "bgcolor": "rgb(17,17,17)",
           "aaxis": {
            "gridcolor": "#506784",
            "linecolor": "#506784",
            "ticks": ""
           },
           "baxis": {
            "gridcolor": "#506784",
            "linecolor": "#506784",
            "ticks": ""
           },
           "caxis": {
            "gridcolor": "#506784",
            "linecolor": "#506784",
            "ticks": ""
           }
          },
          "coloraxis": {
           "colorbar": {
            "outlinewidth": 0,
            "ticks": ""
           }
          },
          "colorscale": {
           "sequential": [
            [
             0.0,
             "#0d0887"
            ],
            [
             0.1111111111111111,
             "#46039f"
            ],
            [
             0.2222222222222222,
             "#7201a8"
            ],
            [
             0.3333333333333333,
             "#9c179e"
            ],
            [
             0.4444444444444444,
             "#bd3786"
            ],
            [
             0.5555555555555556,
             "#d8576b"
            ],
            [
             0.6666666666666666,
             "#ed7953"
            ],
            [
             0.7777777777777778,
             "#fb9f3a"
            ],
            [
             0.8888888888888888,
             "#fdca26"
            ],
            [
             1.0,
             "#f0f921"
            ]
           ],
           "sequentialminus": [
            [
             0.0,
             "#0d0887"
            ],
            [
             0.1111111111111111,
             "#46039f"
            ],
            [
             0.2222222222222222,
             "#7201a8"
            ],
            [
             0.3333333333333333,
             "#9c179e"
            ],
            [
             0.4444444444444444,
             "#bd3786"
            ],
            [
             0.5555555555555556,
             "#d8576b"
            ],
            [
             0.6666666666666666,
             "#ed7953"
            ],
            [
             0.7777777777777778,
             "#fb9f3a"
            ],
            [
             0.8888888888888888,
             "#fdca26"
            ],
            [
             1.0,
             "#f0f921"
            ]
           ],
           "diverging": [
            [
             0,
             "#8e0152"
            ],
            [
             0.1,
             "#c51b7d"
            ],
            [
             0.2,
             "#de77ae"
            ],
            [
             0.3,
             "#f1b6da"
            ],
            [
             0.4,
             "#fde0ef"
            ],
            [
             0.5,
             "#f7f7f7"
            ],
            [
             0.6,
             "#e6f5d0"
            ],
            [
             0.7,
             "#b8e186"
            ],
            [
             0.8,
             "#7fbc41"
            ],
            [
             0.9,
             "#4d9221"
            ],
            [
             1,
             "#276419"
            ]
           ]
          },
          "xaxis": {
           "gridcolor": "#283442",
           "linecolor": "#506784",
           "ticks": "",
           "title": {
            "standoff": 15
           },
           "zerolinecolor": "#283442",
           "automargin": true,
           "zerolinewidth": 2
          },
          "yaxis": {
           "gridcolor": "#283442",
           "linecolor": "#506784",
           "ticks": "",
           "title": {
            "standoff": 15
           },
           "zerolinecolor": "#283442",
           "automargin": true,
           "zerolinewidth": 2
          },
          "scene": {
           "xaxis": {
            "backgroundcolor": "rgb(17,17,17)",
            "gridcolor": "#506784",
            "linecolor": "#506784",
            "showbackground": true,
            "ticks": "",
            "zerolinecolor": "#C8D4E3",
            "gridwidth": 2
           },
           "yaxis": {
            "backgroundcolor": "rgb(17,17,17)",
            "gridcolor": "#506784",
            "linecolor": "#506784",
            "showbackground": true,
            "ticks": "",
            "zerolinecolor": "#C8D4E3",
            "gridwidth": 2
           },
           "zaxis": {
            "backgroundcolor": "rgb(17,17,17)",
            "gridcolor": "#506784",
            "linecolor": "#506784",
            "showbackground": true,
            "ticks": "",
            "zerolinecolor": "#C8D4E3",
            "gridwidth": 2
           }
          },
          "shapedefaults": {
           "line": {
            "color": "#f2f5fa"
           }
          },
          "annotationdefaults": {
           "arrowcolor": "#f2f5fa",
           "arrowhead": 0,
           "arrowwidth": 1
          },
          "geo": {
           "bgcolor": "rgb(17,17,17)",
           "landcolor": "rgb(17,17,17)",
           "subunitcolor": "#506784",
           "showland": true,
           "showlakes": true,
           "lakecolor": "rgb(17,17,17)"
          },
          "title": {
           "x": 0.05
          },
          "updatemenudefaults": {
           "bgcolor": "#506784",
           "borderwidth": 0
          },
          "sliderdefaults": {
           "bgcolor": "#C8D4E3",
           "borderwidth": 1,
           "bordercolor": "rgb(17,17,17)",
           "tickwidth": 0
          },
          "mapbox": {
           "style": "dark"
          }
         }
        },
        "xaxis": {
         "anchor": "y",
         "domain": [
          0.0,
          1.0
         ],
         "title": {
          "text": "phenotype"
         }
        },
        "yaxis": {
         "anchor": "x",
         "domain": [
          0.0,
          1.0
         ],
         "title": {
          "text": "$P_{rep}$"
         }
        },
        "legend": {
         "title": {
          "text": "category"
         },
         "tracegroupgap": 0
        },
        "title": {
         "text": "Replication probability with n=500"
        },
        "barmode": "relative"
       },
       "config": {
        "plotlyServerURL": "https://plot.ly"
       }
      },
      "text/html": "<div>                            <div id=\"431784b1-b06c-4126-9534-885327dd7dbc\" class=\"plotly-graph-div\" style=\"height:525px; width:100%;\"></div>            <script type=\"text/javascript\">                require([\"plotly\"], function(Plotly) {                    window.PLOTLYENV=window.PLOTLYENV || {};                                    if (document.getElementById(\"431784b1-b06c-4126-9534-885327dd7dbc\")) {                    Plotly.newPlot(                        \"431784b1-b06c-4126-9534-885327dd7dbc\",                        [{\"alignmentgroup\":\"True\",\"customdata\":[[\"Cognition\",\"NIH Toolbox Cognition Crystallized Composite: Age Adjusted Scale Score\",0.47839262344554506,0.61958],[\"Cognition\",\"NIH Toolbox Picture Vocabulary Test: Age-Adjusted Scale Score\",0.4493312166455696,0.46671],[\"Cognition\",\"NIH Toolbox Cognition Total Composite Score: Age Adjusted Scale Score\",0.4406120525346939,0.58473],[\"Cognition\",\"NIH Toolbox Oral Reading Recognition Test: Age-Adjusted Scale Score\",0.42109345635098444,0.56276],[\"Cognition\",\"NIH Toolbox Cognition Early Childhood Composite: Age Adjusted Scale Score\",0.3182836660667367,0.4019],[\"Cognition\",\"Variable Short Penn Line Orientation: Total Number Correct (VSPLOT_TC)\",0.30490360382613413,0.40537],[\"Cognition\",\"NIH Toolbox Cognition Fluid Composite: Age Adjusted Scale Score\",0.2865841373447795,0.47973],[\"Cognition\",\"Penn Progressive Matrices: Number of Correct Responses (PMAT24_A_CR)\",0.2736981578712082,0.45357],[\"Cognition\",\"NIH Toolbox List Sorting Working Memory Test: Age-Adjusted Scale Score\",0.26171850889102616,0.48862],[\"Cognition\",\"Delay Discounting: Area Under the Curve for Discounting of $200 (DDisc_AUC_200)\",0.18107385660399955,0.23137],[\"Cognition\",\"NIH Toolbox Dimensional Change Card Sort Test: Age-Adjusted Scale Score\",0.16887465523854794,0.51301],[\"Cognition\",\"NIH Toolbox Picture Sequence Memory Test: Age-Adjusted Scale Score\",0.16636690367599585,0.26611],[\"Cognition\",\"Short Penn Continuous Performance Test: Specificity = SCPT_TN/(SCPT_TN + SCPT_FP) (SCPT_SPEC)\",0.13554498118088334,0.35593],[\"Cognition\",\"NIH Toolbox Flanker Inhibitory Control and Attention Test: Age-Adjusted Scale Score\",0.12432824308114813,0.36686],[\"Cognition\",\"NIH Toolbox Pattern Comparison Processing Speed Test: Age-Adjusted Scale Score\",0.11117481505091503,0.44762],[\"Cognition\",\"Penn Word Memory Test: Total Number of Correct Responses (IWRD_TOT)\",0.06271571287907216,0.33328],[\"Cognition\",\"Short Penn Continuous Performance Test: Sensitivity = SCPT_TP/(SCPT_TP + SCPT_FN) (SCPT_SEN)\",0.002665936653368112,0.366]],\"hovertemplate\":\"category=%{customdata[0]}<br>phenotype=%{x}<br>$P_{rep}$=%{y}<br>phenotype_long=%{customdata[1]}<br>r_discovery=%{customdata[2]}<br>p_bias=%{customdata[3]}<extra></extra>\",\"legendgroup\":\"Cognition\",\"marker\":{\"color\":\"#636efa\",\"pattern\":{\"shape\":\"\"}},\"name\":\"Cognition\",\"offsetgroup\":\"Cognition\",\"orientation\":\"v\",\"showlegend\":true,\"textposition\":\"outside\",\"texttemplate\":\"%{y:.2s}\",\"x\":[\"CogCrystal\",\"PicVocab\",\"CogTotal\",\"ReadEng\",\"CogEarly\",\"Visuospat\",\"CogFluid\",\"FluidIQ\",\"ListSort\",\"DelayDisc\",\"CardSort\",\"PicSeqMem\",\"ContPerfSpec\",\"Flanker\",\"ProcSpeed\",\"WordMem\",\"ContPerfSen\"],\"xaxis\":\"x\",\"y\":[100.0,100.0,100.0,100.0,100.0,100.0,100.0,100.0,100.0,100.0,100.0,100.0,97.72727272727273,95.23809523809523,90.27777777777779,17.073170731707318,0.0],\"yaxis\":\"y\",\"type\":\"bar\",\"textfont\":{\"size\":12},\"cliponaxis\":false,\"textangle\":0},{\"alignmentgroup\":\"True\",\"customdata\":[[\"Personality\",\"NEO-FFI Openness to Experience (NEOFAC_O)\",0.25245333747166326,0.2829],[\"Personality\",\"NEO-FFI Conscientiousness (NEOFAC_C)\",0.18355635448080637,0.43345],[\"Personality\",\"NEO-FFI Agreeableness (NEOFAC_A)\",0.1704262769323697,0.28425],[\"Personality\",\"NEO-FFI Extraversion (NEOFAC_E)\",0.15759235531652468,0.40247999999999995],[\"Personality\",\"NEO-FFI Neuroticism (NEOFAC_N)\",0.0671822163469227,0.5042500000000001]],\"hovertemplate\":\"category=%{customdata[0]}<br>phenotype=%{x}<br>$P_{rep}$=%{y}<br>phenotype_long=%{customdata[1]}<br>r_discovery=%{customdata[2]}<br>p_bias=%{customdata[3]}<extra></extra>\",\"legendgroup\":\"Personality\",\"marker\":{\"color\":\"#EF553B\",\"pattern\":{\"shape\":\"\"}},\"name\":\"Personality\",\"offsetgroup\":\"Personality\",\"orientation\":\"v\",\"showlegend\":true,\"textposition\":\"outside\",\"texttemplate\":\"%{y:.2s}\",\"x\":[\"Open\",\"Conscient\",\"Agreeable\",\"Extrovert\",\"Neurotic\"],\"xaxis\":\"x\",\"y\":[100.0,100.0,100.0,100.0,40.909090909090914],\"yaxis\":\"y\",\"type\":\"bar\",\"textfont\":{\"size\":12},\"cliponaxis\":false,\"textangle\":0},{\"alignmentgroup\":\"True\",\"customdata\":[[\"Motor\",\"NIH Toolbox 9-hole Pegboard Dexterity Test : Age-Adjusted Scale Score\",0.14879169449693974,0.39907000000000004]],\"hovertemplate\":\"category=%{customdata[0]}<br>phenotype=%{x}<br>$P_{rep}$=%{y}<br>phenotype_long=%{customdata[1]}<br>r_discovery=%{customdata[2]}<br>p_bias=%{customdata[3]}<extra></extra>\",\"legendgroup\":\"Motor\",\"marker\":{\"color\":\"#00cc96\",\"pattern\":{\"shape\":\"\"}},\"name\":\"Motor\",\"offsetgroup\":\"Motor\",\"orientation\":\"v\",\"showlegend\":true,\"textposition\":\"outside\",\"texttemplate\":\"%{y:.2s}\",\"x\":[\"Dexterity\"],\"xaxis\":\"x\",\"y\":[100.0],\"yaxis\":\"y\",\"type\":\"bar\",\"textfont\":{\"size\":12},\"cliponaxis\":false,\"textangle\":0},{\"alignmentgroup\":\"True\",\"customdata\":[[\"Sensory\",\"NIH Toolbox Words-In-Noise Age 6+: Computed Score\",0.13406733367884469,0.34268],[\"Sensory\",\"NIH Toolbox Regional Taste Intensity Age 12+ Age-Adjusted Scale Score\",0.08149281597139897,0.43259000000000003],[\"Sensory\",\"Mars Final Contrast Sensitivity Score\",0.06132666867300055,0.44606],[\"Sensory\",\"NIH Toolbox Odor Identification Age 3+ Age-Adjusted Scale Score\",0.02299931247774586,0.42186],[\"Sensory\",\"NIH Toolbox Pain Interference Survey Age 18+: T-score\",0.021067838904761712,0.40454999999999997]],\"hovertemplate\":\"category=%{customdata[0]}<br>phenotype=%{x}<br>$P_{rep}$=%{y}<br>phenotype_long=%{customdata[1]}<br>r_discovery=%{customdata[2]}<br>p_bias=%{customdata[3]}<extra></extra>\",\"legendgroup\":\"Sensory\",\"marker\":{\"color\":\"#ab63fa\",\"pattern\":{\"shape\":\"\"}},\"name\":\"Sensory\",\"offsetgroup\":\"Sensory\",\"orientation\":\"v\",\"showlegend\":true,\"textposition\":\"outside\",\"texttemplate\":\"%{y:.2s}\",\"x\":[\"NoiseComp\",\"Taste\",\"ContrastSens\",\"Odor\",\"PainInterf\"],\"xaxis\":\"x\",\"y\":[94.3820224719101,23.636363636363637,16.0,9.090909090909092,0.0],\"yaxis\":\"y\",\"type\":\"bar\",\"textfont\":{\"size\":12},\"cliponaxis\":false,\"textangle\":0},{\"alignmentgroup\":\"True\",\"customdata\":[[\"Emotion\",\"NIH Toolbox General Life Satisfaction Survey: Unadjusted Scale Score\",0.1838083218213043,0.27947],[\"Emotion\",\"NIH Toolbox Anger-Physical Aggression Survey: Unadjusted Scale Score\",0.17485993741796133,0.19396000000000002],[\"Emotion\",\"NIH Toolbox Fear-Affect Survey: Unadjusted Scale Score\",0.14204748778803078,0.42446],[\"Emotion\",\"NIH Toolbox Emotional Support Survey: Unadjusted Scale Score\",0.12437946976635667,0.22181],[\"Emotion\",\"NIH Toolbox Sadness Survey: Unadjusted Scale Score\",0.12192241867376265,0.40169],[\"Emotion\",\"NIH Toolbox Self-Efficacy Survey: Unadjusted Scale Score\",0.10784332980592687,0.41418],[\"Emotion\",\"NIH Toolbox Loneliness Survey: Unadjusted Scale Score\",0.09817361612912683,0.42129],[\"Emotion\",\"NIH Toolbox Meaning and Purpose Survey: Unadjusted Scale Score\",0.09254147027850096,0.39125],[\"Emotion\",\"NIH Toolbox Perceived Stress Survey: Unadjusted Scale Score\",0.08989125648651601,0.42411],[\"Emotion\",\"NIH Toolbox Friendship Survey: Unadjusted Scale Score\",0.08848366457008697,0.34509],[\"Emotion\",\"NIH Toolbox Positive Affect Survey: Unadjusted Scale Score\",0.08431069119449104,0.35642],[\"Emotion\",\"NIH Toolbox Anger-Affect Survey: Unadjusted Scale Score\",0.08391055133744187,0.486],[\"Emotion\",\"NIH Toolbox Anger-Hostility Survey: Unadjusted Scale Score\",0.06535446446071695,0.40929000000000004],[\"Emotion\",\"Penn Emotion Recognition Test: Number of Correct Anger Identifications (ER40ANG)\",0.06508042473623116,0.39046],[\"Emotion\",\"NIH Toolbox Fear-Somatic Arousal Survey: Unadjusted Scale Score\",0.05300609662924426,0.44691000000000003],[\"Emotion\",\"Penn Emotion Recognition Test: Number of Correct Neutral Identifications (ER40NOE)\",0.04683169028471435,0.41808999999999996],[\"Emotion\",\"NIH Toolbox Perceived Hostility Survey: Unadjusted Scale Score\",0.045781390722943224,0.39934],[\"Emotion\",\"NIH Toolbox Perceived Rejection Survey: Unadjusted Scale Score\",0.03706695522852704,0.46279],[\"Emotion\",\"NIH Toolbox Instrumental Support Survey: Unadjusted Scale Score\",0.03628087892739431,0.35826],[\"Emotion\",\"Penn Emotion Recognition Test: Number of Correct Fear Identifications (ER40FEAR)\",0.03623989774645267,0.34259],[\"Emotion\",\"Penn Emotion Recognition Test: Number of Correct Sad Identifications (ER40SAD)\",0.0289990457064759,0.4522],[\"Emotion\",\"Penn Emotion Recognition Test: Number of Correct Happy Identifications (ER40HAP)\",-0.0404748771304616,0.4361]],\"hovertemplate\":\"category=%{customdata[0]}<br>phenotype=%{x}<br>$P_{rep}$=%{y}<br>phenotype_long=%{customdata[1]}<br>r_discovery=%{customdata[2]}<br>p_bias=%{customdata[3]}<extra></extra>\",\"legendgroup\":\"Emotion\",\"marker\":{\"color\":\"#FFA15A\",\"pattern\":{\"shape\":\"\"}},\"name\":\"Emotion\",\"offsetgroup\":\"Emotion\",\"orientation\":\"v\",\"showlegend\":true,\"textposition\":\"outside\",\"texttemplate\":\"%{y:.2s}\",\"x\":[\"LifeSatisf\",\"AngerAggr\",\"FearAffect\",\"EmotSupp\",\"Sadness\",\"SelfEff\",\"Loneliness\",\"MeaningPurp\",\"PercStress\",\"Friendship\",\"PosAffect\",\"AngerAffect\",\"AngerHost\",\"AngerRec\",\"FearSomat\",\"NeutralRec\",\"PercHost\",\"PercReject\",\"InstruSupp\",\"FearRec\",\"SadRec\",\"HappyRec\"],\"xaxis\":\"x\",\"y\":[100.0,100.0,100.0,85.18518518518519,96.34146341463415,73.23943661971832,75.38461538461539,63.76811594202898,59.70149253731343,46.666666666666664,60.71428571428571,64.51612903225806,20.454545454545457,34.090909090909086,5.263157894736842,12.903225806451612,9.67741935483871,7.4074074074074066,0.0,0.0,0.0,0.0],\"yaxis\":\"y\",\"type\":\"bar\",\"textfont\":{\"size\":12},\"cliponaxis\":false,\"textangle\":0}],                        {\"template\":{\"data\":{\"histogram2dcontour\":[{\"type\":\"histogram2dcontour\",\"colorbar\":{\"outlinewidth\":0,\"ticks\":\"\"},\"colorscale\":[[0.0,\"#0d0887\"],[0.1111111111111111,\"#46039f\"],[0.2222222222222222,\"#7201a8\"],[0.3333333333333333,\"#9c179e\"],[0.4444444444444444,\"#bd3786\"],[0.5555555555555556,\"#d8576b\"],[0.6666666666666666,\"#ed7953\"],[0.7777777777777778,\"#fb9f3a\"],[0.8888888888888888,\"#fdca26\"],[1.0,\"#f0f921\"]]}],\"choropleth\":[{\"type\":\"choropleth\",\"colorbar\":{\"outlinewidth\":0,\"ticks\":\"\"}}],\"histogram2d\":[{\"type\":\"histogram2d\",\"colorbar\":{\"outlinewidth\":0,\"ticks\":\"\"},\"colorscale\":[[0.0,\"#0d0887\"],[0.1111111111111111,\"#46039f\"],[0.2222222222222222,\"#7201a8\"],[0.3333333333333333,\"#9c179e\"],[0.4444444444444444,\"#bd3786\"],[0.5555555555555556,\"#d8576b\"],[0.6666666666666666,\"#ed7953\"],[0.7777777777777778,\"#fb9f3a\"],[0.8888888888888888,\"#fdca26\"],[1.0,\"#f0f921\"]]}],\"heatmap\":[{\"type\":\"heatmap\",\"colorbar\":{\"outlinewidth\":0,\"ticks\":\"\"},\"colorscale\":[[0.0,\"#0d0887\"],[0.1111111111111111,\"#46039f\"],[0.2222222222222222,\"#7201a8\"],[0.3333333333333333,\"#9c179e\"],[0.4444444444444444,\"#bd3786\"],[0.5555555555555556,\"#d8576b\"],[0.6666666666666666,\"#ed7953\"],[0.7777777777777778,\"#fb9f3a\"],[0.8888888888888888,\"#fdca26\"],[1.0,\"#f0f921\"]]}],\"heatmapgl\":[{\"type\":\"heatmapgl\",\"colorbar\":{\"outlinewidth\":0,\"ticks\":\"\"},\"colorscale\":[[0.0,\"#0d0887\"],[0.1111111111111111,\"#46039f\"],[0.2222222222222222,\"#7201a8\"],[0.3333333333333333,\"#9c179e\"],[0.4444444444444444,\"#bd3786\"],[0.5555555555555556,\"#d8576b\"],[0.6666666666666666,\"#ed7953\"],[0.7777777777777778,\"#fb9f3a\"],[0.8888888888888888,\"#fdca26\"],[1.0,\"#f0f921\"]]}],\"contourcarpet\":[{\"type\":\"contourcarpet\",\"colorbar\":{\"outlinewidth\":0,\"ticks\":\"\"}}],\"contour\":[{\"type\":\"contour\",\"colorbar\":{\"outlinewidth\":0,\"ticks\":\"\"},\"colorscale\":[[0.0,\"#0d0887\"],[0.1111111111111111,\"#46039f\"],[0.2222222222222222,\"#7201a8\"],[0.3333333333333333,\"#9c179e\"],[0.4444444444444444,\"#bd3786\"],[0.5555555555555556,\"#d8576b\"],[0.6666666666666666,\"#ed7953\"],[0.7777777777777778,\"#fb9f3a\"],[0.8888888888888888,\"#fdca26\"],[1.0,\"#f0f921\"]]}],\"surface\":[{\"type\":\"surface\",\"colorbar\":{\"outlinewidth\":0,\"ticks\":\"\"},\"colorscale\":[[0.0,\"#0d0887\"],[0.1111111111111111,\"#46039f\"],[0.2222222222222222,\"#7201a8\"],[0.3333333333333333,\"#9c179e\"],[0.4444444444444444,\"#bd3786\"],[0.5555555555555556,\"#d8576b\"],[0.6666666666666666,\"#ed7953\"],[0.7777777777777778,\"#fb9f3a\"],[0.8888888888888888,\"#fdca26\"],[1.0,\"#f0f921\"]]}],\"mesh3d\":[{\"type\":\"mesh3d\",\"colorbar\":{\"outlinewidth\":0,\"ticks\":\"\"}}],\"scatter\":[{\"marker\":{\"line\":{\"color\":\"#283442\"}},\"type\":\"scatter\"}],\"parcoords\":[{\"type\":\"parcoords\",\"line\":{\"colorbar\":{\"outlinewidth\":0,\"ticks\":\"\"}}}],\"scatterpolargl\":[{\"type\":\"scatterpolargl\",\"marker\":{\"colorbar\":{\"outlinewidth\":0,\"ticks\":\"\"}}}],\"bar\":[{\"error_x\":{\"color\":\"#f2f5fa\"},\"error_y\":{\"color\":\"#f2f5fa\"},\"marker\":{\"line\":{\"color\":\"rgb(17,17,17)\",\"width\":0.5},\"pattern\":{\"fillmode\":\"overlay\",\"size\":10,\"solidity\":0.2}},\"type\":\"bar\"}],\"scattergeo\":[{\"type\":\"scattergeo\",\"marker\":{\"colorbar\":{\"outlinewidth\":0,\"ticks\":\"\"}}}],\"scatterpolar\":[{\"type\":\"scatterpolar\",\"marker\":{\"colorbar\":{\"outlinewidth\":0,\"ticks\":\"\"}}}],\"histogram\":[{\"marker\":{\"pattern\":{\"fillmode\":\"overlay\",\"size\":10,\"solidity\":0.2}},\"type\":\"histogram\"}],\"scattergl\":[{\"marker\":{\"line\":{\"color\":\"#283442\"}},\"type\":\"scattergl\"}],\"scatter3d\":[{\"type\":\"scatter3d\",\"line\":{\"colorbar\":{\"outlinewidth\":0,\"ticks\":\"\"}},\"marker\":{\"colorbar\":{\"outlinewidth\":0,\"ticks\":\"\"}}}],\"scattermapbox\":[{\"type\":\"scattermapbox\",\"marker\":{\"colorbar\":{\"outlinewidth\":0,\"ticks\":\"\"}}}],\"scatterternary\":[{\"type\":\"scatterternary\",\"marker\":{\"colorbar\":{\"outlinewidth\":0,\"ticks\":\"\"}}}],\"scattercarpet\":[{\"type\":\"scattercarpet\",\"marker\":{\"colorbar\":{\"outlinewidth\":0,\"ticks\":\"\"}}}],\"carpet\":[{\"aaxis\":{\"endlinecolor\":\"#A2B1C6\",\"gridcolor\":\"#506784\",\"linecolor\":\"#506784\",\"minorgridcolor\":\"#506784\",\"startlinecolor\":\"#A2B1C6\"},\"baxis\":{\"endlinecolor\":\"#A2B1C6\",\"gridcolor\":\"#506784\",\"linecolor\":\"#506784\",\"minorgridcolor\":\"#506784\",\"startlinecolor\":\"#A2B1C6\"},\"type\":\"carpet\"}],\"table\":[{\"cells\":{\"fill\":{\"color\":\"#506784\"},\"line\":{\"color\":\"rgb(17,17,17)\"}},\"header\":{\"fill\":{\"color\":\"#2a3f5f\"},\"line\":{\"color\":\"rgb(17,17,17)\"}},\"type\":\"table\"}],\"barpolar\":[{\"marker\":{\"line\":{\"color\":\"rgb(17,17,17)\",\"width\":0.5},\"pattern\":{\"fillmode\":\"overlay\",\"size\":10,\"solidity\":0.2}},\"type\":\"barpolar\"}],\"pie\":[{\"automargin\":true,\"type\":\"pie\"}]},\"layout\":{\"autotypenumbers\":\"strict\",\"colorway\":[\"#636efa\",\"#EF553B\",\"#00cc96\",\"#ab63fa\",\"#FFA15A\",\"#19d3f3\",\"#FF6692\",\"#B6E880\",\"#FF97FF\",\"#FECB52\"],\"font\":{\"color\":\"#f2f5fa\"},\"hovermode\":\"closest\",\"hoverlabel\":{\"align\":\"left\"},\"paper_bgcolor\":\"rgb(17,17,17)\",\"plot_bgcolor\":\"rgb(17,17,17)\",\"polar\":{\"bgcolor\":\"rgb(17,17,17)\",\"angularaxis\":{\"gridcolor\":\"#506784\",\"linecolor\":\"#506784\",\"ticks\":\"\"},\"radialaxis\":{\"gridcolor\":\"#506784\",\"linecolor\":\"#506784\",\"ticks\":\"\"}},\"ternary\":{\"bgcolor\":\"rgb(17,17,17)\",\"aaxis\":{\"gridcolor\":\"#506784\",\"linecolor\":\"#506784\",\"ticks\":\"\"},\"baxis\":{\"gridcolor\":\"#506784\",\"linecolor\":\"#506784\",\"ticks\":\"\"},\"caxis\":{\"gridcolor\":\"#506784\",\"linecolor\":\"#506784\",\"ticks\":\"\"}},\"coloraxis\":{\"colorbar\":{\"outlinewidth\":0,\"ticks\":\"\"}},\"colorscale\":{\"sequential\":[[0.0,\"#0d0887\"],[0.1111111111111111,\"#46039f\"],[0.2222222222222222,\"#7201a8\"],[0.3333333333333333,\"#9c179e\"],[0.4444444444444444,\"#bd3786\"],[0.5555555555555556,\"#d8576b\"],[0.6666666666666666,\"#ed7953\"],[0.7777777777777778,\"#fb9f3a\"],[0.8888888888888888,\"#fdca26\"],[1.0,\"#f0f921\"]],\"sequentialminus\":[[0.0,\"#0d0887\"],[0.1111111111111111,\"#46039f\"],[0.2222222222222222,\"#7201a8\"],[0.3333333333333333,\"#9c179e\"],[0.4444444444444444,\"#bd3786\"],[0.5555555555555556,\"#d8576b\"],[0.6666666666666666,\"#ed7953\"],[0.7777777777777778,\"#fb9f3a\"],[0.8888888888888888,\"#fdca26\"],[1.0,\"#f0f921\"]],\"diverging\":[[0,\"#8e0152\"],[0.1,\"#c51b7d\"],[0.2,\"#de77ae\"],[0.3,\"#f1b6da\"],[0.4,\"#fde0ef\"],[0.5,\"#f7f7f7\"],[0.6,\"#e6f5d0\"],[0.7,\"#b8e186\"],[0.8,\"#7fbc41\"],[0.9,\"#4d9221\"],[1,\"#276419\"]]},\"xaxis\":{\"gridcolor\":\"#283442\",\"linecolor\":\"#506784\",\"ticks\":\"\",\"title\":{\"standoff\":15},\"zerolinecolor\":\"#283442\",\"automargin\":true,\"zerolinewidth\":2},\"yaxis\":{\"gridcolor\":\"#283442\",\"linecolor\":\"#506784\",\"ticks\":\"\",\"title\":{\"standoff\":15},\"zerolinecolor\":\"#283442\",\"automargin\":true,\"zerolinewidth\":2},\"scene\":{\"xaxis\":{\"backgroundcolor\":\"rgb(17,17,17)\",\"gridcolor\":\"#506784\",\"linecolor\":\"#506784\",\"showbackground\":true,\"ticks\":\"\",\"zerolinecolor\":\"#C8D4E3\",\"gridwidth\":2},\"yaxis\":{\"backgroundcolor\":\"rgb(17,17,17)\",\"gridcolor\":\"#506784\",\"linecolor\":\"#506784\",\"showbackground\":true,\"ticks\":\"\",\"zerolinecolor\":\"#C8D4E3\",\"gridwidth\":2},\"zaxis\":{\"backgroundcolor\":\"rgb(17,17,17)\",\"gridcolor\":\"#506784\",\"linecolor\":\"#506784\",\"showbackground\":true,\"ticks\":\"\",\"zerolinecolor\":\"#C8D4E3\",\"gridwidth\":2}},\"shapedefaults\":{\"line\":{\"color\":\"#f2f5fa\"}},\"annotationdefaults\":{\"arrowcolor\":\"#f2f5fa\",\"arrowhead\":0,\"arrowwidth\":1},\"geo\":{\"bgcolor\":\"rgb(17,17,17)\",\"landcolor\":\"rgb(17,17,17)\",\"subunitcolor\":\"#506784\",\"showland\":true,\"showlakes\":true,\"lakecolor\":\"rgb(17,17,17)\"},\"title\":{\"x\":0.05},\"updatemenudefaults\":{\"bgcolor\":\"#506784\",\"borderwidth\":0},\"sliderdefaults\":{\"bgcolor\":\"#C8D4E3\",\"borderwidth\":1,\"bordercolor\":\"rgb(17,17,17)\",\"tickwidth\":0},\"mapbox\":{\"style\":\"dark\"}}},\"xaxis\":{\"anchor\":\"y\",\"domain\":[0.0,1.0],\"title\":{\"text\":\"phenotype\"}},\"yaxis\":{\"anchor\":\"x\",\"domain\":[0.0,1.0],\"title\":{\"text\":\"$P_{rep}$\"}},\"legend\":{\"title\":{\"text\":\"category\"},\"tracegroupgap\":0},\"title\":{\"text\":\"Replication probability with n=500\"},\"barmode\":\"relative\"},                        {\"responsive\": true}                    ).then(function(){\n                            \nvar gd = document.getElementById('431784b1-b06c-4126-9534-885327dd7dbc');\nvar x = new MutationObserver(function (mutations, observer) {{\n        var display = window.getComputedStyle(gd).display;\n        if (!display || display === 'none') {{\n            console.log([gd, 'removed!']);\n            Plotly.purge(gd);\n            observer.disconnect();\n        }}\n}});\n\n// Listen for the removal of the full notebook cells\nvar notebookContainer = gd.closest('#notebook-container');\nif (notebookContainer) {{\n    x.observe(notebookContainer, {childList: true});\n}}\n\n// Listen for the clearing of the current output cell\nvar outputEl = gd.closest('.output');\nif (outputEl) {{\n    x.observe(outputEl, {childList: true});\n}}\n\n                        })                };                });            </script>        </div>"
     },
     "metadata": {},
     "output_type": "display_data"
    }
   ],
   "source": [
    "import plotly.express as px\n",
    "\n",
    "fig = px.bar(df_plot, y=0, x='phenotype', text_auto='.2s',\n",
    "            title=\"Replication probability with n=500\",\n",
    "            labels={'0':'$P_{rep}$'},\n",
    "            hover_data=['category', 'phenotype_long', 'r_discovery', 'p_bias'], color='category')\n",
    "fig.update_traces(textfont_size=12, textangle=0, textposition=\"outside\", cliponaxis=False)\n",
    "fig.show()\n",
    "\n"
   ],
   "metadata": {
    "collapsed": false
   }
  },
  {
   "cell_type": "code",
   "execution_count": 109,
   "metadata": {},
   "outputs": [
    {
     "name": "stderr",
     "output_type": "stream",
     "text": [
      "/tmp/ipykernel_219850/986718064.py:9: FutureWarning:\n",
      "\n",
      "The `inplace` parameter in pandas.Categorical.reorder_categories is deprecated and will be removed in a future version. Reordering categories will always return a new Categorical object.\n",
      "\n"
     ]
    }
   ],
   "source": [
    "import plotly\n",
    "import plotly.graph_objs as go\n",
    "\n",
    "colors = [\"#de324c\",\"#f4895f\",\"#95cf92\",\"#9656a2\",\"#369acc\"]\n",
    "\n",
    "cols = [ colors[c] for c in pd.Categorical(df_plot['category']).codes]\n",
    "\n",
    "df_plot['category'] = pd.Categorical(df_plot['category'])\n",
    "df_plot['category'].cat.reorder_categories(['Emotion', 'Sensory',  'Motor', 'Personality',  'Cognition'], inplace= True)\n",
    "df_plot = df_plot.sort_values(by=['category', 'r_discovery'], ascending=False)\n",
    "\n",
    "trace1l = go.Scatter( name='',\n",
    "            x=df_plot['phenotype'].values,\n",
    "            y=[80] * len(df_plot['phenotype'].values),\n",
    "            mode='lines',\n",
    "            line = dict(color='gray', width=1, dash='dash'),\n",
    "            showlegend=False,\n",
    "            hovertemplate=\"Replication threshold\"\n",
    "        )\n",
    "\n",
    "trace1 = go.Bar(x=df_plot['phenotype'].values,y=df_plot[0].values, name='',\n",
    "                marker_color=cols, showlegend=False,\n",
    "                customdata=df_plot.values,\n",
    "                #texttemplate=\"%{y:0.0f}%\",\n",
    "                textposition=\"outside\",\n",
    "                textangle=0,\n",
    "                textfont_color=\"gray\",\n",
    "                hovertemplate=\"<br>\".join([\n",
    "                    \"Domain: %{customdata[3]}\",\n",
    "                    \"Effect Size: r=%{customdata[1]:.2f}\",\n",
    "                    \"Replication Probability: %{customdata[0]:.0f}%\",\n",
    "                    \"Motion bias: p=%{customdata[2]:.2f}\",\n",
    "                    \"Description: %{customdata[5]}\"\n",
    "                ])\n",
    "                #hovertext=pd.Categorical(df_plot['category'])\n",
    "                )\n",
    "\n",
    "trace2l = go.Scatter( name='',\n",
    "            x=df_plot['phenotype'].values,\n",
    "            y=[0.074] * len(df_plot['phenotype'].values),\n",
    "            mode='lines',\n",
    "            line = dict(color='gray', width=1, dash='dash'),\n",
    "            showlegend=False,\n",
    "            hovertemplate=\"Significance threshold\",\n",
    "            visible=False\n",
    "        )\n",
    "\n",
    "\n",
    "trace2 = go.Bar(x=df_plot['phenotype'].values,y=df_plot['r_discovery'], visible=False, name='',\n",
    "                marker_color=cols, showlegend=False,\n",
    "                customdata=df_plot.values,\n",
    "                #texttemplate=\"%{y:0.2f}\",\n",
    "                textposition=\"outside\",\n",
    "                textangle=0,\n",
    "                textfont_color=\"gray\",\n",
    "                hovertemplate=\"<br>\".join([\n",
    "                    \"Domain: %{customdata[3]}\",\n",
    "                    \"Effect Size: r=%{customdata[1]:.2f}\",\n",
    "                    \"Replication Probability: %{customdata[0]:.0f}%\",\n",
    "                    \"Motion bias: p=%{customdata[2]:.2f}\",\n",
    "                    \"Description: %{customdata[5]}\"\n",
    "                ])\n",
    "                )\n",
    "data = [trace1l, trace1, trace2l, trace2]\n",
    "\n",
    "updatemenus = list([\n",
    "    dict(active=0,\n",
    "         showactive = True,\n",
    "         buttons=list([\n",
    "            dict(label = \"Replication Probability\",\n",
    "                 method = \"update\",\n",
    "                 args = [{\"visible\": [True, True, False, False]}]), # hide trace2\n",
    "            dict(label = \"Predictive Effect Size\",\n",
    "                 method = \"update\",\n",
    "                 args = [{\"visible\": [False, False, True, True]}]) # hide trace1\n",
    "            ]),\n",
    "         x = 0,\n",
    "         xanchor = 'left',\n",
    "         y = 1.5,\n",
    "         yanchor = 'top',\n",
    "         )])\n",
    "\n",
    "layout = dict(title=\"\",\n",
    "              showlegend=True,\n",
    "              xaxis=dict(title=\"Phenotype\",\n",
    "                        showgrid=False, # thin lines in the background\n",
    "                        #showticklabels=False,  # numbers below),\n",
    "                        zeroline=True # thick line at x=0\n",
    "                         ),\n",
    "              updatemenus=updatemenus,\n",
    "              template='simple_white',\n",
    "              font=dict(\n",
    "                size=10,\n",
    "                color=\"gray\"),\n",
    "              autosize=True,\n",
    "              height=280,\n",
    "              margin=dict(\n",
    "              l=5,\n",
    "              r=5,\n",
    "              b=10,\n",
    "              t=10,\n",
    "              pad=4\n",
    "    ),\n",
    "    )\n",
    "\n",
    "fig=dict(data=data, layout=layout)\n",
    "\n",
    "#plotly.offline.plot(fig)\n",
    "#go.Figure(fig).show()\n",
    "import plotly.io as pio\n",
    "pio.write_html(fig, file='docs/_includes/figure_fd.html', auto_open=True)"
   ]
  },
  {
   "cell_type": "markdown",
   "source": [],
   "metadata": {
    "collapsed": false
   }
  },
  {
   "cell_type": "code",
   "execution_count": 110,
   "metadata": {},
   "outputs": [
    {
     "data": {
      "text/plain": "                                0  r_discovery   p_bias     category  \\\ntarget                                                                 \nCogCrystalComp_AgeAdj  100.000000     0.478393  0.61958    Cognition   \nPicVocab_AgeAdj        100.000000     0.449331  0.46671    Cognition   \nCogTotalComp_AgeAdj    100.000000     0.440612  0.58473    Cognition   \nReadEng_AgeAdj         100.000000     0.421093  0.56276    Cognition   \nCogEarlyComp_AgeAdj    100.000000     0.318284  0.40190    Cognition   \nVSPLOT_TC              100.000000     0.304904  0.40537    Cognition   \nCogFluidComp_AgeAdj    100.000000     0.286584  0.47973    Cognition   \nPMAT24_A_CR            100.000000     0.273698  0.45357    Cognition   \nListSort_AgeAdj        100.000000     0.261719  0.48862    Cognition   \nDDisc_AUC_200          100.000000     0.181074  0.23137    Cognition   \nCardSort_AgeAdj        100.000000     0.168875  0.51301    Cognition   \nPicSeq_AgeAdj          100.000000     0.166367  0.26611    Cognition   \nSCPT_SPEC               97.727273     0.135545  0.35593    Cognition   \nFlanker_AgeAdj          95.238095     0.124328  0.36686    Cognition   \nProcSpeed_AgeAdj        90.277778     0.111175  0.44762    Cognition   \nIWRD_TOT                17.073171     0.062716  0.33328    Cognition   \nSCPT_SEN                 0.000000     0.002666  0.36600    Cognition   \nNEOFAC_O               100.000000     0.252453  0.28290  Personality   \nNEOFAC_C               100.000000     0.183556  0.43345  Personality   \nNEOFAC_A               100.000000     0.170426  0.28425  Personality   \nNEOFAC_E               100.000000     0.157592  0.40248  Personality   \nNEOFAC_N                40.909091     0.067182  0.50425  Personality   \nDexterity_AgeAdj       100.000000     0.148792  0.39907        Motor   \nNoise_Comp              94.382022     0.134067  0.34268      Sensory   \nTaste_AgeAdj            23.636364     0.081493  0.43259      Sensory   \nMars_Final              16.000000     0.061327  0.44606      Sensory   \nOdor_AgeAdj              9.090909     0.022999  0.42186      Sensory   \nPainInterf_Tscore        0.000000     0.021068  0.40455      Sensory   \nLifeSatisf_Unadj       100.000000     0.183808  0.27947      Emotion   \nAngAggr_Unadj          100.000000     0.174860  0.19396      Emotion   \nFearAffect_Unadj       100.000000     0.142047  0.42446      Emotion   \nEmotSupp_Unadj          85.185185     0.124379  0.22181      Emotion   \nSadness_Unadj           96.341463     0.121922  0.40169      Emotion   \nSelfEff_Unadj           73.239437     0.107843  0.41418      Emotion   \nLoneliness_Unadj        75.384615     0.098174  0.42129      Emotion   \nMeanPurp_Unadj          63.768116     0.092541  0.39125      Emotion   \nPercStress_Unadj        59.701493     0.089891  0.42411      Emotion   \nFriendship_Unadj        46.666667     0.088484  0.34509      Emotion   \nPosAffect_Unadj         60.714286     0.084311  0.35642      Emotion   \nAngAffect_Unadj         64.516129     0.083911  0.48600      Emotion   \nAngHostil_Unadj         20.454545     0.065354  0.40929      Emotion   \nER40ANG                 34.090909     0.065080  0.39046      Emotion   \nFearSomat_Unadj          5.263158     0.053006  0.44691      Emotion   \nER40NOE                 12.903226     0.046832  0.41809      Emotion   \nPercHostil_Unadj         9.677419     0.045781  0.39934      Emotion   \nPercReject_Unadj         7.407407     0.037067  0.46279      Emotion   \nInstruSupp_Unadj         0.000000     0.036281  0.35826      Emotion   \nER40FEAR                 0.000000     0.036240  0.34259      Emotion   \nER40SAD                  0.000000     0.028999  0.45220      Emotion   \nER40HAP                  0.000000    -0.040475  0.43610      Emotion   \n\n                          phenotype  \\\ntarget                                \nCogCrystalComp_AgeAdj    CogCrystal   \nPicVocab_AgeAdj            PicVocab   \nCogTotalComp_AgeAdj        CogTotal   \nReadEng_AgeAdj              ReadEng   \nCogEarlyComp_AgeAdj        CogEarly   \nVSPLOT_TC                 Visuospat   \nCogFluidComp_AgeAdj        CogFluid   \nPMAT24_A_CR                 FluidIQ   \nListSort_AgeAdj            ListSort   \nDDisc_AUC_200             DelayDisc   \nCardSort_AgeAdj            CardSort   \nPicSeq_AgeAdj             PicSeqMem   \nSCPT_SPEC              ContPerfSpec   \nFlanker_AgeAdj              Flanker   \nProcSpeed_AgeAdj          ProcSpeed   \nIWRD_TOT                    WordMem   \nSCPT_SEN                ContPerfSen   \nNEOFAC_O                       Open   \nNEOFAC_C                  Conscient   \nNEOFAC_A                  Agreeable   \nNEOFAC_E                  Extrovert   \nNEOFAC_N                   Neurotic   \nDexterity_AgeAdj          Dexterity   \nNoise_Comp                NoiseComp   \nTaste_AgeAdj                  Taste   \nMars_Final             ContrastSens   \nOdor_AgeAdj                    Odor   \nPainInterf_Tscore        PainInterf   \nLifeSatisf_Unadj         LifeSatisf   \nAngAggr_Unadj             AngerAggr   \nFearAffect_Unadj         FearAffect   \nEmotSupp_Unadj             EmotSupp   \nSadness_Unadj               Sadness   \nSelfEff_Unadj               SelfEff   \nLoneliness_Unadj         Loneliness   \nMeanPurp_Unadj          MeaningPurp   \nPercStress_Unadj         PercStress   \nFriendship_Unadj         Friendship   \nPosAffect_Unadj           PosAffect   \nAngAffect_Unadj         AngerAffect   \nAngHostil_Unadj           AngerHost   \nER40ANG                    AngerRec   \nFearSomat_Unadj           FearSomat   \nER40NOE                  NeutralRec   \nPercHostil_Unadj           PercHost   \nPercReject_Unadj         PercReject   \nInstruSupp_Unadj         InstruSupp   \nER40FEAR                    FearRec   \nER40SAD                      SadRec   \nER40HAP                    HappyRec   \n\n                                                          phenotype_long  \ntarget                                                                    \nCogCrystalComp_AgeAdj  NIH Toolbox Cognition Crystallized Composite: ...  \nPicVocab_AgeAdj        NIH Toolbox Picture Vocabulary Test: Age-Adjus...  \nCogTotalComp_AgeAdj    NIH Toolbox Cognition Total Composite Score: A...  \nReadEng_AgeAdj         NIH Toolbox Oral Reading Recognition Test: Age...  \nCogEarlyComp_AgeAdj    NIH Toolbox Cognition Early Childhood Composit...  \nVSPLOT_TC              Variable Short Penn Line Orientation: Total Nu...  \nCogFluidComp_AgeAdj    NIH Toolbox Cognition Fluid Composite: Age Adj...  \nPMAT24_A_CR            Penn Progressive Matrices: Number of Correct R...  \nListSort_AgeAdj        NIH Toolbox List Sorting Working Memory Test: ...  \nDDisc_AUC_200          Delay Discounting: Area Under the Curve for Di...  \nCardSort_AgeAdj        NIH Toolbox Dimensional Change Card Sort Test:...  \nPicSeq_AgeAdj          NIH Toolbox Picture Sequence Memory Test: Age-...  \nSCPT_SPEC              Short Penn Continuous Performance Test: Specif...  \nFlanker_AgeAdj         NIH Toolbox Flanker Inhibitory Control and Att...  \nProcSpeed_AgeAdj       NIH Toolbox Pattern Comparison Processing Spee...  \nIWRD_TOT               Penn Word Memory Test: Total Number of Correct...  \nSCPT_SEN               Short Penn Continuous Performance Test: Sensit...  \nNEOFAC_O                       NEO-FFI Openness to Experience (NEOFAC_O)  \nNEOFAC_C                            NEO-FFI Conscientiousness (NEOFAC_C)  \nNEOFAC_A                                NEO-FFI Agreeableness (NEOFAC_A)  \nNEOFAC_E                                 NEO-FFI Extraversion (NEOFAC_E)  \nNEOFAC_N                                  NEO-FFI Neuroticism (NEOFAC_N)  \nDexterity_AgeAdj       NIH Toolbox 9-hole Pegboard Dexterity Test : A...  \nNoise_Comp             NIH Toolbox Words-In-Noise Age 6+: Computed Score  \nTaste_AgeAdj           NIH Toolbox Regional Taste Intensity Age 12+ A...  \nMars_Final                         Mars Final Contrast Sensitivity Score  \nOdor_AgeAdj            NIH Toolbox Odor Identification Age 3+ Age-Adj...  \nPainInterf_Tscore      NIH Toolbox Pain Interference Survey Age 18+: ...  \nLifeSatisf_Unadj       NIH Toolbox General Life Satisfaction Survey: ...  \nAngAggr_Unadj          NIH Toolbox Anger-Physical Aggression Survey: ...  \nFearAffect_Unadj       NIH Toolbox Fear-Affect Survey: Unadjusted Sca...  \nEmotSupp_Unadj         NIH Toolbox Emotional Support Survey: Unadjust...  \nSadness_Unadj          NIH Toolbox Sadness Survey: Unadjusted Scale S...  \nSelfEff_Unadj          NIH Toolbox Self-Efficacy Survey: Unadjusted S...  \nLoneliness_Unadj       NIH Toolbox Loneliness Survey: Unadjusted Scal...  \nMeanPurp_Unadj         NIH Toolbox Meaning and Purpose Survey: Unadju...  \nPercStress_Unadj       NIH Toolbox Perceived Stress Survey: Unadjuste...  \nFriendship_Unadj       NIH Toolbox Friendship Survey: Unadjusted Scal...  \nPosAffect_Unadj        NIH Toolbox Positive Affect Survey: Unadjusted...  \nAngAffect_Unadj        NIH Toolbox Anger-Affect Survey: Unadjusted Sc...  \nAngHostil_Unadj        NIH Toolbox Anger-Hostility Survey: Unadjusted...  \nER40ANG                Penn Emotion Recognition Test: Number of Corre...  \nFearSomat_Unadj        NIH Toolbox Fear-Somatic Arousal Survey: Unadj...  \nER40NOE                Penn Emotion Recognition Test: Number of Corre...  \nPercHostil_Unadj       NIH Toolbox Perceived Hostility Survey: Unadju...  \nPercReject_Unadj       NIH Toolbox Perceived Rejection Survey: Unadju...  \nInstruSupp_Unadj       NIH Toolbox Instrumental Support Survey: Unadj...  \nER40FEAR               Penn Emotion Recognition Test: Number of Corre...  \nER40SAD                Penn Emotion Recognition Test: Number of Corre...  \nER40HAP                Penn Emotion Recognition Test: Number of Corre...  ",
      "text/html": "<div>\n<style scoped>\n    .dataframe tbody tr th:only-of-type {\n        vertical-align: middle;\n    }\n\n    .dataframe tbody tr th {\n        vertical-align: top;\n    }\n\n    .dataframe thead th {\n        text-align: right;\n    }\n</style>\n<table border=\"1\" class=\"dataframe\">\n  <thead>\n    <tr style=\"text-align: right;\">\n      <th></th>\n      <th>0</th>\n      <th>r_discovery</th>\n      <th>p_bias</th>\n      <th>category</th>\n      <th>phenotype</th>\n      <th>phenotype_long</th>\n    </tr>\n    <tr>\n      <th>target</th>\n      <th></th>\n      <th></th>\n      <th></th>\n      <th></th>\n      <th></th>\n      <th></th>\n    </tr>\n  </thead>\n  <tbody>\n    <tr>\n      <th>CogCrystalComp_AgeAdj</th>\n      <td>100.000000</td>\n      <td>0.478393</td>\n      <td>0.61958</td>\n      <td>Cognition</td>\n      <td>CogCrystal</td>\n      <td>NIH Toolbox Cognition Crystallized Composite: ...</td>\n    </tr>\n    <tr>\n      <th>PicVocab_AgeAdj</th>\n      <td>100.000000</td>\n      <td>0.449331</td>\n      <td>0.46671</td>\n      <td>Cognition</td>\n      <td>PicVocab</td>\n      <td>NIH Toolbox Picture Vocabulary Test: Age-Adjus...</td>\n    </tr>\n    <tr>\n      <th>CogTotalComp_AgeAdj</th>\n      <td>100.000000</td>\n      <td>0.440612</td>\n      <td>0.58473</td>\n      <td>Cognition</td>\n      <td>CogTotal</td>\n      <td>NIH Toolbox Cognition Total Composite Score: A...</td>\n    </tr>\n    <tr>\n      <th>ReadEng_AgeAdj</th>\n      <td>100.000000</td>\n      <td>0.421093</td>\n      <td>0.56276</td>\n      <td>Cognition</td>\n      <td>ReadEng</td>\n      <td>NIH Toolbox Oral Reading Recognition Test: Age...</td>\n    </tr>\n    <tr>\n      <th>CogEarlyComp_AgeAdj</th>\n      <td>100.000000</td>\n      <td>0.318284</td>\n      <td>0.40190</td>\n      <td>Cognition</td>\n      <td>CogEarly</td>\n      <td>NIH Toolbox Cognition Early Childhood Composit...</td>\n    </tr>\n    <tr>\n      <th>VSPLOT_TC</th>\n      <td>100.000000</td>\n      <td>0.304904</td>\n      <td>0.40537</td>\n      <td>Cognition</td>\n      <td>Visuospat</td>\n      <td>Variable Short Penn Line Orientation: Total Nu...</td>\n    </tr>\n    <tr>\n      <th>CogFluidComp_AgeAdj</th>\n      <td>100.000000</td>\n      <td>0.286584</td>\n      <td>0.47973</td>\n      <td>Cognition</td>\n      <td>CogFluid</td>\n      <td>NIH Toolbox Cognition Fluid Composite: Age Adj...</td>\n    </tr>\n    <tr>\n      <th>PMAT24_A_CR</th>\n      <td>100.000000</td>\n      <td>0.273698</td>\n      <td>0.45357</td>\n      <td>Cognition</td>\n      <td>FluidIQ</td>\n      <td>Penn Progressive Matrices: Number of Correct R...</td>\n    </tr>\n    <tr>\n      <th>ListSort_AgeAdj</th>\n      <td>100.000000</td>\n      <td>0.261719</td>\n      <td>0.48862</td>\n      <td>Cognition</td>\n      <td>ListSort</td>\n      <td>NIH Toolbox List Sorting Working Memory Test: ...</td>\n    </tr>\n    <tr>\n      <th>DDisc_AUC_200</th>\n      <td>100.000000</td>\n      <td>0.181074</td>\n      <td>0.23137</td>\n      <td>Cognition</td>\n      <td>DelayDisc</td>\n      <td>Delay Discounting: Area Under the Curve for Di...</td>\n    </tr>\n    <tr>\n      <th>CardSort_AgeAdj</th>\n      <td>100.000000</td>\n      <td>0.168875</td>\n      <td>0.51301</td>\n      <td>Cognition</td>\n      <td>CardSort</td>\n      <td>NIH Toolbox Dimensional Change Card Sort Test:...</td>\n    </tr>\n    <tr>\n      <th>PicSeq_AgeAdj</th>\n      <td>100.000000</td>\n      <td>0.166367</td>\n      <td>0.26611</td>\n      <td>Cognition</td>\n      <td>PicSeqMem</td>\n      <td>NIH Toolbox Picture Sequence Memory Test: Age-...</td>\n    </tr>\n    <tr>\n      <th>SCPT_SPEC</th>\n      <td>97.727273</td>\n      <td>0.135545</td>\n      <td>0.35593</td>\n      <td>Cognition</td>\n      <td>ContPerfSpec</td>\n      <td>Short Penn Continuous Performance Test: Specif...</td>\n    </tr>\n    <tr>\n      <th>Flanker_AgeAdj</th>\n      <td>95.238095</td>\n      <td>0.124328</td>\n      <td>0.36686</td>\n      <td>Cognition</td>\n      <td>Flanker</td>\n      <td>NIH Toolbox Flanker Inhibitory Control and Att...</td>\n    </tr>\n    <tr>\n      <th>ProcSpeed_AgeAdj</th>\n      <td>90.277778</td>\n      <td>0.111175</td>\n      <td>0.44762</td>\n      <td>Cognition</td>\n      <td>ProcSpeed</td>\n      <td>NIH Toolbox Pattern Comparison Processing Spee...</td>\n    </tr>\n    <tr>\n      <th>IWRD_TOT</th>\n      <td>17.073171</td>\n      <td>0.062716</td>\n      <td>0.33328</td>\n      <td>Cognition</td>\n      <td>WordMem</td>\n      <td>Penn Word Memory Test: Total Number of Correct...</td>\n    </tr>\n    <tr>\n      <th>SCPT_SEN</th>\n      <td>0.000000</td>\n      <td>0.002666</td>\n      <td>0.36600</td>\n      <td>Cognition</td>\n      <td>ContPerfSen</td>\n      <td>Short Penn Continuous Performance Test: Sensit...</td>\n    </tr>\n    <tr>\n      <th>NEOFAC_O</th>\n      <td>100.000000</td>\n      <td>0.252453</td>\n      <td>0.28290</td>\n      <td>Personality</td>\n      <td>Open</td>\n      <td>NEO-FFI Openness to Experience (NEOFAC_O)</td>\n    </tr>\n    <tr>\n      <th>NEOFAC_C</th>\n      <td>100.000000</td>\n      <td>0.183556</td>\n      <td>0.43345</td>\n      <td>Personality</td>\n      <td>Conscient</td>\n      <td>NEO-FFI Conscientiousness (NEOFAC_C)</td>\n    </tr>\n    <tr>\n      <th>NEOFAC_A</th>\n      <td>100.000000</td>\n      <td>0.170426</td>\n      <td>0.28425</td>\n      <td>Personality</td>\n      <td>Agreeable</td>\n      <td>NEO-FFI Agreeableness (NEOFAC_A)</td>\n    </tr>\n    <tr>\n      <th>NEOFAC_E</th>\n      <td>100.000000</td>\n      <td>0.157592</td>\n      <td>0.40248</td>\n      <td>Personality</td>\n      <td>Extrovert</td>\n      <td>NEO-FFI Extraversion (NEOFAC_E)</td>\n    </tr>\n    <tr>\n      <th>NEOFAC_N</th>\n      <td>40.909091</td>\n      <td>0.067182</td>\n      <td>0.50425</td>\n      <td>Personality</td>\n      <td>Neurotic</td>\n      <td>NEO-FFI Neuroticism (NEOFAC_N)</td>\n    </tr>\n    <tr>\n      <th>Dexterity_AgeAdj</th>\n      <td>100.000000</td>\n      <td>0.148792</td>\n      <td>0.39907</td>\n      <td>Motor</td>\n      <td>Dexterity</td>\n      <td>NIH Toolbox 9-hole Pegboard Dexterity Test : A...</td>\n    </tr>\n    <tr>\n      <th>Noise_Comp</th>\n      <td>94.382022</td>\n      <td>0.134067</td>\n      <td>0.34268</td>\n      <td>Sensory</td>\n      <td>NoiseComp</td>\n      <td>NIH Toolbox Words-In-Noise Age 6+: Computed Score</td>\n    </tr>\n    <tr>\n      <th>Taste_AgeAdj</th>\n      <td>23.636364</td>\n      <td>0.081493</td>\n      <td>0.43259</td>\n      <td>Sensory</td>\n      <td>Taste</td>\n      <td>NIH Toolbox Regional Taste Intensity Age 12+ A...</td>\n    </tr>\n    <tr>\n      <th>Mars_Final</th>\n      <td>16.000000</td>\n      <td>0.061327</td>\n      <td>0.44606</td>\n      <td>Sensory</td>\n      <td>ContrastSens</td>\n      <td>Mars Final Contrast Sensitivity Score</td>\n    </tr>\n    <tr>\n      <th>Odor_AgeAdj</th>\n      <td>9.090909</td>\n      <td>0.022999</td>\n      <td>0.42186</td>\n      <td>Sensory</td>\n      <td>Odor</td>\n      <td>NIH Toolbox Odor Identification Age 3+ Age-Adj...</td>\n    </tr>\n    <tr>\n      <th>PainInterf_Tscore</th>\n      <td>0.000000</td>\n      <td>0.021068</td>\n      <td>0.40455</td>\n      <td>Sensory</td>\n      <td>PainInterf</td>\n      <td>NIH Toolbox Pain Interference Survey Age 18+: ...</td>\n    </tr>\n    <tr>\n      <th>LifeSatisf_Unadj</th>\n      <td>100.000000</td>\n      <td>0.183808</td>\n      <td>0.27947</td>\n      <td>Emotion</td>\n      <td>LifeSatisf</td>\n      <td>NIH Toolbox General Life Satisfaction Survey: ...</td>\n    </tr>\n    <tr>\n      <th>AngAggr_Unadj</th>\n      <td>100.000000</td>\n      <td>0.174860</td>\n      <td>0.19396</td>\n      <td>Emotion</td>\n      <td>AngerAggr</td>\n      <td>NIH Toolbox Anger-Physical Aggression Survey: ...</td>\n    </tr>\n    <tr>\n      <th>FearAffect_Unadj</th>\n      <td>100.000000</td>\n      <td>0.142047</td>\n      <td>0.42446</td>\n      <td>Emotion</td>\n      <td>FearAffect</td>\n      <td>NIH Toolbox Fear-Affect Survey: Unadjusted Sca...</td>\n    </tr>\n    <tr>\n      <th>EmotSupp_Unadj</th>\n      <td>85.185185</td>\n      <td>0.124379</td>\n      <td>0.22181</td>\n      <td>Emotion</td>\n      <td>EmotSupp</td>\n      <td>NIH Toolbox Emotional Support Survey: Unadjust...</td>\n    </tr>\n    <tr>\n      <th>Sadness_Unadj</th>\n      <td>96.341463</td>\n      <td>0.121922</td>\n      <td>0.40169</td>\n      <td>Emotion</td>\n      <td>Sadness</td>\n      <td>NIH Toolbox Sadness Survey: Unadjusted Scale S...</td>\n    </tr>\n    <tr>\n      <th>SelfEff_Unadj</th>\n      <td>73.239437</td>\n      <td>0.107843</td>\n      <td>0.41418</td>\n      <td>Emotion</td>\n      <td>SelfEff</td>\n      <td>NIH Toolbox Self-Efficacy Survey: Unadjusted S...</td>\n    </tr>\n    <tr>\n      <th>Loneliness_Unadj</th>\n      <td>75.384615</td>\n      <td>0.098174</td>\n      <td>0.42129</td>\n      <td>Emotion</td>\n      <td>Loneliness</td>\n      <td>NIH Toolbox Loneliness Survey: Unadjusted Scal...</td>\n    </tr>\n    <tr>\n      <th>MeanPurp_Unadj</th>\n      <td>63.768116</td>\n      <td>0.092541</td>\n      <td>0.39125</td>\n      <td>Emotion</td>\n      <td>MeaningPurp</td>\n      <td>NIH Toolbox Meaning and Purpose Survey: Unadju...</td>\n    </tr>\n    <tr>\n      <th>PercStress_Unadj</th>\n      <td>59.701493</td>\n      <td>0.089891</td>\n      <td>0.42411</td>\n      <td>Emotion</td>\n      <td>PercStress</td>\n      <td>NIH Toolbox Perceived Stress Survey: Unadjuste...</td>\n    </tr>\n    <tr>\n      <th>Friendship_Unadj</th>\n      <td>46.666667</td>\n      <td>0.088484</td>\n      <td>0.34509</td>\n      <td>Emotion</td>\n      <td>Friendship</td>\n      <td>NIH Toolbox Friendship Survey: Unadjusted Scal...</td>\n    </tr>\n    <tr>\n      <th>PosAffect_Unadj</th>\n      <td>60.714286</td>\n      <td>0.084311</td>\n      <td>0.35642</td>\n      <td>Emotion</td>\n      <td>PosAffect</td>\n      <td>NIH Toolbox Positive Affect Survey: Unadjusted...</td>\n    </tr>\n    <tr>\n      <th>AngAffect_Unadj</th>\n      <td>64.516129</td>\n      <td>0.083911</td>\n      <td>0.48600</td>\n      <td>Emotion</td>\n      <td>AngerAffect</td>\n      <td>NIH Toolbox Anger-Affect Survey: Unadjusted Sc...</td>\n    </tr>\n    <tr>\n      <th>AngHostil_Unadj</th>\n      <td>20.454545</td>\n      <td>0.065354</td>\n      <td>0.40929</td>\n      <td>Emotion</td>\n      <td>AngerHost</td>\n      <td>NIH Toolbox Anger-Hostility Survey: Unadjusted...</td>\n    </tr>\n    <tr>\n      <th>ER40ANG</th>\n      <td>34.090909</td>\n      <td>0.065080</td>\n      <td>0.39046</td>\n      <td>Emotion</td>\n      <td>AngerRec</td>\n      <td>Penn Emotion Recognition Test: Number of Corre...</td>\n    </tr>\n    <tr>\n      <th>FearSomat_Unadj</th>\n      <td>5.263158</td>\n      <td>0.053006</td>\n      <td>0.44691</td>\n      <td>Emotion</td>\n      <td>FearSomat</td>\n      <td>NIH Toolbox Fear-Somatic Arousal Survey: Unadj...</td>\n    </tr>\n    <tr>\n      <th>ER40NOE</th>\n      <td>12.903226</td>\n      <td>0.046832</td>\n      <td>0.41809</td>\n      <td>Emotion</td>\n      <td>NeutralRec</td>\n      <td>Penn Emotion Recognition Test: Number of Corre...</td>\n    </tr>\n    <tr>\n      <th>PercHostil_Unadj</th>\n      <td>9.677419</td>\n      <td>0.045781</td>\n      <td>0.39934</td>\n      <td>Emotion</td>\n      <td>PercHost</td>\n      <td>NIH Toolbox Perceived Hostility Survey: Unadju...</td>\n    </tr>\n    <tr>\n      <th>PercReject_Unadj</th>\n      <td>7.407407</td>\n      <td>0.037067</td>\n      <td>0.46279</td>\n      <td>Emotion</td>\n      <td>PercReject</td>\n      <td>NIH Toolbox Perceived Rejection Survey: Unadju...</td>\n    </tr>\n    <tr>\n      <th>InstruSupp_Unadj</th>\n      <td>0.000000</td>\n      <td>0.036281</td>\n      <td>0.35826</td>\n      <td>Emotion</td>\n      <td>InstruSupp</td>\n      <td>NIH Toolbox Instrumental Support Survey: Unadj...</td>\n    </tr>\n    <tr>\n      <th>ER40FEAR</th>\n      <td>0.000000</td>\n      <td>0.036240</td>\n      <td>0.34259</td>\n      <td>Emotion</td>\n      <td>FearRec</td>\n      <td>Penn Emotion Recognition Test: Number of Corre...</td>\n    </tr>\n    <tr>\n      <th>ER40SAD</th>\n      <td>0.000000</td>\n      <td>0.028999</td>\n      <td>0.45220</td>\n      <td>Emotion</td>\n      <td>SadRec</td>\n      <td>Penn Emotion Recognition Test: Number of Corre...</td>\n    </tr>\n    <tr>\n      <th>ER40HAP</th>\n      <td>0.000000</td>\n      <td>-0.040475</td>\n      <td>0.43610</td>\n      <td>Emotion</td>\n      <td>HappyRec</td>\n      <td>Penn Emotion Recognition Test: Number of Corre...</td>\n    </tr>\n  </tbody>\n</table>\n</div>"
     },
     "execution_count": 110,
     "metadata": {},
     "output_type": "execute_result"
    }
   ],
   "source": [
    "df_plot"
   ]
  },
  {
   "cell_type": "code",
   "execution_count": 111,
   "metadata": {},
   "outputs": [
    {
     "data": {
      "application/vnd.plotly.v1+json": {
       "data": [
        {
         "labels": [
          "Replicable",
          "Not Replicable"
         ],
         "marker": {
          "colors": [
           "green",
           "red"
          ]
         },
         "name": "Trait-like",
         "rotation": -90,
         "values": [
          21,
          6
         ],
         "type": "pie",
         "domain": {
          "x": [
           0.0,
           0.45
          ],
          "y": [
           0.0,
           1.0
          ]
         },
         "hole": 0.5,
         "hoverinfo": "label+percent+name"
        },
        {
         "labels": [
          "Replicable",
          "Not Replicable"
         ],
         "name": "State-like",
         "rotation": 90,
         "values": [
          5,
          18
         ],
         "type": "pie",
         "domain": {
          "x": [
           0.55,
           1.0
          ],
          "y": [
           0.0,
           1.0
          ]
         },
         "hole": 0.5,
         "hoverinfo": "label+percent+name"
        }
       ],
       "layout": {
        "template": {
         "data": {
          "barpolar": [
           {
            "marker": {
             "line": {
              "color": "white",
              "width": 0.5
             },
             "pattern": {
              "fillmode": "overlay",
              "size": 10,
              "solidity": 0.2
             }
            },
            "type": "barpolar"
           }
          ],
          "bar": [
           {
            "error_x": {
             "color": "rgb(36,36,36)"
            },
            "error_y": {
             "color": "rgb(36,36,36)"
            },
            "marker": {
             "line": {
              "color": "white",
              "width": 0.5
             },
             "pattern": {
              "fillmode": "overlay",
              "size": 10,
              "solidity": 0.2
             }
            },
            "type": "bar"
           }
          ],
          "carpet": [
           {
            "aaxis": {
             "endlinecolor": "rgb(36,36,36)",
             "gridcolor": "white",
             "linecolor": "white",
             "minorgridcolor": "white",
             "startlinecolor": "rgb(36,36,36)"
            },
            "baxis": {
             "endlinecolor": "rgb(36,36,36)",
             "gridcolor": "white",
             "linecolor": "white",
             "minorgridcolor": "white",
             "startlinecolor": "rgb(36,36,36)"
            },
            "type": "carpet"
           }
          ],
          "choropleth": [
           {
            "colorbar": {
             "outlinewidth": 1,
             "tickcolor": "rgb(36,36,36)",
             "ticks": "outside"
            },
            "type": "choropleth"
           }
          ],
          "contourcarpet": [
           {
            "colorbar": {
             "outlinewidth": 1,
             "tickcolor": "rgb(36,36,36)",
             "ticks": "outside"
            },
            "type": "contourcarpet"
           }
          ],
          "contour": [
           {
            "colorbar": {
             "outlinewidth": 1,
             "tickcolor": "rgb(36,36,36)",
             "ticks": "outside"
            },
            "colorscale": [
             [
              0.0,
              "#440154"
             ],
             [
              0.1111111111111111,
              "#482878"
             ],
             [
              0.2222222222222222,
              "#3e4989"
             ],
             [
              0.3333333333333333,
              "#31688e"
             ],
             [
              0.4444444444444444,
              "#26828e"
             ],
             [
              0.5555555555555556,
              "#1f9e89"
             ],
             [
              0.6666666666666666,
              "#35b779"
             ],
             [
              0.7777777777777778,
              "#6ece58"
             ],
             [
              0.8888888888888888,
              "#b5de2b"
             ],
             [
              1.0,
              "#fde725"
             ]
            ],
            "type": "contour"
           }
          ],
          "heatmapgl": [
           {
            "colorbar": {
             "outlinewidth": 1,
             "tickcolor": "rgb(36,36,36)",
             "ticks": "outside"
            },
            "colorscale": [
             [
              0.0,
              "#440154"
             ],
             [
              0.1111111111111111,
              "#482878"
             ],
             [
              0.2222222222222222,
              "#3e4989"
             ],
             [
              0.3333333333333333,
              "#31688e"
             ],
             [
              0.4444444444444444,
              "#26828e"
             ],
             [
              0.5555555555555556,
              "#1f9e89"
             ],
             [
              0.6666666666666666,
              "#35b779"
             ],
             [
              0.7777777777777778,
              "#6ece58"
             ],
             [
              0.8888888888888888,
              "#b5de2b"
             ],
             [
              1.0,
              "#fde725"
             ]
            ],
            "type": "heatmapgl"
           }
          ],
          "heatmap": [
           {
            "colorbar": {
             "outlinewidth": 1,
             "tickcolor": "rgb(36,36,36)",
             "ticks": "outside"
            },
            "colorscale": [
             [
              0.0,
              "#440154"
             ],
             [
              0.1111111111111111,
              "#482878"
             ],
             [
              0.2222222222222222,
              "#3e4989"
             ],
             [
              0.3333333333333333,
              "#31688e"
             ],
             [
              0.4444444444444444,
              "#26828e"
             ],
             [
              0.5555555555555556,
              "#1f9e89"
             ],
             [
              0.6666666666666666,
              "#35b779"
             ],
             [
              0.7777777777777778,
              "#6ece58"
             ],
             [
              0.8888888888888888,
              "#b5de2b"
             ],
             [
              1.0,
              "#fde725"
             ]
            ],
            "type": "heatmap"
           }
          ],
          "histogram2dcontour": [
           {
            "colorbar": {
             "outlinewidth": 1,
             "tickcolor": "rgb(36,36,36)",
             "ticks": "outside"
            },
            "colorscale": [
             [
              0.0,
              "#440154"
             ],
             [
              0.1111111111111111,
              "#482878"
             ],
             [
              0.2222222222222222,
              "#3e4989"
             ],
             [
              0.3333333333333333,
              "#31688e"
             ],
             [
              0.4444444444444444,
              "#26828e"
             ],
             [
              0.5555555555555556,
              "#1f9e89"
             ],
             [
              0.6666666666666666,
              "#35b779"
             ],
             [
              0.7777777777777778,
              "#6ece58"
             ],
             [
              0.8888888888888888,
              "#b5de2b"
             ],
             [
              1.0,
              "#fde725"
             ]
            ],
            "type": "histogram2dcontour"
           }
          ],
          "histogram2d": [
           {
            "colorbar": {
             "outlinewidth": 1,
             "tickcolor": "rgb(36,36,36)",
             "ticks": "outside"
            },
            "colorscale": [
             [
              0.0,
              "#440154"
             ],
             [
              0.1111111111111111,
              "#482878"
             ],
             [
              0.2222222222222222,
              "#3e4989"
             ],
             [
              0.3333333333333333,
              "#31688e"
             ],
             [
              0.4444444444444444,
              "#26828e"
             ],
             [
              0.5555555555555556,
              "#1f9e89"
             ],
             [
              0.6666666666666666,
              "#35b779"
             ],
             [
              0.7777777777777778,
              "#6ece58"
             ],
             [
              0.8888888888888888,
              "#b5de2b"
             ],
             [
              1.0,
              "#fde725"
             ]
            ],
            "type": "histogram2d"
           }
          ],
          "histogram": [
           {
            "marker": {
             "line": {
              "color": "white",
              "width": 0.6
             }
            },
            "type": "histogram"
           }
          ],
          "mesh3d": [
           {
            "colorbar": {
             "outlinewidth": 1,
             "tickcolor": "rgb(36,36,36)",
             "ticks": "outside"
            },
            "type": "mesh3d"
           }
          ],
          "parcoords": [
           {
            "line": {
             "colorbar": {
              "outlinewidth": 1,
              "tickcolor": "rgb(36,36,36)",
              "ticks": "outside"
             }
            },
            "type": "parcoords"
           }
          ],
          "pie": [
           {
            "automargin": true,
            "type": "pie"
           }
          ],
          "scatter3d": [
           {
            "line": {
             "colorbar": {
              "outlinewidth": 1,
              "tickcolor": "rgb(36,36,36)",
              "ticks": "outside"
             }
            },
            "marker": {
             "colorbar": {
              "outlinewidth": 1,
              "tickcolor": "rgb(36,36,36)",
              "ticks": "outside"
             }
            },
            "type": "scatter3d"
           }
          ],
          "scattercarpet": [
           {
            "marker": {
             "colorbar": {
              "outlinewidth": 1,
              "tickcolor": "rgb(36,36,36)",
              "ticks": "outside"
             }
            },
            "type": "scattercarpet"
           }
          ],
          "scattergeo": [
           {
            "marker": {
             "colorbar": {
              "outlinewidth": 1,
              "tickcolor": "rgb(36,36,36)",
              "ticks": "outside"
             }
            },
            "type": "scattergeo"
           }
          ],
          "scattergl": [
           {
            "marker": {
             "colorbar": {
              "outlinewidth": 1,
              "tickcolor": "rgb(36,36,36)",
              "ticks": "outside"
             }
            },
            "type": "scattergl"
           }
          ],
          "scattermapbox": [
           {
            "marker": {
             "colorbar": {
              "outlinewidth": 1,
              "tickcolor": "rgb(36,36,36)",
              "ticks": "outside"
             }
            },
            "type": "scattermapbox"
           }
          ],
          "scatterpolargl": [
           {
            "marker": {
             "colorbar": {
              "outlinewidth": 1,
              "tickcolor": "rgb(36,36,36)",
              "ticks": "outside"
             }
            },
            "type": "scatterpolargl"
           }
          ],
          "scatterpolar": [
           {
            "marker": {
             "colorbar": {
              "outlinewidth": 1,
              "tickcolor": "rgb(36,36,36)",
              "ticks": "outside"
             }
            },
            "type": "scatterpolar"
           }
          ],
          "scatter": [
           {
            "fillpattern": {
             "fillmode": "overlay",
             "size": 10,
             "solidity": 0.2
            },
            "type": "scatter"
           }
          ],
          "scatterternary": [
           {
            "marker": {
             "colorbar": {
              "outlinewidth": 1,
              "tickcolor": "rgb(36,36,36)",
              "ticks": "outside"
             }
            },
            "type": "scatterternary"
           }
          ],
          "surface": [
           {
            "colorbar": {
             "outlinewidth": 1,
             "tickcolor": "rgb(36,36,36)",
             "ticks": "outside"
            },
            "colorscale": [
             [
              0.0,
              "#440154"
             ],
             [
              0.1111111111111111,
              "#482878"
             ],
             [
              0.2222222222222222,
              "#3e4989"
             ],
             [
              0.3333333333333333,
              "#31688e"
             ],
             [
              0.4444444444444444,
              "#26828e"
             ],
             [
              0.5555555555555556,
              "#1f9e89"
             ],
             [
              0.6666666666666666,
              "#35b779"
             ],
             [
              0.7777777777777778,
              "#6ece58"
             ],
             [
              0.8888888888888888,
              "#b5de2b"
             ],
             [
              1.0,
              "#fde725"
             ]
            ],
            "type": "surface"
           }
          ],
          "table": [
           {
            "cells": {
             "fill": {
              "color": "rgb(237,237,237)"
             },
             "line": {
              "color": "white"
             }
            },
            "header": {
             "fill": {
              "color": "rgb(217,217,217)"
             },
             "line": {
              "color": "white"
             }
            },
            "type": "table"
           }
          ]
         },
         "layout": {
          "annotationdefaults": {
           "arrowhead": 0,
           "arrowwidth": 1
          },
          "autotypenumbers": "strict",
          "coloraxis": {
           "colorbar": {
            "outlinewidth": 1,
            "tickcolor": "rgb(36,36,36)",
            "ticks": "outside"
           }
          },
          "colorscale": {
           "diverging": [
            [
             0.0,
             "rgb(103,0,31)"
            ],
            [
             0.1,
             "rgb(178,24,43)"
            ],
            [
             0.2,
             "rgb(214,96,77)"
            ],
            [
             0.3,
             "rgb(244,165,130)"
            ],
            [
             0.4,
             "rgb(253,219,199)"
            ],
            [
             0.5,
             "rgb(247,247,247)"
            ],
            [
             0.6,
             "rgb(209,229,240)"
            ],
            [
             0.7,
             "rgb(146,197,222)"
            ],
            [
             0.8,
             "rgb(67,147,195)"
            ],
            [
             0.9,
             "rgb(33,102,172)"
            ],
            [
             1.0,
             "rgb(5,48,97)"
            ]
           ],
           "sequential": [
            [
             0.0,
             "#440154"
            ],
            [
             0.1111111111111111,
             "#482878"
            ],
            [
             0.2222222222222222,
             "#3e4989"
            ],
            [
             0.3333333333333333,
             "#31688e"
            ],
            [
             0.4444444444444444,
             "#26828e"
            ],
            [
             0.5555555555555556,
             "#1f9e89"
            ],
            [
             0.6666666666666666,
             "#35b779"
            ],
            [
             0.7777777777777778,
             "#6ece58"
            ],
            [
             0.8888888888888888,
             "#b5de2b"
            ],
            [
             1.0,
             "#fde725"
            ]
           ],
           "sequentialminus": [
            [
             0.0,
             "#440154"
            ],
            [
             0.1111111111111111,
             "#482878"
            ],
            [
             0.2222222222222222,
             "#3e4989"
            ],
            [
             0.3333333333333333,
             "#31688e"
            ],
            [
             0.4444444444444444,
             "#26828e"
            ],
            [
             0.5555555555555556,
             "#1f9e89"
            ],
            [
             0.6666666666666666,
             "#35b779"
            ],
            [
             0.7777777777777778,
             "#6ece58"
            ],
            [
             0.8888888888888888,
             "#b5de2b"
            ],
            [
             1.0,
             "#fde725"
            ]
           ]
          },
          "colorway": [
           "#1F77B4",
           "#FF7F0E",
           "#2CA02C",
           "#D62728",
           "#9467BD",
           "#8C564B",
           "#E377C2",
           "#7F7F7F",
           "#BCBD22",
           "#17BECF"
          ],
          "font": {
           "color": "rgb(36,36,36)"
          },
          "geo": {
           "bgcolor": "white",
           "lakecolor": "white",
           "landcolor": "white",
           "showlakes": true,
           "showland": true,
           "subunitcolor": "white"
          },
          "hoverlabel": {
           "align": "left"
          },
          "hovermode": "closest",
          "mapbox": {
           "style": "light"
          },
          "paper_bgcolor": "white",
          "plot_bgcolor": "white",
          "polar": {
           "angularaxis": {
            "gridcolor": "rgb(232,232,232)",
            "linecolor": "rgb(36,36,36)",
            "showgrid": false,
            "showline": true,
            "ticks": "outside"
           },
           "bgcolor": "white",
           "radialaxis": {
            "gridcolor": "rgb(232,232,232)",
            "linecolor": "rgb(36,36,36)",
            "showgrid": false,
            "showline": true,
            "ticks": "outside"
           }
          },
          "scene": {
           "xaxis": {
            "backgroundcolor": "white",
            "gridcolor": "rgb(232,232,232)",
            "gridwidth": 2,
            "linecolor": "rgb(36,36,36)",
            "showbackground": true,
            "showgrid": false,
            "showline": true,
            "ticks": "outside",
            "zeroline": false,
            "zerolinecolor": "rgb(36,36,36)"
           },
           "yaxis": {
            "backgroundcolor": "white",
            "gridcolor": "rgb(232,232,232)",
            "gridwidth": 2,
            "linecolor": "rgb(36,36,36)",
            "showbackground": true,
            "showgrid": false,
            "showline": true,
            "ticks": "outside",
            "zeroline": false,
            "zerolinecolor": "rgb(36,36,36)"
           },
           "zaxis": {
            "backgroundcolor": "white",
            "gridcolor": "rgb(232,232,232)",
            "gridwidth": 2,
            "linecolor": "rgb(36,36,36)",
            "showbackground": true,
            "showgrid": false,
            "showline": true,
            "ticks": "outside",
            "zeroline": false,
            "zerolinecolor": "rgb(36,36,36)"
           }
          },
          "shapedefaults": {
           "fillcolor": "black",
           "line": {
            "width": 0
           },
           "opacity": 0.3
          },
          "ternary": {
           "aaxis": {
            "gridcolor": "rgb(232,232,232)",
            "linecolor": "rgb(36,36,36)",
            "showgrid": false,
            "showline": true,
            "ticks": "outside"
           },
           "baxis": {
            "gridcolor": "rgb(232,232,232)",
            "linecolor": "rgb(36,36,36)",
            "showgrid": false,
            "showline": true,
            "ticks": "outside"
           },
           "bgcolor": "white",
           "caxis": {
            "gridcolor": "rgb(232,232,232)",
            "linecolor": "rgb(36,36,36)",
            "showgrid": false,
            "showline": true,
            "ticks": "outside"
           }
          },
          "title": {
           "x": 0.05
          },
          "xaxis": {
           "automargin": true,
           "gridcolor": "rgb(232,232,232)",
           "linecolor": "rgb(36,36,36)",
           "showgrid": false,
           "showline": true,
           "ticks": "outside",
           "title": {
            "standoff": 15
           },
           "zeroline": false,
           "zerolinecolor": "rgb(36,36,36)"
          },
          "yaxis": {
           "automargin": true,
           "gridcolor": "rgb(232,232,232)",
           "linecolor": "rgb(36,36,36)",
           "showgrid": false,
           "showline": true,
           "ticks": "outside",
           "title": {
            "standoff": 15
           },
           "zeroline": false,
           "zerolinecolor": "rgb(36,36,36)"
          }
         }
        },
        "title": {
         "text": ""
        },
        "font": {
         "size": 10,
         "color": "gray"
        },
        "margin": {
         "l": 5,
         "r": 5,
         "b": 10,
         "t": 10,
         "pad": 4
        },
        "legend": {
         "font": {
          "color": "black"
         },
         "yanchor": "top",
         "y": 0.99,
         "xanchor": "left",
         "x": -0.4
        },
        "autosize": true,
        "height": 70,
        "width": 500,
        "annotations": [
         {
          "showarrow": false,
          "text": "Trait-like",
          "x": -0.03,
          "y": 1.1,
          "font": {
           "size": 12,
           "color": "black"
          }
         },
         {
          "showarrow": false,
          "text": "State-like",
          "x": 0.7,
          "y": 1.1,
          "font": {
           "size": 12,
           "color": "black"
          }
         }
        ]
       },
       "config": {
        "plotlyServerURL": "https://plot.ly"
       }
      },
      "text/html": "<div>                            <div id=\"564e098a-e16c-446b-bbd3-0451cd092790\" class=\"plotly-graph-div\" style=\"height:70px; width:500px;\"></div>            <script type=\"text/javascript\">                require([\"plotly\"], function(Plotly) {                    window.PLOTLYENV=window.PLOTLYENV || {};                                    if (document.getElementById(\"564e098a-e16c-446b-bbd3-0451cd092790\")) {                    Plotly.newPlot(                        \"564e098a-e16c-446b-bbd3-0451cd092790\",                        [{\"labels\":[\"Replicable\",\"Not Replicable\"],\"marker\":{\"colors\":[\"green\",\"red\"]},\"name\":\"Trait-like\",\"rotation\":-90,\"values\":[21,6],\"type\":\"pie\",\"domain\":{\"x\":[0.0,0.45],\"y\":[0.0,1.0]},\"hole\":0.5,\"hoverinfo\":\"label+percent+name\"},{\"labels\":[\"Replicable\",\"Not Replicable\"],\"name\":\"State-like\",\"rotation\":90,\"values\":[5,18],\"type\":\"pie\",\"domain\":{\"x\":[0.55,1.0],\"y\":[0.0,1.0]},\"hole\":0.5,\"hoverinfo\":\"label+percent+name\"}],                        {\"template\":{\"data\":{\"barpolar\":[{\"marker\":{\"line\":{\"color\":\"white\",\"width\":0.5},\"pattern\":{\"fillmode\":\"overlay\",\"size\":10,\"solidity\":0.2}},\"type\":\"barpolar\"}],\"bar\":[{\"error_x\":{\"color\":\"rgb(36,36,36)\"},\"error_y\":{\"color\":\"rgb(36,36,36)\"},\"marker\":{\"line\":{\"color\":\"white\",\"width\":0.5},\"pattern\":{\"fillmode\":\"overlay\",\"size\":10,\"solidity\":0.2}},\"type\":\"bar\"}],\"carpet\":[{\"aaxis\":{\"endlinecolor\":\"rgb(36,36,36)\",\"gridcolor\":\"white\",\"linecolor\":\"white\",\"minorgridcolor\":\"white\",\"startlinecolor\":\"rgb(36,36,36)\"},\"baxis\":{\"endlinecolor\":\"rgb(36,36,36)\",\"gridcolor\":\"white\",\"linecolor\":\"white\",\"minorgridcolor\":\"white\",\"startlinecolor\":\"rgb(36,36,36)\"},\"type\":\"carpet\"}],\"choropleth\":[{\"colorbar\":{\"outlinewidth\":1,\"tickcolor\":\"rgb(36,36,36)\",\"ticks\":\"outside\"},\"type\":\"choropleth\"}],\"contourcarpet\":[{\"colorbar\":{\"outlinewidth\":1,\"tickcolor\":\"rgb(36,36,36)\",\"ticks\":\"outside\"},\"type\":\"contourcarpet\"}],\"contour\":[{\"colorbar\":{\"outlinewidth\":1,\"tickcolor\":\"rgb(36,36,36)\",\"ticks\":\"outside\"},\"colorscale\":[[0.0,\"#440154\"],[0.1111111111111111,\"#482878\"],[0.2222222222222222,\"#3e4989\"],[0.3333333333333333,\"#31688e\"],[0.4444444444444444,\"#26828e\"],[0.5555555555555556,\"#1f9e89\"],[0.6666666666666666,\"#35b779\"],[0.7777777777777778,\"#6ece58\"],[0.8888888888888888,\"#b5de2b\"],[1.0,\"#fde725\"]],\"type\":\"contour\"}],\"heatmapgl\":[{\"colorbar\":{\"outlinewidth\":1,\"tickcolor\":\"rgb(36,36,36)\",\"ticks\":\"outside\"},\"colorscale\":[[0.0,\"#440154\"],[0.1111111111111111,\"#482878\"],[0.2222222222222222,\"#3e4989\"],[0.3333333333333333,\"#31688e\"],[0.4444444444444444,\"#26828e\"],[0.5555555555555556,\"#1f9e89\"],[0.6666666666666666,\"#35b779\"],[0.7777777777777778,\"#6ece58\"],[0.8888888888888888,\"#b5de2b\"],[1.0,\"#fde725\"]],\"type\":\"heatmapgl\"}],\"heatmap\":[{\"colorbar\":{\"outlinewidth\":1,\"tickcolor\":\"rgb(36,36,36)\",\"ticks\":\"outside\"},\"colorscale\":[[0.0,\"#440154\"],[0.1111111111111111,\"#482878\"],[0.2222222222222222,\"#3e4989\"],[0.3333333333333333,\"#31688e\"],[0.4444444444444444,\"#26828e\"],[0.5555555555555556,\"#1f9e89\"],[0.6666666666666666,\"#35b779\"],[0.7777777777777778,\"#6ece58\"],[0.8888888888888888,\"#b5de2b\"],[1.0,\"#fde725\"]],\"type\":\"heatmap\"}],\"histogram2dcontour\":[{\"colorbar\":{\"outlinewidth\":1,\"tickcolor\":\"rgb(36,36,36)\",\"ticks\":\"outside\"},\"colorscale\":[[0.0,\"#440154\"],[0.1111111111111111,\"#482878\"],[0.2222222222222222,\"#3e4989\"],[0.3333333333333333,\"#31688e\"],[0.4444444444444444,\"#26828e\"],[0.5555555555555556,\"#1f9e89\"],[0.6666666666666666,\"#35b779\"],[0.7777777777777778,\"#6ece58\"],[0.8888888888888888,\"#b5de2b\"],[1.0,\"#fde725\"]],\"type\":\"histogram2dcontour\"}],\"histogram2d\":[{\"colorbar\":{\"outlinewidth\":1,\"tickcolor\":\"rgb(36,36,36)\",\"ticks\":\"outside\"},\"colorscale\":[[0.0,\"#440154\"],[0.1111111111111111,\"#482878\"],[0.2222222222222222,\"#3e4989\"],[0.3333333333333333,\"#31688e\"],[0.4444444444444444,\"#26828e\"],[0.5555555555555556,\"#1f9e89\"],[0.6666666666666666,\"#35b779\"],[0.7777777777777778,\"#6ece58\"],[0.8888888888888888,\"#b5de2b\"],[1.0,\"#fde725\"]],\"type\":\"histogram2d\"}],\"histogram\":[{\"marker\":{\"line\":{\"color\":\"white\",\"width\":0.6}},\"type\":\"histogram\"}],\"mesh3d\":[{\"colorbar\":{\"outlinewidth\":1,\"tickcolor\":\"rgb(36,36,36)\",\"ticks\":\"outside\"},\"type\":\"mesh3d\"}],\"parcoords\":[{\"line\":{\"colorbar\":{\"outlinewidth\":1,\"tickcolor\":\"rgb(36,36,36)\",\"ticks\":\"outside\"}},\"type\":\"parcoords\"}],\"pie\":[{\"automargin\":true,\"type\":\"pie\"}],\"scatter3d\":[{\"line\":{\"colorbar\":{\"outlinewidth\":1,\"tickcolor\":\"rgb(36,36,36)\",\"ticks\":\"outside\"}},\"marker\":{\"colorbar\":{\"outlinewidth\":1,\"tickcolor\":\"rgb(36,36,36)\",\"ticks\":\"outside\"}},\"type\":\"scatter3d\"}],\"scattercarpet\":[{\"marker\":{\"colorbar\":{\"outlinewidth\":1,\"tickcolor\":\"rgb(36,36,36)\",\"ticks\":\"outside\"}},\"type\":\"scattercarpet\"}],\"scattergeo\":[{\"marker\":{\"colorbar\":{\"outlinewidth\":1,\"tickcolor\":\"rgb(36,36,36)\",\"ticks\":\"outside\"}},\"type\":\"scattergeo\"}],\"scattergl\":[{\"marker\":{\"colorbar\":{\"outlinewidth\":1,\"tickcolor\":\"rgb(36,36,36)\",\"ticks\":\"outside\"}},\"type\":\"scattergl\"}],\"scattermapbox\":[{\"marker\":{\"colorbar\":{\"outlinewidth\":1,\"tickcolor\":\"rgb(36,36,36)\",\"ticks\":\"outside\"}},\"type\":\"scattermapbox\"}],\"scatterpolargl\":[{\"marker\":{\"colorbar\":{\"outlinewidth\":1,\"tickcolor\":\"rgb(36,36,36)\",\"ticks\":\"outside\"}},\"type\":\"scatterpolargl\"}],\"scatterpolar\":[{\"marker\":{\"colorbar\":{\"outlinewidth\":1,\"tickcolor\":\"rgb(36,36,36)\",\"ticks\":\"outside\"}},\"type\":\"scatterpolar\"}],\"scatter\":[{\"fillpattern\":{\"fillmode\":\"overlay\",\"size\":10,\"solidity\":0.2},\"type\":\"scatter\"}],\"scatterternary\":[{\"marker\":{\"colorbar\":{\"outlinewidth\":1,\"tickcolor\":\"rgb(36,36,36)\",\"ticks\":\"outside\"}},\"type\":\"scatterternary\"}],\"surface\":[{\"colorbar\":{\"outlinewidth\":1,\"tickcolor\":\"rgb(36,36,36)\",\"ticks\":\"outside\"},\"colorscale\":[[0.0,\"#440154\"],[0.1111111111111111,\"#482878\"],[0.2222222222222222,\"#3e4989\"],[0.3333333333333333,\"#31688e\"],[0.4444444444444444,\"#26828e\"],[0.5555555555555556,\"#1f9e89\"],[0.6666666666666666,\"#35b779\"],[0.7777777777777778,\"#6ece58\"],[0.8888888888888888,\"#b5de2b\"],[1.0,\"#fde725\"]],\"type\":\"surface\"}],\"table\":[{\"cells\":{\"fill\":{\"color\":\"rgb(237,237,237)\"},\"line\":{\"color\":\"white\"}},\"header\":{\"fill\":{\"color\":\"rgb(217,217,217)\"},\"line\":{\"color\":\"white\"}},\"type\":\"table\"}]},\"layout\":{\"annotationdefaults\":{\"arrowhead\":0,\"arrowwidth\":1},\"autotypenumbers\":\"strict\",\"coloraxis\":{\"colorbar\":{\"outlinewidth\":1,\"tickcolor\":\"rgb(36,36,36)\",\"ticks\":\"outside\"}},\"colorscale\":{\"diverging\":[[0.0,\"rgb(103,0,31)\"],[0.1,\"rgb(178,24,43)\"],[0.2,\"rgb(214,96,77)\"],[0.3,\"rgb(244,165,130)\"],[0.4,\"rgb(253,219,199)\"],[0.5,\"rgb(247,247,247)\"],[0.6,\"rgb(209,229,240)\"],[0.7,\"rgb(146,197,222)\"],[0.8,\"rgb(67,147,195)\"],[0.9,\"rgb(33,102,172)\"],[1.0,\"rgb(5,48,97)\"]],\"sequential\":[[0.0,\"#440154\"],[0.1111111111111111,\"#482878\"],[0.2222222222222222,\"#3e4989\"],[0.3333333333333333,\"#31688e\"],[0.4444444444444444,\"#26828e\"],[0.5555555555555556,\"#1f9e89\"],[0.6666666666666666,\"#35b779\"],[0.7777777777777778,\"#6ece58\"],[0.8888888888888888,\"#b5de2b\"],[1.0,\"#fde725\"]],\"sequentialminus\":[[0.0,\"#440154\"],[0.1111111111111111,\"#482878\"],[0.2222222222222222,\"#3e4989\"],[0.3333333333333333,\"#31688e\"],[0.4444444444444444,\"#26828e\"],[0.5555555555555556,\"#1f9e89\"],[0.6666666666666666,\"#35b779\"],[0.7777777777777778,\"#6ece58\"],[0.8888888888888888,\"#b5de2b\"],[1.0,\"#fde725\"]]},\"colorway\":[\"#1F77B4\",\"#FF7F0E\",\"#2CA02C\",\"#D62728\",\"#9467BD\",\"#8C564B\",\"#E377C2\",\"#7F7F7F\",\"#BCBD22\",\"#17BECF\"],\"font\":{\"color\":\"rgb(36,36,36)\"},\"geo\":{\"bgcolor\":\"white\",\"lakecolor\":\"white\",\"landcolor\":\"white\",\"showlakes\":true,\"showland\":true,\"subunitcolor\":\"white\"},\"hoverlabel\":{\"align\":\"left\"},\"hovermode\":\"closest\",\"mapbox\":{\"style\":\"light\"},\"paper_bgcolor\":\"white\",\"plot_bgcolor\":\"white\",\"polar\":{\"angularaxis\":{\"gridcolor\":\"rgb(232,232,232)\",\"linecolor\":\"rgb(36,36,36)\",\"showgrid\":false,\"showline\":true,\"ticks\":\"outside\"},\"bgcolor\":\"white\",\"radialaxis\":{\"gridcolor\":\"rgb(232,232,232)\",\"linecolor\":\"rgb(36,36,36)\",\"showgrid\":false,\"showline\":true,\"ticks\":\"outside\"}},\"scene\":{\"xaxis\":{\"backgroundcolor\":\"white\",\"gridcolor\":\"rgb(232,232,232)\",\"gridwidth\":2,\"linecolor\":\"rgb(36,36,36)\",\"showbackground\":true,\"showgrid\":false,\"showline\":true,\"ticks\":\"outside\",\"zeroline\":false,\"zerolinecolor\":\"rgb(36,36,36)\"},\"yaxis\":{\"backgroundcolor\":\"white\",\"gridcolor\":\"rgb(232,232,232)\",\"gridwidth\":2,\"linecolor\":\"rgb(36,36,36)\",\"showbackground\":true,\"showgrid\":false,\"showline\":true,\"ticks\":\"outside\",\"zeroline\":false,\"zerolinecolor\":\"rgb(36,36,36)\"},\"zaxis\":{\"backgroundcolor\":\"white\",\"gridcolor\":\"rgb(232,232,232)\",\"gridwidth\":2,\"linecolor\":\"rgb(36,36,36)\",\"showbackground\":true,\"showgrid\":false,\"showline\":true,\"ticks\":\"outside\",\"zeroline\":false,\"zerolinecolor\":\"rgb(36,36,36)\"}},\"shapedefaults\":{\"fillcolor\":\"black\",\"line\":{\"width\":0},\"opacity\":0.3},\"ternary\":{\"aaxis\":{\"gridcolor\":\"rgb(232,232,232)\",\"linecolor\":\"rgb(36,36,36)\",\"showgrid\":false,\"showline\":true,\"ticks\":\"outside\"},\"baxis\":{\"gridcolor\":\"rgb(232,232,232)\",\"linecolor\":\"rgb(36,36,36)\",\"showgrid\":false,\"showline\":true,\"ticks\":\"outside\"},\"bgcolor\":\"white\",\"caxis\":{\"gridcolor\":\"rgb(232,232,232)\",\"linecolor\":\"rgb(36,36,36)\",\"showgrid\":false,\"showline\":true,\"ticks\":\"outside\"}},\"title\":{\"x\":0.05},\"xaxis\":{\"automargin\":true,\"gridcolor\":\"rgb(232,232,232)\",\"linecolor\":\"rgb(36,36,36)\",\"showgrid\":false,\"showline\":true,\"ticks\":\"outside\",\"title\":{\"standoff\":15},\"zeroline\":false,\"zerolinecolor\":\"rgb(36,36,36)\"},\"yaxis\":{\"automargin\":true,\"gridcolor\":\"rgb(232,232,232)\",\"linecolor\":\"rgb(36,36,36)\",\"showgrid\":false,\"showline\":true,\"ticks\":\"outside\",\"title\":{\"standoff\":15},\"zeroline\":false,\"zerolinecolor\":\"rgb(36,36,36)\"}}},\"title\":{\"text\":\"\"},\"font\":{\"size\":10,\"color\":\"gray\"},\"margin\":{\"l\":5,\"r\":5,\"b\":10,\"t\":10,\"pad\":4},\"legend\":{\"font\":{\"color\":\"black\"},\"yanchor\":\"top\",\"y\":0.99,\"xanchor\":\"left\",\"x\":-0.4},\"autosize\":true,\"height\":70,\"width\":500,\"annotations\":[{\"showarrow\":false,\"text\":\"Trait-like\",\"x\":-0.03,\"y\":1.1,\"font\":{\"size\":12,\"color\":\"black\"}},{\"showarrow\":false,\"text\":\"State-like\",\"x\":0.7,\"y\":1.1,\"font\":{\"size\":12,\"color\":\"black\"}}]},                        {\"responsive\": true}                    ).then(function(){\n                            \nvar gd = document.getElementById('564e098a-e16c-446b-bbd3-0451cd092790');\nvar x = new MutationObserver(function (mutations, observer) {{\n        var display = window.getComputedStyle(gd).display;\n        if (!display || display === 'none') {{\n            console.log([gd, 'removed!']);\n            Plotly.purge(gd);\n            observer.disconnect();\n        }}\n}});\n\n// Listen for the removal of the full notebook cells\nvar notebookContainer = gd.closest('#notebook-container');\nif (notebookContainer) {{\n    x.observe(notebookContainer, {childList: true});\n}}\n\n// Listen for the clearing of the current output cell\nvar outputEl = gd.closest('.output');\nif (outputEl) {{\n    x.observe(outputEl, {childList: true});\n}}\n\n                        })                };                });            </script>        </div>"
     },
     "metadata": {},
     "output_type": "display_data"
    }
   ],
   "source": [
    "import plotly.graph_objects as go\n",
    "from plotly.subplots import make_subplots\n",
    "\n",
    "labels = [\"Replicable\", \"Not Replicable\"]\n",
    "\n",
    "# Create subplots: use 'domain' type for Pie subplot\n",
    "fig = make_subplots(rows=1, cols=2, specs=[[{'type':'domain'}, {'type':'domain'}]])\n",
    "fig.add_trace(go.Pie(labels=labels, values=[15+4+1+1, 2+1+0+3], name=\"Trait-like\",  marker_colors=['green', 'red'], rotation=-90),\n",
    "              1, 1)\n",
    "fig.add_trace(go.Pie(labels=labels, values=[5, 18], name=\"State-like\", rotation=90),\n",
    "              1, 2)\n",
    "\n",
    "# Use `hole` to create a donut-like pie chart\n",
    "fig.update_traces(hole=.5, hoverinfo=\"label+percent+name\")\n",
    "\n",
    "fig.update_layout(\n",
    "    template='simple_white',\n",
    "    title_text=\"\",\n",
    "    font=dict(\n",
    "                size=10,\n",
    "                color=\"gray\"),\n",
    "    autosize=True,\n",
    "    height=70,\n",
    "    width=500,\n",
    "    margin=dict(\n",
    "              l=5,\n",
    "              r=5,\n",
    "              b=10,\n",
    "              t=10,\n",
    "              pad=4),\n",
    "    legend=dict(\n",
    "        yanchor=\"top\",\n",
    "        y=0.99,\n",
    "        xanchor=\"left\",\n",
    "        x=-0.4,\n",
    "        font_color='black'\n",
    "    ),\n",
    "    # Add annotations in the center of the donut pies.\n",
    "    annotations=[dict(text='Trait-like', x=-0.03, y=1.1, font_size=12, font_color='black', showarrow=False),\n",
    "                 dict(text='State-like', x=0.7, y=1.1, font_size=12, font_color='black', showarrow=False)])\n",
    "fig.show()\n",
    "import plotly.io as pio\n",
    "pio.write_html(fig, file='docs/_includes/pie_fd.html', auto_open=False)"
   ]
  },
  {
   "cell_type": "code",
   "execution_count": null,
   "outputs": [],
   "source": [],
   "metadata": {
    "collapsed": false
   }
  }
 ],
 "metadata": {
  "hide_input": false,
  "kernelspec": {
   "display_name": "Python 3 (ipykernel)",
   "language": "python",
   "name": "python3"
  },
  "language_info": {
   "codemirror_mode": {
    "name": "ipython",
    "version": 3
   },
   "file_extension": ".py",
   "mimetype": "text/x-python",
   "name": "python",
   "nbconvert_exporter": "python",
   "pygments_lexer": "ipython3",
   "version": "3.10.6"
  }
 },
 "nbformat": 4,
 "nbformat_minor": 2
}

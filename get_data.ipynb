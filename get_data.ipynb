{
 "cells": [
  {
   "cell_type": "markdown",
   "source": [
    "# Downloader script to get reprocessed data from the Human Connectome Project\n",
    "\n",
    "Dataset is not part of the repository but can be easily obtained in two ways:\n",
    "\n",
    "### Option A: Via DataLad (contact the authors for credentials)"
   ],
   "metadata": {
    "collapsed": false
   }
  },
  {
   "cell_type": "markdown",
   "source": [],
   "metadata": {
    "collapsed": false
   }
  },
  {
   "cell_type": "code",
   "execution_count": null,
   "outputs": [],
   "source": [
    "!export WEBDAV_USERNAME=<INSERT_USERNAME_HERE> && \\\n",
    "export WEBDAV_PASSWORD=<INSERT_TOKEN_HERE> \\\n",
    "&& datalad install --reckless -s https://github.com/pni-data/hcp-connectivity.git hcp_data \\\n",
    "&& cd hcp_data \\\n",
    "&& datalad siblings enable -s sciebo.sfb289 \\\n",
    "&& datalad get *"
   ],
   "metadata": {
    "collapsed": false
   }
  },
  {
   "cell_type": "markdown",
   "source": [
    "\n",
    "If you don't have the credentials, you will need to obtain the data manually.\n",
    "\n",
    "### Option B: Download from ConnectomeDB\n",
    "3. Download Behavioral Data as published on connectomeDB: https://db.humanconnectome.org/.\n",
    "`hcp1200_behavioral_data.csv`\n",
    "\n",
    "4. HCP1200 Parcellation+Timeseries+Netmats (PTN), as published on connectomeDB: https://db.humanconnectome.org/\n",
    "\n",
    "- Download: 1003 Subjects, recon r177 + r227, PTN Release (13GB)\n",
    "\n",
    "- Uncompress: HCP1200_Parcellation_Timeseries_Netmats.zip\n",
    "\n",
    "- Then:\n",
    "```\n",
    "mv HCP_PTN1200/subjectIDs.txt $REPODIR/hcp_data/subjectIDs.txt\n",
    "mv HCP_PTN1200/netmats_3T_HCP1200_MSMAll_ICAd100_ts2/netmats/3T_HCP1200_MSMAll_d100_ts2/netmats1.txt $REPODIR/hcp_data/netmats1_correlationZ.txt\n",
    "mv HCP_PTN1200/netmats_3T_HCP1200_MSMAll_ICAd100_ts2/netmats/3T_HCP1200_MSMAll_d100_ts2/netmats2.txt $REPODIR/hcp_data/netmats2_partial-correlation.txt\n",
    "```\n",
    "\n",
    "3. Motion data (optional)\n",
    "- Clone the HCP dataset via datalad: https://github.com/datalad-datasets/human-connectome-project-openaccess\n",
    "- Get all motion data:\n",
    " `datalad get -J 16 HCP1200/*/MNINonLinear/Results/rfMRI_REST*/Movement_RelativeRMS_mean.txt`\n",
    "- run:\n",
    "`python3 get_motion.data.py <your_hcp_dataset_dir>/HCP1200`"
   ],
   "metadata": {
    "collapsed": false
   }
  },
  {
   "cell_type": "markdown",
   "source": [
    "### As a results, this folder should contain (at least) the following files.\n",
    "\n",
    "- `hcp1200_behavioral_data.csv`: all behavioral and demographic data of the HCP1200-release\n",
    "- `netmats1_correlationZ.txt`: Fisher Z-transformed pearson correlations matrices, flattened format, i.e one row per subject\n",
    "- `netmats2_partial-correlation.txt`: Partial correlations matrices (with a slight regularization), flattened format, i.e one row per subject\n",
    "- `subjectIDs.txt`: subject IDs, links rows of the netmat files to the 'Subject' column of the behavioral dataframe.\n",
    "\n",
    "Check it below:"
   ],
   "metadata": {
    "collapsed": false
   }
  },
  {
   "cell_type": "code",
   "execution_count": 2,
   "outputs": [
    {
     "name": "stdout",
     "output_type": "stream",
     "text": [
      "total 154068\r\n",
      "drwxrwxr-x 2 tspisak tspisak     4096 Nov 16 18:39 .\r\n",
      "drwxrwxr-x 9 tspisak tspisak     4096 Dec 20 17:37 ..\r\n",
      "-rwxrwxr-x 1 tspisak tspisak      951 Mar 31  2022 get_motion_data.py\r\n",
      "-rw-rw-r-- 1 tspisak tspisak  3522034 Mar 18  2022 hcp1200_behavioral_data.csv\r\n",
      "-rw-rw-r-- 1 tspisak tspisak    27252 Mar 31  2022 motion.csv\r\n",
      "-rw-rw-r-- 1 tspisak tspisak 75438744 Mar 18  2022 netmats1_correlationZ.txt\r\n",
      "-rw-rw-r-- 1 tspisak tspisak 78704940 Mar 18  2022 netmats2_partial-correlation.txt\r\n",
      "-r--r--r-- 1 tspisak tspisak    37500 Nov 16 18:39 phenotypes-of-interest.csv\r\n",
      "-rw-rw-r-- 1 tspisak tspisak     2069 Apr 10  2022 readme.md\r\n",
      "-rw-rw-r-- 1 tspisak tspisak     7021 Mar 18  2022 subjectIDs.txt\r\n"
     ]
    }
   ],
   "source": [
    "!ls -la hcp_data"
   ],
   "metadata": {
    "collapsed": false
   }
  },
  {
   "cell_type": "code",
   "execution_count": null,
   "outputs": [],
   "source": [],
   "metadata": {
    "collapsed": false
   }
  }
 ],
 "metadata": {
  "kernelspec": {
   "display_name": "Python 3",
   "language": "python",
   "name": "python3"
  },
  "language_info": {
   "codemirror_mode": {
    "name": "ipython",
    "version": 2
   },
   "file_extension": ".py",
   "mimetype": "text/x-python",
   "name": "python",
   "nbconvert_exporter": "python",
   "pygments_lexer": "ipython2",
   "version": "2.7.6"
  }
 },
 "nbformat": 4,
 "nbformat_minor": 0
}

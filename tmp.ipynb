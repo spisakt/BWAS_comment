{
 "cells": [
  {
   "cell_type": "code",
   "execution_count": 1,
   "metadata": {
    "collapsed": true,
    "pycharm": {
     "name": "#%%\n"
    }
   },
   "outputs": [],
   "source": [
    "import pandas as pd"
   ]
  },
  {
   "cell_type": "code",
   "execution_count": 4,
   "outputs": [
    {
     "data": {
      "text/plain": "        Unnamed: 0            n  r_discovery_cv  r_discovery_overfit  \\\ncount  3000.000000  3000.000000     2979.000000          3000.000000   \nmean   1499.500000   240.766667        0.100163             0.594199   \nstd     866.169729   178.577926        0.143782             0.142726   \nmin       0.000000    50.000000       -0.581742             0.301805   \n25%     749.750000   100.000000        0.018408             0.477336   \n50%    1499.500000   200.000000        0.110102             0.572939   \n75%    2249.250000   300.000000        0.194773             0.714272   \nmax    2999.000000   556.000000        0.632190             0.913519   \n\n       r_replication  p_discovery_cv  p_discovery_overfit  p_replication  \ncount    3000.000000     3000.000000         3.000000e+03    3000.000000  \nmean        0.107246        0.278794         9.990010e-04       0.205772  \nstd         0.115145        0.329423         2.168766e-19       0.258834  \nmin        -0.347619        0.000999         9.990010e-04       0.000999  \n25%         0.037547        0.004995         9.990010e-04       0.003996  \n50%         0.105397        0.107892         9.990010e-04       0.081918  \n75%         0.183984        0.516733         9.990010e-04       0.329920  \nmax         0.638953        1.000000         9.990010e-04       0.995005  ",
      "text/html": "<div>\n<style scoped>\n    .dataframe tbody tr th:only-of-type {\n        vertical-align: middle;\n    }\n\n    .dataframe tbody tr th {\n        vertical-align: top;\n    }\n\n    .dataframe thead th {\n        text-align: right;\n    }\n</style>\n<table border=\"1\" class=\"dataframe\">\n  <thead>\n    <tr style=\"text-align: right;\">\n      <th></th>\n      <th>Unnamed: 0</th>\n      <th>n</th>\n      <th>r_discovery_cv</th>\n      <th>r_discovery_overfit</th>\n      <th>r_replication</th>\n      <th>p_discovery_cv</th>\n      <th>p_discovery_overfit</th>\n      <th>p_replication</th>\n    </tr>\n  </thead>\n  <tbody>\n    <tr>\n      <th>count</th>\n      <td>3000.000000</td>\n      <td>3000.000000</td>\n      <td>2979.000000</td>\n      <td>3000.000000</td>\n      <td>3000.000000</td>\n      <td>3000.000000</td>\n      <td>3.000000e+03</td>\n      <td>3000.000000</td>\n    </tr>\n    <tr>\n      <th>mean</th>\n      <td>1499.500000</td>\n      <td>240.766667</td>\n      <td>0.100163</td>\n      <td>0.594199</td>\n      <td>0.107246</td>\n      <td>0.278794</td>\n      <td>9.990010e-04</td>\n      <td>0.205772</td>\n    </tr>\n    <tr>\n      <th>std</th>\n      <td>866.169729</td>\n      <td>178.577926</td>\n      <td>0.143782</td>\n      <td>0.142726</td>\n      <td>0.115145</td>\n      <td>0.329423</td>\n      <td>2.168766e-19</td>\n      <td>0.258834</td>\n    </tr>\n    <tr>\n      <th>min</th>\n      <td>0.000000</td>\n      <td>50.000000</td>\n      <td>-0.581742</td>\n      <td>0.301805</td>\n      <td>-0.347619</td>\n      <td>0.000999</td>\n      <td>9.990010e-04</td>\n      <td>0.000999</td>\n    </tr>\n    <tr>\n      <th>25%</th>\n      <td>749.750000</td>\n      <td>100.000000</td>\n      <td>0.018408</td>\n      <td>0.477336</td>\n      <td>0.037547</td>\n      <td>0.004995</td>\n      <td>9.990010e-04</td>\n      <td>0.003996</td>\n    </tr>\n    <tr>\n      <th>50%</th>\n      <td>1499.500000</td>\n      <td>200.000000</td>\n      <td>0.110102</td>\n      <td>0.572939</td>\n      <td>0.105397</td>\n      <td>0.107892</td>\n      <td>9.990010e-04</td>\n      <td>0.081918</td>\n    </tr>\n    <tr>\n      <th>75%</th>\n      <td>2249.250000</td>\n      <td>300.000000</td>\n      <td>0.194773</td>\n      <td>0.714272</td>\n      <td>0.183984</td>\n      <td>0.516733</td>\n      <td>9.990010e-04</td>\n      <td>0.329920</td>\n    </tr>\n    <tr>\n      <th>max</th>\n      <td>2999.000000</td>\n      <td>556.000000</td>\n      <td>0.632190</td>\n      <td>0.913519</td>\n      <td>0.638953</td>\n      <td>1.000000</td>\n      <td>9.990010e-04</td>\n      <td>0.995005</td>\n    </tr>\n  </tbody>\n</table>\n</div>"
     },
     "execution_count": 4,
     "metadata": {},
     "output_type": "execute_result"
    }
   ],
   "source": [
    "pd.read_csv('res/results_thck_Ridge.csv').describe()"
   ],
   "metadata": {
    "collapsed": false,
    "pycharm": {
     "name": "#%%\n"
    }
   }
  },
  {
   "cell_type": "code",
   "execution_count": 5,
   "outputs": [
    {
     "data": {
      "text/plain": "        Unnamed: 0            n  r_discovery_cv  r_discovery_overfit  \\\ncount  6000.000000  6000.000000     5946.000000         6.000000e+03   \nmean   2999.500000   229.900000        0.204308         1.000000e+00   \nstd    1732.195139   159.847475        0.173156         4.353626e-10   \nmin       0.000000    50.000000       -0.539345         1.000000e+00   \n25%    1499.750000   100.000000        0.098430         1.000000e+00   \n50%    2999.500000   200.000000        0.198846         1.000000e+00   \n75%    4499.250000   300.000000        0.330492         1.000000e+00   \nmax    5999.000000   501.000000        0.683321         1.000000e+00   \n\n       r_replication  p_discovery_cv  p_discovery_overfit  p_replication  \ncount    6000.000000     6000.000000         6.000000e+03    6000.000000  \nmean        0.218451        0.151806         9.990010e-04       0.094560  \nstd         0.147773        0.266834         2.168585e-19       0.186149  \nmin        -0.319389        0.000999         9.990010e-04       0.000999  \n25%         0.119896        0.000999         9.990010e-04       0.000999  \n50%         0.201950        0.005994         9.990010e-04       0.003996  \n75%         0.325526        0.166084         9.990010e-04       0.084915  \nmax         0.609244        1.000000         9.990010e-04       0.992008  ",
      "text/html": "<div>\n<style scoped>\n    .dataframe tbody tr th:only-of-type {\n        vertical-align: middle;\n    }\n\n    .dataframe tbody tr th {\n        vertical-align: top;\n    }\n\n    .dataframe thead th {\n        text-align: right;\n    }\n</style>\n<table border=\"1\" class=\"dataframe\">\n  <thead>\n    <tr style=\"text-align: right;\">\n      <th></th>\n      <th>Unnamed: 0</th>\n      <th>n</th>\n      <th>r_discovery_cv</th>\n      <th>r_discovery_overfit</th>\n      <th>r_replication</th>\n      <th>p_discovery_cv</th>\n      <th>p_discovery_overfit</th>\n      <th>p_replication</th>\n    </tr>\n  </thead>\n  <tbody>\n    <tr>\n      <th>count</th>\n      <td>6000.000000</td>\n      <td>6000.000000</td>\n      <td>5946.000000</td>\n      <td>6.000000e+03</td>\n      <td>6000.000000</td>\n      <td>6000.000000</td>\n      <td>6.000000e+03</td>\n      <td>6000.000000</td>\n    </tr>\n    <tr>\n      <th>mean</th>\n      <td>2999.500000</td>\n      <td>229.900000</td>\n      <td>0.204308</td>\n      <td>1.000000e+00</td>\n      <td>0.218451</td>\n      <td>0.151806</td>\n      <td>9.990010e-04</td>\n      <td>0.094560</td>\n    </tr>\n    <tr>\n      <th>std</th>\n      <td>1732.195139</td>\n      <td>159.847475</td>\n      <td>0.173156</td>\n      <td>4.353626e-10</td>\n      <td>0.147773</td>\n      <td>0.266834</td>\n      <td>2.168585e-19</td>\n      <td>0.186149</td>\n    </tr>\n    <tr>\n      <th>min</th>\n      <td>0.000000</td>\n      <td>50.000000</td>\n      <td>-0.539345</td>\n      <td>1.000000e+00</td>\n      <td>-0.319389</td>\n      <td>0.000999</td>\n      <td>9.990010e-04</td>\n      <td>0.000999</td>\n    </tr>\n    <tr>\n      <th>25%</th>\n      <td>1499.750000</td>\n      <td>100.000000</td>\n      <td>0.098430</td>\n      <td>1.000000e+00</td>\n      <td>0.119896</td>\n      <td>0.000999</td>\n      <td>9.990010e-04</td>\n      <td>0.000999</td>\n    </tr>\n    <tr>\n      <th>50%</th>\n      <td>2999.500000</td>\n      <td>200.000000</td>\n      <td>0.198846</td>\n      <td>1.000000e+00</td>\n      <td>0.201950</td>\n      <td>0.005994</td>\n      <td>9.990010e-04</td>\n      <td>0.003996</td>\n    </tr>\n    <tr>\n      <th>75%</th>\n      <td>4499.250000</td>\n      <td>300.000000</td>\n      <td>0.330492</td>\n      <td>1.000000e+00</td>\n      <td>0.325526</td>\n      <td>0.166084</td>\n      <td>9.990010e-04</td>\n      <td>0.084915</td>\n    </tr>\n    <tr>\n      <th>max</th>\n      <td>5999.000000</td>\n      <td>501.000000</td>\n      <td>0.683321</td>\n      <td>1.000000e+00</td>\n      <td>0.609244</td>\n      <td>1.000000</td>\n      <td>9.990010e-04</td>\n      <td>0.992008</td>\n    </tr>\n  </tbody>\n</table>\n</div>"
     },
     "execution_count": 5,
     "metadata": {},
     "output_type": "execute_result"
    }
   ],
   "source": [
    "pd.read_csv('res/results_Ridge.csv').describe()"
   ],
   "metadata": {
    "collapsed": false,
    "pycharm": {
     "name": "#%%\n"
    }
   }
  },
  {
   "cell_type": "code",
   "execution_count": null,
   "outputs": [],
   "source": [],
   "metadata": {
    "collapsed": false,
    "pycharm": {
     "name": "#%%\n"
    }
   }
  }
 ],
 "metadata": {
  "kernelspec": {
   "display_name": "Python 3",
   "language": "python",
   "name": "python3"
  },
  "language_info": {
   "codemirror_mode": {
    "name": "ipython",
    "version": 2
   },
   "file_extension": ".py",
   "mimetype": "text/x-python",
   "name": "python",
   "nbconvert_exporter": "python",
   "pygments_lexer": "ipython2",
   "version": "2.7.6"
  }
 },
 "nbformat": 4,
 "nbformat_minor": 0
}
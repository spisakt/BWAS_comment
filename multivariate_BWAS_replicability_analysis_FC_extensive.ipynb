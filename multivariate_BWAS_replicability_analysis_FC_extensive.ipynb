{
 "cells": [
  {
   "cell_type": "markdown",
   "metadata": {},
   "source": [
    "# Analyzing replicability of functional connectivity-based multivariate BWAS on the Human Connectome Project dataset\n",
    "\n",
    "Comprehensive analysis with 52 HCP phenotypes\n",
    "\n",
    "## Imports"
   ]
  },
  {
   "cell_type": "code",
   "execution_count": 1,
   "metadata": {
    "ExecuteTime": {
     "end_time": "2021-08-03T20:04:15.431840Z",
     "start_time": "2021-08-03T20:04:14.753565Z"
    }
   },
   "outputs": [],
   "source": [
    "import numpy as np\n",
    "import pandas as pd\n",
    "import seaborn as sns\n",
    "import matplotlib.pyplot as plt\n",
    "from sklearn.linear_model import Ridge\n",
    "from sklearn.svm import SVR\n",
    "from sklearn.model_selection import KFold, train_test_split\n",
    "from sklearn.pipeline import Pipeline\n",
    "from sklearn.decomposition import PCA\n",
    "from joblib import Parallel, delayed\n",
    "from mlxtend.evaluate import permutation_test\n",
    "sns.set(rc={\"figure.figsize\":(4, 2)})\n",
    "sns.set_style(\"whitegrid\")"
   ]
  },
  {
   "cell_type": "markdown",
   "metadata": {},
   "source": [
    "## Load HCP data\n",
    "\n",
    "We load functional network matrices (netmats) from the HCP1200-release, as published on connectomeDB: https://db.humanconnectome.org/\n",
    "Due to licensing issues, data is not supplied with the repository, but can be downloaded from the ConnectomeDB or via `get_data.ipynb` (requires credentials).\n",
    "See [readme.md](readme.md) for more details."
   ]
  },
  {
   "cell_type": "code",
   "execution_count": 2,
   "metadata": {},
   "outputs": [
    {
     "data": {
      "text/html": [
       "<div>\n",
       "<style scoped>\n",
       "    .dataframe tbody tr th:only-of-type {\n",
       "        vertical-align: middle;\n",
       "    }\n",
       "\n",
       "    .dataframe tbody tr th {\n",
       "        vertical-align: top;\n",
       "    }\n",
       "\n",
       "    .dataframe thead th {\n",
       "        text-align: right;\n",
       "    }\n",
       "</style>\n",
       "<table border=\"1\" class=\"dataframe\">\n",
       "  <thead>\n",
       "    <tr style=\"text-align: right;\">\n",
       "      <th></th>\n",
       "      <th>T1_Count</th>\n",
       "      <th>T2_Count</th>\n",
       "      <th>3T_RS-fMRI_Count</th>\n",
       "      <th>3T_RS-fMRI_PctCompl</th>\n",
       "      <th>3T_tMRI_PctCompl</th>\n",
       "      <th>fMRI_WM_PctCompl</th>\n",
       "      <th>fMRI_Gamb_PctCompl</th>\n",
       "      <th>fMRI_Mot_PctCompl</th>\n",
       "      <th>fMRI_Lang_PctCompl</th>\n",
       "      <th>fMRI_Soc_PctCompl</th>\n",
       "      <th>...</th>\n",
       "      <th>Odor_Unadj</th>\n",
       "      <th>Odor_AgeAdj</th>\n",
       "      <th>PainIntens_RawScore</th>\n",
       "      <th>PainInterf_Tscore</th>\n",
       "      <th>Taste_Unadj</th>\n",
       "      <th>Taste_AgeAdj</th>\n",
       "      <th>Mars_Log_Score</th>\n",
       "      <th>Mars_Errs</th>\n",
       "      <th>Mars_Final</th>\n",
       "      <th>age</th>\n",
       "    </tr>\n",
       "  </thead>\n",
       "  <tbody>\n",
       "    <tr>\n",
       "      <th>count</th>\n",
       "      <td>1206.000000</td>\n",
       "      <td>1206.000000</td>\n",
       "      <td>1206.000000</td>\n",
       "      <td>1206.000000</td>\n",
       "      <td>1206.000000</td>\n",
       "      <td>1206.000000</td>\n",
       "      <td>1206.000000</td>\n",
       "      <td>1206.000000</td>\n",
       "      <td>1206.000000</td>\n",
       "      <td>1206.000000</td>\n",
       "      <td>...</td>\n",
       "      <td>1204.000000</td>\n",
       "      <td>1204.000000</td>\n",
       "      <td>1201.000000</td>\n",
       "      <td>1205.000000</td>\n",
       "      <td>1200.000000</td>\n",
       "      <td>1200.000000</td>\n",
       "      <td>1198.000000</td>\n",
       "      <td>1195.000000</td>\n",
       "      <td>1195.000000</td>\n",
       "      <td>1206.000000</td>\n",
       "    </tr>\n",
       "    <tr>\n",
       "      <th>mean</th>\n",
       "      <td>1.478441</td>\n",
       "      <td>1.400498</td>\n",
       "      <td>3.509950</td>\n",
       "      <td>87.213267</td>\n",
       "      <td>88.219569</td>\n",
       "      <td>89.718076</td>\n",
       "      <td>89.852736</td>\n",
       "      <td>89.631675</td>\n",
       "      <td>87.027114</td>\n",
       "      <td>87.039801</td>\n",
       "      <td>...</td>\n",
       "      <td>110.421321</td>\n",
       "      <td>97.727500</td>\n",
       "      <td>1.449625</td>\n",
       "      <td>45.847718</td>\n",
       "      <td>95.166983</td>\n",
       "      <td>93.998533</td>\n",
       "      <td>1.845467</td>\n",
       "      <td>0.581590</td>\n",
       "      <td>1.822251</td>\n",
       "      <td>28.904229</td>\n",
       "    </tr>\n",
       "    <tr>\n",
       "      <th>std</th>\n",
       "      <td>0.635688</td>\n",
       "      <td>0.628216</td>\n",
       "      <td>1.215181</td>\n",
       "      <td>31.027886</td>\n",
       "      <td>29.942161</td>\n",
       "      <td>30.384864</td>\n",
       "      <td>30.163559</td>\n",
       "      <td>30.492092</td>\n",
       "      <td>33.566043</td>\n",
       "      <td>33.570248</td>\n",
       "      <td>...</td>\n",
       "      <td>9.107963</td>\n",
       "      <td>11.273251</td>\n",
       "      <td>1.783069</td>\n",
       "      <td>7.679288</td>\n",
       "      <td>14.583412</td>\n",
       "      <td>14.837851</td>\n",
       "      <td>0.541393</td>\n",
       "      <td>0.973172</td>\n",
       "      <td>0.542893</td>\n",
       "      <td>3.570475</td>\n",
       "    </tr>\n",
       "    <tr>\n",
       "      <th>min</th>\n",
       "      <td>0.000000</td>\n",
       "      <td>0.000000</td>\n",
       "      <td>0.000000</td>\n",
       "      <td>0.000000</td>\n",
       "      <td>0.000000</td>\n",
       "      <td>0.000000</td>\n",
       "      <td>0.000000</td>\n",
       "      <td>0.000000</td>\n",
       "      <td>0.000000</td>\n",
       "      <td>0.000000</td>\n",
       "      <td>...</td>\n",
       "      <td>82.740000</td>\n",
       "      <td>59.860000</td>\n",
       "      <td>0.000000</td>\n",
       "      <td>38.600000</td>\n",
       "      <td>56.350000</td>\n",
       "      <td>59.500000</td>\n",
       "      <td>1.560000</td>\n",
       "      <td>0.000000</td>\n",
       "      <td>1.080000</td>\n",
       "      <td>23.500000</td>\n",
       "    </tr>\n",
       "    <tr>\n",
       "      <th>25%</th>\n",
       "      <td>1.000000</td>\n",
       "      <td>1.000000</td>\n",
       "      <td>4.000000</td>\n",
       "      <td>100.000000</td>\n",
       "      <td>100.000000</td>\n",
       "      <td>100.000000</td>\n",
       "      <td>100.000000</td>\n",
       "      <td>100.000000</td>\n",
       "      <td>100.000000</td>\n",
       "      <td>100.000000</td>\n",
       "      <td>...</td>\n",
       "      <td>101.120000</td>\n",
       "      <td>87.110000</td>\n",
       "      <td>0.000000</td>\n",
       "      <td>38.600000</td>\n",
       "      <td>84.070000</td>\n",
       "      <td>83.220000</td>\n",
       "      <td>1.800000</td>\n",
       "      <td>0.000000</td>\n",
       "      <td>1.760000</td>\n",
       "      <td>28.000000</td>\n",
       "    </tr>\n",
       "    <tr>\n",
       "      <th>50%</th>\n",
       "      <td>2.000000</td>\n",
       "      <td>1.000000</td>\n",
       "      <td>4.000000</td>\n",
       "      <td>100.000000</td>\n",
       "      <td>100.000000</td>\n",
       "      <td>100.000000</td>\n",
       "      <td>100.000000</td>\n",
       "      <td>100.000000</td>\n",
       "      <td>100.000000</td>\n",
       "      <td>100.000000</td>\n",
       "      <td>...</td>\n",
       "      <td>108.790000</td>\n",
       "      <td>98.040000</td>\n",
       "      <td>1.000000</td>\n",
       "      <td>45.900000</td>\n",
       "      <td>95.360000</td>\n",
       "      <td>94.970000</td>\n",
       "      <td>1.800000</td>\n",
       "      <td>0.000000</td>\n",
       "      <td>1.800000</td>\n",
       "      <td>28.000000</td>\n",
       "    </tr>\n",
       "    <tr>\n",
       "      <th>75%</th>\n",
       "      <td>2.000000</td>\n",
       "      <td>2.000000</td>\n",
       "      <td>4.000000</td>\n",
       "      <td>100.000000</td>\n",
       "      <td>100.000000</td>\n",
       "      <td>100.000000</td>\n",
       "      <td>100.000000</td>\n",
       "      <td>100.000000</td>\n",
       "      <td>100.000000</td>\n",
       "      <td>100.000000</td>\n",
       "      <td>...</td>\n",
       "      <td>122.250000</td>\n",
       "      <td>110.450000</td>\n",
       "      <td>2.000000</td>\n",
       "      <td>52.200000</td>\n",
       "      <td>105.570000</td>\n",
       "      <td>102.920000</td>\n",
       "      <td>1.880000</td>\n",
       "      <td>1.000000</td>\n",
       "      <td>1.840000</td>\n",
       "      <td>33.000000</td>\n",
       "    </tr>\n",
       "    <tr>\n",
       "      <th>max</th>\n",
       "      <td>2.000000</td>\n",
       "      <td>2.000000</td>\n",
       "      <td>4.000000</td>\n",
       "      <td>100.000000</td>\n",
       "      <td>100.000000</td>\n",
       "      <td>100.000000</td>\n",
       "      <td>100.000000</td>\n",
       "      <td>100.000000</td>\n",
       "      <td>100.000000</td>\n",
       "      <td>100.000000</td>\n",
       "      <td>...</td>\n",
       "      <td>122.250000</td>\n",
       "      <td>111.410000</td>\n",
       "      <td>10.000000</td>\n",
       "      <td>75.300000</td>\n",
       "      <td>134.650000</td>\n",
       "      <td>131.380000</td>\n",
       "      <td>15.000000</td>\n",
       "      <td>17.000000</td>\n",
       "      <td>15.000000</td>\n",
       "      <td>36.000000</td>\n",
       "    </tr>\n",
       "  </tbody>\n",
       "</table>\n",
       "<p>8 rows × 456 columns</p>\n",
       "</div>"
      ],
      "text/plain": [
       "          T1_Count     T2_Count  3T_RS-fMRI_Count  3T_RS-fMRI_PctCompl  \\\n",
       "count  1206.000000  1206.000000       1206.000000          1206.000000   \n",
       "mean      1.478441     1.400498          3.509950            87.213267   \n",
       "std       0.635688     0.628216          1.215181            31.027886   \n",
       "min       0.000000     0.000000          0.000000             0.000000   \n",
       "25%       1.000000     1.000000          4.000000           100.000000   \n",
       "50%       2.000000     1.000000          4.000000           100.000000   \n",
       "75%       2.000000     2.000000          4.000000           100.000000   \n",
       "max       2.000000     2.000000          4.000000           100.000000   \n",
       "\n",
       "       3T_tMRI_PctCompl  fMRI_WM_PctCompl  fMRI_Gamb_PctCompl  \\\n",
       "count       1206.000000       1206.000000         1206.000000   \n",
       "mean          88.219569         89.718076           89.852736   \n",
       "std           29.942161         30.384864           30.163559   \n",
       "min            0.000000          0.000000            0.000000   \n",
       "25%          100.000000        100.000000          100.000000   \n",
       "50%          100.000000        100.000000          100.000000   \n",
       "75%          100.000000        100.000000          100.000000   \n",
       "max          100.000000        100.000000          100.000000   \n",
       "\n",
       "       fMRI_Mot_PctCompl  fMRI_Lang_PctCompl  fMRI_Soc_PctCompl  ...  \\\n",
       "count        1206.000000         1206.000000        1206.000000  ...   \n",
       "mean           89.631675           87.027114          87.039801  ...   \n",
       "std            30.492092           33.566043          33.570248  ...   \n",
       "min             0.000000            0.000000           0.000000  ...   \n",
       "25%           100.000000          100.000000         100.000000  ...   \n",
       "50%           100.000000          100.000000         100.000000  ...   \n",
       "75%           100.000000          100.000000         100.000000  ...   \n",
       "max           100.000000          100.000000         100.000000  ...   \n",
       "\n",
       "        Odor_Unadj  Odor_AgeAdj  PainIntens_RawScore  PainInterf_Tscore  \\\n",
       "count  1204.000000  1204.000000          1201.000000        1205.000000   \n",
       "mean    110.421321    97.727500             1.449625          45.847718   \n",
       "std       9.107963    11.273251             1.783069           7.679288   \n",
       "min      82.740000    59.860000             0.000000          38.600000   \n",
       "25%     101.120000    87.110000             0.000000          38.600000   \n",
       "50%     108.790000    98.040000             1.000000          45.900000   \n",
       "75%     122.250000   110.450000             2.000000          52.200000   \n",
       "max     122.250000   111.410000            10.000000          75.300000   \n",
       "\n",
       "       Taste_Unadj  Taste_AgeAdj  Mars_Log_Score    Mars_Errs   Mars_Final  \\\n",
       "count  1200.000000   1200.000000     1198.000000  1195.000000  1195.000000   \n",
       "mean     95.166983     93.998533        1.845467     0.581590     1.822251   \n",
       "std      14.583412     14.837851        0.541393     0.973172     0.542893   \n",
       "min      56.350000     59.500000        1.560000     0.000000     1.080000   \n",
       "25%      84.070000     83.220000        1.800000     0.000000     1.760000   \n",
       "50%      95.360000     94.970000        1.800000     0.000000     1.800000   \n",
       "75%     105.570000    102.920000        1.880000     1.000000     1.840000   \n",
       "max     134.650000    131.380000       15.000000    17.000000    15.000000   \n",
       "\n",
       "               age  \n",
       "count  1206.000000  \n",
       "mean     28.904229  \n",
       "std       3.570475  \n",
       "min      23.500000  \n",
       "25%      28.000000  \n",
       "50%      28.000000  \n",
       "75%      33.000000  \n",
       "max      36.000000  \n",
       "\n",
       "[8 rows x 456 columns]"
      ]
     },
     "execution_count": 2,
     "metadata": {},
     "output_type": "execute_result"
    }
   ],
   "source": [
    "# HCP data can be obtained from the connectomeDB\n",
    "# data is not part of this repository\n",
    "subjectIDs = pd.read_csv('hcp_data/subjectIDs.txt', header=None)\n",
    "\n",
    "netmats_pearson = pd.read_csv('hcp_data/netmats1_correlationZ.txt',\n",
    "                             sep=' ',\n",
    "                             header=None)\n",
    "netmats_pearson['ID'] = subjectIDs[0]\n",
    "netmats_pearson.set_index('ID', drop=True, inplace=True)\n",
    "\n",
    "\n",
    "netmats_parcor = pd.read_csv('hcp_data/netmats2_partial-correlation.txt',\n",
    "                             sep=' ',\n",
    "                             header=None)\n",
    "netmats_parcor['ID'] = subjectIDs[0]\n",
    "netmats_parcor.set_index('ID', drop=True, inplace=True)\n",
    "\n",
    "behavior = pd.read_csv('hcp_data/hcp1200_behavioral_data.csv')\n",
    "behavior = behavior.set_index('Subject', drop=True)\n",
    "\n",
    "# convert age to numeric\n",
    "age = []\n",
    "for s in behavior['Age']:\n",
    "    if s == '36+':\n",
    "        age.append(36)\n",
    "    else:\n",
    "        split = s.split(sep='-')\n",
    "        age.append(np.mean((float(split[0]), float(split[1]))))\n",
    "\n",
    "behavior['age'] = age\n",
    "behavior.describe()"
   ]
  },
  {
   "cell_type": "markdown",
   "metadata": {},
   "source": [
    "# Helper function to prepare target variable\n"
   ]
  },
  {
   "cell_type": "code",
   "execution_count": 3,
   "metadata": {},
   "outputs": [],
   "source": [
    "def create_data(target='CogTotalComp_AgeAdj', feature_data=netmats_parcor):\n",
    "    # it's a good practice to use pandas for merging, messing up subject order can be painful\n",
    "    features = feature_data.columns\n",
    "    df = behavior\n",
    "    df = df.merge(feature_data, left_index=True, right_index=True, how='left')\n",
    "\n",
    "    df = df.dropna(subset = [target] + features.values.tolist())\n",
    "    y = df[target].values\n",
    "    X = df[features].values\n",
    "    return X, y"
   ]
  },
  {
   "cell_type": "markdown",
   "metadata": {},
   "source": [
    "# Helper function implementing a single bootstrap iteration\n",
    "\n",
    "We define a workhorse function which:\n",
    "- randomly samples the discovery and the replication datasets,\n",
    "- creates cross-validated estimates of predictive performance within the discovery sample\n",
    "- finalizes the model by fitting it to the whole discovery sample (overfits the discovery but not the replication sample)\n",
    "- use it to predict the replication sample"
   ]
  },
  {
   "cell_type": "code",
   "execution_count": 4,
   "metadata": {},
   "outputs": [],
   "source": [
    "def corr(X, Y):\n",
    "    # just a small wrapper function (pandas correlation is silent in \"unlucky\" bootstraps with constant values)\n",
    "    return pd.Series(X).corr( pd.Series(Y))\n",
    "\n",
    "def bootstrap_workhorse(X, y, sample_size, model, random_state, shuffle_y=False):\n",
    "\n",
    "    #create discovery and replication samples by random sampling from the whole dataset (without replacement)\n",
    "\n",
    "    # if shuffle_y is true, a null model is created bz permuting y\n",
    "    if shuffle_y:\n",
    "        rng = np.random.default_rng(random_state)\n",
    "        y = rng.permutation(y)\n",
    "\n",
    "    # sample the discovery and replication sets *without replacement* (with replacement introduces spurious dependencies)\n",
    "    X_discovery, X_replication, y_discovery, y_replication = train_test_split(X, y, train_size=sample_size, test_size=sample_size, shuffle=True, random_state=random_state)\n",
    "\n",
    "    # standard 10-fold cross-validation\n",
    "    cv = KFold(10)\n",
    "\n",
    "    # below we obtain cross-validated predictions in the discovery sample\n",
    "    predicted_discovery_cv = np.zeros_like(y_discovery)  # here we collect the predictions for each fold\n",
    "    cor_per_fold = np.zeros(cv.n_splits)  # here we collect the predictive performance in each fold\n",
    "    i = 0  # just a counter\n",
    "    for train, test in cv.split(X=X_discovery, y=y_discovery):  # loop to leave one fold out\n",
    "        model.fit(X=X_discovery[train], y=y_discovery[train]) # fit model to the training set\n",
    "        predicted_discovery_cv[test] = model.predict(X=X_discovery[test]) # use fitted model to predict teh test set\n",
    "        cor_per_fold[i] = corr(y_discovery[test], predicted_discovery_cv[test]) # calculate performance on tne test set\n",
    "        i += 1\n",
    "    # calculate mean test performance across all folds\n",
    "    r_disc_cv = np.mean(cor_per_fold)\n",
    "    # 'finalize' model by training it on the full discovery sample (without cross-validation)\n",
    "    final_model = model.fit(X=X_discovery, y=y_discovery)\n",
    "    # obtain predictions with the final model on the discovery sample, note that this model actually overfits this sample.\n",
    "    # we do this only to demonstrate biased estimates\n",
    "    predicted_discovery_overfit = final_model.predict(X=X_discovery)\n",
    "    # here we obtain the biased effect size (r) estimates for demonstrational purposes\n",
    "    r_disc_overfit = corr(predicted_discovery_overfit, y_discovery)\n",
    "\n",
    "    # We use the final model to predict the replication sample\n",
    "    # This is correct (no overfitting here), the final model did not see this data during training\n",
    "    predicted_replication = final_model.predict(X=X_replication)\n",
    "    # we obtain the out-of-sample prediction performance estimates\n",
    "    r_rep = corr(predicted_replication, y_replication)\n",
    "\n",
    "    # below we calculate permutation-based p-values for all three effect size estimates (in-sample unbiased, in-sample biased, out-of-sample)\n",
    "    # (one sided tests, testing for positive correlation)\n",
    "    p_disc_cv = permutation_test(predicted_discovery_cv, y_discovery, method='approximate', num_rounds=1000, func=lambda x, y: corr(x, y),seed=random_state)\n",
    "    p_disc_overfit = permutation_test(predicted_discovery_overfit, y_discovery, method='approximate', num_rounds=1000, func=lambda x, y: corr(x, y),seed=random_state)\n",
    "    p_rep = permutation_test(predicted_replication, y_replication, method='approximate', num_rounds=1000, func=lambda x, y: corr(x, y),seed=random_state)\n",
    "    # return results\n",
    "    return r_disc_cv, r_disc_overfit, r_rep, p_disc_cv, p_disc_overfit, p_rep"
   ]
  },
  {
   "cell_type": "markdown",
   "metadata": {},
   "source": [
    "All set, now we start the analysis."
   ]
  },
  {
   "cell_type": "markdown",
   "metadata": {},
   "source": [
    "# Replicability with sample sizes n=50, 100, 200, 300 and max\n",
    "Here we train a few different models on 100 bootstrap samples.\n",
    "\n",
    "We aggregate the results of our workhorse function in `n_bootstrap`=100 bootstrap cases (run in parallel).\n",
    "\n",
    "The whole process is repeated for all sample sizes, fetaure_sets and target variables.\n",
    "\n",
    "## Here we test all 33 variables, proposed by Marek et al. in their response."
   ]
  },
  {
   "cell_type": "code",
   "execution_count": 5,
   "metadata": {},
   "outputs": [],
   "source": [
    "targets = [\n",
    "#demographics\n",
    "    'age',\n",
    "# cognition\n",
    "    'MMSE_Score',\n",
    "    'PSQI_Score',\n",
    "    'PicSeq_AgeAdj',\n",
    "    'CardSort_AgeAdj',\n",
    "    'Flanker_AgeAdj',\n",
    "    'PMAT24_A_CR',\n",
    "    'CogFluidComp_AgeAdj',\n",
    "    'CogCrystalComp_AgeAdj',\n",
    "    'CogEarlyComp_AgeAdj',\n",
    "    'CogTotalComp_AgeAdj',\n",
    "    'ReadEng_AgeAdj',\n",
    "    'PicVocab_AgeAdj',\n",
    "    'ProcSpeed_AgeAdj',\n",
    "    'DDisc_AUC_200',\n",
    "    'VSPLOT_TC',\n",
    "    'SCPT_SEN',\n",
    "    'SCPT_SPEC',\n",
    "# memory\n",
    "    'IWRD_TOT',\n",
    "    'ListSort_AgeAdj',\n",
    "# emotion\n",
    "    'ER40ANG',\n",
    "    'ER40FEAR',\n",
    "    'ER40HAP',\n",
    "    'ER40NOE',\n",
    "    'ER40SAD',\n",
    "    'AngAffect_Unadj',\n",
    "    'AngHostil_Unadj',\n",
    "    'AngAggr_Unadj',\n",
    "    'FearAffect_Unadj',\n",
    "    'FearSomat_Unadj',\n",
    "    'FearSomat_Unadj',\n",
    "    'Sadness_Unadj',\n",
    "    'LifeSatisf_Unadj',\n",
    "    'MeanPurp_Unadj',\n",
    "    'PosAffect_Unadj',\n",
    "    'Friendship_Unadj',\n",
    "    'Loneliness_Unadj',\n",
    "    'PercHostil_Unadj',\n",
    "    'PercReject_Unadj',\n",
    "    'EmotSupp_Unadj',\n",
    "    'InstruSupp_Unadj',\n",
    "    'PercStress_Unadj',\n",
    "    'SelfEff_Unadj',\n",
    "    'Dexterity_AgeAdj',\n",
    " # personality\n",
    "    'NEOFAC_A',\n",
    "    'NEOFAC_O',\n",
    "    'NEOFAC_C',\n",
    "    'NEOFAC_N',\n",
    "    'NEOFAC_E',\n",
    "# sensory\n",
    "    'Noise_Comp',\n",
    "    'Odor_AgeAdj',\n",
    "    'PainInterf_Tscore',\n",
    "    'Taste_AgeAdj',\n",
    "    'Mars_Final'\n",
    "]"
   ]
  },
  {
   "cell_type": "markdown",
   "metadata": {},
   "source": [
    "# Now we fit a simple Ridge regression\n",
    "(no feature selection, no hyperparameter optimization)"
   ]
  },
  {
   "cell_type": "code",
   "execution_count": 6,
   "metadata": {},
   "outputs": [
    {
     "name": "stdout",
     "output_type": "stream",
     "text": [
      "*****************************************************************\n",
      "netmats_parcor ridge age max\n",
      "r discovery (with cv) : 0.48020846359551633 r replication: 0.48967065593640496\n",
      "Replicability at alpha = 0.05 : 100.0 %\n",
      "Replicability at alpha = 0.01 : 100.0 %\n",
      "Replicability at alpha = 0.005 : 100.0 %\n",
      "Replicability at alpha = 0.001 : 100.0 %\n",
      "*****************************************************************\n",
      "netmats_parcor ridge MMSE_Score max\n",
      "r discovery (with cv) : 0.11235242553787785 r replication: 0.12970357972616348\n",
      "Replicability at alpha = 0.05 : 89.87341772151899 %\n",
      "Replicability at alpha = 0.01 : 40.50632911392405 %\n",
      "Replicability at alpha = 0.005 : 25.31645569620253 %\n",
      "Replicability at alpha = 0.001 : 2.5316455696202533 %\n",
      "*****************************************************************\n",
      "netmats_parcor ridge PSQI_Score max\n",
      "r discovery (with cv) : 0.14291306988028807 r replication: 0.14519995923911966\n",
      "Replicability at alpha = 0.05 : 98.85057471264368 %\n",
      "Replicability at alpha = 0.01 : 72.41379310344827 %\n",
      "Replicability at alpha = 0.005 : 47.12643678160919 %\n",
      "Replicability at alpha = 0.001 : 16.091954022988507 %\n",
      "*****************************************************************\n",
      "netmats_parcor ridge PicSeq_AgeAdj max\n",
      "r discovery (with cv) : 0.18233069324505247 r replication: 0.18593093519593903\n",
      "Replicability at alpha = 0.05 : 100.0 %\n",
      "Replicability at alpha = 0.01 : 93.87755102040816 %\n",
      "Replicability at alpha = 0.005 : 90.81632653061224 %\n",
      "Replicability at alpha = 0.001 : 66.3265306122449 %\n",
      "*****************************************************************\n",
      "netmats_parcor ridge CardSort_AgeAdj max\n",
      "r discovery (with cv) : 0.1789658621130238 r replication: 0.18957693758366514\n",
      "Replicability at alpha = 0.05 : 100.0 %\n",
      "Replicability at alpha = 0.01 : 96.90721649484536 %\n",
      "Replicability at alpha = 0.005 : 91.75257731958763 %\n",
      "Replicability at alpha = 0.001 : 65.97938144329896 %\n",
      "*****************************************************************\n",
      "netmats_parcor ridge Flanker_AgeAdj max\n",
      "r discovery (with cv) : 0.1322612349491906 r replication: 0.14022631939127772\n",
      "Replicability at alpha = 0.05 : 98.87640449438202 %\n",
      "Replicability at alpha = 0.01 : 61.79775280898876 %\n",
      "Replicability at alpha = 0.005 : 42.69662921348314 %\n",
      "Replicability at alpha = 0.001 : 12.359550561797752 %\n",
      "*****************************************************************\n",
      "netmats_parcor ridge PMAT24_A_CR max\n",
      "r discovery (with cv) : 0.2922426473940083 r replication: 0.301492004778787\n",
      "Replicability at alpha = 0.05 : 100.0 %\n",
      "Replicability at alpha = 0.01 : 100.0 %\n",
      "Replicability at alpha = 0.005 : 100.0 %\n",
      "Replicability at alpha = 0.001 : 100.0 %\n",
      "*****************************************************************\n",
      "netmats_parcor ridge CogFluidComp_AgeAdj max\n",
      "r discovery (with cv) : 0.3049801718197025 r replication: 0.2996751646332102\n",
      "Replicability at alpha = 0.05 : 100.0 %\n",
      "Replicability at alpha = 0.01 : 100.0 %\n",
      "Replicability at alpha = 0.005 : 100.0 %\n",
      "Replicability at alpha = 0.001 : 100.0 %\n",
      "*****************************************************************\n",
      "netmats_parcor ridge CogCrystalComp_AgeAdj max\n",
      "r discovery (with cv) : 0.509356447724508 r replication: 0.5252483106948896\n",
      "Replicability at alpha = 0.05 : 100.0 %\n",
      "Replicability at alpha = 0.01 : 100.0 %\n",
      "Replicability at alpha = 0.005 : 100.0 %\n",
      "Replicability at alpha = 0.001 : 100.0 %\n",
      "*****************************************************************\n",
      "netmats_parcor ridge CogEarlyComp_AgeAdj max\n",
      "r discovery (with cv) : 0.35010656810589025 r replication: 0.346212766761039\n",
      "Replicability at alpha = 0.05 : 100.0 %\n",
      "Replicability at alpha = 0.01 : 100.0 %\n",
      "Replicability at alpha = 0.005 : 100.0 %\n",
      "Replicability at alpha = 0.001 : 100.0 %\n",
      "*****************************************************************\n",
      "netmats_parcor ridge CogTotalComp_AgeAdj max\n",
      "r discovery (with cv) : 0.4726518883300038 r replication: 0.47903946590450225\n",
      "Replicability at alpha = 0.05 : 100.0 %\n",
      "Replicability at alpha = 0.01 : 100.0 %\n",
      "Replicability at alpha = 0.005 : 100.0 %\n",
      "Replicability at alpha = 0.001 : 100.0 %\n",
      "*****************************************************************\n",
      "netmats_parcor ridge ReadEng_AgeAdj max\n",
      "r discovery (with cv) : 0.450867003576911 r replication: 0.46022188861700536\n",
      "Replicability at alpha = 0.05 : 100.0 %\n",
      "Replicability at alpha = 0.01 : 100.0 %\n",
      "Replicability at alpha = 0.005 : 100.0 %\n",
      "Replicability at alpha = 0.001 : 100.0 %\n",
      "*****************************************************************\n",
      "netmats_parcor ridge PicVocab_AgeAdj max\n",
      "r discovery (with cv) : 0.4748017798587243 r replication: 0.4784423901738578\n",
      "Replicability at alpha = 0.05 : 100.0 %\n",
      "Replicability at alpha = 0.01 : 100.0 %\n",
      "Replicability at alpha = 0.005 : 100.0 %\n",
      "Replicability at alpha = 0.001 : 100.0 %\n",
      "*****************************************************************\n",
      "netmats_parcor ridge ProcSpeed_AgeAdj max\n",
      "r discovery (with cv) : 0.11764068520351804 r replication: 0.12249903623335612\n",
      "Replicability at alpha = 0.05 : 84.61538461538461 %\n",
      "Replicability at alpha = 0.01 : 38.46153846153847 %\n",
      "Replicability at alpha = 0.005 : 21.794871794871796 %\n",
      "Replicability at alpha = 0.001 : 2.564102564102564 %\n",
      "*****************************************************************\n",
      "netmats_parcor ridge DDisc_AUC_200 max\n",
      "r discovery (with cv) : 0.20884491911824618 r replication: 0.20706209788397087\n",
      "Replicability at alpha = 0.05 : 100.0 %\n",
      "Replicability at alpha = 0.01 : 99.0 %\n",
      "Replicability at alpha = 0.005 : 95.0 %\n",
      "Replicability at alpha = 0.001 : 83.0 %\n",
      "*****************************************************************\n",
      "netmats_parcor ridge VSPLOT_TC max\n",
      "r discovery (with cv) : 0.33041854229644096 r replication: 0.3361466183063388\n",
      "Replicability at alpha = 0.05 : 100.0 %\n",
      "Replicability at alpha = 0.01 : 100.0 %\n",
      "Replicability at alpha = 0.005 : 100.0 %\n",
      "Replicability at alpha = 0.001 : 100.0 %\n",
      "*****************************************************************\n",
      "netmats_parcor ridge SCPT_SEN max\n",
      "r discovery (with cv) : 0.004953219542766921 r replication: 0.005954925720074722\n",
      "Replicability at alpha = 0.05 : 0.0 %\n",
      "Replicability at alpha = 0.01 : 0.0 %\n",
      "Replicability at alpha = 0.005 : 0.0 %\n",
      "Replicability at alpha = 0.001 : 0.0 %\n",
      "*****************************************************************\n",
      "netmats_parcor ridge SCPT_SPEC max\n",
      "r discovery (with cv) : 0.1483580336589026 r replication: 0.15543127763406267\n",
      "Replicability at alpha = 0.05 : 100.0 %\n",
      "Replicability at alpha = 0.01 : 78.02197802197803 %\n",
      "Replicability at alpha = 0.005 : 57.14285714285714 %\n",
      "Replicability at alpha = 0.001 : 26.373626373626376 %\n",
      "*****************************************************************\n",
      "netmats_parcor ridge IWRD_TOT max\n",
      "r discovery (with cv) : 0.0810183743864671 r replication: 0.0739403812147235\n",
      "Replicability at alpha = 0.05 : 36.53846153846153 %\n",
      "Replicability at alpha = 0.01 : 3.8461538461538463 %\n",
      "Replicability at alpha = 0.005 : 0.0 %\n",
      "Replicability at alpha = 0.001 : 0.0 %\n",
      "*****************************************************************\n",
      "netmats_parcor ridge ListSort_AgeAdj max\n",
      "r discovery (with cv) : 0.27262179944410553 r replication: 0.27629338784789925\n",
      "Replicability at alpha = 0.05 : 100.0 %\n",
      "Replicability at alpha = 0.01 : 100.0 %\n",
      "Replicability at alpha = 0.005 : 100.0 %\n",
      "Replicability at alpha = 0.001 : 100.0 %\n",
      "*****************************************************************\n",
      "netmats_parcor ridge ER40ANG max\n",
      "r discovery (with cv) : 0.07290919946421724 r replication: 0.07930980325318832\n",
      "Replicability at alpha = 0.05 : 44.680851063829785 %\n",
      "Replicability at alpha = 0.01 : 2.127659574468085 %\n",
      "Replicability at alpha = 0.005 : 2.127659574468085 %\n",
      "Replicability at alpha = 0.001 : 0.0 %\n",
      "*****************************************************************\n",
      "netmats_parcor ridge ER40FEAR max\n",
      "r discovery (with cv) : 0.033788344197422604 r replication: 0.03217012035635588\n",
      "Replicability at alpha = 0.05 : 0.0 %\n",
      "Replicability at alpha = 0.01 : 0.0 %\n",
      "Replicability at alpha = 0.005 : 0.0 %\n",
      "Replicability at alpha = 0.001 : 0.0 %\n",
      "*****************************************************************\n",
      "netmats_parcor ridge ER40HAP max\n",
      "r discovery (with cv) : -0.05910616789376827 r replication: -0.040972411502727554\n",
      "Replicability at alpha = 0.05 : nan %\n",
      "Replicability at alpha = 0.01 : nan %\n",
      "Replicability at alpha = 0.005 : nan %\n",
      "Replicability at alpha = 0.001 : nan %\n",
      "*****************************************************************\n",
      "netmats_parcor ridge ER40NOE max\n"
     ]
    },
    {
     "name": "stderr",
     "output_type": "stream",
     "text": [
      "<timed exec>:58: RuntimeWarning: invalid value encountered in long_scalars\n"
     ]
    },
    {
     "name": "stdout",
     "output_type": "stream",
     "text": [
      "r discovery (with cv) : 0.05015028148085295 r replication: 0.05477097859212915\n",
      "Replicability at alpha = 0.05 : 16.666666666666664 %\n",
      "Replicability at alpha = 0.01 : 0.0 %\n",
      "Replicability at alpha = 0.005 : 0.0 %\n",
      "Replicability at alpha = 0.001 : 0.0 %\n",
      "*****************************************************************\n",
      "netmats_parcor ridge ER40SAD max\n",
      "r discovery (with cv) : 0.03355879047628217 r replication: 0.043958511763540556\n",
      "Replicability at alpha = 0.05 : 10.0 %\n",
      "Replicability at alpha = 0.01 : 0.0 %\n",
      "Replicability at alpha = 0.005 : 0.0 %\n",
      "Replicability at alpha = 0.001 : 0.0 %\n",
      "*****************************************************************\n",
      "netmats_parcor ridge AngAffect_Unadj max\n",
      "r discovery (with cv) : 0.09675041204325666 r replication: 0.097384559509148\n",
      "Replicability at alpha = 0.05 : 69.23076923076923 %\n",
      "Replicability at alpha = 0.01 : 12.307692307692308 %\n",
      "Replicability at alpha = 0.005 : 1.5384615384615385 %\n",
      "Replicability at alpha = 0.001 : 0.0 %\n",
      "*****************************************************************\n",
      "netmats_parcor ridge AngHostil_Unadj max\n",
      "r discovery (with cv) : 0.06336555348912118 r replication: 0.07505183534895289\n",
      "Replicability at alpha = 0.05 : 41.02564102564102 %\n",
      "Replicability at alpha = 0.01 : 2.564102564102564 %\n",
      "Replicability at alpha = 0.005 : 2.564102564102564 %\n",
      "Replicability at alpha = 0.001 : 0.0 %\n",
      "*****************************************************************\n",
      "netmats_parcor ridge AngAggr_Unadj max\n",
      "r discovery (with cv) : 0.19405555852511736 r replication: 0.20052370789491036\n",
      "Replicability at alpha = 0.05 : 100.0 %\n",
      "Replicability at alpha = 0.01 : 95.0 %\n",
      "Replicability at alpha = 0.005 : 93.0 %\n",
      "Replicability at alpha = 0.001 : 77.0 %\n",
      "*****************************************************************\n",
      "netmats_parcor ridge FearAffect_Unadj max\n",
      "r discovery (with cv) : 0.15563217224852452 r replication: 0.15122577808620358\n",
      "Replicability at alpha = 0.05 : 100.0 %\n",
      "Replicability at alpha = 0.01 : 77.01149425287356 %\n",
      "Replicability at alpha = 0.005 : 66.66666666666666 %\n",
      "Replicability at alpha = 0.001 : 29.88505747126437 %\n",
      "*****************************************************************\n",
      "netmats_parcor ridge FearSomat_Unadj max\n",
      "r discovery (with cv) : 0.061101136887113376 r replication: 0.054246596855310567\n",
      "Replicability at alpha = 0.05 : 14.285714285714285 %\n",
      "Replicability at alpha = 0.01 : 0.0 %\n",
      "Replicability at alpha = 0.005 : 0.0 %\n",
      "Replicability at alpha = 0.001 : 0.0 %\n",
      "*****************************************************************\n",
      "netmats_parcor ridge FearSomat_Unadj max\n",
      "r discovery (with cv) : 0.061101136887113376 r replication: 0.054246596855310567\n",
      "Replicability at alpha = 0.05 : 14.285714285714285 %\n",
      "Replicability at alpha = 0.01 : 0.0 %\n",
      "Replicability at alpha = 0.005 : 0.0 %\n",
      "Replicability at alpha = 0.001 : 0.0 %\n",
      "*****************************************************************\n",
      "netmats_parcor ridge Sadness_Unadj max\n",
      "r discovery (with cv) : 0.1327824232969155 r replication: 0.1244556654760563\n",
      "Replicability at alpha = 0.05 : 94.04761904761905 %\n",
      "Replicability at alpha = 0.01 : 54.761904761904766 %\n",
      "Replicability at alpha = 0.005 : 35.714285714285715 %\n",
      "Replicability at alpha = 0.001 : 7.142857142857142 %\n",
      "*****************************************************************\n",
      "netmats_parcor ridge LifeSatisf_Unadj max\n",
      "r discovery (with cv) : 0.19873341230892952 r replication: 0.18440610179827896\n",
      "Replicability at alpha = 0.05 : 100.0 %\n",
      "Replicability at alpha = 0.01 : 95.87628865979381 %\n",
      "Replicability at alpha = 0.005 : 92.78350515463917 %\n",
      "Replicability at alpha = 0.001 : 67.0103092783505 %\n",
      "*****************************************************************\n",
      "netmats_parcor ridge MeanPurp_Unadj max\n",
      "r discovery (with cv) : 0.09984748458857128 r replication: 0.08905980179359992\n",
      "Replicability at alpha = 0.05 : 50.76923076923077 %\n",
      "Replicability at alpha = 0.01 : 15.384615384615385 %\n",
      "Replicability at alpha = 0.005 : 4.615384615384616 %\n",
      "Replicability at alpha = 0.001 : 0.0 %\n",
      "*****************************************************************\n",
      "netmats_parcor ridge PosAffect_Unadj max\n",
      "r discovery (with cv) : 0.09883821052746254 r replication: 0.08771575790081709\n",
      "Replicability at alpha = 0.05 : 55.223880597014926 %\n",
      "Replicability at alpha = 0.01 : 10.44776119402985 %\n",
      "Replicability at alpha = 0.005 : 5.970149253731343 %\n",
      "Replicability at alpha = 0.001 : 0.0 %\n",
      "*****************************************************************\n",
      "netmats_parcor ridge Friendship_Unadj max\n",
      "r discovery (with cv) : 0.08531254415798344 r replication: 0.08428001338641648\n",
      "Replicability at alpha = 0.05 : 44.0 %\n",
      "Replicability at alpha = 0.01 : 10.0 %\n",
      "Replicability at alpha = 0.005 : 4.0 %\n",
      "Replicability at alpha = 0.001 : 2.0 %\n",
      "*****************************************************************\n",
      "netmats_parcor ridge Loneliness_Unadj max\n",
      "r discovery (with cv) : 0.10181181257724871 r replication: 0.10338556615021999\n",
      "Replicability at alpha = 0.05 : 71.66666666666667 %\n",
      "Replicability at alpha = 0.01 : 26.666666666666668 %\n",
      "Replicability at alpha = 0.005 : 6.666666666666667 %\n",
      "Replicability at alpha = 0.001 : 0.0 %\n",
      "*****************************************************************\n",
      "netmats_parcor ridge PercHostil_Unadj max\n",
      "r discovery (with cv) : 0.037622230965088856 r replication: 0.04500642736764501\n",
      "Replicability at alpha = 0.05 : 0.0 %\n",
      "Replicability at alpha = 0.01 : 0.0 %\n",
      "Replicability at alpha = 0.005 : 0.0 %\n",
      "Replicability at alpha = 0.001 : 0.0 %\n",
      "*****************************************************************\n",
      "netmats_parcor ridge PercReject_Unadj max\n",
      "r discovery (with cv) : 0.03688725729680184 r replication: 0.03543635186966549\n",
      "Replicability at alpha = 0.05 : 4.3478260869565215 %\n",
      "Replicability at alpha = 0.01 : 0.0 %\n",
      "Replicability at alpha = 0.005 : 0.0 %\n",
      "Replicability at alpha = 0.001 : 0.0 %\n",
      "*****************************************************************\n",
      "netmats_parcor ridge EmotSupp_Unadj max\n",
      "r discovery (with cv) : 0.1260287186553436 r replication: 0.12226413039802284\n",
      "Replicability at alpha = 0.05 : 96.55172413793103 %\n",
      "Replicability at alpha = 0.01 : 43.67816091954023 %\n",
      "Replicability at alpha = 0.005 : 28.735632183908045 %\n",
      "Replicability at alpha = 0.001 : 9.195402298850574 %\n",
      "*****************************************************************\n",
      "netmats_parcor ridge InstruSupp_Unadj max\n",
      "r discovery (with cv) : 0.04191974313059748 r replication: 0.03262089935367679\n",
      "Replicability at alpha = 0.05 : 4.166666666666666 %\n",
      "Replicability at alpha = 0.01 : 0.0 %\n",
      "Replicability at alpha = 0.005 : 0.0 %\n",
      "Replicability at alpha = 0.001 : 0.0 %\n",
      "*****************************************************************\n",
      "netmats_parcor ridge PercStress_Unadj max\n",
      "r discovery (with cv) : 0.10021102140816969 r replication: 0.09269067112373008\n",
      "Replicability at alpha = 0.05 : 62.5 %\n",
      "Replicability at alpha = 0.01 : 14.0625 %\n",
      "Replicability at alpha = 0.005 : 6.25 %\n",
      "Replicability at alpha = 0.001 : 0.0 %\n",
      "*****************************************************************\n",
      "netmats_parcor ridge SelfEff_Unadj max\n",
      "r discovery (with cv) : 0.09990355623342788 r replication: 0.10774220880935355\n",
      "Replicability at alpha = 0.05 : 81.81818181818183 %\n",
      "Replicability at alpha = 0.01 : 28.78787878787879 %\n",
      "Replicability at alpha = 0.005 : 12.121212121212121 %\n",
      "Replicability at alpha = 0.001 : 1.5151515151515151 %\n",
      "*****************************************************************\n",
      "netmats_parcor ridge Dexterity_AgeAdj max\n",
      "r discovery (with cv) : 0.1698377324671013 r replication: 0.16739913235673143\n",
      "Replicability at alpha = 0.05 : 98.9247311827957 %\n",
      "Replicability at alpha = 0.01 : 88.17204301075269 %\n",
      "Replicability at alpha = 0.005 : 81.72043010752688 %\n",
      "Replicability at alpha = 0.001 : 51.61290322580645 %\n",
      "*****************************************************************\n",
      "netmats_parcor ridge NEOFAC_A max\n",
      "r discovery (with cv) : 0.19226360180293334 r replication: 0.2105816660368088\n",
      "Replicability at alpha = 0.05 : 100.0 %\n",
      "Replicability at alpha = 0.01 : 97.95918367346938 %\n",
      "Replicability at alpha = 0.005 : 94.89795918367348 %\n",
      "Replicability at alpha = 0.001 : 82.6530612244898 %\n",
      "*****************************************************************\n",
      "netmats_parcor ridge NEOFAC_O max\n",
      "r discovery (with cv) : 0.26505077367461527 r replication: 0.28578623242498713\n",
      "Replicability at alpha = 0.05 : 100.0 %\n",
      "Replicability at alpha = 0.01 : 100.0 %\n",
      "Replicability at alpha = 0.005 : 100.0 %\n",
      "Replicability at alpha = 0.001 : 98.0 %\n",
      "*****************************************************************\n",
      "netmats_parcor ridge NEOFAC_C max\n",
      "r discovery (with cv) : 0.17973714484091477 r replication: 0.19354830382121097\n",
      "Replicability at alpha = 0.05 : 100.0 %\n",
      "Replicability at alpha = 0.01 : 92.78350515463917 %\n",
      "Replicability at alpha = 0.005 : 90.72164948453609 %\n",
      "Replicability at alpha = 0.001 : 64.94845360824742 %\n",
      "*****************************************************************\n",
      "netmats_parcor ridge NEOFAC_N max\n",
      "r discovery (with cv) : 0.07314281912604746 r replication: 0.06696149072259926\n",
      "Replicability at alpha = 0.05 : 40.0 %\n",
      "Replicability at alpha = 0.01 : 2.0 %\n",
      "Replicability at alpha = 0.005 : 2.0 %\n",
      "Replicability at alpha = 0.001 : 0.0 %\n",
      "*****************************************************************\n",
      "netmats_parcor ridge NEOFAC_E max\n",
      "r discovery (with cv) : 0.15791961819822467 r replication: 0.16447031944134946\n",
      "Replicability at alpha = 0.05 : 98.93617021276596 %\n",
      "Replicability at alpha = 0.01 : 84.04255319148936 %\n",
      "Replicability at alpha = 0.005 : 70.2127659574468 %\n",
      "Replicability at alpha = 0.001 : 35.1063829787234 %\n",
      "*****************************************************************\n",
      "netmats_parcor ridge Noise_Comp max\n",
      "r discovery (with cv) : 0.13754389395248953 r replication: 0.13277944361089927\n",
      "Replicability at alpha = 0.05 : 97.67441860465115 %\n",
      "Replicability at alpha = 0.01 : 62.7906976744186 %\n",
      "Replicability at alpha = 0.005 : 46.51162790697674 %\n",
      "Replicability at alpha = 0.001 : 10.465116279069768 %\n",
      "*****************************************************************\n",
      "netmats_parcor ridge Odor_AgeAdj max\n",
      "r discovery (with cv) : 0.03422255970866912 r replication: 0.019033276660184433\n",
      "Replicability at alpha = 0.05 : 0.0 %\n",
      "Replicability at alpha = 0.01 : 0.0 %\n",
      "Replicability at alpha = 0.005 : 0.0 %\n",
      "Replicability at alpha = 0.001 : 0.0 %\n",
      "*****************************************************************\n",
      "netmats_parcor ridge PainInterf_Tscore max\n",
      "r discovery (with cv) : 0.03274152032524882 r replication: 0.03329128578051491\n",
      "Replicability at alpha = 0.05 : 0.0 %\n",
      "Replicability at alpha = 0.01 : 0.0 %\n",
      "Replicability at alpha = 0.005 : 0.0 %\n",
      "Replicability at alpha = 0.001 : 0.0 %\n",
      "*****************************************************************\n",
      "netmats_parcor ridge Taste_AgeAdj max\n",
      "r discovery (with cv) : 0.0944194746807131 r replication: 0.08063900075841376\n",
      "Replicability at alpha = 0.05 : 43.103448275862064 %\n",
      "Replicability at alpha = 0.01 : 5.172413793103448 %\n",
      "Replicability at alpha = 0.005 : 0.0 %\n",
      "Replicability at alpha = 0.001 : 0.0 %\n",
      "*****************************************************************\n",
      "netmats_parcor ridge Mars_Final max\n",
      "r discovery (with cv) : 0.0815295729161019 r replication: 0.02266341772170401\n",
      "Replicability at alpha = 0.05 : 6.666666666666667 %\n",
      "Replicability at alpha = 0.01 : 0.0 %\n",
      "Replicability at alpha = 0.005 : 0.0 %\n",
      "Replicability at alpha = 0.001 : 0.0 %\n",
      "CPU times: user 38 s, sys: 5.9 s, total: 43.9 s\n",
      "Wall time: 44min 5s\n"
     ]
    },
    {
     "data": {
      "text/html": [
       "<div>\n",
       "<style scoped>\n",
       "    .dataframe tbody tr th:only-of-type {\n",
       "        vertical-align: middle;\n",
       "    }\n",
       "\n",
       "    .dataframe tbody tr th {\n",
       "        vertical-align: top;\n",
       "    }\n",
       "\n",
       "    .dataframe thead th {\n",
       "        text-align: right;\n",
       "    }\n",
       "</style>\n",
       "<table border=\"1\" class=\"dataframe\">\n",
       "  <thead>\n",
       "    <tr style=\"text-align: right;\">\n",
       "      <th></th>\n",
       "      <th>connectivity</th>\n",
       "      <th>model</th>\n",
       "      <th>target</th>\n",
       "      <th>n</th>\n",
       "      <th>r_discovery_cv</th>\n",
       "      <th>r_discovery_overfit</th>\n",
       "      <th>r_replication</th>\n",
       "      <th>p_discovery_cv</th>\n",
       "      <th>p_discovery_overfit</th>\n",
       "      <th>p_replication</th>\n",
       "    </tr>\n",
       "  </thead>\n",
       "  <tbody>\n",
       "    <tr>\n",
       "      <th>0</th>\n",
       "      <td>netmats_parcor</td>\n",
       "      <td>ridge</td>\n",
       "      <td>age</td>\n",
       "      <td>501</td>\n",
       "      <td>0.480679</td>\n",
       "      <td>1.0</td>\n",
       "      <td>0.514760</td>\n",
       "      <td>0.000999</td>\n",
       "      <td>0.000999</td>\n",
       "      <td>0.000999</td>\n",
       "    </tr>\n",
       "    <tr>\n",
       "      <th>1</th>\n",
       "      <td>netmats_parcor</td>\n",
       "      <td>ridge</td>\n",
       "      <td>age</td>\n",
       "      <td>501</td>\n",
       "      <td>0.477272</td>\n",
       "      <td>1.0</td>\n",
       "      <td>0.455021</td>\n",
       "      <td>0.000999</td>\n",
       "      <td>0.000999</td>\n",
       "      <td>0.000999</td>\n",
       "    </tr>\n",
       "    <tr>\n",
       "      <th>2</th>\n",
       "      <td>netmats_parcor</td>\n",
       "      <td>ridge</td>\n",
       "      <td>age</td>\n",
       "      <td>501</td>\n",
       "      <td>0.528641</td>\n",
       "      <td>1.0</td>\n",
       "      <td>0.482612</td>\n",
       "      <td>0.000999</td>\n",
       "      <td>0.000999</td>\n",
       "      <td>0.000999</td>\n",
       "    </tr>\n",
       "    <tr>\n",
       "      <th>3</th>\n",
       "      <td>netmats_parcor</td>\n",
       "      <td>ridge</td>\n",
       "      <td>age</td>\n",
       "      <td>501</td>\n",
       "      <td>0.488856</td>\n",
       "      <td>1.0</td>\n",
       "      <td>0.502899</td>\n",
       "      <td>0.000999</td>\n",
       "      <td>0.000999</td>\n",
       "      <td>0.000999</td>\n",
       "    </tr>\n",
       "    <tr>\n",
       "      <th>4</th>\n",
       "      <td>netmats_parcor</td>\n",
       "      <td>ridge</td>\n",
       "      <td>age</td>\n",
       "      <td>501</td>\n",
       "      <td>0.429166</td>\n",
       "      <td>1.0</td>\n",
       "      <td>0.530274</td>\n",
       "      <td>0.000999</td>\n",
       "      <td>0.000999</td>\n",
       "      <td>0.000999</td>\n",
       "    </tr>\n",
       "    <tr>\n",
       "      <th>...</th>\n",
       "      <td>...</td>\n",
       "      <td>...</td>\n",
       "      <td>...</td>\n",
       "      <td>...</td>\n",
       "      <td>...</td>\n",
       "      <td>...</td>\n",
       "      <td>...</td>\n",
       "      <td>...</td>\n",
       "      <td>...</td>\n",
       "      <td>...</td>\n",
       "    </tr>\n",
       "    <tr>\n",
       "      <th>5395</th>\n",
       "      <td>netmats_parcor</td>\n",
       "      <td>ridge</td>\n",
       "      <td>Mars_Final</td>\n",
       "      <td>499</td>\n",
       "      <td>0.090619</td>\n",
       "      <td>1.0</td>\n",
       "      <td>0.031658</td>\n",
       "      <td>0.069930</td>\n",
       "      <td>0.000999</td>\n",
       "      <td>0.115884</td>\n",
       "    </tr>\n",
       "    <tr>\n",
       "      <th>5396</th>\n",
       "      <td>netmats_parcor</td>\n",
       "      <td>ridge</td>\n",
       "      <td>Mars_Final</td>\n",
       "      <td>499</td>\n",
       "      <td>0.005679</td>\n",
       "      <td>1.0</td>\n",
       "      <td>0.038146</td>\n",
       "      <td>0.565435</td>\n",
       "      <td>0.000999</td>\n",
       "      <td>0.147852</td>\n",
       "    </tr>\n",
       "    <tr>\n",
       "      <th>5397</th>\n",
       "      <td>netmats_parcor</td>\n",
       "      <td>ridge</td>\n",
       "      <td>Mars_Final</td>\n",
       "      <td>499</td>\n",
       "      <td>0.017233</td>\n",
       "      <td>1.0</td>\n",
       "      <td>0.057484</td>\n",
       "      <td>0.449550</td>\n",
       "      <td>0.000999</td>\n",
       "      <td>0.106893</td>\n",
       "    </tr>\n",
       "    <tr>\n",
       "      <th>5398</th>\n",
       "      <td>netmats_parcor</td>\n",
       "      <td>ridge</td>\n",
       "      <td>Mars_Final</td>\n",
       "      <td>499</td>\n",
       "      <td>0.009701</td>\n",
       "      <td>1.0</td>\n",
       "      <td>0.005276</td>\n",
       "      <td>0.526474</td>\n",
       "      <td>0.000999</td>\n",
       "      <td>0.400599</td>\n",
       "    </tr>\n",
       "    <tr>\n",
       "      <th>5399</th>\n",
       "      <td>netmats_parcor</td>\n",
       "      <td>ridge</td>\n",
       "      <td>Mars_Final</td>\n",
       "      <td>499</td>\n",
       "      <td>-0.032289</td>\n",
       "      <td>1.0</td>\n",
       "      <td>0.017725</td>\n",
       "      <td>0.723277</td>\n",
       "      <td>0.000999</td>\n",
       "      <td>0.254745</td>\n",
       "    </tr>\n",
       "  </tbody>\n",
       "</table>\n",
       "<p>5400 rows × 10 columns</p>\n",
       "</div>"
      ],
      "text/plain": [
       "        connectivity  model      target    n  r_discovery_cv  \\\n",
       "0     netmats_parcor  ridge         age  501        0.480679   \n",
       "1     netmats_parcor  ridge         age  501        0.477272   \n",
       "2     netmats_parcor  ridge         age  501        0.528641   \n",
       "3     netmats_parcor  ridge         age  501        0.488856   \n",
       "4     netmats_parcor  ridge         age  501        0.429166   \n",
       "...              ...    ...         ...  ...             ...   \n",
       "5395  netmats_parcor  ridge  Mars_Final  499        0.090619   \n",
       "5396  netmats_parcor  ridge  Mars_Final  499        0.005679   \n",
       "5397  netmats_parcor  ridge  Mars_Final  499        0.017233   \n",
       "5398  netmats_parcor  ridge  Mars_Final  499        0.009701   \n",
       "5399  netmats_parcor  ridge  Mars_Final  499       -0.032289   \n",
       "\n",
       "      r_discovery_overfit  r_replication  p_discovery_cv  p_discovery_overfit  \\\n",
       "0                     1.0       0.514760        0.000999             0.000999   \n",
       "1                     1.0       0.455021        0.000999             0.000999   \n",
       "2                     1.0       0.482612        0.000999             0.000999   \n",
       "3                     1.0       0.502899        0.000999             0.000999   \n",
       "4                     1.0       0.530274        0.000999             0.000999   \n",
       "...                   ...            ...             ...                  ...   \n",
       "5395                  1.0       0.031658        0.069930             0.000999   \n",
       "5396                  1.0       0.038146        0.565435             0.000999   \n",
       "5397                  1.0       0.057484        0.449550             0.000999   \n",
       "5398                  1.0       0.005276        0.526474             0.000999   \n",
       "5399                  1.0       0.017725        0.723277             0.000999   \n",
       "\n",
       "      p_replication  \n",
       "0          0.000999  \n",
       "1          0.000999  \n",
       "2          0.000999  \n",
       "3          0.000999  \n",
       "4          0.000999  \n",
       "...             ...  \n",
       "5395       0.115884  \n",
       "5396       0.147852  \n",
       "5397       0.106893  \n",
       "5398       0.400599  \n",
       "5399       0.254745  \n",
       "\n",
       "[5400 rows x 10 columns]"
      ]
     },
     "execution_count": 6,
     "metadata": {},
     "output_type": "execute_result"
    }
   ],
   "source": [
    "%%time\n",
    "\n",
    "random_state = 42\n",
    "n_bootstrap = 100\n",
    "\n",
    "features = {\n",
    "    'netmats_parcor': netmats_parcor#,\n",
    "    #'netmats_pearson': netmats_pearson\n",
    "}\n",
    "\n",
    "models = {\n",
    "    'ridge': Ridge()\n",
    "}\n",
    "\n",
    "# We aggregate all results here:\n",
    "df = pd.DataFrame(columns=['connectivity','model','target','n','r_discovery_cv','r_discovery_overfit','r_replication','p_discovery_cv','p_discovery_overfit','p_replication'])\n",
    "\n",
    "for feature_set in features:\n",
    "    for model in models:\n",
    "        for target_var in targets:\n",
    "            for sample_size in ['max']:\n",
    "\n",
    "                print('*****************************************************************')\n",
    "                print(feature_set, model, target_var, sample_size)\n",
    "\n",
    "                X, y = create_data(target=target_var, feature_data=features[feature_set])\n",
    "\n",
    "                if sample_size=='max':\n",
    "                    sample_size = int(len(y)/2)\n",
    "\n",
    "                # create random seeds for each bootstrap iteration for reproducibility\n",
    "                rng = np.random.default_rng(random_state)\n",
    "                random_sates = rng.integers(np.iinfo(np.int32).max, size=n_bootstrap)\n",
    "\n",
    "                # run bootstrap iterations in parallel\n",
    "                r_discovery_cv, r_discovery_overfit, r_replication, p_discovery_cv, p_discovery_overfit, p_replication = zip(\n",
    "                    *Parallel(n_jobs=-1)(\n",
    "                    delayed(bootstrap_workhorse)(X, y, sample_size, models[model], seed) for seed in random_sates))\n",
    "\n",
    "                tmp_data_frame = pd.DataFrame({\n",
    "                    'connectivity' : feature_set,\n",
    "                    'model' : model,\n",
    "                    'target' : target_var,\n",
    "                    'n' : sample_size,\n",
    "                    'r_discovery_cv': r_discovery_cv,\n",
    "                    'r_discovery_overfit': r_discovery_overfit,\n",
    "                    'r_replication': r_replication,\n",
    "                    'p_discovery_cv': p_discovery_cv,\n",
    "                    'p_discovery_overfit': p_discovery_overfit,\n",
    "                    'p_replication': p_replication\n",
    "                })\n",
    "                #sns.scatterplot(x='r_replication', y='r_discovery_cv', data=tmp_data_frame)\n",
    "                #plt.ylabel('in-sample (r)')\n",
    "                #plt.xlabel('out-of-sample (r_pred)')\n",
    "                #plt.show()\n",
    "                print('r discovery (with cv) :', tmp_data_frame.r_discovery_cv.mean(), 'r replication:', tmp_data_frame.r_replication.mean())\n",
    "\n",
    "                for alpha in [0.05, 0.01, 0.005, 0.001]:\n",
    "                    print('Replicability at alpha =', alpha, ':',\n",
    "                          (tmp_data_frame.loc[tmp_data_frame['p_discovery_cv']<alpha,'p_replication']<alpha).sum() / (tmp_data_frame['p_discovery_cv']<0.05).sum() * 100, '%')\n",
    "\n",
    "                df = pd.concat((df, tmp_data_frame))\n",
    "                df.reset_index(drop=True, inplace=True)\n",
    "                df.to_csv('res/revised_results_Ridge.csv')\n",
    "\n",
    "df\n"
   ]
  },
  {
   "cell_type": "code",
   "execution_count": 7,
   "metadata": {},
   "outputs": [
    {
     "data": {
      "text/html": [
       "<div>\n",
       "<style scoped>\n",
       "    .dataframe tbody tr th:only-of-type {\n",
       "        vertical-align: middle;\n",
       "    }\n",
       "\n",
       "    .dataframe tbody tr th {\n",
       "        vertical-align: top;\n",
       "    }\n",
       "\n",
       "    .dataframe thead th {\n",
       "        text-align: right;\n",
       "    }\n",
       "</style>\n",
       "<table border=\"1\" class=\"dataframe\">\n",
       "  <thead>\n",
       "    <tr style=\"text-align: right;\">\n",
       "      <th></th>\n",
       "      <th></th>\n",
       "      <th></th>\n",
       "      <th></th>\n",
       "      <th>r_discovery_cv</th>\n",
       "      <th>r_replication</th>\n",
       "    </tr>\n",
       "    <tr>\n",
       "      <th>connectivity</th>\n",
       "      <th>model</th>\n",
       "      <th>target</th>\n",
       "      <th>n</th>\n",
       "      <th></th>\n",
       "      <th></th>\n",
       "    </tr>\n",
       "  </thead>\n",
       "  <tbody>\n",
       "    <tr>\n",
       "      <th rowspan=\"53\" valign=\"top\">netmats_parcor</th>\n",
       "      <th rowspan=\"53\" valign=\"top\">ridge</th>\n",
       "      <th>AngAffect_Unadj</th>\n",
       "      <th>501</th>\n",
       "      <td>0.096750</td>\n",
       "      <td>0.097385</td>\n",
       "    </tr>\n",
       "    <tr>\n",
       "      <th>AngAggr_Unadj</th>\n",
       "      <th>501</th>\n",
       "      <td>0.194056</td>\n",
       "      <td>0.200524</td>\n",
       "    </tr>\n",
       "    <tr>\n",
       "      <th>AngHostil_Unadj</th>\n",
       "      <th>501</th>\n",
       "      <td>0.063366</td>\n",
       "      <td>0.075052</td>\n",
       "    </tr>\n",
       "    <tr>\n",
       "      <th>CardSort_AgeAdj</th>\n",
       "      <th>500</th>\n",
       "      <td>0.178966</td>\n",
       "      <td>0.189577</td>\n",
       "    </tr>\n",
       "    <tr>\n",
       "      <th>CogCrystalComp_AgeAdj</th>\n",
       "      <th>499</th>\n",
       "      <td>0.509356</td>\n",
       "      <td>0.525248</td>\n",
       "    </tr>\n",
       "    <tr>\n",
       "      <th>CogEarlyComp_AgeAdj</th>\n",
       "      <th>497</th>\n",
       "      <td>0.350107</td>\n",
       "      <td>0.346213</td>\n",
       "    </tr>\n",
       "    <tr>\n",
       "      <th>CogFluidComp_AgeAdj</th>\n",
       "      <th>496</th>\n",
       "      <td>0.304980</td>\n",
       "      <td>0.299675</td>\n",
       "    </tr>\n",
       "    <tr>\n",
       "      <th>CogTotalComp_AgeAdj</th>\n",
       "      <th>495</th>\n",
       "      <td>0.472652</td>\n",
       "      <td>0.479039</td>\n",
       "    </tr>\n",
       "    <tr>\n",
       "      <th>DDisc_AUC_200</th>\n",
       "      <th>500</th>\n",
       "      <td>0.208845</td>\n",
       "      <td>0.207062</td>\n",
       "    </tr>\n",
       "    <tr>\n",
       "      <th>Dexterity_AgeAdj</th>\n",
       "      <th>501</th>\n",
       "      <td>0.169838</td>\n",
       "      <td>0.167399</td>\n",
       "    </tr>\n",
       "    <tr>\n",
       "      <th>ER40ANG</th>\n",
       "      <th>500</th>\n",
       "      <td>0.072909</td>\n",
       "      <td>0.079310</td>\n",
       "    </tr>\n",
       "    <tr>\n",
       "      <th>ER40FEAR</th>\n",
       "      <th>500</th>\n",
       "      <td>0.033788</td>\n",
       "      <td>0.032170</td>\n",
       "    </tr>\n",
       "    <tr>\n",
       "      <th>ER40HAP</th>\n",
       "      <th>500</th>\n",
       "      <td>-0.059106</td>\n",
       "      <td>-0.040972</td>\n",
       "    </tr>\n",
       "    <tr>\n",
       "      <th>ER40NOE</th>\n",
       "      <th>500</th>\n",
       "      <td>0.050150</td>\n",
       "      <td>0.054771</td>\n",
       "    </tr>\n",
       "    <tr>\n",
       "      <th>ER40SAD</th>\n",
       "      <th>500</th>\n",
       "      <td>0.033559</td>\n",
       "      <td>0.043959</td>\n",
       "    </tr>\n",
       "    <tr>\n",
       "      <th>EmotSupp_Unadj</th>\n",
       "      <th>501</th>\n",
       "      <td>0.126029</td>\n",
       "      <td>0.122264</td>\n",
       "    </tr>\n",
       "    <tr>\n",
       "      <th>FearAffect_Unadj</th>\n",
       "      <th>501</th>\n",
       "      <td>0.155632</td>\n",
       "      <td>0.151226</td>\n",
       "    </tr>\n",
       "    <tr>\n",
       "      <th>FearSomat_Unadj</th>\n",
       "      <th>501</th>\n",
       "      <td>0.061101</td>\n",
       "      <td>0.054247</td>\n",
       "    </tr>\n",
       "    <tr>\n",
       "      <th>Flanker_AgeAdj</th>\n",
       "      <th>501</th>\n",
       "      <td>0.132261</td>\n",
       "      <td>0.140226</td>\n",
       "    </tr>\n",
       "    <tr>\n",
       "      <th>Friendship_Unadj</th>\n",
       "      <th>501</th>\n",
       "      <td>0.085313</td>\n",
       "      <td>0.084280</td>\n",
       "    </tr>\n",
       "    <tr>\n",
       "      <th>IWRD_TOT</th>\n",
       "      <th>500</th>\n",
       "      <td>0.081018</td>\n",
       "      <td>0.073940</td>\n",
       "    </tr>\n",
       "    <tr>\n",
       "      <th>InstruSupp_Unadj</th>\n",
       "      <th>501</th>\n",
       "      <td>0.041920</td>\n",
       "      <td>0.032621</td>\n",
       "    </tr>\n",
       "    <tr>\n",
       "      <th>LifeSatisf_Unadj</th>\n",
       "      <th>501</th>\n",
       "      <td>0.198733</td>\n",
       "      <td>0.184406</td>\n",
       "    </tr>\n",
       "    <tr>\n",
       "      <th>ListSort_AgeAdj</th>\n",
       "      <th>501</th>\n",
       "      <td>0.272622</td>\n",
       "      <td>0.276293</td>\n",
       "    </tr>\n",
       "    <tr>\n",
       "      <th>Loneliness_Unadj</th>\n",
       "      <th>501</th>\n",
       "      <td>0.101812</td>\n",
       "      <td>0.103386</td>\n",
       "    </tr>\n",
       "    <tr>\n",
       "      <th>MMSE_Score</th>\n",
       "      <th>501</th>\n",
       "      <td>0.112352</td>\n",
       "      <td>0.129704</td>\n",
       "    </tr>\n",
       "    <tr>\n",
       "      <th>Mars_Final</th>\n",
       "      <th>499</th>\n",
       "      <td>0.081530</td>\n",
       "      <td>0.022663</td>\n",
       "    </tr>\n",
       "    <tr>\n",
       "      <th>MeanPurp_Unadj</th>\n",
       "      <th>501</th>\n",
       "      <td>0.099847</td>\n",
       "      <td>0.089060</td>\n",
       "    </tr>\n",
       "    <tr>\n",
       "      <th>NEOFAC_A</th>\n",
       "      <th>500</th>\n",
       "      <td>0.192264</td>\n",
       "      <td>0.210582</td>\n",
       "    </tr>\n",
       "    <tr>\n",
       "      <th>NEOFAC_C</th>\n",
       "      <th>500</th>\n",
       "      <td>0.179737</td>\n",
       "      <td>0.193548</td>\n",
       "    </tr>\n",
       "    <tr>\n",
       "      <th>NEOFAC_E</th>\n",
       "      <th>500</th>\n",
       "      <td>0.157920</td>\n",
       "      <td>0.164470</td>\n",
       "    </tr>\n",
       "    <tr>\n",
       "      <th>NEOFAC_N</th>\n",
       "      <th>500</th>\n",
       "      <td>0.073143</td>\n",
       "      <td>0.066961</td>\n",
       "    </tr>\n",
       "    <tr>\n",
       "      <th>NEOFAC_O</th>\n",
       "      <th>500</th>\n",
       "      <td>0.265051</td>\n",
       "      <td>0.285786</td>\n",
       "    </tr>\n",
       "    <tr>\n",
       "      <th>Noise_Comp</th>\n",
       "      <th>498</th>\n",
       "      <td>0.137544</td>\n",
       "      <td>0.132779</td>\n",
       "    </tr>\n",
       "    <tr>\n",
       "      <th>Odor_AgeAdj</th>\n",
       "      <th>500</th>\n",
       "      <td>0.034223</td>\n",
       "      <td>0.019033</td>\n",
       "    </tr>\n",
       "    <tr>\n",
       "      <th>PMAT24_A_CR</th>\n",
       "      <th>499</th>\n",
       "      <td>0.292243</td>\n",
       "      <td>0.301492</td>\n",
       "    </tr>\n",
       "    <tr>\n",
       "      <th>PSQI_Score</th>\n",
       "      <th>501</th>\n",
       "      <td>0.142913</td>\n",
       "      <td>0.145200</td>\n",
       "    </tr>\n",
       "    <tr>\n",
       "      <th>PainInterf_Tscore</th>\n",
       "      <th>501</th>\n",
       "      <td>0.032742</td>\n",
       "      <td>0.033291</td>\n",
       "    </tr>\n",
       "    <tr>\n",
       "      <th>PercHostil_Unadj</th>\n",
       "      <th>501</th>\n",
       "      <td>0.037622</td>\n",
       "      <td>0.045006</td>\n",
       "    </tr>\n",
       "    <tr>\n",
       "      <th>PercReject_Unadj</th>\n",
       "      <th>501</th>\n",
       "      <td>0.036887</td>\n",
       "      <td>0.035436</td>\n",
       "    </tr>\n",
       "    <tr>\n",
       "      <th>PercStress_Unadj</th>\n",
       "      <th>501</th>\n",
       "      <td>0.100211</td>\n",
       "      <td>0.092691</td>\n",
       "    </tr>\n",
       "    <tr>\n",
       "      <th>PicSeq_AgeAdj</th>\n",
       "      <th>501</th>\n",
       "      <td>0.182331</td>\n",
       "      <td>0.185931</td>\n",
       "    </tr>\n",
       "    <tr>\n",
       "      <th>PicVocab_AgeAdj</th>\n",
       "      <th>501</th>\n",
       "      <td>0.474802</td>\n",
       "      <td>0.478442</td>\n",
       "    </tr>\n",
       "    <tr>\n",
       "      <th>PosAffect_Unadj</th>\n",
       "      <th>501</th>\n",
       "      <td>0.098838</td>\n",
       "      <td>0.087716</td>\n",
       "    </tr>\n",
       "    <tr>\n",
       "      <th>ProcSpeed_AgeAdj</th>\n",
       "      <th>501</th>\n",
       "      <td>0.117641</td>\n",
       "      <td>0.122499</td>\n",
       "    </tr>\n",
       "    <tr>\n",
       "      <th>ReadEng_AgeAdj</th>\n",
       "      <th>501</th>\n",
       "      <td>0.450867</td>\n",
       "      <td>0.460222</td>\n",
       "    </tr>\n",
       "    <tr>\n",
       "      <th>SCPT_SEN</th>\n",
       "      <th>500</th>\n",
       "      <td>0.004953</td>\n",
       "      <td>0.005955</td>\n",
       "    </tr>\n",
       "    <tr>\n",
       "      <th>SCPT_SPEC</th>\n",
       "      <th>500</th>\n",
       "      <td>0.148358</td>\n",
       "      <td>0.155431</td>\n",
       "    </tr>\n",
       "    <tr>\n",
       "      <th>Sadness_Unadj</th>\n",
       "      <th>501</th>\n",
       "      <td>0.132782</td>\n",
       "      <td>0.124456</td>\n",
       "    </tr>\n",
       "    <tr>\n",
       "      <th>SelfEff_Unadj</th>\n",
       "      <th>501</th>\n",
       "      <td>0.099904</td>\n",
       "      <td>0.107742</td>\n",
       "    </tr>\n",
       "    <tr>\n",
       "      <th>Taste_AgeAdj</th>\n",
       "      <th>499</th>\n",
       "      <td>0.094419</td>\n",
       "      <td>0.080639</td>\n",
       "    </tr>\n",
       "    <tr>\n",
       "      <th>VSPLOT_TC</th>\n",
       "      <th>500</th>\n",
       "      <td>0.330419</td>\n",
       "      <td>0.336147</td>\n",
       "    </tr>\n",
       "    <tr>\n",
       "      <th>age</th>\n",
       "      <th>501</th>\n",
       "      <td>0.480208</td>\n",
       "      <td>0.489671</td>\n",
       "    </tr>\n",
       "  </tbody>\n",
       "</table>\n",
       "</div>"
      ],
      "text/plain": [
       "                                                r_discovery_cv  r_replication\n",
       "connectivity   model target                n                                 \n",
       "netmats_parcor ridge AngAffect_Unadj       501        0.096750       0.097385\n",
       "                     AngAggr_Unadj         501        0.194056       0.200524\n",
       "                     AngHostil_Unadj       501        0.063366       0.075052\n",
       "                     CardSort_AgeAdj       500        0.178966       0.189577\n",
       "                     CogCrystalComp_AgeAdj 499        0.509356       0.525248\n",
       "                     CogEarlyComp_AgeAdj   497        0.350107       0.346213\n",
       "                     CogFluidComp_AgeAdj   496        0.304980       0.299675\n",
       "                     CogTotalComp_AgeAdj   495        0.472652       0.479039\n",
       "                     DDisc_AUC_200         500        0.208845       0.207062\n",
       "                     Dexterity_AgeAdj      501        0.169838       0.167399\n",
       "                     ER40ANG               500        0.072909       0.079310\n",
       "                     ER40FEAR              500        0.033788       0.032170\n",
       "                     ER40HAP               500       -0.059106      -0.040972\n",
       "                     ER40NOE               500        0.050150       0.054771\n",
       "                     ER40SAD               500        0.033559       0.043959\n",
       "                     EmotSupp_Unadj        501        0.126029       0.122264\n",
       "                     FearAffect_Unadj      501        0.155632       0.151226\n",
       "                     FearSomat_Unadj       501        0.061101       0.054247\n",
       "                     Flanker_AgeAdj        501        0.132261       0.140226\n",
       "                     Friendship_Unadj      501        0.085313       0.084280\n",
       "                     IWRD_TOT              500        0.081018       0.073940\n",
       "                     InstruSupp_Unadj      501        0.041920       0.032621\n",
       "                     LifeSatisf_Unadj      501        0.198733       0.184406\n",
       "                     ListSort_AgeAdj       501        0.272622       0.276293\n",
       "                     Loneliness_Unadj      501        0.101812       0.103386\n",
       "                     MMSE_Score            501        0.112352       0.129704\n",
       "                     Mars_Final            499        0.081530       0.022663\n",
       "                     MeanPurp_Unadj        501        0.099847       0.089060\n",
       "                     NEOFAC_A              500        0.192264       0.210582\n",
       "                     NEOFAC_C              500        0.179737       0.193548\n",
       "                     NEOFAC_E              500        0.157920       0.164470\n",
       "                     NEOFAC_N              500        0.073143       0.066961\n",
       "                     NEOFAC_O              500        0.265051       0.285786\n",
       "                     Noise_Comp            498        0.137544       0.132779\n",
       "                     Odor_AgeAdj           500        0.034223       0.019033\n",
       "                     PMAT24_A_CR           499        0.292243       0.301492\n",
       "                     PSQI_Score            501        0.142913       0.145200\n",
       "                     PainInterf_Tscore     501        0.032742       0.033291\n",
       "                     PercHostil_Unadj      501        0.037622       0.045006\n",
       "                     PercReject_Unadj      501        0.036887       0.035436\n",
       "                     PercStress_Unadj      501        0.100211       0.092691\n",
       "                     PicSeq_AgeAdj         501        0.182331       0.185931\n",
       "                     PicVocab_AgeAdj       501        0.474802       0.478442\n",
       "                     PosAffect_Unadj       501        0.098838       0.087716\n",
       "                     ProcSpeed_AgeAdj      501        0.117641       0.122499\n",
       "                     ReadEng_AgeAdj        501        0.450867       0.460222\n",
       "                     SCPT_SEN              500        0.004953       0.005955\n",
       "                     SCPT_SPEC             500        0.148358       0.155431\n",
       "                     Sadness_Unadj         501        0.132782       0.124456\n",
       "                     SelfEff_Unadj         501        0.099904       0.107742\n",
       "                     Taste_AgeAdj          499        0.094419       0.080639\n",
       "                     VSPLOT_TC             500        0.330419       0.336147\n",
       "                     age                   501        0.480208       0.489671"
      ]
     },
     "execution_count": 7,
     "metadata": {},
     "output_type": "execute_result"
    }
   ],
   "source": [
    "df.groupby(['connectivity', 'model', 'target', 'n']).mean()[['r_discovery_cv', 'r_replication']]"
   ]
  },
  {
   "cell_type": "code",
   "execution_count": 8,
   "metadata": {},
   "outputs": [
    {
     "name": "stderr",
     "output_type": "stream",
     "text": [
      "/tmp/ipykernel_36906/164144980.py:8: RuntimeWarning: invalid value encountered in long_scalars\n",
      "  return (x.loc[x['p_discovery_cv']<alpha,'p_replication']<alpha).sum() / (x['p_discovery_cv']<0.05).sum() * 100\n",
      "/tmp/ipykernel_36906/164144980.py:12: FutureWarning: The default value of numeric_only in DataFrameGroupBy.mean is deprecated. In a future version, numeric_only will default to False. Either specify numeric_only or select only columns which should be valid for the function.\n",
      "  df_plot['r_discovery'] = df[df.connectivity=='netmats_parcor'].groupby('target').mean()['r_discovery_cv']\n"
     ]
    },
    {
     "data": {
      "image/png": "[encoded data removed]",
      "text/plain": [
       "<Figure size 1400x200 with 1 Axes>"
      ]
     },
     "metadata": {},
     "output_type": "display_data"
    }
   ],
   "source": [
    "sns.set(rc={\"figure.figsize\":(14, 2)})\n",
    "sns.set_style(\"white\")\n",
    "\n",
    "phenotypes = pd.read_csv('hcp_data/phenotypes-of-interest.csv').iloc[:, 1:]\n",
    "phenotypes = phenotypes.drop([2,3]) # Age duplicates\n",
    "\n",
    "def prep(x, alpha=0.05):\n",
    "    return (x.loc[x['p_discovery_cv']<alpha,'p_replication']<alpha).sum() / (x['p_discovery_cv']<0.05).sum() * 100\n",
    "\n",
    "df_plot = pd.DataFrame(df[df.connectivity=='netmats_parcor'].groupby('target').apply(prep))\n",
    "\n",
    "df_plot['r_discovery'] = df[df.connectivity=='netmats_parcor'].groupby('target').mean()['r_discovery_cv']\n",
    "df_plot = df_plot[df_plot.index!='age']                       \n",
    "                       \n",
    "df_plot['category'] = ''\n",
    "df_plot['phenotype'] = df_plot.index\n",
    "\n",
    "for i in df_plot.index:\n",
    "    df_plot.loc[i, 'category'] = phenotypes.loc[phenotypes.columnHeader==i, 'category'].values[0]\n",
    "\n",
    "                       \n",
    "df_plot = df_plot.sort_values(by='r_discovery', ascending=False)                      \n",
    "                       \n",
    "pal = \"muted\"\n",
    "my_colormap = [\n",
    "              sns.color_palette(pal)[4],\n",
    "              sns.color_palette(pal)[0], # cognition\n",
    "              sns.color_palette(pal)[3], # emotion\n",
    "              sns.color_palette(pal)[2], # dexterity\n",
    "              sns.color_palette(pal)[1], # big5\n",
    "              sns.color_palette(pal)[5], # sensory\n",
    "              sns.color_palette(pal)[6], # ?\n",
    "              sns.color_palette(pal)[3]]\n",
    "colors = []\n",
    "for code in pd.Categorical(df_plot.category).codes:\n",
    "    colors.append(my_colormap[code])\n",
    "\n",
    "ax=sns.barplot(data=df_plot, x='phenotype', y=0, palette=colors)\n",
    "plt.xticks(rotation=90)\n",
    "ax.axhline(80, color='black', linestyle=':')\n",
    "plt.savefig('fig/replicability_all_phenotypes.pdf')"
   ]
  },
  {
   "cell_type": "code",
   "execution_count": 9,
   "metadata": {},
   "outputs": [
    {
     "data": {
      "image/png": "[encoded data removed]",
      "text/plain": [
       "<Figure size 1400x200 with 1 Axes>"
      ]
     },
     "metadata": {},
     "output_type": "display_data"
    }
   ],
   "source": [
    "ax=sns.barplot(data=df_plot, x='phenotype', y='r_discovery', palette=colors)\n",
    "plt.xticks(rotation=90)\n",
    "ax.axhline(0.074, color='black', linestyle=':') # parametric one-sided significance threshold\n",
    "ax.axhline(0, color='black')\n",
    "plt.savefig('fig/r_discovery_all_phenotypes.pdf')"
   ]
  },
  {
   "cell_type": "code",
   "execution_count": 26,
   "metadata": {},
   "outputs": [
    {
     "data": {
      "application/vnd.plotly.v1+json": {
       "config": {
        "plotlyServerURL": "https://plot.ly"
       },
       "data": [
        {
         "alignmentgroup": "True",
         "cliponaxis": false,
         "customdata": [
          [
           "Cognition",
           "NIH Toolbox Cognition Crystallized Composite: Age Adjusted Scale Score",
           0.509356447724508
          ],
          [
           "Cognition",
           "NIH Toolbox Picture Vocabulary Test: Age-Adjusted Scale Score",
           0.47480177985872424
          ],
          [
           "Cognition",
           "NIH Toolbox Cognition Total Composite Score: Age Adjusted Scale Score",
           0.4726518883300038
          ],
          [
           "Cognition",
           "NIH Toolbox Oral Reading Recognition Test: Age-Adjusted Scale Score",
           0.45086700357691106
          ],
          [
           "Cognition",
           "NIH Toolbox Cognition Early Childhood Composite: Age Adjusted Scale Score",
           0.35010656810589036
          ],
          [
           "Cognition",
           "Variable Short Penn Line Orientation: Total Number Correct (VSPLOT_TC)",
           0.33041854229644096
          ],
          [
           "Cognition",
           "NIH Toolbox Cognition Fluid Composite: Age Adjusted Scale Score",
           0.30498017181970244
          ],
          [
           "Cognition",
           "Penn Progressive Matrices: Number of Correct Responses (PMAT24_A_CR)",
           0.29224264739400835
          ],
          [
           "Cognition",
           "NIH Toolbox List Sorting Working Memory Test: Age-Adjusted Scale Score",
           0.27262179944410553
          ],
          [
           "Cognition",
           "Delay Discounting: Area Under the Curve for Discounting of $200 (DDisc_AUC_200)",
           0.20884491911824618
          ],
          [
           "Cognition",
           "NIH Toolbox Picture Sequence Memory Test: Age-Adjusted Scale Score",
           0.18233069324505244
          ],
          [
           "Cognition",
           "NIH Toolbox Dimensional Change Card Sort Test: Age-Adjusted Scale Score",
           0.1789658621130238
          ],
          [
           "Cognition",
           "Short Penn Continuous Performance Test: Specificity = SCPT_TN/(SCPT_TN + SCPT_FP) (SCPT_SPEC)",
           0.1483580336589026
          ],
          [
           "Cognition",
           "NIH Toolbox Flanker Inhibitory Control and Attention Test: Age-Adjusted Scale Score",
           0.1322612349491906
          ],
          [
           "Cognition",
           "NIH Toolbox Pattern Comparison Processing Speed Test: Age-Adjusted Scale Score",
           0.11764068520351804
          ],
          [
           "Cognition",
           "Penn Word Memory Test: Total Number of Correct Responses (IWRD_TOT)",
           0.0810183743864671
          ],
          [
           "Cognition",
           "Short Penn Continuous Performance Test: Sensitivity = SCPT_TP/(SCPT_TP + SCPT_FN) (SCPT_SEN)",
           0.004953219542766921
          ]
         ],
         "hovertemplate": "category=%{customdata[0]}<br>phenotype=%{x}<br>$P_{rep}$=%{y}<br>phenotype_long=%{customdata[1]}<br>r_discovery=%{customdata[2]}<extra></extra>",
         "legendgroup": "Cognition",
         "marker": {
          "color": "#636efa",
          "pattern": {
           "shape": ""
          }
         },
         "name": "Cognition",
         "offsetgroup": "Cognition",
         "orientation": "v",
         "showlegend": true,
         "textangle": 0,
         "textfont": {
          "size": 12
         },
         "textposition": "outside",
         "texttemplate": "%{y:.2s}",
         "type": "bar",
         "x": [
          "CogCrystalComp_AgeAdj",
          "PicVocab_AgeAdj",
          "CogTotalComp_AgeAdj",
          "ReadEng_AgeAdj",
          "CogEarlyComp_AgeAdj",
          "VSPLOT_TC",
          "CogFluidComp_AgeAdj",
          "PMAT24_A_CR",
          "ListSort_AgeAdj",
          "DDisc_AUC_200",
          "PicSeq_AgeAdj",
          "CardSort_AgeAdj",
          "SCPT_SPEC",
          "Flanker_AgeAdj",
          "ProcSpeed_AgeAdj",
          "IWRD_TOT",
          "SCPT_SEN"
         ],
         "xaxis": "x",
         "y": [
          100,
          100,
          100,
          100,
          100,
          100,
          100,
          100,
          100,
          100,
          100,
          100,
          100,
          98.87640449438202,
          84.61538461538461,
          36.53846153846153,
          0
         ],
         "yaxis": "y"
        },
        {
         "alignmentgroup": "True",
         "cliponaxis": false,
         "customdata": [
          [
           "Personality",
           "NEO-FFI Openness to Experience (NEOFAC_O)",
           0.2650507736746153
          ],
          [
           "Personality",
           "NEO-FFI Agreeableness (NEOFAC_A)",
           0.1922636018029333
          ],
          [
           "Personality",
           "NEO-FFI Conscientiousness (NEOFAC_C)",
           0.17973714484091477
          ],
          [
           "Personality",
           "NEO-FFI Extraversion (NEOFAC_E)",
           0.1579196181982247
          ],
          [
           "Personality",
           "NEO-FFI Neuroticism (NEOFAC_N)",
           0.07314281912604746
          ]
         ],
         "hovertemplate": "category=%{customdata[0]}<br>phenotype=%{x}<br>$P_{rep}$=%{y}<br>phenotype_long=%{customdata[1]}<br>r_discovery=%{customdata[2]}<extra></extra>",
         "legendgroup": "Personality",
         "marker": {
          "color": "#EF553B",
          "pattern": {
           "shape": ""
          }
         },
         "name": "Personality",
         "offsetgroup": "Personality",
         "orientation": "v",
         "showlegend": true,
         "textangle": 0,
         "textfont": {
          "size": 12
         },
         "textposition": "outside",
         "texttemplate": "%{y:.2s}",
         "type": "bar",
         "x": [
          "NEOFAC_O",
          "NEOFAC_A",
          "NEOFAC_C",
          "NEOFAC_E",
          "NEOFAC_N"
         ],
         "xaxis": "x",
         "y": [
          100,
          100,
          100,
          98.93617021276596,
          40
         ],
         "yaxis": "y"
        },
        {
         "alignmentgroup": "True",
         "cliponaxis": false,
         "customdata": [
          [
           "Emotion",
           "NIH Toolbox General Life Satisfaction Survey: Unadjusted Scale Score",
           0.19873341230892946
          ],
          [
           "Emotion",
           "NIH Toolbox Anger-Physical Aggression Survey: Unadjusted Scale Score",
           0.19405555852511744
          ],
          [
           "Emotion",
           "NIH Toolbox Fear-Affect Survey: Unadjusted Scale Score",
           0.15563217224852446
          ],
          [
           "Emotion",
           "NIH Toolbox Sadness Survey: Unadjusted Scale Score",
           0.13278242329691545
          ],
          [
           "Emotion",
           "NIH Toolbox Emotional Support Survey: Unadjusted Scale Score",
           0.1260287186553436
          ],
          [
           "Emotion",
           "NIH Toolbox Loneliness Survey: Unadjusted Scale Score",
           0.10181181257724871
          ],
          [
           "Emotion",
           "NIH Toolbox Perceived Stress Survey: Unadjusted Scale Score",
           0.10021102140816972
          ],
          [
           "Emotion",
           "NIH Toolbox Self-Efficacy Survey: Unadjusted Scale Score",
           0.09990355623342786
          ],
          [
           "Emotion",
           "NIH Toolbox Meaning and Purpose Survey: Unadjusted Scale Score",
           0.09984748458857128
          ],
          [
           "Emotion",
           "NIH Toolbox Positive Affect Survey: Unadjusted Scale Score",
           0.09883821052746253
          ],
          [
           "Emotion",
           "NIH Toolbox Anger-Affect Survey: Unadjusted Scale Score",
           0.09675041204325666
          ],
          [
           "Emotion",
           "NIH Toolbox Friendship Survey: Unadjusted Scale Score",
           0.08531254415798345
          ],
          [
           "Emotion",
           "Penn Emotion Recognition Test: Number of Correct Anger Identifications (ER40ANG)",
           0.07290919946421724
          ],
          [
           "Emotion",
           "NIH Toolbox Anger-Hostility Survey: Unadjusted Scale Score",
           0.06336555348912117
          ],
          [
           "Emotion",
           "NIH Toolbox Fear-Somatic Arousal Survey: Unadjusted Scale Score",
           0.06110113688711337
          ],
          [
           "Emotion",
           "Penn Emotion Recognition Test: Number of Correct Neutral Identifications (ER40NOE)",
           0.05015028148085295
          ],
          [
           "Emotion",
           "NIH Toolbox Instrumental Support Survey: Unadjusted Scale Score",
           0.04191974313059747
          ],
          [
           "Emotion",
           "NIH Toolbox Perceived Hostility Survey: Unadjusted Scale Score",
           0.03762223096508886
          ],
          [
           "Emotion",
           "NIH Toolbox Perceived Rejection Survey: Unadjusted Scale Score",
           0.03688725729680184
          ],
          [
           "Emotion",
           "Penn Emotion Recognition Test: Number of Correct Fear Identifications (ER40FEAR)",
           0.033788344197422604
          ],
          [
           "Emotion",
           "Penn Emotion Recognition Test: Number of Correct Sad Identifications (ER40SAD)",
           0.03355879047628218
          ],
          [
           "Emotion",
           "Penn Emotion Recognition Test: Number of Correct Happy Identifications (ER40HAP)",
           -0.05910616789376827
          ]
         ],
         "hovertemplate": "category=%{customdata[0]}<br>phenotype=%{x}<br>$P_{rep}$=%{y}<br>phenotype_long=%{customdata[1]}<br>r_discovery=%{customdata[2]}<extra></extra>",
         "legendgroup": "Emotion",
         "marker": {
          "color": "#00cc96",
          "pattern": {
           "shape": ""
          }
         },
         "name": "Emotion",
         "offsetgroup": "Emotion",
         "orientation": "v",
         "showlegend": true,
         "textangle": 0,
         "textfont": {
          "size": 12
         },
         "textposition": "outside",
         "texttemplate": "%{y:.2s}",
         "type": "bar",
         "x": [
          "LifeSatisf_Unadj",
          "AngAggr_Unadj",
          "FearAffect_Unadj",
          "Sadness_Unadj",
          "EmotSupp_Unadj",
          "Loneliness_Unadj",
          "PercStress_Unadj",
          "SelfEff_Unadj",
          "MeanPurp_Unadj",
          "PosAffect_Unadj",
          "AngAffect_Unadj",
          "Friendship_Unadj",
          "ER40ANG",
          "AngHostil_Unadj",
          "FearSomat_Unadj",
          "ER40NOE",
          "InstruSupp_Unadj",
          "PercHostil_Unadj",
          "PercReject_Unadj",
          "ER40FEAR",
          "ER40SAD",
          "ER40HAP"
         ],
         "xaxis": "x",
         "y": [
          100,
          100,
          100,
          94.04761904761905,
          96.55172413793103,
          71.66666666666667,
          62.5,
          81.81818181818183,
          50.76923076923077,
          55.223880597014926,
          69.23076923076923,
          44,
          44.680851063829785,
          41.02564102564102,
          14.285714285714285,
          16.666666666666664,
          4.166666666666666,
          0,
          4.3478260869565215,
          0,
          10,
          null
         ],
         "yaxis": "y"
        },
        {
         "alignmentgroup": "True",
         "cliponaxis": false,
         "customdata": [
          [
           "Motor",
           "NIH Toolbox 9-hole Pegboard Dexterity Test : Age-Adjusted Scale Score",
           0.1698377324671013
          ]
         ],
         "hovertemplate": "category=%{customdata[0]}<br>phenotype=%{x}<br>$P_{rep}$=%{y}<br>phenotype_long=%{customdata[1]}<br>r_discovery=%{customdata[2]}<extra></extra>",
         "legendgroup": "Motor",
         "marker": {
          "color": "#ab63fa",
          "pattern": {
           "shape": ""
          }
         },
         "name": "Motor",
         "offsetgroup": "Motor",
         "orientation": "v",
         "showlegend": true,
         "textangle": 0,
         "textfont": {
          "size": 12
         },
         "textposition": "outside",
         "texttemplate": "%{y:.2s}",
         "type": "bar",
         "x": [
          "Dexterity_AgeAdj"
         ],
         "xaxis": "x",
         "y": [
          98.9247311827957
         ],
         "yaxis": "y"
        },
        {
         "alignmentgroup": "True",
         "cliponaxis": false,
         "customdata": [
          [
           "Alertness",
           "Sleep (Pittsburgh Sleep Questionnaire) Total Score",
           0.14291306988028807
          ],
          [
           "Alertness",
           "Mini Mental Status Exam Total Score",
           0.11235242553787785
          ]
         ],
         "hovertemplate": "category=%{customdata[0]}<br>phenotype=%{x}<br>$P_{rep}$=%{y}<br>phenotype_long=%{customdata[1]}<br>r_discovery=%{customdata[2]}<extra></extra>",
         "legendgroup": "Alertness",
         "marker": {
          "color": "#FFA15A",
          "pattern": {
           "shape": ""
          }
         },
         "name": "Alertness",
         "offsetgroup": "Alertness",
         "orientation": "v",
         "showlegend": true,
         "textangle": 0,
         "textfont": {
          "size": 12
         },
         "textposition": "outside",
         "texttemplate": "%{y:.2s}",
         "type": "bar",
         "x": [
          "PSQI_Score",
          "MMSE_Score"
         ],
         "xaxis": "x",
         "y": [
          98.85057471264368,
          89.87341772151899
         ],
         "yaxis": "y"
        },
        {
         "alignmentgroup": "True",
         "cliponaxis": false,
         "customdata": [
          [
           "Sensory",
           "NIH Toolbox Words-In-Noise Age 6+: Computed Score",
           0.13754389395248953
          ],
          [
           "Sensory",
           "NIH Toolbox Regional Taste Intensity Age 12+ Age-Adjusted Scale Score",
           0.09441947468071309
          ],
          [
           "Sensory",
           "Mars Final Contrast Sensitivity Score",
           0.0815295729161019
          ],
          [
           "Sensory",
           "NIH Toolbox Odor Identification Age 3+ Age-Adjusted Scale Score",
           0.03422255970866912
          ],
          [
           "Sensory",
           "NIH Toolbox Pain Interference Survey Age 18+: T-score",
           0.03274152032524882
          ]
         ],
         "hovertemplate": "category=%{customdata[0]}<br>phenotype=%{x}<br>$P_{rep}$=%{y}<br>phenotype_long=%{customdata[1]}<br>r_discovery=%{customdata[2]}<extra></extra>",
         "legendgroup": "Sensory",
         "marker": {
          "color": "#19d3f3",
          "pattern": {
           "shape": ""
          }
         },
         "name": "Sensory",
         "offsetgroup": "Sensory",
         "orientation": "v",
         "showlegend": true,
         "textangle": 0,
         "textfont": {
          "size": 12
         },
         "textposition": "outside",
         "texttemplate": "%{y:.2s}",
         "type": "bar",
         "x": [
          "Noise_Comp",
          "Taste_AgeAdj",
          "Mars_Final",
          "Odor_AgeAdj",
          "PainInterf_Tscore"
         ],
         "xaxis": "x",
         "y": [
          97.67441860465115,
          43.103448275862064,
          6.666666666666667,
          0,
          0
         ],
         "yaxis": "y"
        }
       ],
       "layout": {
        "barmode": "relative",
        "legend": {
         "title": {
          "text": "category"
         },
         "tracegroupgap": 0
        },
        "template": {
         "data": {
          "bar": [
           {
            "error_x": {
             "color": "#f2f5fa"
            },
            "error_y": {
             "color": "#f2f5fa"
            },
            "marker": {
             "line": {
              "color": "rgb(17,17,17)",
              "width": 0.5
             },
             "pattern": {
              "fillmode": "overlay",
              "size": 10,
              "solidity": 0.2
             }
            },
            "type": "bar"
           }
          ],
          "barpolar": [
           {
            "marker": {
             "line": {
              "color": "rgb(17,17,17)",
              "width": 0.5
             },
             "pattern": {
              "fillmode": "overlay",
              "size": 10,
              "solidity": 0.2
             }
            },
            "type": "barpolar"
           }
          ],
          "carpet": [
           {
            "aaxis": {
             "endlinecolor": "#A2B1C6",
             "gridcolor": "#506784",
             "linecolor": "#506784",
             "minorgridcolor": "#506784",
             "startlinecolor": "#A2B1C6"
            },
            "baxis": {
             "endlinecolor": "#A2B1C6",
             "gridcolor": "#506784",
             "linecolor": "#506784",
             "minorgridcolor": "#506784",
             "startlinecolor": "#A2B1C6"
            },
            "type": "carpet"
           }
          ],
          "choropleth": [
           {
            "colorbar": {
             "outlinewidth": 0,
             "ticks": ""
            },
            "type": "choropleth"
           }
          ],
          "contour": [
           {
            "colorbar": {
             "outlinewidth": 0,
             "ticks": ""
            },
            "colorscale": [
             [
              0,
              "#0d0887"
             ],
             [
              0.1111111111111111,
              "#46039f"
             ],
             [
              0.2222222222222222,
              "#7201a8"
             ],
             [
              0.3333333333333333,
              "#9c179e"
             ],
             [
              0.4444444444444444,
              "#bd3786"
             ],
             [
              0.5555555555555556,
              "#d8576b"
             ],
             [
              0.6666666666666666,
              "#ed7953"
             ],
             [
              0.7777777777777778,
              "#fb9f3a"
             ],
             [
              0.8888888888888888,
              "#fdca26"
             ],
             [
              1,
              "#f0f921"
             ]
            ],
            "type": "contour"
           }
          ],
          "contourcarpet": [
           {
            "colorbar": {
             "outlinewidth": 0,
             "ticks": ""
            },
            "type": "contourcarpet"
           }
          ],
          "heatmap": [
           {
            "colorbar": {
             "outlinewidth": 0,
             "ticks": ""
            },
            "colorscale": [
             [
              0,
              "#0d0887"
             ],
             [
              0.1111111111111111,
              "#46039f"
             ],
             [
              0.2222222222222222,
              "#7201a8"
             ],
             [
              0.3333333333333333,
              "#9c179e"
             ],
             [
              0.4444444444444444,
              "#bd3786"
             ],
             [
              0.5555555555555556,
              "#d8576b"
             ],
             [
              0.6666666666666666,
              "#ed7953"
             ],
             [
              0.7777777777777778,
              "#fb9f3a"
             ],
             [
              0.8888888888888888,
              "#fdca26"
             ],
             [
              1,
              "#f0f921"
             ]
            ],
            "type": "heatmap"
           }
          ],
          "heatmapgl": [
           {
            "colorbar": {
             "outlinewidth": 0,
             "ticks": ""
            },
            "colorscale": [
             [
              0,
              "#0d0887"
             ],
             [
              0.1111111111111111,
              "#46039f"
             ],
             [
              0.2222222222222222,
              "#7201a8"
             ],
             [
              0.3333333333333333,
              "#9c179e"
             ],
             [
              0.4444444444444444,
              "#bd3786"
             ],
             [
              0.5555555555555556,
              "#d8576b"
             ],
             [
              0.6666666666666666,
              "#ed7953"
             ],
             [
              0.7777777777777778,
              "#fb9f3a"
             ],
             [
              0.8888888888888888,
              "#fdca26"
             ],
             [
              1,
              "#f0f921"
             ]
            ],
            "type": "heatmapgl"
           }
          ],
          "histogram": [
           {
            "marker": {
             "pattern": {
              "fillmode": "overlay",
              "size": 10,
              "solidity": 0.2
             }
            },
            "type": "histogram"
           }
          ],
          "histogram2d": [
           {
            "colorbar": {
             "outlinewidth": 0,
             "ticks": ""
            },
            "colorscale": [
             [
              0,
              "#0d0887"
             ],
             [
              0.1111111111111111,
              "#46039f"
             ],
             [
              0.2222222222222222,
              "#7201a8"
             ],
             [
              0.3333333333333333,
              "#9c179e"
             ],
             [
              0.4444444444444444,
              "#bd3786"
             ],
             [
              0.5555555555555556,
              "#d8576b"
             ],
             [
              0.6666666666666666,
              "#ed7953"
             ],
             [
              0.7777777777777778,
              "#fb9f3a"
             ],
             [
              0.8888888888888888,
              "#fdca26"
             ],
             [
              1,
              "#f0f921"
             ]
            ],
            "type": "histogram2d"
           }
          ],
          "histogram2dcontour": [
           {
            "colorbar": {
             "outlinewidth": 0,
             "ticks": ""
            },
            "colorscale": [
             [
              0,
              "#0d0887"
             ],
             [
              0.1111111111111111,
              "#46039f"
             ],
             [
              0.2222222222222222,
              "#7201a8"
             ],
             [
              0.3333333333333333,
              "#9c179e"
             ],
             [
              0.4444444444444444,
              "#bd3786"
             ],
             [
              0.5555555555555556,
              "#d8576b"
             ],
             [
              0.6666666666666666,
              "#ed7953"
             ],
             [
              0.7777777777777778,
              "#fb9f3a"
             ],
             [
              0.8888888888888888,
              "#fdca26"
             ],
             [
              1,
              "#f0f921"
             ]
            ],
            "type": "histogram2dcontour"
           }
          ],
          "mesh3d": [
           {
            "colorbar": {
             "outlinewidth": 0,
             "ticks": ""
            },
            "type": "mesh3d"
           }
          ],
          "parcoords": [
           {
            "line": {
             "colorbar": {
              "outlinewidth": 0,
              "ticks": ""
             }
            },
            "type": "parcoords"
           }
          ],
          "pie": [
           {
            "automargin": true,
            "type": "pie"
           }
          ],
          "scatter": [
           {
            "marker": {
             "line": {
              "color": "#283442"
             }
            },
            "type": "scatter"
           }
          ],
          "scatter3d": [
           {
            "line": {
             "colorbar": {
              "outlinewidth": 0,
              "ticks": ""
             }
            },
            "marker": {
             "colorbar": {
              "outlinewidth": 0,
              "ticks": ""
             }
            },
            "type": "scatter3d"
           }
          ],
          "scattercarpet": [
           {
            "marker": {
             "colorbar": {
              "outlinewidth": 0,
              "ticks": ""
             }
            },
            "type": "scattercarpet"
           }
          ],
          "scattergeo": [
           {
            "marker": {
             "colorbar": {
              "outlinewidth": 0,
              "ticks": ""
             }
            },
            "type": "scattergeo"
           }
          ],
          "scattergl": [
           {
            "marker": {
             "line": {
              "color": "#283442"
             }
            },
            "type": "scattergl"
           }
          ],
          "scattermapbox": [
           {
            "marker": {
             "colorbar": {
              "outlinewidth": 0,
              "ticks": ""
             }
            },
            "type": "scattermapbox"
           }
          ],
          "scatterpolar": [
           {
            "marker": {
             "colorbar": {
              "outlinewidth": 0,
              "ticks": ""
             }
            },
            "type": "scatterpolar"
           }
          ],
          "scatterpolargl": [
           {
            "marker": {
             "colorbar": {
              "outlinewidth": 0,
              "ticks": ""
             }
            },
            "type": "scatterpolargl"
           }
          ],
          "scatterternary": [
           {
            "marker": {
             "colorbar": {
              "outlinewidth": 0,
              "ticks": ""
             }
            },
            "type": "scatterternary"
           }
          ],
          "surface": [
           {
            "colorbar": {
             "outlinewidth": 0,
             "ticks": ""
            },
            "colorscale": [
             [
              0,
              "#0d0887"
             ],
             [
              0.1111111111111111,
              "#46039f"
             ],
             [
              0.2222222222222222,
              "#7201a8"
             ],
             [
              0.3333333333333333,
              "#9c179e"
             ],
             [
              0.4444444444444444,
              "#bd3786"
             ],
             [
              0.5555555555555556,
              "#d8576b"
             ],
             [
              0.6666666666666666,
              "#ed7953"
             ],
             [
              0.7777777777777778,
              "#fb9f3a"
             ],
             [
              0.8888888888888888,
              "#fdca26"
             ],
             [
              1,
              "#f0f921"
             ]
            ],
            "type": "surface"
           }
          ],
          "table": [
           {
            "cells": {
             "fill": {
              "color": "#506784"
             },
             "line": {
              "color": "rgb(17,17,17)"
             }
            },
            "header": {
             "fill": {
              "color": "#2a3f5f"
             },
             "line": {
              "color": "rgb(17,17,17)"
             }
            },
            "type": "table"
           }
          ]
         },
         "layout": {
          "annotationdefaults": {
           "arrowcolor": "#f2f5fa",
           "arrowhead": 0,
           "arrowwidth": 1
          },
          "autotypenumbers": "strict",
          "coloraxis": {
           "colorbar": {
            "outlinewidth": 0,
            "ticks": ""
           }
          },
          "colorscale": {
           "diverging": [
            [
             0,
             "#8e0152"
            ],
            [
             0.1,
             "#c51b7d"
            ],
            [
             0.2,
             "#de77ae"
            ],
            [
             0.3,
             "#f1b6da"
            ],
            [
             0.4,
             "#fde0ef"
            ],
            [
             0.5,
             "#f7f7f7"
            ],
            [
             0.6,
             "#e6f5d0"
            ],
            [
             0.7,
             "#b8e186"
            ],
            [
             0.8,
             "#7fbc41"
            ],
            [
             0.9,
             "#4d9221"
            ],
            [
             1,
             "#276419"
            ]
           ],
           "sequential": [
            [
             0,
             "#0d0887"
            ],
            [
             0.1111111111111111,
             "#46039f"
            ],
            [
             0.2222222222222222,
             "#7201a8"
            ],
            [
             0.3333333333333333,
             "#9c179e"
            ],
            [
             0.4444444444444444,
             "#bd3786"
            ],
            [
             0.5555555555555556,
             "#d8576b"
            ],
            [
             0.6666666666666666,
             "#ed7953"
            ],
            [
             0.7777777777777778,
             "#fb9f3a"
            ],
            [
             0.8888888888888888,
             "#fdca26"
            ],
            [
             1,
             "#f0f921"
            ]
           ],
           "sequentialminus": [
            [
             0,
             "#0d0887"
            ],
            [
             0.1111111111111111,
             "#46039f"
            ],
            [
             0.2222222222222222,
             "#7201a8"
            ],
            [
             0.3333333333333333,
             "#9c179e"
            ],
            [
             0.4444444444444444,
             "#bd3786"
            ],
            [
             0.5555555555555556,
             "#d8576b"
            ],
            [
             0.6666666666666666,
             "#ed7953"
            ],
            [
             0.7777777777777778,
             "#fb9f3a"
            ],
            [
             0.8888888888888888,
             "#fdca26"
            ],
            [
             1,
             "#f0f921"
            ]
           ]
          },
          "colorway": [
           "#636efa",
           "#EF553B",
           "#00cc96",
           "#ab63fa",
           "#FFA15A",
           "#19d3f3",
           "#FF6692",
           "#B6E880",
           "#FF97FF",
           "#FECB52"
          ],
          "font": {
           "color": "#f2f5fa"
          },
          "geo": {
           "bgcolor": "rgb(17,17,17)",
           "lakecolor": "rgb(17,17,17)",
           "landcolor": "rgb(17,17,17)",
           "showlakes": true,
           "showland": true,
           "subunitcolor": "#506784"
          },
          "hoverlabel": {
           "align": "left"
          },
          "hovermode": "closest",
          "mapbox": {
           "style": "dark"
          },
          "paper_bgcolor": "rgb(17,17,17)",
          "plot_bgcolor": "rgb(17,17,17)",
          "polar": {
           "angularaxis": {
            "gridcolor": "#506784",
            "linecolor": "#506784",
            "ticks": ""
           },
           "bgcolor": "rgb(17,17,17)",
           "radialaxis": {
            "gridcolor": "#506784",
            "linecolor": "#506784",
            "ticks": ""
           }
          },
          "scene": {
           "xaxis": {
            "backgroundcolor": "rgb(17,17,17)",
            "gridcolor": "#506784",
            "gridwidth": 2,
            "linecolor": "#506784",
            "showbackground": true,
            "ticks": "",
            "zerolinecolor": "#C8D4E3"
           },
           "yaxis": {
            "backgroundcolor": "rgb(17,17,17)",
            "gridcolor": "#506784",
            "gridwidth": 2,
            "linecolor": "#506784",
            "showbackground": true,
            "ticks": "",
            "zerolinecolor": "#C8D4E3"
           },
           "zaxis": {
            "backgroundcolor": "rgb(17,17,17)",
            "gridcolor": "#506784",
            "gridwidth": 2,
            "linecolor": "#506784",
            "showbackground": true,
            "ticks": "",
            "zerolinecolor": "#C8D4E3"
           }
          },
          "shapedefaults": {
           "line": {
            "color": "#f2f5fa"
           }
          },
          "sliderdefaults": {
           "bgcolor": "#C8D4E3",
           "bordercolor": "rgb(17,17,17)",
           "borderwidth": 1,
           "tickwidth": 0
          },
          "ternary": {
           "aaxis": {
            "gridcolor": "#506784",
            "linecolor": "#506784",
            "ticks": ""
           },
           "baxis": {
            "gridcolor": "#506784",
            "linecolor": "#506784",
            "ticks": ""
           },
           "bgcolor": "rgb(17,17,17)",
           "caxis": {
            "gridcolor": "#506784",
            "linecolor": "#506784",
            "ticks": ""
           }
          },
          "title": {
           "x": 0.05
          },
          "updatemenudefaults": {
           "bgcolor": "#506784",
           "borderwidth": 0
          },
          "xaxis": {
           "automargin": true,
           "gridcolor": "#283442",
           "linecolor": "#506784",
           "ticks": "",
           "title": {
            "standoff": 15
           },
           "zerolinecolor": "#283442",
           "zerolinewidth": 2
          },
          "yaxis": {
           "automargin": true,
           "gridcolor": "#283442",
           "linecolor": "#506784",
           "ticks": "",
           "title": {
            "standoff": 15
           },
           "zerolinecolor": "#283442",
           "zerolinewidth": 2
          }
         }
        },
        "title": {
         "text": "Replication probability with n=500"
        },
        "xaxis": {
         "anchor": "y",
         "domain": [
          0,
          1
         ],
         "title": {
          "text": "phenotype"
         }
        },
        "yaxis": {
         "anchor": "x",
         "domain": [
          0,
          1
         ],
         "title": {
          "text": "$P_{rep}$"
         }
        }
       }
      },
      "text/html": [
       "<div>                            <div id=\"2cc5df75-9de9-4c7e-a26a-c8d0f249d506\" class=\"plotly-graph-div\" style=\"height:525px; width:100%;\"></div>            <script type=\"text/javascript\">                require([\"plotly\"], function(Plotly) {                    window.PLOTLYENV=window.PLOTLYENV || {};                                    if (document.getElementById(\"2cc5df75-9de9-4c7e-a26a-c8d0f249d506\")) {                    Plotly.newPlot(                        \"2cc5df75-9de9-4c7e-a26a-c8d0f249d506\",                        [{\"alignmentgroup\":\"True\",\"customdata\":[[\"Cognition\",\"NIH Toolbox Cognition Crystallized Composite: Age Adjusted Scale Score\",0.509356447724508],[\"Cognition\",\"NIH Toolbox Picture Vocabulary Test: Age-Adjusted Scale Score\",0.47480177985872424],[\"Cognition\",\"NIH Toolbox Cognition Total Composite Score: Age Adjusted Scale Score\",0.4726518883300038],[\"Cognition\",\"NIH Toolbox Oral Reading Recognition Test: Age-Adjusted Scale Score\",0.45086700357691106],[\"Cognition\",\"NIH Toolbox Cognition Early Childhood Composite: Age Adjusted Scale Score\",0.35010656810589036],[\"Cognition\",\"Variable Short Penn Line Orientation: Total Number Correct (VSPLOT_TC)\",0.33041854229644096],[\"Cognition\",\"NIH Toolbox Cognition Fluid Composite: Age Adjusted Scale Score\",0.30498017181970244],[\"Cognition\",\"Penn Progressive Matrices: Number of Correct Responses (PMAT24_A_CR)\",0.29224264739400835],[\"Cognition\",\"NIH Toolbox List Sorting Working Memory Test: Age-Adjusted Scale Score\",0.27262179944410553],[\"Cognition\",\"Delay Discounting: Area Under the Curve for Discounting of $200 (DDisc_AUC_200)\",0.20884491911824618],[\"Cognition\",\"NIH Toolbox Picture Sequence Memory Test: Age-Adjusted Scale Score\",0.18233069324505244],[\"Cognition\",\"NIH Toolbox Dimensional Change Card Sort Test: Age-Adjusted Scale Score\",0.1789658621130238],[\"Cognition\",\"Short Penn Continuous Performance Test: Specificity = SCPT_TN/(SCPT_TN + SCPT_FP) (SCPT_SPEC)\",0.1483580336589026],[\"Cognition\",\"NIH Toolbox Flanker Inhibitory Control and Attention Test: Age-Adjusted Scale Score\",0.1322612349491906],[\"Cognition\",\"NIH Toolbox Pattern Comparison Processing Speed Test: Age-Adjusted Scale Score\",0.11764068520351804],[\"Cognition\",\"Penn Word Memory Test: Total Number of Correct Responses (IWRD_TOT)\",0.0810183743864671],[\"Cognition\",\"Short Penn Continuous Performance Test: Sensitivity = SCPT_TP/(SCPT_TP + SCPT_FN) (SCPT_SEN)\",0.004953219542766921]],\"hovertemplate\":\"category=%{customdata[0]}<br>phenotype=%{x}<br>$P_{rep}$=%{y}<br>phenotype_long=%{customdata[1]}<br>r_discovery=%{customdata[2]}<extra></extra>\",\"legendgroup\":\"Cognition\",\"marker\":{\"color\":\"#636efa\",\"pattern\":{\"shape\":\"\"}},\"name\":\"Cognition\",\"offsetgroup\":\"Cognition\",\"orientation\":\"v\",\"showlegend\":true,\"textposition\":\"outside\",\"texttemplate\":\"%{y:.2s}\",\"x\":[\"CogCrystalComp_AgeAdj\",\"PicVocab_AgeAdj\",\"CogTotalComp_AgeAdj\",\"ReadEng_AgeAdj\",\"CogEarlyComp_AgeAdj\",\"VSPLOT_TC\",\"CogFluidComp_AgeAdj\",\"PMAT24_A_CR\",\"ListSort_AgeAdj\",\"DDisc_AUC_200\",\"PicSeq_AgeAdj\",\"CardSort_AgeAdj\",\"SCPT_SPEC\",\"Flanker_AgeAdj\",\"ProcSpeed_AgeAdj\",\"IWRD_TOT\",\"SCPT_SEN\"],\"xaxis\":\"x\",\"y\":[100.0,100.0,100.0,100.0,100.0,100.0,100.0,100.0,100.0,100.0,100.0,100.0,100.0,98.87640449438202,84.61538461538461,36.53846153846153,0.0],\"yaxis\":\"y\",\"type\":\"bar\",\"textfont\":{\"size\":12},\"cliponaxis\":false,\"textangle\":0},{\"alignmentgroup\":\"True\",\"customdata\":[[\"Personality\",\"NEO-FFI Openness to Experience (NEOFAC_O)\",0.2650507736746153],[\"Personality\",\"NEO-FFI Agreeableness (NEOFAC_A)\",0.1922636018029333],[\"Personality\",\"NEO-FFI Conscientiousness (NEOFAC_C)\",0.17973714484091477],[\"Personality\",\"NEO-FFI Extraversion (NEOFAC_E)\",0.1579196181982247],[\"Personality\",\"NEO-FFI Neuroticism (NEOFAC_N)\",0.07314281912604746]],\"hovertemplate\":\"category=%{customdata[0]}<br>phenotype=%{x}<br>$P_{rep}$=%{y}<br>phenotype_long=%{customdata[1]}<br>r_discovery=%{customdata[2]}<extra></extra>\",\"legendgroup\":\"Personality\",\"marker\":{\"color\":\"#EF553B\",\"pattern\":{\"shape\":\"\"}},\"name\":\"Personality\",\"offsetgroup\":\"Personality\",\"orientation\":\"v\",\"showlegend\":true,\"textposition\":\"outside\",\"texttemplate\":\"%{y:.2s}\",\"x\":[\"NEOFAC_O\",\"NEOFAC_A\",\"NEOFAC_C\",\"NEOFAC_E\",\"NEOFAC_N\"],\"xaxis\":\"x\",\"y\":[100.0,100.0,100.0,98.93617021276596,40.0],\"yaxis\":\"y\",\"type\":\"bar\",\"textfont\":{\"size\":12},\"cliponaxis\":false,\"textangle\":0},{\"alignmentgroup\":\"True\",\"customdata\":[[\"Emotion\",\"NIH Toolbox General Life Satisfaction Survey: Unadjusted Scale Score\",0.19873341230892946],[\"Emotion\",\"NIH Toolbox Anger-Physical Aggression Survey: Unadjusted Scale Score\",0.19405555852511744],[\"Emotion\",\"NIH Toolbox Fear-Affect Survey: Unadjusted Scale Score\",0.15563217224852446],[\"Emotion\",\"NIH Toolbox Sadness Survey: Unadjusted Scale Score\",0.13278242329691545],[\"Emotion\",\"NIH Toolbox Emotional Support Survey: Unadjusted Scale Score\",0.1260287186553436],[\"Emotion\",\"NIH Toolbox Loneliness Survey: Unadjusted Scale Score\",0.10181181257724871],[\"Emotion\",\"NIH Toolbox Perceived Stress Survey: Unadjusted Scale Score\",0.10021102140816972],[\"Emotion\",\"NIH Toolbox Self-Efficacy Survey: Unadjusted Scale Score\",0.09990355623342786],[\"Emotion\",\"NIH Toolbox Meaning and Purpose Survey: Unadjusted Scale Score\",0.09984748458857128],[\"Emotion\",\"NIH Toolbox Positive Affect Survey: Unadjusted Scale Score\",0.09883821052746253],[\"Emotion\",\"NIH Toolbox Anger-Affect Survey: Unadjusted Scale Score\",0.09675041204325666],[\"Emotion\",\"NIH Toolbox Friendship Survey: Unadjusted Scale Score\",0.08531254415798345],[\"Emotion\",\"Penn Emotion Recognition Test: Number of Correct Anger Identifications (ER40ANG)\",0.07290919946421724],[\"Emotion\",\"NIH Toolbox Anger-Hostility Survey: Unadjusted Scale Score\",0.06336555348912117],[\"Emotion\",\"NIH Toolbox Fear-Somatic Arousal Survey: Unadjusted Scale Score\",0.06110113688711337],[\"Emotion\",\"Penn Emotion Recognition Test: Number of Correct Neutral Identifications (ER40NOE)\",0.05015028148085295],[\"Emotion\",\"NIH Toolbox Instrumental Support Survey: Unadjusted Scale Score\",0.04191974313059747],[\"Emotion\",\"NIH Toolbox Perceived Hostility Survey: Unadjusted Scale Score\",0.03762223096508886],[\"Emotion\",\"NIH Toolbox Perceived Rejection Survey: Unadjusted Scale Score\",0.03688725729680184],[\"Emotion\",\"Penn Emotion Recognition Test: Number of Correct Fear Identifications (ER40FEAR)\",0.033788344197422604],[\"Emotion\",\"Penn Emotion Recognition Test: Number of Correct Sad Identifications (ER40SAD)\",0.03355879047628218],[\"Emotion\",\"Penn Emotion Recognition Test: Number of Correct Happy Identifications (ER40HAP)\",-0.05910616789376827]],\"hovertemplate\":\"category=%{customdata[0]}<br>phenotype=%{x}<br>$P_{rep}$=%{y}<br>phenotype_long=%{customdata[1]}<br>r_discovery=%{customdata[2]}<extra></extra>\",\"legendgroup\":\"Emotion\",\"marker\":{\"color\":\"#00cc96\",\"pattern\":{\"shape\":\"\"}},\"name\":\"Emotion\",\"offsetgroup\":\"Emotion\",\"orientation\":\"v\",\"showlegend\":true,\"textposition\":\"outside\",\"texttemplate\":\"%{y:.2s}\",\"x\":[\"LifeSatisf_Unadj\",\"AngAggr_Unadj\",\"FearAffect_Unadj\",\"Sadness_Unadj\",\"EmotSupp_Unadj\",\"Loneliness_Unadj\",\"PercStress_Unadj\",\"SelfEff_Unadj\",\"MeanPurp_Unadj\",\"PosAffect_Unadj\",\"AngAffect_Unadj\",\"Friendship_Unadj\",\"ER40ANG\",\"AngHostil_Unadj\",\"FearSomat_Unadj\",\"ER40NOE\",\"InstruSupp_Unadj\",\"PercHostil_Unadj\",\"PercReject_Unadj\",\"ER40FEAR\",\"ER40SAD\",\"ER40HAP\"],\"xaxis\":\"x\",\"y\":[100.0,100.0,100.0,94.04761904761905,96.55172413793103,71.66666666666667,62.5,81.81818181818183,50.76923076923077,55.223880597014926,69.23076923076923,44.0,44.680851063829785,41.02564102564102,14.285714285714285,16.666666666666664,4.166666666666666,0.0,4.3478260869565215,0.0,10.0,null],\"yaxis\":\"y\",\"type\":\"bar\",\"textfont\":{\"size\":12},\"cliponaxis\":false,\"textangle\":0},{\"alignmentgroup\":\"True\",\"customdata\":[[\"Motor\",\"NIH Toolbox 9-hole Pegboard Dexterity Test : Age-Adjusted Scale Score\",0.1698377324671013]],\"hovertemplate\":\"category=%{customdata[0]}<br>phenotype=%{x}<br>$P_{rep}$=%{y}<br>phenotype_long=%{customdata[1]}<br>r_discovery=%{customdata[2]}<extra></extra>\",\"legendgroup\":\"Motor\",\"marker\":{\"color\":\"#ab63fa\",\"pattern\":{\"shape\":\"\"}},\"name\":\"Motor\",\"offsetgroup\":\"Motor\",\"orientation\":\"v\",\"showlegend\":true,\"textposition\":\"outside\",\"texttemplate\":\"%{y:.2s}\",\"x\":[\"Dexterity_AgeAdj\"],\"xaxis\":\"x\",\"y\":[98.9247311827957],\"yaxis\":\"y\",\"type\":\"bar\",\"textfont\":{\"size\":12},\"cliponaxis\":false,\"textangle\":0},{\"alignmentgroup\":\"True\",\"customdata\":[[\"Alertness\",\"Sleep (Pittsburgh Sleep Questionnaire) Total Score\",0.14291306988028807],[\"Alertness\",\"Mini Mental Status Exam Total Score\",0.11235242553787785]],\"hovertemplate\":\"category=%{customdata[0]}<br>phenotype=%{x}<br>$P_{rep}$=%{y}<br>phenotype_long=%{customdata[1]}<br>r_discovery=%{customdata[2]}<extra></extra>\",\"legendgroup\":\"Alertness\",\"marker\":{\"color\":\"#FFA15A\",\"pattern\":{\"shape\":\"\"}},\"name\":\"Alertness\",\"offsetgroup\":\"Alertness\",\"orientation\":\"v\",\"showlegend\":true,\"textposition\":\"outside\",\"texttemplate\":\"%{y:.2s}\",\"x\":[\"PSQI_Score\",\"MMSE_Score\"],\"xaxis\":\"x\",\"y\":[98.85057471264368,89.87341772151899],\"yaxis\":\"y\",\"type\":\"bar\",\"textfont\":{\"size\":12},\"cliponaxis\":false,\"textangle\":0},{\"alignmentgroup\":\"True\",\"customdata\":[[\"Sensory\",\"NIH Toolbox Words-In-Noise Age 6+: Computed Score\",0.13754389395248953],[\"Sensory\",\"NIH Toolbox Regional Taste Intensity Age 12+ Age-Adjusted Scale Score\",0.09441947468071309],[\"Sensory\",\"Mars Final Contrast Sensitivity Score\",0.0815295729161019],[\"Sensory\",\"NIH Toolbox Odor Identification Age 3+ Age-Adjusted Scale Score\",0.03422255970866912],[\"Sensory\",\"NIH Toolbox Pain Interference Survey Age 18+: T-score\",0.03274152032524882]],\"hovertemplate\":\"category=%{customdata[0]}<br>phenotype=%{x}<br>$P_{rep}$=%{y}<br>phenotype_long=%{customdata[1]}<br>r_discovery=%{customdata[2]}<extra></extra>\",\"legendgroup\":\"Sensory\",\"marker\":{\"color\":\"#19d3f3\",\"pattern\":{\"shape\":\"\"}},\"name\":\"Sensory\",\"offsetgroup\":\"Sensory\",\"orientation\":\"v\",\"showlegend\":true,\"textposition\":\"outside\",\"texttemplate\":\"%{y:.2s}\",\"x\":[\"Noise_Comp\",\"Taste_AgeAdj\",\"Mars_Final\",\"Odor_AgeAdj\",\"PainInterf_Tscore\"],\"xaxis\":\"x\",\"y\":[97.67441860465115,43.103448275862064,6.666666666666667,0.0,0.0],\"yaxis\":\"y\",\"type\":\"bar\",\"textfont\":{\"size\":12},\"cliponaxis\":false,\"textangle\":0}],                        {\"template\":{\"data\":{\"histogram2dcontour\":[{\"type\":\"histogram2dcontour\",\"colorbar\":{\"outlinewidth\":0,\"ticks\":\"\"},\"colorscale\":[[0.0,\"#0d0887\"],[0.1111111111111111,\"#46039f\"],[0.2222222222222222,\"#7201a8\"],[0.3333333333333333,\"#9c179e\"],[0.4444444444444444,\"#bd3786\"],[0.5555555555555556,\"#d8576b\"],[0.6666666666666666,\"#ed7953\"],[0.7777777777777778,\"#fb9f3a\"],[0.8888888888888888,\"#fdca26\"],[1.0,\"#f0f921\"]]}],\"choropleth\":[{\"type\":\"choropleth\",\"colorbar\":{\"outlinewidth\":0,\"ticks\":\"\"}}],\"histogram2d\":[{\"type\":\"histogram2d\",\"colorbar\":{\"outlinewidth\":0,\"ticks\":\"\"},\"colorscale\":[[0.0,\"#0d0887\"],[0.1111111111111111,\"#46039f\"],[0.2222222222222222,\"#7201a8\"],[0.3333333333333333,\"#9c179e\"],[0.4444444444444444,\"#bd3786\"],[0.5555555555555556,\"#d8576b\"],[0.6666666666666666,\"#ed7953\"],[0.7777777777777778,\"#fb9f3a\"],[0.8888888888888888,\"#fdca26\"],[1.0,\"#f0f921\"]]}],\"heatmap\":[{\"type\":\"heatmap\",\"colorbar\":{\"outlinewidth\":0,\"ticks\":\"\"},\"colorscale\":[[0.0,\"#0d0887\"],[0.1111111111111111,\"#46039f\"],[0.2222222222222222,\"#7201a8\"],[0.3333333333333333,\"#9c179e\"],[0.4444444444444444,\"#bd3786\"],[0.5555555555555556,\"#d8576b\"],[0.6666666666666666,\"#ed7953\"],[0.7777777777777778,\"#fb9f3a\"],[0.8888888888888888,\"#fdca26\"],[1.0,\"#f0f921\"]]}],\"heatmapgl\":[{\"type\":\"heatmapgl\",\"colorbar\":{\"outlinewidth\":0,\"ticks\":\"\"},\"colorscale\":[[0.0,\"#0d0887\"],[0.1111111111111111,\"#46039f\"],[0.2222222222222222,\"#7201a8\"],[0.3333333333333333,\"#9c179e\"],[0.4444444444444444,\"#bd3786\"],[0.5555555555555556,\"#d8576b\"],[0.6666666666666666,\"#ed7953\"],[0.7777777777777778,\"#fb9f3a\"],[0.8888888888888888,\"#fdca26\"],[1.0,\"#f0f921\"]]}],\"contourcarpet\":[{\"type\":\"contourcarpet\",\"colorbar\":{\"outlinewidth\":0,\"ticks\":\"\"}}],\"contour\":[{\"type\":\"contour\",\"colorbar\":{\"outlinewidth\":0,\"ticks\":\"\"},\"colorscale\":[[0.0,\"#0d0887\"],[0.1111111111111111,\"#46039f\"],[0.2222222222222222,\"#7201a8\"],[0.3333333333333333,\"#9c179e\"],[0.4444444444444444,\"#bd3786\"],[0.5555555555555556,\"#d8576b\"],[0.6666666666666666,\"#ed7953\"],[0.7777777777777778,\"#fb9f3a\"],[0.8888888888888888,\"#fdca26\"],[1.0,\"#f0f921\"]]}],\"surface\":[{\"type\":\"surface\",\"colorbar\":{\"outlinewidth\":0,\"ticks\":\"\"},\"colorscale\":[[0.0,\"#0d0887\"],[0.1111111111111111,\"#46039f\"],[0.2222222222222222,\"#7201a8\"],[0.3333333333333333,\"#9c179e\"],[0.4444444444444444,\"#bd3786\"],[0.5555555555555556,\"#d8576b\"],[0.6666666666666666,\"#ed7953\"],[0.7777777777777778,\"#fb9f3a\"],[0.8888888888888888,\"#fdca26\"],[1.0,\"#f0f921\"]]}],\"mesh3d\":[{\"type\":\"mesh3d\",\"colorbar\":{\"outlinewidth\":0,\"ticks\":\"\"}}],\"scatter\":[{\"marker\":{\"line\":{\"color\":\"#283442\"}},\"type\":\"scatter\"}],\"parcoords\":[{\"type\":\"parcoords\",\"line\":{\"colorbar\":{\"outlinewidth\":0,\"ticks\":\"\"}}}],\"scatterpolargl\":[{\"type\":\"scatterpolargl\",\"marker\":{\"colorbar\":{\"outlinewidth\":0,\"ticks\":\"\"}}}],\"bar\":[{\"error_x\":{\"color\":\"#f2f5fa\"},\"error_y\":{\"color\":\"#f2f5fa\"},\"marker\":{\"line\":{\"color\":\"rgb(17,17,17)\",\"width\":0.5},\"pattern\":{\"fillmode\":\"overlay\",\"size\":10,\"solidity\":0.2}},\"type\":\"bar\"}],\"scattergeo\":[{\"type\":\"scattergeo\",\"marker\":{\"colorbar\":{\"outlinewidth\":0,\"ticks\":\"\"}}}],\"scatterpolar\":[{\"type\":\"scatterpolar\",\"marker\":{\"colorbar\":{\"outlinewidth\":0,\"ticks\":\"\"}}}],\"histogram\":[{\"marker\":{\"pattern\":{\"fillmode\":\"overlay\",\"size\":10,\"solidity\":0.2}},\"type\":\"histogram\"}],\"scattergl\":[{\"marker\":{\"line\":{\"color\":\"#283442\"}},\"type\":\"scattergl\"}],\"scatter3d\":[{\"type\":\"scatter3d\",\"line\":{\"colorbar\":{\"outlinewidth\":0,\"ticks\":\"\"}},\"marker\":{\"colorbar\":{\"outlinewidth\":0,\"ticks\":\"\"}}}],\"scattermapbox\":[{\"type\":\"scattermapbox\",\"marker\":{\"colorbar\":{\"outlinewidth\":0,\"ticks\":\"\"}}}],\"scatterternary\":[{\"type\":\"scatterternary\",\"marker\":{\"colorbar\":{\"outlinewidth\":0,\"ticks\":\"\"}}}],\"scattercarpet\":[{\"type\":\"scattercarpet\",\"marker\":{\"colorbar\":{\"outlinewidth\":0,\"ticks\":\"\"}}}],\"carpet\":[{\"aaxis\":{\"endlinecolor\":\"#A2B1C6\",\"gridcolor\":\"#506784\",\"linecolor\":\"#506784\",\"minorgridcolor\":\"#506784\",\"startlinecolor\":\"#A2B1C6\"},\"baxis\":{\"endlinecolor\":\"#A2B1C6\",\"gridcolor\":\"#506784\",\"linecolor\":\"#506784\",\"minorgridcolor\":\"#506784\",\"startlinecolor\":\"#A2B1C6\"},\"type\":\"carpet\"}],\"table\":[{\"cells\":{\"fill\":{\"color\":\"#506784\"},\"line\":{\"color\":\"rgb(17,17,17)\"}},\"header\":{\"fill\":{\"color\":\"#2a3f5f\"},\"line\":{\"color\":\"rgb(17,17,17)\"}},\"type\":\"table\"}],\"barpolar\":[{\"marker\":{\"line\":{\"color\":\"rgb(17,17,17)\",\"width\":0.5},\"pattern\":{\"fillmode\":\"overlay\",\"size\":10,\"solidity\":0.2}},\"type\":\"barpolar\"}],\"pie\":[{\"automargin\":true,\"type\":\"pie\"}]},\"layout\":{\"autotypenumbers\":\"strict\",\"colorway\":[\"#636efa\",\"#EF553B\",\"#00cc96\",\"#ab63fa\",\"#FFA15A\",\"#19d3f3\",\"#FF6692\",\"#B6E880\",\"#FF97FF\",\"#FECB52\"],\"font\":{\"color\":\"#f2f5fa\"},\"hovermode\":\"closest\",\"hoverlabel\":{\"align\":\"left\"},\"paper_bgcolor\":\"rgb(17,17,17)\",\"plot_bgcolor\":\"rgb(17,17,17)\",\"polar\":{\"bgcolor\":\"rgb(17,17,17)\",\"angularaxis\":{\"gridcolor\":\"#506784\",\"linecolor\":\"#506784\",\"ticks\":\"\"},\"radialaxis\":{\"gridcolor\":\"#506784\",\"linecolor\":\"#506784\",\"ticks\":\"\"}},\"ternary\":{\"bgcolor\":\"rgb(17,17,17)\",\"aaxis\":{\"gridcolor\":\"#506784\",\"linecolor\":\"#506784\",\"ticks\":\"\"},\"baxis\":{\"gridcolor\":\"#506784\",\"linecolor\":\"#506784\",\"ticks\":\"\"},\"caxis\":{\"gridcolor\":\"#506784\",\"linecolor\":\"#506784\",\"ticks\":\"\"}},\"coloraxis\":{\"colorbar\":{\"outlinewidth\":0,\"ticks\":\"\"}},\"colorscale\":{\"sequential\":[[0.0,\"#0d0887\"],[0.1111111111111111,\"#46039f\"],[0.2222222222222222,\"#7201a8\"],[0.3333333333333333,\"#9c179e\"],[0.4444444444444444,\"#bd3786\"],[0.5555555555555556,\"#d8576b\"],[0.6666666666666666,\"#ed7953\"],[0.7777777777777778,\"#fb9f3a\"],[0.8888888888888888,\"#fdca26\"],[1.0,\"#f0f921\"]],\"sequentialminus\":[[0.0,\"#0d0887\"],[0.1111111111111111,\"#46039f\"],[0.2222222222222222,\"#7201a8\"],[0.3333333333333333,\"#9c179e\"],[0.4444444444444444,\"#bd3786\"],[0.5555555555555556,\"#d8576b\"],[0.6666666666666666,\"#ed7953\"],[0.7777777777777778,\"#fb9f3a\"],[0.8888888888888888,\"#fdca26\"],[1.0,\"#f0f921\"]],\"diverging\":[[0,\"#8e0152\"],[0.1,\"#c51b7d\"],[0.2,\"#de77ae\"],[0.3,\"#f1b6da\"],[0.4,\"#fde0ef\"],[0.5,\"#f7f7f7\"],[0.6,\"#e6f5d0\"],[0.7,\"#b8e186\"],[0.8,\"#7fbc41\"],[0.9,\"#4d9221\"],[1,\"#276419\"]]},\"xaxis\":{\"gridcolor\":\"#283442\",\"linecolor\":\"#506784\",\"ticks\":\"\",\"title\":{\"standoff\":15},\"zerolinecolor\":\"#283442\",\"automargin\":true,\"zerolinewidth\":2},\"yaxis\":{\"gridcolor\":\"#283442\",\"linecolor\":\"#506784\",\"ticks\":\"\",\"title\":{\"standoff\":15},\"zerolinecolor\":\"#283442\",\"automargin\":true,\"zerolinewidth\":2},\"scene\":{\"xaxis\":{\"backgroundcolor\":\"rgb(17,17,17)\",\"gridcolor\":\"#506784\",\"linecolor\":\"#506784\",\"showbackground\":true,\"ticks\":\"\",\"zerolinecolor\":\"#C8D4E3\",\"gridwidth\":2},\"yaxis\":{\"backgroundcolor\":\"rgb(17,17,17)\",\"gridcolor\":\"#506784\",\"linecolor\":\"#506784\",\"showbackground\":true,\"ticks\":\"\",\"zerolinecolor\":\"#C8D4E3\",\"gridwidth\":2},\"zaxis\":{\"backgroundcolor\":\"rgb(17,17,17)\",\"gridcolor\":\"#506784\",\"linecolor\":\"#506784\",\"showbackground\":true,\"ticks\":\"\",\"zerolinecolor\":\"#C8D4E3\",\"gridwidth\":2}},\"shapedefaults\":{\"line\":{\"color\":\"#f2f5fa\"}},\"annotationdefaults\":{\"arrowcolor\":\"#f2f5fa\",\"arrowhead\":0,\"arrowwidth\":1},\"geo\":{\"bgcolor\":\"rgb(17,17,17)\",\"landcolor\":\"rgb(17,17,17)\",\"subunitcolor\":\"#506784\",\"showland\":true,\"showlakes\":true,\"lakecolor\":\"rgb(17,17,17)\"},\"title\":{\"x\":0.05},\"updatemenudefaults\":{\"bgcolor\":\"#506784\",\"borderwidth\":0},\"sliderdefaults\":{\"bgcolor\":\"#C8D4E3\",\"borderwidth\":1,\"bordercolor\":\"rgb(17,17,17)\",\"tickwidth\":0},\"mapbox\":{\"style\":\"dark\"}}},\"xaxis\":{\"anchor\":\"y\",\"domain\":[0.0,1.0],\"title\":{\"text\":\"phenotype\"}},\"yaxis\":{\"anchor\":\"x\",\"domain\":[0.0,1.0],\"title\":{\"text\":\"$P_{rep}$\"}},\"legend\":{\"title\":{\"text\":\"category\"},\"tracegroupgap\":0},\"title\":{\"text\":\"Replication probability with n=500\"},\"barmode\":\"relative\"},                        {\"responsive\": true}                    ).then(function(){\n",
       "                            \n",
       "var gd = document.getElementById('2cc5df75-9de9-4c7e-a26a-c8d0f249d506');\n",
       "var x = new MutationObserver(function (mutations, observer) {{\n",
       "        var display = window.getComputedStyle(gd).display;\n",
       "        if (!display || display === 'none') {{\n",
       "            console.log([gd, 'removed!']);\n",
       "            Plotly.purge(gd);\n",
       "            observer.disconnect();\n",
       "        }}\n",
       "}});\n",
       "\n",
       "// Listen for the removal of the full notebook cells\n",
       "var notebookContainer = gd.closest('#notebook-container');\n",
       "if (notebookContainer) {{\n",
       "    x.observe(notebookContainer, {childList: true});\n",
       "}}\n",
       "\n",
       "// Listen for the clearing of the current output cell\n",
       "var outputEl = gd.closest('.output');\n",
       "if (outputEl) {{\n",
       "    x.observe(outputEl, {childList: true});\n",
       "}}\n",
       "\n",
       "                        })                };                });            </script>        </div>"
      ]
     },
     "metadata": {},
     "output_type": "display_data"
    }
   ],
   "source": [
    "import plotly.express as px\n",
    "\n",
    "fig = px.bar(df_plot, y=0, x='phenotype', text_auto='.2s',\n",
    "            title=\"Replication probability with n=500\",\n",
    "            labels={'0':'$P_{rep}$'},\n",
    "            hover_data=['category', 'phenotype_long', 'r_discovery'], color='category')\n",
    "fig.update_traces(textfont_size=12, textangle=0, textposition=\"outside\", cliponaxis=False)\n",
    "fig.show()\n",
    "\n"
   ]
  },
  {
   "cell_type": "code",
   "execution_count": 179,
   "metadata": {},
   "outputs": [
    {
     "name": "stderr",
     "output_type": "stream",
     "text": [
      "/tmp/ipykernel_36906/85791435.py:9: FutureWarning:\n",
      "\n",
      "The `inplace` parameter in pandas.Categorical.reorder_categories is deprecated and will be removed in a future version. Reordering categories will always return a new Categorical object.\n",
      "\n"
     ]
    }
   ],
   "source": [
    "import plotly\n",
    "import plotly.graph_objs as go\n",
    "\n",
    "colors = [\"#de324c\",\"#f4895f\",\"#f8e16f\",\"#95cf92\",\"#9656a2\",\"#369acc\"]\n",
    "\n",
    "cols = [ colors[c] for c in pd.Categorical(df_plot['category']).codes]\n",
    "\n",
    "df_plot['category'] = pd.Categorical(df_plot['category'])\n",
    "df_plot['category'].cat.reorder_categories(['Emotion', 'Sensory',  'Motor', 'Alertness', 'Personality',  'Cognition'], inplace= True)\n",
    "df_plot = df_plot.sort_values(by=['category', 'r_discovery'], ascending=False)\n",
    "\n",
    "trace1l = go.Scatter( name='',\n",
    "            x=df_plot['phenotype'].values,\n",
    "            y=[80] * len(df_plot['phenotype'].values),\n",
    "            mode='lines',\n",
    "            line = dict(color='gray', width=1, dash='dash'),\n",
    "            showlegend=False,\n",
    "            hovertemplate=\"Replication threshold\"\n",
    "        )\n",
    "\n",
    "trace1 = go.Bar(x=df_plot['phenotype'].values,y=df_plot[0].values, name='',\n",
    "                marker_color=cols, showlegend=False,\n",
    "                customdata=df_plot.values,\n",
    "                #texttemplate=\"%{y:0.0f}%\",\n",
    "                textposition=\"outside\",\n",
    "                textangle=0,\n",
    "                textfont_color=\"gray\",\n",
    "                hovertemplate=\"<br>\".join([\n",
    "                    \"Domain: %{customdata[2]}\",\n",
    "                    \"Effect Size: r=%{customdata[1]:.2f}\",\n",
    "                    \"Replication Probability: %{customdata[0]:.0f}%\",\n",
    "                    \"Description: %{customdata[4]}\"\n",
    "                ])\n",
    "                #hovertext=pd.Categorical(df_plot['category'])\n",
    "                )\n",
    "\n",
    "trace2l = go.Scatter( name='',\n",
    "            x=df_plot['phenotype'].values,\n",
    "            y=[0.074] * len(df_plot['phenotype'].values),\n",
    "            mode='lines',\n",
    "            line = dict(color='gray', width=1, dash='dash'),\n",
    "            showlegend=False,\n",
    "            hovertemplate=\"Significance threshold\",\n",
    "            visible=False\n",
    "        )\n",
    "\n",
    "\n",
    "trace2 = go.Bar(x=df_plot['phenotype'].values,y=df_plot['r_discovery'], visible=False, name='',\n",
    "                marker_color=cols, showlegend=False,\n",
    "                customdata=df_plot.values,\n",
    "                #texttemplate=\"%{y:0.2f}\",\n",
    "                textposition=\"outside\",\n",
    "                textangle=0,\n",
    "                textfont_color=\"gray\",\n",
    "                hovertemplate=\"<br>\".join([\n",
    "                    \"Domain: %{customdata[2]}\",\n",
    "                    \"Effect Size: r=%{customdata[1]:.2f}\",\n",
    "                    \"Replication Probability: %{customdata[0]:.0f}%\",\n",
    "                    \"Description: %{customdata[4]}\"\n",
    "                ])\n",
    "                )\n",
    "data = [trace1l, trace1, trace2l, trace2]\n",
    "\n",
    "updatemenus = list([\n",
    "    dict(active=0,\n",
    "         showactive = True,\n",
    "         buttons=list([\n",
    "            dict(label = \"Replication Probability\",\n",
    "                 method = \"update\",\n",
    "                 args = [{\"visible\": [True, True, False, False]}]), # hide trace2\n",
    "            dict(label = \"Predictive Effect Size\",\n",
    "                 method = \"update\",\n",
    "                 args = [{\"visible\": [False, False, True, True]}]) # hide trace1\n",
    "            ]),\n",
    "         x = 0,\n",
    "         xanchor = 'left',\n",
    "         y = 1.5,\n",
    "         yanchor = 'top',\n",
    "         )])\n",
    "\n",
    "layout = dict(title=\"\",\n",
    "              showlegend=True,\n",
    "              xaxis=dict(title=\"Phenotype\",\n",
    "                        showgrid=False, # thin lines in the background\n",
    "                        #showticklabels=False,  # numbers below),\n",
    "                        zeroline=True # thick line at x=0\n",
    "                         ),\n",
    "              updatemenus=updatemenus,\n",
    "              template='simple_white',\n",
    "              font=dict(\n",
    "                size=10,\n",
    "                color=\"gray\"),\n",
    "              autosize=True,\n",
    "              height=300,\n",
    "              margin=dict(\n",
    "              l=5,\n",
    "              r=5,\n",
    "              b=10,\n",
    "              t=10,\n",
    "              pad=4\n",
    "    ),\n",
    "    )\n",
    "\n",
    "fig=dict(data=data, layout=layout)\n",
    "\n",
    "#plotly.offline.plot(fig)\n",
    "#go.Figure(fig).show()\n",
    "import plotly.io as pio\n",
    "pio.write_html(fig, file='docs/_includes/figure.html', auto_open=True)"
   ]
  },
  {
   "cell_type": "code",
   "execution_count": 25,
   "metadata": {},
   "outputs": [
    {
     "data": {
      "text/html": [
       "<div>\n",
       "<style scoped>\n",
       "    .dataframe tbody tr th:only-of-type {\n",
       "        vertical-align: middle;\n",
       "    }\n",
       "\n",
       "    .dataframe tbody tr th {\n",
       "        vertical-align: top;\n",
       "    }\n",
       "\n",
       "    .dataframe thead th {\n",
       "        text-align: right;\n",
       "    }\n",
       "</style>\n",
       "<table border=\"1\" class=\"dataframe\">\n",
       "  <thead>\n",
       "    <tr style=\"text-align: right;\">\n",
       "      <th></th>\n",
       "      <th>0</th>\n",
       "      <th>r_discovery</th>\n",
       "      <th>category</th>\n",
       "      <th>phenotype</th>\n",
       "      <th>phenotype_long</th>\n",
       "    </tr>\n",
       "    <tr>\n",
       "      <th>target</th>\n",
       "      <th></th>\n",
       "      <th></th>\n",
       "      <th></th>\n",
       "      <th></th>\n",
       "      <th></th>\n",
       "    </tr>\n",
       "  </thead>\n",
       "  <tbody>\n",
       "    <tr>\n",
       "      <th>CogCrystalComp_AgeAdj</th>\n",
       "      <td>100.000000</td>\n",
       "      <td>0.509356</td>\n",
       "      <td>Cognition</td>\n",
       "      <td>CogCrystalComp_AgeAdj</td>\n",
       "      <td>NIH Toolbox Cognition Crystallized Composite: ...</td>\n",
       "    </tr>\n",
       "    <tr>\n",
       "      <th>PicVocab_AgeAdj</th>\n",
       "      <td>100.000000</td>\n",
       "      <td>0.474802</td>\n",
       "      <td>Cognition</td>\n",
       "      <td>PicVocab_AgeAdj</td>\n",
       "      <td>NIH Toolbox Picture Vocabulary Test: Age-Adjus...</td>\n",
       "    </tr>\n",
       "    <tr>\n",
       "      <th>CogTotalComp_AgeAdj</th>\n",
       "      <td>100.000000</td>\n",
       "      <td>0.472652</td>\n",
       "      <td>Cognition</td>\n",
       "      <td>CogTotalComp_AgeAdj</td>\n",
       "      <td>NIH Toolbox Cognition Total Composite Score: A...</td>\n",
       "    </tr>\n",
       "    <tr>\n",
       "      <th>ReadEng_AgeAdj</th>\n",
       "      <td>100.000000</td>\n",
       "      <td>0.450867</td>\n",
       "      <td>Cognition</td>\n",
       "      <td>ReadEng_AgeAdj</td>\n",
       "      <td>NIH Toolbox Oral Reading Recognition Test: Age...</td>\n",
       "    </tr>\n",
       "    <tr>\n",
       "      <th>CogEarlyComp_AgeAdj</th>\n",
       "      <td>100.000000</td>\n",
       "      <td>0.350107</td>\n",
       "      <td>Cognition</td>\n",
       "      <td>CogEarlyComp_AgeAdj</td>\n",
       "      <td>NIH Toolbox Cognition Early Childhood Composit...</td>\n",
       "    </tr>\n",
       "    <tr>\n",
       "      <th>VSPLOT_TC</th>\n",
       "      <td>100.000000</td>\n",
       "      <td>0.330419</td>\n",
       "      <td>Cognition</td>\n",
       "      <td>VSPLOT_TC</td>\n",
       "      <td>Variable Short Penn Line Orientation: Total Nu...</td>\n",
       "    </tr>\n",
       "    <tr>\n",
       "      <th>CogFluidComp_AgeAdj</th>\n",
       "      <td>100.000000</td>\n",
       "      <td>0.304980</td>\n",
       "      <td>Cognition</td>\n",
       "      <td>CogFluidComp_AgeAdj</td>\n",
       "      <td>NIH Toolbox Cognition Fluid Composite: Age Adj...</td>\n",
       "    </tr>\n",
       "    <tr>\n",
       "      <th>PMAT24_A_CR</th>\n",
       "      <td>100.000000</td>\n",
       "      <td>0.292243</td>\n",
       "      <td>Cognition</td>\n",
       "      <td>PMAT24_A_CR</td>\n",
       "      <td>Penn Progressive Matrices: Number of Correct R...</td>\n",
       "    </tr>\n",
       "    <tr>\n",
       "      <th>ListSort_AgeAdj</th>\n",
       "      <td>100.000000</td>\n",
       "      <td>0.272622</td>\n",
       "      <td>Cognition</td>\n",
       "      <td>ListSort_AgeAdj</td>\n",
       "      <td>NIH Toolbox List Sorting Working Memory Test: ...</td>\n",
       "    </tr>\n",
       "    <tr>\n",
       "      <th>NEOFAC_O</th>\n",
       "      <td>100.000000</td>\n",
       "      <td>0.265051</td>\n",
       "      <td>Personality</td>\n",
       "      <td>NEOFAC_O</td>\n",
       "      <td>NEO-FFI Openness to Experience (NEOFAC_O)</td>\n",
       "    </tr>\n",
       "    <tr>\n",
       "      <th>DDisc_AUC_200</th>\n",
       "      <td>100.000000</td>\n",
       "      <td>0.208845</td>\n",
       "      <td>Cognition</td>\n",
       "      <td>DDisc_AUC_200</td>\n",
       "      <td>Delay Discounting: Area Under the Curve for Di...</td>\n",
       "    </tr>\n",
       "    <tr>\n",
       "      <th>LifeSatisf_Unadj</th>\n",
       "      <td>100.000000</td>\n",
       "      <td>0.198733</td>\n",
       "      <td>Emotion</td>\n",
       "      <td>LifeSatisf_Unadj</td>\n",
       "      <td>NIH Toolbox General Life Satisfaction Survey: ...</td>\n",
       "    </tr>\n",
       "    <tr>\n",
       "      <th>AngAggr_Unadj</th>\n",
       "      <td>100.000000</td>\n",
       "      <td>0.194056</td>\n",
       "      <td>Emotion</td>\n",
       "      <td>AngAggr_Unadj</td>\n",
       "      <td>NIH Toolbox Anger-Physical Aggression Survey: ...</td>\n",
       "    </tr>\n",
       "    <tr>\n",
       "      <th>NEOFAC_A</th>\n",
       "      <td>100.000000</td>\n",
       "      <td>0.192264</td>\n",
       "      <td>Personality</td>\n",
       "      <td>NEOFAC_A</td>\n",
       "      <td>NEO-FFI Agreeableness (NEOFAC_A)</td>\n",
       "    </tr>\n",
       "    <tr>\n",
       "      <th>PicSeq_AgeAdj</th>\n",
       "      <td>100.000000</td>\n",
       "      <td>0.182331</td>\n",
       "      <td>Cognition</td>\n",
       "      <td>PicSeq_AgeAdj</td>\n",
       "      <td>NIH Toolbox Picture Sequence Memory Test: Age-...</td>\n",
       "    </tr>\n",
       "    <tr>\n",
       "      <th>NEOFAC_C</th>\n",
       "      <td>100.000000</td>\n",
       "      <td>0.179737</td>\n",
       "      <td>Personality</td>\n",
       "      <td>NEOFAC_C</td>\n",
       "      <td>NEO-FFI Conscientiousness (NEOFAC_C)</td>\n",
       "    </tr>\n",
       "    <tr>\n",
       "      <th>CardSort_AgeAdj</th>\n",
       "      <td>100.000000</td>\n",
       "      <td>0.178966</td>\n",
       "      <td>Cognition</td>\n",
       "      <td>CardSort_AgeAdj</td>\n",
       "      <td>NIH Toolbox Dimensional Change Card Sort Test:...</td>\n",
       "    </tr>\n",
       "    <tr>\n",
       "      <th>Dexterity_AgeAdj</th>\n",
       "      <td>98.924731</td>\n",
       "      <td>0.169838</td>\n",
       "      <td>Motor</td>\n",
       "      <td>Dexterity_AgeAdj</td>\n",
       "      <td>NIH Toolbox 9-hole Pegboard Dexterity Test : A...</td>\n",
       "    </tr>\n",
       "    <tr>\n",
       "      <th>NEOFAC_E</th>\n",
       "      <td>98.936170</td>\n",
       "      <td>0.157920</td>\n",
       "      <td>Personality</td>\n",
       "      <td>NEOFAC_E</td>\n",
       "      <td>NEO-FFI Extraversion (NEOFAC_E)</td>\n",
       "    </tr>\n",
       "    <tr>\n",
       "      <th>FearAffect_Unadj</th>\n",
       "      <td>100.000000</td>\n",
       "      <td>0.155632</td>\n",
       "      <td>Emotion</td>\n",
       "      <td>FearAffect_Unadj</td>\n",
       "      <td>NIH Toolbox Fear-Affect Survey: Unadjusted Sca...</td>\n",
       "    </tr>\n",
       "    <tr>\n",
       "      <th>SCPT_SPEC</th>\n",
       "      <td>100.000000</td>\n",
       "      <td>0.148358</td>\n",
       "      <td>Cognition</td>\n",
       "      <td>SCPT_SPEC</td>\n",
       "      <td>Short Penn Continuous Performance Test: Specif...</td>\n",
       "    </tr>\n",
       "    <tr>\n",
       "      <th>PSQI_Score</th>\n",
       "      <td>98.850575</td>\n",
       "      <td>0.142913</td>\n",
       "      <td>Alertness</td>\n",
       "      <td>PSQI_Score</td>\n",
       "      <td>Sleep (Pittsburgh Sleep Questionnaire) Total S...</td>\n",
       "    </tr>\n",
       "    <tr>\n",
       "      <th>Noise_Comp</th>\n",
       "      <td>97.674419</td>\n",
       "      <td>0.137544</td>\n",
       "      <td>Sensory</td>\n",
       "      <td>Noise_Comp</td>\n",
       "      <td>NIH Toolbox Words-In-Noise Age 6+: Computed Score</td>\n",
       "    </tr>\n",
       "    <tr>\n",
       "      <th>Sadness_Unadj</th>\n",
       "      <td>94.047619</td>\n",
       "      <td>0.132782</td>\n",
       "      <td>Emotion</td>\n",
       "      <td>Sadness_Unadj</td>\n",
       "      <td>NIH Toolbox Sadness Survey: Unadjusted Scale S...</td>\n",
       "    </tr>\n",
       "    <tr>\n",
       "      <th>Flanker_AgeAdj</th>\n",
       "      <td>98.876404</td>\n",
       "      <td>0.132261</td>\n",
       "      <td>Cognition</td>\n",
       "      <td>Flanker_AgeAdj</td>\n",
       "      <td>NIH Toolbox Flanker Inhibitory Control and Att...</td>\n",
       "    </tr>\n",
       "    <tr>\n",
       "      <th>EmotSupp_Unadj</th>\n",
       "      <td>96.551724</td>\n",
       "      <td>0.126029</td>\n",
       "      <td>Emotion</td>\n",
       "      <td>EmotSupp_Unadj</td>\n",
       "      <td>NIH Toolbox Emotional Support Survey: Unadjust...</td>\n",
       "    </tr>\n",
       "    <tr>\n",
       "      <th>ProcSpeed_AgeAdj</th>\n",
       "      <td>84.615385</td>\n",
       "      <td>0.117641</td>\n",
       "      <td>Cognition</td>\n",
       "      <td>ProcSpeed_AgeAdj</td>\n",
       "      <td>NIH Toolbox Pattern Comparison Processing Spee...</td>\n",
       "    </tr>\n",
       "    <tr>\n",
       "      <th>MMSE_Score</th>\n",
       "      <td>89.873418</td>\n",
       "      <td>0.112352</td>\n",
       "      <td>Alertness</td>\n",
       "      <td>MMSE_Score</td>\n",
       "      <td>Mini Mental Status Exam Total Score</td>\n",
       "    </tr>\n",
       "    <tr>\n",
       "      <th>Loneliness_Unadj</th>\n",
       "      <td>71.666667</td>\n",
       "      <td>0.101812</td>\n",
       "      <td>Emotion</td>\n",
       "      <td>Loneliness_Unadj</td>\n",
       "      <td>NIH Toolbox Loneliness Survey: Unadjusted Scal...</td>\n",
       "    </tr>\n",
       "    <tr>\n",
       "      <th>PercStress_Unadj</th>\n",
       "      <td>62.500000</td>\n",
       "      <td>0.100211</td>\n",
       "      <td>Emotion</td>\n",
       "      <td>PercStress_Unadj</td>\n",
       "      <td>NIH Toolbox Perceived Stress Survey: Unadjuste...</td>\n",
       "    </tr>\n",
       "    <tr>\n",
       "      <th>SelfEff_Unadj</th>\n",
       "      <td>81.818182</td>\n",
       "      <td>0.099904</td>\n",
       "      <td>Emotion</td>\n",
       "      <td>SelfEff_Unadj</td>\n",
       "      <td>NIH Toolbox Self-Efficacy Survey: Unadjusted S...</td>\n",
       "    </tr>\n",
       "    <tr>\n",
       "      <th>MeanPurp_Unadj</th>\n",
       "      <td>50.769231</td>\n",
       "      <td>0.099847</td>\n",
       "      <td>Emotion</td>\n",
       "      <td>MeanPurp_Unadj</td>\n",
       "      <td>NIH Toolbox Meaning and Purpose Survey: Unadju...</td>\n",
       "    </tr>\n",
       "    <tr>\n",
       "      <th>PosAffect_Unadj</th>\n",
       "      <td>55.223881</td>\n",
       "      <td>0.098838</td>\n",
       "      <td>Emotion</td>\n",
       "      <td>PosAffect_Unadj</td>\n",
       "      <td>NIH Toolbox Positive Affect Survey: Unadjusted...</td>\n",
       "    </tr>\n",
       "    <tr>\n",
       "      <th>AngAffect_Unadj</th>\n",
       "      <td>69.230769</td>\n",
       "      <td>0.096750</td>\n",
       "      <td>Emotion</td>\n",
       "      <td>AngAffect_Unadj</td>\n",
       "      <td>NIH Toolbox Anger-Affect Survey: Unadjusted Sc...</td>\n",
       "    </tr>\n",
       "    <tr>\n",
       "      <th>Taste_AgeAdj</th>\n",
       "      <td>43.103448</td>\n",
       "      <td>0.094419</td>\n",
       "      <td>Sensory</td>\n",
       "      <td>Taste_AgeAdj</td>\n",
       "      <td>NIH Toolbox Regional Taste Intensity Age 12+ A...</td>\n",
       "    </tr>\n",
       "    <tr>\n",
       "      <th>Friendship_Unadj</th>\n",
       "      <td>44.000000</td>\n",
       "      <td>0.085313</td>\n",
       "      <td>Emotion</td>\n",
       "      <td>Friendship_Unadj</td>\n",
       "      <td>NIH Toolbox Friendship Survey: Unadjusted Scal...</td>\n",
       "    </tr>\n",
       "    <tr>\n",
       "      <th>Mars_Final</th>\n",
       "      <td>6.666667</td>\n",
       "      <td>0.081530</td>\n",
       "      <td>Sensory</td>\n",
       "      <td>Mars_Final</td>\n",
       "      <td>Mars Final Contrast Sensitivity Score</td>\n",
       "    </tr>\n",
       "    <tr>\n",
       "      <th>IWRD_TOT</th>\n",
       "      <td>36.538462</td>\n",
       "      <td>0.081018</td>\n",
       "      <td>Cognition</td>\n",
       "      <td>IWRD_TOT</td>\n",
       "      <td>Penn Word Memory Test: Total Number of Correct...</td>\n",
       "    </tr>\n",
       "    <tr>\n",
       "      <th>NEOFAC_N</th>\n",
       "      <td>40.000000</td>\n",
       "      <td>0.073143</td>\n",
       "      <td>Personality</td>\n",
       "      <td>NEOFAC_N</td>\n",
       "      <td>NEO-FFI Neuroticism (NEOFAC_N)</td>\n",
       "    </tr>\n",
       "    <tr>\n",
       "      <th>ER40ANG</th>\n",
       "      <td>44.680851</td>\n",
       "      <td>0.072909</td>\n",
       "      <td>Emotion</td>\n",
       "      <td>ER40ANG</td>\n",
       "      <td>Penn Emotion Recognition Test: Number of Corre...</td>\n",
       "    </tr>\n",
       "    <tr>\n",
       "      <th>AngHostil_Unadj</th>\n",
       "      <td>41.025641</td>\n",
       "      <td>0.063366</td>\n",
       "      <td>Emotion</td>\n",
       "      <td>AngHostil_Unadj</td>\n",
       "      <td>NIH Toolbox Anger-Hostility Survey: Unadjusted...</td>\n",
       "    </tr>\n",
       "    <tr>\n",
       "      <th>FearSomat_Unadj</th>\n",
       "      <td>14.285714</td>\n",
       "      <td>0.061101</td>\n",
       "      <td>Emotion</td>\n",
       "      <td>FearSomat_Unadj</td>\n",
       "      <td>NIH Toolbox Fear-Somatic Arousal Survey: Unadj...</td>\n",
       "    </tr>\n",
       "    <tr>\n",
       "      <th>ER40NOE</th>\n",
       "      <td>16.666667</td>\n",
       "      <td>0.050150</td>\n",
       "      <td>Emotion</td>\n",
       "      <td>ER40NOE</td>\n",
       "      <td>Penn Emotion Recognition Test: Number of Corre...</td>\n",
       "    </tr>\n",
       "    <tr>\n",
       "      <th>InstruSupp_Unadj</th>\n",
       "      <td>4.166667</td>\n",
       "      <td>0.041920</td>\n",
       "      <td>Emotion</td>\n",
       "      <td>InstruSupp_Unadj</td>\n",
       "      <td>NIH Toolbox Instrumental Support Survey: Unadj...</td>\n",
       "    </tr>\n",
       "    <tr>\n",
       "      <th>PercHostil_Unadj</th>\n",
       "      <td>0.000000</td>\n",
       "      <td>0.037622</td>\n",
       "      <td>Emotion</td>\n",
       "      <td>PercHostil_Unadj</td>\n",
       "      <td>NIH Toolbox Perceived Hostility Survey: Unadju...</td>\n",
       "    </tr>\n",
       "    <tr>\n",
       "      <th>PercReject_Unadj</th>\n",
       "      <td>4.347826</td>\n",
       "      <td>0.036887</td>\n",
       "      <td>Emotion</td>\n",
       "      <td>PercReject_Unadj</td>\n",
       "      <td>NIH Toolbox Perceived Rejection Survey: Unadju...</td>\n",
       "    </tr>\n",
       "    <tr>\n",
       "      <th>Odor_AgeAdj</th>\n",
       "      <td>0.000000</td>\n",
       "      <td>0.034223</td>\n",
       "      <td>Sensory</td>\n",
       "      <td>Odor_AgeAdj</td>\n",
       "      <td>NIH Toolbox Odor Identification Age 3+ Age-Adj...</td>\n",
       "    </tr>\n",
       "    <tr>\n",
       "      <th>ER40FEAR</th>\n",
       "      <td>0.000000</td>\n",
       "      <td>0.033788</td>\n",
       "      <td>Emotion</td>\n",
       "      <td>ER40FEAR</td>\n",
       "      <td>Penn Emotion Recognition Test: Number of Corre...</td>\n",
       "    </tr>\n",
       "    <tr>\n",
       "      <th>ER40SAD</th>\n",
       "      <td>10.000000</td>\n",
       "      <td>0.033559</td>\n",
       "      <td>Emotion</td>\n",
       "      <td>ER40SAD</td>\n",
       "      <td>Penn Emotion Recognition Test: Number of Corre...</td>\n",
       "    </tr>\n",
       "    <tr>\n",
       "      <th>PainInterf_Tscore</th>\n",
       "      <td>0.000000</td>\n",
       "      <td>0.032742</td>\n",
       "      <td>Sensory</td>\n",
       "      <td>PainInterf_Tscore</td>\n",
       "      <td>NIH Toolbox Pain Interference Survey Age 18+: ...</td>\n",
       "    </tr>\n",
       "    <tr>\n",
       "      <th>SCPT_SEN</th>\n",
       "      <td>0.000000</td>\n",
       "      <td>0.004953</td>\n",
       "      <td>Cognition</td>\n",
       "      <td>SCPT_SEN</td>\n",
       "      <td>Short Penn Continuous Performance Test: Sensit...</td>\n",
       "    </tr>\n",
       "    <tr>\n",
       "      <th>ER40HAP</th>\n",
       "      <td>NaN</td>\n",
       "      <td>-0.059106</td>\n",
       "      <td>Emotion</td>\n",
       "      <td>ER40HAP</td>\n",
       "      <td>Penn Emotion Recognition Test: Number of Corre...</td>\n",
       "    </tr>\n",
       "  </tbody>\n",
       "</table>\n",
       "</div>"
      ],
      "text/plain": [
       "                                0  r_discovery     category  \\\n",
       "target                                                        \n",
       "CogCrystalComp_AgeAdj  100.000000     0.509356    Cognition   \n",
       "PicVocab_AgeAdj        100.000000     0.474802    Cognition   \n",
       "CogTotalComp_AgeAdj    100.000000     0.472652    Cognition   \n",
       "ReadEng_AgeAdj         100.000000     0.450867    Cognition   \n",
       "CogEarlyComp_AgeAdj    100.000000     0.350107    Cognition   \n",
       "VSPLOT_TC              100.000000     0.330419    Cognition   \n",
       "CogFluidComp_AgeAdj    100.000000     0.304980    Cognition   \n",
       "PMAT24_A_CR            100.000000     0.292243    Cognition   \n",
       "ListSort_AgeAdj        100.000000     0.272622    Cognition   \n",
       "NEOFAC_O               100.000000     0.265051  Personality   \n",
       "DDisc_AUC_200          100.000000     0.208845    Cognition   \n",
       "LifeSatisf_Unadj       100.000000     0.198733      Emotion   \n",
       "AngAggr_Unadj          100.000000     0.194056      Emotion   \n",
       "NEOFAC_A               100.000000     0.192264  Personality   \n",
       "PicSeq_AgeAdj          100.000000     0.182331    Cognition   \n",
       "NEOFAC_C               100.000000     0.179737  Personality   \n",
       "CardSort_AgeAdj        100.000000     0.178966    Cognition   \n",
       "Dexterity_AgeAdj        98.924731     0.169838        Motor   \n",
       "NEOFAC_E                98.936170     0.157920  Personality   \n",
       "FearAffect_Unadj       100.000000     0.155632      Emotion   \n",
       "SCPT_SPEC              100.000000     0.148358    Cognition   \n",
       "PSQI_Score              98.850575     0.142913    Alertness   \n",
       "Noise_Comp              97.674419     0.137544      Sensory   \n",
       "Sadness_Unadj           94.047619     0.132782      Emotion   \n",
       "Flanker_AgeAdj          98.876404     0.132261    Cognition   \n",
       "EmotSupp_Unadj          96.551724     0.126029      Emotion   \n",
       "ProcSpeed_AgeAdj        84.615385     0.117641    Cognition   \n",
       "MMSE_Score              89.873418     0.112352    Alertness   \n",
       "Loneliness_Unadj        71.666667     0.101812      Emotion   \n",
       "PercStress_Unadj        62.500000     0.100211      Emotion   \n",
       "SelfEff_Unadj           81.818182     0.099904      Emotion   \n",
       "MeanPurp_Unadj          50.769231     0.099847      Emotion   \n",
       "PosAffect_Unadj         55.223881     0.098838      Emotion   \n",
       "AngAffect_Unadj         69.230769     0.096750      Emotion   \n",
       "Taste_AgeAdj            43.103448     0.094419      Sensory   \n",
       "Friendship_Unadj        44.000000     0.085313      Emotion   \n",
       "Mars_Final               6.666667     0.081530      Sensory   \n",
       "IWRD_TOT                36.538462     0.081018    Cognition   \n",
       "NEOFAC_N                40.000000     0.073143  Personality   \n",
       "ER40ANG                 44.680851     0.072909      Emotion   \n",
       "AngHostil_Unadj         41.025641     0.063366      Emotion   \n",
       "FearSomat_Unadj         14.285714     0.061101      Emotion   \n",
       "ER40NOE                 16.666667     0.050150      Emotion   \n",
       "InstruSupp_Unadj         4.166667     0.041920      Emotion   \n",
       "PercHostil_Unadj         0.000000     0.037622      Emotion   \n",
       "PercReject_Unadj         4.347826     0.036887      Emotion   \n",
       "Odor_AgeAdj              0.000000     0.034223      Sensory   \n",
       "ER40FEAR                 0.000000     0.033788      Emotion   \n",
       "ER40SAD                 10.000000     0.033559      Emotion   \n",
       "PainInterf_Tscore        0.000000     0.032742      Sensory   \n",
       "SCPT_SEN                 0.000000     0.004953    Cognition   \n",
       "ER40HAP                       NaN    -0.059106      Emotion   \n",
       "\n",
       "                                   phenotype  \\\n",
       "target                                         \n",
       "CogCrystalComp_AgeAdj  CogCrystalComp_AgeAdj   \n",
       "PicVocab_AgeAdj              PicVocab_AgeAdj   \n",
       "CogTotalComp_AgeAdj      CogTotalComp_AgeAdj   \n",
       "ReadEng_AgeAdj                ReadEng_AgeAdj   \n",
       "CogEarlyComp_AgeAdj      CogEarlyComp_AgeAdj   \n",
       "VSPLOT_TC                          VSPLOT_TC   \n",
       "CogFluidComp_AgeAdj      CogFluidComp_AgeAdj   \n",
       "PMAT24_A_CR                      PMAT24_A_CR   \n",
       "ListSort_AgeAdj              ListSort_AgeAdj   \n",
       "NEOFAC_O                            NEOFAC_O   \n",
       "DDisc_AUC_200                  DDisc_AUC_200   \n",
       "LifeSatisf_Unadj            LifeSatisf_Unadj   \n",
       "AngAggr_Unadj                  AngAggr_Unadj   \n",
       "NEOFAC_A                            NEOFAC_A   \n",
       "PicSeq_AgeAdj                  PicSeq_AgeAdj   \n",
       "NEOFAC_C                            NEOFAC_C   \n",
       "CardSort_AgeAdj              CardSort_AgeAdj   \n",
       "Dexterity_AgeAdj            Dexterity_AgeAdj   \n",
       "NEOFAC_E                            NEOFAC_E   \n",
       "FearAffect_Unadj            FearAffect_Unadj   \n",
       "SCPT_SPEC                          SCPT_SPEC   \n",
       "PSQI_Score                        PSQI_Score   \n",
       "Noise_Comp                        Noise_Comp   \n",
       "Sadness_Unadj                  Sadness_Unadj   \n",
       "Flanker_AgeAdj                Flanker_AgeAdj   \n",
       "EmotSupp_Unadj                EmotSupp_Unadj   \n",
       "ProcSpeed_AgeAdj            ProcSpeed_AgeAdj   \n",
       "MMSE_Score                        MMSE_Score   \n",
       "Loneliness_Unadj            Loneliness_Unadj   \n",
       "PercStress_Unadj            PercStress_Unadj   \n",
       "SelfEff_Unadj                  SelfEff_Unadj   \n",
       "MeanPurp_Unadj                MeanPurp_Unadj   \n",
       "PosAffect_Unadj              PosAffect_Unadj   \n",
       "AngAffect_Unadj              AngAffect_Unadj   \n",
       "Taste_AgeAdj                    Taste_AgeAdj   \n",
       "Friendship_Unadj            Friendship_Unadj   \n",
       "Mars_Final                        Mars_Final   \n",
       "IWRD_TOT                            IWRD_TOT   \n",
       "NEOFAC_N                            NEOFAC_N   \n",
       "ER40ANG                              ER40ANG   \n",
       "AngHostil_Unadj              AngHostil_Unadj   \n",
       "FearSomat_Unadj              FearSomat_Unadj   \n",
       "ER40NOE                              ER40NOE   \n",
       "InstruSupp_Unadj            InstruSupp_Unadj   \n",
       "PercHostil_Unadj            PercHostil_Unadj   \n",
       "PercReject_Unadj            PercReject_Unadj   \n",
       "Odor_AgeAdj                      Odor_AgeAdj   \n",
       "ER40FEAR                            ER40FEAR   \n",
       "ER40SAD                              ER40SAD   \n",
       "PainInterf_Tscore          PainInterf_Tscore   \n",
       "SCPT_SEN                            SCPT_SEN   \n",
       "ER40HAP                              ER40HAP   \n",
       "\n",
       "                                                          phenotype_long  \n",
       "target                                                                    \n",
       "CogCrystalComp_AgeAdj  NIH Toolbox Cognition Crystallized Composite: ...  \n",
       "PicVocab_AgeAdj        NIH Toolbox Picture Vocabulary Test: Age-Adjus...  \n",
       "CogTotalComp_AgeAdj    NIH Toolbox Cognition Total Composite Score: A...  \n",
       "ReadEng_AgeAdj         NIH Toolbox Oral Reading Recognition Test: Age...  \n",
       "CogEarlyComp_AgeAdj    NIH Toolbox Cognition Early Childhood Composit...  \n",
       "VSPLOT_TC              Variable Short Penn Line Orientation: Total Nu...  \n",
       "CogFluidComp_AgeAdj    NIH Toolbox Cognition Fluid Composite: Age Adj...  \n",
       "PMAT24_A_CR            Penn Progressive Matrices: Number of Correct R...  \n",
       "ListSort_AgeAdj        NIH Toolbox List Sorting Working Memory Test: ...  \n",
       "NEOFAC_O                       NEO-FFI Openness to Experience (NEOFAC_O)  \n",
       "DDisc_AUC_200          Delay Discounting: Area Under the Curve for Di...  \n",
       "LifeSatisf_Unadj       NIH Toolbox General Life Satisfaction Survey: ...  \n",
       "AngAggr_Unadj          NIH Toolbox Anger-Physical Aggression Survey: ...  \n",
       "NEOFAC_A                                NEO-FFI Agreeableness (NEOFAC_A)  \n",
       "PicSeq_AgeAdj          NIH Toolbox Picture Sequence Memory Test: Age-...  \n",
       "NEOFAC_C                            NEO-FFI Conscientiousness (NEOFAC_C)  \n",
       "CardSort_AgeAdj        NIH Toolbox Dimensional Change Card Sort Test:...  \n",
       "Dexterity_AgeAdj       NIH Toolbox 9-hole Pegboard Dexterity Test : A...  \n",
       "NEOFAC_E                                 NEO-FFI Extraversion (NEOFAC_E)  \n",
       "FearAffect_Unadj       NIH Toolbox Fear-Affect Survey: Unadjusted Sca...  \n",
       "SCPT_SPEC              Short Penn Continuous Performance Test: Specif...  \n",
       "PSQI_Score             Sleep (Pittsburgh Sleep Questionnaire) Total S...  \n",
       "Noise_Comp             NIH Toolbox Words-In-Noise Age 6+: Computed Score  \n",
       "Sadness_Unadj          NIH Toolbox Sadness Survey: Unadjusted Scale S...  \n",
       "Flanker_AgeAdj         NIH Toolbox Flanker Inhibitory Control and Att...  \n",
       "EmotSupp_Unadj         NIH Toolbox Emotional Support Survey: Unadjust...  \n",
       "ProcSpeed_AgeAdj       NIH Toolbox Pattern Comparison Processing Spee...  \n",
       "MMSE_Score                           Mini Mental Status Exam Total Score  \n",
       "Loneliness_Unadj       NIH Toolbox Loneliness Survey: Unadjusted Scal...  \n",
       "PercStress_Unadj       NIH Toolbox Perceived Stress Survey: Unadjuste...  \n",
       "SelfEff_Unadj          NIH Toolbox Self-Efficacy Survey: Unadjusted S...  \n",
       "MeanPurp_Unadj         NIH Toolbox Meaning and Purpose Survey: Unadju...  \n",
       "PosAffect_Unadj        NIH Toolbox Positive Affect Survey: Unadjusted...  \n",
       "AngAffect_Unadj        NIH Toolbox Anger-Affect Survey: Unadjusted Sc...  \n",
       "Taste_AgeAdj           NIH Toolbox Regional Taste Intensity Age 12+ A...  \n",
       "Friendship_Unadj       NIH Toolbox Friendship Survey: Unadjusted Scal...  \n",
       "Mars_Final                         Mars Final Contrast Sensitivity Score  \n",
       "IWRD_TOT               Penn Word Memory Test: Total Number of Correct...  \n",
       "NEOFAC_N                                  NEO-FFI Neuroticism (NEOFAC_N)  \n",
       "ER40ANG                Penn Emotion Recognition Test: Number of Corre...  \n",
       "AngHostil_Unadj        NIH Toolbox Anger-Hostility Survey: Unadjusted...  \n",
       "FearSomat_Unadj        NIH Toolbox Fear-Somatic Arousal Survey: Unadj...  \n",
       "ER40NOE                Penn Emotion Recognition Test: Number of Corre...  \n",
       "InstruSupp_Unadj       NIH Toolbox Instrumental Support Survey: Unadj...  \n",
       "PercHostil_Unadj       NIH Toolbox Perceived Hostility Survey: Unadju...  \n",
       "PercReject_Unadj       NIH Toolbox Perceived Rejection Survey: Unadju...  \n",
       "Odor_AgeAdj            NIH Toolbox Odor Identification Age 3+ Age-Adj...  \n",
       "ER40FEAR               Penn Emotion Recognition Test: Number of Corre...  \n",
       "ER40SAD                Penn Emotion Recognition Test: Number of Corre...  \n",
       "PainInterf_Tscore      NIH Toolbox Pain Interference Survey Age 18+: ...  \n",
       "SCPT_SEN               Short Penn Continuous Performance Test: Sensit...  \n",
       "ER40HAP                Penn Emotion Recognition Test: Number of Corre...  "
      ]
     },
     "execution_count": 25,
     "metadata": {},
     "output_type": "execute_result"
    }
   ],
   "source": [
    "for i in df_plot.index:\n",
    "    df_plot.loc[i, 'phenotype_long'] = phenotypes.loc[phenotypes.columnHeader==i, 'fullDisplayName'].values[0]\n",
    "df_plot"
   ]
  },
  {
   "cell_type": "code",
   "execution_count": 170,
   "metadata": {},
   "outputs": [
    {
     "data": {
      "text/html": [
       "<div>\n",
       "<style scoped>\n",
       "    .dataframe tbody tr th:only-of-type {\n",
       "        vertical-align: middle;\n",
       "    }\n",
       "\n",
       "    .dataframe tbody tr th {\n",
       "        vertical-align: top;\n",
       "    }\n",
       "\n",
       "    .dataframe thead th {\n",
       "        text-align: right;\n",
       "    }\n",
       "</style>\n",
       "<table border=\"1\" class=\"dataframe\">\n",
       "  <thead>\n",
       "    <tr style=\"text-align: right;\">\n",
       "      <th></th>\n",
       "      <th>CogTotalComp_AgeAdj</th>\n",
       "      <th>CogFluidComp_AgeAdj</th>\n",
       "      <th>PMAT24_A_CR</th>\n",
       "      <th>Flanker_AgeAdj</th>\n",
       "      <th>CardSort_AgeAdj</th>\n",
       "      <th>PicSeq_AgeAdj</th>\n",
       "    </tr>\n",
       "  </thead>\n",
       "  <tbody>\n",
       "    <tr>\n",
       "      <th>CogTotalComp_AgeAdj</th>\n",
       "      <td>1.000000</td>\n",
       "      <td>0.844787</td>\n",
       "      <td>0.529659</td>\n",
       "      <td>0.519260</td>\n",
       "      <td>0.568456</td>\n",
       "      <td>0.515942</td>\n",
       "    </tr>\n",
       "    <tr>\n",
       "      <th>CogFluidComp_AgeAdj</th>\n",
       "      <td>0.844787</td>\n",
       "      <td>1.000000</td>\n",
       "      <td>0.356512</td>\n",
       "      <td>0.633329</td>\n",
       "      <td>0.689420</td>\n",
       "      <td>0.614940</td>\n",
       "    </tr>\n",
       "    <tr>\n",
       "      <th>PMAT24_A_CR</th>\n",
       "      <td>0.529659</td>\n",
       "      <td>0.356512</td>\n",
       "      <td>1.000000</td>\n",
       "      <td>0.130267</td>\n",
       "      <td>0.221504</td>\n",
       "      <td>0.296054</td>\n",
       "    </tr>\n",
       "    <tr>\n",
       "      <th>Flanker_AgeAdj</th>\n",
       "      <td>0.519260</td>\n",
       "      <td>0.633329</td>\n",
       "      <td>0.130267</td>\n",
       "      <td>1.000000</td>\n",
       "      <td>0.518264</td>\n",
       "      <td>0.151930</td>\n",
       "    </tr>\n",
       "    <tr>\n",
       "      <th>CardSort_AgeAdj</th>\n",
       "      <td>0.568456</td>\n",
       "      <td>0.689420</td>\n",
       "      <td>0.221504</td>\n",
       "      <td>0.518264</td>\n",
       "      <td>1.000000</td>\n",
       "      <td>0.211827</td>\n",
       "    </tr>\n",
       "    <tr>\n",
       "      <th>PicSeq_AgeAdj</th>\n",
       "      <td>0.515942</td>\n",
       "      <td>0.614940</td>\n",
       "      <td>0.296054</td>\n",
       "      <td>0.151930</td>\n",
       "      <td>0.211827</td>\n",
       "      <td>1.000000</td>\n",
       "    </tr>\n",
       "  </tbody>\n",
       "</table>\n",
       "</div>"
      ],
      "text/plain": [
       "                     CogTotalComp_AgeAdj  CogFluidComp_AgeAdj  PMAT24_A_CR  \\\n",
       "CogTotalComp_AgeAdj             1.000000             0.844787     0.529659   \n",
       "CogFluidComp_AgeAdj             0.844787             1.000000     0.356512   \n",
       "PMAT24_A_CR                     0.529659             0.356512     1.000000   \n",
       "Flanker_AgeAdj                  0.519260             0.633329     0.130267   \n",
       "CardSort_AgeAdj                 0.568456             0.689420     0.221504   \n",
       "PicSeq_AgeAdj                   0.515942             0.614940     0.296054   \n",
       "\n",
       "                     Flanker_AgeAdj  CardSort_AgeAdj  PicSeq_AgeAdj  \n",
       "CogTotalComp_AgeAdj        0.519260         0.568456       0.515942  \n",
       "CogFluidComp_AgeAdj        0.633329         0.689420       0.614940  \n",
       "PMAT24_A_CR                0.130267         0.221504       0.296054  \n",
       "Flanker_AgeAdj             1.000000         0.518264       0.151930  \n",
       "CardSort_AgeAdj            0.518264         1.000000       0.211827  \n",
       "PicSeq_AgeAdj              0.151930         0.211827       1.000000  "
      ]
     },
     "execution_count": 170,
     "metadata": {},
     "output_type": "execute_result"
    }
   ],
   "source": [
    "tmp = behavior[['CogTotalComp_AgeAdj', 'CogFluidComp_AgeAdj', 'PMAT24_A_CR', 'Flanker_AgeAdj', 'CardSort_AgeAdj', 'PicSeq_AgeAdj']]\n",
    "tmp.corr()"
   ]
  },
  {
   "cell_type": "code",
   "execution_count": 269,
   "metadata": {},
   "outputs": [
    {
     "data": {
      "application/vnd.plotly.v1+json": {
       "data": [
        {
         "labels": [
          "Replicable",
          "Not Replicable"
         ],
         "marker": {
          "colors": [
           "green",
           "red"
          ]
         },
         "name": "Trait-like",
         "rotation": -180,
         "values": [
          23,
          7
         ],
         "type": "pie",
         "domain": {
          "x": [
           0.0,
           0.45
          ],
          "y": [
           0.0,
           1.0
          ]
         },
         "hole": 0.4,
         "hoverinfo": "label+percent+name"
        },
        {
         "labels": [
          "Replicable",
          "Not Replicable"
         ],
         "name": "State-like",
         "rotation": 0,
         "values": [
          6,
          17
         ],
         "type": "pie",
         "domain": {
          "x": [
           0.55,
           1.0
          ],
          "y": [
           0.0,
           1.0
          ]
         },
         "hole": 0.4,
         "hoverinfo": "label+percent+name"
        }
       ],
       "layout": {
        "template": {
         "data": {
          "barpolar": [
           {
            "marker": {
             "line": {
              "color": "white",
              "width": 0.5
             },
             "pattern": {
              "fillmode": "overlay",
              "size": 10,
              "solidity": 0.2
             }
            },
            "type": "barpolar"
           }
          ],
          "bar": [
           {
            "error_x": {
             "color": "rgb(36,36,36)"
            },
            "error_y": {
             "color": "rgb(36,36,36)"
            },
            "marker": {
             "line": {
              "color": "white",
              "width": 0.5
             },
             "pattern": {
              "fillmode": "overlay",
              "size": 10,
              "solidity": 0.2
             }
            },
            "type": "bar"
           }
          ],
          "carpet": [
           {
            "aaxis": {
             "endlinecolor": "rgb(36,36,36)",
             "gridcolor": "white",
             "linecolor": "white",
             "minorgridcolor": "white",
             "startlinecolor": "rgb(36,36,36)"
            },
            "baxis": {
             "endlinecolor": "rgb(36,36,36)",
             "gridcolor": "white",
             "linecolor": "white",
             "minorgridcolor": "white",
             "startlinecolor": "rgb(36,36,36)"
            },
            "type": "carpet"
           }
          ],
          "choropleth": [
           {
            "colorbar": {
             "outlinewidth": 1,
             "tickcolor": "rgb(36,36,36)",
             "ticks": "outside"
            },
            "type": "choropleth"
           }
          ],
          "contourcarpet": [
           {
            "colorbar": {
             "outlinewidth": 1,
             "tickcolor": "rgb(36,36,36)",
             "ticks": "outside"
            },
            "type": "contourcarpet"
           }
          ],
          "contour": [
           {
            "colorbar": {
             "outlinewidth": 1,
             "tickcolor": "rgb(36,36,36)",
             "ticks": "outside"
            },
            "colorscale": [
             [
              0.0,
              "#440154"
             ],
             [
              0.1111111111111111,
              "#482878"
             ],
             [
              0.2222222222222222,
              "#3e4989"
             ],
             [
              0.3333333333333333,
              "#31688e"
             ],
             [
              0.4444444444444444,
              "#26828e"
             ],
             [
              0.5555555555555556,
              "#1f9e89"
             ],
             [
              0.6666666666666666,
              "#35b779"
             ],
             [
              0.7777777777777778,
              "#6ece58"
             ],
             [
              0.8888888888888888,
              "#b5de2b"
             ],
             [
              1.0,
              "#fde725"
             ]
            ],
            "type": "contour"
           }
          ],
          "heatmapgl": [
           {
            "colorbar": {
             "outlinewidth": 1,
             "tickcolor": "rgb(36,36,36)",
             "ticks": "outside"
            },
            "colorscale": [
             [
              0.0,
              "#440154"
             ],
             [
              0.1111111111111111,
              "#482878"
             ],
             [
              0.2222222222222222,
              "#3e4989"
             ],
             [
              0.3333333333333333,
              "#31688e"
             ],
             [
              0.4444444444444444,
              "#26828e"
             ],
             [
              0.5555555555555556,
              "#1f9e89"
             ],
             [
              0.6666666666666666,
              "#35b779"
             ],
             [
              0.7777777777777778,
              "#6ece58"
             ],
             [
              0.8888888888888888,
              "#b5de2b"
             ],
             [
              1.0,
              "#fde725"
             ]
            ],
            "type": "heatmapgl"
           }
          ],
          "heatmap": [
           {
            "colorbar": {
             "outlinewidth": 1,
             "tickcolor": "rgb(36,36,36)",
             "ticks": "outside"
            },
            "colorscale": [
             [
              0.0,
              "#440154"
             ],
             [
              0.1111111111111111,
              "#482878"
             ],
             [
              0.2222222222222222,
              "#3e4989"
             ],
             [
              0.3333333333333333,
              "#31688e"
             ],
             [
              0.4444444444444444,
              "#26828e"
             ],
             [
              0.5555555555555556,
              "#1f9e89"
             ],
             [
              0.6666666666666666,
              "#35b779"
             ],
             [
              0.7777777777777778,
              "#6ece58"
             ],
             [
              0.8888888888888888,
              "#b5de2b"
             ],
             [
              1.0,
              "#fde725"
             ]
            ],
            "type": "heatmap"
           }
          ],
          "histogram2dcontour": [
           {
            "colorbar": {
             "outlinewidth": 1,
             "tickcolor": "rgb(36,36,36)",
             "ticks": "outside"
            },
            "colorscale": [
             [
              0.0,
              "#440154"
             ],
             [
              0.1111111111111111,
              "#482878"
             ],
             [
              0.2222222222222222,
              "#3e4989"
             ],
             [
              0.3333333333333333,
              "#31688e"
             ],
             [
              0.4444444444444444,
              "#26828e"
             ],
             [
              0.5555555555555556,
              "#1f9e89"
             ],
             [
              0.6666666666666666,
              "#35b779"
             ],
             [
              0.7777777777777778,
              "#6ece58"
             ],
             [
              0.8888888888888888,
              "#b5de2b"
             ],
             [
              1.0,
              "#fde725"
             ]
            ],
            "type": "histogram2dcontour"
           }
          ],
          "histogram2d": [
           {
            "colorbar": {
             "outlinewidth": 1,
             "tickcolor": "rgb(36,36,36)",
             "ticks": "outside"
            },
            "colorscale": [
             [
              0.0,
              "#440154"
             ],
             [
              0.1111111111111111,
              "#482878"
             ],
             [
              0.2222222222222222,
              "#3e4989"
             ],
             [
              0.3333333333333333,
              "#31688e"
             ],
             [
              0.4444444444444444,
              "#26828e"
             ],
             [
              0.5555555555555556,
              "#1f9e89"
             ],
             [
              0.6666666666666666,
              "#35b779"
             ],
             [
              0.7777777777777778,
              "#6ece58"
             ],
             [
              0.8888888888888888,
              "#b5de2b"
             ],
             [
              1.0,
              "#fde725"
             ]
            ],
            "type": "histogram2d"
           }
          ],
          "histogram": [
           {
            "marker": {
             "line": {
              "color": "white",
              "width": 0.6
             }
            },
            "type": "histogram"
           }
          ],
          "mesh3d": [
           {
            "colorbar": {
             "outlinewidth": 1,
             "tickcolor": "rgb(36,36,36)",
             "ticks": "outside"
            },
            "type": "mesh3d"
           }
          ],
          "parcoords": [
           {
            "line": {
             "colorbar": {
              "outlinewidth": 1,
              "tickcolor": "rgb(36,36,36)",
              "ticks": "outside"
             }
            },
            "type": "parcoords"
           }
          ],
          "pie": [
           {
            "automargin": true,
            "type": "pie"
           }
          ],
          "scatter3d": [
           {
            "line": {
             "colorbar": {
              "outlinewidth": 1,
              "tickcolor": "rgb(36,36,36)",
              "ticks": "outside"
             }
            },
            "marker": {
             "colorbar": {
              "outlinewidth": 1,
              "tickcolor": "rgb(36,36,36)",
              "ticks": "outside"
             }
            },
            "type": "scatter3d"
           }
          ],
          "scattercarpet": [
           {
            "marker": {
             "colorbar": {
              "outlinewidth": 1,
              "tickcolor": "rgb(36,36,36)",
              "ticks": "outside"
             }
            },
            "type": "scattercarpet"
           }
          ],
          "scattergeo": [
           {
            "marker": {
             "colorbar": {
              "outlinewidth": 1,
              "tickcolor": "rgb(36,36,36)",
              "ticks": "outside"
             }
            },
            "type": "scattergeo"
           }
          ],
          "scattergl": [
           {
            "marker": {
             "colorbar": {
              "outlinewidth": 1,
              "tickcolor": "rgb(36,36,36)",
              "ticks": "outside"
             }
            },
            "type": "scattergl"
           }
          ],
          "scattermapbox": [
           {
            "marker": {
             "colorbar": {
              "outlinewidth": 1,
              "tickcolor": "rgb(36,36,36)",
              "ticks": "outside"
             }
            },
            "type": "scattermapbox"
           }
          ],
          "scatterpolargl": [
           {
            "marker": {
             "colorbar": {
              "outlinewidth": 1,
              "tickcolor": "rgb(36,36,36)",
              "ticks": "outside"
             }
            },
            "type": "scatterpolargl"
           }
          ],
          "scatterpolar": [
           {
            "marker": {
             "colorbar": {
              "outlinewidth": 1,
              "tickcolor": "rgb(36,36,36)",
              "ticks": "outside"
             }
            },
            "type": "scatterpolar"
           }
          ],
          "scatter": [
           {
            "fillpattern": {
             "fillmode": "overlay",
             "size": 10,
             "solidity": 0.2
            },
            "type": "scatter"
           }
          ],
          "scatterternary": [
           {
            "marker": {
             "colorbar": {
              "outlinewidth": 1,
              "tickcolor": "rgb(36,36,36)",
              "ticks": "outside"
             }
            },
            "type": "scatterternary"
           }
          ],
          "surface": [
           {
            "colorbar": {
             "outlinewidth": 1,
             "tickcolor": "rgb(36,36,36)",
             "ticks": "outside"
            },
            "colorscale": [
             [
              0.0,
              "#440154"
             ],
             [
              0.1111111111111111,
              "#482878"
             ],
             [
              0.2222222222222222,
              "#3e4989"
             ],
             [
              0.3333333333333333,
              "#31688e"
             ],
             [
              0.4444444444444444,
              "#26828e"
             ],
             [
              0.5555555555555556,
              "#1f9e89"
             ],
             [
              0.6666666666666666,
              "#35b779"
             ],
             [
              0.7777777777777778,
              "#6ece58"
             ],
             [
              0.8888888888888888,
              "#b5de2b"
             ],
             [
              1.0,
              "#fde725"
             ]
            ],
            "type": "surface"
           }
          ],
          "table": [
           {
            "cells": {
             "fill": {
              "color": "rgb(237,237,237)"
             },
             "line": {
              "color": "white"
             }
            },
            "header": {
             "fill": {
              "color": "rgb(217,217,217)"
             },
             "line": {
              "color": "white"
             }
            },
            "type": "table"
           }
          ]
         },
         "layout": {
          "annotationdefaults": {
           "arrowhead": 0,
           "arrowwidth": 1
          },
          "autotypenumbers": "strict",
          "coloraxis": {
           "colorbar": {
            "outlinewidth": 1,
            "tickcolor": "rgb(36,36,36)",
            "ticks": "outside"
           }
          },
          "colorscale": {
           "diverging": [
            [
             0.0,
             "rgb(103,0,31)"
            ],
            [
             0.1,
             "rgb(178,24,43)"
            ],
            [
             0.2,
             "rgb(214,96,77)"
            ],
            [
             0.3,
             "rgb(244,165,130)"
            ],
            [
             0.4,
             "rgb(253,219,199)"
            ],
            [
             0.5,
             "rgb(247,247,247)"
            ],
            [
             0.6,
             "rgb(209,229,240)"
            ],
            [
             0.7,
             "rgb(146,197,222)"
            ],
            [
             0.8,
             "rgb(67,147,195)"
            ],
            [
             0.9,
             "rgb(33,102,172)"
            ],
            [
             1.0,
             "rgb(5,48,97)"
            ]
           ],
           "sequential": [
            [
             0.0,
             "#440154"
            ],
            [
             0.1111111111111111,
             "#482878"
            ],
            [
             0.2222222222222222,
             "#3e4989"
            ],
            [
             0.3333333333333333,
             "#31688e"
            ],
            [
             0.4444444444444444,
             "#26828e"
            ],
            [
             0.5555555555555556,
             "#1f9e89"
            ],
            [
             0.6666666666666666,
             "#35b779"
            ],
            [
             0.7777777777777778,
             "#6ece58"
            ],
            [
             0.8888888888888888,
             "#b5de2b"
            ],
            [
             1.0,
             "#fde725"
            ]
           ],
           "sequentialminus": [
            [
             0.0,
             "#440154"
            ],
            [
             0.1111111111111111,
             "#482878"
            ],
            [
             0.2222222222222222,
             "#3e4989"
            ],
            [
             0.3333333333333333,
             "#31688e"
            ],
            [
             0.4444444444444444,
             "#26828e"
            ],
            [
             0.5555555555555556,
             "#1f9e89"
            ],
            [
             0.6666666666666666,
             "#35b779"
            ],
            [
             0.7777777777777778,
             "#6ece58"
            ],
            [
             0.8888888888888888,
             "#b5de2b"
            ],
            [
             1.0,
             "#fde725"
            ]
           ]
          },
          "colorway": [
           "#1F77B4",
           "#FF7F0E",
           "#2CA02C",
           "#D62728",
           "#9467BD",
           "#8C564B",
           "#E377C2",
           "#7F7F7F",
           "#BCBD22",
           "#17BECF"
          ],
          "font": {
           "color": "rgb(36,36,36)"
          },
          "geo": {
           "bgcolor": "white",
           "lakecolor": "white",
           "landcolor": "white",
           "showlakes": true,
           "showland": true,
           "subunitcolor": "white"
          },
          "hoverlabel": {
           "align": "left"
          },
          "hovermode": "closest",
          "mapbox": {
           "style": "light"
          },
          "paper_bgcolor": "white",
          "plot_bgcolor": "white",
          "polar": {
           "angularaxis": {
            "gridcolor": "rgb(232,232,232)",
            "linecolor": "rgb(36,36,36)",
            "showgrid": false,
            "showline": true,
            "ticks": "outside"
           },
           "bgcolor": "white",
           "radialaxis": {
            "gridcolor": "rgb(232,232,232)",
            "linecolor": "rgb(36,36,36)",
            "showgrid": false,
            "showline": true,
            "ticks": "outside"
           }
          },
          "scene": {
           "xaxis": {
            "backgroundcolor": "white",
            "gridcolor": "rgb(232,232,232)",
            "gridwidth": 2,
            "linecolor": "rgb(36,36,36)",
            "showbackground": true,
            "showgrid": false,
            "showline": true,
            "ticks": "outside",
            "zeroline": false,
            "zerolinecolor": "rgb(36,36,36)"
           },
           "yaxis": {
            "backgroundcolor": "white",
            "gridcolor": "rgb(232,232,232)",
            "gridwidth": 2,
            "linecolor": "rgb(36,36,36)",
            "showbackground": true,
            "showgrid": false,
            "showline": true,
            "ticks": "outside",
            "zeroline": false,
            "zerolinecolor": "rgb(36,36,36)"
           },
           "zaxis": {
            "backgroundcolor": "white",
            "gridcolor": "rgb(232,232,232)",
            "gridwidth": 2,
            "linecolor": "rgb(36,36,36)",
            "showbackground": true,
            "showgrid": false,
            "showline": true,
            "ticks": "outside",
            "zeroline": false,
            "zerolinecolor": "rgb(36,36,36)"
           }
          },
          "shapedefaults": {
           "fillcolor": "black",
           "line": {
            "width": 0
           },
           "opacity": 0.3
          },
          "ternary": {
           "aaxis": {
            "gridcolor": "rgb(232,232,232)",
            "linecolor": "rgb(36,36,36)",
            "showgrid": false,
            "showline": true,
            "ticks": "outside"
           },
           "baxis": {
            "gridcolor": "rgb(232,232,232)",
            "linecolor": "rgb(36,36,36)",
            "showgrid": false,
            "showline": true,
            "ticks": "outside"
           },
           "bgcolor": "white",
           "caxis": {
            "gridcolor": "rgb(232,232,232)",
            "linecolor": "rgb(36,36,36)",
            "showgrid": false,
            "showline": true,
            "ticks": "outside"
           }
          },
          "title": {
           "x": 0.05
          },
          "xaxis": {
           "automargin": true,
           "gridcolor": "rgb(232,232,232)",
           "linecolor": "rgb(36,36,36)",
           "showgrid": false,
           "showline": true,
           "ticks": "outside",
           "title": {
            "standoff": 15
           },
           "zeroline": false,
           "zerolinecolor": "rgb(36,36,36)"
          },
          "yaxis": {
           "automargin": true,
           "gridcolor": "rgb(232,232,232)",
           "linecolor": "rgb(36,36,36)",
           "showgrid": false,
           "showline": true,
           "ticks": "outside",
           "title": {
            "standoff": 15
           },
           "zeroline": false,
           "zerolinecolor": "rgb(36,36,36)"
          }
         }
        },
        "title": {
         "text": ""
        },
        "font": {
         "size": 10,
         "color": "gray"
        },
        "margin": {
         "l": 5,
         "r": 5,
         "b": 10,
         "t": 10,
         "pad": 4
        },
        "legend": {
         "font": {
          "color": "black"
         },
         "yanchor": "top",
         "y": 0.99,
         "xanchor": "left",
         "x": -0.4
        },
        "autosize": true,
        "height": 70,
        "width": 600,
        "annotations": [
         {
          "showarrow": false,
          "text": "Trait-like",
          "x": 0.03,
          "y": -0.1,
          "font": {
           "size": 12,
           "color": "black"
          }
         },
         {
          "showarrow": false,
          "text": "State-like",
          "x": 0.73,
          "y": -0.1,
          "font": {
           "size": 12,
           "color": "black"
          }
         }
        ]
       },
       "config": {
        "plotlyServerURL": "https://plot.ly"
       }
      },
      "text/html": "<div>                            <div id=\"ecfd2444-251f-4679-a2dc-78fd3fcfb706\" class=\"plotly-graph-div\" style=\"height:70px; width:600px;\"></div>            <script type=\"text/javascript\">                require([\"plotly\"], function(Plotly) {                    window.PLOTLYENV=window.PLOTLYENV || {};                                    if (document.getElementById(\"ecfd2444-251f-4679-a2dc-78fd3fcfb706\")) {                    Plotly.newPlot(                        \"ecfd2444-251f-4679-a2dc-78fd3fcfb706\",                        [{\"labels\":[\"Replicable\",\"Not Replicable\"],\"marker\":{\"colors\":[\"green\",\"red\"]},\"name\":\"Trait-like\",\"rotation\":-180,\"values\":[23,7],\"type\":\"pie\",\"domain\":{\"x\":[0.0,0.45],\"y\":[0.0,1.0]},\"hole\":0.4,\"hoverinfo\":\"label+percent+name\"},{\"labels\":[\"Replicable\",\"Not Replicable\"],\"name\":\"State-like\",\"rotation\":0,\"values\":[6,17],\"type\":\"pie\",\"domain\":{\"x\":[0.55,1.0],\"y\":[0.0,1.0]},\"hole\":0.4,\"hoverinfo\":\"label+percent+name\"}],                        {\"template\":{\"data\":{\"barpolar\":[{\"marker\":{\"line\":{\"color\":\"white\",\"width\":0.5},\"pattern\":{\"fillmode\":\"overlay\",\"size\":10,\"solidity\":0.2}},\"type\":\"barpolar\"}],\"bar\":[{\"error_x\":{\"color\":\"rgb(36,36,36)\"},\"error_y\":{\"color\":\"rgb(36,36,36)\"},\"marker\":{\"line\":{\"color\":\"white\",\"width\":0.5},\"pattern\":{\"fillmode\":\"overlay\",\"size\":10,\"solidity\":0.2}},\"type\":\"bar\"}],\"carpet\":[{\"aaxis\":{\"endlinecolor\":\"rgb(36,36,36)\",\"gridcolor\":\"white\",\"linecolor\":\"white\",\"minorgridcolor\":\"white\",\"startlinecolor\":\"rgb(36,36,36)\"},\"baxis\":{\"endlinecolor\":\"rgb(36,36,36)\",\"gridcolor\":\"white\",\"linecolor\":\"white\",\"minorgridcolor\":\"white\",\"startlinecolor\":\"rgb(36,36,36)\"},\"type\":\"carpet\"}],\"choropleth\":[{\"colorbar\":{\"outlinewidth\":1,\"tickcolor\":\"rgb(36,36,36)\",\"ticks\":\"outside\"},\"type\":\"choropleth\"}],\"contourcarpet\":[{\"colorbar\":{\"outlinewidth\":1,\"tickcolor\":\"rgb(36,36,36)\",\"ticks\":\"outside\"},\"type\":\"contourcarpet\"}],\"contour\":[{\"colorbar\":{\"outlinewidth\":1,\"tickcolor\":\"rgb(36,36,36)\",\"ticks\":\"outside\"},\"colorscale\":[[0.0,\"#440154\"],[0.1111111111111111,\"#482878\"],[0.2222222222222222,\"#3e4989\"],[0.3333333333333333,\"#31688e\"],[0.4444444444444444,\"#26828e\"],[0.5555555555555556,\"#1f9e89\"],[0.6666666666666666,\"#35b779\"],[0.7777777777777778,\"#6ece58\"],[0.8888888888888888,\"#b5de2b\"],[1.0,\"#fde725\"]],\"type\":\"contour\"}],\"heatmapgl\":[{\"colorbar\":{\"outlinewidth\":1,\"tickcolor\":\"rgb(36,36,36)\",\"ticks\":\"outside\"},\"colorscale\":[[0.0,\"#440154\"],[0.1111111111111111,\"#482878\"],[0.2222222222222222,\"#3e4989\"],[0.3333333333333333,\"#31688e\"],[0.4444444444444444,\"#26828e\"],[0.5555555555555556,\"#1f9e89\"],[0.6666666666666666,\"#35b779\"],[0.7777777777777778,\"#6ece58\"],[0.8888888888888888,\"#b5de2b\"],[1.0,\"#fde725\"]],\"type\":\"heatmapgl\"}],\"heatmap\":[{\"colorbar\":{\"outlinewidth\":1,\"tickcolor\":\"rgb(36,36,36)\",\"ticks\":\"outside\"},\"colorscale\":[[0.0,\"#440154\"],[0.1111111111111111,\"#482878\"],[0.2222222222222222,\"#3e4989\"],[0.3333333333333333,\"#31688e\"],[0.4444444444444444,\"#26828e\"],[0.5555555555555556,\"#1f9e89\"],[0.6666666666666666,\"#35b779\"],[0.7777777777777778,\"#6ece58\"],[0.8888888888888888,\"#b5de2b\"],[1.0,\"#fde725\"]],\"type\":\"heatmap\"}],\"histogram2dcontour\":[{\"colorbar\":{\"outlinewidth\":1,\"tickcolor\":\"rgb(36,36,36)\",\"ticks\":\"outside\"},\"colorscale\":[[0.0,\"#440154\"],[0.1111111111111111,\"#482878\"],[0.2222222222222222,\"#3e4989\"],[0.3333333333333333,\"#31688e\"],[0.4444444444444444,\"#26828e\"],[0.5555555555555556,\"#1f9e89\"],[0.6666666666666666,\"#35b779\"],[0.7777777777777778,\"#6ece58\"],[0.8888888888888888,\"#b5de2b\"],[1.0,\"#fde725\"]],\"type\":\"histogram2dcontour\"}],\"histogram2d\":[{\"colorbar\":{\"outlinewidth\":1,\"tickcolor\":\"rgb(36,36,36)\",\"ticks\":\"outside\"},\"colorscale\":[[0.0,\"#440154\"],[0.1111111111111111,\"#482878\"],[0.2222222222222222,\"#3e4989\"],[0.3333333333333333,\"#31688e\"],[0.4444444444444444,\"#26828e\"],[0.5555555555555556,\"#1f9e89\"],[0.6666666666666666,\"#35b779\"],[0.7777777777777778,\"#6ece58\"],[0.8888888888888888,\"#b5de2b\"],[1.0,\"#fde725\"]],\"type\":\"histogram2d\"}],\"histogram\":[{\"marker\":{\"line\":{\"color\":\"white\",\"width\":0.6}},\"type\":\"histogram\"}],\"mesh3d\":[{\"colorbar\":{\"outlinewidth\":1,\"tickcolor\":\"rgb(36,36,36)\",\"ticks\":\"outside\"},\"type\":\"mesh3d\"}],\"parcoords\":[{\"line\":{\"colorbar\":{\"outlinewidth\":1,\"tickcolor\":\"rgb(36,36,36)\",\"ticks\":\"outside\"}},\"type\":\"parcoords\"}],\"pie\":[{\"automargin\":true,\"type\":\"pie\"}],\"scatter3d\":[{\"line\":{\"colorbar\":{\"outlinewidth\":1,\"tickcolor\":\"rgb(36,36,36)\",\"ticks\":\"outside\"}},\"marker\":{\"colorbar\":{\"outlinewidth\":1,\"tickcolor\":\"rgb(36,36,36)\",\"ticks\":\"outside\"}},\"type\":\"scatter3d\"}],\"scattercarpet\":[{\"marker\":{\"colorbar\":{\"outlinewidth\":1,\"tickcolor\":\"rgb(36,36,36)\",\"ticks\":\"outside\"}},\"type\":\"scattercarpet\"}],\"scattergeo\":[{\"marker\":{\"colorbar\":{\"outlinewidth\":1,\"tickcolor\":\"rgb(36,36,36)\",\"ticks\":\"outside\"}},\"type\":\"scattergeo\"}],\"scattergl\":[{\"marker\":{\"colorbar\":{\"outlinewidth\":1,\"tickcolor\":\"rgb(36,36,36)\",\"ticks\":\"outside\"}},\"type\":\"scattergl\"}],\"scattermapbox\":[{\"marker\":{\"colorbar\":{\"outlinewidth\":1,\"tickcolor\":\"rgb(36,36,36)\",\"ticks\":\"outside\"}},\"type\":\"scattermapbox\"}],\"scatterpolargl\":[{\"marker\":{\"colorbar\":{\"outlinewidth\":1,\"tickcolor\":\"rgb(36,36,36)\",\"ticks\":\"outside\"}},\"type\":\"scatterpolargl\"}],\"scatterpolar\":[{\"marker\":{\"colorbar\":{\"outlinewidth\":1,\"tickcolor\":\"rgb(36,36,36)\",\"ticks\":\"outside\"}},\"type\":\"scatterpolar\"}],\"scatter\":[{\"fillpattern\":{\"fillmode\":\"overlay\",\"size\":10,\"solidity\":0.2},\"type\":\"scatter\"}],\"scatterternary\":[{\"marker\":{\"colorbar\":{\"outlinewidth\":1,\"tickcolor\":\"rgb(36,36,36)\",\"ticks\":\"outside\"}},\"type\":\"scatterternary\"}],\"surface\":[{\"colorbar\":{\"outlinewidth\":1,\"tickcolor\":\"rgb(36,36,36)\",\"ticks\":\"outside\"},\"colorscale\":[[0.0,\"#440154\"],[0.1111111111111111,\"#482878\"],[0.2222222222222222,\"#3e4989\"],[0.3333333333333333,\"#31688e\"],[0.4444444444444444,\"#26828e\"],[0.5555555555555556,\"#1f9e89\"],[0.6666666666666666,\"#35b779\"],[0.7777777777777778,\"#6ece58\"],[0.8888888888888888,\"#b5de2b\"],[1.0,\"#fde725\"]],\"type\":\"surface\"}],\"table\":[{\"cells\":{\"fill\":{\"color\":\"rgb(237,237,237)\"},\"line\":{\"color\":\"white\"}},\"header\":{\"fill\":{\"color\":\"rgb(217,217,217)\"},\"line\":{\"color\":\"white\"}},\"type\":\"table\"}]},\"layout\":{\"annotationdefaults\":{\"arrowhead\":0,\"arrowwidth\":1},\"autotypenumbers\":\"strict\",\"coloraxis\":{\"colorbar\":{\"outlinewidth\":1,\"tickcolor\":\"rgb(36,36,36)\",\"ticks\":\"outside\"}},\"colorscale\":{\"diverging\":[[0.0,\"rgb(103,0,31)\"],[0.1,\"rgb(178,24,43)\"],[0.2,\"rgb(214,96,77)\"],[0.3,\"rgb(244,165,130)\"],[0.4,\"rgb(253,219,199)\"],[0.5,\"rgb(247,247,247)\"],[0.6,\"rgb(209,229,240)\"],[0.7,\"rgb(146,197,222)\"],[0.8,\"rgb(67,147,195)\"],[0.9,\"rgb(33,102,172)\"],[1.0,\"rgb(5,48,97)\"]],\"sequential\":[[0.0,\"#440154\"],[0.1111111111111111,\"#482878\"],[0.2222222222222222,\"#3e4989\"],[0.3333333333333333,\"#31688e\"],[0.4444444444444444,\"#26828e\"],[0.5555555555555556,\"#1f9e89\"],[0.6666666666666666,\"#35b779\"],[0.7777777777777778,\"#6ece58\"],[0.8888888888888888,\"#b5de2b\"],[1.0,\"#fde725\"]],\"sequentialminus\":[[0.0,\"#440154\"],[0.1111111111111111,\"#482878\"],[0.2222222222222222,\"#3e4989\"],[0.3333333333333333,\"#31688e\"],[0.4444444444444444,\"#26828e\"],[0.5555555555555556,\"#1f9e89\"],[0.6666666666666666,\"#35b779\"],[0.7777777777777778,\"#6ece58\"],[0.8888888888888888,\"#b5de2b\"],[1.0,\"#fde725\"]]},\"colorway\":[\"#1F77B4\",\"#FF7F0E\",\"#2CA02C\",\"#D62728\",\"#9467BD\",\"#8C564B\",\"#E377C2\",\"#7F7F7F\",\"#BCBD22\",\"#17BECF\"],\"font\":{\"color\":\"rgb(36,36,36)\"},\"geo\":{\"bgcolor\":\"white\",\"lakecolor\":\"white\",\"landcolor\":\"white\",\"showlakes\":true,\"showland\":true,\"subunitcolor\":\"white\"},\"hoverlabel\":{\"align\":\"left\"},\"hovermode\":\"closest\",\"mapbox\":{\"style\":\"light\"},\"paper_bgcolor\":\"white\",\"plot_bgcolor\":\"white\",\"polar\":{\"angularaxis\":{\"gridcolor\":\"rgb(232,232,232)\",\"linecolor\":\"rgb(36,36,36)\",\"showgrid\":false,\"showline\":true,\"ticks\":\"outside\"},\"bgcolor\":\"white\",\"radialaxis\":{\"gridcolor\":\"rgb(232,232,232)\",\"linecolor\":\"rgb(36,36,36)\",\"showgrid\":false,\"showline\":true,\"ticks\":\"outside\"}},\"scene\":{\"xaxis\":{\"backgroundcolor\":\"white\",\"gridcolor\":\"rgb(232,232,232)\",\"gridwidth\":2,\"linecolor\":\"rgb(36,36,36)\",\"showbackground\":true,\"showgrid\":false,\"showline\":true,\"ticks\":\"outside\",\"zeroline\":false,\"zerolinecolor\":\"rgb(36,36,36)\"},\"yaxis\":{\"backgroundcolor\":\"white\",\"gridcolor\":\"rgb(232,232,232)\",\"gridwidth\":2,\"linecolor\":\"rgb(36,36,36)\",\"showbackground\":true,\"showgrid\":false,\"showline\":true,\"ticks\":\"outside\",\"zeroline\":false,\"zerolinecolor\":\"rgb(36,36,36)\"},\"zaxis\":{\"backgroundcolor\":\"white\",\"gridcolor\":\"rgb(232,232,232)\",\"gridwidth\":2,\"linecolor\":\"rgb(36,36,36)\",\"showbackground\":true,\"showgrid\":false,\"showline\":true,\"ticks\":\"outside\",\"zeroline\":false,\"zerolinecolor\":\"rgb(36,36,36)\"}},\"shapedefaults\":{\"fillcolor\":\"black\",\"line\":{\"width\":0},\"opacity\":0.3},\"ternary\":{\"aaxis\":{\"gridcolor\":\"rgb(232,232,232)\",\"linecolor\":\"rgb(36,36,36)\",\"showgrid\":false,\"showline\":true,\"ticks\":\"outside\"},\"baxis\":{\"gridcolor\":\"rgb(232,232,232)\",\"linecolor\":\"rgb(36,36,36)\",\"showgrid\":false,\"showline\":true,\"ticks\":\"outside\"},\"bgcolor\":\"white\",\"caxis\":{\"gridcolor\":\"rgb(232,232,232)\",\"linecolor\":\"rgb(36,36,36)\",\"showgrid\":false,\"showline\":true,\"ticks\":\"outside\"}},\"title\":{\"x\":0.05},\"xaxis\":{\"automargin\":true,\"gridcolor\":\"rgb(232,232,232)\",\"linecolor\":\"rgb(36,36,36)\",\"showgrid\":false,\"showline\":true,\"ticks\":\"outside\",\"title\":{\"standoff\":15},\"zeroline\":false,\"zerolinecolor\":\"rgb(36,36,36)\"},\"yaxis\":{\"automargin\":true,\"gridcolor\":\"rgb(232,232,232)\",\"linecolor\":\"rgb(36,36,36)\",\"showgrid\":false,\"showline\":true,\"ticks\":\"outside\",\"title\":{\"standoff\":15},\"zeroline\":false,\"zerolinecolor\":\"rgb(36,36,36)\"}}},\"title\":{\"text\":\"\"},\"font\":{\"size\":10,\"color\":\"gray\"},\"margin\":{\"l\":5,\"r\":5,\"b\":10,\"t\":10,\"pad\":4},\"legend\":{\"font\":{\"color\":\"black\"},\"yanchor\":\"top\",\"y\":0.99,\"xanchor\":\"left\",\"x\":-0.4},\"autosize\":true,\"height\":70,\"width\":600,\"annotations\":[{\"showarrow\":false,\"text\":\"Trait-like\",\"x\":0.03,\"y\":-0.1,\"font\":{\"size\":12,\"color\":\"black\"}},{\"showarrow\":false,\"text\":\"State-like\",\"x\":0.73,\"y\":-0.1,\"font\":{\"size\":12,\"color\":\"black\"}}]},                        {\"responsive\": true}                    ).then(function(){\n                            \nvar gd = document.getElementById('ecfd2444-251f-4679-a2dc-78fd3fcfb706');\nvar x = new MutationObserver(function (mutations, observer) {{\n        var display = window.getComputedStyle(gd).display;\n        if (!display || display === 'none') {{\n            console.log([gd, 'removed!']);\n            Plotly.purge(gd);\n            observer.disconnect();\n        }}\n}});\n\n// Listen for the removal of the full notebook cells\nvar notebookContainer = gd.closest('#notebook-container');\nif (notebookContainer) {{\n    x.observe(notebookContainer, {childList: true});\n}}\n\n// Listen for the clearing of the current output cell\nvar outputEl = gd.closest('.output');\nif (outputEl) {{\n    x.observe(outputEl, {childList: true});\n}}\n\n                        })                };                });            </script>        </div>"
     },
     "metadata": {},
     "output_type": "display_data"
    }
   ],
   "source": [
    "import plotly.graph_objects as go\n",
    "from plotly.subplots import make_subplots\n",
    "\n",
    "labels = [\"Replicable\", \"Not Replicable\"]\n",
    "\n",
    "# Create subplots: use 'domain' type for Pie subplot\n",
    "fig = make_subplots(rows=1, cols=2, specs=[[{'type':'domain'}, {'type':'domain'}]])\n",
    "fig.add_trace(go.Pie(labels=labels, values=[15+4+2+1+1, 2+1+0+0+4], name=\"Trait-like\",  marker_colors=['green', 'red'], rotation=180),\n",
    "              1, 1)\n",
    "fig.add_trace(go.Pie(labels=labels, values=[6, 17], name=\"State-like\", rotation=0),\n",
    "              1, 2)\n",
    "\n",
    "# Use `hole` to create a donut-like pie chart\n",
    "fig.update_traces(hole=.4, hoverinfo=\"label+percent+name\")\n",
    "\n",
    "fig.update_layout(\n",
    "    template='simple_white',\n",
    "    title_text=\"\",\n",
    "    font=dict(\n",
    "                size=10,\n",
    "                color=\"gray\"),\n",
    "    autosize=True,\n",
    "    height=70,\n",
    "    width=600,\n",
    "    margin=dict(\n",
    "              l=5,\n",
    "              r=5,\n",
    "              b=10,\n",
    "              t=10,\n",
    "              pad=4),\n",
    "    legend=dict(\n",
    "        yanchor=\"top\",\n",
    "        y=0.99,\n",
    "        xanchor=\"left\",\n",
    "        x=-0.4,\n",
    "        font_color='black'\n",
    "    ),\n",
    "    # Add annotations in the center of the donut pies.\n",
    "    annotations=[dict(text='Trait-like', x=0.03, y=-0.1, font_size=12, font_color='black', showarrow=False),\n",
    "                 dict(text='State-like', x=0.73, y=-0.1, font_size=12, font_color='black', showarrow=False)])\n",
    "fig.show()\n",
    "import plotly.io as pio\n",
    "pio.write_html(fig, file='docs/_includes/pie.html', auto_open=True)"
   ]
  },
  {
   "cell_type": "code",
   "execution_count": null,
   "outputs": [],
   "source": [],
   "metadata": {
    "collapsed": false
   }
  }
 ],
 "metadata": {
  "hide_input": false,
  "kernelspec": {
   "display_name": "Python 3 (ipykernel)",
   "language": "python",
   "name": "python3"
  },
  "language_info": {
   "codemirror_mode": {
    "name": "ipython",
    "version": 3
   },
   "file_extension": ".py",
   "mimetype": "text/x-python",
   "name": "python",
   "nbconvert_exporter": "python",
   "pygments_lexer": "ipython3",
   "version": "3.10.6"
  }
 },
 "nbformat": 4,
 "nbformat_minor": 2
}

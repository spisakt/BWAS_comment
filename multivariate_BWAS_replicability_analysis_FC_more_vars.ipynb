{
 "cells": [
  {
   "cell_type": "markdown",
   "metadata": {
    "pycharm": {
     "name": "#%% md\n"
    }
   },
   "source": [
    "# Analyzing replicability of functional connectivity-based multivariate BWAS on the Human Connectome Project dataset\n",
    "\n",
    "## Imports"
   ]
  },
  {
   "cell_type": "code",
   "execution_count": null,
   "outputs": [],
   "source": [],
   "metadata": {
    "collapsed": false,
    "pycharm": {
     "name": "#%%\n"
    }
   }
  },
  {
   "cell_type": "code",
   "execution_count": 1,
   "metadata": {
    "ExecuteTime": {
     "end_time": "2021-08-03T20:04:15.431840Z",
     "start_time": "2021-08-03T20:04:14.753565Z"
    },
    "pycharm": {
     "name": "#%%\n"
    }
   },
   "outputs": [],
   "source": [
    "import numpy as np\n",
    "import pandas as pd\n",
    "import seaborn as sns\n",
    "import matplotlib.pyplot as plt\n",
    "from sklearn.linear_model import Ridge\n",
    "from sklearn.svm import SVR\n",
    "from sklearn.model_selection import KFold, train_test_split\n",
    "from sklearn.pipeline import Pipeline\n",
    "from sklearn.decomposition import PCA\n",
    "from joblib import Parallel, delayed\n",
    "from mlxtend.evaluate import permutation_test\n",
    "sns.set(rc={\"figure.figsize\":(4, 2)})\n",
    "sns.set_style(\"whitegrid\")"
   ]
  },
  {
   "cell_type": "markdown",
   "metadata": {
    "pycharm": {
     "name": "#%% md\n"
    }
   },
   "source": [
    "## Load HCP data\n",
    "\n",
    "We load functional network matrices (netmats) from the HCP1200-release, as published on connectomeDB: https://db.humanconnectome.org/\n",
    "Due to licensoing issues, data is not supplied with the repository, but can be downloaded from the ConnectomeDB.\n",
    "See [hcp_data/readme.md](hcp_data/readme.md) for more details."
   ]
  },
  {
   "cell_type": "code",
   "execution_count": 2,
   "outputs": [
    {
     "data": {
      "text/plain": "        Release Acquisition Gender    Age  3T_Full_MR_Compl  T1_Count  \\\nSubject                                                                 \n100004     S900         Q06      M  22-25             False         0   \n100206     S900         Q11      M  26-30              True         1   \n100307       Q1         Q01      F  26-30              True         1   \n100408       Q3         Q03      M  31-35              True         1   \n100610     S900         Q08      M  26-30              True         2   \n...         ...         ...    ...    ...               ...       ...   \n992774       Q2         Q02      M  31-35              True         2   \n993675     S900         Q09      F  26-30              True         2   \n994273     S500         Q06      M  26-30              True         1   \n995174    S1200         Q13      M  22-25             False         1   \n996782     S900         Q08      F  26-30              True         2   \n\n         T2_Count  3T_RS-fMRI_Count  3T_RS-fMRI_PctCompl  3T_Full_Task_fMRI  \\\nSubject                                                                       \n100004          0                 0                  0.0              False   \n100206          1                 4                100.0               True   \n100307          1                 4                100.0               True   \n100408          1                 4                100.0               True   \n100610          1                 4                100.0               True   \n...           ...               ...                  ...                ...   \n992774          2                 4                100.0               True   \n993675          2                 4                100.0               True   \n994273          1                 4                100.0               True   \n995174          1                 2                  0.0               True   \n996782          2                 4                100.0               True   \n\n         ...  Odor_Unadj  Odor_AgeAdj  PainIntens_RawScore  PainInterf_Tscore  \\\nSubject  ...                                                                    \n100004   ...      101.12        86.45                  2.0               45.9   \n100206   ...      108.79        97.19                  1.0               49.7   \n100307   ...      101.12        86.45                  0.0               38.6   \n100408   ...      108.79        98.04                  2.0               52.6   \n100610   ...      122.25       110.45                  0.0               38.6   \n...      ...         ...          ...                  ...                ...   \n992774   ...      122.25       111.41                  4.0               50.1   \n993675   ...      122.25       110.45                  0.0               38.6   \n994273   ...      122.25       111.41                  7.0               63.8   \n995174   ...       88.61        64.58                  3.0               50.1   \n996782   ...      108.79        97.19                  0.0               38.6   \n\n         Taste_Unadj  Taste_AgeAdj  Mars_Log_Score  Mars_Errs  Mars_Final  \\\nSubject                                                                     \n100004        107.17        105.31            1.80        0.0        1.80   \n100206         72.63         72.03            1.84        0.0        1.84   \n100307         71.69         71.76            1.76        0.0        1.76   \n100408        114.01        113.59            1.76        2.0        1.68   \n100610         84.84         85.31            1.92        1.0        1.88   \n...              ...           ...             ...        ...         ...   \n992774        107.17        103.55            1.76        0.0        1.76   \n993675         84.07         84.25            1.80        1.0        1.76   \n994273        110.65        109.73            1.80        1.0        1.76   \n995174        117.16        117.40            1.80        0.0        1.80   \n996782         75.43         73.72            1.84        0.0        1.84   \n\n          age  \nSubject        \n100004   23.5  \n100206   28.0  \n100307   28.0  \n100408   33.0  \n100610   28.0  \n...       ...  \n992774   33.0  \n993675   28.0  \n994273   28.0  \n995174   23.5  \n996782   28.0  \n\n[1206 rows x 582 columns]",
      "text/html": "<div>\n<style scoped>\n    .dataframe tbody tr th:only-of-type {\n        vertical-align: middle;\n    }\n\n    .dataframe tbody tr th {\n        vertical-align: top;\n    }\n\n    .dataframe thead th {\n        text-align: right;\n    }\n</style>\n<table border=\"1\" class=\"dataframe\">\n  <thead>\n    <tr style=\"text-align: right;\">\n      <th></th>\n      <th>Release</th>\n      <th>Acquisition</th>\n      <th>Gender</th>\n      <th>Age</th>\n      <th>3T_Full_MR_Compl</th>\n      <th>T1_Count</th>\n      <th>T2_Count</th>\n      <th>3T_RS-fMRI_Count</th>\n      <th>3T_RS-fMRI_PctCompl</th>\n      <th>3T_Full_Task_fMRI</th>\n      <th>...</th>\n      <th>Odor_Unadj</th>\n      <th>Odor_AgeAdj</th>\n      <th>PainIntens_RawScore</th>\n      <th>PainInterf_Tscore</th>\n      <th>Taste_Unadj</th>\n      <th>Taste_AgeAdj</th>\n      <th>Mars_Log_Score</th>\n      <th>Mars_Errs</th>\n      <th>Mars_Final</th>\n      <th>age</th>\n    </tr>\n    <tr>\n      <th>Subject</th>\n      <th></th>\n      <th></th>\n      <th></th>\n      <th></th>\n      <th></th>\n      <th></th>\n      <th></th>\n      <th></th>\n      <th></th>\n      <th></th>\n      <th></th>\n      <th></th>\n      <th></th>\n      <th></th>\n      <th></th>\n      <th></th>\n      <th></th>\n      <th></th>\n      <th></th>\n      <th></th>\n      <th></th>\n    </tr>\n  </thead>\n  <tbody>\n    <tr>\n      <th>100004</th>\n      <td>S900</td>\n      <td>Q06</td>\n      <td>M</td>\n      <td>22-25</td>\n      <td>False</td>\n      <td>0</td>\n      <td>0</td>\n      <td>0</td>\n      <td>0.0</td>\n      <td>False</td>\n      <td>...</td>\n      <td>101.12</td>\n      <td>86.45</td>\n      <td>2.0</td>\n      <td>45.9</td>\n      <td>107.17</td>\n      <td>105.31</td>\n      <td>1.80</td>\n      <td>0.0</td>\n      <td>1.80</td>\n      <td>23.5</td>\n    </tr>\n    <tr>\n      <th>100206</th>\n      <td>S900</td>\n      <td>Q11</td>\n      <td>M</td>\n      <td>26-30</td>\n      <td>True</td>\n      <td>1</td>\n      <td>1</td>\n      <td>4</td>\n      <td>100.0</td>\n      <td>True</td>\n      <td>...</td>\n      <td>108.79</td>\n      <td>97.19</td>\n      <td>1.0</td>\n      <td>49.7</td>\n      <td>72.63</td>\n      <td>72.03</td>\n      <td>1.84</td>\n      <td>0.0</td>\n      <td>1.84</td>\n      <td>28.0</td>\n    </tr>\n    <tr>\n      <th>100307</th>\n      <td>Q1</td>\n      <td>Q01</td>\n      <td>F</td>\n      <td>26-30</td>\n      <td>True</td>\n      <td>1</td>\n      <td>1</td>\n      <td>4</td>\n      <td>100.0</td>\n      <td>True</td>\n      <td>...</td>\n      <td>101.12</td>\n      <td>86.45</td>\n      <td>0.0</td>\n      <td>38.6</td>\n      <td>71.69</td>\n      <td>71.76</td>\n      <td>1.76</td>\n      <td>0.0</td>\n      <td>1.76</td>\n      <td>28.0</td>\n    </tr>\n    <tr>\n      <th>100408</th>\n      <td>Q3</td>\n      <td>Q03</td>\n      <td>M</td>\n      <td>31-35</td>\n      <td>True</td>\n      <td>1</td>\n      <td>1</td>\n      <td>4</td>\n      <td>100.0</td>\n      <td>True</td>\n      <td>...</td>\n      <td>108.79</td>\n      <td>98.04</td>\n      <td>2.0</td>\n      <td>52.6</td>\n      <td>114.01</td>\n      <td>113.59</td>\n      <td>1.76</td>\n      <td>2.0</td>\n      <td>1.68</td>\n      <td>33.0</td>\n    </tr>\n    <tr>\n      <th>100610</th>\n      <td>S900</td>\n      <td>Q08</td>\n      <td>M</td>\n      <td>26-30</td>\n      <td>True</td>\n      <td>2</td>\n      <td>1</td>\n      <td>4</td>\n      <td>100.0</td>\n      <td>True</td>\n      <td>...</td>\n      <td>122.25</td>\n      <td>110.45</td>\n      <td>0.0</td>\n      <td>38.6</td>\n      <td>84.84</td>\n      <td>85.31</td>\n      <td>1.92</td>\n      <td>1.0</td>\n      <td>1.88</td>\n      <td>28.0</td>\n    </tr>\n    <tr>\n      <th>...</th>\n      <td>...</td>\n      <td>...</td>\n      <td>...</td>\n      <td>...</td>\n      <td>...</td>\n      <td>...</td>\n      <td>...</td>\n      <td>...</td>\n      <td>...</td>\n      <td>...</td>\n      <td>...</td>\n      <td>...</td>\n      <td>...</td>\n      <td>...</td>\n      <td>...</td>\n      <td>...</td>\n      <td>...</td>\n      <td>...</td>\n      <td>...</td>\n      <td>...</td>\n      <td>...</td>\n    </tr>\n    <tr>\n      <th>992774</th>\n      <td>Q2</td>\n      <td>Q02</td>\n      <td>M</td>\n      <td>31-35</td>\n      <td>True</td>\n      <td>2</td>\n      <td>2</td>\n      <td>4</td>\n      <td>100.0</td>\n      <td>True</td>\n      <td>...</td>\n      <td>122.25</td>\n      <td>111.41</td>\n      <td>4.0</td>\n      <td>50.1</td>\n      <td>107.17</td>\n      <td>103.55</td>\n      <td>1.76</td>\n      <td>0.0</td>\n      <td>1.76</td>\n      <td>33.0</td>\n    </tr>\n    <tr>\n      <th>993675</th>\n      <td>S900</td>\n      <td>Q09</td>\n      <td>F</td>\n      <td>26-30</td>\n      <td>True</td>\n      <td>2</td>\n      <td>2</td>\n      <td>4</td>\n      <td>100.0</td>\n      <td>True</td>\n      <td>...</td>\n      <td>122.25</td>\n      <td>110.45</td>\n      <td>0.0</td>\n      <td>38.6</td>\n      <td>84.07</td>\n      <td>84.25</td>\n      <td>1.80</td>\n      <td>1.0</td>\n      <td>1.76</td>\n      <td>28.0</td>\n    </tr>\n    <tr>\n      <th>994273</th>\n      <td>S500</td>\n      <td>Q06</td>\n      <td>M</td>\n      <td>26-30</td>\n      <td>True</td>\n      <td>1</td>\n      <td>1</td>\n      <td>4</td>\n      <td>100.0</td>\n      <td>True</td>\n      <td>...</td>\n      <td>122.25</td>\n      <td>111.41</td>\n      <td>7.0</td>\n      <td>63.8</td>\n      <td>110.65</td>\n      <td>109.73</td>\n      <td>1.80</td>\n      <td>1.0</td>\n      <td>1.76</td>\n      <td>28.0</td>\n    </tr>\n    <tr>\n      <th>995174</th>\n      <td>S1200</td>\n      <td>Q13</td>\n      <td>M</td>\n      <td>22-25</td>\n      <td>False</td>\n      <td>1</td>\n      <td>1</td>\n      <td>2</td>\n      <td>0.0</td>\n      <td>True</td>\n      <td>...</td>\n      <td>88.61</td>\n      <td>64.58</td>\n      <td>3.0</td>\n      <td>50.1</td>\n      <td>117.16</td>\n      <td>117.40</td>\n      <td>1.80</td>\n      <td>0.0</td>\n      <td>1.80</td>\n      <td>23.5</td>\n    </tr>\n    <tr>\n      <th>996782</th>\n      <td>S900</td>\n      <td>Q08</td>\n      <td>F</td>\n      <td>26-30</td>\n      <td>True</td>\n      <td>2</td>\n      <td>2</td>\n      <td>4</td>\n      <td>100.0</td>\n      <td>True</td>\n      <td>...</td>\n      <td>108.79</td>\n      <td>97.19</td>\n      <td>0.0</td>\n      <td>38.6</td>\n      <td>75.43</td>\n      <td>73.72</td>\n      <td>1.84</td>\n      <td>0.0</td>\n      <td>1.84</td>\n      <td>28.0</td>\n    </tr>\n  </tbody>\n</table>\n<p>1206 rows × 582 columns</p>\n</div>"
     },
     "execution_count": 2,
     "metadata": {},
     "output_type": "execute_result"
    }
   ],
   "source": [
    "# HCP data can be obtained from the connectomeDB\n",
    "# data is not part of this repository\n",
    "subjectIDs = pd.read_csv('hcp_data/subjectIDs.txt', header=None)\n",
    "\n",
    "netmats_pearson = pd.read_csv('hcp_data/netmats1_correlationZ.txt',\n",
    "                             sep=' ',\n",
    "                             header=None)\n",
    "netmats_pearson['ID'] = subjectIDs[0]\n",
    "netmats_pearson.set_index('ID', drop=True, inplace=True)\n",
    "\n",
    "\n",
    "netmats_parcor = pd.read_csv('hcp_data/netmats2_partial-correlation.txt',\n",
    "                             sep=' ',\n",
    "                             header=None)\n",
    "netmats_parcor['ID'] = subjectIDs[0]\n",
    "netmats_parcor.set_index('ID', drop=True, inplace=True)\n",
    "\n",
    "behavior = pd.read_csv('hcp_data/hcp1200_behavioral_data.csv')\n",
    "behavior = behavior.set_index('Subject', drop=True)\n",
    "\n",
    "# convert age to numeric\n",
    "age = []\n",
    "for s in behavior['Age']:\n",
    "    if s == '36+':\n",
    "        age.append(36)\n",
    "    else:\n",
    "        split = s.split(sep='-')\n",
    "        age.append(np.mean((float(split[0]), float(split[1]))))\n",
    "\n",
    "behavior['age'] = age\n",
    "behavior"
   ],
   "metadata": {
    "collapsed": false,
    "pycharm": {
     "name": "#%%\n"
    }
   }
  },
  {
   "cell_type": "markdown",
   "source": [
    "# Function to prepare target variable\n"
   ],
   "metadata": {
    "collapsed": false,
    "pycharm": {
     "name": "#%% md\n"
    }
   }
  },
  {
   "cell_type": "code",
   "execution_count": 3,
   "outputs": [],
   "source": [
    "def create_data(target='CogTotalComp_AgeAdj', feature_data=netmats_parcor):\n",
    "    # it's a good practice to use pandas for merging, messing up subject order can be painful\n",
    "    features = feature_data.columns\n",
    "    df = behavior\n",
    "    df = df.merge(feature_data, left_index=True, right_index=True, how='left')\n",
    "\n",
    "    df = df.dropna(subset = [target] + features.values.tolist())\n",
    "    y = df[target].values\n",
    "    X = df[features].values\n",
    "    return X, y"
   ],
   "metadata": {
    "collapsed": false,
    "pycharm": {
     "name": "#%%\n"
    }
   }
  },
  {
   "cell_type": "markdown",
   "source": [
    "# Function implementing a single bootstrap iteration\n",
    "\n",
    "We define a workhorse function which:\n",
    "- randomly samples the discovery and the replication datasets,\n",
    "- creates cross-validated estimates of predictive performance within the discovery sample\n",
    "- finalizes the model by fitting it to the whole discovery sample (overfits the discovery but not the replication sample)\n",
    "- use it to predict the replication sample"
   ],
   "metadata": {
    "collapsed": false,
    "pycharm": {
     "name": "#%% md\n"
    }
   }
  },
  {
   "cell_type": "code",
   "execution_count": 4,
   "outputs": [],
   "source": [
    "def bootstrap_workhorse(X, y, sample_size, model, random_state, shuffle_y=False):\n",
    "\n",
    "    #create discovery and replication samples by random sampling from the whole dataset (without replacement)\n",
    "\n",
    "    # if shuffle_y is true, a null model is created bz permuting y\n",
    "    if shuffle_y:\n",
    "        rng = np.random.default_rng(random_state)\n",
    "        y = rng.permutation(y)\n",
    "\n",
    "    # sample the discovery and replication sets *without replacement* (with replacement introduces spurious dependencies)\n",
    "    X_discovery, X_replication, y_discovery, y_replication = train_test_split(X, y, train_size=sample_size, test_size=sample_size, shuffle=True, random_state=random_state)\n",
    "\n",
    "    # standard 10-fold cross-validation\n",
    "    cv = KFold(10)\n",
    "\n",
    "    # below we obtain cross-validated predictions in the discovery sample\n",
    "    predicted_discovery_cv = np.zeros_like(y_discovery)  # here we collect the predictions for each fold\n",
    "    cor_per_fold = np.zeros(cv.n_splits)  # here we collect the predictive performance in each fold\n",
    "    i = 0  # just a counter\n",
    "    for train, test in cv.split(X=X_discovery, y=y_discovery):  # loop to leave one fold out\n",
    "        model.fit(X=X_discovery[train], y=y_discovery[train]) # fit model to the training set\n",
    "        predicted_discovery_cv[test] = model.predict(X=X_discovery[test]) # use fitted model to predict teh test set\n",
    "        cor_per_fold[i] = np.corrcoef(y_discovery[test], predicted_discovery_cv[test])[0,1] # calculate performance on tne test set\n",
    "        i += 1\n",
    "    # calculate mean test performance across all folds\n",
    "    r_disc_cv = np.mean(cor_per_fold)\n",
    "    # 'finalize' model by training it on the full discovery sample (without cross-validation)\n",
    "    final_model = model.fit(X=X_discovery, y=y_discovery)\n",
    "    # obtain predictions with the final model on the discovery sample, note that this model actually overfits this sample.\n",
    "    # we do this only to demonstrate biased estimates\n",
    "    predicted_discovery_overfit = final_model.predict(X=X_discovery)\n",
    "    # here we obtain the biased effect size (r) estimates for demonstrational purposes\n",
    "    r_disc_overfit = np.corrcoef(predicted_discovery_overfit, y_discovery)[0, 1]\n",
    "\n",
    "    # We use the final model to predict the replication sample\n",
    "    # This is correct (no overfitting here), the final model did not see this data during training\n",
    "    predicted_replication = final_model.predict(X=X_replication)\n",
    "    # we obtain the out-of-sample prediction performance estimates\n",
    "    r_rep = np.corrcoef(predicted_replication, y_replication)[0, 1]\n",
    "\n",
    "    # below we calculate permutation-based p-values for all three effect size estimates (in-sample unbiased, in-sample biased, out-of-sample)\n",
    "    # (one sided tests, testing for positive correlation)\n",
    "    p_disc_cv = permutation_test(predicted_discovery_cv, y_discovery, method='approximate', num_rounds=1000, func=lambda x, y: np.corrcoef(x, y)[1][0],seed=random_state)\n",
    "    p_disc_overfit = permutation_test(predicted_discovery_overfit, y_discovery, method='approximate', num_rounds=1000, func=lambda x, y: np.corrcoef(x, y)[1][0],seed=random_state)\n",
    "    p_rep = permutation_test(predicted_replication, y_replication, method='approximate', num_rounds=1000, func=lambda x, y: np.corrcoef(x, y)[1][0],seed=random_state)\n",
    "    # return results\n",
    "    return r_disc_cv, r_disc_overfit, r_rep, p_disc_cv, p_disc_overfit, p_rep"
   ],
   "metadata": {
    "collapsed": false,
    "pycharm": {
     "name": "#%%\n"
    }
   }
  },
  {
   "cell_type": "markdown",
   "source": [
    "All set, now we start the analysis."
   ],
   "metadata": {
    "collapsed": false,
    "pycharm": {
     "name": "#%% md\n"
    }
   }
  },
  {
   "cell_type": "markdown",
   "source": [
    "# Replicability with sample sizes n=50, 100, 200, 300 and max\n",
    "Here we train a few different models on 100 bootstrap samples.\n",
    "\n",
    "We aggregate the results of our workhorse function in `n_bootstrap`=100 bootstrap cases (run in parallel).\n",
    "\n",
    "The whole process is repeated for all sample sizes, fetaure_sets and target variables.\n",
    "\n",
    "## Here we test all 33 variables, proposed by Marek et al. in their response."
   ],
   "metadata": {
    "collapsed": false,
    "pycharm": {
     "name": "#%% md\n"
    }
   }
  },
  {
   "cell_type": "code",
   "execution_count": 5,
   "outputs": [],
   "source": [
    "targets = ['PicVocab_AgeAdj',\n",
    "           'Flanker_AgeAdj',\n",
    "           'ListSort_AgeAdj',\n",
    "           'CardSort_AgeAdj',\n",
    "           'ProcSpeed_AgeAdj',\n",
    "           'PicSeq_AgeAdj',\n",
    "           'ReadEng_AgeAdj',\n",
    "           'CogFluidComp_AgeAdj',\n",
    "           'CogCrystalComp_AgeAdj',\n",
    "           'CogTotalComp_AgeAdj',\n",
    "           'PMAT24_A_CR',\n",
    "           'Sadness_Unadj',\n",
    "           'FearAffect_Unadj',\n",
    "           'FearSomat_Unadj',''\n",
    "           'AngAffect_Unadj',\n",
    "           'AngAggr_Unadj',\n",
    "           'AngHostil_Unadj',\n",
    "           'LifeSatisf_Unadj',\n",
    "           'MeanPurp_Unadj',\n",
    "           'PosAffect_Unadj',\n",
    "           'EmotSupp_Unadj',\n",
    "           'Friendship_Unadj',\n",
    "           'PercHostil_Unadj',\n",
    "           'PercReject_Unadj',\n",
    "           'PercStress_Unadj',\n",
    "           'SelfEff_Unadj',\n",
    "           'InstruSupp_Unadj',\n",
    "           'Loneliness_Unadj',\n",
    "           'NEOFAC_O',\n",
    "           'NEOFAC_C',\n",
    "           'NEOFAC_E',\n",
    "           'NEOFAC_A',\n",
    "           'NEOFAC_N'\n",
    "           ]"
   ],
   "metadata": {
    "collapsed": false,
    "pycharm": {
     "name": "#%%\n"
    }
   }
  },
  {
   "cell_type": "markdown",
   "source": [
    "# Reproducing the PCA+SVR-based model from the target paper\n",
    "### Like in the target paper:\n",
    "- Both PCA and SVR are done inside the cross-validation\n",
    "- PCA reatains the firts k principal components that together explain 50% of the variance\n",
    "- scikit-learn makes sure that PCA is only fit for the training samples\n",
    "- both for the test sets (in the cross-validation) and the replication sample PCA is not re-fit, bt features are simply transformed with the already fit PCA"
   ],
   "metadata": {
    "collapsed": false,
    "pycharm": {
     "name": "#%% md\n"
    }
   }
  },
  {
   "cell_type": "code",
   "execution_count": 6,
   "outputs": [
    {
     "name": "stdout",
     "output_type": "stream",
     "text": [
      "*****************************************************************\n",
      "netmats_parcor PCA_SVR PicVocab_AgeAdj 50\n",
      "0.13188515515855453 0.14770439388426013\n",
      "Replicability at alpha = 0.05 : 100.0 %\n",
      "Replicability at alpha = 0.01 : 0.0 %\n",
      "Replicability at alpha = 0.005 : 0.0 %\n",
      "Replicability at alpha = 0.001 : 0.0 %\n",
      "*****************************************************************\n",
      "netmats_parcor PCA_SVR PicVocab_AgeAdj 100\n",
      "0.1867148045854563 0.21667608060887125\n",
      "Replicability at alpha = 0.05 : 75.0 %\n",
      "Replicability at alpha = 0.01 : 25.0 %\n",
      "Replicability at alpha = 0.005 : 10.0 %\n",
      "Replicability at alpha = 0.001 : 0.0 %\n",
      "*****************************************************************\n",
      "netmats_parcor PCA_SVR PicVocab_AgeAdj 200\n",
      "0.2677715498715301 0.2931765457541302\n",
      "Replicability at alpha = 0.05 : 98.59154929577466 %\n",
      "Replicability at alpha = 0.01 : 78.87323943661971 %\n",
      "Replicability at alpha = 0.005 : 67.6056338028169 %\n",
      "Replicability at alpha = 0.001 : 35.2112676056338 %\n",
      "*****************************************************************\n",
      "netmats_parcor PCA_SVR PicVocab_AgeAdj 300\n",
      "0.3323528844576204 0.33838803733996237\n",
      "Replicability at alpha = 0.05 : 100.0 %\n",
      "Replicability at alpha = 0.01 : 96.96969696969697 %\n",
      "Replicability at alpha = 0.005 : 96.96969696969697 %\n",
      "Replicability at alpha = 0.001 : 89.8989898989899 %\n",
      "*****************************************************************\n",
      "netmats_parcor PCA_SVR PicVocab_AgeAdj max\n",
      "0.39390704477121147 0.4063929152377023\n",
      "Replicability at alpha = 0.05 : 100.0 %\n",
      "Replicability at alpha = 0.01 : 100.0 %\n",
      "Replicability at alpha = 0.005 : 100.0 %\n",
      "Replicability at alpha = 0.001 : 100.0 %\n",
      "*****************************************************************\n",
      "netmats_parcor PCA_SVR Flanker_AgeAdj 50\n",
      "0.015870680147883967 0.028663123664680764\n",
      "Replicability at alpha = 0.05 : nan %\n",
      "Replicability at alpha = 0.01 : nan %\n",
      "Replicability at alpha = 0.005 : nan %\n",
      "Replicability at alpha = 0.001 : nan %\n",
      "*****************************************************************\n",
      "netmats_parcor PCA_SVR Flanker_AgeAdj 100\n"
     ]
    },
    {
     "name": "stderr",
     "output_type": "stream",
     "text": [
      "<timed exec>:60: RuntimeWarning: invalid value encountered in long_scalars\n"
     ]
    },
    {
     "name": "stdout",
     "output_type": "stream",
     "text": [
      "0.0386050459023509 0.04446606264674254\n",
      "Replicability at alpha = 0.05 : 0.0 %\n",
      "Replicability at alpha = 0.01 : 0.0 %\n",
      "Replicability at alpha = 0.005 : 0.0 %\n",
      "Replicability at alpha = 0.001 : 0.0 %\n",
      "*****************************************************************\n",
      "netmats_parcor PCA_SVR Flanker_AgeAdj 200\n",
      "0.04725917071923175 0.05833533752802022\n",
      "Replicability at alpha = 0.05 : 33.33333333333333 %\n",
      "Replicability at alpha = 0.01 : 0.0 %\n",
      "Replicability at alpha = 0.005 : 0.0 %\n",
      "Replicability at alpha = 0.001 : 0.0 %\n",
      "*****************************************************************\n",
      "netmats_parcor PCA_SVR Flanker_AgeAdj 300\n",
      "0.07312846509978996 0.07671340073350896\n",
      "Replicability at alpha = 0.05 : 26.666666666666668 %\n",
      "Replicability at alpha = 0.01 : 0.0 %\n",
      "Replicability at alpha = 0.005 : 0.0 %\n",
      "Replicability at alpha = 0.001 : 0.0 %\n",
      "*****************************************************************\n",
      "netmats_parcor PCA_SVR Flanker_AgeAdj max\n",
      "0.11378620577769874 0.12250618953881152\n",
      "Replicability at alpha = 0.05 : 91.83673469387756 %\n",
      "Replicability at alpha = 0.01 : 26.53061224489796 %\n",
      "Replicability at alpha = 0.005 : 12.244897959183673 %\n",
      "Replicability at alpha = 0.001 : 0.0 %\n",
      "*****************************************************************\n",
      "netmats_parcor PCA_SVR ListSort_AgeAdj 50\n",
      "0.07085517352641549 0.038202420536785915\n",
      "Replicability at alpha = 0.05 : 0.0 %\n",
      "Replicability at alpha = 0.01 : 0.0 %\n",
      "Replicability at alpha = 0.005 : 0.0 %\n",
      "Replicability at alpha = 0.001 : 0.0 %\n",
      "*****************************************************************\n",
      "netmats_parcor PCA_SVR ListSort_AgeAdj 100\n",
      "0.06451208039548792 0.09260165988760356\n",
      "Replicability at alpha = 0.05 : 33.33333333333333 %\n",
      "Replicability at alpha = 0.01 : 0.0 %\n",
      "Replicability at alpha = 0.005 : 0.0 %\n",
      "Replicability at alpha = 0.001 : 0.0 %\n",
      "*****************************************************************\n",
      "netmats_parcor PCA_SVR ListSort_AgeAdj 200\n",
      "0.10897523236932952 0.12592106801842176\n",
      "Replicability at alpha = 0.05 : 47.368421052631575 %\n",
      "Replicability at alpha = 0.01 : 15.789473684210526 %\n",
      "Replicability at alpha = 0.005 : 5.263157894736842 %\n",
      "Replicability at alpha = 0.001 : 0.0 %\n",
      "*****************************************************************\n",
      "netmats_parcor PCA_SVR ListSort_AgeAdj 300\n",
      "0.14651487181463563 0.16550071662300037\n",
      "Replicability at alpha = 0.05 : 87.27272727272727 %\n",
      "Replicability at alpha = 0.01 : 56.36363636363636 %\n",
      "Replicability at alpha = 0.005 : 45.45454545454545 %\n",
      "Replicability at alpha = 0.001 : 16.363636363636363 %\n",
      "*****************************************************************\n",
      "netmats_parcor PCA_SVR ListSort_AgeAdj max\n",
      "0.20949137021546388 0.21324552341635847\n",
      "Replicability at alpha = 0.05 : 100.0 %\n",
      "Replicability at alpha = 0.01 : 95.87628865979381 %\n",
      "Replicability at alpha = 0.005 : 90.72164948453609 %\n",
      "Replicability at alpha = 0.001 : 77.31958762886599 %\n",
      "*****************************************************************\n",
      "netmats_parcor PCA_SVR CardSort_AgeAdj 50\n",
      "0.0211652879792105 0.06074334420456127\n",
      "Replicability at alpha = 0.05 : nan %\n",
      "Replicability at alpha = 0.01 : nan %\n",
      "Replicability at alpha = 0.005 : nan %\n",
      "Replicability at alpha = 0.001 : nan %\n",
      "*****************************************************************\n",
      "netmats_parcor PCA_SVR CardSort_AgeAdj 100\n"
     ]
    },
    {
     "name": "stderr",
     "output_type": "stream",
     "text": [
      "<timed exec>:60: RuntimeWarning: invalid value encountered in long_scalars\n"
     ]
    },
    {
     "name": "stdout",
     "output_type": "stream",
     "text": [
      "0.077594631428072 0.08296991306991304\n",
      "Replicability at alpha = 0.05 : 33.33333333333333 %\n",
      "Replicability at alpha = 0.01 : 0.0 %\n",
      "Replicability at alpha = 0.005 : 0.0 %\n",
      "Replicability at alpha = 0.001 : 0.0 %\n",
      "*****************************************************************\n",
      "netmats_parcor PCA_SVR CardSort_AgeAdj 200\n",
      "0.09773349695774895 0.10256141335871115\n",
      "Replicability at alpha = 0.05 : 35.294117647058826 %\n",
      "Replicability at alpha = 0.01 : 5.88235294117647 %\n",
      "Replicability at alpha = 0.005 : 5.88235294117647 %\n",
      "Replicability at alpha = 0.001 : 0.0 %\n",
      "*****************************************************************\n",
      "netmats_parcor PCA_SVR CardSort_AgeAdj 300\n",
      "0.12290527214628566 0.12397123226254751\n",
      "Replicability at alpha = 0.05 : 55.26315789473685 %\n",
      "Replicability at alpha = 0.01 : 15.789473684210526 %\n",
      "Replicability at alpha = 0.005 : 5.263157894736842 %\n",
      "Replicability at alpha = 0.001 : 5.263157894736842 %\n",
      "*****************************************************************\n",
      "netmats_parcor PCA_SVR CardSort_AgeAdj max\n",
      "0.13969441236430816 0.1495503211206215\n",
      "Replicability at alpha = 0.05 : 96.1038961038961 %\n",
      "Replicability at alpha = 0.01 : 61.038961038961034 %\n",
      "Replicability at alpha = 0.005 : 37.66233766233766 %\n",
      "Replicability at alpha = 0.001 : 7.792207792207792 %\n",
      "*****************************************************************\n",
      "netmats_parcor PCA_SVR ProcSpeed_AgeAdj 50\n",
      "0.059851529733740236 0.03265769962486775\n",
      "Replicability at alpha = 0.05 : nan %\n",
      "Replicability at alpha = 0.01 : nan %\n",
      "Replicability at alpha = 0.005 : nan %\n",
      "Replicability at alpha = 0.001 : nan %\n",
      "*****************************************************************\n",
      "netmats_parcor PCA_SVR ProcSpeed_AgeAdj 100\n"
     ]
    },
    {
     "name": "stderr",
     "output_type": "stream",
     "text": [
      "<timed exec>:60: RuntimeWarning: invalid value encountered in long_scalars\n"
     ]
    },
    {
     "ename": "KeyboardInterrupt",
     "evalue": "",
     "output_type": "error",
     "traceback": [
      "\u001B[0;31m---------------------------------------------------------------------------\u001B[0m",
      "\u001B[0;31mKeyboardInterrupt\u001B[0m                         Traceback (most recent call last)",
      "\u001B[0;32m<timed exec>\u001B[0m in \u001B[0;36m<module>\u001B[0;34m\u001B[0m\n",
      "\u001B[0;32m~/src/RPN-signature/venv/lib/python3.8/site-packages/joblib/parallel.py\u001B[0m in \u001B[0;36m__call__\u001B[0;34m(self, iterable)\u001B[0m\n\u001B[1;32m   1052\u001B[0m \u001B[0;34m\u001B[0m\u001B[0m\n\u001B[1;32m   1053\u001B[0m             \u001B[0;32mwith\u001B[0m \u001B[0mself\u001B[0m\u001B[0;34m.\u001B[0m\u001B[0m_backend\u001B[0m\u001B[0;34m.\u001B[0m\u001B[0mretrieval_context\u001B[0m\u001B[0;34m(\u001B[0m\u001B[0;34m)\u001B[0m\u001B[0;34m:\u001B[0m\u001B[0;34m\u001B[0m\u001B[0;34m\u001B[0m\u001B[0m\n\u001B[0;32m-> 1054\u001B[0;31m                 \u001B[0mself\u001B[0m\u001B[0;34m.\u001B[0m\u001B[0mretrieve\u001B[0m\u001B[0;34m(\u001B[0m\u001B[0;34m)\u001B[0m\u001B[0;34m\u001B[0m\u001B[0;34m\u001B[0m\u001B[0m\n\u001B[0m\u001B[1;32m   1055\u001B[0m             \u001B[0;31m# Make sure that we get a last message telling us we are done\u001B[0m\u001B[0;34m\u001B[0m\u001B[0;34m\u001B[0m\u001B[0;34m\u001B[0m\u001B[0m\n\u001B[1;32m   1056\u001B[0m             \u001B[0melapsed_time\u001B[0m \u001B[0;34m=\u001B[0m \u001B[0mtime\u001B[0m\u001B[0;34m.\u001B[0m\u001B[0mtime\u001B[0m\u001B[0;34m(\u001B[0m\u001B[0;34m)\u001B[0m \u001B[0;34m-\u001B[0m \u001B[0mself\u001B[0m\u001B[0;34m.\u001B[0m\u001B[0m_start_time\u001B[0m\u001B[0;34m\u001B[0m\u001B[0;34m\u001B[0m\u001B[0m\n",
      "\u001B[0;32m~/src/RPN-signature/venv/lib/python3.8/site-packages/joblib/parallel.py\u001B[0m in \u001B[0;36mretrieve\u001B[0;34m(self)\u001B[0m\n\u001B[1;32m    931\u001B[0m             \u001B[0;32mtry\u001B[0m\u001B[0;34m:\u001B[0m\u001B[0;34m\u001B[0m\u001B[0;34m\u001B[0m\u001B[0m\n\u001B[1;32m    932\u001B[0m                 \u001B[0;32mif\u001B[0m \u001B[0mgetattr\u001B[0m\u001B[0;34m(\u001B[0m\u001B[0mself\u001B[0m\u001B[0;34m.\u001B[0m\u001B[0m_backend\u001B[0m\u001B[0;34m,\u001B[0m \u001B[0;34m'supports_timeout'\u001B[0m\u001B[0;34m,\u001B[0m \u001B[0;32mFalse\u001B[0m\u001B[0;34m)\u001B[0m\u001B[0;34m:\u001B[0m\u001B[0;34m\u001B[0m\u001B[0;34m\u001B[0m\u001B[0m\n\u001B[0;32m--> 933\u001B[0;31m                     \u001B[0mself\u001B[0m\u001B[0;34m.\u001B[0m\u001B[0m_output\u001B[0m\u001B[0;34m.\u001B[0m\u001B[0mextend\u001B[0m\u001B[0;34m(\u001B[0m\u001B[0mjob\u001B[0m\u001B[0;34m.\u001B[0m\u001B[0mget\u001B[0m\u001B[0;34m(\u001B[0m\u001B[0mtimeout\u001B[0m\u001B[0;34m=\u001B[0m\u001B[0mself\u001B[0m\u001B[0;34m.\u001B[0m\u001B[0mtimeout\u001B[0m\u001B[0;34m)\u001B[0m\u001B[0;34m)\u001B[0m\u001B[0;34m\u001B[0m\u001B[0;34m\u001B[0m\u001B[0m\n\u001B[0m\u001B[1;32m    934\u001B[0m                 \u001B[0;32melse\u001B[0m\u001B[0;34m:\u001B[0m\u001B[0;34m\u001B[0m\u001B[0;34m\u001B[0m\u001B[0m\n\u001B[1;32m    935\u001B[0m                     \u001B[0mself\u001B[0m\u001B[0;34m.\u001B[0m\u001B[0m_output\u001B[0m\u001B[0;34m.\u001B[0m\u001B[0mextend\u001B[0m\u001B[0;34m(\u001B[0m\u001B[0mjob\u001B[0m\u001B[0;34m.\u001B[0m\u001B[0mget\u001B[0m\u001B[0;34m(\u001B[0m\u001B[0;34m)\u001B[0m\u001B[0;34m)\u001B[0m\u001B[0;34m\u001B[0m\u001B[0;34m\u001B[0m\u001B[0m\n",
      "\u001B[0;32m~/src/RPN-signature/venv/lib/python3.8/site-packages/joblib/_parallel_backends.py\u001B[0m in \u001B[0;36mwrap_future_result\u001B[0;34m(future, timeout)\u001B[0m\n\u001B[1;32m    540\u001B[0m         AsyncResults.get from multiprocessing.\"\"\"\n\u001B[1;32m    541\u001B[0m         \u001B[0;32mtry\u001B[0m\u001B[0;34m:\u001B[0m\u001B[0;34m\u001B[0m\u001B[0;34m\u001B[0m\u001B[0m\n\u001B[0;32m--> 542\u001B[0;31m             \u001B[0;32mreturn\u001B[0m \u001B[0mfuture\u001B[0m\u001B[0;34m.\u001B[0m\u001B[0mresult\u001B[0m\u001B[0;34m(\u001B[0m\u001B[0mtimeout\u001B[0m\u001B[0;34m=\u001B[0m\u001B[0mtimeout\u001B[0m\u001B[0;34m)\u001B[0m\u001B[0;34m\u001B[0m\u001B[0;34m\u001B[0m\u001B[0m\n\u001B[0m\u001B[1;32m    543\u001B[0m         \u001B[0;32mexcept\u001B[0m \u001B[0mCfTimeoutError\u001B[0m \u001B[0;32mas\u001B[0m \u001B[0me\u001B[0m\u001B[0;34m:\u001B[0m\u001B[0;34m\u001B[0m\u001B[0;34m\u001B[0m\u001B[0m\n\u001B[1;32m    544\u001B[0m             \u001B[0;32mraise\u001B[0m \u001B[0mTimeoutError\u001B[0m \u001B[0;32mfrom\u001B[0m \u001B[0me\u001B[0m\u001B[0;34m\u001B[0m\u001B[0;34m\u001B[0m\u001B[0m\n",
      "\u001B[0;32m/usr/lib/python3.8/concurrent/futures/_base.py\u001B[0m in \u001B[0;36mresult\u001B[0;34m(self, timeout)\u001B[0m\n\u001B[1;32m    437\u001B[0m                     \u001B[0;32mreturn\u001B[0m \u001B[0mself\u001B[0m\u001B[0;34m.\u001B[0m\u001B[0m__get_result\u001B[0m\u001B[0;34m(\u001B[0m\u001B[0;34m)\u001B[0m\u001B[0;34m\u001B[0m\u001B[0;34m\u001B[0m\u001B[0m\n\u001B[1;32m    438\u001B[0m \u001B[0;34m\u001B[0m\u001B[0m\n\u001B[0;32m--> 439\u001B[0;31m                 \u001B[0mself\u001B[0m\u001B[0;34m.\u001B[0m\u001B[0m_condition\u001B[0m\u001B[0;34m.\u001B[0m\u001B[0mwait\u001B[0m\u001B[0;34m(\u001B[0m\u001B[0mtimeout\u001B[0m\u001B[0;34m)\u001B[0m\u001B[0;34m\u001B[0m\u001B[0;34m\u001B[0m\u001B[0m\n\u001B[0m\u001B[1;32m    440\u001B[0m \u001B[0;34m\u001B[0m\u001B[0m\n\u001B[1;32m    441\u001B[0m                 \u001B[0;32mif\u001B[0m \u001B[0mself\u001B[0m\u001B[0;34m.\u001B[0m\u001B[0m_state\u001B[0m \u001B[0;32min\u001B[0m \u001B[0;34m[\u001B[0m\u001B[0mCANCELLED\u001B[0m\u001B[0;34m,\u001B[0m \u001B[0mCANCELLED_AND_NOTIFIED\u001B[0m\u001B[0;34m]\u001B[0m\u001B[0;34m:\u001B[0m\u001B[0;34m\u001B[0m\u001B[0;34m\u001B[0m\u001B[0m\n",
      "\u001B[0;32m/usr/lib/python3.8/threading.py\u001B[0m in \u001B[0;36mwait\u001B[0;34m(self, timeout)\u001B[0m\n\u001B[1;32m    300\u001B[0m         \u001B[0;32mtry\u001B[0m\u001B[0;34m:\u001B[0m    \u001B[0;31m# restore state no matter what (e.g., KeyboardInterrupt)\u001B[0m\u001B[0;34m\u001B[0m\u001B[0;34m\u001B[0m\u001B[0m\n\u001B[1;32m    301\u001B[0m             \u001B[0;32mif\u001B[0m \u001B[0mtimeout\u001B[0m \u001B[0;32mis\u001B[0m \u001B[0;32mNone\u001B[0m\u001B[0;34m:\u001B[0m\u001B[0;34m\u001B[0m\u001B[0;34m\u001B[0m\u001B[0m\n\u001B[0;32m--> 302\u001B[0;31m                 \u001B[0mwaiter\u001B[0m\u001B[0;34m.\u001B[0m\u001B[0macquire\u001B[0m\u001B[0;34m(\u001B[0m\u001B[0;34m)\u001B[0m\u001B[0;34m\u001B[0m\u001B[0;34m\u001B[0m\u001B[0m\n\u001B[0m\u001B[1;32m    303\u001B[0m                 \u001B[0mgotit\u001B[0m \u001B[0;34m=\u001B[0m \u001B[0;32mTrue\u001B[0m\u001B[0;34m\u001B[0m\u001B[0;34m\u001B[0m\u001B[0m\n\u001B[1;32m    304\u001B[0m             \u001B[0;32melse\u001B[0m\u001B[0;34m:\u001B[0m\u001B[0;34m\u001B[0m\u001B[0;34m\u001B[0m\u001B[0m\n",
      "\u001B[0;31mKeyboardInterrupt\u001B[0m: "
     ]
    }
   ],
   "source": [
    "%%time\n",
    "\n",
    "random_state = 42\n",
    "n_bootstrap = 100\n",
    "\n",
    "features = {\n",
    "    'netmats_parcor': netmats_parcor,\n",
    "    'netmats_pearson': netmats_pearson\n",
    "}\n",
    "\n",
    "models = {\n",
    "    'PCA_SVR': Pipeline([('pca', PCA(n_components=0.5)),\n",
    "                         ('svr', SVR())])\n",
    "\n",
    "}\n",
    "\n",
    "# We aggregate all results here:\n",
    "df = pd.DataFrame(columns=['connectivity','model','target','n','r_discovery_cv','r_discovery_overfit','r_replication','p_discovery_cv','p_discovery_overfit','p_replication'])\n",
    "\n",
    "for feature_set in features:\n",
    "    for model in models:\n",
    "        for target_var in targets:\n",
    "            for sample_size in [50, 100, 200, 300, 'max']:\n",
    "\n",
    "                print('*****************************************************************')\n",
    "                print(feature_set, model, target_var, sample_size)\n",
    "\n",
    "                X, y = create_data(target=target_var, feature_data=features[feature_set])\n",
    "\n",
    "                if sample_size=='max':\n",
    "                    sample_size = int(len(y)/2)\n",
    "\n",
    "                # create random seeds for each bootstrap iteration for reproducibility\n",
    "                rng = np.random.default_rng(random_state)\n",
    "                random_sates = rng.integers(np.iinfo(np.int32).max, size=n_bootstrap)\n",
    "\n",
    "                # run bootstrap iterations in parallel\n",
    "                r_discovery_cv, r_discovery_overfit, r_replication, p_discovery_cv, p_discovery_overfit, p_replication = zip(\n",
    "                    *Parallel(n_jobs=-1)(\n",
    "                    delayed(bootstrap_workhorse)(X, y, sample_size, models[model], seed) for seed in random_sates))\n",
    "\n",
    "                tmp_data_frame = pd.DataFrame({\n",
    "                    'connectivity' : feature_set,\n",
    "                    'model' : model,\n",
    "                    'target' : target_var,\n",
    "                    'n' : sample_size,\n",
    "                    'r_discovery_cv': r_discovery_cv,\n",
    "                    'r_discovery_overfit': r_discovery_overfit,\n",
    "                    'r_replication': r_replication,\n",
    "                    'p_discovery_cv': p_discovery_cv,\n",
    "                    'p_discovery_overfit': p_discovery_overfit,\n",
    "                    'p_replication': p_replication\n",
    "                })\n",
    "                #sns.scatterplot(x='r_replication', y='r_discovery_cv', data=tmp_data_frame)\n",
    "                #plt.ylabel('in-sample (r)')\n",
    "                #plt.xlabel('out-of-sample (r_pred)')\n",
    "                #plt.show()\n",
    "                print(tmp_data_frame.r_discovery_cv.mean(), tmp_data_frame.r_replication.mean())\n",
    "\n",
    "                for alpha in [0.05, 0.01, 0.005, 0.001]:\n",
    "                    print('Replicability at alpha =', alpha, ':',\n",
    "                          (tmp_data_frame.loc[tmp_data_frame['p_discovery_cv']<alpha,'p_replication']<alpha).sum() / (tmp_data_frame['p_discovery_cv']<0.05).sum() * 100, '%')\n",
    "\n",
    "                df = pd.concat((df, tmp_data_frame))\n",
    "                df.reset_index(drop=True, inplace=True)\n",
    "                df.to_csv('res/revised_results_PCA_SVR.csv')\n",
    "\n",
    "df"
   ],
   "metadata": {
    "collapsed": false,
    "pycharm": {
     "name": "#%%\n"
    }
   }
  },
  {
   "cell_type": "markdown",
   "source": [
    "# Now we fit a simple Ridge regression\n",
    "(no feature selection, no hyperparameter optimization)\n",
    "This can be expected to perform better on low samples than SVR."
   ],
   "metadata": {
    "collapsed": false,
    "pycharm": {
     "name": "#%% md\n"
    }
   }
  },
  {
   "cell_type": "code",
   "execution_count": 8,
   "outputs": [
    {
     "name": "stdout",
     "output_type": "stream",
     "text": [
      "*****************************************************************\n",
      "netmats_parcor ridge PicVocab_AgeAdj max\n",
      "0.4748017798587243 0.4784423901738578\n",
      "Replicability at alpha = 0.05 : 100.0 %\n",
      "Replicability at alpha = 0.01 : 100.0 %\n",
      "Replicability at alpha = 0.005 : 100.0 %\n",
      "Replicability at alpha = 0.001 : 100.0 %\n",
      "*****************************************************************\n",
      "netmats_parcor ridge Flanker_AgeAdj max\n",
      "0.13226123494919054 0.14022631939127772\n",
      "Replicability at alpha = 0.05 : 98.87640449438202 %\n",
      "Replicability at alpha = 0.01 : 61.79775280898876 %\n",
      "Replicability at alpha = 0.005 : 42.69662921348314 %\n",
      "Replicability at alpha = 0.001 : 12.359550561797752 %\n",
      "*****************************************************************\n",
      "netmats_parcor ridge ListSort_AgeAdj max\n",
      "0.27262179944410553 0.2762933878478993\n",
      "Replicability at alpha = 0.05 : 100.0 %\n",
      "Replicability at alpha = 0.01 : 100.0 %\n",
      "Replicability at alpha = 0.005 : 100.0 %\n",
      "Replicability at alpha = 0.001 : 100.0 %\n",
      "*****************************************************************\n",
      "netmats_parcor ridge CardSort_AgeAdj max\n",
      "0.1789658621130238 0.1895769375836651\n",
      "Replicability at alpha = 0.05 : 100.0 %\n",
      "Replicability at alpha = 0.01 : 96.90721649484536 %\n",
      "Replicability at alpha = 0.005 : 91.75257731958763 %\n",
      "Replicability at alpha = 0.001 : 65.97938144329896 %\n",
      "*****************************************************************\n",
      "netmats_parcor ridge ProcSpeed_AgeAdj max\n",
      "0.11764068520351804 0.1224990362333561\n",
      "Replicability at alpha = 0.05 : 84.61538461538461 %\n",
      "Replicability at alpha = 0.01 : 38.46153846153847 %\n",
      "Replicability at alpha = 0.005 : 21.794871794871796 %\n",
      "Replicability at alpha = 0.001 : 2.564102564102564 %\n",
      "*****************************************************************\n",
      "netmats_parcor ridge PicSeq_AgeAdj max\n",
      "0.18233069324505247 0.185930935195939\n",
      "Replicability at alpha = 0.05 : 100.0 %\n",
      "Replicability at alpha = 0.01 : 93.87755102040816 %\n",
      "Replicability at alpha = 0.005 : 90.81632653061224 %\n",
      "Replicability at alpha = 0.001 : 66.3265306122449 %\n",
      "*****************************************************************\n",
      "netmats_parcor ridge ReadEng_AgeAdj max\n",
      "0.450867003576911 0.46022188861700536\n",
      "Replicability at alpha = 0.05 : 100.0 %\n",
      "Replicability at alpha = 0.01 : 100.0 %\n",
      "Replicability at alpha = 0.005 : 100.0 %\n",
      "Replicability at alpha = 0.001 : 100.0 %\n",
      "*****************************************************************\n",
      "netmats_parcor ridge CogFluidComp_AgeAdj max\n",
      "0.30498017181970244 0.2996751646332102\n",
      "Replicability at alpha = 0.05 : 100.0 %\n",
      "Replicability at alpha = 0.01 : 100.0 %\n",
      "Replicability at alpha = 0.005 : 100.0 %\n",
      "Replicability at alpha = 0.001 : 100.0 %\n",
      "*****************************************************************\n",
      "netmats_parcor ridge CogCrystalComp_AgeAdj max\n",
      "0.509356447724508 0.5252483106948896\n",
      "Replicability at alpha = 0.05 : 100.0 %\n",
      "Replicability at alpha = 0.01 : 100.0 %\n",
      "Replicability at alpha = 0.005 : 100.0 %\n",
      "Replicability at alpha = 0.001 : 100.0 %\n",
      "*****************************************************************\n",
      "netmats_parcor ridge CogTotalComp_AgeAdj max\n",
      "0.4726518883300038 0.47903946590450225\n",
      "Replicability at alpha = 0.05 : 100.0 %\n",
      "Replicability at alpha = 0.01 : 100.0 %\n",
      "Replicability at alpha = 0.005 : 100.0 %\n",
      "Replicability at alpha = 0.001 : 100.0 %\n",
      "*****************************************************************\n",
      "netmats_parcor ridge PMAT24_A_CR max\n",
      "0.2922426473940083 0.301492004778787\n",
      "Replicability at alpha = 0.05 : 100.0 %\n",
      "Replicability at alpha = 0.01 : 100.0 %\n",
      "Replicability at alpha = 0.005 : 100.0 %\n",
      "Replicability at alpha = 0.001 : 100.0 %\n",
      "*****************************************************************\n",
      "netmats_parcor ridge Sadness_Unadj max\n",
      "0.1327824232969155 0.1244556654760563\n",
      "Replicability at alpha = 0.05 : 94.04761904761905 %\n",
      "Replicability at alpha = 0.01 : 54.761904761904766 %\n",
      "Replicability at alpha = 0.005 : 35.714285714285715 %\n",
      "Replicability at alpha = 0.001 : 7.142857142857142 %\n",
      "*****************************************************************\n",
      "netmats_parcor ridge FearAffect_Unadj max\n",
      "0.15563217224852446 0.1512257780862036\n",
      "Replicability at alpha = 0.05 : 100.0 %\n",
      "Replicability at alpha = 0.01 : 77.01149425287356 %\n",
      "Replicability at alpha = 0.005 : 66.66666666666666 %\n",
      "Replicability at alpha = 0.001 : 29.88505747126437 %\n",
      "*****************************************************************\n",
      "netmats_parcor ridge FearSomat_Unadj max\n",
      "0.06110113688711337 0.054246596855310594\n",
      "Replicability at alpha = 0.05 : 14.285714285714285 %\n",
      "Replicability at alpha = 0.01 : 0.0 %\n",
      "Replicability at alpha = 0.005 : 0.0 %\n",
      "Replicability at alpha = 0.001 : 0.0 %\n",
      "*****************************************************************\n",
      "netmats_parcor ridge AngAffect_Unadj max\n",
      "0.09675041204325668 0.097384559509148\n",
      "Replicability at alpha = 0.05 : 69.23076923076923 %\n",
      "Replicability at alpha = 0.01 : 12.307692307692308 %\n",
      "Replicability at alpha = 0.005 : 1.5384615384615385 %\n",
      "Replicability at alpha = 0.001 : 0.0 %\n",
      "*****************************************************************\n",
      "netmats_parcor ridge AngAggr_Unadj max\n",
      "0.19405555852511738 0.20052370789491034\n",
      "Replicability at alpha = 0.05 : 100.0 %\n",
      "Replicability at alpha = 0.01 : 95.0 %\n",
      "Replicability at alpha = 0.005 : 93.0 %\n",
      "Replicability at alpha = 0.001 : 77.0 %\n",
      "*****************************************************************\n",
      "netmats_parcor ridge AngHostil_Unadj max\n",
      "0.06336555348912117 0.07505183534895289\n",
      "Replicability at alpha = 0.05 : 41.02564102564102 %\n",
      "Replicability at alpha = 0.01 : 2.564102564102564 %\n",
      "Replicability at alpha = 0.005 : 2.564102564102564 %\n",
      "Replicability at alpha = 0.001 : 0.0 %\n",
      "*****************************************************************\n",
      "netmats_parcor ridge LifeSatif_Unadj max\n"
     ]
    },
    {
     "ename": "KeyError",
     "evalue": "['LifeSatif_Unadj']",
     "output_type": "error",
     "traceback": [
      "\u001B[0;31m---------------------------------------------------------------------------\u001B[0m",
      "\u001B[0;31mKeyError\u001B[0m                                  Traceback (most recent call last)",
      "\u001B[0;32m<timed exec>\u001B[0m in \u001B[0;36m<module>\u001B[0;34m\u001B[0m\n",
      "\u001B[0;32m/tmp/ipykernel_6215/194540471.py\u001B[0m in \u001B[0;36mcreate_data\u001B[0;34m(target, feature_data)\u001B[0m\n\u001B[1;32m      5\u001B[0m     \u001B[0mdf\u001B[0m \u001B[0;34m=\u001B[0m \u001B[0mdf\u001B[0m\u001B[0;34m.\u001B[0m\u001B[0mmerge\u001B[0m\u001B[0;34m(\u001B[0m\u001B[0mfeature_data\u001B[0m\u001B[0;34m,\u001B[0m \u001B[0mleft_index\u001B[0m\u001B[0;34m=\u001B[0m\u001B[0;32mTrue\u001B[0m\u001B[0;34m,\u001B[0m \u001B[0mright_index\u001B[0m\u001B[0;34m=\u001B[0m\u001B[0;32mTrue\u001B[0m\u001B[0;34m,\u001B[0m \u001B[0mhow\u001B[0m\u001B[0;34m=\u001B[0m\u001B[0;34m'left'\u001B[0m\u001B[0;34m)\u001B[0m\u001B[0;34m\u001B[0m\u001B[0;34m\u001B[0m\u001B[0m\n\u001B[1;32m      6\u001B[0m \u001B[0;34m\u001B[0m\u001B[0m\n\u001B[0;32m----> 7\u001B[0;31m     \u001B[0mdf\u001B[0m \u001B[0;34m=\u001B[0m \u001B[0mdf\u001B[0m\u001B[0;34m.\u001B[0m\u001B[0mdropna\u001B[0m\u001B[0;34m(\u001B[0m\u001B[0msubset\u001B[0m \u001B[0;34m=\u001B[0m \u001B[0;34m[\u001B[0m\u001B[0mtarget\u001B[0m\u001B[0;34m]\u001B[0m \u001B[0;34m+\u001B[0m \u001B[0mfeatures\u001B[0m\u001B[0;34m.\u001B[0m\u001B[0mvalues\u001B[0m\u001B[0;34m.\u001B[0m\u001B[0mtolist\u001B[0m\u001B[0;34m(\u001B[0m\u001B[0;34m)\u001B[0m\u001B[0;34m)\u001B[0m\u001B[0;34m\u001B[0m\u001B[0;34m\u001B[0m\u001B[0m\n\u001B[0m\u001B[1;32m      8\u001B[0m     \u001B[0my\u001B[0m \u001B[0;34m=\u001B[0m \u001B[0mdf\u001B[0m\u001B[0;34m[\u001B[0m\u001B[0mtarget\u001B[0m\u001B[0;34m]\u001B[0m\u001B[0;34m.\u001B[0m\u001B[0mvalues\u001B[0m\u001B[0;34m\u001B[0m\u001B[0;34m\u001B[0m\u001B[0m\n\u001B[1;32m      9\u001B[0m     \u001B[0mX\u001B[0m \u001B[0;34m=\u001B[0m \u001B[0mdf\u001B[0m\u001B[0;34m[\u001B[0m\u001B[0mfeatures\u001B[0m\u001B[0;34m]\u001B[0m\u001B[0;34m.\u001B[0m\u001B[0mvalues\u001B[0m\u001B[0;34m\u001B[0m\u001B[0;34m\u001B[0m\u001B[0m\n",
      "\u001B[0;32m~/src/RPN-signature/venv/lib/python3.8/site-packages/pandas/util/_decorators.py\u001B[0m in \u001B[0;36mwrapper\u001B[0;34m(*args, **kwargs)\u001B[0m\n\u001B[1;32m    309\u001B[0m                     \u001B[0mstacklevel\u001B[0m\u001B[0;34m=\u001B[0m\u001B[0mstacklevel\u001B[0m\u001B[0;34m,\u001B[0m\u001B[0;34m\u001B[0m\u001B[0;34m\u001B[0m\u001B[0m\n\u001B[1;32m    310\u001B[0m                 )\n\u001B[0;32m--> 311\u001B[0;31m             \u001B[0;32mreturn\u001B[0m \u001B[0mfunc\u001B[0m\u001B[0;34m(\u001B[0m\u001B[0;34m*\u001B[0m\u001B[0margs\u001B[0m\u001B[0;34m,\u001B[0m \u001B[0;34m**\u001B[0m\u001B[0mkwargs\u001B[0m\u001B[0;34m)\u001B[0m\u001B[0;34m\u001B[0m\u001B[0;34m\u001B[0m\u001B[0m\n\u001B[0m\u001B[1;32m    312\u001B[0m \u001B[0;34m\u001B[0m\u001B[0m\n\u001B[1;32m    313\u001B[0m         \u001B[0;32mreturn\u001B[0m \u001B[0mwrapper\u001B[0m\u001B[0;34m\u001B[0m\u001B[0;34m\u001B[0m\u001B[0m\n",
      "\u001B[0;32m~/src/RPN-signature/venv/lib/python3.8/site-packages/pandas/core/frame.py\u001B[0m in \u001B[0;36mdropna\u001B[0;34m(self, axis, how, thresh, subset, inplace)\u001B[0m\n\u001B[1;32m   5994\u001B[0m             \u001B[0mcheck\u001B[0m \u001B[0;34m=\u001B[0m \u001B[0mindices\u001B[0m \u001B[0;34m==\u001B[0m \u001B[0;34m-\u001B[0m\u001B[0;36m1\u001B[0m\u001B[0;34m\u001B[0m\u001B[0;34m\u001B[0m\u001B[0m\n\u001B[1;32m   5995\u001B[0m             \u001B[0;32mif\u001B[0m \u001B[0mcheck\u001B[0m\u001B[0;34m.\u001B[0m\u001B[0many\u001B[0m\u001B[0;34m(\u001B[0m\u001B[0;34m)\u001B[0m\u001B[0;34m:\u001B[0m\u001B[0;34m\u001B[0m\u001B[0;34m\u001B[0m\u001B[0m\n\u001B[0;32m-> 5996\u001B[0;31m                 \u001B[0;32mraise\u001B[0m \u001B[0mKeyError\u001B[0m\u001B[0;34m(\u001B[0m\u001B[0mnp\u001B[0m\u001B[0;34m.\u001B[0m\u001B[0marray\u001B[0m\u001B[0;34m(\u001B[0m\u001B[0msubset\u001B[0m\u001B[0;34m)\u001B[0m\u001B[0;34m[\u001B[0m\u001B[0mcheck\u001B[0m\u001B[0;34m]\u001B[0m\u001B[0;34m.\u001B[0m\u001B[0mtolist\u001B[0m\u001B[0;34m(\u001B[0m\u001B[0;34m)\u001B[0m\u001B[0;34m)\u001B[0m\u001B[0;34m\u001B[0m\u001B[0;34m\u001B[0m\u001B[0m\n\u001B[0m\u001B[1;32m   5997\u001B[0m             \u001B[0magg_obj\u001B[0m \u001B[0;34m=\u001B[0m \u001B[0mself\u001B[0m\u001B[0;34m.\u001B[0m\u001B[0mtake\u001B[0m\u001B[0;34m(\u001B[0m\u001B[0mindices\u001B[0m\u001B[0;34m,\u001B[0m \u001B[0maxis\u001B[0m\u001B[0;34m=\u001B[0m\u001B[0magg_axis\u001B[0m\u001B[0;34m)\u001B[0m\u001B[0;34m\u001B[0m\u001B[0;34m\u001B[0m\u001B[0m\n\u001B[1;32m   5998\u001B[0m \u001B[0;34m\u001B[0m\u001B[0m\n",
      "\u001B[0;31mKeyError\u001B[0m: ['LifeSatif_Unadj']"
     ]
    }
   ],
   "source": [
    "%%time\n",
    "\n",
    "random_state = 42\n",
    "n_bootstrap = 100\n",
    "\n",
    "features = {\n",
    "    'netmats_parcor': netmats_parcor,\n",
    "    'netmats_pearson': netmats_pearson\n",
    "}\n",
    "\n",
    "models = {\n",
    "    'ridge': Ridge()\n",
    "}\n",
    "\n",
    "# We aggregate all results here:\n",
    "df = pd.DataFrame(columns=['connectivity','model','target','n','r_discovery_cv','r_discovery_overfit','r_replication','p_discovery_cv','p_discovery_overfit','p_replication'])\n",
    "\n",
    "for feature_set in features:\n",
    "    for model in models:\n",
    "        for target_var in targets:\n",
    "            for sample_size in ['max']:\n",
    "\n",
    "                print('*****************************************************************')\n",
    "                print(feature_set, model, target_var, sample_size)\n",
    "\n",
    "                X, y = create_data(target=target_var, feature_data=features[feature_set])\n",
    "\n",
    "                if sample_size=='max':\n",
    "                    sample_size = int(len(y)/2)\n",
    "\n",
    "                # create random seeds for each bootstrap iteration for reproducibility\n",
    "                rng = np.random.default_rng(random_state)\n",
    "                random_sates = rng.integers(np.iinfo(np.int32).max, size=n_bootstrap)\n",
    "\n",
    "                # run bootstrap iterations in parallel\n",
    "                r_discovery_cv, r_discovery_overfit, r_replication, p_discovery_cv, p_discovery_overfit, p_replication = zip(\n",
    "                    *Parallel(n_jobs=-1)(\n",
    "                    delayed(bootstrap_workhorse)(X, y, sample_size, models[model], seed) for seed in random_sates))\n",
    "\n",
    "                tmp_data_frame = pd.DataFrame({\n",
    "                    'connectivity' : feature_set,\n",
    "                    'model' : model,\n",
    "                    'target' : target_var,\n",
    "                    'n' : sample_size,\n",
    "                    'r_discovery_cv': r_discovery_cv,\n",
    "                    'r_discovery_overfit': r_discovery_overfit,\n",
    "                    'r_replication': r_replication,\n",
    "                    'p_discovery_cv': p_discovery_cv,\n",
    "                    'p_discovery_overfit': p_discovery_overfit,\n",
    "                    'p_replication': p_replication\n",
    "                })\n",
    "                #sns.scatterplot(x='r_replication', y='r_discovery_cv', data=tmp_data_frame)\n",
    "                #plt.ylabel('in-sample (r)')\n",
    "                #plt.xlabel('out-of-sample (r_pred)')\n",
    "                #plt.show()\n",
    "                print(tmp_data_frame.r_discovery_cv.mean(), tmp_data_frame.r_replication.mean())\n",
    "\n",
    "                for alpha in [0.05, 0.01, 0.005, 0.001]:\n",
    "                    print('Replicability at alpha =', alpha, ':',\n",
    "                          (tmp_data_frame.loc[tmp_data_frame['p_discovery_cv']<alpha,'p_replication']<alpha).sum() / (tmp_data_frame['p_discovery_cv']<0.05).sum() * 100, '%')\n",
    "\n",
    "                df = pd.concat((df, tmp_data_frame))\n",
    "                df.reset_index(drop=True, inplace=True)\n",
    "                df.to_csv('res/revised_results_Ridge.csv')\n",
    "\n",
    "df\n"
   ],
   "metadata": {
    "collapsed": false,
    "pycharm": {
     "name": "#%%\n"
    }
   }
  },
  {
   "cell_type": "code",
   "execution_count": 12,
   "outputs": [
    {
     "data": {
      "text/plain": "array(['Release', 'Acquisition', 'Gender', 'Age', '3T_Full_MR_Compl',\n       'T1_Count', 'T2_Count', '3T_RS-fMRI_Count', '3T_RS-fMRI_PctCompl',\n       '3T_Full_Task_fMRI', '3T_tMRI_PctCompl', 'fMRI_WM_PctCompl',\n       'fMRI_Gamb_PctCompl', 'fMRI_Mot_PctCompl', 'fMRI_Lang_PctCompl',\n       'fMRI_Soc_PctCompl', 'fMRI_Rel_PctCompl', 'fMRI_Emo_PctCompl',\n       '3T_dMRI_Compl', '3T_dMRI_PctCompl', 'dMRI_3T_ReconVrs',\n       'fMRI_3T_ReconVrs', '7T_Full_MR_Compl', '7T_RS-fMRI_Count',\n       '7T_RS-fMRI_PctCompl', '7T_Full_Task_fMRI', '7T_tMRI_PctCompl',\n       'fMRI_Movie_Compl', 'fMRI_Movie_PctCompl', 'fMRI_Ret_Compl',\n       'fMRI_Ret_PctCompl', '7T_dMRI_Compl', '7T_dMRI_PctCompl',\n       '7T_fMRI_Mov_Vrs', 'MEG_AnyData', 'MEG_FullProt_Compl',\n       'MEG_HeadModel_Avail', 'MEG_CortRibn_Avail', 'MEG_Anatomy_Avail',\n       'MEG_Anatomy_Compl', 'MEG_Noise_Avail', 'MEG_Noise_Compl',\n       'MEG_RS_Avail', 'MEG_RS_Compl', 'MEG_WM_Avail', 'MEG_WM_Compl',\n       'MEG_StoryMath_Avail', 'MEG_StoryMath_Compl', 'MEG_Motor_Avail',\n       'MEG_Motor_Compl', 'Non-TB_Compl', 'VisProc_Compl',\n       'DelDisc_Compl', 'SCPT_Compl', 'IWRD_Compl', 'PMAT_Compl',\n       'VSPLOT_Compl', 'EmoRecog_Compl', 'NEO-FFI_Compl', 'ASR-Syn_Compl',\n       'ASR-DSM_Compl', 'Toolbox_Compl', 'MMSE_Compl', 'PSQI_Compl',\n       'Alert_Compl', 'ASQ_Compl', 'FamPsychNeuro_Compl', 'SSAGA_Compl',\n       'SSAGA_Demo_Compl', 'SSAGA_Mental_Compl', 'SSAGA_Alc_Compl',\n       'SSAGA_Illicit_Compl', 'SSAGA_Tob_Compl', 'SSAGA_Mj_Compl',\n       'QC_Issue', 'MRsession_Scanner_3T', 'MRsession_Scans_3T',\n       'MRsession_Label_3T', 'MRsession_Scanner_7T', 'MRsession_Scans_7T',\n       'MRsession_Label_7T', 'MEGsession_Scanner', 'MEGsession_Scans',\n       'MEGsession_Label', 'Alpha_Peak', 'Beta_Peak', 'MMSE_Score',\n       'PSQI_Score', 'PSQI_Comp1', 'PSQI_Comp2', 'PSQI_Comp3',\n       'PSQI_Comp4', 'PSQI_Comp5', 'PSQI_Comp6', 'PSQI_Comp7',\n       'PSQI_BedTime', 'PSQI_Min2Asleep', 'PSQI_GetUpTime',\n       'PSQI_AmtSleep', 'PSQI_Latency30Min', 'PSQI_WakeUp',\n       'PSQI_Bathroom', 'PSQI_Breathe', 'PSQI_Snore', 'PSQI_TooCold',\n       'PSQI_TooHot', 'PSQI_BadDream', 'PSQI_Pain', 'PSQI_Other',\n       'PSQI_Quality', 'PSQI_SleepMeds', 'PSQI_DayStayAwake',\n       'PSQI_DayEnthusiasm', 'PSQI_BedPtnrRmate', 'PicSeq_Unadj',\n       'PicSeq_AgeAdj', 'CardSort_Unadj', 'CardSort_AgeAdj',\n       'Flanker_Unadj', 'Flanker_AgeAdj', 'PMAT24_A_CR', 'PMAT24_A_SI',\n       'PMAT24_A_RTCR', 'ReadEng_Unadj', 'ReadEng_AgeAdj',\n       'PicVocab_Unadj', 'PicVocab_AgeAdj', 'ProcSpeed_Unadj',\n       'ProcSpeed_AgeAdj', 'DDisc_SV_1mo_200', 'DDisc_SV_6mo_200',\n       'DDisc_SV_1yr_200', 'DDisc_SV_3yr_200', 'DDisc_SV_5yr_200',\n       'DDisc_SV_10yr_200', 'DDisc_SV_1mo_40K', 'DDisc_SV_6mo_40K',\n       'DDisc_SV_1yr_40K', 'DDisc_SV_3yr_40K', 'DDisc_SV_5yr_40K',\n       'DDisc_SV_10yr_40K', 'DDisc_AUC_200', 'DDisc_AUC_40K', 'VSPLOT_TC',\n       'VSPLOT_CRTE', 'VSPLOT_OFF', 'SCPT_TP', 'SCPT_TN', 'SCPT_FP',\n       'SCPT_FN', 'SCPT_TPRT', 'SCPT_SEN', 'SCPT_SPEC', 'SCPT_LRNR',\n       'IWRD_TOT', 'IWRD_RTC', 'ListSort_Unadj', 'ListSort_AgeAdj',\n       'CogFluidComp_Unadj', 'CogFluidComp_AgeAdj', 'CogEarlyComp_Unadj',\n       'CogEarlyComp_AgeAdj', 'CogTotalComp_Unadj', 'CogTotalComp_AgeAdj',\n       'CogCrystalComp_Unadj', 'CogCrystalComp_AgeAdj', 'ER40_CR',\n       'ER40_CRT', 'ER40ANG', 'ER40FEAR', 'ER40HAP', 'ER40NOE', 'ER40SAD',\n       'AngAffect_Unadj', 'AngHostil_Unadj', 'AngAggr_Unadj',\n       'FearAffect_Unadj', 'FearSomat_Unadj', 'Sadness_Unadj',\n       'LifeSatisf_Unadj', 'MeanPurp_Unadj', 'PosAffect_Unadj',\n       'Friendship_Unadj', 'Loneliness_Unadj', 'PercHostil_Unadj',\n       'PercReject_Unadj', 'EmotSupp_Unadj', 'InstruSupp_Unadj',\n       'PercStress_Unadj', 'SelfEff_Unadj', 'FS_IntraCranial_Vol',\n       'FS_BrainSeg_Vol', 'FS_BrainSeg_Vol_No_Vent',\n       'FS_BrainSeg_Vol_No_Vent_Surf', 'FS_LCort_GM_Vol',\n       'FS_RCort_GM_Vol', 'FS_TotCort_GM_Vol', 'FS_SubCort_GM_Vol',\n       'FS_Total_GM_Vol', 'FS_SupraTentorial_Vol', 'FS_L_WM_Vol',\n       'FS_R_WM_Vol', 'FS_Tot_WM_Vol', 'FS_Mask_Vol',\n       'FS_BrainSegVol_eTIV_Ratio', 'FS_MaskVol_eTIV_Ratio',\n       'FS_LH_Defect_Holes', 'FS_RH_Defect_Holes',\n       'FS_Total_Defect_Holes', 'FS_L_LatVent_Vol', 'FS_L_InfLatVent_Vol',\n       'FS_L_Cerebellum_WM_Vol', 'FS_L_Cerebellum_Cort_Vol',\n       'FS_L_ThalamusProper_Vol', 'FS_L_Caudate_Vol', 'FS_L_Putamen_Vol',\n       'FS_L_Pallidum_Vol', 'FS_3rdVent_Vol', 'FS_4thVent_Vol',\n       'FS_BrainStem_Vol', 'FS_L_Hippo_Vol', 'FS_L_Amygdala_Vol',\n       'FS_CSF_Vol', 'FS_L_AccumbensArea_Vol', 'FS_L_VentDC_Vol',\n       'FS_L_Vessel_Vol', 'FS_L_ChoroidPlexus_Vol', 'FS_R_LatVent_Vol',\n       'FS_R_InfLatVent_Vol', 'FS_R_Cerebellum_WM_Vol',\n       'FS_R_Cerebellum_Cort_Vol', 'FS_R_ThalamusProper_Vol',\n       'FS_R_Caudate_Vol', 'FS_R_Putamen_Vol', 'FS_R_Pallidum_Vol',\n       'FS_R_Hippo_Vol', 'FS_R_Amygdala_Vol', 'FS_R_AccumbensArea_Vol',\n       'FS_R_VentDC_Vol', 'FS_R_Vessel_Vol', 'FS_R_ChoroidPlexus_Vol',\n       'FS_5thVent_Vol', 'FS_WM_Hypointens_Vol', 'FS_L_WM_Hypointens_Vol',\n       'FS_R_WM_Hypointens_Vol', 'FS_L_Non-WM_Hypointens_Vol',\n       'FS_R_Non-WM_Hypointens_Vol', 'FS_OpticChiasm_Vol',\n       'FS_CC_Posterior_Vol', 'FS_CC_MidPosterior_Vol',\n       'FS_CC_Central_Vol', 'FS_CC_MidAnterior_Vol', 'FS_CC_Anterior_Vol',\n       'FS_L_Bankssts_Thck', 'FS_L_Caudalanteriorcingulate_Thck',\n       'FS_L_Caudalmiddlefrontal_Thck', 'FS_L_Cuneus_Thck',\n       'FS_L_Entorhinal_Thck', 'FS_L_Fusiform_Thck',\n       'FS_L_Inferiorparietal_Thck', 'FS_L_Inferiortemporal_Thck',\n       'FS_L_Isthmuscingulate_Thck', 'FS_L_Lateraloccipital_Thck',\n       'FS_L_Lateralorbitofrontal_Thck', 'FS_L_Lingual_Thck',\n       'FS_L_Medialorbitofrontal_Thck', 'FS_L_Middletemporal_Thck',\n       'FS_L_Parahippocampal_Thck', 'FS_L_Paracentral_Thck',\n       'FS_L_Parsopercularis_Thck', 'FS_L_Parsorbitalis_Thck',\n       'FS_L_Parstriangularis_Thck', 'FS_L_Pericalcarine_Thck',\n       'FS_L_Postcentral_Thck', 'FS_L_Posteriorcingulate_Thck',\n       'FS_L_Precentral_Thck', 'FS_L_Precuneus_Thck',\n       'FS_L_Rostralanteriorcingulate_Thck',\n       'FS_L_Rostralmiddlefrontal_Thck', 'FS_L_Superiorfrontal_Thck',\n       'FS_L_Superiorparietal_Thck', 'FS_L_Superiortemporal_Thck',\n       'FS_L_Supramarginal_Thck', 'FS_L_Frontalpole_Thck',\n       'FS_L_Temporalpole_Thck', 'FS_L_Transversetemporal_Thck',\n       'FS_L_Insula_Thck', 'FS_R_Bankssts_Thck',\n       'FS_R_Caudalanteriorcingulate_Thck',\n       'FS_R_Caudalmiddlefrontal_Thck', 'FS_R_Cuneus_Thck',\n       'FS_R_Entorhinal_Thck', 'FS_R_Fusiform_Thck',\n       'FS_R_Inferiorparietal_Thck', 'FS_R_Inferiortemporal_Thck',\n       'FS_R_Isthmuscingulate_Thck', 'FS_R_Lateraloccipital_Thck',\n       'FS_R_Lateralorbitofrontal_Thck', 'FS_R_Lingual_Thck',\n       'FS_R_Medialorbitofrontal_Thck', 'FS_R_Middletemporal_Thck',\n       'FS_R_Parahippocampal_Thck', 'FS_R_Paracentral_Thck',\n       'FS_R_Parsopercularis_Thck', 'FS_R_Parsorbitalis_Thck',\n       'FS_R_Parstriangularis_Thck', 'FS_R_Pericalcarine_Thck',\n       'FS_R_Postcentral_Thck', 'FS_R_Posteriorcingulate_Thck',\n       'FS_R_Precentral_Thck', 'FS_R_Precuneus_Thck',\n       'FS_R_Rostralanteriorcingulate_Thck',\n       'FS_R_Rostralmiddlefrontal_Thck', 'FS_R_Superiorfrontal_Thck',\n       'FS_R_Superiorparietal_Thck', 'FS_R_Superiortemporal_Thck',\n       'FS_R_Supramarginal_Thck', 'FS_R_Frontalpole_Thck',\n       'FS_R_Temporalpole_Thck', 'FS_R_Transversetemporal_Thck',\n       'FS_R_Insula_Thck', 'FS_L_Bankssts_Area',\n       'FS_L_Caudalanteriorcingulate_Area',\n       'FS_L_Caudalmiddlefrontal_Area', 'FS_L_Cuneus_Area',\n       'FS_L_Entorhinal_Area', 'FS_L_Fusiform_Area',\n       'FS_L_Inferiorparietal_Area', 'FS_L_Inferiortemporal_Area',\n       'FS_L_Isthmuscingulate_Area', 'FS_L_Lateraloccipital_Area',\n       'FS_L_Lateralorbitofrontal_Area', 'FS_L_Lingual_Area',\n       'FS_L_Medialorbitofrontal_Area', 'FS_L_Middletemporal_Area',\n       'FS_L_Parahippocampal_Area', 'FS_L_Paracentral_Area',\n       'FS_L_Parsopercularis_Area', 'FS_L_Parsorbitalis_Area',\n       'FS_L_Parstriangularis_Area', 'FS_L_Pericalcarine_Area',\n       'FS_L_Postcentral_Area', 'FS_L_Posteriorcingulate_Area',\n       'FS_L_Precentral_Area', 'FS_L_Precuneus_Area',\n       'FS_L_Rostralanteriorcingulate_Area',\n       'FS_L_Rostralmiddlefrontal_Area', 'FS_L_Superiorfrontal_Area',\n       'FS_L_Superiorparietal_Area', 'FS_L_Superiortemporal_Area',\n       'FS_L_Supramarginal_Area', 'FS_L_Frontalpole_Area',\n       'FS_L_Temporalpole_Area', 'FS_L_Transversetemporal_Area',\n       'FS_L_Insula_Area', 'FS_R_Bankssts_Area',\n       'FS_R_Caudalanteriorcingulate_Area',\n       'FS_R_Caudalmiddlefrontal_Area', 'FS_R_Cuneus_Area',\n       'FS_R_Entorhinal_Area', 'FS_R_Fusiform_Area',\n       'FS_R_Inferiorparietal_Area', 'FS_R_Inferiortemporal_Area',\n       'FS_R_Isthmuscingulate_Area', 'FS_R_Lateraloccipital_Area',\n       'FS_R_Lateralorbitofrontal_Area', 'FS_R_Lingual_Area',\n       'FS_R_Medialorbitofrontal_Area', 'FS_R_Middletemporal_Area',\n       'FS_R_Parahippocampal_Area', 'FS_R_Paracentral_Area',\n       'FS_R_Parsopercularis_Area', 'FS_R_Parsorbitalis_Area',\n       'FS_R_Parstriangularis_Area', 'FS_R_Pericalcarine_Area',\n       'FS_R_Postcentral_Area', 'FS_R_Posteriorcingulate_Area',\n       'FS_R_Precentral_Area', 'FS_R_Precuneus_Area',\n       'FS_R_Rostralanteriorcingulate_Area',\n       'FS_R_Rostralmiddlefrontal_Area', 'FS_R_Superiorfrontal_Area',\n       'FS_R_Superiorparietal_Area', 'FS_R_Superiortemporal_Area',\n       'FS_R_Supramarginal_Area', 'FS_R_Frontalpole_Area',\n       'FS_R_Temporalpole_Area', 'FS_R_Transversetemporal_Area',\n       'FS_R_Insula_Area', 'Emotion_Task_Acc', 'Emotion_Task_Median_RT',\n       'Emotion_Task_Face_Acc', 'Emotion_Task_Face_Median_RT',\n       'Emotion_Task_Shape_Acc', 'Emotion_Task_Shape_Median_RT',\n       'Gambling_Task_Perc_Larger', 'Gambling_Task_Perc_Smaller',\n       'Gambling_Task_Perc_NLR', 'Gambling_Task_Median_RT_Larger',\n       'Gambling_Task_Median_RT_Smaller',\n       'Gambling_Task_Reward_Perc_Larger',\n       'Gambling_Task_Reward_Median_RT_Larger',\n       'Gambling_Task_Reward_Perc_Smaller',\n       'Gambling_Task_Reward_Median_RT_Smaller',\n       'Gambling_Task_Reward_Perc_NLR',\n       'Gambling_Task_Punish_Perc_Larger',\n       'Gambling_Task_Punish_Median_RT_Larger',\n       'Gambling_Task_Punish_Perc_Smaller',\n       'Gambling_Task_Punish_Median_RT_Smaller',\n       'Gambling_Task_Punish_Perc_NLR', 'Language_Task_Acc',\n       'Language_Task_Median_RT', 'Language_Task_Story_Acc',\n       'Language_Task_Story_Median_RT',\n       'Language_Task_Story_Avg_Difficulty_Level',\n       'Language_Task_Math_Acc', 'Language_Task_Math_Median_RT',\n       'Language_Task_Math_Avg_Difficulty_Level', 'Relational_Task_Acc',\n       'Relational_Task_Median_RT', 'Relational_Task_Match_Acc',\n       'Relational_Task_Match_Median_RT', 'Relational_Task_Rel_Acc',\n       'Relational_Task_Rel_Median_RT', 'Social_Task_Perc_Random',\n       'Social_Task_Perc_TOM', 'Social_Task_Perc_Unsure',\n       'Social_Task_Perc_NLR', 'Social_Task_Median_RT_Random',\n       'Social_Task_Median_RT_TOM', 'Social_Task_Median_RT_Unsure',\n       'Social_Task_Random_Perc_Random',\n       'Social_Task_Random_Median_RT_Random',\n       'Social_Task_Random_Perc_TOM', 'Social_Task_Random_Median_RT_TOM',\n       'Social_Task_Random_Perc_Unsure',\n       'Social_Task_Random_Median_RT_Unsure',\n       'Social_Task_Random_Perc_NLR', 'Social_Task_TOM_Perc_Random',\n       'Social_Task_TOM_Median_RT_Random', 'Social_Task_TOM_Perc_TOM',\n       'Social_Task_TOM_Median_RT_TOM', 'Social_Task_TOM_Perc_Unsure',\n       'Social_Task_TOM_Median_RT_Unsure', 'Social_Task_TOM_Perc_NLR',\n       'WM_Task_Acc', 'WM_Task_Median_RT', 'WM_Task_2bk_Acc',\n       'WM_Task_2bk_Median_RT', 'WM_Task_0bk_Acc',\n       'WM_Task_0bk_Median_RT', 'WM_Task_0bk_Body_Acc',\n       'WM_Task_0bk_Body_Acc_Target', 'WM_Task_0bk_Body_Acc_Nontarget',\n       'WM_Task_0bk_Face_Acc', 'WM_Task_0bk_Face_Acc_Target',\n       'WM_Task_0bk_Face_ACC_Nontarget', 'WM_Task_0bk_Place_Acc',\n       'WM_Task_0bk_Place_Acc_Target', 'WM_Task_0bk_Place_Acc_Nontarget',\n       'WM_Task_0bk_Tool_Acc', 'WM_Task_0bk_Tool_Acc_Target',\n       'WM_Task_0bk_Tool_Acc_Nontarget', 'WM_Task_2bk_Body_Acc',\n       'WM_Task_2bk_Body_Acc_Target', 'WM_Task_2bk_Body_Acc_Nontarget',\n       'WM_Task_2bk_Face_Acc', 'WM_Task_2bk_Face_Acc_Target',\n       'WM_Task_2bk_Face_Acc_Nontarget', 'WM_Task_2bk_Place_Acc',\n       'WM_Task_2bk_Place_Acc_Target', 'WM_Task_2bk_Place_Acc_Nontarget',\n       'WM_Task_2bk_Tool_Acc', 'WM_Task_2bk_Tool_Acc_Target',\n       'WM_Task_2bk_Tool_Acc_Nontarget', 'WM_Task_0bk_Body_Median_RT',\n       'WM_Task_0bk_Body_Median_RT_Target',\n       'WM_Task_0bk_Body_Median_RT_Nontarget',\n       'WM_Task_0bk_Face_Median_RT', 'WM_Task_0bk_Face_Median_RT_Target',\n       'WM_Task_0bk_Face_Median_RT_Nontarget',\n       'WM_Task_0bk_Place_Median_RT',\n       'WM_Task_0bk_Place_Median_RT_Target',\n       'WM_Task_0bk_Place_Median_RT_Nontarget',\n       'WM_Task_0bk_Tool_Median_RT', 'WM_Task_0bk_Tool_Median_RT_Target',\n       'WM_Task_0bk_Tool_Median_RT_Nontarget',\n       'WM_Task_2bk_Body_Median_RT', 'WM_Task_2bk_Body_Median_RT_Target',\n       'WM_Task_2bk_Body_Median_RT_Nontarget',\n       'WM_Task_2bk_Face_Median_RT', 'WM_Task_2bk_Face_Median_RT_Target',\n       'WM_Task_2bk_Face_Median_RT_Nontarget',\n       'WM_Task_2bk_Place_Median_RT',\n       'WM_Task_2bk_Place_Median_RT_Target',\n       'WM_Task_2bk_Place_Median_RT_Nontarget',\n       'WM_Task_2bk_Tool_Median_RT', 'WM_Task_2bk_Tool_Median_RT_Target',\n       'WM_Task_2bk_Tool_Median_RT_Nontarget', 'Endurance_Unadj',\n       'Endurance_AgeAdj', 'GaitSpeed_Comp', 'Dexterity_Unadj',\n       'Dexterity_AgeAdj', 'Strength_Unadj', 'Strength_AgeAdj',\n       'NEOFAC_A', 'NEOFAC_O', 'NEOFAC_C', 'NEOFAC_N', 'NEOFAC_E',\n       'NEORAW_01', 'NEORAW_02', 'NEORAW_03', 'NEORAW_04', 'NEORAW_05',\n       'NEORAW_06', 'NEORAW_07', 'NEORAW_08', 'NEORAW_09', 'NEORAW_10',\n       'NEORAW_11', 'NEORAW_12', 'NEORAW_13', 'NEORAW_14', 'NEORAW_15',\n       'NEORAW_16', 'NEORAW_17', 'NEORAW_18', 'NEORAW_19', 'NEORAW_20',\n       'NEORAW_21', 'NEORAW_22', 'NEORAW_23', 'NEORAW_24', 'NEORAW_25',\n       'NEORAW_26', 'NEORAW_27', 'NEORAW_28', 'NEORAW_29', 'NEORAW_30',\n       'NEORAW_31', 'NEORAW_32', 'NEORAW_33', 'NEORAW_34', 'NEORAW_35',\n       'NEORAW_36', 'NEORAW_37', 'NEORAW_38', 'NEORAW_39', 'NEORAW_40',\n       'NEORAW_41', 'NEORAW_42', 'NEORAW_43', 'NEORAW_44', 'NEORAW_45',\n       'NEORAW_46', 'NEORAW_47', 'NEORAW_48', 'NEORAW_49', 'NEORAW_50',\n       'NEORAW_51', 'NEORAW_52', 'NEORAW_53', 'NEORAW_54', 'NEORAW_55',\n       'NEORAW_56', 'NEORAW_57', 'NEORAW_58', 'NEORAW_59', 'NEORAW_60',\n       'Noise_Comp', 'Odor_Unadj', 'Odor_AgeAdj', 'PainIntens_RawScore',\n       'PainInterf_Tscore', 'Taste_Unadj', 'Taste_AgeAdj',\n       'Mars_Log_Score', 'Mars_Errs', 'Mars_Final', 'age'], dtype=object)"
     },
     "execution_count": 12,
     "metadata": {},
     "output_type": "execute_result"
    }
   ],
   "source": [
    "behavior.columns.values"
   ],
   "metadata": {
    "collapsed": false,
    "pycharm": {
     "name": "#%%\n"
    }
   }
  },
  {
   "cell_type": "markdown",
   "source": [],
   "metadata": {
    "collapsed": false,
    "pycharm": {
     "name": "#%% md\n"
    }
   }
  }
 ],
 "metadata": {
  "hide_input": false,
  "kernelspec": {
   "display_name": "Python 3 (ipykernel)",
   "language": "python",
   "name": "python3"
  },
  "language_info": {
   "codemirror_mode": {
    "name": "ipython",
    "version": 3
   },
   "file_extension": ".py",
   "mimetype": "text/x-python",
   "name": "python",
   "nbconvert_exporter": "python",
   "pygments_lexer": "ipython3",
   "version": "3.8.10"
  }
 },
 "nbformat": 4,
 "nbformat_minor": 2
}
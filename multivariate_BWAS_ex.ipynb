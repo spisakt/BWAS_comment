{
 "cells": [
  {
   "cell_type": "markdown",
   "metadata": {},
   "source": [
    "# Analysis of the Human Connectome Project (funcional connectome)\n",
    "\n",
    "## Imports"
   ]
  },
  {
   "cell_type": "code",
   "execution_count": 49,
   "metadata": {
    "ExecuteTime": {
     "end_time": "2021-08-03T20:04:15.431840Z",
     "start_time": "2021-08-03T20:04:14.753565Z"
    }
   },
   "outputs": [],
   "source": [
    "import numpy as np\n",
    "import pandas as pd\n",
    "import seaborn as sns\n",
    "import matplotlib.pyplot as plt\n",
    "from sklearn.linear_model import Ridge\n",
    "from sklearn.model_selection import KFold, train_test_split, cross_val_predict\n",
    "from joblib import Parallel, delayed\n",
    "from mlxtend.evaluate import permutation_test\n",
    "sns.set(rc={\"figure.figsize\":(4, 2)})\n",
    "sns.set_style(\"whitegrid\")"
   ]
  },
  {
   "cell_type": "markdown",
   "metadata": {},
   "source": [
    "## Load HCP data\n",
    "\n",
    "We load functional network matrices (netmats) from the HCP1200-release, as published on connectomeDB: https://db.humanconnectome.org/\n",
    "Due to licensoing issues, data is not supplied with the repository, but can be downloaded from the ConnectomeDB.\n",
    "See [hcp_data/readme.md](hcp_data/readme.md) for more details."
   ]
  },
  {
   "cell_type": "code",
   "execution_count": 50,
   "metadata": {
    "ExecuteTime": {
     "end_time": "2021-08-01T12:43:07.129883Z",
     "start_time": "2021-08-01T12:42:54.233102Z"
    }
   },
   "outputs": [
    {
     "data": {
      "text/plain": "        Release Acquisition Gender    Age  3T_Full_MR_Compl  T1_Count  \\\nSubject                                                                 \n100004     S900         Q06      M  22-25             False         0   \n100206     S900         Q11      M  26-30              True         1   \n100307       Q1         Q01      F  26-30              True         1   \n100408       Q3         Q03      M  31-35              True         1   \n100610     S900         Q08      M  26-30              True         2   \n...         ...         ...    ...    ...               ...       ...   \n992774       Q2         Q02      M  31-35              True         2   \n993675     S900         Q09      F  26-30              True         2   \n994273     S500         Q06      M  26-30              True         1   \n995174    S1200         Q13      M  22-25             False         1   \n996782     S900         Q08      F  26-30              True         2   \n\n         T2_Count  3T_RS-fMRI_Count  3T_RS-fMRI_PctCompl  3T_Full_Task_fMRI  \\\nSubject                                                                       \n100004          0                 0                  0.0              False   \n100206          1                 4                100.0               True   \n100307          1                 4                100.0               True   \n100408          1                 4                100.0               True   \n100610          1                 4                100.0               True   \n...           ...               ...                  ...                ...   \n992774          2                 4                100.0               True   \n993675          2                 4                100.0               True   \n994273          1                 4                100.0               True   \n995174          1                 2                  0.0               True   \n996782          2                 4                100.0               True   \n\n         ...  Odor_Unadj  Odor_AgeAdj  PainIntens_RawScore  PainInterf_Tscore  \\\nSubject  ...                                                                    \n100004   ...      101.12        86.45                  2.0               45.9   \n100206   ...      108.79        97.19                  1.0               49.7   \n100307   ...      101.12        86.45                  0.0               38.6   \n100408   ...      108.79        98.04                  2.0               52.6   \n100610   ...      122.25       110.45                  0.0               38.6   \n...      ...         ...          ...                  ...                ...   \n992774   ...      122.25       111.41                  4.0               50.1   \n993675   ...      122.25       110.45                  0.0               38.6   \n994273   ...      122.25       111.41                  7.0               63.8   \n995174   ...       88.61        64.58                  3.0               50.1   \n996782   ...      108.79        97.19                  0.0               38.6   \n\n         Taste_Unadj  Taste_AgeAdj  Mars_Log_Score  Mars_Errs  Mars_Final  \\\nSubject                                                                     \n100004        107.17        105.31            1.80        0.0        1.80   \n100206         72.63         72.03            1.84        0.0        1.84   \n100307         71.69         71.76            1.76        0.0        1.76   \n100408        114.01        113.59            1.76        2.0        1.68   \n100610         84.84         85.31            1.92        1.0        1.88   \n...              ...           ...             ...        ...         ...   \n992774        107.17        103.55            1.76        0.0        1.76   \n993675         84.07         84.25            1.80        1.0        1.76   \n994273        110.65        109.73            1.80        1.0        1.76   \n995174        117.16        117.40            1.80        0.0        1.80   \n996782         75.43         73.72            1.84        0.0        1.84   \n\n          age  \nSubject        \n100004   23.5  \n100206   28.0  \n100307   28.0  \n100408   33.0  \n100610   28.0  \n...       ...  \n992774   33.0  \n993675   28.0  \n994273   28.0  \n995174   23.5  \n996782   28.0  \n\n[1206 rows x 582 columns]",
      "text/html": "<div>\n<style scoped>\n    .dataframe tbody tr th:only-of-type {\n        vertical-align: middle;\n    }\n\n    .dataframe tbody tr th {\n        vertical-align: top;\n    }\n\n    .dataframe thead th {\n        text-align: right;\n    }\n</style>\n<table border=\"1\" class=\"dataframe\">\n  <thead>\n    <tr style=\"text-align: right;\">\n      <th></th>\n      <th>Release</th>\n      <th>Acquisition</th>\n      <th>Gender</th>\n      <th>Age</th>\n      <th>3T_Full_MR_Compl</th>\n      <th>T1_Count</th>\n      <th>T2_Count</th>\n      <th>3T_RS-fMRI_Count</th>\n      <th>3T_RS-fMRI_PctCompl</th>\n      <th>3T_Full_Task_fMRI</th>\n      <th>...</th>\n      <th>Odor_Unadj</th>\n      <th>Odor_AgeAdj</th>\n      <th>PainIntens_RawScore</th>\n      <th>PainInterf_Tscore</th>\n      <th>Taste_Unadj</th>\n      <th>Taste_AgeAdj</th>\n      <th>Mars_Log_Score</th>\n      <th>Mars_Errs</th>\n      <th>Mars_Final</th>\n      <th>age</th>\n    </tr>\n    <tr>\n      <th>Subject</th>\n      <th></th>\n      <th></th>\n      <th></th>\n      <th></th>\n      <th></th>\n      <th></th>\n      <th></th>\n      <th></th>\n      <th></th>\n      <th></th>\n      <th></th>\n      <th></th>\n      <th></th>\n      <th></th>\n      <th></th>\n      <th></th>\n      <th></th>\n      <th></th>\n      <th></th>\n      <th></th>\n      <th></th>\n    </tr>\n  </thead>\n  <tbody>\n    <tr>\n      <th>100004</th>\n      <td>S900</td>\n      <td>Q06</td>\n      <td>M</td>\n      <td>22-25</td>\n      <td>False</td>\n      <td>0</td>\n      <td>0</td>\n      <td>0</td>\n      <td>0.0</td>\n      <td>False</td>\n      <td>...</td>\n      <td>101.12</td>\n      <td>86.45</td>\n      <td>2.0</td>\n      <td>45.9</td>\n      <td>107.17</td>\n      <td>105.31</td>\n      <td>1.80</td>\n      <td>0.0</td>\n      <td>1.80</td>\n      <td>23.5</td>\n    </tr>\n    <tr>\n      <th>100206</th>\n      <td>S900</td>\n      <td>Q11</td>\n      <td>M</td>\n      <td>26-30</td>\n      <td>True</td>\n      <td>1</td>\n      <td>1</td>\n      <td>4</td>\n      <td>100.0</td>\n      <td>True</td>\n      <td>...</td>\n      <td>108.79</td>\n      <td>97.19</td>\n      <td>1.0</td>\n      <td>49.7</td>\n      <td>72.63</td>\n      <td>72.03</td>\n      <td>1.84</td>\n      <td>0.0</td>\n      <td>1.84</td>\n      <td>28.0</td>\n    </tr>\n    <tr>\n      <th>100307</th>\n      <td>Q1</td>\n      <td>Q01</td>\n      <td>F</td>\n      <td>26-30</td>\n      <td>True</td>\n      <td>1</td>\n      <td>1</td>\n      <td>4</td>\n      <td>100.0</td>\n      <td>True</td>\n      <td>...</td>\n      <td>101.12</td>\n      <td>86.45</td>\n      <td>0.0</td>\n      <td>38.6</td>\n      <td>71.69</td>\n      <td>71.76</td>\n      <td>1.76</td>\n      <td>0.0</td>\n      <td>1.76</td>\n      <td>28.0</td>\n    </tr>\n    <tr>\n      <th>100408</th>\n      <td>Q3</td>\n      <td>Q03</td>\n      <td>M</td>\n      <td>31-35</td>\n      <td>True</td>\n      <td>1</td>\n      <td>1</td>\n      <td>4</td>\n      <td>100.0</td>\n      <td>True</td>\n      <td>...</td>\n      <td>108.79</td>\n      <td>98.04</td>\n      <td>2.0</td>\n      <td>52.6</td>\n      <td>114.01</td>\n      <td>113.59</td>\n      <td>1.76</td>\n      <td>2.0</td>\n      <td>1.68</td>\n      <td>33.0</td>\n    </tr>\n    <tr>\n      <th>100610</th>\n      <td>S900</td>\n      <td>Q08</td>\n      <td>M</td>\n      <td>26-30</td>\n      <td>True</td>\n      <td>2</td>\n      <td>1</td>\n      <td>4</td>\n      <td>100.0</td>\n      <td>True</td>\n      <td>...</td>\n      <td>122.25</td>\n      <td>110.45</td>\n      <td>0.0</td>\n      <td>38.6</td>\n      <td>84.84</td>\n      <td>85.31</td>\n      <td>1.92</td>\n      <td>1.0</td>\n      <td>1.88</td>\n      <td>28.0</td>\n    </tr>\n    <tr>\n      <th>...</th>\n      <td>...</td>\n      <td>...</td>\n      <td>...</td>\n      <td>...</td>\n      <td>...</td>\n      <td>...</td>\n      <td>...</td>\n      <td>...</td>\n      <td>...</td>\n      <td>...</td>\n      <td>...</td>\n      <td>...</td>\n      <td>...</td>\n      <td>...</td>\n      <td>...</td>\n      <td>...</td>\n      <td>...</td>\n      <td>...</td>\n      <td>...</td>\n      <td>...</td>\n      <td>...</td>\n    </tr>\n    <tr>\n      <th>992774</th>\n      <td>Q2</td>\n      <td>Q02</td>\n      <td>M</td>\n      <td>31-35</td>\n      <td>True</td>\n      <td>2</td>\n      <td>2</td>\n      <td>4</td>\n      <td>100.0</td>\n      <td>True</td>\n      <td>...</td>\n      <td>122.25</td>\n      <td>111.41</td>\n      <td>4.0</td>\n      <td>50.1</td>\n      <td>107.17</td>\n      <td>103.55</td>\n      <td>1.76</td>\n      <td>0.0</td>\n      <td>1.76</td>\n      <td>33.0</td>\n    </tr>\n    <tr>\n      <th>993675</th>\n      <td>S900</td>\n      <td>Q09</td>\n      <td>F</td>\n      <td>26-30</td>\n      <td>True</td>\n      <td>2</td>\n      <td>2</td>\n      <td>4</td>\n      <td>100.0</td>\n      <td>True</td>\n      <td>...</td>\n      <td>122.25</td>\n      <td>110.45</td>\n      <td>0.0</td>\n      <td>38.6</td>\n      <td>84.07</td>\n      <td>84.25</td>\n      <td>1.80</td>\n      <td>1.0</td>\n      <td>1.76</td>\n      <td>28.0</td>\n    </tr>\n    <tr>\n      <th>994273</th>\n      <td>S500</td>\n      <td>Q06</td>\n      <td>M</td>\n      <td>26-30</td>\n      <td>True</td>\n      <td>1</td>\n      <td>1</td>\n      <td>4</td>\n      <td>100.0</td>\n      <td>True</td>\n      <td>...</td>\n      <td>122.25</td>\n      <td>111.41</td>\n      <td>7.0</td>\n      <td>63.8</td>\n      <td>110.65</td>\n      <td>109.73</td>\n      <td>1.80</td>\n      <td>1.0</td>\n      <td>1.76</td>\n      <td>28.0</td>\n    </tr>\n    <tr>\n      <th>995174</th>\n      <td>S1200</td>\n      <td>Q13</td>\n      <td>M</td>\n      <td>22-25</td>\n      <td>False</td>\n      <td>1</td>\n      <td>1</td>\n      <td>2</td>\n      <td>0.0</td>\n      <td>True</td>\n      <td>...</td>\n      <td>88.61</td>\n      <td>64.58</td>\n      <td>3.0</td>\n      <td>50.1</td>\n      <td>117.16</td>\n      <td>117.40</td>\n      <td>1.80</td>\n      <td>0.0</td>\n      <td>1.80</td>\n      <td>23.5</td>\n    </tr>\n    <tr>\n      <th>996782</th>\n      <td>S900</td>\n      <td>Q08</td>\n      <td>F</td>\n      <td>26-30</td>\n      <td>True</td>\n      <td>2</td>\n      <td>2</td>\n      <td>4</td>\n      <td>100.0</td>\n      <td>True</td>\n      <td>...</td>\n      <td>108.79</td>\n      <td>97.19</td>\n      <td>0.0</td>\n      <td>38.6</td>\n      <td>75.43</td>\n      <td>73.72</td>\n      <td>1.84</td>\n      <td>0.0</td>\n      <td>1.84</td>\n      <td>28.0</td>\n    </tr>\n  </tbody>\n</table>\n<p>1206 rows × 582 columns</p>\n</div>"
     },
     "execution_count": 50,
     "metadata": {},
     "output_type": "execute_result"
    }
   ],
   "source": [
    "# HCP data can be obtained from the connectomeDB\n",
    "# data is not part of this repository\n",
    "subjectIDs = pd.read_csv('hcp_data/subjectIDs.txt', header=None)\n",
    "\n",
    "netmats_pearson = pd.read_csv('hcp_data/netmats1_correlationZ.txt',\n",
    "                             sep=' ',\n",
    "                             header=None)\n",
    "netmats_pearson['ID'] = subjectIDs[0]\n",
    "netmats_pearson.set_index('ID', drop=True, inplace=True)\n",
    "\n",
    "\n",
    "netmats_parcor = pd.read_csv('hcp_data/netmats2_partial-correlation.txt',\n",
    "                             sep=' ',\n",
    "                             header=None)\n",
    "netmats_parcor['ID'] = subjectIDs[0]\n",
    "netmats_parcor.set_index('ID', drop=True, inplace=True)\n",
    "\n",
    "behavior = pd.read_csv('hcp_data/hcp1200_behavioral_data.csv')\n",
    "behavior = behavior.set_index('Subject', drop=True)\n",
    "\n",
    "# convert age to numeric\n",
    "age = []\n",
    "for s in behavior['Age']:\n",
    "    if s == '36+':\n",
    "        age.append(36)\n",
    "    else:\n",
    "        split = s.split(sep='-')\n",
    "        age.append(np.mean((float(split[0]), float(split[1]))))\n",
    "\n",
    "behavior['age'] = age\n",
    "behavior"
   ]
  },
  {
   "cell_type": "markdown",
   "metadata": {},
   "source": [
    "# Prepare target variable\n",
    "We choose fluid intelligence as target."
   ]
  },
  {
   "cell_type": "code",
   "execution_count": 51,
   "metadata": {
    "pycharm": {
     "name": "#%%\n"
    }
   },
   "outputs": [
    {
     "data": {
      "text/plain": "<Figure size 288x144 with 1 Axes>",
      "image/png": "[encoded data removed]"
     },
     "metadata": {},
     "output_type": "display_data"
    }
   ],
   "source": [
    "##########################################################\n",
    "# change these\n",
    "target = 'PMAT24_A_CR' # fluid intelligence\n",
    "feature_data = netmats_parcor\n",
    "##########################################################\n",
    "\n",
    "sns.histplot(behavior[target], color='gray')\n",
    "\n",
    "# it's a good practice to use pandas for merging, messing up subject order can be painful\n",
    "features = feature_data.columns\n",
    "df = behavior\n",
    "df = df.merge(feature_data, left_index=True, right_index=True, how='left')\n",
    "df = df.dropna(subset = [target] + features.values.tolist())\n",
    "y = df[target].values\n",
    "X = df[features].values"
   ]
  },
  {
   "cell_type": "markdown",
   "metadata": {},
   "source": []
  },
  {
   "cell_type": "markdown",
   "metadata": {},
   "source": [
    "# Replicability with sample size n=100\n",
    "Here we train one of the most straightforward models possible: a Ridge regression model.\n",
    "No hyperparameter optimization, no dimensionality reduction, no feature scaling, we really keep it simple!\n",
    "\n",
    "We define a workhorse function which:\n",
    "- randomly samples the discovery and the replication datasets,\n",
    "- creates cross-validated estimates of predictive performance within the discovery sample\n",
    "- finalizes the model by fitting it to the whole discovery sample (overfits the discovery but not the replication sample)\n",
    "- use it to predict the replication sample\n",
    "\n",
    "We aggregate the results of `n_bootstrap`=100 bootstrap cases (run in parallel)."
   ]
  },
  {
   "cell_type": "code",
   "execution_count": 52,
   "metadata": {
    "pycharm": {
     "name": "#%%\n"
    }
   },
   "outputs": [
    {
     "name": "stdout",
     "output_type": "stream",
     "text": [
      "CPU times: user 222 ms, sys: 221 ms, total: 443 ms\n",
      "Wall time: 35.4 s\n"
     ]
    }
   ],
   "source": [
    "%%time\n",
    "\n",
    "random_state = 42\n",
    "\n",
    "clf = Ridge() # no hyperparameter optimization\n",
    "\n",
    "n_bootstrap = 100\n",
    "sample_size = 100\n",
    "\n",
    "# nested cv\n",
    "outer_cv = KFold(10, shuffle=True, random_state=random_state)\n",
    "\n",
    "# loop for bootstrapped discovery and replication sets\n",
    "def bootstrap_workhorse(random_state):\n",
    "    X_discovery, X_replication, y_discovery, y_replication = train_test_split(X, y, train_size=sample_size, test_size=sample_size, shuffle=True, random_state=random_state)\n",
    "\n",
    "    predicted_discovery_cv = cross_val_predict(estimator=clf, X=X_discovery, y=y_discovery, cv=outer_cv, n_jobs=1)\n",
    "    r_disc_cv = np.corrcoef(predicted_discovery_cv, y_discovery)[0, 1]\n",
    "    # Finalize on full discovery set\n",
    "    final_model = clf.fit(X=X_discovery, y=y_discovery)\n",
    "\n",
    "    # Test on replication set\n",
    "    predicted_replication = final_model.predict(X=X_replication)\n",
    "    r_rep = np.corrcoef(predicted_replication, y_replication)[0, 1]\n",
    "\n",
    "    p_disc_cv = permutation_test(predicted_discovery_cv, y_discovery, method='approximate', num_rounds=10000, func=lambda x, y: np.corrcoef(x, y)[1][0],seed=random_state)\n",
    "    p_rep = permutation_test(predicted_replication, y_replication, method='approximate', num_rounds=10000, func=lambda x, y: np.corrcoef(x, y)[1][0],seed=random_state)\n",
    "\n",
    "    return r_disc_cv, r_rep, p_disc_cv, p_rep\n",
    "\n",
    "rng = np.random.default_rng(random_state)\n",
    "random_sates = rng.integers(np.iinfo(np.int32).max, size=n_bootstrap)\n",
    "\n",
    "r_discovery_cv, r_replication, p_discovery_cv, p_replication = zip(\n",
    "    *Parallel(n_jobs=-1)(\n",
    "    delayed(bootstrap_workhorse)(seed) for seed in random_sates))\n"
   ]
  },
  {
   "cell_type": "markdown",
   "metadata": {},
   "source": [
    "### Now we plot the Pearson-correlation between predicted and observed, both in case of the discovery and replication sample:"
   ]
  },
  {
   "cell_type": "code",
   "execution_count": 53,
   "metadata": {
    "pycharm": {
     "name": "#%%\n"
    }
   },
   "outputs": [
    {
     "data": {
      "text/plain": "                 r                                                        p  \\\n             count      mean       std       min       50%       max  count   \nset                                                                           \ndiscovery    100.0  0.204805  0.143074 -0.152600  0.225388  0.497411  100.0   \nreplication  100.0  0.227487  0.110248 -0.036669  0.218335  0.460480  100.0   \n\n                                                             \n                 mean       std     min       50%       max  \nset                                                          \ndiscovery    0.129601  0.239205  0.0001  0.013199  0.938006  \nreplication  0.063309  0.123266  0.0001  0.014599  0.635436  ",
      "text/html": "<div>\n<style scoped>\n    .dataframe tbody tr th:only-of-type {\n        vertical-align: middle;\n    }\n\n    .dataframe tbody tr th {\n        vertical-align: top;\n    }\n\n    .dataframe thead tr th {\n        text-align: left;\n    }\n\n    .dataframe thead tr:last-of-type th {\n        text-align: right;\n    }\n</style>\n<table border=\"1\" class=\"dataframe\">\n  <thead>\n    <tr>\n      <th></th>\n      <th colspan=\"6\" halign=\"left\">r</th>\n      <th colspan=\"6\" halign=\"left\">p</th>\n    </tr>\n    <tr>\n      <th></th>\n      <th>count</th>\n      <th>mean</th>\n      <th>std</th>\n      <th>min</th>\n      <th>50%</th>\n      <th>max</th>\n      <th>count</th>\n      <th>mean</th>\n      <th>std</th>\n      <th>min</th>\n      <th>50%</th>\n      <th>max</th>\n    </tr>\n    <tr>\n      <th>set</th>\n      <th></th>\n      <th></th>\n      <th></th>\n      <th></th>\n      <th></th>\n      <th></th>\n      <th></th>\n      <th></th>\n      <th></th>\n      <th></th>\n      <th></th>\n      <th></th>\n    </tr>\n  </thead>\n  <tbody>\n    <tr>\n      <th>discovery</th>\n      <td>100.0</td>\n      <td>0.204805</td>\n      <td>0.143074</td>\n      <td>-0.152600</td>\n      <td>0.225388</td>\n      <td>0.497411</td>\n      <td>100.0</td>\n      <td>0.129601</td>\n      <td>0.239205</td>\n      <td>0.0001</td>\n      <td>0.013199</td>\n      <td>0.938006</td>\n    </tr>\n    <tr>\n      <th>replication</th>\n      <td>100.0</td>\n      <td>0.227487</td>\n      <td>0.110248</td>\n      <td>-0.036669</td>\n      <td>0.218335</td>\n      <td>0.460480</td>\n      <td>100.0</td>\n      <td>0.063309</td>\n      <td>0.123266</td>\n      <td>0.0001</td>\n      <td>0.014599</td>\n      <td>0.635436</td>\n    </tr>\n  </tbody>\n</table>\n</div>"
     },
     "execution_count": 53,
     "metadata": {},
     "output_type": "execute_result"
    },
    {
     "data": {
      "text/plain": "<Figure size 288x144 with 1 Axes>",
      "image/png": "[encoded data removed]"
     },
     "metadata": {},
     "output_type": "display_data"
    }
   ],
   "source": [
    "plot_data = pd.DataFrame({\n",
    "    'r': np.concatenate((r_discovery_cv, r_replication)),\n",
    "    'p': np.concatenate((p_discovery_cv, p_replication)),\n",
    "    'set': np.concatenate((np.repeat('discovery', n_bootstrap), np.repeat('replication', n_bootstrap)))\n",
    "})\n",
    "sns.barplot(x='set', y='r', data=plot_data)\n",
    "plot_data.groupby('set').describe(percentiles = [0.5])"
   ]
  },
  {
   "cell_type": "markdown",
   "metadata": {},
   "source": [
    "### Let's plot the (permutation-based) p-values, too"
   ]
  },
  {
   "cell_type": "code",
   "execution_count": 54,
   "metadata": {
    "pycharm": {
     "name": "#%%\n"
    }
   },
   "outputs": [
    {
     "data": {
      "text/plain": "<AxesSubplot:xlabel='set', ylabel='p'>"
     },
     "execution_count": 54,
     "metadata": {},
     "output_type": "execute_result"
    },
    {
     "data": {
      "text/plain": "<Figure size 288x144 with 1 Axes>",
      "image/png": "[encoded data removed]"
     },
     "metadata": {},
     "output_type": "display_data"
    }
   ],
   "source": [
    "sns.barplot(x='set', y='p', data=plot_data)"
   ]
  },
  {
   "cell_type": "markdown",
   "metadata": {},
   "source": [
    "### Plot all bootstrap cases: scatterplot of 'in-sample' vs. 'out-of-sample' r."
   ]
  },
  {
   "cell_type": "code",
   "execution_count": 55,
   "metadata": {
    "pycharm": {
     "name": "#%%\n"
    }
   },
   "outputs": [
    {
     "data": {
      "text/plain": "Text(0.5, 0, 'out-of-sample (r_pred)')"
     },
     "execution_count": 55,
     "metadata": {},
     "output_type": "execute_result"
    },
    {
     "data": {
      "text/plain": "<Figure size 288x144 with 1 Axes>",
      "image/png": "[encoded data removed]"
     },
     "metadata": {},
     "output_type": "display_data"
    }
   ],
   "source": [
    "plot_data_wide = pd.DataFrame({\n",
    "    'r_discovery_cv': r_discovery_cv,\n",
    "    'r_replication': r_replication,\n",
    "    'p_discovery_cv': p_discovery_cv,\n",
    "    'p_replication': p_replication\n",
    "})\n",
    "sns.scatterplot(x='r_replication', y='r_discovery_cv', data=plot_data_wide)\n",
    "plt.ylabel('in-sample (r)')\n",
    "plt.xlabel('out-of-sample (r_pred)')"
   ]
  },
  {
   "cell_type": "markdown",
   "metadata": {},
   "source": [
    "## Replicability\n",
    "We compute replicability as ratio of cases where the replication sample gave significant predictions, given that the discovery sample gave significant predictions."
   ]
  },
  {
   "cell_type": "code",
   "execution_count": 56,
   "metadata": {
    "pycharm": {
     "name": "#%%\n"
    }
   },
   "outputs": [
    {
     "name": "stdout",
     "output_type": "stream",
     "text": [
      "Replicability at alpha = 0.05 : 47 %\n",
      "Replicability at alpha = 0.01 : 24 %\n",
      "Replicability at alpha = 0.005 : 17 %\n",
      "Replicability at alpha = 0.001 : 8 %\n"
     ]
    }
   ],
   "source": [
    "for alpha in [0.05, 0.01, 0.005, 0.001]:\n",
    "    print('Replicability at alpha =', alpha, ':', (plot_data_wide.loc[plot_data_wide['p_discovery_cv']<alpha,'p_replication']<alpha).sum(), '%')"
   ]
  },
  {
   "cell_type": "markdown",
   "metadata": {},
   "source": [
    "------------------------------------------------\n",
    "# Replicability with n=200\n",
    "Here we train one of the most straightforward models possible: a Ridge regression model.\n",
    "No hyperparameter optimization, no dimensionality reduction, no feature scaling, we really keep it simple!\n",
    "\n",
    "We define a workhorse function which:\n",
    "- randomly samples the discovery and the replication datasets,\n",
    "- creates cross-validated estimates of predictive performance within the discovery sample\n",
    "- finalizes the model by fitting it to the whole discovery sample (overfits the discovery but not the replication sample)\n",
    "- use it to predict the replication sample\n",
    "\n",
    "We aggregate the results of `n_bootstrap`=100 bootstrap cases (run in parallel)."
   ]
  },
  {
   "cell_type": "code",
   "execution_count": 57,
   "metadata": {
    "pycharm": {
     "name": "#%%\n"
    }
   },
   "outputs": [
    {
     "name": "stdout",
     "output_type": "stream",
     "text": [
      "CPU times: user 267 ms, sys: 58.5 ms, total: 326 ms\n",
      "Wall time: 41.4 s\n"
     ]
    }
   ],
   "source": [
    "%%time\n",
    "\n",
    "random_state = 42\n",
    "\n",
    "clf = Ridge() # no hyperparameter optimization\n",
    "\n",
    "n_bootstrap = 100\n",
    "sample_size = 200\n",
    "\n",
    "# nested cv\n",
    "outer_cv = KFold(10, shuffle=True, random_state=random_state)\n",
    "\n",
    "# loop for bootstrapped discovery and replication sets\n",
    "def bootstrap_workhorse(random_state):\n",
    "    X_discovery, X_replication, y_discovery, y_replication = train_test_split(X, y, train_size=sample_size, test_size=sample_size, shuffle=True, random_state=random_state)\n",
    "\n",
    "    predicted_discovery_cv = cross_val_predict(estimator=clf, X=X_discovery, y=y_discovery, cv=outer_cv, n_jobs=1)\n",
    "    r_disc_cv = np.corrcoef(predicted_discovery_cv, y_discovery)[0, 1]\n",
    "    # Finalize on full discovery set\n",
    "    final_model = clf.fit(X=X_discovery, y=y_discovery)\n",
    "\n",
    "    # Test on replication set\n",
    "    predicted_replication = final_model.predict(X=X_replication)\n",
    "    r_rep = np.corrcoef(predicted_replication, y_replication)[0, 1]\n",
    "\n",
    "    p_disc_cv = permutation_test(predicted_discovery_cv, y_discovery, method='approximate', num_rounds=10000, func=lambda x, y: np.corrcoef(x, y)[1][0],seed=random_state)\n",
    "    p_rep = permutation_test(predicted_replication, y_replication, method='approximate', num_rounds=10000, func=lambda x, y: np.corrcoef(x, y)[1][0],seed=random_state)\n",
    "\n",
    "    return r_disc_cv, r_rep, p_disc_cv, p_rep\n",
    "\n",
    "rng = np.random.default_rng(random_state)\n",
    "random_sates = rng.integers(np.iinfo(np.int32).max, size=n_bootstrap)\n",
    "\n",
    "r_discovery_cv, r_replication, p_discovery_cv, p_replication = zip(\n",
    "    *Parallel(n_jobs=-1)(\n",
    "    delayed(bootstrap_workhorse)(seed) for seed in random_sates))\n"
   ]
  },
  {
   "cell_type": "markdown",
   "metadata": {
    "pycharm": {
     "name": "#%% md\n"
    }
   },
   "source": [
    "### Now we plot the Pearson-correlation between predicted and observed, both in case of the discovery and replication sample:"
   ]
  },
  {
   "cell_type": "code",
   "execution_count": 58,
   "metadata": {
    "pycharm": {
     "name": "#%%\n"
    }
   },
   "outputs": [
    {
     "data": {
      "text/plain": "                 r                                                       p  \\\n             count     mean       std       min       50%       max  count   \nset                                                                          \ndiscovery    100.0  0.26142  0.096906  0.060414  0.262161  0.479077  100.0   \nreplication  100.0  0.27988  0.065272  0.113203  0.277469  0.425762  100.0   \n\n                                                            \n                 mean       std     min      50%       max  \nset                                                         \ndiscovery    0.011861  0.033045  0.0001  0.00020  0.200980  \nreplication  0.001832  0.007308  0.0001  0.00015  0.052895  ",
      "text/html": "<div>\n<style scoped>\n    .dataframe tbody tr th:only-of-type {\n        vertical-align: middle;\n    }\n\n    .dataframe tbody tr th {\n        vertical-align: top;\n    }\n\n    .dataframe thead tr th {\n        text-align: left;\n    }\n\n    .dataframe thead tr:last-of-type th {\n        text-align: right;\n    }\n</style>\n<table border=\"1\" class=\"dataframe\">\n  <thead>\n    <tr>\n      <th></th>\n      <th colspan=\"6\" halign=\"left\">r</th>\n      <th colspan=\"6\" halign=\"left\">p</th>\n    </tr>\n    <tr>\n      <th></th>\n      <th>count</th>\n      <th>mean</th>\n      <th>std</th>\n      <th>min</th>\n      <th>50%</th>\n      <th>max</th>\n      <th>count</th>\n      <th>mean</th>\n      <th>std</th>\n      <th>min</th>\n      <th>50%</th>\n      <th>max</th>\n    </tr>\n    <tr>\n      <th>set</th>\n      <th></th>\n      <th></th>\n      <th></th>\n      <th></th>\n      <th></th>\n      <th></th>\n      <th></th>\n      <th></th>\n      <th></th>\n      <th></th>\n      <th></th>\n      <th></th>\n    </tr>\n  </thead>\n  <tbody>\n    <tr>\n      <th>discovery</th>\n      <td>100.0</td>\n      <td>0.26142</td>\n      <td>0.096906</td>\n      <td>0.060414</td>\n      <td>0.262161</td>\n      <td>0.479077</td>\n      <td>100.0</td>\n      <td>0.011861</td>\n      <td>0.033045</td>\n      <td>0.0001</td>\n      <td>0.00020</td>\n      <td>0.200980</td>\n    </tr>\n    <tr>\n      <th>replication</th>\n      <td>100.0</td>\n      <td>0.27988</td>\n      <td>0.065272</td>\n      <td>0.113203</td>\n      <td>0.277469</td>\n      <td>0.425762</td>\n      <td>100.0</td>\n      <td>0.001832</td>\n      <td>0.007308</td>\n      <td>0.0001</td>\n      <td>0.00015</td>\n      <td>0.052895</td>\n    </tr>\n  </tbody>\n</table>\n</div>"
     },
     "execution_count": 58,
     "metadata": {},
     "output_type": "execute_result"
    },
    {
     "data": {
      "text/plain": "<Figure size 288x144 with 1 Axes>",
      "image/png": "[encoded data removed]"
     },
     "metadata": {},
     "output_type": "display_data"
    }
   ],
   "source": [
    "plot_data = pd.DataFrame({\n",
    "    'r': np.concatenate((r_discovery_cv, r_replication)),\n",
    "    'p': np.concatenate((p_discovery_cv, p_replication)),\n",
    "    'set': np.concatenate((np.repeat('discovery', n_bootstrap), np.repeat('replication', n_bootstrap)))\n",
    "})\n",
    "sns.barplot(x='set', y='r', data=plot_data)\n",
    "plot_data.groupby('set').describe(percentiles = [0.5])"
   ]
  },
  {
   "cell_type": "markdown",
   "metadata": {
    "pycharm": {
     "name": "#%% md\n"
    }
   },
   "source": [
    "### Let's plot the (permutation-based) p-values, too"
   ]
  },
  {
   "cell_type": "code",
   "execution_count": 59,
   "metadata": {
    "pycharm": {
     "name": "#%%\n"
    }
   },
   "outputs": [
    {
     "data": {
      "text/plain": "<AxesSubplot:xlabel='set', ylabel='p'>"
     },
     "execution_count": 59,
     "metadata": {},
     "output_type": "execute_result"
    },
    {
     "data": {
      "text/plain": "<Figure size 288x144 with 1 Axes>",
      "image/png": "[encoded data removed]"
     },
     "metadata": {},
     "output_type": "display_data"
    }
   ],
   "source": [
    "sns.barplot(x='set', y='p', data=plot_data)"
   ]
  },
  {
   "cell_type": "markdown",
   "metadata": {},
   "source": [
    "### Plot all bootstrap cases: scatterplot of 'in-sample' vs. 'out-of-sample' r."
   ]
  },
  {
   "cell_type": "code",
   "execution_count": 60,
   "metadata": {
    "pycharm": {
     "name": "#%%\n"
    }
   },
   "outputs": [
    {
     "data": {
      "text/plain": "Text(0.5, 0, 'out-of-sample (r_pred)')"
     },
     "execution_count": 60,
     "metadata": {},
     "output_type": "execute_result"
    },
    {
     "data": {
      "text/plain": "<Figure size 288x144 with 1 Axes>",
      "image/png": "[encoded data removed]"
     },
     "metadata": {},
     "output_type": "display_data"
    }
   ],
   "source": [
    "plot_data_wide = pd.DataFrame({\n",
    "    'r_discovery_cv': r_discovery_cv,\n",
    "    'r_replication': r_replication,\n",
    "    'p_discovery_cv': p_discovery_cv,\n",
    "    'p_replication': p_replication\n",
    "})\n",
    "sns.scatterplot(x='r_replication', y='r_discovery_cv', data=plot_data_wide)\n",
    "plt.ylabel('in-sample (r)')\n",
    "plt.xlabel('out-of-sample (r_pred)')"
   ]
  },
  {
   "cell_type": "markdown",
   "metadata": {},
   "source": [
    "## Replicability\n",
    "We compute replicability as ratio of cases where the replication sample gave significant predictions, given that the discovery sample gave significant predictions."
   ]
  },
  {
   "cell_type": "code",
   "execution_count": 61,
   "metadata": {
    "pycharm": {
     "name": "#%%\n"
    }
   },
   "outputs": [
    {
     "name": "stdout",
     "output_type": "stream",
     "text": [
      "Replicability at alpha = 0.05 : 91 %\n",
      "Replicability at alpha = 0.01 : 78 %\n",
      "Replicability at alpha = 0.005 : 74 %\n",
      "Replicability at alpha = 0.001 : 51 %\n"
     ]
    }
   ],
   "source": [
    "for alpha in [0.05, 0.01, 0.005, 0.001]:\n",
    "    print('Replicability at alpha =', alpha, ':', (plot_data_wide.loc[plot_data_wide['p_discovery_cv']<alpha,'p_replication']<alpha).sum(), '%')"
   ]
  },
  {
   "cell_type": "markdown",
   "metadata": {
    "pycharm": {
     "name": "#%% md\n"
    }
   },
   "source": [
    "---------------------------------------------------------------------------"
   ]
  },
  {
   "cell_type": "markdown",
   "source": [
    "# Replicability with n=300\n",
    "Here we train one of the most straightforward models possible: a Ridge regression model.\n",
    "No hyperparameter optimization, no dimensionality reduction, no feature scaling, we really keep it simple!\n",
    "\n",
    "We define a workhorse function which:\n",
    "- randomly samples the discovery and the replication datasets,\n",
    "- creates cross-validated estimates of predictive performance within the discovery sample\n",
    "- finalizes the model by fitting it to the whole discovery sample (overfits the discovery but not the replication sample)\n",
    "- use it to predict the replication sample\n",
    "\n",
    "We aggregate the results of `n_bootstrap`=100 bootstrap cases (run in parallel)."
   ],
   "metadata": {
    "collapsed": false
   }
  },
  {
   "cell_type": "code",
   "execution_count": 62,
   "outputs": [
    {
     "name": "stdout",
     "output_type": "stream",
     "text": [
      "CPU times: user 276 ms, sys: 51.5 ms, total: 327 ms\n",
      "Wall time: 47.1 s\n"
     ]
    }
   ],
   "source": [
    "%%time\n",
    "\n",
    "random_state = 42\n",
    "\n",
    "clf = Ridge() # no hyperparameter optimization\n",
    "\n",
    "n_bootstrap = 100\n",
    "sample_size = 300\n",
    "\n",
    "# nested cv\n",
    "outer_cv = KFold(10, shuffle=True, random_state=random_state)\n",
    "\n",
    "# loop for bootstrapped discovery and replication sets\n",
    "def bootstrap_workhorse(random_state):\n",
    "    X_discovery, X_replication, y_discovery, y_replication = train_test_split(X, y, train_size=sample_size, test_size=sample_size, shuffle=True, random_state=random_state)\n",
    "\n",
    "    predicted_discovery_cv = cross_val_predict(estimator=clf, X=X_discovery, y=y_discovery, cv=outer_cv, n_jobs=1)\n",
    "    r_disc_cv = np.corrcoef(predicted_discovery_cv, y_discovery)[0, 1]\n",
    "    # Finalize on full discovery set\n",
    "    final_model = clf.fit(X=X_discovery, y=y_discovery)\n",
    "\n",
    "    # Test on replication set\n",
    "    predicted_replication = final_model.predict(X=X_replication)\n",
    "    r_rep = np.corrcoef(predicted_replication, y_replication)[0, 1]\n",
    "\n",
    "    p_disc_cv = permutation_test(predicted_discovery_cv, y_discovery, method='approximate', num_rounds=10000, func=lambda x, y: np.corrcoef(x, y)[1][0],seed=random_state)\n",
    "    p_rep = permutation_test(predicted_replication, y_replication, method='approximate', num_rounds=10000, func=lambda x, y: np.corrcoef(x, y)[1][0],seed=random_state)\n",
    "\n",
    "    return r_disc_cv, r_rep, p_disc_cv, p_rep\n",
    "\n",
    "rng = np.random.default_rng(random_state)\n",
    "random_sates = rng.integers(np.iinfo(np.int32).max, size=n_bootstrap)\n",
    "\n",
    "r_discovery_cv, r_replication, p_discovery_cv, p_replication = zip(\n",
    "    *Parallel(n_jobs=-1)(\n",
    "    delayed(bootstrap_workhorse)(seed) for seed in random_sates))\n"
   ],
   "metadata": {
    "collapsed": false,
    "pycharm": {
     "name": "#%%\n"
    }
   }
  },
  {
   "cell_type": "markdown",
   "source": [
    "### Now we plot the Pearson-correlation between predicted and observed, both in case of the discovery and replication sample:"
   ],
   "metadata": {
    "collapsed": false
   }
  },
  {
   "cell_type": "code",
   "execution_count": 63,
   "outputs": [
    {
     "data": {
      "text/plain": "                 r                                                        p  \\\n             count      mean       std       min       50%       max  count   \nset                                                                           \ndiscovery    100.0  0.282245  0.074809  0.008262  0.290902  0.448418  100.0   \nreplication  100.0  0.290239  0.055755  0.123305  0.297539  0.405440  100.0   \n\n                                                           \n                 mean       std     min     50%       max  \nset                                                        \ndiscovery    0.005037  0.044918  0.0001  0.0001  0.449455  \nreplication  0.000342  0.001728  0.0001  0.0001  0.017098  ",
      "text/html": "<div>\n<style scoped>\n    .dataframe tbody tr th:only-of-type {\n        vertical-align: middle;\n    }\n\n    .dataframe tbody tr th {\n        vertical-align: top;\n    }\n\n    .dataframe thead tr th {\n        text-align: left;\n    }\n\n    .dataframe thead tr:last-of-type th {\n        text-align: right;\n    }\n</style>\n<table border=\"1\" class=\"dataframe\">\n  <thead>\n    <tr>\n      <th></th>\n      <th colspan=\"6\" halign=\"left\">r</th>\n      <th colspan=\"6\" halign=\"left\">p</th>\n    </tr>\n    <tr>\n      <th></th>\n      <th>count</th>\n      <th>mean</th>\n      <th>std</th>\n      <th>min</th>\n      <th>50%</th>\n      <th>max</th>\n      <th>count</th>\n      <th>mean</th>\n      <th>std</th>\n      <th>min</th>\n      <th>50%</th>\n      <th>max</th>\n    </tr>\n    <tr>\n      <th>set</th>\n      <th></th>\n      <th></th>\n      <th></th>\n      <th></th>\n      <th></th>\n      <th></th>\n      <th></th>\n      <th></th>\n      <th></th>\n      <th></th>\n      <th></th>\n      <th></th>\n    </tr>\n  </thead>\n  <tbody>\n    <tr>\n      <th>discovery</th>\n      <td>100.0</td>\n      <td>0.282245</td>\n      <td>0.074809</td>\n      <td>0.008262</td>\n      <td>0.290902</td>\n      <td>0.448418</td>\n      <td>100.0</td>\n      <td>0.005037</td>\n      <td>0.044918</td>\n      <td>0.0001</td>\n      <td>0.0001</td>\n      <td>0.449455</td>\n    </tr>\n    <tr>\n      <th>replication</th>\n      <td>100.0</td>\n      <td>0.290239</td>\n      <td>0.055755</td>\n      <td>0.123305</td>\n      <td>0.297539</td>\n      <td>0.405440</td>\n      <td>100.0</td>\n      <td>0.000342</td>\n      <td>0.001728</td>\n      <td>0.0001</td>\n      <td>0.0001</td>\n      <td>0.017098</td>\n    </tr>\n  </tbody>\n</table>\n</div>"
     },
     "execution_count": 63,
     "metadata": {},
     "output_type": "execute_result"
    },
    {
     "data": {
      "text/plain": "<Figure size 288x144 with 1 Axes>",
      "image/png": "[encoded data removed]"
     },
     "metadata": {},
     "output_type": "display_data"
    }
   ],
   "source": [
    "plot_data = pd.DataFrame({\n",
    "    'r': np.concatenate((r_discovery_cv, r_replication)),\n",
    "    'p': np.concatenate((p_discovery_cv, p_replication)),\n",
    "    'set': np.concatenate((np.repeat('discovery', n_bootstrap), np.repeat('replication', n_bootstrap)))\n",
    "})\n",
    "sns.barplot(x='set', y='r', data=plot_data)\n",
    "plot_data.groupby('set').describe(percentiles = [0.5])"
   ],
   "metadata": {
    "collapsed": false,
    "pycharm": {
     "name": "#%%\n"
    }
   }
  },
  {
   "cell_type": "markdown",
   "source": [
    "### Let's plot the (permutation-based) p-values, too"
   ],
   "metadata": {
    "collapsed": false
   }
  },
  {
   "cell_type": "code",
   "execution_count": 64,
   "outputs": [
    {
     "data": {
      "text/plain": "<AxesSubplot:xlabel='set', ylabel='p'>"
     },
     "execution_count": 64,
     "metadata": {},
     "output_type": "execute_result"
    },
    {
     "data": {
      "text/plain": "<Figure size 288x144 with 1 Axes>",
      "image/png": "[encoded data removed]"
     },
     "metadata": {},
     "output_type": "display_data"
    }
   ],
   "source": [
    "sns.barplot(x='set', y='p', data=plot_data)"
   ],
   "metadata": {
    "collapsed": false,
    "pycharm": {
     "name": "#%%\n"
    }
   }
  },
  {
   "cell_type": "markdown",
   "source": [
    "### Plot all bootstrap cases: scatterplot of 'in-sample' vs. 'out-of-sample' r."
   ],
   "metadata": {
    "collapsed": false
   }
  },
  {
   "cell_type": "code",
   "execution_count": 65,
   "outputs": [
    {
     "data": {
      "text/plain": "Text(0.5, 0, 'out-of-sample (r_pred)')"
     },
     "execution_count": 65,
     "metadata": {},
     "output_type": "execute_result"
    },
    {
     "data": {
      "text/plain": "<Figure size 288x144 with 1 Axes>",
      "image/png": "[encoded data removed]"
     },
     "metadata": {},
     "output_type": "display_data"
    }
   ],
   "source": [
    "plot_data_wide = pd.DataFrame({\n",
    "    'r_discovery_cv': r_discovery_cv,\n",
    "    'r_replication': r_replication,\n",
    "    'p_discovery_cv': p_discovery_cv,\n",
    "    'p_replication': p_replication\n",
    "})\n",
    "sns.scatterplot(x='r_replication', y='r_discovery_cv', data=plot_data_wide)\n",
    "plt.ylabel('in-sample (r)')\n",
    "plt.xlabel('out-of-sample (r_pred)')"
   ],
   "metadata": {
    "collapsed": false,
    "pycharm": {
     "name": "#%%\n"
    }
   }
  },
  {
   "cell_type": "markdown",
   "source": [
    "## Replicability\n",
    "We compute replicability as ratio of cases where the replication sample gave significant predictions, given that the discovery sample gave significant predictions."
   ],
   "metadata": {
    "collapsed": false
   }
  },
  {
   "cell_type": "code",
   "execution_count": 66,
   "outputs": [
    {
     "name": "stdout",
     "output_type": "stream",
     "text": [
      "Replicability at alpha = 0.05 : 99 %\n",
      "Replicability at alpha = 0.01 : 97 %\n",
      "Replicability at alpha = 0.005 : 96 %\n",
      "Replicability at alpha = 0.001 : 83 %\n"
     ]
    }
   ],
   "source": [
    "for alpha in [0.05, 0.01, 0.005, 0.001]:\n",
    "    print('Replicability at alpha =', alpha, ':', (plot_data_wide.loc[plot_data_wide['p_discovery_cv']<alpha,'p_replication']<alpha).sum(), '%')"
   ],
   "metadata": {
    "collapsed": false,
    "pycharm": {
     "name": "#%%\n"
    }
   }
  },
  {
   "cell_type": "markdown",
   "metadata": {},
   "source": [
    "-------------------------------\n",
    "# Replicability with n=500\n",
    "Here we train one of the most straightforward models possible: a Ridge regression model.\n",
    "No hyperparameter optimization, no dimensionality reduction, no feature scaling, we really keep it simple!\n",
    "\n",
    "We define a workhorse function which:\n",
    "- randomly samples the discovery and the replication datasets,\n",
    "- creates cross-validated estimates of predictive performance within the discovery sample\n",
    "- finalizes the model by fitting it to the whole discovery sample (overfits the discovery but not the replication sample)\n",
    "- use it to predict the replication sample\n",
    "\n",
    "We aggregate the results of `n_bootstrap`=100 bootstrap cases (run in parallel)."
   ]
  },
  {
   "cell_type": "code",
   "execution_count": 67,
   "metadata": {
    "pycharm": {
     "name": "#%%\n"
    }
   },
   "outputs": [
    {
     "name": "stdout",
     "output_type": "stream",
     "text": [
      "CPU times: user 259 ms, sys: 95.7 ms, total: 355 ms\n",
      "Wall time: 1min 5s\n"
     ]
    }
   ],
   "source": [
    "%%time\n",
    "\n",
    "random_state = 42\n",
    "\n",
    "clf = Ridge() # no hyperparameter optimization\n",
    "\n",
    "n_bootstrap = 100\n",
    "sample_size = 499\n",
    "\n",
    "# nested cv\n",
    "outer_cv = KFold(10, shuffle=True, random_state=random_state)\n",
    "\n",
    "# loop for bootstrapped discovery and replication sets\n",
    "def bootstrap_workhorse(random_state):\n",
    "    X_discovery, X_replication, y_discovery, y_replication = train_test_split(X, y, train_size=sample_size, test_size=sample_size, shuffle=True, random_state=random_state)\n",
    "\n",
    "    predicted_discovery_cv = cross_val_predict(estimator=clf, X=X_discovery, y=y_discovery, cv=outer_cv, n_jobs=1)\n",
    "    r_disc_cv = np.corrcoef(predicted_discovery_cv, y_discovery)[0, 1]\n",
    "    # Finalize on full discovery set\n",
    "    final_model = clf.fit(X=X_discovery, y=y_discovery)\n",
    "\n",
    "    # Test on replication set\n",
    "    predicted_replication = final_model.predict(X=X_replication)\n",
    "    r_rep = np.corrcoef(predicted_replication, y_replication)[0, 1]\n",
    "\n",
    "    p_disc_cv = permutation_test(predicted_discovery_cv, y_discovery, method='approximate', num_rounds=10000, func=lambda x, y: np.corrcoef(x, y)[1][0],seed=random_state)\n",
    "    p_rep = permutation_test(predicted_replication, y_replication, method='approximate', num_rounds=10000, func=lambda x, y: np.corrcoef(x, y)[1][0],seed=random_state)\n",
    "\n",
    "    return r_disc_cv, r_rep, p_disc_cv, p_rep\n",
    "\n",
    "rng = np.random.default_rng(random_state)\n",
    "random_sates = rng.integers(np.iinfo(np.int32).max, size=n_bootstrap)\n",
    "\n",
    "r_discovery_cv, r_replication, p_discovery_cv, p_replication = zip(\n",
    "    *Parallel(n_jobs=-1)(\n",
    "    delayed(bootstrap_workhorse)(seed) for seed in random_sates))\n"
   ]
  },
  {
   "cell_type": "markdown",
   "metadata": {},
   "source": [
    "### Now we plot the Pearson-correlation between predicted and observed, both in case of the discovery and replication sample:"
   ]
  },
  {
   "cell_type": "code",
   "execution_count": 68,
   "metadata": {
    "pycharm": {
     "name": "#%%\n"
    }
   },
   "outputs": [
    {
     "data": {
      "text/plain": "                 r                                                        p  \\\n             count      mean       std       min       50%       max  count   \nset                                                                           \ndiscovery    100.0  0.282245  0.074809  0.008262  0.290902  0.448418  100.0   \nreplication  100.0  0.290239  0.055755  0.123305  0.297539  0.405440  100.0   \n\n                                                           \n                 mean       std     min     50%       max  \nset                                                        \ndiscovery    0.005037  0.044918  0.0001  0.0001  0.449455  \nreplication  0.000342  0.001728  0.0001  0.0001  0.017098  ",
      "text/html": "<div>\n<style scoped>\n    .dataframe tbody tr th:only-of-type {\n        vertical-align: middle;\n    }\n\n    .dataframe tbody tr th {\n        vertical-align: top;\n    }\n\n    .dataframe thead tr th {\n        text-align: left;\n    }\n\n    .dataframe thead tr:last-of-type th {\n        text-align: right;\n    }\n</style>\n<table border=\"1\" class=\"dataframe\">\n  <thead>\n    <tr>\n      <th></th>\n      <th colspan=\"6\" halign=\"left\">r</th>\n      <th colspan=\"6\" halign=\"left\">p</th>\n    </tr>\n    <tr>\n      <th></th>\n      <th>count</th>\n      <th>mean</th>\n      <th>std</th>\n      <th>min</th>\n      <th>50%</th>\n      <th>max</th>\n      <th>count</th>\n      <th>mean</th>\n      <th>std</th>\n      <th>min</th>\n      <th>50%</th>\n      <th>max</th>\n    </tr>\n    <tr>\n      <th>set</th>\n      <th></th>\n      <th></th>\n      <th></th>\n      <th></th>\n      <th></th>\n      <th></th>\n      <th></th>\n      <th></th>\n      <th></th>\n      <th></th>\n      <th></th>\n      <th></th>\n    </tr>\n  </thead>\n  <tbody>\n    <tr>\n      <th>discovery</th>\n      <td>100.0</td>\n      <td>0.282245</td>\n      <td>0.074809</td>\n      <td>0.008262</td>\n      <td>0.290902</td>\n      <td>0.448418</td>\n      <td>100.0</td>\n      <td>0.005037</td>\n      <td>0.044918</td>\n      <td>0.0001</td>\n      <td>0.0001</td>\n      <td>0.449455</td>\n    </tr>\n    <tr>\n      <th>replication</th>\n      <td>100.0</td>\n      <td>0.290239</td>\n      <td>0.055755</td>\n      <td>0.123305</td>\n      <td>0.297539</td>\n      <td>0.405440</td>\n      <td>100.0</td>\n      <td>0.000342</td>\n      <td>0.001728</td>\n      <td>0.0001</td>\n      <td>0.0001</td>\n      <td>0.017098</td>\n    </tr>\n  </tbody>\n</table>\n</div>"
     },
     "execution_count": 45,
     "metadata": {},
     "output_type": "execute_result"
    },
    {
     "data": {
      "text/plain": "<Figure size 288x144 with 1 Axes>",
      "image/png": "[encoded data removed]"
     },
     "metadata": {},
     "output_type": "display_data"
    },
    {
     "data": {
      "text/plain": "                 r                                                        p  \\\n             count      mean       std       min       50%       max  count   \nset                                                                           \ndiscovery    100.0  0.291326  0.045040  0.173846  0.293389  0.385425  100.0   \nreplication  100.0  0.301492  0.026734  0.227583  0.303643  0.352574  100.0   \n\n                                                             \n                 mean           std     min     50%     max  \nset                                                          \ndiscovery    0.000102  1.406912e-05  0.0001  0.0001  0.0002  \nreplication  0.000100  5.448321e-20  0.0001  0.0001  0.0001  ",
      "text/html": "<div>\n<style scoped>\n    .dataframe tbody tr th:only-of-type {\n        vertical-align: middle;\n    }\n\n    .dataframe tbody tr th {\n        vertical-align: top;\n    }\n\n    .dataframe thead tr th {\n        text-align: left;\n    }\n\n    .dataframe thead tr:last-of-type th {\n        text-align: right;\n    }\n</style>\n<table border=\"1\" class=\"dataframe\">\n  <thead>\n    <tr>\n      <th></th>\n      <th colspan=\"6\" halign=\"left\">r</th>\n      <th colspan=\"6\" halign=\"left\">p</th>\n    </tr>\n    <tr>\n      <th></th>\n      <th>count</th>\n      <th>mean</th>\n      <th>std</th>\n      <th>min</th>\n      <th>50%</th>\n      <th>max</th>\n      <th>count</th>\n      <th>mean</th>\n      <th>std</th>\n      <th>min</th>\n      <th>50%</th>\n      <th>max</th>\n    </tr>\n    <tr>\n      <th>set</th>\n      <th></th>\n      <th></th>\n      <th></th>\n      <th></th>\n      <th></th>\n      <th></th>\n      <th></th>\n      <th></th>\n      <th></th>\n      <th></th>\n      <th></th>\n      <th></th>\n    </tr>\n  </thead>\n  <tbody>\n    <tr>\n      <th>discovery</th>\n      <td>100.0</td>\n      <td>0.291326</td>\n      <td>0.045040</td>\n      <td>0.173846</td>\n      <td>0.293389</td>\n      <td>0.385425</td>\n      <td>100.0</td>\n      <td>0.000102</td>\n      <td>1.406912e-05</td>\n      <td>0.0001</td>\n      <td>0.0001</td>\n      <td>0.0002</td>\n    </tr>\n    <tr>\n      <th>replication</th>\n      <td>100.0</td>\n      <td>0.301492</td>\n      <td>0.026734</td>\n      <td>0.227583</td>\n      <td>0.303643</td>\n      <td>0.352574</td>\n      <td>100.0</td>\n      <td>0.000100</td>\n      <td>5.448321e-20</td>\n      <td>0.0001</td>\n      <td>0.0001</td>\n      <td>0.0001</td>\n    </tr>\n  </tbody>\n</table>\n</div>"
     },
     "execution_count": 68,
     "metadata": {},
     "output_type": "execute_result"
    },
    {
     "data": {
      "text/plain": "<Figure size 288x144 with 1 Axes>",
      "image/png": "[encoded data removed]"
     },
     "metadata": {},
     "output_type": "display_data"
    }
   ],
   "source": [
    "plot_data = pd.DataFrame({\n",
    "    'r': np.concatenate((r_discovery_cv, r_replication)),\n",
    "    'p': np.concatenate((p_discovery_cv, p_replication)),\n",
    "    'set': np.concatenate((np.repeat('discovery', n_bootstrap), np.repeat('replication', n_bootstrap)))\n",
    "})\n",
    "sns.barplot(x='set', y='r', data=plot_data)\n",
    "plot_data.groupby('set').describe(percentiles = [0.5])"
   ]
  },
  {
   "cell_type": "markdown",
   "metadata": {},
   "source": [
    "### Let's plot the (permutation-based) p-values, too"
   ]
  },
  {
   "cell_type": "code",
   "execution_count": 69,
   "metadata": {
    "pycharm": {
     "name": "#%%\n"
    }
   },
   "outputs": [
    {
     "data": {
      "text/plain": "<AxesSubplot:xlabel='set', ylabel='p'>"
     },
     "execution_count": 46,
     "metadata": {},
     "output_type": "execute_result"
    },
    {
     "data": {
      "text/plain": "<Figure size 288x144 with 1 Axes>",
      "image/png": "[encoded data removed]"
     },
     "metadata": {},
     "output_type": "display_data"
    },
    {
     "data": {
      "text/plain": "<AxesSubplot:xlabel='set', ylabel='p'>"
     },
     "execution_count": 69,
     "metadata": {},
     "output_type": "execute_result"
    },
    {
     "data": {
      "text/plain": "<Figure size 288x144 with 1 Axes>",
      "image/png": "[encoded data removed]"
     },
     "metadata": {},
     "output_type": "display_data"
    }
   ],
   "source": [
    "sns.barplot(x='set', y='p', data=plot_data)"
   ]
  },
  {
   "cell_type": "markdown",
   "metadata": {},
   "source": [
    "### Plot all bootstrap cases: scatterplot of 'in-sample' vs. 'out-of-sample' r."
   ]
  },
  {
   "cell_type": "code",
   "execution_count": 70,
   "metadata": {
    "pycharm": {
     "name": "#%%\n"
    }
   },
   "outputs": [
    {
     "data": {
      "text/plain": "Text(0.5, 0, 'out-of-sample (r_pred)')"
     },
     "execution_count": 47,
     "metadata": {},
     "output_type": "execute_result"
    },
    {
     "data": {
      "text/plain": "<Figure size 288x144 with 1 Axes>",
      "image/png": "[encoded data removed]"
     },
     "metadata": {},
     "output_type": "display_data"
    },
    {
     "data": {
      "text/plain": "Text(0.5, 0, 'out-of-sample (r_pred)')"
     },
     "execution_count": 70,
     "metadata": {},
     "output_type": "execute_result"
    },
    {
     "data": {
      "text/plain": "<Figure size 288x144 with 1 Axes>",
      "image/png": "[encoded data removed]"
     },
     "metadata": {},
     "output_type": "display_data"
    }
   ],
   "source": [
    "plot_data_wide = pd.DataFrame({\n",
    "    'r_discovery_cv': r_discovery_cv,\n",
    "    'r_replication': r_replication,\n",
    "    'p_discovery_cv': p_discovery_cv,\n",
    "    'p_replication': p_replication\n",
    "})\n",
    "sns.scatterplot(x='r_replication', y='r_discovery_cv', data=plot_data_wide)\n",
    "plt.ylabel('in-sample (r)')\n",
    "plt.xlabel('out-of-sample (r_pred)')"
   ]
  },
  {
   "cell_type": "markdown",
   "metadata": {},
   "source": [
    "## Replicability\n",
    "We compute replicability as ratio of cases where the replication sample gave significant predictions, given that the discovery sample gave significant predictions."
   ]
  },
  {
   "cell_type": "code",
   "execution_count": 72,
   "metadata": {
    "pycharm": {
     "name": "#%%\n"
    }
   },
   "outputs": [
    {
     "name": "stdout",
     "output_type": "stream",
     "text": [
      "Replicability at alpha = 0.05 : 100 %\n",
      "Replicability at alpha = 0.01 : 100 %\n",
      "Replicability at alpha = 0.005 : 100 %\n",
      "Replicability at alpha = 0.001 : 100 %\n"
     ]
    }
   ],
   "source": [
    "for alpha in [0.05, 0.01, 0.005, 0.001]:\n",
    "    print('Replicability at alpha =', alpha, ':', (plot_data_wide.loc[plot_data_wide['p_discovery_cv']<alpha,'p_replication']<alpha).sum(), '%')"
   ]
  },
  {
   "cell_type": "code",
   "execution_count": 71,
   "outputs": [],
   "source": [],
   "metadata": {
    "collapsed": false,
    "pycharm": {
     "name": "#%%\n"
    }
   }
  }
 ],
 "metadata": {
  "hide_input": false,
  "kernelspec": {
   "display_name": "Python 3 (ipykernel)",
   "language": "python",
   "name": "python3"
  },
  "language_info": {
   "codemirror_mode": {
    "name": "ipython",
    "version": 3
   },
   "file_extension": ".py",
   "mimetype": "text/x-python",
   "name": "python",
   "nbconvert_exporter": "python",
   "pygments_lexer": "ipython3",
   "version": "3.8.10"
  }
 },
 "nbformat": 4,
 "nbformat_minor": 2
}
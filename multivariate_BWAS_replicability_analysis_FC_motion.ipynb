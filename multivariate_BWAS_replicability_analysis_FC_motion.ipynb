{
 "cells": [
  {
   "cell_type": "markdown",
   "metadata": {},
   "source": [
    "# Analyzing replicability of connectivity-based multivariate BWAS on the Human Connectome Project dataset\n",
    "\n",
    "## Imports"
   ]
  },
  {
   "cell_type": "code",
   "execution_count": 53,
   "metadata": {
    "ExecuteTime": {
     "end_time": "2021-08-03T20:04:15.431840Z",
     "start_time": "2021-08-03T20:04:14.753565Z"
    }
   },
   "outputs": [],
   "source": [
    "import numpy as np\n",
    "import pandas as pd\n",
    "import seaborn as sns\n",
    "import matplotlib.pyplot as plt\n",
    "from sklearn.linear_model import Ridge\n",
    "from sklearn.svm import SVR\n",
    "from sklearn.model_selection import KFold, train_test_split\n",
    "from sklearn.pipeline import Pipeline\n",
    "from sklearn.decomposition import PCA\n",
    "from joblib import Parallel, delayed\n",
    "from mlxtend.evaluate import permutation_test\n",
    "sns.set(rc={\"figure.figsize\":(4, 2)})\n",
    "sns.set_style(\"whitegrid\")"
   ]
  },
  {
   "cell_type": "markdown",
   "metadata": {
    "pycharm": {
     "name": "#%% md\n"
    }
   },
   "source": [
    "## Load HCP data\n",
    "\n",
    "We load functional network matrices (netmats) from the HCP1200-release, as published on connectomeDB: https://db.humanconnectome.org/\n",
    "Due to licensoing issues, data is not supplied with the repository, but can be downloaded from the ConnectomeDB.\n",
    "See [hcp_data/readme.md](hcp_data/readme.md) for more details."
   ]
  },
  {
   "cell_type": "code",
   "execution_count": 54,
   "outputs": [
    {
     "data": {
      "text/plain": "array([[<AxesSubplot:title={'center':'motion'}>]], dtype=object)"
     },
     "execution_count": 54,
     "metadata": {},
     "output_type": "execute_result"
    },
    {
     "data": {
      "text/plain": "<Figure size 288x144 with 1 Axes>",
      "image/png": "[encoded data removed]"
     },
     "metadata": {},
     "output_type": "display_data"
    }
   ],
   "source": [
    "motion = pd.read_csv('hcp_data/motion.csv', index_col=0).set_index('ID', drop=True, inplace=False)\n",
    "motion.hist()"
   ],
   "metadata": {
    "collapsed": false,
    "pycharm": {
     "name": "#%%\n"
    }
   }
  },
  {
   "cell_type": "code",
   "execution_count": 55,
   "outputs": [
    {
     "data": {
      "text/plain": "       Release Acquisition Gender    Age  3T_Full_MR_Compl  T1_Count  \\\n100206    S900         Q11      M  26-30              True         1   \n100307      Q1         Q01      F  26-30              True         1   \n100408      Q3         Q03      M  31-35              True         1   \n100610    S900         Q08      M  26-30              True         2   \n101006    S500         Q06      F  31-35              True         2   \n...        ...         ...    ...    ...               ...       ...   \n992774      Q2         Q02      M  31-35              True         2   \n993675    S900         Q09      F  26-30              True         2   \n994273    S500         Q06      M  26-30              True         1   \n995174   S1200         Q13      M  22-25             False         1   \n996782    S900         Q08      F  26-30              True         2   \n\n        T2_Count  3T_RS-fMRI_Count  3T_RS-fMRI_PctCompl  3T_Full_Task_fMRI  \\\n100206         1                 4                100.0               True   \n100307         1                 4                100.0               True   \n100408         1                 4                100.0               True   \n100610         1                 4                100.0               True   \n101006         2                 4                100.0               True   \n...          ...               ...                  ...                ...   \n992774         2                 4                100.0               True   \n993675         2                 4                100.0               True   \n994273         1                 4                100.0               True   \n995174         1                 2                  0.0               True   \n996782         2                 4                100.0               True   \n\n        ...  Odor_AgeAdj  PainIntens_RawScore  PainInterf_Tscore  Taste_Unadj  \\\n100206  ...        97.19                  1.0               49.7        72.63   \n100307  ...        86.45                  0.0               38.6        71.69   \n100408  ...        98.04                  2.0               52.6       114.01   \n100610  ...       110.45                  0.0               38.6        84.84   \n101006  ...       111.41                  0.0               38.6       123.80   \n...     ...          ...                  ...                ...          ...   \n992774  ...       111.41                  4.0               50.1       107.17   \n993675  ...       110.45                  0.0               38.6        84.07   \n994273  ...       111.41                  7.0               63.8       110.65   \n995174  ...        64.58                  3.0               50.1       117.16   \n996782  ...        97.19                  0.0               38.6        75.43   \n\n        Taste_AgeAdj  Mars_Log_Score  Mars_Errs  Mars_Final    motion   age  \n100206         72.03            1.84        0.0        1.84  0.057224  28.0  \n100307         71.76            1.76        0.0        1.76  0.065499  28.0  \n100408        113.59            1.76        2.0        1.68  0.098191  33.0  \n100610         85.31            1.92        1.0        1.88  0.101858  28.0  \n101006        123.31            1.80        0.0        1.80  0.086306  33.0  \n...              ...             ...        ...         ...       ...   ...  \n992774        103.55            1.76        0.0        1.76  0.071538  33.0  \n993675         84.25            1.80        1.0        1.76  0.084067  28.0  \n994273        109.73            1.80        1.0        1.76  0.083142  28.0  \n995174        117.40            1.80        0.0        1.80  0.094121  23.5  \n996782         73.72            1.84        0.0        1.84  0.062667  28.0  \n\n[1094 rows x 583 columns]",
      "text/html": "<div>\n<style scoped>\n    .dataframe tbody tr th:only-of-type {\n        vertical-align: middle;\n    }\n\n    .dataframe tbody tr th {\n        vertical-align: top;\n    }\n\n    .dataframe thead th {\n        text-align: right;\n    }\n</style>\n<table border=\"1\" class=\"dataframe\">\n  <thead>\n    <tr style=\"text-align: right;\">\n      <th></th>\n      <th>Release</th>\n      <th>Acquisition</th>\n      <th>Gender</th>\n      <th>Age</th>\n      <th>3T_Full_MR_Compl</th>\n      <th>T1_Count</th>\n      <th>T2_Count</th>\n      <th>3T_RS-fMRI_Count</th>\n      <th>3T_RS-fMRI_PctCompl</th>\n      <th>3T_Full_Task_fMRI</th>\n      <th>...</th>\n      <th>Odor_AgeAdj</th>\n      <th>PainIntens_RawScore</th>\n      <th>PainInterf_Tscore</th>\n      <th>Taste_Unadj</th>\n      <th>Taste_AgeAdj</th>\n      <th>Mars_Log_Score</th>\n      <th>Mars_Errs</th>\n      <th>Mars_Final</th>\n      <th>motion</th>\n      <th>age</th>\n    </tr>\n  </thead>\n  <tbody>\n    <tr>\n      <th>100206</th>\n      <td>S900</td>\n      <td>Q11</td>\n      <td>M</td>\n      <td>26-30</td>\n      <td>True</td>\n      <td>1</td>\n      <td>1</td>\n      <td>4</td>\n      <td>100.0</td>\n      <td>True</td>\n      <td>...</td>\n      <td>97.19</td>\n      <td>1.0</td>\n      <td>49.7</td>\n      <td>72.63</td>\n      <td>72.03</td>\n      <td>1.84</td>\n      <td>0.0</td>\n      <td>1.84</td>\n      <td>0.057224</td>\n      <td>28.0</td>\n    </tr>\n    <tr>\n      <th>100307</th>\n      <td>Q1</td>\n      <td>Q01</td>\n      <td>F</td>\n      <td>26-30</td>\n      <td>True</td>\n      <td>1</td>\n      <td>1</td>\n      <td>4</td>\n      <td>100.0</td>\n      <td>True</td>\n      <td>...</td>\n      <td>86.45</td>\n      <td>0.0</td>\n      <td>38.6</td>\n      <td>71.69</td>\n      <td>71.76</td>\n      <td>1.76</td>\n      <td>0.0</td>\n      <td>1.76</td>\n      <td>0.065499</td>\n      <td>28.0</td>\n    </tr>\n    <tr>\n      <th>100408</th>\n      <td>Q3</td>\n      <td>Q03</td>\n      <td>M</td>\n      <td>31-35</td>\n      <td>True</td>\n      <td>1</td>\n      <td>1</td>\n      <td>4</td>\n      <td>100.0</td>\n      <td>True</td>\n      <td>...</td>\n      <td>98.04</td>\n      <td>2.0</td>\n      <td>52.6</td>\n      <td>114.01</td>\n      <td>113.59</td>\n      <td>1.76</td>\n      <td>2.0</td>\n      <td>1.68</td>\n      <td>0.098191</td>\n      <td>33.0</td>\n    </tr>\n    <tr>\n      <th>100610</th>\n      <td>S900</td>\n      <td>Q08</td>\n      <td>M</td>\n      <td>26-30</td>\n      <td>True</td>\n      <td>2</td>\n      <td>1</td>\n      <td>4</td>\n      <td>100.0</td>\n      <td>True</td>\n      <td>...</td>\n      <td>110.45</td>\n      <td>0.0</td>\n      <td>38.6</td>\n      <td>84.84</td>\n      <td>85.31</td>\n      <td>1.92</td>\n      <td>1.0</td>\n      <td>1.88</td>\n      <td>0.101858</td>\n      <td>28.0</td>\n    </tr>\n    <tr>\n      <th>101006</th>\n      <td>S500</td>\n      <td>Q06</td>\n      <td>F</td>\n      <td>31-35</td>\n      <td>True</td>\n      <td>2</td>\n      <td>2</td>\n      <td>4</td>\n      <td>100.0</td>\n      <td>True</td>\n      <td>...</td>\n      <td>111.41</td>\n      <td>0.0</td>\n      <td>38.6</td>\n      <td>123.80</td>\n      <td>123.31</td>\n      <td>1.80</td>\n      <td>0.0</td>\n      <td>1.80</td>\n      <td>0.086306</td>\n      <td>33.0</td>\n    </tr>\n    <tr>\n      <th>...</th>\n      <td>...</td>\n      <td>...</td>\n      <td>...</td>\n      <td>...</td>\n      <td>...</td>\n      <td>...</td>\n      <td>...</td>\n      <td>...</td>\n      <td>...</td>\n      <td>...</td>\n      <td>...</td>\n      <td>...</td>\n      <td>...</td>\n      <td>...</td>\n      <td>...</td>\n      <td>...</td>\n      <td>...</td>\n      <td>...</td>\n      <td>...</td>\n      <td>...</td>\n      <td>...</td>\n    </tr>\n    <tr>\n      <th>992774</th>\n      <td>Q2</td>\n      <td>Q02</td>\n      <td>M</td>\n      <td>31-35</td>\n      <td>True</td>\n      <td>2</td>\n      <td>2</td>\n      <td>4</td>\n      <td>100.0</td>\n      <td>True</td>\n      <td>...</td>\n      <td>111.41</td>\n      <td>4.0</td>\n      <td>50.1</td>\n      <td>107.17</td>\n      <td>103.55</td>\n      <td>1.76</td>\n      <td>0.0</td>\n      <td>1.76</td>\n      <td>0.071538</td>\n      <td>33.0</td>\n    </tr>\n    <tr>\n      <th>993675</th>\n      <td>S900</td>\n      <td>Q09</td>\n      <td>F</td>\n      <td>26-30</td>\n      <td>True</td>\n      <td>2</td>\n      <td>2</td>\n      <td>4</td>\n      <td>100.0</td>\n      <td>True</td>\n      <td>...</td>\n      <td>110.45</td>\n      <td>0.0</td>\n      <td>38.6</td>\n      <td>84.07</td>\n      <td>84.25</td>\n      <td>1.80</td>\n      <td>1.0</td>\n      <td>1.76</td>\n      <td>0.084067</td>\n      <td>28.0</td>\n    </tr>\n    <tr>\n      <th>994273</th>\n      <td>S500</td>\n      <td>Q06</td>\n      <td>M</td>\n      <td>26-30</td>\n      <td>True</td>\n      <td>1</td>\n      <td>1</td>\n      <td>4</td>\n      <td>100.0</td>\n      <td>True</td>\n      <td>...</td>\n      <td>111.41</td>\n      <td>7.0</td>\n      <td>63.8</td>\n      <td>110.65</td>\n      <td>109.73</td>\n      <td>1.80</td>\n      <td>1.0</td>\n      <td>1.76</td>\n      <td>0.083142</td>\n      <td>28.0</td>\n    </tr>\n    <tr>\n      <th>995174</th>\n      <td>S1200</td>\n      <td>Q13</td>\n      <td>M</td>\n      <td>22-25</td>\n      <td>False</td>\n      <td>1</td>\n      <td>1</td>\n      <td>2</td>\n      <td>0.0</td>\n      <td>True</td>\n      <td>...</td>\n      <td>64.58</td>\n      <td>3.0</td>\n      <td>50.1</td>\n      <td>117.16</td>\n      <td>117.40</td>\n      <td>1.80</td>\n      <td>0.0</td>\n      <td>1.80</td>\n      <td>0.094121</td>\n      <td>23.5</td>\n    </tr>\n    <tr>\n      <th>996782</th>\n      <td>S900</td>\n      <td>Q08</td>\n      <td>F</td>\n      <td>26-30</td>\n      <td>True</td>\n      <td>2</td>\n      <td>2</td>\n      <td>4</td>\n      <td>100.0</td>\n      <td>True</td>\n      <td>...</td>\n      <td>97.19</td>\n      <td>0.0</td>\n      <td>38.6</td>\n      <td>75.43</td>\n      <td>73.72</td>\n      <td>1.84</td>\n      <td>0.0</td>\n      <td>1.84</td>\n      <td>0.062667</td>\n      <td>28.0</td>\n    </tr>\n  </tbody>\n</table>\n<p>1094 rows × 583 columns</p>\n</div>"
     },
     "execution_count": 55,
     "metadata": {},
     "output_type": "execute_result"
    }
   ],
   "source": [
    "# HCP data can be obtained from the connectomeDB\n",
    "# data is not part of this repository\n",
    "subjectIDs = pd.read_csv('hcp_data/subjectIDs.txt', header=None)\n",
    "\n",
    "netmats_pearson = pd.read_csv('hcp_data/netmats1_correlationZ.txt',\n",
    "                             sep=' ',\n",
    "                             header=None)\n",
    "netmats_pearson['ID'] = subjectIDs[0]\n",
    "netmats_pearson.set_index('ID', drop=True, inplace=True)\n",
    "\n",
    "\n",
    "netmats_parcor = pd.read_csv('hcp_data/netmats2_partial-correlation.txt',\n",
    "                             sep=' ',\n",
    "                             header=None)\n",
    "netmats_parcor['ID'] = subjectIDs[0]\n",
    "netmats_parcor.set_index('ID', drop=True, inplace=True)\n",
    "\n",
    "behavior = pd.read_csv('hcp_data/hcp1200_behavioral_data.csv')\n",
    "behavior = behavior.set_index('Subject', drop=True)\n",
    "\n",
    "# add motion\n",
    "behavior = behavior.merge(motion, left_index=True, right_index=True)\n",
    "\n",
    "# convert age to numeric\n",
    "age = []\n",
    "for s in behavior['Age']:\n",
    "    if s == '36+':\n",
    "        age.append(36)\n",
    "    else:\n",
    "        split = s.split(sep='-')\n",
    "        age.append(np.mean((float(split[0]), float(split[1]))))\n",
    "\n",
    "behavior['age'] = age\n",
    "behavior"
   ],
   "metadata": {
    "collapsed": false,
    "pycharm": {
     "name": "#%%\n"
    }
   }
  },
  {
   "cell_type": "markdown",
   "source": [
    "# Function to prepare target variable\n"
   ],
   "metadata": {
    "collapsed": false
   }
  },
  {
   "cell_type": "code",
   "execution_count": 69,
   "outputs": [],
   "source": [
    "def create_data(target='CogTotalComp_AgeAdj', feature_data=netmats_parcor, motion_threshold = 0.2, sample_size=None, random_state=None):\n",
    "    # it's a good practice to use pandas for merging, messing up subject order can be painful\n",
    "    features = feature_data.columns\n",
    "    df = behavior\n",
    "    df = df.merge(feature_data, left_index=True, right_index=True, how='left')\n",
    "\n",
    "    df = df.dropna(subset = [target] + features.values.tolist())\n",
    "    df = df[df.motion <= motion_threshold]\n",
    "\n",
    "    if sample_size:\n",
    "        df = df.sample(sample_size, replace=False, random_state=random_state)\n",
    "\n",
    "    y = df[target].values\n",
    "    X = df[features].values\n",
    "\n",
    "    return X, y"
   ],
   "metadata": {
    "collapsed": false,
    "pycharm": {
     "name": "#%%\n"
    }
   }
  },
  {
   "cell_type": "code",
   "execution_count": 70,
   "outputs": [],
   "source": [
    "def bootstrap_workhorse(model, target, feature_data, motion_threshold, sample_size, random_state):\n",
    "    X, y = create_data(target=target, feature_data=feature_data, motion_threshold=motion_threshold, sample_size=sample_size, random_state=random_state)\n",
    "\n",
    "    predicted_discovery_cv = np.zeros_like(y)\n",
    "    i = 0\n",
    "    cv = KFold(10, shuffle=True, random_state=random_state)\n",
    "    cor_per_fold = np.zeros(cv.n_splits)\n",
    "    for train, test in cv.split(X=X, y=y):\n",
    "        model.fit(X=X[train], y=y[train])\n",
    "        predicted_discovery_cv[test] = model.predict(X=X[test])\n",
    "        cor_per_fold[i] = np.corrcoef(y[test], predicted_discovery_cv[test])[0,1]\n",
    "        i += 1\n",
    "    # correlation between the cross-validated predictions and observations in the discovery sample\n",
    "    # this is the correct, unbiased estimate!\n",
    "    # calculated as mean test performance across all folds\n",
    "    r_disc_cv = np.mean(cor_per_fold)\n",
    "    return r_disc_cv\n"
   ],
   "metadata": {
    "collapsed": false,
    "pycharm": {
     "name": "#%%\n"
    }
   }
  },
  {
   "cell_type": "code",
   "execution_count": 81,
   "outputs": [
    {
     "name": "stdout",
     "output_type": "stream",
     "text": [
      "age 0.1\n",
      "r = 0.52 \tR2 = 26.8 %\n",
      "age 0.12\n",
      "r = 0.51 \tR2 = 26.3 %\n",
      "age 0.14\n",
      "r = 0.51 \tR2 = 26.0 %\n",
      "age 0.16\n",
      "r = 0.5 \tR2 = 24.6 %\n",
      "age 0.18\n",
      "r = 0.51 \tR2 = 25.9 %\n",
      "age 0.2\n",
      "r = 0.51 \tR2 = 26.0 %\n",
      "age 0.22\n",
      "r = 0.51 \tR2 = 26.0 %\n",
      "age 0.24\n",
      "r = 0.51 \tR2 = 26.1 %\n",
      "age 0.26\n",
      "r = 0.51 \tR2 = 26.4 %\n",
      "age 0.302853\n",
      "r = 0.51 \tR2 = 26.2 %\n",
      "CogTotalComp_AgeAdj 0.1\n",
      "r = 0.48 \tR2 = 22.9 %\n",
      "CogTotalComp_AgeAdj 0.12\n",
      "r = 0.47 \tR2 = 21.7 %\n",
      "CogTotalComp_AgeAdj 0.14\n",
      "r = 0.48 \tR2 = 23.0 %\n",
      "CogTotalComp_AgeAdj 0.16\n",
      "r = 0.48 \tR2 = 22.9 %\n",
      "CogTotalComp_AgeAdj 0.18\n",
      "r = 0.49 \tR2 = 23.8 %\n",
      "CogTotalComp_AgeAdj 0.2\n",
      "r = 0.48 \tR2 = 23.4 %\n",
      "CogTotalComp_AgeAdj 0.22\n",
      "r = 0.49 \tR2 = 23.8 %\n",
      "CogTotalComp_AgeAdj 0.24\n",
      "r = 0.49 \tR2 = 24.1 %\n",
      "CogTotalComp_AgeAdj 0.26\n",
      "r = 0.49 \tR2 = 24.1 %\n",
      "CogTotalComp_AgeAdj 0.302853\n",
      "r = 0.49 \tR2 = 23.9 %\n",
      "PMAT24_A_CR 0.1\n",
      "r = 0.26 \tR2 = 6.8 %\n",
      "PMAT24_A_CR 0.12\n",
      "r = 0.26 \tR2 = 6.6 %\n",
      "PMAT24_A_CR 0.14\n",
      "r = 0.29 \tR2 = 8.2 %\n",
      "PMAT24_A_CR 0.16\n",
      "r = 0.29 \tR2 = 8.6 %\n",
      "PMAT24_A_CR 0.18\n",
      "r = 0.3 \tR2 = 9.1 %\n",
      "PMAT24_A_CR 0.2\n",
      "r = 0.3 \tR2 = 9.0 %\n",
      "PMAT24_A_CR 0.22\n",
      "r = 0.29 \tR2 = 8.7 %\n",
      "PMAT24_A_CR 0.24\n",
      "r = 0.3 \tR2 = 8.7 %\n",
      "PMAT24_A_CR 0.26\n",
      "r = 0.3 \tR2 = 8.7 %\n",
      "PMAT24_A_CR 0.302853\n",
      "r = 0.3 \tR2 = 8.9 %\n",
      "Flanker_AgeAdj 0.1\n",
      "r = 0.1 \tR2 = 1.0 %\n",
      "Flanker_AgeAdj 0.12\n",
      "r = 0.16 \tR2 = 2.4 %\n",
      "Flanker_AgeAdj 0.14\n",
      "r = 0.16 \tR2 = 2.5 %\n",
      "Flanker_AgeAdj 0.16\n",
      "r = 0.15 \tR2 = 2.3 %\n",
      "Flanker_AgeAdj 0.18\n",
      "r = 0.15 \tR2 = 2.1 %\n",
      "Flanker_AgeAdj 0.2\n",
      "r = 0.14 \tR2 = 2.1 %\n",
      "Flanker_AgeAdj 0.22\n",
      "r = 0.14 \tR2 = 2.0 %\n",
      "Flanker_AgeAdj 0.24\n",
      "r = 0.14 \tR2 = 1.9 %\n",
      "Flanker_AgeAdj 0.26\n",
      "r = 0.14 \tR2 = 1.9 %\n",
      "Flanker_AgeAdj 0.302853\n",
      "r = 0.14 \tR2 = 2.1 %\n",
      "CardSort_AgeAdj 0.1\n",
      "r = 0.15 \tR2 = 2.4 %\n",
      "CardSort_AgeAdj 0.12\n",
      "r = 0.19 \tR2 = 3.7 %\n",
      "CardSort_AgeAdj 0.14\n",
      "r = 0.2 \tR2 = 3.9 %\n",
      "CardSort_AgeAdj 0.16\n",
      "r = 0.2 \tR2 = 4.0 %\n",
      "CardSort_AgeAdj 0.18\n",
      "r = 0.2 \tR2 = 4.2 %\n",
      "CardSort_AgeAdj 0.2\n",
      "r = 0.2 \tR2 = 3.9 %\n",
      "CardSort_AgeAdj 0.22\n",
      "r = 0.2 \tR2 = 4.1 %\n",
      "CardSort_AgeAdj 0.24\n",
      "r = 0.21 \tR2 = 4.4 %\n",
      "CardSort_AgeAdj 0.26\n",
      "r = 0.21 \tR2 = 4.4 %\n",
      "CardSort_AgeAdj 0.302853\n",
      "r = 0.21 \tR2 = 4.2 %\n",
      "PicSeq_AgeAdj 0.1\n",
      "r = 0.17 \tR2 = 3.0 %\n",
      "PicSeq_AgeAdj 0.12\n",
      "r = 0.15 \tR2 = 2.3 %\n",
      "PicSeq_AgeAdj 0.14\n",
      "r = 0.16 \tR2 = 2.5 %\n",
      "PicSeq_AgeAdj 0.16\n",
      "r = 0.15 \tR2 = 2.3 %\n",
      "PicSeq_AgeAdj 0.18\n",
      "r = 0.16 \tR2 = 2.4 %\n",
      "PicSeq_AgeAdj 0.2\n",
      "r = 0.17 \tR2 = 2.8 %\n",
      "PicSeq_AgeAdj 0.22\n",
      "r = 0.18 \tR2 = 3.2 %\n",
      "PicSeq_AgeAdj 0.24\n",
      "r = 0.18 \tR2 = 3.2 %\n",
      "PicSeq_AgeAdj 0.26\n",
      "r = 0.17 \tR2 = 2.9 %\n",
      "PicSeq_AgeAdj 0.302853\n",
      "r = 0.18 \tR2 = 3.1 %\n"
     ]
    }
   ],
   "source": [
    "model = Ridge()\n",
    "feature_data = netmats_parcor\n",
    "\n",
    "random_state = 42\n",
    "\n",
    "targets = []\n",
    "motion_thrs = []\n",
    "cv_rs = []\n",
    "\n",
    "n_bootstrap = 100\n",
    "motion_thresholds = [0.1, 0.12, 0.14, 0.16, 0.18, 0.2, 0.22, 0.24, 0.26, motion.max().values[0]]\n",
    "\n",
    "for target_var in ['age', 'CogTotalComp_AgeAdj', 'PMAT24_A_CR', 'Flanker_AgeAdj', 'CardSort_AgeAdj', 'PicSeq_AgeAdj']:\n",
    "\n",
    "    # obtain smalles sample size\n",
    "    X, y = create_data(target=target_var, feature_data=netmats_pearson, motion_threshold=min(motion_thresholds))\n",
    "    sample_size = len(y)\n",
    "\n",
    "    for motion_thr in motion_thresholds:\n",
    "        print(target_var, motion_thr)\n",
    "\n",
    "        # create random seeds for each bootstrap iteration for reproducibility\n",
    "        rng = np.random.default_rng(random_state)\n",
    "        random_sates = rng.integers(np.iinfo(np.int32).max, size=n_bootstrap)\n",
    "        # run bootstrap iterations in parallel\n",
    "        r = Parallel(n_jobs=-1)(delayed(bootstrap_workhorse)(model=model, target=target_var, feature_data=feature_data, motion_threshold=motion_thr, sample_size=sample_size, random_state=seed) for seed in random_sates)\n",
    "\n",
    "\n",
    "        targets += [target_var]*n_bootstrap\n",
    "        motion_thrs += [motion_thr]*n_bootstrap\n",
    "        cv_rs += r\n",
    "        mean_r = np.mean(r)\n",
    "\n",
    "        print('r =', np.round(mean_r, 2), '\\tR2 =', np.round(mean_r**2 * 100, 1),  '%')\n",
    "\n",
    "df = pd.DataFrame({\n",
    "    'target': targets,\n",
    "    'motion threshold': motion_thrs,\n",
    "    'r': cv_rs\n",
    "})"
   ],
   "metadata": {
    "collapsed": false,
    "pycharm": {
     "name": "#%%\n"
    }
   }
  },
  {
   "cell_type": "code",
   "execution_count": 88,
   "outputs": [
    {
     "data": {
      "text/plain": "<Figure size 1296x144 with 6 Axes>",
      "image/png": "[encoded data removed]"
     },
     "metadata": {},
     "output_type": "display_data"
    }
   ],
   "source": [
    "sns.set_style(\"white\")\n",
    "\n",
    "palette = {\n",
    "    'age' : 'tab:blue',\n",
    "    'CogTotalComp_AgeAdj' : 'tab:green',\n",
    "    'PMAT24_A_CR' : 'tab:orange',\n",
    "    'Flanker_AgeAdj' : 'tab:purple',\n",
    "    'CardSort_AgeAdj' : 'tab:red',\n",
    "    'PicSeq_AgeAdj' : 'tab:brown'\n",
    "}\n",
    "\n",
    "g = sns.FacetGrid(df, col=\"target\", hue=\"target\", height=2, aspect=1.5, palette=palette, sharey=False,\n",
    "                  col_order=['age', 'CogTotalComp_AgeAdj', 'PMAT24_A_CR', 'PicSeq_AgeAdj', 'CardSort_AgeAdj', 'Flanker_AgeAdj'])\n",
    "g.map(sns.lineplot, 'motion threshold', 'r', ci='sd')\n",
    "#g.refline(y=0)\n",
    "plt.savefig('fig/motion_dependence_parcor_Ridge_all.pdf')"
   ],
   "metadata": {
    "collapsed": false,
    "pycharm": {
     "name": "#%%\n"
    }
   }
  },
  {
   "cell_type": "code",
   "execution_count": null,
   "outputs": [],
   "source": [],
   "metadata": {
    "collapsed": false,
    "pycharm": {
     "name": "#%%\n"
    }
   }
  }
 ],
 "metadata": {
  "hide_input": false,
  "kernelspec": {
   "display_name": "Python 3 (ipykernel)",
   "language": "python",
   "name": "python3"
  },
  "language_info": {
   "codemirror_mode": {
    "name": "ipython",
    "version": 3
   },
   "file_extension": ".py",
   "mimetype": "text/x-python",
   "name": "python",
   "nbconvert_exporter": "python",
   "pygments_lexer": "ipython3",
   "version": "3.8.10"
  }
 },
 "nbformat": 4,
 "nbformat_minor": 2
}